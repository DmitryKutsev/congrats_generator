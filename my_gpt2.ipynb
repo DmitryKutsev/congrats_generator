{
 "nbformat": 4,
 "nbformat_minor": 0,
 "metadata": {
  "colab": {
   "name": "Untitled67.ipynb",
   "provenance": [],
   "collapsed_sections": [
    "JPATuJNXNibP"
   ],
   "authorship_tag": "ABX9TyMFZa5IbGeN+iQL/Jh5cSLd",
   "include_colab_link": true
  },
  "kernelspec": {
   "name": "python3",
   "display_name": "Python 3"
  },
  "language_info": {
   "name": "python"
  },
  "widgets": {
   "application/vnd.jupyter.widget-state+json": {
    "2e58aca2a5bf4b57a0744551ae85809f": {
     "model_module": "@jupyter-widgets/controls",
     "model_name": "HBoxModel",
     "model_module_version": "1.5.0",
     "state": {
      "_view_name": "HBoxView",
      "_dom_classes": [],
      "_model_name": "HBoxModel",
      "_view_module": "@jupyter-widgets/controls",
      "_model_module_version": "1.5.0",
      "_view_count": null,
      "_view_module_version": "1.5.0",
      "box_style": "",
      "layout": "IPY_MODEL_46898dfe073a49b587bbc6121771f0b4",
      "_model_module": "@jupyter-widgets/controls",
      "children": [
       "IPY_MODEL_ca5ed69075a445319604c7d2dde7d9c3",
       "IPY_MODEL_eeb787e67c3f46719be537ef5accb31d",
       "IPY_MODEL_afbc29f70adc44aa9f22be315c252367"
      ]
     }
    },
    "46898dfe073a49b587bbc6121771f0b4": {
     "model_module": "@jupyter-widgets/base",
     "model_name": "LayoutModel",
     "model_module_version": "1.2.0",
     "state": {
      "_view_name": "LayoutView",
      "grid_template_rows": null,
      "right": null,
      "justify_content": null,
      "_view_module": "@jupyter-widgets/base",
      "overflow": null,
      "_model_module_version": "1.2.0",
      "_view_count": null,
      "flex_flow": null,
      "width": null,
      "min_width": null,
      "border": null,
      "align_items": null,
      "bottom": null,
      "_model_module": "@jupyter-widgets/base",
      "top": null,
      "grid_column": null,
      "overflow_y": null,
      "overflow_x": null,
      "grid_auto_flow": null,
      "grid_area": null,
      "grid_template_columns": null,
      "flex": null,
      "_model_name": "LayoutModel",
      "justify_items": null,
      "grid_row": null,
      "max_height": null,
      "align_content": null,
      "visibility": null,
      "align_self": null,
      "height": null,
      "min_height": null,
      "padding": null,
      "grid_auto_rows": null,
      "grid_gap": null,
      "max_width": null,
      "order": null,
      "_view_module_version": "1.2.0",
      "grid_template_areas": null,
      "object_position": null,
      "object_fit": null,
      "grid_auto_columns": null,
      "margin": null,
      "display": null,
      "left": null
     }
    },
    "ca5ed69075a445319604c7d2dde7d9c3": {
     "model_module": "@jupyter-widgets/controls",
     "model_name": "HTMLModel",
     "model_module_version": "1.5.0",
     "state": {
      "_view_name": "HTMLView",
      "style": "IPY_MODEL_36bfe70302764177b450c39322588956",
      "_dom_classes": [],
      "description": "",
      "_model_name": "HTMLModel",
      "placeholder": "​",
      "_view_module": "@jupyter-widgets/controls",
      "_model_module_version": "1.5.0",
      "value": "Downloading: 100%",
      "_view_count": null,
      "_view_module_version": "1.5.0",
      "description_tooltip": null,
      "_model_module": "@jupyter-widgets/controls",
      "layout": "IPY_MODEL_a5b83369eb864280a42acaefa46a8ab7"
     }
    },
    "eeb787e67c3f46719be537ef5accb31d": {
     "model_module": "@jupyter-widgets/controls",
     "model_name": "FloatProgressModel",
     "model_module_version": "1.5.0",
     "state": {
      "_view_name": "ProgressView",
      "style": "IPY_MODEL_4b62c15904544207a65b3425cc5cbac2",
      "_dom_classes": [],
      "description": "",
      "_model_name": "FloatProgressModel",
      "bar_style": "success",
      "max": 551290714,
      "_view_module": "@jupyter-widgets/controls",
      "_model_module_version": "1.5.0",
      "value": 551290714,
      "_view_count": null,
      "_view_module_version": "1.5.0",
      "orientation": "horizontal",
      "min": 0,
      "description_tooltip": null,
      "_model_module": "@jupyter-widgets/controls",
      "layout": "IPY_MODEL_e487c54ffcd34ab1a5cdd364508a8409"
     }
    },
    "afbc29f70adc44aa9f22be315c252367": {
     "model_module": "@jupyter-widgets/controls",
     "model_name": "HTMLModel",
     "model_module_version": "1.5.0",
     "state": {
      "_view_name": "HTMLView",
      "style": "IPY_MODEL_7417c951967047b68379091bcaa8d1ae",
      "_dom_classes": [],
      "description": "",
      "_model_name": "HTMLModel",
      "placeholder": "​",
      "_view_module": "@jupyter-widgets/controls",
      "_model_module_version": "1.5.0",
      "value": " 526M/526M [00:19&lt;00:00, 35.0MB/s]",
      "_view_count": null,
      "_view_module_version": "1.5.0",
      "description_tooltip": null,
      "_model_module": "@jupyter-widgets/controls",
      "layout": "IPY_MODEL_bed71cb972bd481c943106205f8d0e2a"
     }
    },
    "36bfe70302764177b450c39322588956": {
     "model_module": "@jupyter-widgets/controls",
     "model_name": "DescriptionStyleModel",
     "model_module_version": "1.5.0",
     "state": {
      "_view_name": "StyleView",
      "_model_name": "DescriptionStyleModel",
      "description_width": "",
      "_view_module": "@jupyter-widgets/base",
      "_model_module_version": "1.5.0",
      "_view_count": null,
      "_view_module_version": "1.2.0",
      "_model_module": "@jupyter-widgets/controls"
     }
    },
    "a5b83369eb864280a42acaefa46a8ab7": {
     "model_module": "@jupyter-widgets/base",
     "model_name": "LayoutModel",
     "model_module_version": "1.2.0",
     "state": {
      "_view_name": "LayoutView",
      "grid_template_rows": null,
      "right": null,
      "justify_content": null,
      "_view_module": "@jupyter-widgets/base",
      "overflow": null,
      "_model_module_version": "1.2.0",
      "_view_count": null,
      "flex_flow": null,
      "width": null,
      "min_width": null,
      "border": null,
      "align_items": null,
      "bottom": null,
      "_model_module": "@jupyter-widgets/base",
      "top": null,
      "grid_column": null,
      "overflow_y": null,
      "overflow_x": null,
      "grid_auto_flow": null,
      "grid_area": null,
      "grid_template_columns": null,
      "flex": null,
      "_model_name": "LayoutModel",
      "justify_items": null,
      "grid_row": null,
      "max_height": null,
      "align_content": null,
      "visibility": null,
      "align_self": null,
      "height": null,
      "min_height": null,
      "padding": null,
      "grid_auto_rows": null,
      "grid_gap": null,
      "max_width": null,
      "order": null,
      "_view_module_version": "1.2.0",
      "grid_template_areas": null,
      "object_position": null,
      "object_fit": null,
      "grid_auto_columns": null,
      "margin": null,
      "display": null,
      "left": null
     }
    },
    "4b62c15904544207a65b3425cc5cbac2": {
     "model_module": "@jupyter-widgets/controls",
     "model_name": "ProgressStyleModel",
     "model_module_version": "1.5.0",
     "state": {
      "_view_name": "StyleView",
      "_model_name": "ProgressStyleModel",
      "description_width": "",
      "_view_module": "@jupyter-widgets/base",
      "_model_module_version": "1.5.0",
      "_view_count": null,
      "_view_module_version": "1.2.0",
      "bar_color": null,
      "_model_module": "@jupyter-widgets/controls"
     }
    },
    "e487c54ffcd34ab1a5cdd364508a8409": {
     "model_module": "@jupyter-widgets/base",
     "model_name": "LayoutModel",
     "model_module_version": "1.2.0",
     "state": {
      "_view_name": "LayoutView",
      "grid_template_rows": null,
      "right": null,
      "justify_content": null,
      "_view_module": "@jupyter-widgets/base",
      "overflow": null,
      "_model_module_version": "1.2.0",
      "_view_count": null,
      "flex_flow": null,
      "width": null,
      "min_width": null,
      "border": null,
      "align_items": null,
      "bottom": null,
      "_model_module": "@jupyter-widgets/base",
      "top": null,
      "grid_column": null,
      "overflow_y": null,
      "overflow_x": null,
      "grid_auto_flow": null,
      "grid_area": null,
      "grid_template_columns": null,
      "flex": null,
      "_model_name": "LayoutModel",
      "justify_items": null,
      "grid_row": null,
      "max_height": null,
      "align_content": null,
      "visibility": null,
      "align_self": null,
      "height": null,
      "min_height": null,
      "padding": null,
      "grid_auto_rows": null,
      "grid_gap": null,
      "max_width": null,
      "order": null,
      "_view_module_version": "1.2.0",
      "grid_template_areas": null,
      "object_position": null,
      "object_fit": null,
      "grid_auto_columns": null,
      "margin": null,
      "display": null,
      "left": null
     }
    },
    "7417c951967047b68379091bcaa8d1ae": {
     "model_module": "@jupyter-widgets/controls",
     "model_name": "DescriptionStyleModel",
     "model_module_version": "1.5.0",
     "state": {
      "_view_name": "StyleView",
      "_model_name": "DescriptionStyleModel",
      "description_width": "",
      "_view_module": "@jupyter-widgets/base",
      "_model_module_version": "1.5.0",
      "_view_count": null,
      "_view_module_version": "1.2.0",
      "_model_module": "@jupyter-widgets/controls"
     }
    },
    "bed71cb972bd481c943106205f8d0e2a": {
     "model_module": "@jupyter-widgets/base",
     "model_name": "LayoutModel",
     "model_module_version": "1.2.0",
     "state": {
      "_view_name": "LayoutView",
      "grid_template_rows": null,
      "right": null,
      "justify_content": null,
      "_view_module": "@jupyter-widgets/base",
      "overflow": null,
      "_model_module_version": "1.2.0",
      "_view_count": null,
      "flex_flow": null,
      "width": null,
      "min_width": null,
      "border": null,
      "align_items": null,
      "bottom": null,
      "_model_module": "@jupyter-widgets/base",
      "top": null,
      "grid_column": null,
      "overflow_y": null,
      "overflow_x": null,
      "grid_auto_flow": null,
      "grid_area": null,
      "grid_template_columns": null,
      "flex": null,
      "_model_name": "LayoutModel",
      "justify_items": null,
      "grid_row": null,
      "max_height": null,
      "align_content": null,
      "visibility": null,
      "align_self": null,
      "height": null,
      "min_height": null,
      "padding": null,
      "grid_auto_rows": null,
      "grid_gap": null,
      "max_width": null,
      "order": null,
      "_view_module_version": "1.2.0",
      "grid_template_areas": null,
      "object_position": null,
      "object_fit": null,
      "grid_auto_columns": null,
      "margin": null,
      "display": null,
      "left": null
     }
    }
   }
  }
 },
 "cells": [
  {
   "cell_type": "markdown",
   "metadata": {
    "id": "view-in-github",
    "colab_type": "text"
   },
   "source": [
    "<a href=\"https://colab.research.google.com/github/DmitryKutsev/congrats_generator/blob/feature%236/my_gpt2.ipynb\" target=\"_parent\"><img src=\"https://colab.research.google.com/assets/colab-badge.svg\" alt=\"Open In Colab\"/></a>\n"
   ]
  },
  {
   "cell_type": "markdown",
   "source": [
    "https://colab.research.google.com/github/sberbank-ai/ru-gpts/blob/master/examples/Finetune_RuGPTs_with_HF.ipynb#scrollTo=aZ-4Kav28cH0\n",
    "\n",
    "\n"
   ],
   "metadata": {
    "id": "MeNPO4kQhEh5"
   }
  },
  {
   "cell_type": "markdown",
   "source": [
    "# **IMPORT**"
   ],
   "metadata": {
    "id": "JPATuJNXNibP"
   }
  },
  {
   "cell_type": "code",
   "source": [
    "import pandas as pd"
   ],
   "metadata": {
    "id": "nCxbSiVTNlN8"
   },
   "execution_count": null,
   "outputs": []
  },
  {
   "cell_type": "code",
   "source": [
    "!pip install transformers -U"
   ],
   "metadata": {
    "colab": {
     "base_uri": "https://localhost:8080/"
    },
    "id": "SVqsMoIU6J0X",
    "outputId": "3ebb4cf0-0903-4252-e831-c1b6f50c1a22"
   },
   "execution_count": null,
   "outputs": [
    {
     "output_type": "stream",
     "name": "stdout",
     "text": [
      "Requirement already satisfied: transformers in /usr/local/lib/python3.7/dist-packages (4.14.1)\n",
      "Requirement already satisfied: pyyaml>=5.1 in /usr/local/lib/python3.7/dist-packages (from transformers) (5.4.1)\n",
      "Requirement already satisfied: tokenizers<0.11,>=0.10.1 in /usr/local/lib/python3.7/dist-packages (from transformers) (0.10.3)\n",
      "Requirement already satisfied: tqdm>=4.27 in /usr/local/lib/python3.7/dist-packages (from transformers) (4.62.3)\n",
      "Requirement already satisfied: filelock in /usr/local/lib/python3.7/dist-packages (from transformers) (3.4.0)\n",
      "Requirement already satisfied: importlib-metadata in /usr/local/lib/python3.7/dist-packages (from transformers) (4.8.2)\n",
      "Requirement already satisfied: requests in /usr/local/lib/python3.7/dist-packages (from transformers) (2.23.0)\n",
      "Requirement already satisfied: packaging>=20.0 in /usr/local/lib/python3.7/dist-packages (from transformers) (21.3)\n",
      "Requirement already satisfied: numpy>=1.17 in /usr/local/lib/python3.7/dist-packages (from transformers) (1.19.5)\n",
      "Requirement already satisfied: regex!=2019.12.17 in /usr/local/lib/python3.7/dist-packages (from transformers) (2019.12.20)\n",
      "Requirement already satisfied: huggingface-hub<1.0,>=0.1.0 in /usr/local/lib/python3.7/dist-packages (from transformers) (0.2.1)\n",
      "Requirement already satisfied: sacremoses in /usr/local/lib/python3.7/dist-packages (from transformers) (0.0.46)\n",
      "Requirement already satisfied: typing-extensions>=3.7.4.3 in /usr/local/lib/python3.7/dist-packages (from huggingface-hub<1.0,>=0.1.0->transformers) (3.10.0.2)\n",
      "Requirement already satisfied: pyparsing!=3.0.5,>=2.0.2 in /usr/local/lib/python3.7/dist-packages (from packaging>=20.0->transformers) (3.0.6)\n",
      "Requirement already satisfied: zipp>=0.5 in /usr/local/lib/python3.7/dist-packages (from importlib-metadata->transformers) (3.6.0)\n",
      "Requirement already satisfied: idna<3,>=2.5 in /usr/local/lib/python3.7/dist-packages (from requests->transformers) (2.10)\n",
      "Requirement already satisfied: certifi>=2017.4.17 in /usr/local/lib/python3.7/dist-packages (from requests->transformers) (2021.10.8)\n",
      "Requirement already satisfied: urllib3!=1.25.0,!=1.25.1,<1.26,>=1.21.1 in /usr/local/lib/python3.7/dist-packages (from requests->transformers) (1.25.11)\n",
      "Requirement already satisfied: chardet<4,>=3.0.2 in /usr/local/lib/python3.7/dist-packages (from requests->transformers) (3.0.4)\n",
      "Requirement already satisfied: six in /usr/local/lib/python3.7/dist-packages (from sacremoses->transformers) (1.15.0)\n",
      "Requirement already satisfied: click in /usr/local/lib/python3.7/dist-packages (from sacremoses->transformers) (7.1.2)\n",
      "Requirement already satisfied: joblib in /usr/local/lib/python3.7/dist-packages (from sacremoses->transformers) (1.1.0)\n"
     ]
    }
   ]
  },
  {
   "cell_type": "code",
   "source": [
    "!pip install sentencepiece"
   ],
   "metadata": {
    "colab": {
     "base_uri": "https://localhost:8080/"
    },
    "id": "qoNm9cNk9kIY",
    "outputId": "fb5c6919-d9ca-4946-c3b1-c0a055b9c58c"
   },
   "execution_count": null,
   "outputs": [
    {
     "output_type": "stream",
     "name": "stdout",
     "text": [
      "Requirement already satisfied: sentencepiece in /usr/local/lib/python3.7/dist-packages (0.1.96)\n"
     ]
    }
   ]
  },
  {
   "cell_type": "code",
   "source": [
    "!pip install tqdm boto3 requests regex sacremoses"
   ],
   "metadata": {
    "colab": {
     "base_uri": "https://localhost:8080/"
    },
    "id": "NcU-kExe99IX",
    "outputId": "420586a7-12a5-4a14-921f-16bda7af3df6"
   },
   "execution_count": null,
   "outputs": [
    {
     "output_type": "stream",
     "name": "stdout",
     "text": [
      "Requirement already satisfied: tqdm in /usr/local/lib/python3.7/dist-packages (4.62.3)\n",
      "Requirement already satisfied: boto3 in /usr/local/lib/python3.7/dist-packages (1.20.26)\n",
      "Requirement already satisfied: requests in /usr/local/lib/python3.7/dist-packages (2.23.0)\n",
      "Requirement already satisfied: regex in /usr/local/lib/python3.7/dist-packages (2019.12.20)\n",
      "Requirement already satisfied: sacremoses in /usr/local/lib/python3.7/dist-packages (0.0.46)\n",
      "Requirement already satisfied: botocore<1.24.0,>=1.23.26 in /usr/local/lib/python3.7/dist-packages (from boto3) (1.23.26)\n",
      "Requirement already satisfied: jmespath<1.0.0,>=0.7.1 in /usr/local/lib/python3.7/dist-packages (from boto3) (0.10.0)\n",
      "Requirement already satisfied: s3transfer<0.6.0,>=0.5.0 in /usr/local/lib/python3.7/dist-packages (from boto3) (0.5.0)\n",
      "Requirement already satisfied: urllib3<1.27,>=1.25.4 in /usr/local/lib/python3.7/dist-packages (from botocore<1.24.0,>=1.23.26->boto3) (1.25.11)\n",
      "Requirement already satisfied: python-dateutil<3.0.0,>=2.1 in /usr/local/lib/python3.7/dist-packages (from botocore<1.24.0,>=1.23.26->boto3) (2.8.2)\n",
      "Requirement already satisfied: six>=1.5 in /usr/local/lib/python3.7/dist-packages (from python-dateutil<3.0.0,>=2.1->botocore<1.24.0,>=1.23.26->boto3) (1.15.0)\n",
      "Requirement already satisfied: chardet<4,>=3.0.2 in /usr/local/lib/python3.7/dist-packages (from requests) (3.0.4)\n",
      "Requirement already satisfied: certifi>=2017.4.17 in /usr/local/lib/python3.7/dist-packages (from requests) (2021.10.8)\n",
      "Requirement already satisfied: idna<3,>=2.5 in /usr/local/lib/python3.7/dist-packages (from requests) (2.10)\n",
      "Requirement already satisfied: click in /usr/local/lib/python3.7/dist-packages (from sacremoses) (7.1.2)\n",
      "Requirement already satisfied: joblib in /usr/local/lib/python3.7/dist-packages (from sacremoses) (1.1.0)\n"
     ]
    }
   ]
  },
  {
   "cell_type": "code",
   "source": [
    "import torch\n",
    "from transformers import AutoModel, AutoTokenizer, AutoConfig"
   ],
   "metadata": {
    "id": "1ri4axMy9p7S"
   },
   "execution_count": null,
   "outputs": []
  },
  {
   "cell_type": "code",
   "execution_count": null,
   "metadata": {
    "id": "J5q0xqDA6Bug"
   },
   "outputs": [],
   "source": [
    "# model = torch.hub.load('huggingface/transformers', 'modelForCausalLM', 'gpt2')   \n",
    "#  # Download model and configuration from huggingface.co and cache.\n",
    "# # model = torch.hub.load('huggingface/transformers', 'modelForCausalLM', './test/saved_model/')  \n",
    "# # E.g. model was saved using `save_pretrained('./test/saved_model/')`\n",
    "# model = torch.hub.load('huggingface/transformers', 'modelForCausalLM', 'gpt2', output_attentions=True)  \n",
    "# # Update configuration during loading\n",
    "# assert model.config.output_attentions == True\n",
    "# # Loading from a TF checkpoint file instead of a PyTorch model (slower)\n",
    "# config = AutoConfig.from_pretrained('bert-base-uncased')\n",
    "# # AutoConfig.from_pretrained('bert-base-uncased')\n",
    "# # model = torch.hub.load('huggingface/transformers', 'modelForCausalLM', \n",
    "# #                        './tf_model/gpt_tf_checkpoint.ckpt.index', from_tf=True, config=config)"
   ]
  },
  {
   "cell_type": "code",
   "source": [
    "!git clone https://github.com/huggingface/transformers.git"
   ],
   "metadata": {
    "colab": {
     "base_uri": "https://localhost:8080/"
    },
    "id": "SyvHuVMUJMN8",
    "outputId": "20fdeece-fa70-4083-9f68-32ccc05e5854"
   },
   "execution_count": null,
   "outputs": [
    {
     "output_type": "stream",
     "name": "stdout",
     "text": [
      "fatal: destination path 'transformers' already exists and is not an empty directory.\n"
     ]
    }
   ]
  },
  {
   "cell_type": "code",
   "source": [
    "!pip install tensorboard\n",
    "# !pip install wandb; wandb login"
   ],
   "metadata": {
    "colab": {
     "base_uri": "https://localhost:8080/"
    },
    "id": "6f550SIVJaTo",
    "outputId": "af15318a-6bf4-4435-e12c-9c25e10e5f13"
   },
   "execution_count": null,
   "outputs": [
    {
     "output_type": "stream",
     "name": "stdout",
     "text": [
      "Requirement already satisfied: tensorboard in /usr/local/lib/python3.7/dist-packages (2.7.0)\n",
      "Requirement already satisfied: setuptools>=41.0.0 in /usr/local/lib/python3.7/dist-packages (from tensorboard) (57.4.0)\n",
      "Requirement already satisfied: tensorboard-plugin-wit>=1.6.0 in /usr/local/lib/python3.7/dist-packages (from tensorboard) (1.8.0)\n",
      "Requirement already satisfied: protobuf>=3.6.0 in /usr/local/lib/python3.7/dist-packages (from tensorboard) (3.17.3)\n",
      "Requirement already satisfied: requests<3,>=2.21.0 in /usr/local/lib/python3.7/dist-packages (from tensorboard) (2.23.0)\n",
      "Requirement already satisfied: google-auth<3,>=1.6.3 in /usr/local/lib/python3.7/dist-packages (from tensorboard) (1.35.0)\n",
      "Requirement already satisfied: absl-py>=0.4 in /usr/local/lib/python3.7/dist-packages (from tensorboard) (0.12.0)\n",
      "Requirement already satisfied: numpy>=1.12.0 in /usr/local/lib/python3.7/dist-packages (from tensorboard) (1.19.5)\n",
      "Requirement already satisfied: werkzeug>=0.11.15 in /usr/local/lib/python3.7/dist-packages (from tensorboard) (1.0.1)\n",
      "Requirement already satisfied: tensorboard-data-server<0.7.0,>=0.6.0 in /usr/local/lib/python3.7/dist-packages (from tensorboard) (0.6.1)\n",
      "Requirement already satisfied: wheel>=0.26 in /usr/local/lib/python3.7/dist-packages (from tensorboard) (0.37.0)\n",
      "Requirement already satisfied: google-auth-oauthlib<0.5,>=0.4.1 in /usr/local/lib/python3.7/dist-packages (from tensorboard) (0.4.6)\n",
      "Requirement already satisfied: markdown>=2.6.8 in /usr/local/lib/python3.7/dist-packages (from tensorboard) (3.3.6)\n",
      "Requirement already satisfied: grpcio>=1.24.3 in /usr/local/lib/python3.7/dist-packages (from tensorboard) (1.42.0)\n",
      "Requirement already satisfied: six in /usr/local/lib/python3.7/dist-packages (from absl-py>=0.4->tensorboard) (1.15.0)\n",
      "Requirement already satisfied: cachetools<5.0,>=2.0.0 in /usr/local/lib/python3.7/dist-packages (from google-auth<3,>=1.6.3->tensorboard) (4.2.4)\n",
      "Requirement already satisfied: rsa<5,>=3.1.4 in /usr/local/lib/python3.7/dist-packages (from google-auth<3,>=1.6.3->tensorboard) (4.7.2)\n",
      "Requirement already satisfied: pyasn1-modules>=0.2.1 in /usr/local/lib/python3.7/dist-packages (from google-auth<3,>=1.6.3->tensorboard) (0.2.8)\n",
      "Requirement already satisfied: requests-oauthlib>=0.7.0 in /usr/local/lib/python3.7/dist-packages (from google-auth-oauthlib<0.5,>=0.4.1->tensorboard) (1.3.0)\n",
      "Requirement already satisfied: importlib-metadata>=4.4 in /usr/local/lib/python3.7/dist-packages (from markdown>=2.6.8->tensorboard) (4.8.2)\n",
      "Requirement already satisfied: zipp>=0.5 in /usr/local/lib/python3.7/dist-packages (from importlib-metadata>=4.4->markdown>=2.6.8->tensorboard) (3.6.0)\n",
      "Requirement already satisfied: typing-extensions>=3.6.4 in /usr/local/lib/python3.7/dist-packages (from importlib-metadata>=4.4->markdown>=2.6.8->tensorboard) (3.10.0.2)\n",
      "Requirement already satisfied: pyasn1<0.5.0,>=0.4.6 in /usr/local/lib/python3.7/dist-packages (from pyasn1-modules>=0.2.1->google-auth<3,>=1.6.3->tensorboard) (0.4.8)\n",
      "Requirement already satisfied: idna<3,>=2.5 in /usr/local/lib/python3.7/dist-packages (from requests<3,>=2.21.0->tensorboard) (2.10)\n",
      "Requirement already satisfied: chardet<4,>=3.0.2 in /usr/local/lib/python3.7/dist-packages (from requests<3,>=2.21.0->tensorboard) (3.0.4)\n",
      "Requirement already satisfied: certifi>=2017.4.17 in /usr/local/lib/python3.7/dist-packages (from requests<3,>=2.21.0->tensorboard) (2021.10.8)\n",
      "Requirement already satisfied: urllib3!=1.25.0,!=1.25.1,<1.26,>=1.21.1 in /usr/local/lib/python3.7/dist-packages (from requests<3,>=2.21.0->tensorboard) (1.25.11)\n",
      "Requirement already satisfied: oauthlib>=3.0.0 in /usr/local/lib/python3.7/dist-packages (from requests-oauthlib>=0.7.0->google-auth-oauthlib<0.5,>=0.4.1->tensorboard) (3.1.1)\n"
     ]
    }
   ]
  },
  {
   "cell_type": "code",
   "source": [
    ""
   ],
   "metadata": {
    "id": "xEJhcTFMJ8m-"
   },
   "execution_count": null,
   "outputs": []
  },
  {
   "cell_type": "code",
   "source": [
    "from transformers import GPT2LMHeadModel, GPT2Tokenizer"
   ],
   "metadata": {
    "id": "D7pZJGte7t5j"
   },
   "execution_count": null,
   "outputs": []
  },
  {
   "cell_type": "code",
   "source": [
    "!pip install awscli\n",
    "!aws s3 sync --no-sign-request s3://models.dobro.ai/gpt2/ru/unfreeze_all gpt2"
   ],
   "metadata": {
    "colab": {
     "base_uri": "https://localhost:8080/"
    },
    "id": "2YagUWAHCznl",
    "outputId": "9bea4859-4c5b-452b-b132-f856bde423b0"
   },
   "execution_count": null,
   "outputs": [
    {
     "output_type": "stream",
     "name": "stdout",
     "text": [
      "Requirement already satisfied: awscli in /usr/local/lib/python3.7/dist-packages (1.22.26)\n",
      "Requirement already satisfied: s3transfer<0.6.0,>=0.5.0 in /usr/local/lib/python3.7/dist-packages (from awscli) (0.5.0)\n",
      "Requirement already satisfied: PyYAML<5.5,>=3.10 in /usr/local/lib/python3.7/dist-packages (from awscli) (5.4.1)\n",
      "Requirement already satisfied: botocore==1.23.26 in /usr/local/lib/python3.7/dist-packages (from awscli) (1.23.26)\n",
      "Requirement already satisfied: docutils<0.16,>=0.10 in /usr/local/lib/python3.7/dist-packages (from awscli) (0.15.2)\n",
      "Requirement already satisfied: colorama<0.4.4,>=0.2.5 in /usr/local/lib/python3.7/dist-packages (from awscli) (0.4.3)\n",
      "Requirement already satisfied: rsa<4.8,>=3.1.2 in /usr/local/lib/python3.7/dist-packages (from awscli) (4.7.2)\n",
      "Requirement already satisfied: python-dateutil<3.0.0,>=2.1 in /usr/local/lib/python3.7/dist-packages (from botocore==1.23.26->awscli) (2.8.2)\n",
      "Requirement already satisfied: jmespath<1.0.0,>=0.7.1 in /usr/local/lib/python3.7/dist-packages (from botocore==1.23.26->awscli) (0.10.0)\n",
      "Requirement already satisfied: urllib3<1.27,>=1.25.4 in /usr/local/lib/python3.7/dist-packages (from botocore==1.23.26->awscli) (1.25.11)\n",
      "Requirement already satisfied: six>=1.5 in /usr/local/lib/python3.7/dist-packages (from python-dateutil<3.0.0,>=2.1->botocore==1.23.26->awscli) (1.15.0)\n",
      "Requirement already satisfied: pyasn1>=0.1.3 in /usr/local/lib/python3.7/dist-packages (from rsa<4.8,>=3.1.2->awscli) (0.4.8)\n"
     ]
    }
   ]
  },
  {
   "cell_type": "code",
   "source": [
    ""
   ],
   "metadata": {
    "id": "MMw690sPZHAo"
   },
   "execution_count": null,
   "outputs": []
  },
  {
   "cell_type": "markdown",
   "source": [
    "# **PREPARE DATA**"
   ],
   "metadata": {
    "id": "ICdrPvdDNbEd"
   }
  },
  {
   "cell_type": "code",
   "source": [
    "!wget https://raw.githubusercontent.com/DmitryKutsev/congrats_generator/main/crawler/curr_congrats.txt"
   ],
   "metadata": {
    "colab": {
     "base_uri": "https://localhost:8080/"
    },
    "id": "jbc_qWXLNgjt",
    "outputId": "879160cc-52ca-4fe1-b044-cda5bc336be8"
   },
   "execution_count": null,
   "outputs": [
    {
     "output_type": "stream",
     "name": "stdout",
     "text": [
      "--2021-12-22 05:00:07--  https://raw.githubusercontent.com/DmitryKutsev/congrats_generator/main/crawler/curr_congrats.txt\n",
      "Resolving raw.githubusercontent.com (raw.githubusercontent.com)... 185.199.108.133, 185.199.109.133, 185.199.110.133, ...\n",
      "Connecting to raw.githubusercontent.com (raw.githubusercontent.com)|185.199.108.133|:443... connected.\n",
      "HTTP request sent, awaiting response... 200 OK\n",
      "Length: 1471875 (1.4M) [text/plain]\n",
      "Saving to: ‘curr_congrats.txt.1’\n",
      "\n",
      "\rcurr_congrats.txt.1   0%[                    ]       0  --.-KB/s               \rcurr_congrats.txt.1 100%[===================>]   1.40M  --.-KB/s    in 0.06s   \n",
      "\n",
      "2021-12-22 05:00:07 (25.1 MB/s) - ‘curr_congrats.txt.1’ saved [1471875/1471875]\n",
      "\n"
     ]
    }
   ]
  },
  {
   "cell_type": "code",
   "source": [
    "!ls"
   ],
   "metadata": {
    "colab": {
     "base_uri": "https://localhost:8080/"
    },
    "id": "_-LkilSHf7rN",
    "outputId": "447f664c-b929-4b6b-da86-64aa837f2672"
   },
   "execution_count": null,
   "outputs": [
    {
     "output_type": "stream",
     "name": "stdout",
     "text": [
      "curr_congrats.txt  curr_congrats.txt.1\tgpt2  sample_data  transformers\n"
     ]
    }
   ]
  },
  {
   "cell_type": "code",
   "source": [
    "with open('curr_congrats.txt') as handler:\n",
    "  full_text = handler.read()\n",
    "full_text[:3000]"
   ],
   "metadata": {
    "colab": {
     "base_uri": "https://localhost:8080/",
     "height": 181
    },
    "id": "tjTgJgTvN0mH",
    "outputId": "1859e467-6ad5-4c76-aaff-88cb1557b182"
   },
   "execution_count": null,
   "outputs": [
    {
     "output_type": "execute_result",
     "data": {
      "application/vnd.google.colaboratory.intrinsic+json": {
       "type": "string"
      },
      "text/plain": [
       "'\\nTITLE\\nЭдварду Радзинскому, писателю, драматургу, сценаристу\\nCONTENT\\n Уважаемый Эдвард Станиславович!Примите поздравления с\\xa085-летием.Человек многогранного дарования и\\xa0большой созидательной энергии, Вы по\\xa0праву входите в\\xa0число признанных\\nдраматургов, мастеров современного театрального искусства. И\\xa0конечно, Вас\\nхорошо знают и\\xa0любят как автора целого ряда просветительских проектов, чьё\\nтворчество завоевало сердца самой широкой аудитории, в\\xa0том числе молодёжи.Желаю доброго здоровья, благополучия и\\xa0бодрости\\nдуха. Владимир Путин     Статус материала Опубликован в\\xa0разделе: Телеграммы  Ссылка на материал: kremlin.ru/d/66751   Текстовая версия      \\nEND\\n\\nTITLE\\nКоллективу радиостанции «Орфей»\\nCONTENT\\n Дорогие друзья!Поздравляю вас со\\xa0знаменательным юбилеем\\xa0– 30-летием радиостанции «Орфей».Все эти годы ваш коллектив объединяет настоящих единомышленников, профессионалов, преданных высокому искусству, стремящихся внести свой вклад в\\xa0сбережение лучших традиций отечественной культуры. Вы сформировали обширный фонд просветительских, познавательных программ, завоевали признание людей самого разного возраста, слушателей в\\xa0России и\\xa0за\\xa0рубежом.Особо отмечу ваши уникальные медиапроекты, которые открывают широкий доступ к\\xa0онлайн-трансляциям концертов и\\xa0спектаклей, способствуют изучению и\\xa0сохранению творческого наследия выдающихся русских композиторов, воссозданию ранее утерянных музыкальных произведений и\\xa0нотных записей. Такая многогранная созидательная работа достойна глубокого уважения.Желаю новых успехов, благополучия и\\xa0всего наилучшего. Владимир Путин     Статус материала Опубликован в\\xa0разделе: Телеграммы  Ссылка на материал: kremlin.ru/d/66743   Текстовая версия      \\nEND\\n\\nTITLE\\nМихаилу Ковальчуку, президенту НИЦ «Курчатовский институт»\\nCONTENT\\n Уважаемый Михаил Валентинович!Примите мои поздравления по\\xa0случаю 75-летнего юбилея.Вы по\\xa0праву входите в\\xa0число исследователей, чьи фундаментальные труды и\\xa0практические наработки способствовали созданию в\\xa0России перспективных направлений науки и\\xa0прорывных технологий, заложили основу для их эффективного развития на\\xa0годы вперёд. И\\xa0конечно, Вас ценят как талантливого педагога и\\xa0организатора, человека, наделённого большой творческой энергией, который вносит значимый личный вклад в\\xa0решение задач, стоящих перед знаменитым Курчатовским институтом, много сил и\\xa0времени уделяет просветительской, общественной деятельности.Желаю Вам здоровья, успехов и\\xa0реализации намеченных планов. Владимир Путин     Статус материала Опубликован в\\xa0разделе: Телеграммы  Ссылка на материал: kremlin.ru/d/66739   Текстовая версия      \\nEND\\n\\nTITLE\\nИрине Андреевой и\\xa0Ивану Штылю, победителям чемпионата мира по\\xa0гребле на\\xa0байдарках и\\xa0каноэ 2021\\xa0года в\\xa0Копенгагене в\\xa0каноэ-двойке в\\xa0миксте на\\xa0дистанции 200 метров\\nCONTENT\\n Уважаемые Ирина Александровна и\\xa0Иван Александрович!Поздравляю вас с\\xa0успешным выступлением на\\xa0чемпионате мира в\\xa0Копенгагене.Благодаря таланту, волевому характеру и\\xa0настрою на\\xa0победу вы обошли сильных и\\xa0именитых соперников, продемонстрировали наст'"
      ]
     },
     "metadata": {},
     "execution_count": 33
    }
   ]
  },
  {
   "cell_type": "code",
   "source": [
    "full_text.split('END')[:3][0].replace('\\n', '').split('CONTENT')"
   ],
   "metadata": {
    "colab": {
     "base_uri": "https://localhost:8080/"
    },
    "id": "QU9TBsuAOSrZ",
    "outputId": "b313ab4b-620d-428d-f7c2-bc2bb465a70f"
   },
   "execution_count": null,
   "outputs": [
    {
     "output_type": "execute_result",
     "data": {
      "text/plain": [
       "['TITLEЭдварду Радзинскому, писателю, драматургу, сценаристу',\n",
       " ' Уважаемый Эдвард Станиславович!Примите поздравления с\\xa085-летием.Человек многогранного дарования и\\xa0большой созидательной энергии, Вы по\\xa0праву входите в\\xa0число признанныхдраматургов, мастеров современного театрального искусства. И\\xa0конечно, Васхорошо знают и\\xa0любят как автора целого ряда просветительских проектов, чьётворчество завоевало сердца самой широкой аудитории, в\\xa0том числе молодёжи.Желаю доброго здоровья, благополучия и\\xa0бодростидуха. Владимир Путин     Статус материала Опубликован в\\xa0разделе: Телеграммы  Ссылка на материал: kremlin.ru/d/66751   Текстовая версия      ']"
      ]
     },
     "metadata": {},
     "execution_count": 34
    }
   ]
  },
  {
   "cell_type": "code",
   "source": [
    "titles_list = []\n",
    "congrats_list = []\n",
    "\n",
    "for letter in full_text.split('END'):\n",
    "  letter = letter.replace('\\n', '').replace('TITLE', '')\n",
    "  # print(letter)\n",
    "  # print(letter.split('CONTENT'))\n",
    "  # print(letter.split('CONTENT'))\n",
    "  # break\n",
    "  if len(letter.split('CONTENT')) > 1:\n",
    "    titles_list.append(letter.split('CONTENT')[0])\n",
    "    congrats_list.append(letter.split('CONTENT')[1])\n",
    "\n",
    "print(titles_list[:3])\n",
    "print(congrats_list[:3])\n",
    "print(len(titles_list))\n",
    "print(len(congrats_list))"
   ],
   "metadata": {
    "colab": {
     "base_uri": "https://localhost:8080/"
    },
    "id": "GfgJgy0hOU3S",
    "outputId": "8d9706ff-4354-403a-c2b7-a1e8189ad8d2"
   },
   "execution_count": null,
   "outputs": [
    {
     "output_type": "stream",
     "name": "stdout",
     "text": [
      "['Эдварду Радзинскому, писателю, драматургу, сценаристу', 'Коллективу радиостанции «Орфей»', 'Михаилу Ковальчуку, президенту НИЦ «Курчатовский институт»']\n",
      "[' Уважаемый Эдвард Станиславович!Примите поздравления с\\xa085-летием.Человек многогранного дарования и\\xa0большой созидательной энергии, Вы по\\xa0праву входите в\\xa0число признанныхдраматургов, мастеров современного театрального искусства. И\\xa0конечно, Васхорошо знают и\\xa0любят как автора целого ряда просветительских проектов, чьётворчество завоевало сердца самой широкой аудитории, в\\xa0том числе молодёжи.Желаю доброго здоровья, благополучия и\\xa0бодростидуха. Владимир Путин     Статус материала Опубликован в\\xa0разделе: Телеграммы  Ссылка на материал: kremlin.ru/d/66751   Текстовая версия      ', ' Дорогие друзья!Поздравляю вас со\\xa0знаменательным юбилеем\\xa0– 30-летием радиостанции «Орфей».Все эти годы ваш коллектив объединяет настоящих единомышленников, профессионалов, преданных высокому искусству, стремящихся внести свой вклад в\\xa0сбережение лучших традиций отечественной культуры. Вы сформировали обширный фонд просветительских, познавательных программ, завоевали признание людей самого разного возраста, слушателей в\\xa0России и\\xa0за\\xa0рубежом.Особо отмечу ваши уникальные медиапроекты, которые открывают широкий доступ к\\xa0онлайн-трансляциям концертов и\\xa0спектаклей, способствуют изучению и\\xa0сохранению творческого наследия выдающихся русских композиторов, воссозданию ранее утерянных музыкальных произведений и\\xa0нотных записей. Такая многогранная созидательная работа достойна глубокого уважения.Желаю новых успехов, благополучия и\\xa0всего наилучшего. Владимир Путин     Статус материала Опубликован в\\xa0разделе: Телеграммы  Ссылка на материал: kremlin.ru/d/66743   Текстовая версия      ', ' Уважаемый Михаил Валентинович!Примите мои поздравления по\\xa0случаю 75-летнего юбилея.Вы по\\xa0праву входите в\\xa0число исследователей, чьи фундаментальные труды и\\xa0практические наработки способствовали созданию в\\xa0России перспективных направлений науки и\\xa0прорывных технологий, заложили основу для их эффективного развития на\\xa0годы вперёд. И\\xa0конечно, Вас ценят как талантливого педагога и\\xa0организатора, человека, наделённого большой творческой энергией, который вносит значимый личный вклад в\\xa0решение задач, стоящих перед знаменитым Курчатовским институтом, много сил и\\xa0времени уделяет просветительской, общественной деятельности.Желаю Вам здоровья, успехов и\\xa0реализации намеченных планов. Владимир Путин     Статус материала Опубликован в\\xa0разделе: Телеграммы  Ссылка на материал: kremlin.ru/d/66739   Текстовая версия      ']\n",
      "888\n",
      "888\n"
     ]
    }
   ]
  },
  {
   "cell_type": "code",
   "source": [
    "data = {'Title': titles_list,\n",
    "        'Content': congrats_list}\n",
    "\n",
    "my_df = pd.DataFrame(data)\n",
    "my_df"
   ],
   "metadata": {
    "colab": {
     "base_uri": "https://localhost:8080/",
     "height": 422
    },
    "id": "D4S_hWq2QK7k",
    "outputId": "2050e7e1-cc58-4658-8954-5b0b3792e037"
   },
   "execution_count": null,
   "outputs": [
    {
     "output_type": "execute_result",
     "data": {
      "text/html": [
       "<div>\n",
       "<style scoped>\n",
       "    .dataframe tbody tr th:only-of-type {\n",
       "        vertical-align: middle;\n",
       "    }\n",
       "\n",
       "    .dataframe tbody tr th {\n",
       "        vertical-align: top;\n",
       "    }\n",
       "\n",
       "    .dataframe thead th {\n",
       "        text-align: right;\n",
       "    }\n",
       "</style>\n",
       "<table border=\"1\" class=\"dataframe\">\n",
       "  <thead>\n",
       "    <tr style=\"text-align: right;\">\n",
       "      <th></th>\n",
       "      <th>Title</th>\n",
       "      <th>Content</th>\n",
       "    </tr>\n",
       "  </thead>\n",
       "  <tbody>\n",
       "    <tr>\n",
       "      <th>0</th>\n",
       "      <td>Эдварду Радзинскому, писателю, драматургу, сце...</td>\n",
       "      <td>Уважаемый Эдвард Станиславович!Примите поздра...</td>\n",
       "    </tr>\n",
       "    <tr>\n",
       "      <th>1</th>\n",
       "      <td>Коллективу радиостанции «Орфей»</td>\n",
       "      <td>Дорогие друзья!Поздравляю вас со знаменательн...</td>\n",
       "    </tr>\n",
       "    <tr>\n",
       "      <th>2</th>\n",
       "      <td>Михаилу Ковальчуку, президенту НИЦ «Курчатовск...</td>\n",
       "      <td>Уважаемый Михаил Валентинович!Примите мои поз...</td>\n",
       "    </tr>\n",
       "    <tr>\n",
       "      <th>3</th>\n",
       "      <td>Ирине Андреевой и Ивану Штылю, победителям чем...</td>\n",
       "      <td>Уважаемые Ирина Александровна и Иван Александ...</td>\n",
       "    </tr>\n",
       "    <tr>\n",
       "      <th>4</th>\n",
       "      <td>Работникам и ветеранам оборонно-промышленного ...</td>\n",
       "      <td>Уважаемые друзья!Поздравляю вас с Днём оружей...</td>\n",
       "    </tr>\n",
       "    <tr>\n",
       "      <th>...</th>\n",
       "      <td>...</td>\n",
       "      <td>...</td>\n",
       "    </tr>\n",
       "    <tr>\n",
       "      <th>883</th>\n",
       "      <td>Жителям Республики Мордовия</td>\n",
       "      <td>Дорогие друзья!Поздравляю вас с юбилеем – 75-...</td>\n",
       "    </tr>\n",
       "    <tr>\n",
       "      <th>884</th>\n",
       "      <td>Коллективу Института физических проблем им.П.Л...</td>\n",
       "      <td>Поздравляю коллектив института с 70-летием со...</td>\n",
       "    </tr>\n",
       "    <tr>\n",
       "      <th>885</th>\n",
       "      <td>Жителям Красноярского края</td>\n",
       "      <td>Уважаемые друзья!Поздравляю вас с 70-летием с...</td>\n",
       "    </tr>\n",
       "    <tr>\n",
       "      <th>886</th>\n",
       "      <td>В.А.ЛОГИНОВУ</td>\n",
       "      <td>Уважаемый Владимир Александрович!Поздравляю В...</td>\n",
       "    </tr>\n",
       "    <tr>\n",
       "      <th>887</th>\n",
       "      <td>Патриарху Московскому и всея Руси Алексию II</td>\n",
       "      <td>Ваше Святейшество!От всего сердца поздравляю ...</td>\n",
       "    </tr>\n",
       "  </tbody>\n",
       "</table>\n",
       "<p>888 rows × 2 columns</p>\n",
       "</div>"
      ],
      "text/plain": [
       "                                                 Title                                            Content\n",
       "0    Эдварду Радзинскому, писателю, драматургу, сце...   Уважаемый Эдвард Станиславович!Примите поздра...\n",
       "1                      Коллективу радиостанции «Орфей»   Дорогие друзья!Поздравляю вас со знаменательн...\n",
       "2    Михаилу Ковальчуку, президенту НИЦ «Курчатовск...   Уважаемый Михаил Валентинович!Примите мои поз...\n",
       "3    Ирине Андреевой и Ивану Штылю, победителям чем...   Уважаемые Ирина Александровна и Иван Александ...\n",
       "4    Работникам и ветеранам оборонно-промышленного ...   Уважаемые друзья!Поздравляю вас с Днём оружей...\n",
       "..                                                 ...                                                ...\n",
       "883                        Жителям Республики Мордовия   Дорогие друзья!Поздравляю вас с юбилеем – 75-...\n",
       "884  Коллективу Института физических проблем им.П.Л...   Поздравляю коллектив института с 70-летием со...\n",
       "885                         Жителям Красноярского края   Уважаемые друзья!Поздравляю вас с 70-летием с...\n",
       "886                                       В.А.ЛОГИНОВУ   Уважаемый Владимир Александрович!Поздравляю В...\n",
       "887       Патриарху Московскому и всея Руси Алексию II   Ваше Святейшество!От всего сердца поздравляю ...\n",
       "\n",
       "[888 rows x 2 columns]"
      ]
     },
     "metadata": {},
     "execution_count": 36
    }
   ]
  },
  {
   "cell_type": "code",
   "source": [
    "! pip install datasets transformers"
   ],
   "metadata": {
    "colab": {
     "base_uri": "https://localhost:8080/"
    },
    "id": "FPNGyp4Gq8gX",
    "outputId": "149b5118-fdde-44f6-c8a4-bca1d6aab314"
   },
   "execution_count": null,
   "outputs": [
    {
     "output_type": "stream",
     "name": "stdout",
     "text": [
      "Collecting datasets\n",
      "  Downloading datasets-1.17.0-py3-none-any.whl (306 kB)\n",
      "\u001B[?25l\r\u001B[K     |█                               | 10 kB 18.3 MB/s eta 0:00:01\r\u001B[K     |██▏                             | 20 kB 18.3 MB/s eta 0:00:01\r\u001B[K     |███▏                            | 30 kB 11.6 MB/s eta 0:00:01\r\u001B[K     |████▎                           | 40 kB 10.0 MB/s eta 0:00:01\r\u001B[K     |█████▍                          | 51 kB 5.7 MB/s eta 0:00:01\r\u001B[K     |██████▍                         | 61 kB 6.1 MB/s eta 0:00:01\r\u001B[K     |███████▌                        | 71 kB 6.1 MB/s eta 0:00:01\r\u001B[K     |████████▋                       | 81 kB 6.8 MB/s eta 0:00:01\r\u001B[K     |█████████▋                      | 92 kB 5.1 MB/s eta 0:00:01\r\u001B[K     |██████████▊                     | 102 kB 5.6 MB/s eta 0:00:01\r\u001B[K     |███████████▊                    | 112 kB 5.6 MB/s eta 0:00:01\r\u001B[K     |████████████▉                   | 122 kB 5.6 MB/s eta 0:00:01\r\u001B[K     |██████████████                  | 133 kB 5.6 MB/s eta 0:00:01\r\u001B[K     |███████████████                 | 143 kB 5.6 MB/s eta 0:00:01\r\u001B[K     |████████████████                | 153 kB 5.6 MB/s eta 0:00:01\r\u001B[K     |█████████████████▏              | 163 kB 5.6 MB/s eta 0:00:01\r\u001B[K     |██████████████████▏             | 174 kB 5.6 MB/s eta 0:00:01\r\u001B[K     |███████████████████▎            | 184 kB 5.6 MB/s eta 0:00:01\r\u001B[K     |████████████████████▎           | 194 kB 5.6 MB/s eta 0:00:01\r\u001B[K     |█████████████████████▍          | 204 kB 5.6 MB/s eta 0:00:01\r\u001B[K     |██████████████████████▌         | 215 kB 5.6 MB/s eta 0:00:01\r\u001B[K     |███████████████████████▌        | 225 kB 5.6 MB/s eta 0:00:01\r\u001B[K     |████████████████████████▋       | 235 kB 5.6 MB/s eta 0:00:01\r\u001B[K     |█████████████████████████▊      | 245 kB 5.6 MB/s eta 0:00:01\r\u001B[K     |██████████████████████████▊     | 256 kB 5.6 MB/s eta 0:00:01\r\u001B[K     |███████████████████████████▉    | 266 kB 5.6 MB/s eta 0:00:01\r\u001B[K     |████████████████████████████▉   | 276 kB 5.6 MB/s eta 0:00:01\r\u001B[K     |██████████████████████████████  | 286 kB 5.6 MB/s eta 0:00:01\r\u001B[K     |███████████████████████████████ | 296 kB 5.6 MB/s eta 0:00:01\r\u001B[K     |████████████████████████████████| 306 kB 5.6 MB/s \n",
      "\u001B[?25hRequirement already satisfied: transformers in /usr/local/lib/python3.7/dist-packages (4.14.1)\n",
      "Requirement already satisfied: numpy>=1.17 in /usr/local/lib/python3.7/dist-packages (from datasets) (1.19.5)\n",
      "Requirement already satisfied: importlib-metadata in /usr/local/lib/python3.7/dist-packages (from datasets) (4.8.2)\n",
      "Collecting aiohttp\n",
      "  Downloading aiohttp-3.8.1-cp37-cp37m-manylinux_2_5_x86_64.manylinux1_x86_64.manylinux_2_12_x86_64.manylinux2010_x86_64.whl (1.1 MB)\n",
      "\u001B[K     |████████████████████████████████| 1.1 MB 48.4 MB/s \n",
      "\u001B[?25hRequirement already satisfied: packaging in /usr/local/lib/python3.7/dist-packages (from datasets) (21.3)\n",
      "Requirement already satisfied: dill in /usr/local/lib/python3.7/dist-packages (from datasets) (0.3.4)\n",
      "Requirement already satisfied: pandas in /usr/local/lib/python3.7/dist-packages (from datasets) (1.1.5)\n",
      "Requirement already satisfied: multiprocess in /usr/local/lib/python3.7/dist-packages (from datasets) (0.70.12.2)\n",
      "Requirement already satisfied: huggingface-hub<1.0.0,>=0.1.0 in /usr/local/lib/python3.7/dist-packages (from datasets) (0.2.1)\n",
      "Collecting fsspec[http]>=2021.05.0\n",
      "  Downloading fsspec-2021.11.1-py3-none-any.whl (132 kB)\n",
      "\u001B[K     |████████████████████████████████| 132 kB 35.5 MB/s \n",
      "\u001B[?25hCollecting xxhash\n",
      "  Downloading xxhash-2.0.2-cp37-cp37m-manylinux2010_x86_64.whl (243 kB)\n",
      "\u001B[K     |████████████████████████████████| 243 kB 38.1 MB/s \n",
      "\u001B[?25hRequirement already satisfied: tqdm>=4.62.1 in /usr/local/lib/python3.7/dist-packages (from datasets) (4.62.3)\n",
      "Requirement already satisfied: requests>=2.19.0 in /usr/local/lib/python3.7/dist-packages (from datasets) (2.23.0)\n",
      "Requirement already satisfied: pyarrow!=4.0.0,>=3.0.0 in /usr/local/lib/python3.7/dist-packages (from datasets) (3.0.0)\n",
      "Requirement already satisfied: pyyaml in /usr/local/lib/python3.7/dist-packages (from huggingface-hub<1.0.0,>=0.1.0->datasets) (5.4.1)\n",
      "Requirement already satisfied: filelock in /usr/local/lib/python3.7/dist-packages (from huggingface-hub<1.0.0,>=0.1.0->datasets) (3.4.0)\n",
      "Requirement already satisfied: typing-extensions>=3.7.4.3 in /usr/local/lib/python3.7/dist-packages (from huggingface-hub<1.0.0,>=0.1.0->datasets) (3.10.0.2)\n",
      "Requirement already satisfied: pyparsing!=3.0.5,>=2.0.2 in /usr/local/lib/python3.7/dist-packages (from packaging->datasets) (3.0.6)\n",
      "Requirement already satisfied: certifi>=2017.4.17 in /usr/local/lib/python3.7/dist-packages (from requests>=2.19.0->datasets) (2021.10.8)\n",
      "Requirement already satisfied: idna<3,>=2.5 in /usr/local/lib/python3.7/dist-packages (from requests>=2.19.0->datasets) (2.10)\n",
      "Requirement already satisfied: urllib3!=1.25.0,!=1.25.1,<1.26,>=1.21.1 in /usr/local/lib/python3.7/dist-packages (from requests>=2.19.0->datasets) (1.25.11)\n",
      "Requirement already satisfied: chardet<4,>=3.0.2 in /usr/local/lib/python3.7/dist-packages (from requests>=2.19.0->datasets) (3.0.4)\n",
      "Requirement already satisfied: regex!=2019.12.17 in /usr/local/lib/python3.7/dist-packages (from transformers) (2019.12.20)\n",
      "Requirement already satisfied: tokenizers<0.11,>=0.10.1 in /usr/local/lib/python3.7/dist-packages (from transformers) (0.10.3)\n",
      "Requirement already satisfied: sacremoses in /usr/local/lib/python3.7/dist-packages (from transformers) (0.0.46)\n",
      "Requirement already satisfied: charset-normalizer<3.0,>=2.0 in /usr/local/lib/python3.7/dist-packages (from aiohttp->datasets) (2.0.8)\n",
      "Collecting async-timeout<5.0,>=4.0.0a3\n",
      "  Downloading async_timeout-4.0.2-py3-none-any.whl (5.8 kB)\n",
      "Collecting frozenlist>=1.1.1\n",
      "  Downloading frozenlist-1.2.0-cp37-cp37m-manylinux_2_5_x86_64.manylinux1_x86_64.manylinux_2_12_x86_64.manylinux2010_x86_64.whl (192 kB)\n",
      "\u001B[K     |████████████████████████████████| 192 kB 21.1 MB/s \n",
      "\u001B[?25hCollecting yarl<2.0,>=1.0\n",
      "  Downloading yarl-1.7.2-cp37-cp37m-manylinux_2_5_x86_64.manylinux1_x86_64.manylinux_2_12_x86_64.manylinux2010_x86_64.whl (271 kB)\n",
      "\u001B[K     |████████████████████████████████| 271 kB 14.0 MB/s \n",
      "\u001B[?25hCollecting asynctest==0.13.0\n",
      "  Downloading asynctest-0.13.0-py3-none-any.whl (26 kB)\n",
      "Collecting multidict<7.0,>=4.5\n",
      "  Downloading multidict-5.2.0-cp37-cp37m-manylinux_2_5_x86_64.manylinux1_x86_64.manylinux_2_12_x86_64.manylinux2010_x86_64.whl (160 kB)\n",
      "\u001B[K     |████████████████████████████████| 160 kB 37.0 MB/s \n",
      "\u001B[?25hCollecting aiosignal>=1.1.2\n",
      "  Downloading aiosignal-1.2.0-py3-none-any.whl (8.2 kB)\n",
      "Requirement already satisfied: attrs>=17.3.0 in /usr/local/lib/python3.7/dist-packages (from aiohttp->datasets) (21.2.0)\n",
      "Requirement already satisfied: zipp>=0.5 in /usr/local/lib/python3.7/dist-packages (from importlib-metadata->datasets) (3.6.0)\n",
      "Requirement already satisfied: python-dateutil>=2.7.3 in /usr/local/lib/python3.7/dist-packages (from pandas->datasets) (2.8.2)\n",
      "Requirement already satisfied: pytz>=2017.2 in /usr/local/lib/python3.7/dist-packages (from pandas->datasets) (2018.9)\n",
      "Requirement already satisfied: six>=1.5 in /usr/local/lib/python3.7/dist-packages (from python-dateutil>=2.7.3->pandas->datasets) (1.15.0)\n",
      "Requirement already satisfied: joblib in /usr/local/lib/python3.7/dist-packages (from sacremoses->transformers) (1.1.0)\n",
      "Requirement already satisfied: click in /usr/local/lib/python3.7/dist-packages (from sacremoses->transformers) (7.1.2)\n",
      "Installing collected packages: multidict, frozenlist, yarl, asynctest, async-timeout, aiosignal, fsspec, aiohttp, xxhash, datasets\n",
      "Successfully installed aiohttp-3.8.1 aiosignal-1.2.0 async-timeout-4.0.2 asynctest-0.13.0 datasets-1.17.0 frozenlist-1.2.0 fsspec-2021.11.1 multidict-5.2.0 xxhash-2.0.2 yarl-1.7.2\n"
     ]
    }
   ]
  },
  {
   "cell_type": "code",
   "source": [
    "!git clone  https://github.com/sberbank-ai/ru-gpts"
   ],
   "metadata": {
    "colab": {
     "base_uri": "https://localhost:8080/"
    },
    "id": "chdG-tIs8EKM",
    "outputId": "600c2840-dc96-4866-8794-d31bd00a3015"
   },
   "execution_count": null,
   "outputs": [
    {
     "output_type": "stream",
     "name": "stdout",
     "text": [
      "Cloning into 'ru-gpts'...\n",
      "remote: Enumerating objects: 683, done.\u001B[K\n",
      "remote: Counting objects: 100% (178/178), done.\u001B[K\n",
      "remote: Compressing objects: 100% (94/94), done.\u001B[K\n",
      "remote: Total 683 (delta 110), reused 141 (delta 83), pack-reused 505\u001B[K\n",
      "Receiving objects: 100% (683/683), 413.81 KiB | 5.24 MiB/s, done.\n",
      "Resolving deltas: 100% (410/410), done.\n"
     ]
    }
   ]
  },
  {
   "cell_type": "code",
   "source": [
    "from datasets import load_dataset\n",
    "from sklearn.model_selection import train_test_split\n",
    "import re\n",
    "# datasets = load_dataset(\"text\", data_files={\"train\": path_to_train.txt, \"validation\": path_to_validation.txt}"
   ],
   "metadata": {
    "id": "kj1K38Ihq2KM"
   },
   "execution_count": null,
   "outputs": []
  },
  {
   "cell_type": "code",
   "source": [
    "my_df['Sum'] = [my_df['Title'].tolist()[i] + my_df['Content'].tolist()[i] for i in range(len(my_df))]\n",
    "my_df"
   ],
   "metadata": {
    "colab": {
     "base_uri": "https://localhost:8080/",
     "height": 595
    },
    "id": "cCSD2s7mNIFa",
    "outputId": "6f866160-2c3d-4a16-f0f1-6753ab17bfc7"
   },
   "execution_count": null,
   "outputs": [
    {
     "output_type": "execute_result",
     "data": {
      "text/html": [
       "<div>\n",
       "<style scoped>\n",
       "    .dataframe tbody tr th:only-of-type {\n",
       "        vertical-align: middle;\n",
       "    }\n",
       "\n",
       "    .dataframe tbody tr th {\n",
       "        vertical-align: top;\n",
       "    }\n",
       "\n",
       "    .dataframe thead th {\n",
       "        text-align: right;\n",
       "    }\n",
       "</style>\n",
       "<table border=\"1\" class=\"dataframe\">\n",
       "  <thead>\n",
       "    <tr style=\"text-align: right;\">\n",
       "      <th></th>\n",
       "      <th>Title</th>\n",
       "      <th>Content</th>\n",
       "      <th>Sum</th>\n",
       "    </tr>\n",
       "  </thead>\n",
       "  <tbody>\n",
       "    <tr>\n",
       "      <th>0</th>\n",
       "      <td>Эдварду Радзинскому, писателю, драматургу, сце...</td>\n",
       "      <td>Уважаемый Эдвард Станиславович!Примите поздра...</td>\n",
       "      <td>Эдварду Радзинскому, писателю, драматургу, сце...</td>\n",
       "    </tr>\n",
       "    <tr>\n",
       "      <th>1</th>\n",
       "      <td>Коллективу радиостанции «Орфей»</td>\n",
       "      <td>Дорогие друзья!Поздравляю вас со знаменательн...</td>\n",
       "      <td>Коллективу радиостанции «Орфей» Дорогие друзья...</td>\n",
       "    </tr>\n",
       "    <tr>\n",
       "      <th>2</th>\n",
       "      <td>Михаилу Ковальчуку, президенту НИЦ «Курчатовск...</td>\n",
       "      <td>Уважаемый Михаил Валентинович!Примите мои поз...</td>\n",
       "      <td>Михаилу Ковальчуку, президенту НИЦ «Курчатовск...</td>\n",
       "    </tr>\n",
       "    <tr>\n",
       "      <th>3</th>\n",
       "      <td>Ирине Андреевой и Ивану Штылю, победителям чем...</td>\n",
       "      <td>Уважаемые Ирина Александровна и Иван Александ...</td>\n",
       "      <td>Ирине Андреевой и Ивану Штылю, победителям чем...</td>\n",
       "    </tr>\n",
       "    <tr>\n",
       "      <th>4</th>\n",
       "      <td>Работникам и ветеранам оборонно-промышленного ...</td>\n",
       "      <td>Уважаемые друзья!Поздравляю вас с Днём оружей...</td>\n",
       "      <td>Работникам и ветеранам оборонно-промышленного ...</td>\n",
       "    </tr>\n",
       "    <tr>\n",
       "      <th>...</th>\n",
       "      <td>...</td>\n",
       "      <td>...</td>\n",
       "      <td>...</td>\n",
       "    </tr>\n",
       "    <tr>\n",
       "      <th>883</th>\n",
       "      <td>Жителям Республики Мордовия</td>\n",
       "      <td>Дорогие друзья!Поздравляю вас с юбилеем – 75-...</td>\n",
       "      <td>Жителям Республики Мордовия Дорогие друзья!Поз...</td>\n",
       "    </tr>\n",
       "    <tr>\n",
       "      <th>884</th>\n",
       "      <td>Коллективу Института физических проблем им.П.Л...</td>\n",
       "      <td>Поздравляю коллектив института с 70-летием со...</td>\n",
       "      <td>Коллективу Института физических проблем им.П.Л...</td>\n",
       "    </tr>\n",
       "    <tr>\n",
       "      <th>885</th>\n",
       "      <td>Жителям Красноярского края</td>\n",
       "      <td>Уважаемые друзья!Поздравляю вас с 70-летием с...</td>\n",
       "      <td>Жителям Красноярского края Уважаемые друзья!По...</td>\n",
       "    </tr>\n",
       "    <tr>\n",
       "      <th>886</th>\n",
       "      <td>В.А.ЛОГИНОВУ</td>\n",
       "      <td>Уважаемый Владимир Александрович!Поздравляю В...</td>\n",
       "      <td>В.А.ЛОГИНОВУ Уважаемый Владимир Александрович!...</td>\n",
       "    </tr>\n",
       "    <tr>\n",
       "      <th>887</th>\n",
       "      <td>Патриарху Московскому и всея Руси Алексию II</td>\n",
       "      <td>Ваше Святейшество!От всего сердца поздравляю ...</td>\n",
       "      <td>Патриарху Московскому и всея Руси Алексию II В...</td>\n",
       "    </tr>\n",
       "  </tbody>\n",
       "</table>\n",
       "<p>888 rows × 3 columns</p>\n",
       "</div>"
      ],
      "text/plain": [
       "                                                 Title  ...                                                Sum\n",
       "0    Эдварду Радзинскому, писателю, драматургу, сце...  ...  Эдварду Радзинскому, писателю, драматургу, сце...\n",
       "1                      Коллективу радиостанции «Орфей»  ...  Коллективу радиостанции «Орфей» Дорогие друзья...\n",
       "2    Михаилу Ковальчуку, президенту НИЦ «Курчатовск...  ...  Михаилу Ковальчуку, президенту НИЦ «Курчатовск...\n",
       "3    Ирине Андреевой и Ивану Штылю, победителям чем...  ...  Ирине Андреевой и Ивану Штылю, победителям чем...\n",
       "4    Работникам и ветеранам оборонно-промышленного ...  ...  Работникам и ветеранам оборонно-промышленного ...\n",
       "..                                                 ...  ...                                                ...\n",
       "883                        Жителям Республики Мордовия  ...  Жителям Республики Мордовия Дорогие друзья!Поз...\n",
       "884  Коллективу Института физических проблем им.П.Л...  ...  Коллективу Института физических проблем им.П.Л...\n",
       "885                         Жителям Красноярского края  ...  Жителям Красноярского края Уважаемые друзья!По...\n",
       "886                                       В.А.ЛОГИНОВУ  ...  В.А.ЛОГИНОВУ Уважаемый Владимир Александрович!...\n",
       "887       Патриарху Московскому и всея Руси Алексию II  ...  Патриарху Московскому и всея Руси Алексию II В...\n",
       "\n",
       "[888 rows x 3 columns]"
      ]
     },
     "metadata": {},
     "execution_count": 40
    }
   ]
  },
  {
   "cell_type": "code",
   "source": [
    "train_test_ratio = 0.9\n",
    "df_train, df_test = train_test_split(my_df, train_size = train_test_ratio, random_state = 1)\n",
    "# train_valid_ratio = 7/9\n",
    "# df_train, df_valid = train_test_split(df_full_train, train_size = train_valid_ratio, random_state = 1)"
   ],
   "metadata": {
    "id": "COHxJSC5q2MV"
   },
   "execution_count": null,
   "outputs": []
  },
  {
   "cell_type": "code",
   "source": [
    "def build_dataset(df, dest_path):\n",
    "    f = open(dest_path, 'w')\n",
    "    data = ''\n",
    "    summaries = df['Sum'].tolist()\n",
    "    # c = 0\n",
    "    # if c < 2:\n",
    "    #   print(summaries)\n",
    "    #   c += 1\n",
    "    for summary in summaries:\n",
    "        summary = str(summary).strip()\n",
    "        summary = re.sub(r\"\\s\", \" \", summary)\n",
    "        summary = re.sub(r\"\\n\", \"\", summary)\n",
    "        summary = re.sub(r\"Статус материала Опубликован в разделе: Телеграммы\", \"\", summary)\n",
    "        summary = re.sub(r\"Ссылка на материал:\", \"\", summary)\n",
    "        summary = re.sub(r\"Текстовая версия:\", \"\", summary)\n",
    "        summary = re.sub(r\"Ссылка на материал:\", \"\", summary)\n",
    "        summary = re.sub(r\"([a-zA-Z]+)\", \"\", summary)\n",
    "        summary = re.sub(r\"([0-9/*#@+]+)\", \"\", summary)\n",
    "        summary = re.sub(r\"Текстовая версия\", \"\", summary)\n",
    "        # bos_token = '<BOS>'  Текстовая версия\n",
    "        # eos_token = '<EOS>'\n",
    "        # data += bos_token + ' ' + summary + ' ' + eos_token + '\\n'\n",
    "        data += summary\n",
    "    # c = 0\n",
    "    # if c < 2:\n",
    "    #   print(data)\n",
    "    #   c += 1\n",
    "    f.write(data)"
   ],
   "metadata": {
    "id": "NsLD1R-jq2Ow"
   },
   "execution_count": null,
   "outputs": []
  },
  {
   "cell_type": "code",
   "source": [
    "!ls\n",
    "!rm 'train.txt' 'test.txt'\n",
    "!ls"
   ],
   "metadata": {
    "colab": {
     "base_uri": "https://localhost:8080/"
    },
    "id": "kgP-mpMENZsn",
    "outputId": "a3974e06-eb69-448b-b0d2-6c24b4a57242"
   },
   "execution_count": null,
   "outputs": [
    {
     "output_type": "stream",
     "name": "stdout",
     "text": [
      "curr_congrats.txt    gpt2     sample_data\n",
      "curr_congrats.txt.1  ru-gpts  transformers\n",
      "rm: cannot remove 'train.txt': No such file or directory\n",
      "rm: cannot remove 'test.txt': No such file or directory\n",
      "curr_congrats.txt    gpt2     sample_data\n",
      "curr_congrats.txt.1  ru-gpts  transformers\n"
     ]
    }
   ]
  },
  {
   "cell_type": "code",
   "source": [
    "build_dataset(df_train, 'train.txt')\n",
    "build_dataset(df_test, 'test.txt')\n",
    "# build_dataset(df_valid, 'valid.txt')"
   ],
   "metadata": {
    "id": "ZVgfc00jqmkb"
   },
   "execution_count": null,
   "outputs": []
  },
  {
   "cell_type": "code",
   "source": [
    "\n",
    "\n",
    "# tokenizer = AutoTokenizer.from_pretrained(\"anonymous-german-nlp/german-gpt2\")\n",
    "tokenizer = GPT2Tokenizer.from_pretrained(\"sberbank-ai/rugpt3small_based_on_gpt2\")\n",
    " \n",
    "train_path = 'train.txt'\n",
    "test_path = 'test.txt'"
   ],
   "metadata": {
    "id": "Dt-01MWwg9q6"
   },
   "execution_count": null,
   "outputs": []
  },
  {
   "cell_type": "code",
   "source": [
    "!rm ./gpt-letters"
   ],
   "metadata": {
    "colab": {
     "base_uri": "https://localhost:8080/"
    },
    "id": "IQNJ3ZUeUlS1",
    "outputId": "b47ce737-ba59-4e36-fed0-c5d31f272b46"
   },
   "execution_count": null,
   "outputs": [
    {
     "output_type": "stream",
     "name": "stdout",
     "text": [
      "rm: cannot remove './gpt-letters': No such file or directory\n"
     ]
    }
   ]
  },
  {
   "cell_type": "code",
   "source": [
    "# tokenizer.add_special_tokens({'bos_token': '<BOS>', 'eos_token': '<EOS>', 'mask_token': '<MASK>'})"
   ],
   "metadata": {
    "id": "ZrUClPmHVWGP"
   },
   "execution_count": null,
   "outputs": []
  },
  {
   "cell_type": "code",
   "source": [
    "from transformers import TextDataset, DataCollatorForLanguageModeling\n",
    "\n",
    "def load_dataset(train_path,test_path,tokenizer):\n",
    "    train_dataset = TextDataset(\n",
    "          tokenizer=tokenizer,\n",
    "          file_path=train_path,\n",
    "          block_size=128)\n",
    "     \n",
    "    test_dataset = TextDataset(\n",
    "          tokenizer=tokenizer,\n",
    "          file_path=test_path,\n",
    "          block_size=128)   \n",
    "    \n",
    "    data_collator = DataCollatorForLanguageModeling(\n",
    "        tokenizer=tokenizer, mlm=False,\n",
    "    )\n",
    "    return train_dataset, test_dataset, data_collator\n",
    "\n",
    "train_dataset, test_dataset, data_collator = load_dataset(train_path, test_path, tokenizer)"
   ],
   "metadata": {
    "colab": {
     "base_uri": "https://localhost:8080/"
    },
    "id": "KMuzZ8pbkcLE",
    "outputId": "5cefbb30-3d80-4a43-94fc-29e8649bfa1b"
   },
   "execution_count": null,
   "outputs": [
    {
     "output_type": "stream",
     "name": "stderr",
     "text": [
      "/usr/local/lib/python3.7/dist-packages/transformers/data/datasets/language_modeling.py:58: FutureWarning: This dataset will be removed from the library soon, preprocessing should be handled with the 🤗 Datasets library. You can have a look at this example script for pointers: https://github.com/huggingface/transformers/blob/master/examples/pytorch/language-modeling/run_mlm.py\n",
      "  FutureWarning,\n"
     ]
    }
   ]
  },
  {
   "cell_type": "markdown",
   "source": [
    "## **TRAIN MODEL**"
   ],
   "metadata": {
    "id": "kX8ez-MZMTKA"
   }
  },
  {
   "cell_type": "code",
   "source": [
    "from transformers import Trainer, TrainingArguments, AutoModelWithLMHead\n",
    "\n",
    "model = GPT2LMHeadModel.from_pretrained(\"sberbank-ai/rugpt3small_based_on_gpt2\")\n",
    "\n",
    "\n",
    "training_args = TrainingArguments(\n",
    "    output_dir=\"./gpt-letters\", #The output directory\n",
    "    overwrite_output_dir=True, #overwrite the content of the output directory\n",
    "    # num_train_epochs=3, # number of training epochs\n",
    "    # per_device_train_batch_size=32, # batch size for training\n",
    "    # per_device_eval_batch_size=64,  # batch size for evaluation\n",
    "    num_train_epochs=5, # number of training epochs\n",
    "    per_device_train_batch_size=16, # batch size for training\n",
    "    per_device_eval_batch_size=24,  # batch size for evaluation\n",
    "    eval_steps = 400, # Number of update steps between two evaluations.\n",
    "    save_steps=150, # after # steps model is saved \n",
    "    warmup_steps=500,# number of warmup steps for learning rate scheduler\n",
    "    prediction_loss_only=True,\n",
    "    )\n",
    "\n",
    "\n",
    "trainer = Trainer(\n",
    "    model=model,\n",
    "    args=training_args,\n",
    "    data_collator=data_collator,\n",
    "    train_dataset=train_dataset,\n",
    "    eval_dataset=test_dataset,\n",
    ")"
   ],
   "metadata": {
    "colab": {
     "base_uri": "https://localhost:8080/",
     "height": 49,
     "referenced_widgets": [
      "2e58aca2a5bf4b57a0744551ae85809f",
      "46898dfe073a49b587bbc6121771f0b4",
      "ca5ed69075a445319604c7d2dde7d9c3",
      "eeb787e67c3f46719be537ef5accb31d",
      "afbc29f70adc44aa9f22be315c252367",
      "36bfe70302764177b450c39322588956",
      "a5b83369eb864280a42acaefa46a8ab7",
      "4b62c15904544207a65b3425cc5cbac2",
      "e487c54ffcd34ab1a5cdd364508a8409",
      "7417c951967047b68379091bcaa8d1ae",
      "bed71cb972bd481c943106205f8d0e2a"
     ]
    },
    "id": "BJsgeivCkkKa",
    "outputId": "8589e6b8-730d-4aa3-be52-6bfb9ead1978"
   },
   "execution_count": null,
   "outputs": [
    {
     "output_type": "display_data",
     "data": {
      "application/vnd.jupyter.widget-view+json": {
       "model_id": "2e58aca2a5bf4b57a0744551ae85809f",
       "version_minor": 0,
       "version_major": 2
      },
      "text/plain": [
       "Downloading:   0%|          | 0.00/526M [00:00<?, ?B/s]"
      ]
     },
     "metadata": {}
    }
   ]
  },
  {
   "cell_type": "code",
   "source": [
    "trainer.train()"
   ],
   "metadata": {
    "colab": {
     "base_uri": "https://localhost:8080/",
     "height": 499
    },
    "id": "LYVx4OsGk3DP",
    "outputId": "b30e0929-837f-40ac-b9b9-b5fd16339c7e"
   },
   "execution_count": 50,
   "outputs": [
    {
     "metadata": {
      "tags": null
     },
     "name": "stderr",
     "output_type": "stream",
     "text": [
      "***** Running training *****\n",
      "  Num examples = 989\n",
      "  Num Epochs = 5\n",
      "  Instantaneous batch size per device = 16\n",
      "  Total train batch size (w. parallel, distributed & accumulation) = 16\n",
      "  Gradient Accumulation steps = 1\n",
      "  Total optimization steps = 310\n"
     ]
    },
    {
     "data": {
      "text/html": [
       "\n",
       "    <div>\n",
       "      \n",
       "      <progress value='112' max='310' style='width:300px; height:20px; vertical-align: middle;'></progress>\n",
       "      [112/310 54:24 < 1:37:55, 0.03 it/s, Epoch 1.79/5]\n",
       "    </div>\n",
       "    <table border=\"1\" class=\"dataframe\">\n",
       "  <thead>\n",
       "    <tr style=\"text-align: left;\">\n",
       "      <th>Step</th>\n",
       "      <th>Training Loss</th>\n",
       "    </tr>\n",
       "  </thead>\n",
       "  <tbody>\n",
       "  </tbody>\n",
       "</table><p>"
      ],
      "text/plain": [
       "<IPython.core.display.HTML object>"
      ]
     },
     "metadata": {},
     "output_type": "display_data"
    },
    {
     "output_type": "display_data",
     "data": {
      "text/html": [
       "\n",
       "    <div>\n",
       "      \n",
       "      <progress value='310' max='310' style='width:300px; height:20px; vertical-align: middle;'></progress>\n",
       "      [310/310 2:32:21, Epoch 5/5]\n",
       "    </div>\n",
       "    <table border=\"1\" class=\"dataframe\">\n",
       "  <thead>\n",
       "    <tr style=\"text-align: left;\">\n",
       "      <th>Step</th>\n",
       "      <th>Training Loss</th>\n",
       "    </tr>\n",
       "  </thead>\n",
       "  <tbody>\n",
       "  </tbody>\n",
       "</table><p>"
      ],
      "text/plain": [
       "<IPython.core.display.HTML object>"
      ]
     },
     "metadata": {}
    },
    {
     "output_type": "stream",
     "name": "stderr",
     "text": [
      "Saving model checkpoint to ./gpt-letters/checkpoint-150\n",
      "Configuration saved in ./gpt-letters/checkpoint-150/config.json\n",
      "Model weights saved in ./gpt-letters/checkpoint-150/pytorch_model.bin\n",
      "Saving model checkpoint to ./gpt-letters/checkpoint-300\n",
      "Configuration saved in ./gpt-letters/checkpoint-300/config.json\n",
      "Model weights saved in ./gpt-letters/checkpoint-300/pytorch_model.bin\n",
      "\n",
      "\n",
      "Training completed. Do not forget to share your model on huggingface.co/models =)\n",
      "\n",
      "\n"
     ]
    },
    {
     "output_type": "execute_result",
     "data": {
      "text/plain": [
       "TrainOutput(global_step=310, training_loss=2.387713623046875, metrics={'train_runtime': 9172.6014, 'train_samples_per_second': 0.539, 'train_steps_per_second': 0.034, 'total_flos': 323022274560000.0, 'train_loss': 2.387713623046875, 'epoch': 5.0})"
      ]
     },
     "metadata": {},
     "execution_count": 50
    }
   ]
  },
  {
   "cell_type": "code",
   "source": [
    "trainer.save_model()"
   ],
   "metadata": {
    "id": "h_hdlyW_k61Z",
    "colab": {
     "base_uri": "https://localhost:8080/"
    },
    "outputId": "96bdedae-8c4f-41e4-fa57-b9e4c1460869"
   },
   "execution_count": 51,
   "outputs": [
    {
     "output_type": "stream",
     "name": "stderr",
     "text": [
      "Saving model checkpoint to ./gpt-letters\n",
      "Configuration saved in ./gpt-letters/config.json\n",
      "Model weights saved in ./gpt-letters/pytorch_model.bin\n"
     ]
    }
   ]
  },
  {
   "cell_type": "code",
   "source": [
    "# my_model = torch.load('./gpt-letters/pytorch_model.bin')\n",
    "from transformers import pipeline\n",
    "\n",
    "pu = pipeline('text-generation',model='./gpt-letters', tokenizer=tokenizer, max_length=500)"
   ],
   "metadata": {
    "id": "0BQfswfh3XXc",
    "colab": {
     "base_uri": "https://localhost:8080/"
    },
    "outputId": "eec7bf40-01b0-4ef0-829e-1242af720220"
   },
   "execution_count": 52,
   "outputs": [
    {
     "output_type": "stream",
     "name": "stderr",
     "text": [
      "loading configuration file ./gpt-letters/config.json\n",
      "Model config GPT2Config {\n",
      "  \"_name_or_path\": \"./gpt-letters\",\n",
      "  \"activation_function\": \"gelu_new\",\n",
      "  \"architectures\": [\n",
      "    \"GPT2LMHeadModel\"\n",
      "  ],\n",
      "  \"attn_pdrop\": 0.1,\n",
      "  \"bos_token_id\": 50256,\n",
      "  \"embd_pdrop\": 0.1,\n",
      "  \"eos_token_id\": 50256,\n",
      "  \"gradient_checkpointing\": false,\n",
      "  \"initializer_range\": 0.02,\n",
      "  \"layer_norm_epsilon\": 1e-05,\n",
      "  \"model_type\": \"gpt2\",\n",
      "  \"n_ctx\": 2048,\n",
      "  \"n_embd\": 768,\n",
      "  \"n_head\": 12,\n",
      "  \"n_inner\": null,\n",
      "  \"n_layer\": 12,\n",
      "  \"n_positions\": 2048,\n",
      "  \"reorder_and_upcast_attn\": false,\n",
      "  \"resid_pdrop\": 0.1,\n",
      "  \"scale_attn_by_inverse_layer_idx\": false,\n",
      "  \"scale_attn_weights\": true,\n",
      "  \"summary_activation\": null,\n",
      "  \"summary_first_dropout\": 0.1,\n",
      "  \"summary_proj_to_labels\": true,\n",
      "  \"summary_type\": \"cls_index\",\n",
      "  \"summary_use_proj\": true,\n",
      "  \"torch_dtype\": \"float32\",\n",
      "  \"transformers_version\": \"4.14.1\",\n",
      "  \"use_cache\": true,\n",
      "  \"vocab_size\": 50264\n",
      "}\n",
      "\n",
      "loading configuration file ./gpt-letters/config.json\n",
      "Model config GPT2Config {\n",
      "  \"_name_or_path\": \"./gpt-letters\",\n",
      "  \"activation_function\": \"gelu_new\",\n",
      "  \"architectures\": [\n",
      "    \"GPT2LMHeadModel\"\n",
      "  ],\n",
      "  \"attn_pdrop\": 0.1,\n",
      "  \"bos_token_id\": 50256,\n",
      "  \"embd_pdrop\": 0.1,\n",
      "  \"eos_token_id\": 50256,\n",
      "  \"gradient_checkpointing\": false,\n",
      "  \"initializer_range\": 0.02,\n",
      "  \"layer_norm_epsilon\": 1e-05,\n",
      "  \"model_type\": \"gpt2\",\n",
      "  \"n_ctx\": 2048,\n",
      "  \"n_embd\": 768,\n",
      "  \"n_head\": 12,\n",
      "  \"n_inner\": null,\n",
      "  \"n_layer\": 12,\n",
      "  \"n_positions\": 2048,\n",
      "  \"reorder_and_upcast_attn\": false,\n",
      "  \"resid_pdrop\": 0.1,\n",
      "  \"scale_attn_by_inverse_layer_idx\": false,\n",
      "  \"scale_attn_weights\": true,\n",
      "  \"summary_activation\": null,\n",
      "  \"summary_first_dropout\": 0.1,\n",
      "  \"summary_proj_to_labels\": true,\n",
      "  \"summary_type\": \"cls_index\",\n",
      "  \"summary_use_proj\": true,\n",
      "  \"torch_dtype\": \"float32\",\n",
      "  \"transformers_version\": \"4.14.1\",\n",
      "  \"use_cache\": true,\n",
      "  \"vocab_size\": 50264\n",
      "}\n",
      "\n",
      "loading weights file ./gpt-letters/pytorch_model.bin\n",
      "All model checkpoint weights were used when initializing GPT2LMHeadModel.\n",
      "\n",
      "All the weights of GPT2LMHeadModel were initialized from the model checkpoint at ./gpt-letters.\n",
      "If your task is similar to the task the model of the checkpoint was trained on, you can already use GPT2LMHeadModel for predictions without further training.\n"
     ]
    }
   ]
  },
  {
   "cell_type": "code",
   "source": [
    "pu(\"Александру Сергеевичу Пушкину\")[0]['generated_text']"
   ],
   "metadata": {
    "id": "U1npn-k-5olF",
    "colab": {
     "base_uri": "https://localhost:8080/",
     "height": 435
    },
    "outputId": "d89eceba-c499-42f2-920e-a2f62aff665f"
   },
   "execution_count": 53,
   "outputs": [
    {
     "output_type": "stream",
     "name": "stderr",
     "text": [
      "Setting `pad_token_id` to `eos_token_id`:50256 for open-end generation.\n"
     ]
    },
    {
     "output_type": "execute_result",
     "data": {
      "application/vnd.google.colaboratory.intrinsic+json": {
       "type": "string"
      },
      "text/plain": [
       "'Александру Сергеевичу Пушкину, народному артисту России Уважаемый Александр Сергеевич! Примите мои поздравления с -летием и наилучшие пожелания. Талантливый композитор, Вы по праву принадлежите к плеяде выдающихся композиторов, чьи произведения по праву считаются классикой отечественной литературы. Талантливый композитор, Вы по праву принадлежите к плеяде выдающихся композиторов, чьи произведения по праву считаются классикой отечественной литературы. Талантливый композитор, Вы по праву принадлежите к плеяде выдающихся композиторов, чьи произведения по праву считаются классикой отечественной литературы. Талантливый композитор, Вы по праву принадлежите к плеяде выдающихся композиторов, чьи произведения по праву считаются классикой отечественной литературы. Талантливый композитор, Вы по праву принадлежите к плеяде выдающихся композиторов, чьи произведения по праву считаются классикой отечественной литературы. Талантливый композитор, Вы по праву принадлежите к плеяде выдающихся композиторов, чьи произведения по праву считаются классикой отечественной литературы. Талантливый композитор, Вы по праву принадлежите к плеяде выдающихся композиторов, чьи произведения по праву считаются классикой отечественной литературы. Талантливый композитор, Вы по праву принадлежите к плеяде выдающихся композиторов, чьи произведения по праву считаются классикой отечественной литературы. Талантливый композитор, Вы по праву принадлежите к плеяде выдающихся композиторов, чьи произведения по праву считаются классикой отечественной литературы. Талантливый композитор, Вы по праву принадлежите к плеяде выдающихся композиторов, чьи произведения по праву считаются классикой отечественной литературы. Талантливый композитор, Вы по праву принадлежите к плеяде выдающихся композиторов, чьи произведения по праву считаются классикой отечественной литературы. Талантливый композитор, Вы по праву принадлежите к плеяде выдающихся композиторов, чьи произведения по праву считаются классикой отечественной литературы. Талантливый композитор, Вы по праву принадлежите к плеяде выдающихся композиторов, чьи произведения по праву считаются классикой отечественной литературы. Талантливый композитор, Вы по праву принадлежите к плеяде выдающихся композиторов, чьи произведения по праву считаются классикой отечественной литературы. Талантливый композитор, Вы по праву принадлежите к плеяде выдающихся композиторов, чьи произведения по праву считаются классикой отечественной литературы. Талантливый композитор, Вы по праву принадлежите к плеяде выдающихся композиторов, чьи произведения по праву считаются классикой отечественной литературы. Талантливый композитор, Вы по праву принадлежите к плеяде выдающихся композиторов, чьи произведения по праву'"
      ]
     },
     "metadata": {},
     "execution_count": 53
    }
   ]
  },
  {
   "cell_type": "code",
   "source": [
    "pu(\"Кровавым убийцам детей\")[0]['generated_text']"
   ],
   "metadata": {
    "id": "ZoF17-neQZ4V",
    "outputId": "9d494e55-156d-4533-b7ea-7c74dfe743d4",
    "colab": {
     "base_uri": "https://localhost:8080/",
     "height": 399
    }
   },
   "execution_count": 66,
   "outputs": [
    {
     "output_type": "stream",
     "name": "stderr",
     "text": [
      "Setting `pad_token_id` to `eos_token_id`:50256 for open-end generation.\n"
     ]
    },
    {
     "output_type": "execute_result",
     "data": {
      "application/vnd.google.colaboratory.intrinsic+json": {
       "type": "string"
      },
      "text/plain": [
       "'Кровавым убийцам детей и внуков.Желаю вам здоровья, благополучия и всего наилучшего. Владимир Путин       .   Текстовая версияКоллективу и ветеранам Государственного академического театра драмы имени А.П.Чехова Дорогие друзья!Поздравляю вас с -летием Государственного академического театра драмы имени А.П.Чехова.Этот яркий, самобытный, самобытный театр, созданный в  году, по праву считается одним из лучших в России. Его постановки пользуются неизменным успехом у зрителей, пользуются неизменным успехом у коллег и многочисленных поклонников. И конечно, отмечу, что сегодня театр является одним из ведущих российских театров, его репертуар пополняется новыми постановками, которые по достоинству оценят любители драматического искусства.Желаю вам новых творческих успехов и всего наилучшего. Владимир Путин       .   Текстовая версияКоллективу и ветеранам Государственного академического театра драмы имени А.П.Чехова Дорогие друзья!Поздравляю вас с -летием Государственного академического театра драмы имени А.П.Чехова.Этот яркий, самобытный, самобытный театр, созданный в  году, по праву считается одним из лучших в России. Его постановки пользуются неизменным успехом у зрителей, пользуются неизменным успехом у коллег и многочисленных поклонников.Желаю вам здоровья, благополучия и всего наилучшего. Владимир Путин       .   Текстовая версияКоллективу и ветеранам Государственного академического театра драмы имени А.П.Чехова Дорогие друзья!Поздравляю вас с -летием Государственного академического театра драмы имени А.П.Чехова.Этот яркий, самобытный, самобытный театр, созданный в  году, по праву считается одним из лучших в России. Его постановки пользуются неизменным успехом у зрителей, пользуются неизменным успехом у многочисленных поклонников. И конечно, отмечу, что сегодня театр является одним из ведущих российских театров, его репертуар пополняется новыми постановками, которые по достоинству оценят любители драматического искусства.Желаю вам здоровья, благополучия и всего наилучшего. Владимир Путин       .   Текстовая версияКоллективу и ветеранам Государственного академического театра драмы имени А.П.Чехова Дорогие друзья!Поздравляю вас с -летием Государственного академического театра драмы имени А.П.Чехова.Этот яркий, самобытный, самобытный театр, созданный в  году, по праву считается одним из лучших в России. Его постановки пользуются неизменным успехом'"
      ]
     },
     "metadata": {},
     "execution_count": 66
    }
   ]
  },
  {
   "cell_type": "code",
   "source": [
    "pu(\"Уважаемые осквернители святынь и насильники\")[0]['generated_text']"
   ],
   "metadata": {
    "id": "pdeVuFr4Qwd1",
    "outputId": "0c788c90-bea2-4ce8-ac14-7a35ab5aadfd",
    "colab": {
     "base_uri": "https://localhost:8080/",
     "height": 454
    }
   },
   "execution_count": 67,
   "outputs": [
    {
     "output_type": "stream",
     "name": "stderr",
     "text": [
      "Setting `pad_token_id` to `eos_token_id`:50256 for open-end generation.\n"
     ]
    },
    {
     "output_type": "execute_result",
     "data": {
      "application/vnd.google.colaboratory.intrinsic+json": {
       "type": "string"
      },
      "text/plain": [
       "'Уважаемые осквернители святынь и насильники, осквернители святынь и насильники!Поздравляю вас с праздником – Днём памяти жертв Холокоста.Этот праздник объединяет людей, которые по праву считают себя христианами, искренне любят свою Родину, своих предков, искренне стремятся к добру и справедливости.Желаю вам здоровья, благополучия и всего наилучшего. Владимир Путин       .   Текстовая версияКоллективу и ветеранам Государственного академического театра имени Евгения Вахтангова Дорогие друзья!Поздравляю вас с -летием Государственного академического театра имени Евгения Вахтангова.Этот юбилей – дань уважения выдающимся отечественным и зарубежным актёрам, которые внесли большой вклад в развитие отечественного театра, создали неповторимую атмосферу, создали неповторимую атмосферу, которая по праву считается одной из самых ярких и запоминающихся в отечественной культуре.Важно, что сегодня Государственный академический театр имени Вахтангова – это уникальное, уникальное по красоте и содержательности театральное пространство, которое по праву считается одним из лучших в России. И конечно, отмечу, что сегодня он по праву считается одним из крупнейших в мире театров, где играют ведущие артисты, играют ведущие режиссёры, играют ведущие артисты, играют ведущие артисты, играют ведущие артисты, играют ведущие артисты, играют ведущие артисты, играют ведущие артисты, играют ведущие артисты, играют ведущие артисты, играют ведущие артисты, играют ведущие артисты, играют ведущие артисты, играют ведущие артисты, играют ведущие артисты, играют ведущие артисты, играют ведущие артисты, играют ведущие артисты, играют ведущие артисты, играют ведущие артисты, играют ведущие артисты, играют ведущие артисты, играют ведущие артисты, играют ведущие артисты, играют ведущие артисты, играют ведущие артисты, играют ведущие артисты, играют ведущие артисты, играют ведущие артисты, играют ведущие артисты, играют ведущие артисты, играют ведущие артисты, играют ведущие артисты, играют ведущие артисты, играют ведущие артисты, играют ведущие артисты, играют ведущие артисты, играют ведущие артисты, играют ведущие артисты, играют ведущие артисты, играют ведущие артисты, играют ведущие артисты, играют ведущие артисты, играют ведущие артисты, играют ведущие артисты, играют ведущие артисты, играют ведущие артисты, играют ведущие артисты, играют ведущие артисты, играют ведущие артисты, играют ведущие артисты, играют ведущие артисты, играют ведущие артисты, играют ведущие артисты, играют ведущие артисты, играют ведущие артисты, играют ведущие артисты, играют ведущие артисты, играют ведущие артисты, играют ведущие артисты, играют ведущие артисты, играют ведущие артисты, играют ведущие артисты, играют ведущие артисты, играют ведущие артисты, играют ведущие артисты, играют ведущие артисты, играют ведущие артисты'"
      ]
     },
     "metadata": {},
     "execution_count": 67
    }
   ]
  },
  {
   "cell_type": "code",
   "source": [
    "pu(\"Хочу сказать этому Обэме\")[0]['generated_text']"
   ],
   "metadata": {
    "id": "jDCpGmaGQzsT",
    "outputId": "67c00ca9-16ad-4570-9f4e-4737a94bc4ad",
    "colab": {
     "base_uri": "https://localhost:8080/",
     "height": 199
    }
   },
   "execution_count": 68,
   "outputs": [
    {
     "output_type": "stream",
     "name": "stderr",
     "text": [
      "Setting `pad_token_id` to `eos_token_id`:50256 for open-end generation.\n"
     ]
    },
    {
     "output_type": "execute_result",
     "data": {
      "application/vnd.google.colaboratory.intrinsic+json": {
       "type": "string"
      },
      "text/plain": [
       "'Хочу сказать этому Обэме, что Вы по праву принадлежите к плеяде выдающихся мастеров, которые внесли большой вклад в развитие современного искусства, в развитие современного искусства. И сегодня Вы по праву принадлежите к плеяде выдающихся мастеров, которые внесли большой вклад в развитие современного искусства, в развитие современного искусства. Желаю Вам здоровья, благополучия и всего наилучшего. Владимир Путин       .   Текстовая версияКоллективу и ветеранам Государственного академического театра имени Евгения Вахтангова Дорогие друзья!Поздравляю вас с -летием Государственного академического театра имени Евгения Вахтангова.Этот юбилей – дань уважения выдающимся деятелям отечественного театра, которые внесли большой вклад в развитие отечественного искусства, в развитие современного искусства. И сегодня театр имени Вахтангова – это яркий, многогранный, многогранный театр, который по праву считается одним из лучших в России. И конечно, он по праву считается одним из лучших в мире. И конечно, он по праву считается одним из лучших в мире. И конечно, он по праву считается одним из лучших в мире. И конечно, он по праву считается одним из лучших в мире. И конечно, он по праву считается одним из лучших в мире. И конечно, он по праву считается одним из лучших в мире. И конечно, он по праву считается одним из лучших в мире.Желаю вам новых творческих успехов и всего наилучшего. Владимир Путин       .   Текстовая версияКоллективу и ветеранам Государственного академического театра имени Евгения Вахтангова Дорогие друзья!Поздравляю вас с -летием Государственного академического театра имени Евгения Вахтангова.Этот юбилей – дань уважения выдающимся деятелям отечественного театра, которые внесли большой вклад в развитие отечественного искусства, в развитие современного искусства. И сегодня театр имени Вахтангова – это яркий, многогранный, многогранный театр, который по праву считается одним из лучших в мире. И конечно, он по праву считается одним из лучших в мире.Желаю вам новых творческих успехов и всего наилучшего. Владимир Путин       .   Текстовая версияКоллективу и ветеранам Государственного академического театра имени Евгения Вахтангова Дорогие друзья!Поздравляю вас с -летием Государственного академического театра имени Евгения Вахтангова.Этот юбилей – дань уважения выдающимся деятелям отечественного театра, которые внесли большой вклад в развитие отечественного искусства, в развитие современного искусства. И конечно, он по праву считается одним из лучших в мире. И конечно, он по праву считается одним из лучших'"
      ]
     },
     "metadata": {},
     "execution_count": 68
    }
   ]
  },
  {
   "cell_type": "code",
   "source": [
    "pu(\"Куцеву Диме\")[0]['generated_text']"
   ],
   "metadata": {
    "id": "gNRcJwBw3WFP",
    "colab": {
     "base_uri": "https://localhost:8080/",
     "height": 363
    },
    "outputId": "965f3792-cf40-4be1-a189-4afc6bd33e3b"
   },
   "execution_count": 57,
   "outputs": [
    {
     "output_type": "stream",
     "name": "stderr",
     "text": [
      "Setting `pad_token_id` to `eos_token_id`:50256 for open-end generation.\n"
     ]
    },
    {
     "output_type": "execute_result",
     "data": {
      "application/vnd.google.colaboratory.intrinsic+json": {
       "type": "string"
      },
      "text/plain": [
       "'Куцеву Диме, победителю чемпионата мира по спортивной борьбе  года в Будапеште в соревнованиях по греко-римской борьбе в весовой категории до  кг Уважаемый Дима! Поздравляю Вас с триумфом. Вы блестяще выступили на чемпионате мира по спортивной борьбе в Будапеште, убедительно доказали, что Вы достойны звания олимпийского чемпиона. Желаю Вам новых успехов и всего наилучшего. Владимир Путин       .   Текстовая версияКоллективу и ветеранам АО «Национальная компания «АВИА» Уважаемые друзья!Поздравляю вас с -летием АО «Национальная компания «АВИА».За прошедшие годы АО «Национальная компания «АВИА» зарекомендовало себя как крупный, надёжный, динамично развивающийся холдинг, который по праву пользуется высоким авторитетом как в России, так и за её пределами.За прошедшие годы АО «Национальная компания «АВИА» зарекомендовало себя как крупный, надёжный, динамично развивающийся холдинг, который по праву пользуется высоким авторитетом как в России, так и за её пределами.За прошедшие годы АО «Национальная компания «АВИА» зарекомендовало себя как крупный, надёжный, динамично развивающийся холдинг, который по праву пользуется высоким авторитетом как в России, так и за её пределами.Желаю вам новых успехов и всего наилучшего. Владимир Путин       .   Текстовая версияКоллективу и ветеранам АО «Национальная компания «АВИА» Уважаемые друзья!Поздравляю вас с -летием АО «Национальная компания «АВИА».За прошедшие годы АО «Национальная компания «АВИА» зарекомендовало себя как крупный, надёжный, динамично развивающийся холдинг, который по праву пользуется высоким авторитетом как в России, так и за её пределами.Желаю вам новых успехов и всего наилучшего. Владимир Путин       .   Текстовая версияКоллективу и ветеранам АО «Национальная компания «АВИА» Уважаемые друзья!Поздравляю вас с -летием АО «Национальная компания «АВИА».За прошедшие годы АО «Национальная компания «АВИА» зарекомендовало себя как крупный, надёжный, динамично развивающийся холдинг, который по праву пользуется высоким авторитетом как в России, так и за её пределами.Желаю вам новых успехов и всего наилучшего. Владимир Путин       .   Текстовая версияКоллектив'"
      ]
     },
     "metadata": {},
     "execution_count": 57
    }
   ]
  },
  {
   "cell_type": "code",
   "source": [
    "pu(\"Мычалкин\")[0]['generated_text']"
   ],
   "metadata": {
    "id": "PWzMzuj6RB_5",
    "outputId": "e99481e2-8054-4c61-ad0f-1b769670a3f9",
    "colab": {
     "base_uri": "https://localhost:8080/",
     "height": 199
    }
   },
   "execution_count": 69,
   "outputs": [
    {
     "output_type": "stream",
     "name": "stderr",
     "text": [
      "Setting `pad_token_id` to `eos_token_id`:50256 for open-end generation.\n"
     ]
    },
    {
     "output_type": "execute_result",
     "data": {
      "application/vnd.google.colaboratory.intrinsic+json": {
       "type": "string"
      },
      "text/plain": [
       "'Мычалкин, заслуженный мастер спорта СССР, олимпийский чемпион, двукратный олимпийский чемпион, двукратный чемпион мира, двукратный чемпион Европы, мира и мира, Вы по праву принадлежите к числу ярких, талантливых, преданных своему призванию спортсменов. Вы по праву принадлежите к числу ярких, талантливых, преданных своему призванию спортсменов. И конечно, особо отмечу Ваш высокий профессионализм, умение работать в команде, умение находить нестандартные решения, добиваться поставленных целей. Желаю Вам здоровья, благополучия и всего наилучшего. Дмитрий Медведев       .   Текстовая версияКоллективу и ветеранам Государственного академического театра драмы имени А.П.Чехова Дорогие друзья!Поздравляю вас с -летием Государственного академического театра драмы имени А.П.Чехова.Этот яркий, самобытный, самобытный театр, созданный в  году, по праву считается одним из самых известных и востребованных в нашей стране. Его постановки пользуются неизменным успехом у зрителей, пользуются неизменным успехом у коллег и коллег по цеху. И конечно, они всегда вызывают искреннюю, неподдельную любовь зрителей.Желаю вам новых творческих успехов, вдохновения и всего наилучшего. Владимир Путин       .   Текстовая версияКоллективу и ветеранам Государственного академического театра драмы имени А.П.Чехова Дорогие друзья!Поздравляю вас с -летием Государственного академического театра драмы имени А.П.Чехова.Этот яркий, самобытный, самобытный театр, созданный в  году, по праву считается одним из самых известных и востребованных в нашей стране. Его постановки пользуются неизменным успехом у зрителей, пользуются неизменным успехом у коллег и коллег по цеху. И конечно, они всегда вызывают искреннюю, неподдельную любовь зрителей. Владимир Путин       .   Текстовая версияКоллективу и ветеранам Государственного академического театра драмы имени А.П.Чехова Дорогие друзья!Поздравляю вас с -летием Государственного академического театра драмы имени А.П.Чехова.Этот яркий, самобытный, самобытный театр, созданный в  году, по праву считается одним из самых известных и востребованных в нашей стране. Его постановки пользуются неизменным успехом у зрителей, пользуются неизменным успехом у коллег и коллег по цеху. И конечно, они всегда вызывают искреннюю, неподдельную любовь зрителей. Владимир Путин       .   Текстовая версияКоллективу и ветеранам Государственного академического театра драмы имени А.П.Чех'"
      ]
     },
     "metadata": {},
     "execution_count": 69
    }
   ]
  },
  {
   "cell_type": "code",
   "source": [
    "pu(\"Мычалкину\")[0]['generated_text']"
   ],
   "metadata": {
    "id": "j6KQBCpWRfvq",
    "outputId": "da85702e-d66e-4eca-ea7d-a6193475beb4",
    "colab": {
     "base_uri": "https://localhost:8080/",
     "height": 199
    }
   },
   "execution_count": 70,
   "outputs": [
    {
     "output_type": "stream",
     "name": "stderr",
     "text": [
      "Setting `pad_token_id` to `eos_token_id`:50256 for open-end generation.\n"
     ]
    },
    {
     "output_type": "execute_result",
     "data": {
      "application/vnd.google.colaboratory.intrinsic+json": {
       "type": "string"
      },
      "text/plain": [
       "'Мычалкину, победителю чемпионата мира по водным видам спорта  года в Будапеште в соревнованиях по плаванию на дистанции  метров брассом Уважаемый Михаил Сергеевич!Поздравляю Вас с триумфом.Вы вновь подтвердили свой высокий класс, завоевав титул чемпиона мира.Желаю Вам новых достижений и всего наилучшего. Владимир Путин       .   Текстовая версияКоллективу и ветеранам Государственного музея-заповедника «Царицыно» Дорогие друзья!Поздравляю вас с -летием Государственного музея-заповедника «Царицыно».В нашей стране и за рубежом Вы известны как талантливый, самобытный художник, автор уникальных произведений, которые по праву считаются подлинными шедеврами отечественной живописи.Важно, что Вы бережно храните богатейшее собрание богатейших художественных произведений, которые по праву считаются подлинными шедеврами отечественной живописи. И конечно, Вы всегда открыты для новых творческих идей и начинаний.Желаю Вам новых успехов и всего самого доброго. Владимир Путин       .   Текстовая версияКоллективу и ветеранам Государственного музея-заповедника «Царицыно» Дорогие друзья!Поздравляю вас с -летием Государственного музея-заповедника «Царицыно».В нашей стране и за рубежом Вы известны как талантливый, самобытный художник, автор уникальных произведений, которые по праву считаются подлинными шедеврами отечественной живописи.Важно, что Вы бережно храните богатейшее собрание богатейших художественных произведений, которые по праву считаются подлинными шедеврами отечественной живописи. И конечно, Вы всегда открыты для новых творческих идей и начинаний.Желаю Вам новых успехов и всего самого доброго. Владимир Путин       .   Текстовая версияКоллективу и ветеранам Государственного музея-заповедника «Царицыно» Дорогие друзья!Поздравляю вас с -летием Государственного музея-заповедника «Царицыно».В нашей стране и за рубежом Вы известны как талантливый, самобытный художник, автор уникальных произведений, которые по праву считаются подлинными шедеврами отечественной живописи.Важно, что Вы бережно храните богатейшее собрание богатейших художественных произведений, которые по праву считаются подлинными шедеврами отечественной живописи. И конечно, Вы всегда открыты для новых творческих идей и начинаний.Желаю Вам новых успехов и всего самого доброго. Владимир Путин       .   Текстовая версияКоллективу и ветеранам Государственного музея-заповедника «Царицыно» Дорогие друзья!Поздравляю'"
      ]
     },
     "metadata": {},
     "execution_count": 70
    }
   ]
  },
  {
   "cell_type": "code",
   "source": [
    "from google.colab import files"
   ],
   "metadata": {
    "id": "jSo8B_fZ6MW2"
   },
   "execution_count": null,
   "outputs": []
  },
  {
   "cell_type": "code",
   "source": [
    "import os\n",
    "for file in os.listdir('./gpt-letters'):\n",
    "  files.download(f'./gpt-letters/{file}')"
   ],
   "metadata": {
    "id": "xXyKxjB-9pOT"
   },
   "execution_count": null,
   "outputs": []
  },
  {
   "cell_type": "code",
   "source": [
    "import os\n",
    "for file in os.listdir('./gpt-letters'):\n",
    "  print(file)"
   ],
   "metadata": {
    "id": "ilYrtz_x9t2j"
   },
   "execution_count": null,
   "outputs": []
  },
  {
   "cell_type": "code",
   "source": [
    "from google.colab import drive\n",
    "drive.mount('/content/gdrive')"
   ],
   "metadata": {
    "id": "ij1Hznko1l8s",
    "colab": {
     "base_uri": "https://localhost:8080/"
    },
    "outputId": "82aab99e-bbcf-47a5-ce14-d7a0d260b494"
   },
   "execution_count": 63,
   "outputs": [
    {
     "output_type": "stream",
     "name": "stdout",
     "text": [
      "Mounted at /content/gdrive\n"
     ]
    }
   ]
  },
  {
   "cell_type": "code",
   "source": [
    "!ls\n",
    "!cp gpt-letters/pytorch_model.bin  gdrive/MyDrive/pytorch_model.bin\n",
    "# !cp 'gpt-letters/checkpoint-150'  'gdrive/MyDrive/pytorch_model.bin'"
   ],
   "metadata": {
    "id": "zXWxS5rW1v9I"
   },
   "execution_count": null,
   "outputs": []
  },
  {
   "cell_type": "code",
   "source": [
    "!ls\n",
    "!cp gpt-letters/pytorch_model.bin  gdrive/MyDrive/pytorch_model.bin\n",
    "# !cp 'gpt-letters/checkpoint-150'  'gdrive/MyDrive/pytorch_model.bin'"
   ],
   "metadata": {
    "id": "4u1BPTmYQN8V",
    "outputId": "2e53241a-2d72-486d-e358-f68456e02632",
    "colab": {
     "base_uri": "https://localhost:8080/"
    }
   },
   "execution_count": 64,
   "outputs": [
    {
     "output_type": "stream",
     "name": "stdout",
     "text": [
      "cached_lm_GPT2Tokenizer_128_test.txt\t    curr_congrats.txt.1  sample_data\n",
      "cached_lm_GPT2Tokenizer_128_test.txt.lock   gdrive\t\t test.txt\n",
      "cached_lm_GPT2Tokenizer_128_train.txt\t    gpt2\t\t train.txt\n",
      "cached_lm_GPT2Tokenizer_128_train.txt.lock  gpt-letters\t\t transformers\n",
      "curr_congrats.txt\t\t\t    ru-gpts\n"
     ]
    }
   ]
  },
  {
   "cell_type": "code",
   "source": [
    "import os\n",
    "for file in os.listdir('./gpt-letters'):\n",
    "  if str(file) != 'pytorch_model.bin':\n",
    "    files.download(f'./gpt-letters/{file}')"
   ],
   "metadata": {
    "id": "WOb4KCZXQVJr"
   },
   "execution_count": null,
   "outputs": []
  }
 ]
}