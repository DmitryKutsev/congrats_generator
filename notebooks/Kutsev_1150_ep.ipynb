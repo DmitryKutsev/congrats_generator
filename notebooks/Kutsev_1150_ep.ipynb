{
 "cells": [
  {
   "cell_type": "code",
   "execution_count": 1,
   "id": "8894e5b0-44ab-4658-8ac2-32d3e5458472",
   "metadata": {},
   "outputs": [
    {
     "name": "stdout",
     "output_type": "stream",
     "text": [
      "\u001b[31mERROR: Exception:\n",
      "Traceback (most recent call last):\n",
      "  File \"/opt/conda/lib/python3.8/site-packages/pip/_internal/cli/base_command.py\", line 180, in _main\n",
      "    status = self.run(options, args)\n",
      "  File \"/opt/conda/lib/python3.8/site-packages/pip/_internal/cli/req_command.py\", line 205, in wrapper\n",
      "    return func(self, options, args)\n",
      "  File \"/opt/conda/lib/python3.8/site-packages/pip/_internal/commands/install.py\", line 278, in run\n",
      "    wheel_cache = WheelCache(options.cache_dir, options.format_control)\n",
      "  File \"/opt/conda/lib/python3.8/site-packages/pip/_internal/cache.py\", line 238, in __init__\n",
      "    self._ephem_cache = EphemWheelCache(format_control)\n",
      "  File \"/opt/conda/lib/python3.8/site-packages/pip/_internal/cache.py\", line 209, in __init__\n",
      "    self._temp_dir = TempDirectory(\n",
      "  File \"/opt/conda/lib/python3.8/site-packages/pip/_internal/utils/temp_dir.py\", line 130, in __init__\n",
      "    path = self._create(kind)\n",
      "  File \"/opt/conda/lib/python3.8/site-packages/pip/_internal/utils/temp_dir.py\", line 174, in _create\n",
      "    path = os.path.realpath(tempfile.mkdtemp(prefix=f\"pip-{kind}-\"))\n",
      "  File \"/opt/conda/lib/python3.8/tempfile.py\", line 358, in mkdtemp\n",
      "    _os.mkdir(file, 0o700)\n",
      "OSError: [Errno 28] No space left on device: '/tmp/pip-ephem-wheel-cache-5baucs_j'\u001b[0m\n",
      "\u001b[33mWARNING: You are using pip version 21.1.3; however, version 21.3.1 is available.\n",
      "You should consider upgrading via the '/opt/conda/bin/python -m pip install --upgrade pip' command.\u001b[0m\n"
     ]
    }
   ],
   "source": [
    "!pip install transformers -U"
   ]
  },
  {
   "cell_type": "code",
   "execution_count": 2,
   "id": "7b6684ba-0543-489b-b4fb-060aa0fc3f07",
   "metadata": {},
   "outputs": [
    {
     "name": "stdout",
     "output_type": "stream",
     "text": [
      "\u001b[31mERROR: Exception:\n",
      "Traceback (most recent call last):\n",
      "  File \"/opt/conda/lib/python3.8/site-packages/pip/_internal/cli/base_command.py\", line 180, in _main\n",
      "    status = self.run(options, args)\n",
      "  File \"/opt/conda/lib/python3.8/site-packages/pip/_internal/cli/req_command.py\", line 205, in wrapper\n",
      "    return func(self, options, args)\n",
      "  File \"/opt/conda/lib/python3.8/site-packages/pip/_internal/commands/install.py\", line 278, in run\n",
      "    wheel_cache = WheelCache(options.cache_dir, options.format_control)\n",
      "  File \"/opt/conda/lib/python3.8/site-packages/pip/_internal/cache.py\", line 238, in __init__\n",
      "    self._ephem_cache = EphemWheelCache(format_control)\n",
      "  File \"/opt/conda/lib/python3.8/site-packages/pip/_internal/cache.py\", line 209, in __init__\n",
      "    self._temp_dir = TempDirectory(\n",
      "  File \"/opt/conda/lib/python3.8/site-packages/pip/_internal/utils/temp_dir.py\", line 130, in __init__\n",
      "    path = self._create(kind)\n",
      "  File \"/opt/conda/lib/python3.8/site-packages/pip/_internal/utils/temp_dir.py\", line 174, in _create\n",
      "    path = os.path.realpath(tempfile.mkdtemp(prefix=f\"pip-{kind}-\"))\n",
      "  File \"/opt/conda/lib/python3.8/tempfile.py\", line 358, in mkdtemp\n",
      "    _os.mkdir(file, 0o700)\n",
      "OSError: [Errno 28] No space left on device: '/tmp/pip-ephem-wheel-cache-rkvas_ng'\u001b[0m\n",
      "\u001b[33mWARNING: You are using pip version 21.1.3; however, version 21.3.1 is available.\n",
      "You should consider upgrading via the '/opt/conda/bin/python -m pip install --upgrade pip' command.\u001b[0m\n",
      "Note: you may need to restart the kernel to use updated packages.\n"
     ]
    }
   ],
   "source": [
    "pip install spacy"
   ]
  },
  {
   "cell_type": "code",
   "execution_count": 3,
   "id": "2c7ed061-010d-4b5e-891a-e9b00ba26fe0",
   "metadata": {},
   "outputs": [
    {
     "name": "stdout",
     "output_type": "stream",
     "text": [
      "\u001b[31mERROR: Exception:\n",
      "Traceback (most recent call last):\n",
      "  File \"/opt/conda/lib/python3.8/site-packages/pip/_internal/cli/base_command.py\", line 180, in _main\n",
      "    status = self.run(options, args)\n",
      "  File \"/opt/conda/lib/python3.8/site-packages/pip/_internal/cli/req_command.py\", line 205, in wrapper\n",
      "    return func(self, options, args)\n",
      "  File \"/opt/conda/lib/python3.8/site-packages/pip/_internal/commands/install.py\", line 278, in run\n",
      "    wheel_cache = WheelCache(options.cache_dir, options.format_control)\n",
      "  File \"/opt/conda/lib/python3.8/site-packages/pip/_internal/cache.py\", line 238, in __init__\n",
      "    self._ephem_cache = EphemWheelCache(format_control)\n",
      "  File \"/opt/conda/lib/python3.8/site-packages/pip/_internal/cache.py\", line 209, in __init__\n",
      "    self._temp_dir = TempDirectory(\n",
      "  File \"/opt/conda/lib/python3.8/site-packages/pip/_internal/utils/temp_dir.py\", line 130, in __init__\n",
      "    path = self._create(kind)\n",
      "  File \"/opt/conda/lib/python3.8/site-packages/pip/_internal/utils/temp_dir.py\", line 174, in _create\n",
      "    path = os.path.realpath(tempfile.mkdtemp(prefix=f\"pip-{kind}-\"))\n",
      "  File \"/opt/conda/lib/python3.8/tempfile.py\", line 358, in mkdtemp\n",
      "    _os.mkdir(file, 0o700)\n",
      "OSError: [Errno 28] No space left on device: '/tmp/pip-ephem-wheel-cache-8ip_4s27'\u001b[0m\n",
      "\u001b[33mWARNING: You are using pip version 21.1.3; however, version 21.3.1 is available.\n",
      "You should consider upgrading via the '/opt/conda/bin/python -m pip install --upgrade pip' command.\u001b[0m\n"
     ]
    }
   ],
   "source": [
    "!python -m spacy download ru_core_news_sm"
   ]
  },
  {
   "cell_type": "code",
   "execution_count": 4,
   "id": "cf7be341-c91f-47d2-884a-55ee12413f21",
   "metadata": {},
   "outputs": [
    {
     "name": "stdout",
     "output_type": "stream",
     "text": [
      "\u001b[31mERROR: Exception:\n",
      "Traceback (most recent call last):\n",
      "  File \"/opt/conda/lib/python3.8/site-packages/pip/_internal/cli/base_command.py\", line 180, in _main\n",
      "    status = self.run(options, args)\n",
      "  File \"/opt/conda/lib/python3.8/site-packages/pip/_internal/cli/req_command.py\", line 205, in wrapper\n",
      "    return func(self, options, args)\n",
      "  File \"/opt/conda/lib/python3.8/site-packages/pip/_internal/commands/install.py\", line 278, in run\n",
      "    wheel_cache = WheelCache(options.cache_dir, options.format_control)\n",
      "  File \"/opt/conda/lib/python3.8/site-packages/pip/_internal/cache.py\", line 238, in __init__\n",
      "    self._ephem_cache = EphemWheelCache(format_control)\n",
      "  File \"/opt/conda/lib/python3.8/site-packages/pip/_internal/cache.py\", line 209, in __init__\n",
      "    self._temp_dir = TempDirectory(\n",
      "  File \"/opt/conda/lib/python3.8/site-packages/pip/_internal/utils/temp_dir.py\", line 130, in __init__\n",
      "    path = self._create(kind)\n",
      "  File \"/opt/conda/lib/python3.8/site-packages/pip/_internal/utils/temp_dir.py\", line 174, in _create\n",
      "    path = os.path.realpath(tempfile.mkdtemp(prefix=f\"pip-{kind}-\"))\n",
      "  File \"/opt/conda/lib/python3.8/tempfile.py\", line 358, in mkdtemp\n",
      "    _os.mkdir(file, 0o700)\n",
      "OSError: [Errno 28] No space left on device: '/tmp/pip-ephem-wheel-cache-t07745_n'\u001b[0m\n",
      "\u001b[33mWARNING: You are using pip version 21.1.3; however, version 21.3.1 is available.\n",
      "You should consider upgrading via the '/opt/conda/bin/python -m pip install --upgrade pip' command.\u001b[0m\n"
     ]
    }
   ],
   "source": [
    "!pip install pymorphy2[fast]"
   ]
  },
  {
   "cell_type": "code",
   "execution_count": 5,
   "id": "6b3049da-96b6-4b92-9410-110a0bb42005",
   "metadata": {},
   "outputs": [
    {
     "name": "stdout",
     "output_type": "stream",
     "text": [
      "fatal: destination path 'ru-gpts' already exists and is not an empty directory.\n"
     ]
    }
   ],
   "source": [
    "!git clone  https://github.com/sberbank-ai/ru-gpts"
   ]
  },
  {
   "cell_type": "code",
   "execution_count": 6,
   "id": "ae3dbd22-95b6-4512-aa6e-db3d8c2183df",
   "metadata": {},
   "outputs": [
    {
     "name": "stdout",
     "output_type": "stream",
     "text": [
      "fatal: destination path 'transformers' already exists and is not an empty directory.\n"
     ]
    }
   ],
   "source": [
    "!git clone https://github.com/huggingface/transformers.git"
   ]
  },
  {
   "cell_type": "code",
   "execution_count": 7,
   "id": "a480625b-a43e-4000-9ea2-0773e0f32ca2",
   "metadata": {},
   "outputs": [
    {
     "name": "stdout",
     "output_type": "stream",
     "text": [
      "\u001b[31mERROR: Exception:\n",
      "Traceback (most recent call last):\n",
      "  File \"/opt/conda/lib/python3.8/site-packages/pip/_internal/cli/base_command.py\", line 180, in _main\n",
      "    status = self.run(options, args)\n",
      "  File \"/opt/conda/lib/python3.8/site-packages/pip/_internal/cli/req_command.py\", line 205, in wrapper\n",
      "    return func(self, options, args)\n",
      "  File \"/opt/conda/lib/python3.8/site-packages/pip/_internal/commands/install.py\", line 278, in run\n",
      "    wheel_cache = WheelCache(options.cache_dir, options.format_control)\n",
      "  File \"/opt/conda/lib/python3.8/site-packages/pip/_internal/cache.py\", line 238, in __init__\n",
      "    self._ephem_cache = EphemWheelCache(format_control)\n",
      "  File \"/opt/conda/lib/python3.8/site-packages/pip/_internal/cache.py\", line 209, in __init__\n",
      "    self._temp_dir = TempDirectory(\n",
      "  File \"/opt/conda/lib/python3.8/site-packages/pip/_internal/utils/temp_dir.py\", line 130, in __init__\n",
      "    path = self._create(kind)\n",
      "  File \"/opt/conda/lib/python3.8/site-packages/pip/_internal/utils/temp_dir.py\", line 174, in _create\n",
      "    path = os.path.realpath(tempfile.mkdtemp(prefix=f\"pip-{kind}-\"))\n",
      "  File \"/opt/conda/lib/python3.8/tempfile.py\", line 358, in mkdtemp\n",
      "    _os.mkdir(file, 0o700)\n",
      "OSError: [Errno 28] No space left on device: '/tmp/pip-ephem-wheel-cache-ehuz060x'\u001b[0m\n",
      "\u001b[33mWARNING: You are using pip version 21.1.3; however, version 21.3.1 is available.\n",
      "You should consider upgrading via the '/opt/conda/bin/python -m pip install --upgrade pip' command.\u001b[0m\n"
     ]
    }
   ],
   "source": [
    "!pip install natasha"
   ]
  },
  {
   "cell_type": "code",
   "execution_count": 8,
   "id": "76c8ced6-26a6-48d8-a5a4-8b2cb6bf89da",
   "metadata": {},
   "outputs": [],
   "source": [
    "from natasha import (   \n",
    "    MorphVocab,\n",
    "    NewsNERTagger,\n",
    "    NamesExtractor,\n",
    "    MorphVocab,\n",
    "    Segmenter, \n",
    "    NewsEmbedding,\n",
    "    PER,\n",
    "    Doc,\n",
    "    ORG\n",
    ")"
   ]
  },
  {
   "cell_type": "code",
   "execution_count": 9,
   "id": "23138a22-1702-461d-8c14-1004c65257b3",
   "metadata": {},
   "outputs": [],
   "source": [
    "from transformers import (GPT2LMHeadModel, GPT2Tokenizer,\n",
    "                          TextDataset, DataCollatorForLanguageModeling,\n",
    "                          Trainer, TrainingArguments, AutoModelWithLMHead, pipeline)"
   ]
  },
  {
   "cell_type": "code",
   "execution_count": 10,
   "id": "7b74e012-3b06-40a5-a137-e2837e1b4fb6",
   "metadata": {},
   "outputs": [],
   "source": [
    "from datasets import load_dataset\n",
    "from sklearn.model_selection import train_test_split\n",
    "import re"
   ]
  },
  {
   "cell_type": "code",
   "execution_count": 11,
   "id": "da86a891-7fb4-41ab-a30c-a9c8e12ee11d",
   "metadata": {},
   "outputs": [],
   "source": [
    "import torch\n",
    "import pandas as pd"
   ]
  },
  {
   "cell_type": "code",
   "execution_count": 12,
   "id": "12e07810-efa0-4c7e-946e-5e21d4906bca",
   "metadata": {},
   "outputs": [],
   "source": [
    "import numpy as np"
   ]
  },
  {
   "cell_type": "code",
   "execution_count": 13,
   "id": "84cd6173-4ac2-4eab-801e-beb14e3ed4db",
   "metadata": {},
   "outputs": [],
   "source": [
    "import pymorphy2"
   ]
  },
  {
   "cell_type": "code",
   "execution_count": 14,
   "id": "4132de40-18f9-45af-94bf-2fc303debc2a",
   "metadata": {},
   "outputs": [],
   "source": [
    "import spacy"
   ]
  },
  {
   "cell_type": "markdown",
   "id": "bcaabe5a-abf2-465a-86c6-f20c97542eb0",
   "metadata": {},
   "source": [
    "**Открываем файл с текстами, которые скачал скрапер. Размер файла не большой, что позволяет считать все в одну переменную.**"
   ]
  },
  {
   "cell_type": "code",
   "execution_count": 15,
   "id": "59d0c6e7-68b5-44b0-84f3-3d369bbf10ad",
   "metadata": {},
   "outputs": [
    {
     "data": {
      "text/plain": [
       "'\\nTITLE\\nЭдварду Радзинскому, писателю, драматургу, сценаристу\\nCONTENT\\n Уважаемый Эдвард Станиславович!Примите поздравления с\\xa085-летием.Человек многогранного дарования и\\xa0большой созидательной энергии, Вы по\\xa0праву входите в\\xa0число признанных\\nдраматургов, мастеров современного театрального искусства. И\\xa0конечно, Вас\\nхорошо знают и\\xa0любят как автора целого ряда просветительских проектов, чьё\\nтворчество завоевало сердца самой широкой аудитории, в\\xa0том числе молодёжи.Желаю доброго здоровья, благополучия и\\xa0бодрости\\nдуха. Владимир Путин     Статус материала Опубликован в\\xa0разделе: Телеграммы  Ссылка на материал: kremlin.ru/d/66751   Текстовая версия      \\nEND\\n\\nTITLE\\nКоллективу радиостанции «Орфей»\\nCONTENT\\n Дорогие друзья!Поздравляю вас со\\xa0знаменательным юбилеем\\xa0– 30-летием радиостанции «Орфей».Все эти годы ваш коллектив объединяет настоящих единомышленников, профессионалов, преданных высокому искусству, стремящихся внести свой вклад в\\xa0сбережение лучших традиций отечественной культуры. Вы сформировал'"
      ]
     },
     "execution_count": 15,
     "metadata": {},
     "output_type": "execute_result"
    }
   ],
   "source": [
    "with open('curr_congrats.txt') as handler:\n",
    "    full_text = handler.read()\n",
    "full_text[:1000]"
   ]
  },
  {
   "cell_type": "raw",
   "id": "0021b489-d012-4ea4-8c72-0944d2d98d20",
   "metadata": {},
   "source": []
  },
  {
   "cell_type": "markdown",
   "id": "92d2c01a-5d28-40dc-8c9d-be9ff1faf34d",
   "metadata": {},
   "source": [
    "**Поздравления разделены разметкой на заголовки и сами поздравления. Заголовок содержит адресат (кого поздравляют) и выделен разметкой \"TITLE\". Разметка \"CONTENT\" отделяет содержание поздравления.**\n",
    "*(Это не использовалось при обучении, но теоретически можно было, поэтому разделение я оставил.)*\n",
    "\n",
    "**Аннотация \"END\" обозначает конец целого поздравления (\"TITLE\" + \"CONTENT\").**"
   ]
  },
  {
   "cell_type": "code",
   "execution_count": 16,
   "id": "803efabd-823a-456d-83d0-23dbf9db796e",
   "metadata": {},
   "outputs": [
    {
     "name": "stdout",
     "output_type": "stream",
     "text": [
      "Сопоставим адресат и поздравление:\n",
      "\n",
      "['Эдварду Радзинскому, писателю, драматургу, сценаристу']\n",
      "[' Уважаемый Эдвард Станиславович!Примите поздравления с\\xa085-летием.Человек многогранного дарования и\\xa0большой созидательной энергии, Вы по\\xa0праву входите в\\xa0число признанныхдраматургов, мастеров современного театрального искусства. И\\xa0конечно, Васхорошо знают и\\xa0любят как автора целого ряда просветительских проектов, чьётворчество завоевало сердца самой широкой аудитории, в\\xa0том числе молодёжи.Желаю доброго здоровья, благополучия и\\xa0бодростидуха. Владимир Путин     Статус материала Опубликован в\\xa0разделе: Телеграммы  Ссылка на материал: kremlin.ru/d/66751   Текстовая версия      ']\n",
      "\n",
      "Проверка количества адресатов 888\n",
      "Проверка количества поздравлений 888\n"
     ]
    }
   ],
   "source": [
    "titles_list = []\n",
    "congrats_list = []\n",
    "\n",
    "for letter in full_text.split('END'):\n",
    "    letter = letter.replace('\\n', '').replace('TITLE', '')\n",
    "\n",
    "    if len(letter.split('CONTENT')) > 1:\n",
    "        titles_list.append(letter.split('CONTENT')[0])\n",
    "        congrats_list.append(letter.split('CONTENT')[1])\n",
    "\n",
    "print(\"Сопоставим адресат и поздравление:\\n\")\n",
    "print(titles_list[:1])\n",
    "print(congrats_list[:1])\n",
    "print(\"\\nПроверка количества адресатов\", len(titles_list))\n",
    "print(\"Проверка количества поздравлений\", len(congrats_list))"
   ]
  },
  {
   "cell_type": "raw",
   "id": "f55dee22-4b1f-438a-bef5-1588377bd845",
   "metadata": {},
   "source": []
  },
  {
   "cell_type": "markdown",
   "id": "8b03f992-9392-46da-a686-a96526a15091",
   "metadata": {},
   "source": [
    "**Сделаем датасет и добавим в него колонку с суммарными данными:**"
   ]
  },
  {
   "cell_type": "code",
   "execution_count": 17,
   "id": "80db04bd-21ed-4dc4-8923-bc6201697b59",
   "metadata": {},
   "outputs": [
    {
     "data": {
      "text/html": [
       "<div>\n",
       "<style scoped>\n",
       "    .dataframe tbody tr th:only-of-type {\n",
       "        vertical-align: middle;\n",
       "    }\n",
       "\n",
       "    .dataframe tbody tr th {\n",
       "        vertical-align: top;\n",
       "    }\n",
       "\n",
       "    .dataframe thead th {\n",
       "        text-align: right;\n",
       "    }\n",
       "</style>\n",
       "<table border=\"1\" class=\"dataframe\">\n",
       "  <thead>\n",
       "    <tr style=\"text-align: right;\">\n",
       "      <th></th>\n",
       "      <th>Title</th>\n",
       "      <th>Content</th>\n",
       "      <th>Sum</th>\n",
       "    </tr>\n",
       "  </thead>\n",
       "  <tbody>\n",
       "    <tr>\n",
       "      <th>0</th>\n",
       "      <td>Эдварду Радзинскому, писателю, драматургу, сце...</td>\n",
       "      <td>Уважаемый Эдвард Станиславович!Примите поздра...</td>\n",
       "      <td>Эдварду Радзинскому, писателю, драматургу, сце...</td>\n",
       "    </tr>\n",
       "    <tr>\n",
       "      <th>1</th>\n",
       "      <td>Коллективу радиостанции «Орфей»</td>\n",
       "      <td>Дорогие друзья!Поздравляю вас со знаменательн...</td>\n",
       "      <td>Коллективу радиостанции «Орфей» Дорогие друзья...</td>\n",
       "    </tr>\n",
       "    <tr>\n",
       "      <th>2</th>\n",
       "      <td>Михаилу Ковальчуку, президенту НИЦ «Курчатовск...</td>\n",
       "      <td>Уважаемый Михаил Валентинович!Примите мои поз...</td>\n",
       "      <td>Михаилу Ковальчуку, президенту НИЦ «Курчатовск...</td>\n",
       "    </tr>\n",
       "    <tr>\n",
       "      <th>3</th>\n",
       "      <td>Ирине Андреевой и Ивану Штылю, победителям чем...</td>\n",
       "      <td>Уважаемые Ирина Александровна и Иван Александ...</td>\n",
       "      <td>Ирине Андреевой и Ивану Штылю, победителям чем...</td>\n",
       "    </tr>\n",
       "    <tr>\n",
       "      <th>4</th>\n",
       "      <td>Работникам и ветеранам оборонно-промышленного ...</td>\n",
       "      <td>Уважаемые друзья!Поздравляю вас с Днём оружей...</td>\n",
       "      <td>Работникам и ветеранам оборонно-промышленного ...</td>\n",
       "    </tr>\n",
       "    <tr>\n",
       "      <th>...</th>\n",
       "      <td>...</td>\n",
       "      <td>...</td>\n",
       "      <td>...</td>\n",
       "    </tr>\n",
       "    <tr>\n",
       "      <th>883</th>\n",
       "      <td>Жителям Республики Мордовия</td>\n",
       "      <td>Дорогие друзья!Поздравляю вас с юбилеем – 75-...</td>\n",
       "      <td>Жителям Республики Мордовия Дорогие друзья!Поз...</td>\n",
       "    </tr>\n",
       "    <tr>\n",
       "      <th>884</th>\n",
       "      <td>Коллективу Института физических проблем им.П.Л...</td>\n",
       "      <td>Поздравляю коллектив института с 70-летием со...</td>\n",
       "      <td>Коллективу Института физических проблем им.П.Л...</td>\n",
       "    </tr>\n",
       "    <tr>\n",
       "      <th>885</th>\n",
       "      <td>Жителям Красноярского края</td>\n",
       "      <td>Уважаемые друзья!Поздравляю вас с 70-летием с...</td>\n",
       "      <td>Жителям Красноярского края Уважаемые друзья!По...</td>\n",
       "    </tr>\n",
       "    <tr>\n",
       "      <th>886</th>\n",
       "      <td>В.А.ЛОГИНОВУ</td>\n",
       "      <td>Уважаемый Владимир Александрович!Поздравляю В...</td>\n",
       "      <td>В.А.ЛОГИНОВУ Уважаемый Владимир Александрович!...</td>\n",
       "    </tr>\n",
       "    <tr>\n",
       "      <th>887</th>\n",
       "      <td>Патриарху Московскому и всея Руси Алексию II</td>\n",
       "      <td>Ваше Святейшество!От всего сердца поздравляю ...</td>\n",
       "      <td>Патриарху Московскому и всея Руси Алексию II В...</td>\n",
       "    </tr>\n",
       "  </tbody>\n",
       "</table>\n",
       "<p>888 rows × 3 columns</p>\n",
       "</div>"
      ],
      "text/plain": [
       "                                                 Title  \\\n",
       "0    Эдварду Радзинскому, писателю, драматургу, сце...   \n",
       "1                      Коллективу радиостанции «Орфей»   \n",
       "2    Михаилу Ковальчуку, президенту НИЦ «Курчатовск...   \n",
       "3    Ирине Андреевой и Ивану Штылю, победителям чем...   \n",
       "4    Работникам и ветеранам оборонно-промышленного ...   \n",
       "..                                                 ...   \n",
       "883                        Жителям Республики Мордовия   \n",
       "884  Коллективу Института физических проблем им.П.Л...   \n",
       "885                         Жителям Красноярского края   \n",
       "886                                       В.А.ЛОГИНОВУ   \n",
       "887       Патриарху Московскому и всея Руси Алексию II   \n",
       "\n",
       "                                               Content  \\\n",
       "0     Уважаемый Эдвард Станиславович!Примите поздра...   \n",
       "1     Дорогие друзья!Поздравляю вас со знаменательн...   \n",
       "2     Уважаемый Михаил Валентинович!Примите мои поз...   \n",
       "3     Уважаемые Ирина Александровна и Иван Александ...   \n",
       "4     Уважаемые друзья!Поздравляю вас с Днём оружей...   \n",
       "..                                                 ...   \n",
       "883   Дорогие друзья!Поздравляю вас с юбилеем – 75-...   \n",
       "884   Поздравляю коллектив института с 70-летием со...   \n",
       "885   Уважаемые друзья!Поздравляю вас с 70-летием с...   \n",
       "886   Уважаемый Владимир Александрович!Поздравляю В...   \n",
       "887   Ваше Святейшество!От всего сердца поздравляю ...   \n",
       "\n",
       "                                                   Sum  \n",
       "0    Эдварду Радзинскому, писателю, драматургу, сце...  \n",
       "1    Коллективу радиостанции «Орфей» Дорогие друзья...  \n",
       "2    Михаилу Ковальчуку, президенту НИЦ «Курчатовск...  \n",
       "3    Ирине Андреевой и Ивану Штылю, победителям чем...  \n",
       "4    Работникам и ветеранам оборонно-промышленного ...  \n",
       "..                                                 ...  \n",
       "883  Жителям Республики Мордовия Дорогие друзья!Поз...  \n",
       "884  Коллективу Института физических проблем им.П.Л...  \n",
       "885  Жителям Красноярского края Уважаемые друзья!По...  \n",
       "886  В.А.ЛОГИНОВУ Уважаемый Владимир Александрович!...  \n",
       "887  Патриарху Московскому и всея Руси Алексию II В...  \n",
       "\n",
       "[888 rows x 3 columns]"
      ]
     },
     "execution_count": 17,
     "metadata": {},
     "output_type": "execute_result"
    }
   ],
   "source": [
    "data = {'Title': titles_list,\n",
    "        'Content': congrats_list}\n",
    "\n",
    "my_df = pd.DataFrame(data)\n",
    "my_df['Sum'] = [my_df['Title'].tolist()[i] + my_df['Content'].tolist()[i]\n",
    "                for i in range(len(my_df))]\n",
    "my_df"
   ]
  },
  {
   "cell_type": "markdown",
   "id": "37f9aa5a-21db-4cff-bb9e-868248380a18",
   "metadata": {},
   "source": [
    "**Очистим суммарную колонку от лишних символов**"
   ]
  },
  {
   "cell_type": "code",
   "execution_count": 18,
   "id": "b8cd1fd7-fcd6-4516-9524-be7cf287e842",
   "metadata": {},
   "outputs": [],
   "source": [
    "new_sum = []\n",
    "\n",
    "for summary in my_df[\"Sum\"]:\n",
    "    summary = str(summary).strip()\n",
    "    summary = re.sub(r\"\\s\", \" \", summary)\n",
    "    summary = re.sub(r\"\\n\", \"\", summary)\n",
    "    summary = re.sub(r\"Статус материала Опубликован в разделе: Телеграммы\", \"\", summary)\n",
    "    summary = re.sub(r\"Ссылка на материал:\", \"\", summary)\n",
    "    summary = re.sub(r\"Текстовая версия:\", \"\", summary)\n",
    "    summary = re.sub(r\"Ссылка на материал:\", \"\", summary)\n",
    "    summary = re.sub(r\"([a-zA-Z]+)\", \"\", summary)\n",
    "    summary = re.sub(r\"([/*#@+]+)\", \"\", summary)\n",
    "    summary = re.sub(r\"Текстовая версия\", \"\", summary)\n",
    "\n",
    "    new_sum.append(summary)\n",
    "\n",
    "my_df[\"Sum\"] = new_sum"
   ]
  },
  {
   "cell_type": "markdown",
   "id": "f874cc6f-6ca0-48a8-a117-3cebf2b2ee32",
   "metadata": {},
   "source": [
    "**Маскируем полное поздравление вместе с адресатом, возьмем имена и организации. Сначала у меня была идея вместе с символом MASK вставлять падеж, чтобы модель обучилась на конкретных падежах, и потом можно было просто заменить разметку MASK с соответствующим падежом на именованную сущность в этом падеже (типа MASKnomn - значит падеж будет именительный).**\n",
    "\n",
    "**Из этой идеи ничего не вышло, я подозреваю, что это из-за посимвольной токенизации внутри токенизатора библиотеки Transformers. Однако, реализацию я решил оставить.**"
   ]
  },
  {
   "cell_type": "code",
   "execution_count": 19,
   "id": "29595afc-4cf5-49d8-a6a5-18632054431d",
   "metadata": {},
   "outputs": [
    {
     "name": "stdout",
     "output_type": "stream",
     "text": [
      "Parse(word='владимира', tag=OpencorporaTag('NOUN,anim,masc,Name sing,gent'), normal_form='владимир', score=0.682926, methods_stack=((DictionaryAnalyzer(), 'владимира', 27, 1),))\n"
     ]
    },
    {
     "data": {
      "text/plain": [
       "'gent'"
      ]
     },
     "execution_count": 19,
     "metadata": {},
     "output_type": "execute_result"
    }
   ],
   "source": [
    "morph = pymorphy2.MorphAnalyzer()\n",
    "nname = morph.parse('Владимира')[0]\n",
    "print(nname)\n",
    "str(nname[1]).split(',')[-1]"
   ]
  },
  {
   "cell_type": "code",
   "execution_count": 20,
   "id": "6207c68b-3a05-4df0-b8f2-4a41a912f6df",
   "metadata": {},
   "outputs": [],
   "source": [
    "emb = NewsEmbedding()\n",
    "morph_vocab = MorphVocab()\n",
    "names_extractor = NamesExtractor(morph_vocab)\n",
    "ner_tagger = NewsNERTagger(emb)\n",
    "segmenter = Segmenter()"
   ]
  },
  {
   "cell_type": "code",
   "execution_count": 21,
   "id": "a3e64a93-378a-456e-8c5f-77586461dfcb",
   "metadata": {},
   "outputs": [
    {
     "data": {
      "text/html": [
       "<div>\n",
       "<style scoped>\n",
       "    .dataframe tbody tr th:only-of-type {\n",
       "        vertical-align: middle;\n",
       "    }\n",
       "\n",
       "    .dataframe tbody tr th {\n",
       "        vertical-align: top;\n",
       "    }\n",
       "\n",
       "    .dataframe thead th {\n",
       "        text-align: right;\n",
       "    }\n",
       "</style>\n",
       "<table border=\"1\" class=\"dataframe\">\n",
       "  <thead>\n",
       "    <tr style=\"text-align: right;\">\n",
       "      <th></th>\n",
       "      <th>Title</th>\n",
       "      <th>Content</th>\n",
       "      <th>Sum</th>\n",
       "      <th>Masked_sum</th>\n",
       "    </tr>\n",
       "  </thead>\n",
       "  <tbody>\n",
       "    <tr>\n",
       "      <th>0</th>\n",
       "      <td>Эдварду Радзинскому, писателю, драматургу, сце...</td>\n",
       "      <td>Уважаемый Эдвард Станиславович!Примите поздра...</td>\n",
       "      <td>Эдварду Радзинскому, писателю, драматургу, сце...</td>\n",
       "      <td>MASKdatv, писателю, драматургу, сценаристу MAS...</td>\n",
       "    </tr>\n",
       "    <tr>\n",
       "      <th>1</th>\n",
       "      <td>Коллективу радиостанции «Орфей»</td>\n",
       "      <td>Дорогие друзья!Поздравляю вас со знаменательн...</td>\n",
       "      <td>Коллективу радиостанции «Орфей» Дорогие друзья...</td>\n",
       "      <td>Коллективу радиостанции «MASKnomn» Дорогие дру...</td>\n",
       "    </tr>\n",
       "    <tr>\n",
       "      <th>2</th>\n",
       "      <td>Михаилу Ковальчуку, президенту НИЦ «Курчатовск...</td>\n",
       "      <td>Уважаемый Михаил Валентинович!Примите мои поз...</td>\n",
       "      <td>Михаилу Ковальчуку, президенту НИЦ «Курчатовск...</td>\n",
       "      <td>MASKdatv, президенту MASKUNKN MASKnomn!Примите...</td>\n",
       "    </tr>\n",
       "    <tr>\n",
       "      <th>3</th>\n",
       "      <td>Ирине Андреевой и Ивану Штылю, победителям чем...</td>\n",
       "      <td>Уважаемые Ирина Александровна и Иван Александ...</td>\n",
       "      <td>Ирине Андреевой и Ивану Штылю, победителям чем...</td>\n",
       "      <td>MASKgent и MASKdatv, победителям чемпионата ми...</td>\n",
       "    </tr>\n",
       "    <tr>\n",
       "      <th>4</th>\n",
       "      <td>Работникам и ветеранам оборонно-промышленного ...</td>\n",
       "      <td>Уважаемые друзья!Поздравляю вас с Днём оружей...</td>\n",
       "      <td>Работникам и ветеранам оборонно-промышленного ...</td>\n",
       "      <td>Работникам и ветеранам оборонно-промышленного ...</td>\n",
       "    </tr>\n",
       "    <tr>\n",
       "      <th>...</th>\n",
       "      <td>...</td>\n",
       "      <td>...</td>\n",
       "      <td>...</td>\n",
       "      <td>...</td>\n",
       "    </tr>\n",
       "    <tr>\n",
       "      <th>883</th>\n",
       "      <td>Жителям Республики Мордовия</td>\n",
       "      <td>Дорогие друзья!Поздравляю вас с юбилеем – 75-...</td>\n",
       "      <td>Жителям Республики Мордовия Дорогие друзья!Поз...</td>\n",
       "      <td>Жителям Республики Мордовия Дорогие друзья!Поз...</td>\n",
       "    </tr>\n",
       "    <tr>\n",
       "      <th>884</th>\n",
       "      <td>Коллективу Института физических проблем им.П.Л...</td>\n",
       "      <td>Поздравляю коллектив института с 70-летием со...</td>\n",
       "      <td>Коллективу Института физических проблем им.П.Л...</td>\n",
       "      <td>Коллективу MASKindc коллектив института с 70-л...</td>\n",
       "    </tr>\n",
       "    <tr>\n",
       "      <th>885</th>\n",
       "      <td>Жителям Красноярского края</td>\n",
       "      <td>Уважаемые друзья!Поздравляю вас с 70-летием с...</td>\n",
       "      <td>Жителям Красноярского края Уважаемые друзья!По...</td>\n",
       "      <td>Жителям Красноярского края Уважаемые друзья!По...</td>\n",
       "    </tr>\n",
       "    <tr>\n",
       "      <th>886</th>\n",
       "      <td>В.А.ЛОГИНОВУ</td>\n",
       "      <td>Уважаемый Владимир Александрович!Поздравляю В...</td>\n",
       "      <td>В.А.ЛОГИНОВУ Уважаемый Владимир Александрович!...</td>\n",
       "      <td>MASKnomn!Поздравляю Вас с официальным вступлен...</td>\n",
       "    </tr>\n",
       "    <tr>\n",
       "      <th>887</th>\n",
       "      <td>Патриарху Московскому и всея Руси Алексию II</td>\n",
       "      <td>Ваше Святейшество!От всего сердца поздравляю ...</td>\n",
       "      <td>Патриарху Московскому и всея Руси Алексию  Ваш...</td>\n",
       "      <td>Патриарху Московскому и всея Руси Алексию  Ваш...</td>\n",
       "    </tr>\n",
       "  </tbody>\n",
       "</table>\n",
       "<p>888 rows × 4 columns</p>\n",
       "</div>"
      ],
      "text/plain": [
       "                                                 Title  \\\n",
       "0    Эдварду Радзинскому, писателю, драматургу, сце...   \n",
       "1                      Коллективу радиостанции «Орфей»   \n",
       "2    Михаилу Ковальчуку, президенту НИЦ «Курчатовск...   \n",
       "3    Ирине Андреевой и Ивану Штылю, победителям чем...   \n",
       "4    Работникам и ветеранам оборонно-промышленного ...   \n",
       "..                                                 ...   \n",
       "883                        Жителям Республики Мордовия   \n",
       "884  Коллективу Института физических проблем им.П.Л...   \n",
       "885                         Жителям Красноярского края   \n",
       "886                                       В.А.ЛОГИНОВУ   \n",
       "887       Патриарху Московскому и всея Руси Алексию II   \n",
       "\n",
       "                                               Content  \\\n",
       "0     Уважаемый Эдвард Станиславович!Примите поздра...   \n",
       "1     Дорогие друзья!Поздравляю вас со знаменательн...   \n",
       "2     Уважаемый Михаил Валентинович!Примите мои поз...   \n",
       "3     Уважаемые Ирина Александровна и Иван Александ...   \n",
       "4     Уважаемые друзья!Поздравляю вас с Днём оружей...   \n",
       "..                                                 ...   \n",
       "883   Дорогие друзья!Поздравляю вас с юбилеем – 75-...   \n",
       "884   Поздравляю коллектив института с 70-летием со...   \n",
       "885   Уважаемые друзья!Поздравляю вас с 70-летием с...   \n",
       "886   Уважаемый Владимир Александрович!Поздравляю В...   \n",
       "887   Ваше Святейшество!От всего сердца поздравляю ...   \n",
       "\n",
       "                                                   Sum  \\\n",
       "0    Эдварду Радзинскому, писателю, драматургу, сце...   \n",
       "1    Коллективу радиостанции «Орфей» Дорогие друзья...   \n",
       "2    Михаилу Ковальчуку, президенту НИЦ «Курчатовск...   \n",
       "3    Ирине Андреевой и Ивану Штылю, победителям чем...   \n",
       "4    Работникам и ветеранам оборонно-промышленного ...   \n",
       "..                                                 ...   \n",
       "883  Жителям Республики Мордовия Дорогие друзья!Поз...   \n",
       "884  Коллективу Института физических проблем им.П.Л...   \n",
       "885  Жителям Красноярского края Уважаемые друзья!По...   \n",
       "886  В.А.ЛОГИНОВУ Уважаемый Владимир Александрович!...   \n",
       "887  Патриарху Московскому и всея Руси Алексию  Ваш...   \n",
       "\n",
       "                                            Masked_sum  \n",
       "0    MASKdatv, писателю, драматургу, сценаристу MAS...  \n",
       "1    Коллективу радиостанции «MASKnomn» Дорогие дру...  \n",
       "2    MASKdatv, президенту MASKUNKN MASKnomn!Примите...  \n",
       "3    MASKgent и MASKdatv, победителям чемпионата ми...  \n",
       "4    Работникам и ветеранам оборонно-промышленного ...  \n",
       "..                                                 ...  \n",
       "883  Жителям Республики Мордовия Дорогие друзья!Поз...  \n",
       "884  Коллективу MASKindc коллектив института с 70-л...  \n",
       "885  Жителям Красноярского края Уважаемые друзья!По...  \n",
       "886  MASKnomn!Поздравляю Вас с официальным вступлен...  \n",
       "887  Патриарху Московскому и всея Руси Алексию  Ваш...  \n",
       "\n",
       "[888 rows x 4 columns]"
      ]
     },
     "execution_count": 21,
     "metadata": {},
     "output_type": "execute_result"
    }
   ],
   "source": [
    "masked_content = []\n",
    "morph = pymorphy2.MorphAnalyzer()\n",
    "\n",
    "for sent in my_df['Sum']:\n",
    "    doc = Doc(sent)\n",
    "    doc.segment(segmenter)\n",
    "    doc.tag_ner(ner_tagger)\n",
    "\n",
    "    for span in doc.spans:\n",
    "        if span.type == PER or span.type == ORG:\n",
    "            morph_name = morph.parse(span.text)[0]\n",
    "            morph_case = str(morph_name[1]).split(',')[-1]\n",
    "            sent = sent.replace(span.text, f'MASK{morph_case}')\n",
    "\n",
    "    masked_content.append(sent)\n",
    "\n",
    "my_df['Masked_sum'] = masked_content\n",
    "my_df"
   ]
  },
  {
   "cell_type": "markdown",
   "id": "8628da1b-9c3c-49df-82c6-256b4385e709",
   "metadata": {},
   "source": [
    "**Разобьем датасет на наборы**"
   ]
  },
  {
   "cell_type": "code",
   "execution_count": 22,
   "id": "b1b44872-52f7-45fc-96be-01c17baf2cd1",
   "metadata": {},
   "outputs": [],
   "source": [
    "train_df, validate_df = np.split(\n",
    "    my_df.sample(frac=1, random_state=42),\n",
    "    [int(.8*len(my_df))])"
   ]
  },
  {
   "cell_type": "code",
   "execution_count": 23,
   "id": "b4b57e6c-8df3-479d-9bf2-04ba71b0836b",
   "metadata": {},
   "outputs": [
    {
     "data": {
      "text/plain": [
       "(710, 178)"
      ]
     },
     "execution_count": 23,
     "metadata": {},
     "output_type": "execute_result"
    }
   ],
   "source": [
    "len(train_df), len(validate_df)"
   ]
  },
  {
   "cell_type": "markdown",
   "id": "fe339a3f-c970-4290-bbd3-968e7c7aaa0b",
   "metadata": {},
   "source": [
    "**Сделаем текстовые файлы для обучения модели**"
   ]
  },
  {
   "cell_type": "code",
   "execution_count": 24,
   "id": "060c0a7f-1cad-4add-89e3-6a8adc360bb9",
   "metadata": {},
   "outputs": [],
   "source": [
    "!rm train.txt valid.txt"
   ]
  },
  {
   "cell_type": "code",
   "execution_count": 25,
   "id": "dab2c59a-47b9-49d7-8f2a-c5a918418624",
   "metadata": {},
   "outputs": [],
   "source": [
    "def make_file_from_series(filename, series):\n",
    "    with open(filename, 'w') as f:\n",
    "        for entry in series:\n",
    "            f.write(entry)"
   ]
  },
  {
   "cell_type": "code",
   "execution_count": 26,
   "id": "0f6213bd-f59e-41ec-bd2e-c6252487c3fa",
   "metadata": {},
   "outputs": [],
   "source": [
    "make_file_from_series('train.txt', train_df['Masked_sum'])\n",
    "make_file_from_series('valid.txt', validate_df['Masked_sum'])"
   ]
  },
  {
   "cell_type": "code",
   "execution_count": 27,
   "id": "db0f9585-10dc-40a5-996e-ff13274b7ab3",
   "metadata": {},
   "outputs": [
    {
     "name": "stdout",
     "output_type": "stream",
     "text": [
      "Kutsev.ipynb\t\t\t\t    curr_congrats.txt\n",
      "Untitled.ipynb\t\t\t\t    gpt-letters\n",
      "cached_lm_GPT2Tokenizer_128_test.txt\t    ru-gpts\n",
      "cached_lm_GPT2Tokenizer_128_test.txt.lock   train.txt\n",
      "cached_lm_GPT2Tokenizer_128_train.txt\t    transformers\n",
      "cached_lm_GPT2Tokenizer_128_train.txt.lock  valid.txt\n",
      "cached_lm_GPT2Tokenizer_128_valid.txt\t    work\n",
      "cached_lm_GPT2Tokenizer_128_valid.txt.lock\n"
     ]
    }
   ],
   "source": [
    "!ls "
   ]
  },
  {
   "cell_type": "code",
   "execution_count": 28,
   "id": "6eb33850-5089-4442-8cad-dc404f8e51ec",
   "metadata": {},
   "outputs": [
    {
     "data": {
      "text/plain": [
       "'MASKloct, победительнице чемпионата мира по лёгкой атлетике 2019 года в Дохе (Катар) в прыжках в высоту Уважаемая MASKnomn!Поздравляю Вас с триумфальным выступлением в Дохе.Вы вновь ярко продемонстрировали впечатляющий спортивный, победный потенциал, мастерство и сильный характер. Покорив заданную высоту, по праву стали обладательницей золотой медали, реализовали заветную мечту – заслужили звание трёхкратной чемпионки мира. И, конечно, Ваш успех – это отличный подарок для нашей сборной, тренеров и наставников, многочисленных болельщиков.От души желаю Вам новых свершений и всего самого доброго. MASKnomn        .61696   Коллективу «MASKgent» Дорогие друзья!Поздравляю вас со знаменательной датой – 25-летиемсоздания «MASKgent».За прошедшие годы газета стала одним из ведущихпериодических изданий страны, завоевала уважение большой читательской аудиториии авторитет в отечественном медиасообществе. Её ценят за информационнуюнаполненность, глубокий подход к освещению важнейших тем и событий, за взвешенность и основательность оценок. Отрадно, что все эти годы ваш коллективвысоко держит планку качества работы, сохраняет приверженность лучшим традициямжурналистики, расширяет линейку информационных продуктов – от публикациигосударственных документов до новостей, репортажей и серьёзной аналитики.Уверен, что вы и впредь будете добросовестнотрудиться, воплощать в жизнь востребованные творческие проекты, добиватьсяуспеха в профессиональной деятельности.Желаю вам всего наилучшего. MASKnomn     Темы  MASKnomn           .50661   MASKdatv, директору MASKnomn, академику MASKgent Уважаемый MASKnomn!Сердечно поздравляю Вас с 70-летним юбилеем.Вас по праву считают выдающимся учёным, достойным продолжателем великих подвижнических традиций отечественной школы микробиологии и эпидемиологии. Вы много и увлечённо трудитесь, объединяете коллектив знаменитого MASKnomn вокруг важных, востребованных задач, заряжаете коллег своей поистине неиссякаемой энергией. Результаты Ваших фундаментальных исследований и инновационных разработок имеют большое научное и практическое значение. И конечно, самого глубокого признания заслуживает Ваш уникальный личный вклад в создание первой в мире зарегистрированной вакцины для профилактики коронавирусной инфекции, которая за прошедшее время убедительно доказала свою эффективность.Желаю Вам успехов, здоровья,благополучия. MASKnomn        .67086   MASKnomn, олимпийскому чемпиону, победителю Игр  Олимпиады 2016 года в Рио‑де-Жанейро (Бразилия) в соревнованиях по боксу в весовой категории до 91 кг УважаемыйЕвгений Андреевич! Поздравляю Вас с триумфом в Рио‑де-Жанейро. Вы убедительно доказали, чтообладаете настоящим чемпионским характером и высоким уровнем мастерства. Этикачества, уверенность в своих силах стали слагаемыми Вашего яркогоолимпийского успеха. Желаю удачи, новых побед и всегосамого доброго. MASKnomn     Темы  Спорт           .52719   MASKdatv, олимпийскому чемпиону, победителю Олимпийских игр 2012 года в Лондоне в соревнованиях по дзюдо в '"
      ]
     },
     "execution_count": 28,
     "metadata": {},
     "output_type": "execute_result"
    }
   ],
   "source": [
    "with open('train.txt') as handler:\n",
    "    full_text = handler.read()\n",
    "full_text[:3000]"
   ]
  },
  {
   "cell_type": "markdown",
   "id": "50f7041d-f79b-428a-8e0b-da3f5b3d4f3d",
   "metadata": {},
   "source": [
    "**Приведем данные в подходящий для обучения модели вид**"
   ]
  },
  {
   "cell_type": "code",
   "execution_count": 29,
   "id": "fe89588a-0c00-4fdb-8580-a7f63babe215",
   "metadata": {},
   "outputs": [],
   "source": [
    "tokenizer = GPT2Tokenizer.from_pretrained(\"sberbank-ai/rugpt3small_based_on_gpt2\")\n",
    "train_path = 'train.txt'\n",
    "valid_path = 'valid.txt'"
   ]
  },
  {
   "cell_type": "code",
   "execution_count": 30,
   "id": "35c0f54b-bc42-4f62-a98a-d791ba0f15f2",
   "metadata": {},
   "outputs": [
    {
     "name": "stderr",
     "output_type": "stream",
     "text": [
      "/opt/conda/lib/python3.8/site-packages/transformers/data/datasets/language_modeling.py:54: FutureWarning: This dataset will be removed from the library soon, preprocessing should be handled with the 🤗 Datasets library. You can have a look at this example script for pointers: https://github.com/huggingface/transformers/blob/master/examples/pytorch/language-modeling/run_mlm.py\n",
      "  warnings.warn(\n"
     ]
    }
   ],
   "source": [
    "def load_dataset(train_path, valid_path, tokenizer):\n",
    "\n",
    "    train_dataset = TextDataset(\n",
    "          tokenizer=tokenizer,\n",
    "          file_path=train_path,\n",
    "          block_size=128)\n",
    "    \n",
    "    valid_dataset = TextDataset(\n",
    "      tokenizer=tokenizer,\n",
    "      file_path=valid_path,\n",
    "      block_size=128)\n",
    "    \n",
    "    data_collator = DataCollatorForLanguageModeling(\n",
    "        tokenizer=tokenizer, mlm=False,\n",
    "    )\n",
    "    return train_dataset, valid_dataset, data_collator\n",
    "\n",
    "train_dataset, valid_dataset, data_collator = load_dataset(train_path, valid_path, tokenizer)"
   ]
  },
  {
   "cell_type": "markdown",
   "id": "a125b706-93ee-4542-ab1d-97995b647ee0",
   "metadata": {},
   "source": [
    "**Параметры обучения модели**"
   ]
  },
  {
   "cell_type": "code",
   "execution_count": 34,
   "id": "10d62daf-a92e-4b55-8ba3-312aaee2f015",
   "metadata": {},
   "outputs": [
    {
     "name": "stderr",
     "output_type": "stream",
     "text": [
      "loading configuration file https://huggingface.co/sberbank-ai/rugpt3small_based_on_gpt2/resolve/main/config.json from cache at /home/mdurinov/.cache/huggingface/transformers/06f48b6b3173390d047e15d691fda67ae4ea7733a5eea4b6e0115f5099c4e700.b5cdfa39c63384f94159c36bc9042660c747cea5cf520b43d543bd2c68b3164d\n",
      "Model config GPT2Config {\n",
      "  \"activation_function\": \"gelu_new\",\n",
      "  \"architectures\": [\n",
      "    \"GPT2LMHeadModel\"\n",
      "  ],\n",
      "  \"attn_pdrop\": 0.1,\n",
      "  \"bos_token_id\": 50256,\n",
      "  \"embd_pdrop\": 0.1,\n",
      "  \"eos_token_id\": 50256,\n",
      "  \"gradient_checkpointing\": false,\n",
      "  \"initializer_range\": 0.02,\n",
      "  \"layer_norm_epsilon\": 1e-05,\n",
      "  \"model_type\": \"gpt2\",\n",
      "  \"n_ctx\": 2048,\n",
      "  \"n_embd\": 768,\n",
      "  \"n_head\": 12,\n",
      "  \"n_inner\": null,\n",
      "  \"n_layer\": 12,\n",
      "  \"n_positions\": 2048,\n",
      "  \"reorder_and_upcast_attn\": false,\n",
      "  \"resid_pdrop\": 0.1,\n",
      "  \"scale_attn_by_inverse_layer_idx\": false,\n",
      "  \"scale_attn_weights\": true,\n",
      "  \"summary_activation\": null,\n",
      "  \"summary_first_dropout\": 0.1,\n",
      "  \"summary_proj_to_labels\": true,\n",
      "  \"summary_type\": \"cls_index\",\n",
      "  \"summary_use_proj\": true,\n",
      "  \"transformers_version\": \"4.15.0\",\n",
      "  \"use_cache\": true,\n",
      "  \"vocab_size\": 50264\n",
      "}\n",
      "\n",
      "loading weights file https://huggingface.co/sberbank-ai/rugpt3small_based_on_gpt2/resolve/main/pytorch_model.bin from cache at /home/mdurinov/.cache/huggingface/transformers/df2b64a4c86a349ba84354d85b7117b106f2b87085c9bb54cde70d3751907c45.4e3da19dd8adaa6d6a9804bfd45d2dcf17ba544de445847443ef1816bfa3d693\n",
      "All model checkpoint weights were used when initializing GPT2LMHeadModel.\n",
      "\n",
      "All the weights of GPT2LMHeadModel were initialized from the model checkpoint at sberbank-ai/rugpt3small_based_on_gpt2.\n",
      "If your task is similar to the task the model of the checkpoint was trained on, you can already use GPT2LMHeadModel for predictions without further training.\n",
      "PyTorch: setting up devices\n",
      "The default value for the training argument `--report_to` will change in v5 (from all installed integrations to none). In v5, you will need to use `--report_to all` to get the same behavior as now. You should start updating your code and make this info disappear :-).\n"
     ]
    }
   ],
   "source": [
    "model = GPT2LMHeadModel.from_pretrained(\"sberbank-ai/rugpt3small_based_on_gpt2\")\n",
    "\n",
    "\n",
    "training_args = TrainingArguments(\n",
    "    output_dir=\"./gpt-letters\",\n",
    "    overwrite_output_dir=True,\n",
    "    num_train_epochs=1550,\n",
    "    per_device_train_batch_size=32,\n",
    "    per_device_eval_batch_size=64,\n",
    "    eval_steps=400,\n",
    "    save_steps=450,\n",
    "    warmup_steps=500,\n",
    "    prediction_loss_only=True,\n",
    "    )\n",
    "\n",
    "\n",
    "trainer = Trainer(\n",
    "    model=model,\n",
    "    args=training_args,\n",
    "    data_collator=data_collator,\n",
    "    train_dataset=train_dataset,\n",
    "    eval_dataset=valid_dataset,\n",
    ")"
   ]
  },
  {
   "cell_type": "markdown",
   "id": "e1d347b9-658f-4138-b955-7d43a9401ea0",
   "metadata": {},
   "source": [
    "На всякий случай удалю папку с предыдущей моделью."
   ]
  },
  {
   "cell_type": "code",
   "execution_count": 35,
   "id": "643674e6-d7b6-4aba-9538-b545e7dfedd0",
   "metadata": {},
   "outputs": [],
   "source": [
    "!rm -rf gpt-letters"
   ]
  },
  {
   "cell_type": "code",
   "execution_count": 36,
   "id": "53af3426-8e16-42a4-84a8-6178f82f276a",
   "metadata": {},
   "outputs": [
    {
     "name": "stderr",
     "output_type": "stream",
     "text": [
      "***** Running training *****\n",
      "  Num examples = 1048\n",
      "  Num Epochs = 1550\n",
      "  Instantaneous batch size per device = 32\n",
      "  Total train batch size (w. parallel, distributed & accumulation) = 32\n",
      "  Gradient Accumulation steps = 1\n",
      "  Total optimization steps = 51150\n"
     ]
    },
    {
     "data": {
      "text/html": [
       "\n",
       "    <div>\n",
       "      \n",
       "      <progress value='51150' max='51150' style='width:300px; height:20px; vertical-align: middle;'></progress>\n",
       "      [51150/51150 1:39:51, Epoch 1550/1550]\n",
       "    </div>\n",
       "    <table border=\"1\" class=\"dataframe\">\n",
       "  <thead>\n",
       "    <tr style=\"text-align: left;\">\n",
       "      <th>Step</th>\n",
       "      <th>Training Loss</th>\n",
       "    </tr>\n",
       "  </thead>\n",
       "  <tbody>\n",
       "    <tr>\n",
       "      <td>500</td>\n",
       "      <td>1.898700</td>\n",
       "    </tr>\n",
       "    <tr>\n",
       "      <td>1000</td>\n",
       "      <td>0.629700</td>\n",
       "    </tr>\n",
       "    <tr>\n",
       "      <td>1500</td>\n",
       "      <td>0.199400</td>\n",
       "    </tr>\n",
       "    <tr>\n",
       "      <td>2000</td>\n",
       "      <td>0.077800</td>\n",
       "    </tr>\n",
       "    <tr>\n",
       "      <td>2500</td>\n",
       "      <td>0.044900</td>\n",
       "    </tr>\n",
       "    <tr>\n",
       "      <td>3000</td>\n",
       "      <td>0.033300</td>\n",
       "    </tr>\n",
       "    <tr>\n",
       "      <td>3500</td>\n",
       "      <td>0.027200</td>\n",
       "    </tr>\n",
       "    <tr>\n",
       "      <td>4000</td>\n",
       "      <td>0.024000</td>\n",
       "    </tr>\n",
       "    <tr>\n",
       "      <td>4500</td>\n",
       "      <td>0.021300</td>\n",
       "    </tr>\n",
       "    <tr>\n",
       "      <td>5000</td>\n",
       "      <td>0.019700</td>\n",
       "    </tr>\n",
       "    <tr>\n",
       "      <td>5500</td>\n",
       "      <td>0.018800</td>\n",
       "    </tr>\n",
       "    <tr>\n",
       "      <td>6000</td>\n",
       "      <td>0.017600</td>\n",
       "    </tr>\n",
       "    <tr>\n",
       "      <td>6500</td>\n",
       "      <td>0.016600</td>\n",
       "    </tr>\n",
       "    <tr>\n",
       "      <td>7000</td>\n",
       "      <td>0.016200</td>\n",
       "    </tr>\n",
       "    <tr>\n",
       "      <td>7500</td>\n",
       "      <td>0.015300</td>\n",
       "    </tr>\n",
       "    <tr>\n",
       "      <td>8000</td>\n",
       "      <td>0.014900</td>\n",
       "    </tr>\n",
       "    <tr>\n",
       "      <td>8500</td>\n",
       "      <td>0.014500</td>\n",
       "    </tr>\n",
       "    <tr>\n",
       "      <td>9000</td>\n",
       "      <td>0.014400</td>\n",
       "    </tr>\n",
       "    <tr>\n",
       "      <td>9500</td>\n",
       "      <td>0.013500</td>\n",
       "    </tr>\n",
       "    <tr>\n",
       "      <td>10000</td>\n",
       "      <td>0.013600</td>\n",
       "    </tr>\n",
       "    <tr>\n",
       "      <td>10500</td>\n",
       "      <td>0.013200</td>\n",
       "    </tr>\n",
       "    <tr>\n",
       "      <td>11000</td>\n",
       "      <td>0.013100</td>\n",
       "    </tr>\n",
       "    <tr>\n",
       "      <td>11500</td>\n",
       "      <td>0.012800</td>\n",
       "    </tr>\n",
       "    <tr>\n",
       "      <td>12000</td>\n",
       "      <td>0.012500</td>\n",
       "    </tr>\n",
       "    <tr>\n",
       "      <td>12500</td>\n",
       "      <td>0.012500</td>\n",
       "    </tr>\n",
       "    <tr>\n",
       "      <td>13000</td>\n",
       "      <td>0.012200</td>\n",
       "    </tr>\n",
       "    <tr>\n",
       "      <td>13500</td>\n",
       "      <td>0.012300</td>\n",
       "    </tr>\n",
       "    <tr>\n",
       "      <td>14000</td>\n",
       "      <td>0.011800</td>\n",
       "    </tr>\n",
       "    <tr>\n",
       "      <td>14500</td>\n",
       "      <td>0.011900</td>\n",
       "    </tr>\n",
       "    <tr>\n",
       "      <td>15000</td>\n",
       "      <td>0.011700</td>\n",
       "    </tr>\n",
       "    <tr>\n",
       "      <td>15500</td>\n",
       "      <td>0.011800</td>\n",
       "    </tr>\n",
       "    <tr>\n",
       "      <td>16000</td>\n",
       "      <td>0.011400</td>\n",
       "    </tr>\n",
       "    <tr>\n",
       "      <td>16500</td>\n",
       "      <td>0.011300</td>\n",
       "    </tr>\n",
       "    <tr>\n",
       "      <td>17000</td>\n",
       "      <td>0.011500</td>\n",
       "    </tr>\n",
       "    <tr>\n",
       "      <td>17500</td>\n",
       "      <td>0.011200</td>\n",
       "    </tr>\n",
       "    <tr>\n",
       "      <td>18000</td>\n",
       "      <td>0.011100</td>\n",
       "    </tr>\n",
       "    <tr>\n",
       "      <td>18500</td>\n",
       "      <td>0.011200</td>\n",
       "    </tr>\n",
       "    <tr>\n",
       "      <td>19000</td>\n",
       "      <td>0.011000</td>\n",
       "    </tr>\n",
       "    <tr>\n",
       "      <td>19500</td>\n",
       "      <td>0.011000</td>\n",
       "    </tr>\n",
       "    <tr>\n",
       "      <td>20000</td>\n",
       "      <td>0.010800</td>\n",
       "    </tr>\n",
       "    <tr>\n",
       "      <td>20500</td>\n",
       "      <td>0.010900</td>\n",
       "    </tr>\n",
       "    <tr>\n",
       "      <td>21000</td>\n",
       "      <td>0.010700</td>\n",
       "    </tr>\n",
       "    <tr>\n",
       "      <td>21500</td>\n",
       "      <td>0.010800</td>\n",
       "    </tr>\n",
       "    <tr>\n",
       "      <td>22000</td>\n",
       "      <td>0.010600</td>\n",
       "    </tr>\n",
       "    <tr>\n",
       "      <td>22500</td>\n",
       "      <td>0.010600</td>\n",
       "    </tr>\n",
       "    <tr>\n",
       "      <td>23000</td>\n",
       "      <td>0.010600</td>\n",
       "    </tr>\n",
       "    <tr>\n",
       "      <td>23500</td>\n",
       "      <td>0.010500</td>\n",
       "    </tr>\n",
       "    <tr>\n",
       "      <td>24000</td>\n",
       "      <td>0.010600</td>\n",
       "    </tr>\n",
       "    <tr>\n",
       "      <td>24500</td>\n",
       "      <td>0.010400</td>\n",
       "    </tr>\n",
       "    <tr>\n",
       "      <td>25000</td>\n",
       "      <td>0.010500</td>\n",
       "    </tr>\n",
       "    <tr>\n",
       "      <td>25500</td>\n",
       "      <td>0.010300</td>\n",
       "    </tr>\n",
       "    <tr>\n",
       "      <td>26000</td>\n",
       "      <td>0.010300</td>\n",
       "    </tr>\n",
       "    <tr>\n",
       "      <td>26500</td>\n",
       "      <td>0.010200</td>\n",
       "    </tr>\n",
       "    <tr>\n",
       "      <td>27000</td>\n",
       "      <td>0.010100</td>\n",
       "    </tr>\n",
       "    <tr>\n",
       "      <td>27500</td>\n",
       "      <td>0.010300</td>\n",
       "    </tr>\n",
       "    <tr>\n",
       "      <td>28000</td>\n",
       "      <td>0.010200</td>\n",
       "    </tr>\n",
       "    <tr>\n",
       "      <td>28500</td>\n",
       "      <td>0.010300</td>\n",
       "    </tr>\n",
       "    <tr>\n",
       "      <td>29000</td>\n",
       "      <td>0.010200</td>\n",
       "    </tr>\n",
       "    <tr>\n",
       "      <td>29500</td>\n",
       "      <td>0.010100</td>\n",
       "    </tr>\n",
       "    <tr>\n",
       "      <td>30000</td>\n",
       "      <td>0.010100</td>\n",
       "    </tr>\n",
       "    <tr>\n",
       "      <td>30500</td>\n",
       "      <td>0.009900</td>\n",
       "    </tr>\n",
       "    <tr>\n",
       "      <td>31000</td>\n",
       "      <td>0.010000</td>\n",
       "    </tr>\n",
       "    <tr>\n",
       "      <td>31500</td>\n",
       "      <td>0.010000</td>\n",
       "    </tr>\n",
       "    <tr>\n",
       "      <td>32000</td>\n",
       "      <td>0.009900</td>\n",
       "    </tr>\n",
       "    <tr>\n",
       "      <td>32500</td>\n",
       "      <td>0.009800</td>\n",
       "    </tr>\n",
       "    <tr>\n",
       "      <td>33000</td>\n",
       "      <td>0.009900</td>\n",
       "    </tr>\n",
       "    <tr>\n",
       "      <td>33500</td>\n",
       "      <td>0.009900</td>\n",
       "    </tr>\n",
       "    <tr>\n",
       "      <td>34000</td>\n",
       "      <td>0.009900</td>\n",
       "    </tr>\n",
       "    <tr>\n",
       "      <td>34500</td>\n",
       "      <td>0.009800</td>\n",
       "    </tr>\n",
       "    <tr>\n",
       "      <td>35000</td>\n",
       "      <td>0.009800</td>\n",
       "    </tr>\n",
       "    <tr>\n",
       "      <td>35500</td>\n",
       "      <td>0.009800</td>\n",
       "    </tr>\n",
       "    <tr>\n",
       "      <td>36000</td>\n",
       "      <td>0.009700</td>\n",
       "    </tr>\n",
       "    <tr>\n",
       "      <td>36500</td>\n",
       "      <td>0.009700</td>\n",
       "    </tr>\n",
       "    <tr>\n",
       "      <td>37000</td>\n",
       "      <td>0.009700</td>\n",
       "    </tr>\n",
       "    <tr>\n",
       "      <td>37500</td>\n",
       "      <td>0.009700</td>\n",
       "    </tr>\n",
       "    <tr>\n",
       "      <td>38000</td>\n",
       "      <td>0.009700</td>\n",
       "    </tr>\n",
       "    <tr>\n",
       "      <td>38500</td>\n",
       "      <td>0.009700</td>\n",
       "    </tr>\n",
       "    <tr>\n",
       "      <td>39000</td>\n",
       "      <td>0.009600</td>\n",
       "    </tr>\n",
       "    <tr>\n",
       "      <td>39500</td>\n",
       "      <td>0.009700</td>\n",
       "    </tr>\n",
       "    <tr>\n",
       "      <td>40000</td>\n",
       "      <td>0.009600</td>\n",
       "    </tr>\n",
       "    <tr>\n",
       "      <td>40500</td>\n",
       "      <td>0.009700</td>\n",
       "    </tr>\n",
       "    <tr>\n",
       "      <td>41000</td>\n",
       "      <td>0.009600</td>\n",
       "    </tr>\n",
       "    <tr>\n",
       "      <td>41500</td>\n",
       "      <td>0.009500</td>\n",
       "    </tr>\n",
       "    <tr>\n",
       "      <td>42000</td>\n",
       "      <td>0.009500</td>\n",
       "    </tr>\n",
       "    <tr>\n",
       "      <td>42500</td>\n",
       "      <td>0.009500</td>\n",
       "    </tr>\n",
       "    <tr>\n",
       "      <td>43000</td>\n",
       "      <td>0.009500</td>\n",
       "    </tr>\n",
       "    <tr>\n",
       "      <td>43500</td>\n",
       "      <td>0.009500</td>\n",
       "    </tr>\n",
       "    <tr>\n",
       "      <td>44000</td>\n",
       "      <td>0.009400</td>\n",
       "    </tr>\n",
       "    <tr>\n",
       "      <td>44500</td>\n",
       "      <td>0.009500</td>\n",
       "    </tr>\n",
       "    <tr>\n",
       "      <td>45000</td>\n",
       "      <td>0.009500</td>\n",
       "    </tr>\n",
       "    <tr>\n",
       "      <td>45500</td>\n",
       "      <td>0.009400</td>\n",
       "    </tr>\n",
       "    <tr>\n",
       "      <td>46000</td>\n",
       "      <td>0.009400</td>\n",
       "    </tr>\n",
       "    <tr>\n",
       "      <td>46500</td>\n",
       "      <td>0.009400</td>\n",
       "    </tr>\n",
       "    <tr>\n",
       "      <td>47000</td>\n",
       "      <td>0.009400</td>\n",
       "    </tr>\n",
       "    <tr>\n",
       "      <td>47500</td>\n",
       "      <td>0.009400</td>\n",
       "    </tr>\n",
       "    <tr>\n",
       "      <td>48000</td>\n",
       "      <td>0.009300</td>\n",
       "    </tr>\n",
       "    <tr>\n",
       "      <td>48500</td>\n",
       "      <td>0.009300</td>\n",
       "    </tr>\n",
       "    <tr>\n",
       "      <td>49000</td>\n",
       "      <td>0.009300</td>\n",
       "    </tr>\n",
       "    <tr>\n",
       "      <td>49500</td>\n",
       "      <td>0.009300</td>\n",
       "    </tr>\n",
       "    <tr>\n",
       "      <td>50000</td>\n",
       "      <td>0.009300</td>\n",
       "    </tr>\n",
       "    <tr>\n",
       "      <td>50500</td>\n",
       "      <td>0.009300</td>\n",
       "    </tr>\n",
       "    <tr>\n",
       "      <td>51000</td>\n",
       "      <td>0.009200</td>\n",
       "    </tr>\n",
       "  </tbody>\n",
       "</table><p>"
      ],
      "text/plain": [
       "<IPython.core.display.HTML object>"
      ]
     },
     "metadata": {},
     "output_type": "display_data"
    },
    {
     "name": "stderr",
     "output_type": "stream",
     "text": [
      "Saving model checkpoint to ./gpt-letters/checkpoint-450\n",
      "Configuration saved in ./gpt-letters/checkpoint-450/config.json\n",
      "Model weights saved in ./gpt-letters/checkpoint-450/pytorch_model.bin\n",
      "Saving model checkpoint to ./gpt-letters/checkpoint-900\n",
      "Configuration saved in ./gpt-letters/checkpoint-900/config.json\n",
      "Model weights saved in ./gpt-letters/checkpoint-900/pytorch_model.bin\n",
      "Saving model checkpoint to ./gpt-letters/checkpoint-1350\n",
      "Configuration saved in ./gpt-letters/checkpoint-1350/config.json\n",
      "Model weights saved in ./gpt-letters/checkpoint-1350/pytorch_model.bin\n",
      "Saving model checkpoint to ./gpt-letters/checkpoint-1800\n",
      "Configuration saved in ./gpt-letters/checkpoint-1800/config.json\n",
      "Model weights saved in ./gpt-letters/checkpoint-1800/pytorch_model.bin\n",
      "Saving model checkpoint to ./gpt-letters/checkpoint-2250\n",
      "Configuration saved in ./gpt-letters/checkpoint-2250/config.json\n",
      "Model weights saved in ./gpt-letters/checkpoint-2250/pytorch_model.bin\n",
      "Saving model checkpoint to ./gpt-letters/checkpoint-2700\n",
      "Configuration saved in ./gpt-letters/checkpoint-2700/config.json\n",
      "Model weights saved in ./gpt-letters/checkpoint-2700/pytorch_model.bin\n",
      "Saving model checkpoint to ./gpt-letters/checkpoint-3150\n",
      "Configuration saved in ./gpt-letters/checkpoint-3150/config.json\n",
      "Model weights saved in ./gpt-letters/checkpoint-3150/pytorch_model.bin\n",
      "Saving model checkpoint to ./gpt-letters/checkpoint-3600\n",
      "Configuration saved in ./gpt-letters/checkpoint-3600/config.json\n",
      "Model weights saved in ./gpt-letters/checkpoint-3600/pytorch_model.bin\n",
      "Saving model checkpoint to ./gpt-letters/checkpoint-4050\n",
      "Configuration saved in ./gpt-letters/checkpoint-4050/config.json\n",
      "Model weights saved in ./gpt-letters/checkpoint-4050/pytorch_model.bin\n",
      "Saving model checkpoint to ./gpt-letters/checkpoint-4500\n",
      "Configuration saved in ./gpt-letters/checkpoint-4500/config.json\n",
      "Model weights saved in ./gpt-letters/checkpoint-4500/pytorch_model.bin\n",
      "Saving model checkpoint to ./gpt-letters/checkpoint-4950\n",
      "Configuration saved in ./gpt-letters/checkpoint-4950/config.json\n",
      "Model weights saved in ./gpt-letters/checkpoint-4950/pytorch_model.bin\n",
      "Saving model checkpoint to ./gpt-letters/checkpoint-5400\n",
      "Configuration saved in ./gpt-letters/checkpoint-5400/config.json\n",
      "Model weights saved in ./gpt-letters/checkpoint-5400/pytorch_model.bin\n",
      "Saving model checkpoint to ./gpt-letters/checkpoint-5850\n",
      "Configuration saved in ./gpt-letters/checkpoint-5850/config.json\n",
      "Model weights saved in ./gpt-letters/checkpoint-5850/pytorch_model.bin\n",
      "Saving model checkpoint to ./gpt-letters/checkpoint-6300\n",
      "Configuration saved in ./gpt-letters/checkpoint-6300/config.json\n",
      "Model weights saved in ./gpt-letters/checkpoint-6300/pytorch_model.bin\n",
      "Saving model checkpoint to ./gpt-letters/checkpoint-6750\n",
      "Configuration saved in ./gpt-letters/checkpoint-6750/config.json\n",
      "Model weights saved in ./gpt-letters/checkpoint-6750/pytorch_model.bin\n",
      "Saving model checkpoint to ./gpt-letters/checkpoint-7200\n",
      "Configuration saved in ./gpt-letters/checkpoint-7200/config.json\n",
      "Model weights saved in ./gpt-letters/checkpoint-7200/pytorch_model.bin\n",
      "Saving model checkpoint to ./gpt-letters/checkpoint-7650\n",
      "Configuration saved in ./gpt-letters/checkpoint-7650/config.json\n",
      "Model weights saved in ./gpt-letters/checkpoint-7650/pytorch_model.bin\n",
      "Saving model checkpoint to ./gpt-letters/checkpoint-8100\n",
      "Configuration saved in ./gpt-letters/checkpoint-8100/config.json\n",
      "Model weights saved in ./gpt-letters/checkpoint-8100/pytorch_model.bin\n",
      "Saving model checkpoint to ./gpt-letters/checkpoint-8550\n",
      "Configuration saved in ./gpt-letters/checkpoint-8550/config.json\n",
      "Model weights saved in ./gpt-letters/checkpoint-8550/pytorch_model.bin\n",
      "Saving model checkpoint to ./gpt-letters/checkpoint-9000\n",
      "Configuration saved in ./gpt-letters/checkpoint-9000/config.json\n",
      "Model weights saved in ./gpt-letters/checkpoint-9000/pytorch_model.bin\n",
      "Saving model checkpoint to ./gpt-letters/checkpoint-9450\n",
      "Configuration saved in ./gpt-letters/checkpoint-9450/config.json\n",
      "Model weights saved in ./gpt-letters/checkpoint-9450/pytorch_model.bin\n",
      "Saving model checkpoint to ./gpt-letters/checkpoint-9900\n",
      "Configuration saved in ./gpt-letters/checkpoint-9900/config.json\n",
      "Model weights saved in ./gpt-letters/checkpoint-9900/pytorch_model.bin\n",
      "Saving model checkpoint to ./gpt-letters/checkpoint-10350\n",
      "Configuration saved in ./gpt-letters/checkpoint-10350/config.json\n",
      "Model weights saved in ./gpt-letters/checkpoint-10350/pytorch_model.bin\n",
      "Saving model checkpoint to ./gpt-letters/checkpoint-10800\n",
      "Configuration saved in ./gpt-letters/checkpoint-10800/config.json\n",
      "Model weights saved in ./gpt-letters/checkpoint-10800/pytorch_model.bin\n",
      "Saving model checkpoint to ./gpt-letters/checkpoint-11250\n",
      "Configuration saved in ./gpt-letters/checkpoint-11250/config.json\n",
      "Model weights saved in ./gpt-letters/checkpoint-11250/pytorch_model.bin\n",
      "Saving model checkpoint to ./gpt-letters/checkpoint-11700\n",
      "Configuration saved in ./gpt-letters/checkpoint-11700/config.json\n",
      "Model weights saved in ./gpt-letters/checkpoint-11700/pytorch_model.bin\n",
      "Saving model checkpoint to ./gpt-letters/checkpoint-12150\n",
      "Configuration saved in ./gpt-letters/checkpoint-12150/config.json\n",
      "Model weights saved in ./gpt-letters/checkpoint-12150/pytorch_model.bin\n",
      "Saving model checkpoint to ./gpt-letters/checkpoint-12600\n",
      "Configuration saved in ./gpt-letters/checkpoint-12600/config.json\n",
      "Model weights saved in ./gpt-letters/checkpoint-12600/pytorch_model.bin\n",
      "Saving model checkpoint to ./gpt-letters/checkpoint-13050\n",
      "Configuration saved in ./gpt-letters/checkpoint-13050/config.json\n",
      "Model weights saved in ./gpt-letters/checkpoint-13050/pytorch_model.bin\n",
      "Saving model checkpoint to ./gpt-letters/checkpoint-13500\n",
      "Configuration saved in ./gpt-letters/checkpoint-13500/config.json\n",
      "Model weights saved in ./gpt-letters/checkpoint-13500/pytorch_model.bin\n",
      "Saving model checkpoint to ./gpt-letters/checkpoint-13950\n",
      "Configuration saved in ./gpt-letters/checkpoint-13950/config.json\n",
      "Model weights saved in ./gpt-letters/checkpoint-13950/pytorch_model.bin\n",
      "Saving model checkpoint to ./gpt-letters/checkpoint-14400\n",
      "Configuration saved in ./gpt-letters/checkpoint-14400/config.json\n",
      "Model weights saved in ./gpt-letters/checkpoint-14400/pytorch_model.bin\n",
      "Saving model checkpoint to ./gpt-letters/checkpoint-14850\n",
      "Configuration saved in ./gpt-letters/checkpoint-14850/config.json\n",
      "Model weights saved in ./gpt-letters/checkpoint-14850/pytorch_model.bin\n",
      "Saving model checkpoint to ./gpt-letters/checkpoint-15300\n",
      "Configuration saved in ./gpt-letters/checkpoint-15300/config.json\n",
      "Model weights saved in ./gpt-letters/checkpoint-15300/pytorch_model.bin\n",
      "Saving model checkpoint to ./gpt-letters/checkpoint-15750\n",
      "Configuration saved in ./gpt-letters/checkpoint-15750/config.json\n",
      "Model weights saved in ./gpt-letters/checkpoint-15750/pytorch_model.bin\n",
      "Saving model checkpoint to ./gpt-letters/checkpoint-16200\n",
      "Configuration saved in ./gpt-letters/checkpoint-16200/config.json\n",
      "Model weights saved in ./gpt-letters/checkpoint-16200/pytorch_model.bin\n",
      "Saving model checkpoint to ./gpt-letters/checkpoint-16650\n",
      "Configuration saved in ./gpt-letters/checkpoint-16650/config.json\n",
      "Model weights saved in ./gpt-letters/checkpoint-16650/pytorch_model.bin\n",
      "Saving model checkpoint to ./gpt-letters/checkpoint-17100\n",
      "Configuration saved in ./gpt-letters/checkpoint-17100/config.json\n",
      "Model weights saved in ./gpt-letters/checkpoint-17100/pytorch_model.bin\n",
      "Saving model checkpoint to ./gpt-letters/checkpoint-17550\n",
      "Configuration saved in ./gpt-letters/checkpoint-17550/config.json\n",
      "Model weights saved in ./gpt-letters/checkpoint-17550/pytorch_model.bin\n",
      "Saving model checkpoint to ./gpt-letters/checkpoint-18000\n",
      "Configuration saved in ./gpt-letters/checkpoint-18000/config.json\n",
      "Model weights saved in ./gpt-letters/checkpoint-18000/pytorch_model.bin\n",
      "Saving model checkpoint to ./gpt-letters/checkpoint-18450\n",
      "Configuration saved in ./gpt-letters/checkpoint-18450/config.json\n",
      "Model weights saved in ./gpt-letters/checkpoint-18450/pytorch_model.bin\n",
      "Saving model checkpoint to ./gpt-letters/checkpoint-18900\n",
      "Configuration saved in ./gpt-letters/checkpoint-18900/config.json\n",
      "Model weights saved in ./gpt-letters/checkpoint-18900/pytorch_model.bin\n",
      "Saving model checkpoint to ./gpt-letters/checkpoint-19350\n",
      "Configuration saved in ./gpt-letters/checkpoint-19350/config.json\n",
      "Model weights saved in ./gpt-letters/checkpoint-19350/pytorch_model.bin\n",
      "Saving model checkpoint to ./gpt-letters/checkpoint-19800\n",
      "Configuration saved in ./gpt-letters/checkpoint-19800/config.json\n",
      "Model weights saved in ./gpt-letters/checkpoint-19800/pytorch_model.bin\n",
      "Saving model checkpoint to ./gpt-letters/checkpoint-20250\n",
      "Configuration saved in ./gpt-letters/checkpoint-20250/config.json\n",
      "Model weights saved in ./gpt-letters/checkpoint-20250/pytorch_model.bin\n",
      "Saving model checkpoint to ./gpt-letters/checkpoint-20700\n",
      "Configuration saved in ./gpt-letters/checkpoint-20700/config.json\n",
      "Model weights saved in ./gpt-letters/checkpoint-20700/pytorch_model.bin\n",
      "Saving model checkpoint to ./gpt-letters/checkpoint-21150\n",
      "Configuration saved in ./gpt-letters/checkpoint-21150/config.json\n",
      "Model weights saved in ./gpt-letters/checkpoint-21150/pytorch_model.bin\n",
      "Saving model checkpoint to ./gpt-letters/checkpoint-21600\n",
      "Configuration saved in ./gpt-letters/checkpoint-21600/config.json\n",
      "Model weights saved in ./gpt-letters/checkpoint-21600/pytorch_model.bin\n",
      "Saving model checkpoint to ./gpt-letters/checkpoint-22050\n",
      "Configuration saved in ./gpt-letters/checkpoint-22050/config.json\n",
      "Model weights saved in ./gpt-letters/checkpoint-22050/pytorch_model.bin\n",
      "Saving model checkpoint to ./gpt-letters/checkpoint-22500\n",
      "Configuration saved in ./gpt-letters/checkpoint-22500/config.json\n",
      "Model weights saved in ./gpt-letters/checkpoint-22500/pytorch_model.bin\n",
      "Saving model checkpoint to ./gpt-letters/checkpoint-22950\n",
      "Configuration saved in ./gpt-letters/checkpoint-22950/config.json\n",
      "Model weights saved in ./gpt-letters/checkpoint-22950/pytorch_model.bin\n",
      "Saving model checkpoint to ./gpt-letters/checkpoint-23400\n",
      "Configuration saved in ./gpt-letters/checkpoint-23400/config.json\n",
      "Model weights saved in ./gpt-letters/checkpoint-23400/pytorch_model.bin\n",
      "Saving model checkpoint to ./gpt-letters/checkpoint-23850\n",
      "Configuration saved in ./gpt-letters/checkpoint-23850/config.json\n",
      "Model weights saved in ./gpt-letters/checkpoint-23850/pytorch_model.bin\n",
      "Saving model checkpoint to ./gpt-letters/checkpoint-24300\n",
      "Configuration saved in ./gpt-letters/checkpoint-24300/config.json\n",
      "Model weights saved in ./gpt-letters/checkpoint-24300/pytorch_model.bin\n",
      "Saving model checkpoint to ./gpt-letters/checkpoint-24750\n",
      "Configuration saved in ./gpt-letters/checkpoint-24750/config.json\n",
      "Model weights saved in ./gpt-letters/checkpoint-24750/pytorch_model.bin\n",
      "Saving model checkpoint to ./gpt-letters/checkpoint-25200\n",
      "Configuration saved in ./gpt-letters/checkpoint-25200/config.json\n",
      "Model weights saved in ./gpt-letters/checkpoint-25200/pytorch_model.bin\n",
      "Saving model checkpoint to ./gpt-letters/checkpoint-25650\n",
      "Configuration saved in ./gpt-letters/checkpoint-25650/config.json\n",
      "Model weights saved in ./gpt-letters/checkpoint-25650/pytorch_model.bin\n",
      "Saving model checkpoint to ./gpt-letters/checkpoint-26100\n",
      "Configuration saved in ./gpt-letters/checkpoint-26100/config.json\n",
      "Model weights saved in ./gpt-letters/checkpoint-26100/pytorch_model.bin\n",
      "Saving model checkpoint to ./gpt-letters/checkpoint-26550\n",
      "Configuration saved in ./gpt-letters/checkpoint-26550/config.json\n",
      "Model weights saved in ./gpt-letters/checkpoint-26550/pytorch_model.bin\n",
      "Saving model checkpoint to ./gpt-letters/checkpoint-27000\n",
      "Configuration saved in ./gpt-letters/checkpoint-27000/config.json\n",
      "Model weights saved in ./gpt-letters/checkpoint-27000/pytorch_model.bin\n",
      "Saving model checkpoint to ./gpt-letters/checkpoint-27450\n",
      "Configuration saved in ./gpt-letters/checkpoint-27450/config.json\n",
      "Model weights saved in ./gpt-letters/checkpoint-27450/pytorch_model.bin\n",
      "Saving model checkpoint to ./gpt-letters/checkpoint-27900\n",
      "Configuration saved in ./gpt-letters/checkpoint-27900/config.json\n",
      "Model weights saved in ./gpt-letters/checkpoint-27900/pytorch_model.bin\n",
      "Saving model checkpoint to ./gpt-letters/checkpoint-28350\n",
      "Configuration saved in ./gpt-letters/checkpoint-28350/config.json\n",
      "Model weights saved in ./gpt-letters/checkpoint-28350/pytorch_model.bin\n",
      "Saving model checkpoint to ./gpt-letters/checkpoint-28800\n",
      "Configuration saved in ./gpt-letters/checkpoint-28800/config.json\n",
      "Model weights saved in ./gpt-letters/checkpoint-28800/pytorch_model.bin\n",
      "Saving model checkpoint to ./gpt-letters/checkpoint-29250\n",
      "Configuration saved in ./gpt-letters/checkpoint-29250/config.json\n",
      "Model weights saved in ./gpt-letters/checkpoint-29250/pytorch_model.bin\n",
      "Saving model checkpoint to ./gpt-letters/checkpoint-29700\n",
      "Configuration saved in ./gpt-letters/checkpoint-29700/config.json\n",
      "Model weights saved in ./gpt-letters/checkpoint-29700/pytorch_model.bin\n",
      "Saving model checkpoint to ./gpt-letters/checkpoint-30150\n",
      "Configuration saved in ./gpt-letters/checkpoint-30150/config.json\n",
      "Model weights saved in ./gpt-letters/checkpoint-30150/pytorch_model.bin\n",
      "Saving model checkpoint to ./gpt-letters/checkpoint-30600\n",
      "Configuration saved in ./gpt-letters/checkpoint-30600/config.json\n",
      "Model weights saved in ./gpt-letters/checkpoint-30600/pytorch_model.bin\n",
      "Saving model checkpoint to ./gpt-letters/checkpoint-31050\n",
      "Configuration saved in ./gpt-letters/checkpoint-31050/config.json\n",
      "Model weights saved in ./gpt-letters/checkpoint-31050/pytorch_model.bin\n",
      "Saving model checkpoint to ./gpt-letters/checkpoint-31500\n",
      "Configuration saved in ./gpt-letters/checkpoint-31500/config.json\n",
      "Model weights saved in ./gpt-letters/checkpoint-31500/pytorch_model.bin\n",
      "Saving model checkpoint to ./gpt-letters/checkpoint-31950\n",
      "Configuration saved in ./gpt-letters/checkpoint-31950/config.json\n",
      "Model weights saved in ./gpt-letters/checkpoint-31950/pytorch_model.bin\n",
      "Saving model checkpoint to ./gpt-letters/checkpoint-32400\n",
      "Configuration saved in ./gpt-letters/checkpoint-32400/config.json\n",
      "Model weights saved in ./gpt-letters/checkpoint-32400/pytorch_model.bin\n",
      "Saving model checkpoint to ./gpt-letters/checkpoint-32850\n",
      "Configuration saved in ./gpt-letters/checkpoint-32850/config.json\n",
      "Model weights saved in ./gpt-letters/checkpoint-32850/pytorch_model.bin\n",
      "Saving model checkpoint to ./gpt-letters/checkpoint-33300\n",
      "Configuration saved in ./gpt-letters/checkpoint-33300/config.json\n",
      "Model weights saved in ./gpt-letters/checkpoint-33300/pytorch_model.bin\n",
      "Saving model checkpoint to ./gpt-letters/checkpoint-33750\n",
      "Configuration saved in ./gpt-letters/checkpoint-33750/config.json\n",
      "Model weights saved in ./gpt-letters/checkpoint-33750/pytorch_model.bin\n",
      "Saving model checkpoint to ./gpt-letters/checkpoint-34200\n",
      "Configuration saved in ./gpt-letters/checkpoint-34200/config.json\n",
      "Model weights saved in ./gpt-letters/checkpoint-34200/pytorch_model.bin\n",
      "Saving model checkpoint to ./gpt-letters/checkpoint-34650\n",
      "Configuration saved in ./gpt-letters/checkpoint-34650/config.json\n",
      "Model weights saved in ./gpt-letters/checkpoint-34650/pytorch_model.bin\n",
      "Saving model checkpoint to ./gpt-letters/checkpoint-35100\n",
      "Configuration saved in ./gpt-letters/checkpoint-35100/config.json\n",
      "Model weights saved in ./gpt-letters/checkpoint-35100/pytorch_model.bin\n",
      "Saving model checkpoint to ./gpt-letters/checkpoint-35550\n",
      "Configuration saved in ./gpt-letters/checkpoint-35550/config.json\n",
      "Model weights saved in ./gpt-letters/checkpoint-35550/pytorch_model.bin\n",
      "Saving model checkpoint to ./gpt-letters/checkpoint-36000\n",
      "Configuration saved in ./gpt-letters/checkpoint-36000/config.json\n",
      "Model weights saved in ./gpt-letters/checkpoint-36000/pytorch_model.bin\n",
      "Saving model checkpoint to ./gpt-letters/checkpoint-36450\n",
      "Configuration saved in ./gpt-letters/checkpoint-36450/config.json\n",
      "Model weights saved in ./gpt-letters/checkpoint-36450/pytorch_model.bin\n",
      "Saving model checkpoint to ./gpt-letters/checkpoint-36900\n",
      "Configuration saved in ./gpt-letters/checkpoint-36900/config.json\n",
      "Model weights saved in ./gpt-letters/checkpoint-36900/pytorch_model.bin\n",
      "Saving model checkpoint to ./gpt-letters/checkpoint-37350\n",
      "Configuration saved in ./gpt-letters/checkpoint-37350/config.json\n",
      "Model weights saved in ./gpt-letters/checkpoint-37350/pytorch_model.bin\n",
      "Saving model checkpoint to ./gpt-letters/checkpoint-37800\n",
      "Configuration saved in ./gpt-letters/checkpoint-37800/config.json\n",
      "Model weights saved in ./gpt-letters/checkpoint-37800/pytorch_model.bin\n",
      "Saving model checkpoint to ./gpt-letters/checkpoint-38250\n",
      "Configuration saved in ./gpt-letters/checkpoint-38250/config.json\n",
      "Model weights saved in ./gpt-letters/checkpoint-38250/pytorch_model.bin\n",
      "Saving model checkpoint to ./gpt-letters/checkpoint-38700\n",
      "Configuration saved in ./gpt-letters/checkpoint-38700/config.json\n",
      "Model weights saved in ./gpt-letters/checkpoint-38700/pytorch_model.bin\n",
      "Saving model checkpoint to ./gpt-letters/checkpoint-39150\n",
      "Configuration saved in ./gpt-letters/checkpoint-39150/config.json\n",
      "Model weights saved in ./gpt-letters/checkpoint-39150/pytorch_model.bin\n",
      "Saving model checkpoint to ./gpt-letters/checkpoint-39600\n",
      "Configuration saved in ./gpt-letters/checkpoint-39600/config.json\n",
      "Model weights saved in ./gpt-letters/checkpoint-39600/pytorch_model.bin\n",
      "Saving model checkpoint to ./gpt-letters/checkpoint-40050\n",
      "Configuration saved in ./gpt-letters/checkpoint-40050/config.json\n",
      "Model weights saved in ./gpt-letters/checkpoint-40050/pytorch_model.bin\n",
      "Saving model checkpoint to ./gpt-letters/checkpoint-40500\n",
      "Configuration saved in ./gpt-letters/checkpoint-40500/config.json\n",
      "Model weights saved in ./gpt-letters/checkpoint-40500/pytorch_model.bin\n",
      "Saving model checkpoint to ./gpt-letters/checkpoint-40950\n",
      "Configuration saved in ./gpt-letters/checkpoint-40950/config.json\n",
      "Model weights saved in ./gpt-letters/checkpoint-40950/pytorch_model.bin\n",
      "Saving model checkpoint to ./gpt-letters/checkpoint-41400\n",
      "Configuration saved in ./gpt-letters/checkpoint-41400/config.json\n",
      "Model weights saved in ./gpt-letters/checkpoint-41400/pytorch_model.bin\n",
      "Saving model checkpoint to ./gpt-letters/checkpoint-41850\n",
      "Configuration saved in ./gpt-letters/checkpoint-41850/config.json\n",
      "Model weights saved in ./gpt-letters/checkpoint-41850/pytorch_model.bin\n",
      "Saving model checkpoint to ./gpt-letters/checkpoint-42300\n",
      "Configuration saved in ./gpt-letters/checkpoint-42300/config.json\n",
      "Model weights saved in ./gpt-letters/checkpoint-42300/pytorch_model.bin\n",
      "Saving model checkpoint to ./gpt-letters/checkpoint-42750\n",
      "Configuration saved in ./gpt-letters/checkpoint-42750/config.json\n",
      "Model weights saved in ./gpt-letters/checkpoint-42750/pytorch_model.bin\n",
      "Saving model checkpoint to ./gpt-letters/checkpoint-43200\n",
      "Configuration saved in ./gpt-letters/checkpoint-43200/config.json\n",
      "Model weights saved in ./gpt-letters/checkpoint-43200/pytorch_model.bin\n",
      "Saving model checkpoint to ./gpt-letters/checkpoint-43650\n",
      "Configuration saved in ./gpt-letters/checkpoint-43650/config.json\n",
      "Model weights saved in ./gpt-letters/checkpoint-43650/pytorch_model.bin\n",
      "Saving model checkpoint to ./gpt-letters/checkpoint-44100\n",
      "Configuration saved in ./gpt-letters/checkpoint-44100/config.json\n",
      "Model weights saved in ./gpt-letters/checkpoint-44100/pytorch_model.bin\n",
      "Saving model checkpoint to ./gpt-letters/checkpoint-44550\n",
      "Configuration saved in ./gpt-letters/checkpoint-44550/config.json\n",
      "Model weights saved in ./gpt-letters/checkpoint-44550/pytorch_model.bin\n",
      "Saving model checkpoint to ./gpt-letters/checkpoint-45000\n",
      "Configuration saved in ./gpt-letters/checkpoint-45000/config.json\n",
      "Model weights saved in ./gpt-letters/checkpoint-45000/pytorch_model.bin\n",
      "Saving model checkpoint to ./gpt-letters/checkpoint-45450\n",
      "Configuration saved in ./gpt-letters/checkpoint-45450/config.json\n",
      "Model weights saved in ./gpt-letters/checkpoint-45450/pytorch_model.bin\n",
      "Saving model checkpoint to ./gpt-letters/checkpoint-45900\n",
      "Configuration saved in ./gpt-letters/checkpoint-45900/config.json\n",
      "Model weights saved in ./gpt-letters/checkpoint-45900/pytorch_model.bin\n",
      "Saving model checkpoint to ./gpt-letters/checkpoint-46350\n",
      "Configuration saved in ./gpt-letters/checkpoint-46350/config.json\n",
      "Model weights saved in ./gpt-letters/checkpoint-46350/pytorch_model.bin\n",
      "Saving model checkpoint to ./gpt-letters/checkpoint-46800\n",
      "Configuration saved in ./gpt-letters/checkpoint-46800/config.json\n",
      "Model weights saved in ./gpt-letters/checkpoint-46800/pytorch_model.bin\n",
      "Saving model checkpoint to ./gpt-letters/checkpoint-47250\n",
      "Configuration saved in ./gpt-letters/checkpoint-47250/config.json\n",
      "Model weights saved in ./gpt-letters/checkpoint-47250/pytorch_model.bin\n",
      "Saving model checkpoint to ./gpt-letters/checkpoint-47700\n",
      "Configuration saved in ./gpt-letters/checkpoint-47700/config.json\n",
      "Model weights saved in ./gpt-letters/checkpoint-47700/pytorch_model.bin\n",
      "Saving model checkpoint to ./gpt-letters/checkpoint-48150\n",
      "Configuration saved in ./gpt-letters/checkpoint-48150/config.json\n",
      "Model weights saved in ./gpt-letters/checkpoint-48150/pytorch_model.bin\n",
      "Saving model checkpoint to ./gpt-letters/checkpoint-48600\n",
      "Configuration saved in ./gpt-letters/checkpoint-48600/config.json\n",
      "Model weights saved in ./gpt-letters/checkpoint-48600/pytorch_model.bin\n",
      "Saving model checkpoint to ./gpt-letters/checkpoint-49050\n",
      "Configuration saved in ./gpt-letters/checkpoint-49050/config.json\n",
      "Model weights saved in ./gpt-letters/checkpoint-49050/pytorch_model.bin\n",
      "Saving model checkpoint to ./gpt-letters/checkpoint-49500\n",
      "Configuration saved in ./gpt-letters/checkpoint-49500/config.json\n",
      "Model weights saved in ./gpt-letters/checkpoint-49500/pytorch_model.bin\n",
      "Saving model checkpoint to ./gpt-letters/checkpoint-49950\n",
      "Configuration saved in ./gpt-letters/checkpoint-49950/config.json\n",
      "Model weights saved in ./gpt-letters/checkpoint-49950/pytorch_model.bin\n",
      "Saving model checkpoint to ./gpt-letters/checkpoint-50400\n",
      "Configuration saved in ./gpt-letters/checkpoint-50400/config.json\n",
      "Model weights saved in ./gpt-letters/checkpoint-50400/pytorch_model.bin\n",
      "Saving model checkpoint to ./gpt-letters/checkpoint-50850\n",
      "Configuration saved in ./gpt-letters/checkpoint-50850/config.json\n",
      "Model weights saved in ./gpt-letters/checkpoint-50850/pytorch_model.bin\n",
      "\n",
      "\n",
      "Training completed. Do not forget to share your model on huggingface.co/models =)\n",
      "\n",
      "\n"
     ]
    },
    {
     "data": {
      "text/plain": [
       "TrainOutput(global_step=51150, training_loss=0.0389247617507144, metrics={'train_runtime': 5991.7356, 'train_samples_per_second': 271.107, 'train_steps_per_second': 8.537, 'total_flos': 1.061106941952e+17, 'train_loss': 0.0389247617507144, 'epoch': 1550.0})"
      ]
     },
     "execution_count": 36,
     "metadata": {},
     "output_type": "execute_result"
    }
   ],
   "source": [
    "trainer.train()"
   ]
  },
  {
   "cell_type": "code",
   "execution_count": 37,
   "id": "56fd6c42-05bc-4004-bdc6-fffb2e8ff824",
   "metadata": {},
   "outputs": [
    {
     "name": "stderr",
     "output_type": "stream",
     "text": [
      "Saving model checkpoint to ./gpt-letters\n",
      "Configuration saved in ./gpt-letters/config.json\n",
      "Model weights saved in ./gpt-letters/pytorch_model.bin\n"
     ]
    }
   ],
   "source": [
    "trainer.save_model()"
   ]
  },
  {
   "cell_type": "markdown",
   "id": "1e046d19-8dfb-4be8-a077-fb1a0f8afbee",
   "metadata": {},
   "source": [
    "**Генерация текстов. Выберем пайплайн с моделью для генерации. Для удобства я ограничиваю максимальную длину, но на первый вариантах генерации она была конечна, по крайней мере на нескольких генерациях (я сверял длины как строк, так и количества слов, они различались).**"
   ]
  },
  {
   "cell_type": "code",
   "execution_count": 38,
   "id": "567a2419-3333-4cf9-8e55-da1cbab471b1",
   "metadata": {},
   "outputs": [
    {
     "name": "stderr",
     "output_type": "stream",
     "text": [
      "loading configuration file ./gpt-letters/config.json\n",
      "Model config GPT2Config {\n",
      "  \"_name_or_path\": \"./gpt-letters\",\n",
      "  \"activation_function\": \"gelu_new\",\n",
      "  \"architectures\": [\n",
      "    \"GPT2LMHeadModel\"\n",
      "  ],\n",
      "  \"attn_pdrop\": 0.1,\n",
      "  \"bos_token_id\": 50256,\n",
      "  \"embd_pdrop\": 0.1,\n",
      "  \"eos_token_id\": 50256,\n",
      "  \"gradient_checkpointing\": false,\n",
      "  \"initializer_range\": 0.02,\n",
      "  \"layer_norm_epsilon\": 1e-05,\n",
      "  \"model_type\": \"gpt2\",\n",
      "  \"n_ctx\": 2048,\n",
      "  \"n_embd\": 768,\n",
      "  \"n_head\": 12,\n",
      "  \"n_inner\": null,\n",
      "  \"n_layer\": 12,\n",
      "  \"n_positions\": 2048,\n",
      "  \"reorder_and_upcast_attn\": false,\n",
      "  \"resid_pdrop\": 0.1,\n",
      "  \"scale_attn_by_inverse_layer_idx\": false,\n",
      "  \"scale_attn_weights\": true,\n",
      "  \"summary_activation\": null,\n",
      "  \"summary_first_dropout\": 0.1,\n",
      "  \"summary_proj_to_labels\": true,\n",
      "  \"summary_type\": \"cls_index\",\n",
      "  \"summary_use_proj\": true,\n",
      "  \"torch_dtype\": \"float32\",\n",
      "  \"transformers_version\": \"4.15.0\",\n",
      "  \"use_cache\": true,\n",
      "  \"vocab_size\": 50264\n",
      "}\n",
      "\n",
      "loading configuration file ./gpt-letters/config.json\n",
      "Model config GPT2Config {\n",
      "  \"_name_or_path\": \"./gpt-letters\",\n",
      "  \"activation_function\": \"gelu_new\",\n",
      "  \"architectures\": [\n",
      "    \"GPT2LMHeadModel\"\n",
      "  ],\n",
      "  \"attn_pdrop\": 0.1,\n",
      "  \"bos_token_id\": 50256,\n",
      "  \"embd_pdrop\": 0.1,\n",
      "  \"eos_token_id\": 50256,\n",
      "  \"gradient_checkpointing\": false,\n",
      "  \"initializer_range\": 0.02,\n",
      "  \"layer_norm_epsilon\": 1e-05,\n",
      "  \"model_type\": \"gpt2\",\n",
      "  \"n_ctx\": 2048,\n",
      "  \"n_embd\": 768,\n",
      "  \"n_head\": 12,\n",
      "  \"n_inner\": null,\n",
      "  \"n_layer\": 12,\n",
      "  \"n_positions\": 2048,\n",
      "  \"reorder_and_upcast_attn\": false,\n",
      "  \"resid_pdrop\": 0.1,\n",
      "  \"scale_attn_by_inverse_layer_idx\": false,\n",
      "  \"scale_attn_weights\": true,\n",
      "  \"summary_activation\": null,\n",
      "  \"summary_first_dropout\": 0.1,\n",
      "  \"summary_proj_to_labels\": true,\n",
      "  \"summary_type\": \"cls_index\",\n",
      "  \"summary_use_proj\": true,\n",
      "  \"torch_dtype\": \"float32\",\n",
      "  \"transformers_version\": \"4.15.0\",\n",
      "  \"use_cache\": true,\n",
      "  \"vocab_size\": 50264\n",
      "}\n",
      "\n",
      "loading weights file ./gpt-letters/pytorch_model.bin\n",
      "All model checkpoint weights were used when initializing GPT2LMHeadModel.\n",
      "\n",
      "All the weights of GPT2LMHeadModel were initialized from the model checkpoint at ./gpt-letters.\n",
      "If your task is similar to the task the model of the checkpoint was trained on, you can already use GPT2LMHeadModel for predictions without further training.\n"
     ]
    }
   ],
   "source": [
    "local_generator = pipeline('text-generation', model='./gpt-letters',\n",
    "                           tokenizer=tokenizer, max_length=500)"
   ]
  },
  {
   "cell_type": "markdown",
   "id": "56bdb738-1d2b-4101-89a1-7c1687cf1b93",
   "metadata": {},
   "source": [
    "**Для замены разметки MASK на соответствующий падеж я использовал сочетание библиотек Spacy и Pymorphy (можно бы, наверное, было все сделать на spacy, но я не нашел, как там преобразовать сущность к требуемому падежу).**\n",
    "\n",
    "**Однако, с помощью синтаксического парсера Spacy можно сравнительно удобно извлекать главное слово/зависимые слова, и ориентироваться на их падеж, чтобы проставить паджеж при замене токена MASK.**\n",
    "**Вот пример такого извлечения:**"
   ]
  },
  {
   "cell_type": "code",
   "execution_count": 39,
   "id": "5af68aef-17a6-43d5-9e01-ea829352df23",
   "metadata": {},
   "outputs": [
    {
     "name": "stdout",
     "output_type": "stream",
     "text": [
      "MASK, учёному в области молекулярной генетики, академику MASK!\n",
      "          Примите мои поздравления с -летием и наилучшие пожелания.\n",
      "          MASKпосвятили себя науке и посвятили себя воспитанию молодёжи.\n",
      "          Ваши исследования и разработки в области молекулярной генетики стали\n",
      "          настоящим прорывом в науке и медицине.\n",
      "          Здоровья Вам, благополучия и всего самого доброго\n",
      "          Президенту Республики Беларусь Уважаемый MASK\n",
      "MASK ['Dat', 'Dat'] None []\n",
      "MASK [] Dat [академику, MASK]\n",
      "MASKпосвятили ['Acc', 'Dat'] None []\n",
      "MASK ['Nom'] None []\n"
     ]
    }
   ],
   "source": [
    "nlp = spacy.load(\"ru_core_news_sm\")\n",
    "\n",
    "text = \"\"\"MASK, учёному в области молекулярной генетики, академику MASK MASK!\n",
    "          Примите мои поздравления с -летием и наилучшие пожелания.\n",
    "          MASK посвятили себя науке и посвятили себя воспитанию молодёжи.\n",
    "          Ваши исследования и разработки в области молекулярной генетики стали\n",
    "          настоящим прорывом в науке и медицине.\n",
    "          Здоровья Вам, благополучия и всего самого доброго\n",
    "          Президенту Республики Беларусь Уважаемый MASK\"\"\"\n",
    "\n",
    "text = re.sub(\"(MASK ?)+\", 'MASK', text)\n",
    "doc = nlp(text)\n",
    "\n",
    "print(doc.text)\n",
    "for token in doc:\n",
    "    if 'MASK' in token.text:\n",
    "        print(token.text,\n",
    "              [child.morph.to_dict().get('Case') for child in token.children\n",
    "               if child.morph.to_dict().get('Case')],\n",
    "              token.head.morph.to_dict().get('Case'),\n",
    "              [i for i in token.ancestors])"
   ]
  },
  {
   "cell_type": "markdown",
   "id": "704b3a9f-212b-4c87-82ff-385d98a1ddf8",
   "metadata": {},
   "source": [
    "**Функция для преобразования падежа с помощью Pymorphy. Принимает на вход полное имя и наименование падежа в аннотации для Pymorphy. Возвращает имя в требуемом падеже.**"
   ]
  },
  {
   "cell_type": "code",
   "execution_count": 40,
   "id": "cf920135-6fb2-4d78-8c79-7bc08c37f187",
   "metadata": {},
   "outputs": [],
   "source": [
    "def case_name(full_name, case):\n",
    "    morph = pymorphy2.MorphAnalyzer()\n",
    "    new_name = ''\n",
    "    for part in full_name.split():\n",
    "        morph_part = morph.parse(part)[0]\n",
    "        new_part = (morph_part.inflect({case})[0].capitalize() if morph_part\n",
    "                    .inflect({case}) else part)\n",
    "        new_name += f' {new_part}'\n",
    "    return new_name.strip()"
   ]
  },
  {
   "cell_type": "code",
   "execution_count": 41,
   "id": "24793b52-fae7-423c-84f4-3cf9c7d95205",
   "metadata": {},
   "outputs": [
    {
     "name": "stdout",
     "output_type": "stream",
     "text": [
      "Дмитрия Сергеевича genetive\n",
      "Дмитрий Сергеевич nominative\n",
      "Дмитрию Сергеевичу dative\n",
      "Дмитрия Сергеевича accusative\n"
     ]
    }
   ],
   "source": [
    "print(case_name('Дмитрий Сергеевич', 'gent'), 'genetive')\n",
    "print(case_name('Дмитрия Сергеевича', 'nomn'), 'nominative')\n",
    "print(case_name('Дмитрий Сергеевич', 'datv'), 'dative')\n",
    "print(case_name('Дмитрий Сергеевич', 'accs'), 'accusative')"
   ]
  },
  {
   "cell_type": "markdown",
   "id": "d8679276-3137-478e-b443-5ca12c7aec97",
   "metadata": {},
   "source": [
    "**У Spacy и Pymorphy разная разметка падежей, самым быстрым решением показалось сделать маппинг.**"
   ]
  },
  {
   "cell_type": "code",
   "execution_count": 42,
   "id": "e191c40a-36ef-425f-93e0-8c5e7cf70c11",
   "metadata": {},
   "outputs": [],
   "source": [
    "case_mapping = {'Nom': 'nomn',\n",
    "                'Gen': 'gent',\n",
    "                'Dat': 'datv',\n",
    "                'Acc': 'accs',\n",
    "                'Abl': 'ablt',\n",
    "                'Loc': 'loct',\n",
    "               }"
   ]
  },
  {
   "cell_type": "markdown",
   "id": "74ae3cb6-cbc5-484f-afb0-f7290d26e135",
   "metadata": {},
   "source": [
    "**Функция для поиска падежа с помощью Pymorphy. Принимает на вход объект токена Spacy и словарь с маппингом Spacy-Pymorphy. В синтаксическом дереве предложения ищется либо главное слово, либо ближайшее зависимое к аннотации MASK. Возвращает падеж главного слова, либо ближайшего потомка, либо, если вдруг их нет, дательный падеж.**"
   ]
  },
  {
   "cell_type": "code",
   "execution_count": 43,
   "id": "9be9d636-79c2-4b38-8216-e1646e381ef4",
   "metadata": {},
   "outputs": [],
   "source": [
    "def find_case(token, case_mapping):\n",
    "    childs_cases = [child.morph.to_dict().get('Case') for child in\n",
    "                    token.children if child.morph.to_dict().get('Case')]\n",
    "    case = ''\n",
    "    if token.head.morph.to_dict().get('Case'):\n",
    "        case = token.head.morph.to_dict().get('Case')\n",
    "    elif len(childs_cases) > 0:\n",
    "        case = childs_cases[-1]\n",
    "        \n",
    "    if case_mapping.get(case):\n",
    "        case = case_mapping.get(case)\n",
    "    else:\n",
    "        case = 'datv'\n",
    "    return case"
   ]
  },
  {
   "cell_type": "markdown",
   "id": "61fe1931-b8ee-4e18-a45e-9da99c131815",
   "metadata": {},
   "source": [
    "**Затем идет перебор всего текста, очистка от двойных токенов MASK, множественных пробелов, и замена токенов MASK на именованную сущность в соответствующем падеже.**"
   ]
  },
  {
   "cell_type": "code",
   "execution_count": 44,
   "id": "6deefd7f-ba46-4bb7-bfba-4756cb8610e4",
   "metadata": {},
   "outputs": [],
   "source": [
    "def change_masks(full_name, text, case_mapping):\n",
    "    new_text = ''\n",
    "    text = re.sub(\"(MASK ?)+\", 'MASK', text)\n",
    "    text = re.sub(\" +\", ' ', text)\n",
    "    doc = nlp(text)\n",
    "    for token in doc:\n",
    "        if 'MASK' in token.text:\n",
    "            my_case = find_case(token, case_mapping)\n",
    "            new_token = case_name(full_name, my_case)\n",
    "        else:\n",
    "            new_token = token.text\n",
    "        new_token = f' {new_token}' if new_token.isalpha() else new_token\n",
    "        new_text += new_token\n",
    "    return new_text.strip()"
   ]
  },
  {
   "cell_type": "markdown",
   "id": "c526b1ae-6ca9-4893-8dbb-1b1c90870a27",
   "metadata": {},
   "source": [
    "**Все собирается в функцию для генерации текста**"
   ]
  },
  {
   "cell_type": "code",
   "execution_count": 45,
   "id": "e798662c-1d0c-47a9-b4b3-47dc205a97d5",
   "metadata": {},
   "outputs": [],
   "source": [
    "def generate_congrat(full_name):\n",
    "    text = local_generator(full_name)[0]['generated_text']\n",
    "    final_text = change_masks(full_name, text, case_mapping)\n",
    "    return final_text"
   ]
  },
  {
   "cell_type": "code",
   "execution_count": null,
   "id": "0509b794-69d8-43f4-b066-c9a1607df89f",
   "metadata": {},
   "outputs": [],
   "source": []
  },
  {
   "cell_type": "code",
   "execution_count": 46,
   "id": "d4a5ede3-d54c-4760-a516-36e4f8bd1aff",
   "metadata": {},
   "outputs": [
    {
     "name": "stderr",
     "output_type": "stream",
     "text": [
      "Setting `pad_token_id` to `eos_token_id`:50256 for open-end generation.\n"
     ]
    },
    {
     "data": {
      "text/plain": [
       "'Александру Моисееву, ансамбль по праву считается ярким, неординарнымявлением в отечественной и мировой культуре, нашим подлинным национальнымдостоянием. Для Александру был не только любимым детищем, но делом и смыслом всей жизни. Благодаря его подвижническому, вдохновенному труду и созидательной энергии, а также таланту и безупречному мастерству артистов Александра высочайшеепрофессиональное признание, покорил миллионы зрителей как в нашей стране, так и далеко за её пределами. Важно, что вы бережно храните бесценное творческое, духовное наследие Мастера и сложившиеся в коллективе традиции. И потому вашимконструкциям всегда сопутствует успех. Желаю вам и в творчестве, и в жизни. Александру. Коллективу Александру актёра Дорогиедрузья!Поздравляю вас со знаменательнойдатой–-летием создания Александра, что вы бережно храните и продолжаете подвижнические заботы одарённой молодёжи, воплощаете в жизнь самые смелые, вдохновенные идеи и начинаниях. Один из них, нынешний коллективник театра ведёт активную гастрольную деятельность, участвует в реализации востребованных фестивальных, благотворительных проектов, радуетзрителей яркими премьерами, глубокими актёрскими и режиссёрскими работами. Уверен, глубокими актёрскими и режиссёрскими ролями. Вас также знают и любят как замечательного театрального центра« Александра» и Александру, чьё творчество неразрывно связано с Александру. Вас знают и любят как замечательного драматурга, одним из ярких, заметныхсобытий в области режиссуры и сценариста, сценариста и поэта– Александра. И конечно, глубокого уважения заслуживает самого глубокого признания. Желаю вам и как замечательного кинооператора, глубокими, полюбившимися зрителям. Желаю вам и как замечательного педагога, которые помогают одарённой реализации задуманных планов и задумками. Желаю вам здоровья, реализации намеченных планов и всего наилучшего. Александру. Александру. Коллективу и того, что вы бережно храните и для коллег, бережного, жизнеутверждающего киноискусства. Доброго здоровья и сохранения нашего уникального музея. Александру. Коллективу Александру актёра Дорогиедрузья!Поздравляю вас со знаменательнойдатой. Александру. Александру'"
      ]
     },
     "execution_count": 46,
     "metadata": {},
     "output_type": "execute_result"
    }
   ],
   "source": [
    "generate_congrat('Александру')"
   ]
  },
  {
   "cell_type": "code",
   "execution_count": 47,
   "id": "8f7845cc-7f6b-48bc-966f-3ba01aaff44d",
   "metadata": {},
   "outputs": [
    {
     "name": "stderr",
     "output_type": "stream",
     "text": [
      "Setting `pad_token_id` to `eos_token_id`:50256 for open-end generation.\n"
     ]
    },
    {
     "data": {
      "text/plain": [
       "'Александру Моисееву, ансамбль по праву считается ярким, неординарнымявлением в отечественной и мировой культуре, нашим подлинным национальнымдостоянием. Для Александру был не только любимым детищем, но делом и смыслом всей жизни. Благодаря его подвижническому, вдохновенному труду и созидательной энергии, а также таланту и безупречному мастерству артистов Александра высочайшеепрофессиональное признание, покорил миллионы зрителей как в нашей стране, так и далеко за её пределами. Важно, что вы бережно храните бесценное творческое, духовное наследие Мастера и сложившиеся в коллективе традиции. И потому вашимконструкциям всегда сопутствует успех. Желаю вам и в творчестве, и в жизни. Александру. Коллективу Александру актёра Дорогиедрузья!Поздравляю вас со знаменательнойдатой–-летием создания Александра, что вы бережно храните и продолжаете подвижнические заботы одарённой молодёжи, воплощаете в жизнь самые смелые, вдохновенные идеи и начинаниях. Один из них, нынешний коллективник театра ведёт активную гастрольную деятельность, участвует в реализации востребованных фестивальных, благотворительных проектов, радуетзрителей яркими премьерами, глубокими актёрскими и режиссёрскими работами. Уверен, глубокими актёрскими и режиссёрскими ролями. Вас также знают и любят как замечательного театрального центра« Александра» и Александру, чьё творчество неразрывно связано с Александру. Вас знают и любят как замечательного драматурга, одним из ярких, заметныхсобытий в области режиссуры и сценариста, сценариста и поэта– Александра. И конечно, глубокого уважения заслуживает самого глубокого признания. Желаю вам и как замечательного кинооператора, глубокими, полюбившимися зрителям. Желаю вам и как замечательного педагога, которые помогают одарённой реализации задуманных планов и задумками. Желаю вам здоровья, реализации намеченных планов и всего наилучшего. Александру. Александру. Коллективу и того, что вы бережно храните и для коллег, бережного, жизнеутверждающего киноискусства. Доброго здоровья и сохранения нашего уникального музея. Александру. Коллективу Александру актёра Дорогиедрузья!Поздравляю вас со знаменательнойдатой. Александру. Александру'"
      ]
     },
     "execution_count": 47,
     "metadata": {},
     "output_type": "execute_result"
    }
   ],
   "source": [
    "generate_congrat('Александру')"
   ]
  },
  {
   "cell_type": "code",
   "execution_count": 48,
   "id": "3ff4c445-d0ee-4489-b9ac-5c16affbf0e6",
   "metadata": {},
   "outputs": [
    {
     "name": "stderr",
     "output_type": "stream",
     "text": [
      "Setting `pad_token_id` to `eos_token_id`:50256 for open-end generation.\n"
     ]
    },
    {
     "data": {
      "text/plain": [
       "'Сергею Сергею» Сердечно поздравляю игроков, тренеров и весь коллектив футбольного клуба« Сергея» с подлинным триумфом в Кубке Сергее. Ваша яркая и убедительная победа в одном из самых престижных европейских турниров показала высокий уровень отечественного футбола, а завоёванный Кубок стал весомым вкладом в« копилку» выдающихся спортивных достижений России. В решающем матче вы уверенно и красиво одолели сильного и именитого соперника. Одолели– за счёт мастерства, слаженности и, конечно же, колоссального победного настроя. Ваш успех стал настоящим праздником для российских болельщиков, для всей страны. От души желаю вам новых успехов и всего самого доброго. Сергею. Сергей, главному тренеру сборной России по пулевой стрельбе, пятиборцу, олимпийскому чемпиону Уважаемый Сергея! Поздравляю Вас с триумфом. Вы посвятили себя спорту, добились блестящих успехов, покорили зрителей яркими, красивыми, достойными соперниками. Ваше блистательное выступление стало ещё одним ярким свидетельством лидерства отечественной школы пулевой стрельбы. Ваш успех стал настоящим праздником для российских болельщиков. Желаю Вам новых достижений и всего самого доброго. Сергею. Сергею, главному тренеру сборной России по пулевой стрельбе, олимпийскому чемпиону года, заслуженному мастеру спорта СССР Сергею! Примите мои поздравления с-летием и самые добрые пожелания. Выдающийся спортсменам, профессиональный праздник, профессиональный праздник, профессиональный праздник, профессиональный праздник, пожелания удачи и всего наилучшего. Вы всегда настойчиво шли к этой победе. Вас по праву считают одним из лучших в своей дисциплине. Многократным чемпионом Олимпийских игр, достойным продолжателем великих отечественных спортсменов. Многократный чемпионкой мира, вашими наставниками. Выдающийся спортсменам, профессиональный праздник, профессиональный праздник, старший вице- президенту Сергей! Примите мои поздравления с-летием и самые добрые пожелания. Вас по праву считают одним из лучших представителей отечественного отряда по пулевой стрельбе. Выдающийся спортсменов. На самых престижных международных соревнований, среди которых–« Сергея» и Европы. Многократный чемпионкой мира. Многократный чемпионкой мира, триумфов. Многократный чемпион, победительницей Олимпийских игр, победительницей Олимпийских игр, Выдающийся спортсмен, победительницей Олимпийских игр, Выдающийся спортсмен, Выдающийся спортсмен, Выдающийся спортсмен, приз'"
      ]
     },
     "execution_count": 48,
     "metadata": {},
     "output_type": "execute_result"
    }
   ],
   "source": [
    "generate_congrat('Сергею')"
   ]
  },
  {
   "cell_type": "code",
   "execution_count": 49,
   "id": "776e1d9b-bfb1-422f-8ab8-087060977a5c",
   "metadata": {},
   "outputs": [
    {
     "name": "stderr",
     "output_type": "stream",
     "text": [
      "Setting `pad_token_id` to `eos_token_id`:50256 for open-end generation.\n"
     ]
    },
    {
     "data": {
      "text/plain": [
       "'Сергею Сергею» Сердечно поздравляю игроков, тренеров и весь коллектив футбольного клуба« Сергея» с подлинным триумфом в Кубке Сергее. Ваша яркая и убедительная победа в одном из самых престижных европейских турниров показала высокий уровень отечественного футбола, а завоёванный Кубок стал весомым вкладом в« копилку» выдающихся спортивных достижений России. В решающем матче вы уверенно и красиво одолели сильного и именитого соперника. Одолели– за счёт мастерства, слаженности и, конечно же, колоссального победного настроя. Ваш успех стал настоящим праздником для российских болельщиков, для всей страны. От души желаю вам новых успехов и всего самого доброго. Сергею. Сергей, главному тренеру сборной России по пулевой стрельбе, пятиборцу, олимпийскому чемпиону Уважаемый Сергея! Поздравляю Вас с триумфом. Вы посвятили себя спорту, добились блестящих успехов, покорили зрителей яркими, красивыми, достойными соперниками. Ваше блистательное выступление стало ещё одним ярким свидетельством лидерства отечественной школы пулевой стрельбы. Ваш успех стал настоящим праздником для российских болельщиков. Желаю Вам новых достижений и всего самого доброго. Сергею. Сергею, главному тренеру сборной России по пулевой стрельбе, олимпийскому чемпиону года, заслуженному мастеру спорта СССР Сергею! Примите мои поздравления с-летием и самые добрые пожелания. Выдающийся спортсменам, профессиональный праздник, профессиональный праздник, профессиональный праздник, профессиональный праздник, пожелания удачи и всего наилучшего. Вы всегда настойчиво шли к этой победе. Вас по праву считают одним из лучших в своей дисциплине. Многократным чемпионом Олимпийских игр, достойным продолжателем великих отечественных спортсменов. Многократный чемпионкой мира, вашими наставниками. Выдающийся спортсменам, профессиональный праздник, профессиональный праздник, старший вице- президенту Сергей! Примите мои поздравления с-летием и самые добрые пожелания. Вас по праву считают одним из лучших представителей отечественного отряда по пулевой стрельбе. Выдающийся спортсменов. На самых престижных международных соревнований, среди которых–« Сергея» и Европы. Многократный чемпионкой мира. Многократный чемпионкой мира, триумфов. Многократный чемпион, победительницей Олимпийских игр, победительницей Олимпийских игр, Выдающийся спортсмен, победительницей Олимпийских игр, Выдающийся спортсмен, Выдающийся спортсмен, Выдающийся спортсмен, приз'"
      ]
     },
     "execution_count": 49,
     "metadata": {},
     "output_type": "execute_result"
    }
   ],
   "source": [
    "generate_congrat('Сергею')"
   ]
  },
  {
   "cell_type": "code",
   "execution_count": 50,
   "id": "0ccc28a2-42c6-4c12-bccb-31103d49afd6",
   "metadata": {},
   "outputs": [
    {
     "name": "stderr",
     "output_type": "stream",
     "text": [
      "Setting `pad_token_id` to `eos_token_id`:50256 for open-end generation.\n"
     ]
    },
    {
     "data": {
      "text/plain": [
       "'Алексею Алексею» Уважаемый Алексею Вас с-летием. Вы осуществили свою мечту– состоялись в сложной, многогранной профессии актёра, блестяще раскрыли свой яркий, самобытный талант в театре и кинематографе. Богатый сценический опыт и неизменная приверженность традициям знаменитой вахтанговской школы на протяжении долгих лет помогают Вам руководить знаменитой« Александринкой», успешно руководить Алексею принимать самое активное участие в культурной жизни страны. Желаю Вам здоровья, неиссякаемого вдохновения и всего самого доброго. Алексею. Алексею, Алексею, Алексею, Алексею, Алексею, Алексею, победительницам Игр Олимпиады в Токио в командных соревнованиях по спортивной гимнастике Уважаемые Алексею, олимпийским чемпионкам, победительницам Игр Олимпиады в Токио в командных соревнованиях по спортивной гимнастике Уважаемые Алексею, Алексею, Алексею, Алексею Алексею поздравляю вас с победой. Вы блестяще выступили на самых престижных международных состязаниях, продемонстрировали отличную подготовку, мастерство, мастерство и командную сплочённость, мастерство, мастерство и настрой на победу, достойно представили нашу страну на этих престижныхсоревнованиях, завоевали награды, стали чемпионками и призёрами Олимпийских игр, стали шестикратной чемпионкой мира. Своими яркими, красивыми, зрелищными, отточенными соперницами. Своими яркими, зрелищными, тными атлетами. Своими яркими, зрелищными победами подтвердили высокий уровень мастерства, подарили болельщикамяркую поддержку, упорство и упорство в достижении поставленных целей, доказали, что являетесь сильнейшейкомандой по праву. Своими яркими, зрелищными, отточенными соперницами. Своими яркими, заметными победами. Своими яркими, заметными победами достойно продолжилизамечательными выступлениями.Молодец!Желаю вам и всего самого доброго. Желаю вам и, удачи и всего наилучшего. Алексею. Алексею. Алексею. Алексея, благополучия и всего самого доброго. Своими яркими, зрелищными, достойными соперницами. Желаю вам и впредь добиваться успеха, продолжать славных результатов на благо России и наших болельщиков. Алексею. Алексею. Алексею'"
      ]
     },
     "execution_count": 50,
     "metadata": {},
     "output_type": "execute_result"
    }
   ],
   "source": [
    "generate_congrat('Алексею')"
   ]
  },
  {
   "cell_type": "code",
   "execution_count": 51,
   "id": "edd27637-4a0b-414f-a717-72d83f107f7f",
   "metadata": {},
   "outputs": [
    {
     "name": "stderr",
     "output_type": "stream",
     "text": [
      "Setting `pad_token_id` to `eos_token_id`:50256 for open-end generation.\n"
     ]
    },
    {
     "data": {
      "text/plain": [
       "'Алексею Алексею» Уважаемый Алексею Вас с-летием. Вы осуществили свою мечту– состоялись в сложной, многогранной профессии актёра, блестяще раскрыли свой яркий, самобытный талант в театре и кинематографе. Богатый сценический опыт и неизменная приверженность традициям знаменитой вахтанговской школы на протяжении долгих лет помогают Вам руководить знаменитой« Александринкой», успешно руководить Алексею принимать самое активное участие в культурной жизни страны. Желаю Вам здоровья, неиссякаемого вдохновения и всего самого доброго. Алексею. Алексею, Алексею, Алексею, Алексею, Алексею, Алексею, победительницам Игр Олимпиады в Токио в командных соревнованиях по спортивной гимнастике Уважаемые Алексею, олимпийским чемпионкам, победительницам Игр Олимпиады в Токио в командных соревнованиях по спортивной гимнастике Уважаемые Алексею, Алексею, Алексею, Алексею Алексею поздравляю вас с победой. Вы блестяще выступили на самых престижных международных состязаниях, продемонстрировали отличную подготовку, мастерство, мастерство и командную сплочённость, мастерство, мастерство и настрой на победу, достойно представили нашу страну на этих престижныхсоревнованиях, завоевали награды, стали чемпионками и призёрами Олимпийских игр, стали шестикратной чемпионкой мира. Своими яркими, красивыми, зрелищными, отточенными соперницами. Своими яркими, зрелищными, тными атлетами. Своими яркими, зрелищными победами подтвердили высокий уровень мастерства, подарили болельщикамяркую поддержку, упорство и упорство в достижении поставленных целей, доказали, что являетесь сильнейшейкомандой по праву. Своими яркими, зрелищными, отточенными соперницами. Своими яркими, заметными победами. Своими яркими, заметными победами достойно продолжилизамечательными выступлениями.Молодец!Желаю вам и всего самого доброго. Желаю вам и, удачи и всего наилучшего. Алексею. Алексею. Алексею. Алексея, благополучия и всего самого доброго. Своими яркими, зрелищными, достойными соперницами. Желаю вам и впредь добиваться успеха, продолжать славных результатов на благо России и наших болельщиков. Алексею. Алексею. Алексею'"
      ]
     },
     "execution_count": 51,
     "metadata": {},
     "output_type": "execute_result"
    }
   ],
   "source": [
    "generate_congrat('Алексею')"
   ]
  },
  {
   "cell_type": "code",
   "execution_count": 52,
   "id": "dc7bde8a-3fc3-4598-b54b-0478a1a5b478",
   "metadata": {},
   "outputs": [
    {
     "name": "stderr",
     "output_type": "stream",
     "text": [
      "Setting `pad_token_id` to `eos_token_id`:50256 for open-end generation.\n"
     ]
    },
    {
     "data": {
      "text/plain": [
       "'Виктор, Виктор, Виктор, Виктор– команде Викторе, победившей в командном чемпионате мира по теннису« Кубок Дэвиса» года в Мадриде( Испания) среди мужских команд Уважаемые Виктора, Виктору, Виктору, Виктору, Виктора души поздравляю вас с триумфом на Кубке Дэвиса! Победа в этом престижнейшем турнире– большое, знаковое событие для нашей сборной, для российского тенниса в целом. Выпроявили исключительное мастерство, характер, командную сплочённость, отлично выступили в финале, стали сильнейшейкомандой по итогам первого же дня соревнований, также победив своих соперников в КубкеДэвиса!Желаю вам новых успехов, удачи и всего наилучшего. Молодцы! Виктору. Виктора, Виктору, Виктору, Виктору, Виктору, Виктору, Виктору вам новых достижений и всего наилучшего. Виктору, Виктору, Виктору, Виктору, Виктору, Виктору, Виктору, Виктору! Виктору. Виктору, Виктору, Виктору, Виктору, Виктору, Виктору, Виктору! Виктору, Виктору! Виктору, Виктору, Виктору, Виктору, Виктору, Виктору, Виктору, Виктору, Виктору! Виктору! Виктору! Виктору! Виктору! Виктору! Виктору! Виктору! Виктору, Виктору, Виктору, Виктору, Виктору! Виктору! Виктору! Поздравляю вас с триумфом, который стал настоящим праздником для всех, кто поддерживал вас на пути к финалу, помогал на пути к финалу Олимпийских игр года в Рио- де- Жанейро, среди мужских команд Уважаемые Виктора, Виктору, Виктору, Виктора вас с большим, заслуженнымандровому« золотом» чемпионата мира по теннису« КубокДэвиса!Желаю вам новых достижений и в напряжённой борьбе с сильными, достойными соперницами, помогал вам добиться успеха, стал настоящим праздником для новых спортивных вершин.'"
      ]
     },
     "execution_count": 52,
     "metadata": {},
     "output_type": "execute_result"
    }
   ],
   "source": [
    "generate_congrat('Виктор')"
   ]
  },
  {
   "cell_type": "code",
   "execution_count": 53,
   "id": "43a0a283-ff50-4001-8d8c-75f26b6e376e",
   "metadata": {},
   "outputs": [
    {
     "name": "stderr",
     "output_type": "stream",
     "text": [
      "Setting `pad_token_id` to `eos_token_id`:50256 for open-end generation.\n"
     ]
    },
    {
     "data": {
      "text/plain": [
       "'Виктор, Виктор, Виктор, Виктор– команде Викторе, победившей в командном чемпионате мира по теннису« Кубок Дэвиса» года в Мадриде( Испания) среди мужских команд Уважаемые Виктора, Виктору, Виктору, Виктору, Виктора души поздравляю вас с триумфом на Кубке Дэвиса! Победа в этом престижнейшем турнире– большое, знаковое событие для нашей сборной, для российского тенниса в целом. Выпроявили исключительное мастерство, характер, командную сплочённость, отлично выступили в финале, стали сильнейшейкомандой по итогам первого же дня соревнований, также победив своих соперников в КубкеДэвиса!Желаю вам новых успехов, удачи и всего наилучшего. Молодцы! Виктору. Виктора, Виктору, Виктору, Виктору, Виктору, Виктору, Виктору вам новых достижений и всего наилучшего. Виктору, Виктору, Виктору, Виктору, Виктору, Виктору, Виктору, Виктору! Виктору. Виктору, Виктору, Виктору, Виктору, Виктору, Виктору, Виктору! Виктору, Виктору! Виктору, Виктору, Виктору, Виктору, Виктору, Виктору, Виктору, Виктору, Виктору! Виктору! Виктору! Виктору! Виктору! Виктору! Виктору! Виктору! Виктору, Виктору, Виктору, Виктору, Виктору! Виктору! Виктору! Поздравляю вас с триумфом, который стал настоящим праздником для всех, кто поддерживал вас на пути к финалу, помогал на пути к финалу Олимпийских игр года в Рио- де- Жанейро, среди мужских команд Уважаемые Виктора, Виктору, Виктору, Виктора вас с большим, заслуженнымандровому« золотом» чемпионата мира по теннису« КубокДэвиса!Желаю вам новых достижений и в напряжённой борьбе с сильными, достойными соперницами, помогал вам добиться успеха, стал настоящим праздником для новых спортивных вершин.'"
      ]
     },
     "execution_count": 53,
     "metadata": {},
     "output_type": "execute_result"
    }
   ],
   "source": [
    "generate_congrat('Виктор')"
   ]
  },
  {
   "cell_type": "code",
   "execution_count": 54,
   "id": "7e0c1d6a-9779-4100-823a-5476903acdb7",
   "metadata": {},
   "outputs": [
    {
     "name": "stderr",
     "output_type": "stream",
     "text": [
      "Setting `pad_token_id` to `eos_token_id`:50256 for open-end generation.\n"
     ]
    },
    {
     "data": {
      "text/plain": [
       "'Егору театра и кино, народному артисту СССР Егору поздравляю Вас с-летием. С самых первых, дебютных работ в кинематографе Вы задали высочайшуюпрофессиональную планку и удерживаете её на протяжении всей своей насыщеннойактёрской карьеры. Особого уважения заслуживает Ваша активная жизненная и гражданская позиция, большой личный вклад в реализацию общественно значимыхпросветительских, патриотических инициатив, в сохранение исторической памятинашего народа. Желаю Вам крепкого здоровья, неиссякаемой энергии и всего наилучшего. Егору. Сотрудникам и ветеранам органов прокуратуры России Уважаемыетоварищи!Поздравляю вас с профессиональным праздником и-йгодовщиной создания органов прокуратуры в России. Сменялись исторические события и эпохи, но защитаинтересов государства, общества, граждан всегда оставалась важнейшимприоритетом деятельности прокуратуры. Сегодня мы чествуем тех, кто ежедневным добросовестнымтрудом приумножает традиции бескомпромиссного служения закону, заложенныелучшими представителями прокурорского корпуса, стремится эффективно решатьответственные задачи, стоящие перед одним из ключевых институтов отечественнойправоохранительной системы. Подчеркну, именно от вас, вашей компетентности, их эффективной, слаженной работы на благо России. Важно, что именно от вас, на вашпрофессионализм, вашей компетентности, настойчивости и безупречных личных качеств, безупречного личного мужества, заложенныелучшими представителями прокурорского корпуса является залогом того, что нынешнее поколение сотрудников стремится сохранять и приумножать традиции, заложенные предшественниками. Подчеркну, заложенныелучшими представителями прокурорского корпуса. Сегодня перед одним из ключевых институтов отечественнойправоохранительной системы. Важно, что вы уделяете неустанное внимание обеспечению безопасности работы, реализации государственной службы, их эффективной реализации, на высочайшем уровне обеспечивает единство правового пространства страны, эффективно решатьответственные задачи, стоящие перед одним из ключевых институтов отечественнойправоохранительной системы. Убеждённости, и потому ваш профессионализм, честного и безупречного личного мужества, безупречныеличные качества. Убеждён, строгое следования принципам законности и правопорядка, эффективно решать стоящие перед одним из ключевых институтов отечественнойправоохранительной системы. Уверенности, и потому вашим профессионализмом, на благо граждан. Рассчитываю, что вы и эффективно решать стоящие перед одним из ключевых институтов отечественнойправоохранительной системы. Убеждён, на благо граждан, обеспечения единства'"
      ]
     },
     "execution_count": 54,
     "metadata": {},
     "output_type": "execute_result"
    }
   ],
   "source": [
    "generate_congrat('Егору')"
   ]
  },
  {
   "cell_type": "code",
   "execution_count": 55,
   "id": "af4e332c-eeb4-479d-8427-3b442ef03596",
   "metadata": {},
   "outputs": [
    {
     "name": "stderr",
     "output_type": "stream",
     "text": [
      "Setting `pad_token_id` to `eos_token_id`:50256 for open-end generation.\n"
     ]
    },
    {
     "data": {
      "text/plain": [
       "'Егору театра и кино, народному артисту СССР Егору поздравляю Вас с-летием. С самых первых, дебютных работ в кинематографе Вы задали высочайшуюпрофессиональную планку и удерживаете её на протяжении всей своей насыщеннойактёрской карьеры. Особого уважения заслуживает Ваша активная жизненная и гражданская позиция, большой личный вклад в реализацию общественно значимыхпросветительских, патриотических инициатив, в сохранение исторической памятинашего народа. Желаю Вам крепкого здоровья, неиссякаемой энергии и всего наилучшего. Егору. Сотрудникам и ветеранам органов прокуратуры России Уважаемыетоварищи!Поздравляю вас с профессиональным праздником и-йгодовщиной создания органов прокуратуры в России. Сменялись исторические события и эпохи, но защитаинтересов государства, общества, граждан всегда оставалась важнейшимприоритетом деятельности прокуратуры. Сегодня мы чествуем тех, кто ежедневным добросовестнымтрудом приумножает традиции бескомпромиссного служения закону, заложенныелучшими представителями прокурорского корпуса, стремится эффективно решатьответственные задачи, стоящие перед одним из ключевых институтов отечественнойправоохранительной системы. Подчеркну, именно от вас, вашей компетентности, их эффективной, слаженной работы на благо России. Важно, что именно от вас, на вашпрофессионализм, вашей компетентности, настойчивости и безупречных личных качеств, безупречного личного мужества, заложенныелучшими представителями прокурорского корпуса является залогом того, что нынешнее поколение сотрудников стремится сохранять и приумножать традиции, заложенные предшественниками. Подчеркну, заложенныелучшими представителями прокурорского корпуса. Сегодня перед одним из ключевых институтов отечественнойправоохранительной системы. Важно, что вы уделяете неустанное внимание обеспечению безопасности работы, реализации государственной службы, их эффективной реализации, на высочайшем уровне обеспечивает единство правового пространства страны, эффективно решатьответственные задачи, стоящие перед одним из ключевых институтов отечественнойправоохранительной системы. Убеждённости, и потому ваш профессионализм, честного и безупречного личного мужества, безупречныеличные качества. Убеждён, строгое следования принципам законности и правопорядка, эффективно решать стоящие перед одним из ключевых институтов отечественнойправоохранительной системы. Уверенности, и потому вашим профессионализмом, на благо граждан. Рассчитываю, что вы и эффективно решать стоящие перед одним из ключевых институтов отечественнойправоохранительной системы. Убеждён, на благо граждан, обеспечения единства'"
      ]
     },
     "execution_count": 55,
     "metadata": {},
     "output_type": "execute_result"
    }
   ],
   "source": [
    "generate_congrat('Егору')"
   ]
  },
  {
   "cell_type": "code",
   "execution_count": 56,
   "id": "104376bc-d10c-4f6a-830a-ae75ba1be4d4",
   "metadata": {},
   "outputs": [
    {
     "name": "stderr",
     "output_type": "stream",
     "text": [
      "Setting `pad_token_id` to `eos_token_id`:50256 for open-end generation.\n"
     ]
    },
    {
     "data": {
      "text/plain": [
       "'Семенников» и« Семёна», ЦКАД в Подмосковье. На повестке– не менее амбициозные проекты, которые соединятгорода и территории страны современными, безопасными магистралями. И конечно, нужно модернизировать существующие транспортные коридоры, повышать качестворегиональных и местных автодорог и соответствующей инфраструктуры, всемернонаращивать темпы этой работы, которая имеет большое значение для наших граждан, бизнеса, для развития отечественной экономики и социальной сферы. Желаю вам успехов в решении поставленных задач– на благо России. Семёна самого доброго. Семёну. Коллективу и ветеранам Семёна вас со-летием формирования Государственногофонда драгоценных металлов и драгоценных камней Российской Федерации и-летиемобразования Семёна. История этой уникальной коллекции, которая сегодня находитсяв ведении Семёне, восходит к году, когда в нашей стране этот огромный, поистине уникальный музей стал подлинным достоянием всего мира. Все прошедшие годы он играл ключевую роль в сбережении ишей истории, в воспитании подрастающего поколения. С удовлетворением отмечу, что коллективу и ветеранам Семёну вас со знаменательной датой–-летиемобразования Семёну. История этой уникальной коллекции, которая сегодня находитсяв ведении Семёне, восходит к году, когда в её стенах была учреждена Семёну. Основанная в году, история которой восходит к году, на протяжении лет назад связана с выдающимся русским золотом иалантливых исследователей, которые в области отечественной культуры. На протяжении веков собрание пополнялось историографов, среди которых– выдающиеся учёные, коллекции, коллекции, собрания произведений ювелирного искусства, предметы старины, предметы старины, уникальные археологические и этнографические и ювелирные работы, собрания редких книг и предметов быта, археологические и этнографические находки. Все эти годы гости из России и СССР, собрания редкихдовых камней и предметов быта представляют огромную историческую, бесценное наследие. И сегодня собрание пополняется историческими ювелирного искусства, редкими образцами природныхдрагоценных камней и металлов. Отрадно, археологические и этнографические находки. И конечно, оно продолжает лучшие традиции. Сегодня собрание пополняется историческими ювелирного искусства, археологические и этнографические и этнографические коллекции, собрания редкихдокументов. Его сотрудников объединяет на древней живописи и предметов быта, археологические и этнографические и предметов быта, археологические и'"
      ]
     },
     "execution_count": 56,
     "metadata": {},
     "output_type": "execute_result"
    }
   ],
   "source": [
    "generate_congrat('Семен')"
   ]
  },
  {
   "cell_type": "code",
   "execution_count": 57,
   "id": "04f3f343-8a1c-4ee7-9dbc-5e08de6b9713",
   "metadata": {},
   "outputs": [
    {
     "name": "stderr",
     "output_type": "stream",
     "text": [
      "Setting `pad_token_id` to `eos_token_id`:50256 for open-end generation.\n"
     ]
    },
    {
     "data": {
      "text/plain": [
       "'Семенников» и« Семёна», ЦКАД в Подмосковье. На повестке– не менее амбициозные проекты, которые соединятгорода и территории страны современными, безопасными магистралями. И конечно, нужно модернизировать существующие транспортные коридоры, повышать качестворегиональных и местных автодорог и соответствующей инфраструктуры, всемернонаращивать темпы этой работы, которая имеет большое значение для наших граждан, бизнеса, для развития отечественной экономики и социальной сферы. Желаю вам успехов в решении поставленных задач– на благо России. Семёна самого доброго. Семёну. Коллективу и ветеранам Семёна вас со-летием формирования Государственногофонда драгоценных металлов и драгоценных камней Российской Федерации и-летиемобразования Семёна. История этой уникальной коллекции, которая сегодня находитсяв ведении Семёне, восходит к году, когда в нашей стране этот огромный, поистине уникальный музей стал подлинным достоянием всего мира. Все прошедшие годы он играл ключевую роль в сбережении ишей истории, в воспитании подрастающего поколения. С удовлетворением отмечу, что коллективу и ветеранам Семёну вас со знаменательной датой–-летиемобразования Семёну. История этой уникальной коллекции, которая сегодня находитсяв ведении Семёне, восходит к году, когда в её стенах была учреждена Семёну. Основанная в году, история которой восходит к году, на протяжении лет назад связана с выдающимся русским золотом иалантливых исследователей, которые в области отечественной культуры. На протяжении веков собрание пополнялось историографов, среди которых– выдающиеся учёные, коллекции, коллекции, собрания произведений ювелирного искусства, предметы старины, предметы старины, уникальные археологические и этнографические и ювелирные работы, собрания редких книг и предметов быта, археологические и этнографические находки. Все эти годы гости из России и СССР, собрания редкихдовых камней и предметов быта представляют огромную историческую, бесценное наследие. И сегодня собрание пополняется историческими ювелирного искусства, редкими образцами природныхдрагоценных камней и металлов. Отрадно, археологические и этнографические находки. И конечно, оно продолжает лучшие традиции. Сегодня собрание пополняется историческими ювелирного искусства, археологические и этнографические и этнографические коллекции, собрания редкихдокументов. Его сотрудников объединяет на древней живописи и предметов быта, археологические и этнографические и предметов быта, археологические и'"
      ]
     },
     "execution_count": 57,
     "metadata": {},
     "output_type": "execute_result"
    }
   ],
   "source": [
    "generate_congrat('Семен')"
   ]
  },
  {
   "cell_type": "code",
   "execution_count": 58,
   "id": "f0b266b1-c07f-4168-9b0c-2bb2f14e4c0f",
   "metadata": {},
   "outputs": [
    {
     "name": "stderr",
     "output_type": "stream",
     "text": [
      "Setting `pad_token_id` to `eos_token_id`:50256 for open-end generation.\n"
     ]
    },
    {
     "data": {
      "text/plain": [
       "'Александреевна!Поздравляю Вас с-летием. Вы принадлежите к героическому военному поколению, которое сумело сохранить и пронести через всю свою жизнь веру в добро и справедливость. Этот заряд оптимизма дарит зрителям и Ваше творчество. Вас знают и любят как замечательного кинооператора, обладающего тонким художественным вкусом и неповторимым авторским почерком. Работая с выдающимися режиссерами, Вы создали фильмы, вошедшие в« золотой фонд» отечественного кинематографа. От души желаю Вам крепкого здоровья и всего наилучшего. Александру. Академику РАНА.Г.МЕРЖАНОВУ Уважаемый Александр поздравляю Вас с-летним юбилеем. Вы посвятили свою жизнь защите окружающей среды, внесли значимый вклад в развитие отечественного оборонно- промышленного комплекса, немало сил и энергии на посту академика Александра. Ваш профессиональный путь– свидетельство глубоких, основательных, востребованных идей и инициатив, большой и значимый вклад в укрепление позиций Александра яркого, авторитетного исследовательского центра, видного представителя отечественной школы физики. Ваш вклад в укрепление позиций России как автора фундаментальных работ, посвящённых проблемам источниковедения, заслуженное признание коллег и многочисленных учеников, с которыми связаны выдающиеся достижения Александр Вашей знаменитой школы физики. Ваша многолетняя организаторская и педагогическая деятельность. Вами подготовлено не одно поколение специалистов в области физики. Здоровья Вам, благополучия и всего самого доброго. Убеждён, что и сегодня Вы труд является достойным примером для молодых учёных. Желаю Вам, которые блестяще продолжают дело своего наставника. Желаю Вам и как талантливого педагога, воспитавшего несколько поколений квалифицированных специалистов. Здоровья Вам, благополучия и всего самого доброго. Александру. Александру. Александру поздравляю Вас с-летием. Человек многогранного здоровья, благополучия и всего самого доброго. Александру. Александру. Александру, академику Александру, академику Александру, Александру. Александр, Александру, Александру, академику Александра, жизнь замечательных физиков, жизнь замечательных физиков, академия всегда оставалась самым престижных научных трудов и по праву считается одной из наиболее востребованных и авторитетных и очень востребованных вузов страны. Среди Ваших учеников немало известных специалистов, считается одним'"
      ]
     },
     "execution_count": 58,
     "metadata": {},
     "output_type": "execute_result"
    }
   ],
   "source": [
    "generate_congrat('Александре')"
   ]
  },
  {
   "cell_type": "code",
   "execution_count": 59,
   "id": "100bb82f-2957-4c3b-9cc9-10d4eca5f0ac",
   "metadata": {},
   "outputs": [
    {
     "name": "stderr",
     "output_type": "stream",
     "text": [
      "Setting `pad_token_id` to `eos_token_id`:50256 for open-end generation.\n"
     ]
    },
    {
     "data": {
      "text/plain": [
       "'Александреевна!Поздравляю Вас с-летием. Вы принадлежите к героическому военному поколению, которое сумело сохранить и пронести через всю свою жизнь веру в добро и справедливость. Этот заряд оптимизма дарит зрителям и Ваше творчество. Вас знают и любят как замечательного кинооператора, обладающего тонким художественным вкусом и неповторимым авторским почерком. Работая с выдающимися режиссерами, Вы создали фильмы, вошедшие в« золотой фонд» отечественного кинематографа. От души желаю Вам крепкого здоровья и всего наилучшего. Александру. Академику РАНА.Г.МЕРЖАНОВУ Уважаемый Александр поздравляю Вас с-летним юбилеем. Вы посвятили свою жизнь защите окружающей среды, внесли значимый вклад в развитие отечественного оборонно- промышленного комплекса, немало сил и энергии на посту академика Александра. Ваш профессиональный путь– свидетельство глубоких, основательных, востребованных идей и инициатив, большой и значимый вклад в укрепление позиций Александра яркого, авторитетного исследовательского центра, видного представителя отечественной школы физики. Ваш вклад в укрепление позиций России как автора фундаментальных работ, посвящённых проблемам источниковедения, заслуженное признание коллег и многочисленных учеников, с которыми связаны выдающиеся достижения Александр Вашей знаменитой школы физики. Ваша многолетняя организаторская и педагогическая деятельность. Вами подготовлено не одно поколение специалистов в области физики. Здоровья Вам, благополучия и всего самого доброго. Убеждён, что и сегодня Вы труд является достойным примером для молодых учёных. Желаю Вам, которые блестяще продолжают дело своего наставника. Желаю Вам и как талантливого педагога, воспитавшего несколько поколений квалифицированных специалистов. Здоровья Вам, благополучия и всего самого доброго. Александру. Александру. Александру поздравляю Вас с-летием. Человек многогранного здоровья, благополучия и всего самого доброго. Александру. Александру. Александру, академику Александру, академику Александру, Александру. Александр, Александру, Александру, академику Александра, жизнь замечательных физиков, жизнь замечательных физиков, академия всегда оставалась самым престижных научных трудов и по праву считается одной из наиболее востребованных и авторитетных и очень востребованных вузов страны. Среди Ваших учеников немало известных специалистов, считается одним'"
      ]
     },
     "execution_count": 59,
     "metadata": {},
     "output_type": "execute_result"
    }
   ],
   "source": [
    "generate_congrat('Александре')"
   ]
  },
  {
   "cell_type": "code",
   "execution_count": 60,
   "id": "f75348eb-752d-430a-aea7-3d94e96507b2",
   "metadata": {},
   "outputs": [
    {
     "name": "stderr",
     "output_type": "stream",
     "text": [
      "Setting `pad_token_id` to `eos_token_id`:50256 for open-end generation.\n"
     ]
    },
    {
     "data": {
      "text/plain": [
       "'Завод\" Салют\" за прошедшие годы превратился в один из наиболее крупных и авторитетных бизнес- объединений страны с богатой историей и давними традициями. В числе неоспоримых заслуг«Завода \"Салют\"»– значимый вклад в укрепление национальной экономики, в создание благоприятных условий для развития современного, эффективного бизнеса и формирования делового климата, в совершенствование профильного законодательства. Вы многое делаете для защиты интересов российских производителей, продвижения их товаров и услуг на глобальные рынки, укрепления взаимодействия с зарубежными коллегами, выступаете надёжным партнёром государства в решении важных социальных задач. Желаю вам успехов и всего самого доброго.Заводу \"Салют\".Заводу \"Салют\", артисту театра и кино, актёруЗаводе \"Салют\", народному артисту России УважаемыйЗавод \"Салют\"! Примите мои поздравления с-летием и самые добрые пожелания. Ваша творческая биография неразрывно связана со знаменитым театром«Заводу \"Салют\"», на сцене которого Вы сыграли десятки запоминающихся ролей, а работа в кинематографе принесла Вам не только широкую зрительскую любовь, но и искреннюю любовь зрителей. Вас уважают коллеги и многочисленные ученики. Вас уважают и как замечательного педагога, воспитавшего не только как замечательного артиста, но и как выдающегося артиста, воспитавшего не одно поколение молодых актёров. Вас также знают как талантливого артиста и кинорежиссёра. Вас знают как талантливого педагога, обладающего большим талантом и продолжателя творческих традиций знаменитой вахтанговской школы. Вас ценят и как талантливого организатора, передающего свои знания и опыт участия в творческих проектах. Вас ценят и как замечательного педагога, воспитавшего не одно поколение молодых актёров. Здоровья Вам, благополучия и хорошего настроения. Вас ценят и как талантливого организатора, которые помогают Вам создавать новые образы. Вас также как талантливого педагога, много сил и как талантливого организатора, передающего свои знания и богатый опыт. Здоровья Вам и как талантливого руководителя, который стремится внести свой богатый опыт и знания в развитие сценической школы. Здоровья Вам, благополучия и творческого вдохновения. К моим поздравлениям присоединяется супруга.Заводу \"Салют\".Заводу \"Салют\".Заводу \"Салют\".Завод \"Салют\", сохранение отечественного культурного наследия. Вас ценят и как талантливого педагога, сохранения отечественного культурного наследия. Вас ценят и как талантливого педагога, много сил и как талантливого организатора, много сил и мастерства'"
      ]
     },
     "execution_count": 60,
     "metadata": {},
     "output_type": "execute_result"
    }
   ],
   "source": [
    "generate_congrat('Завод \"Салют\"')"
   ]
  },
  {
   "cell_type": "code",
   "execution_count": 61,
   "id": "0c880681-ccb5-42f1-96a6-50f4dfce0cfb",
   "metadata": {},
   "outputs": [
    {
     "name": "stderr",
     "output_type": "stream",
     "text": [
      "Setting `pad_token_id` to `eos_token_id`:50256 for open-end generation.\n"
     ]
    },
    {
     "data": {
      "text/plain": [
       "'Завод\" Салют\" за прошедшие годы превратился в один из наиболее крупных и авторитетных бизнес- объединений страны с богатой историей и давними традициями. В числе неоспоримых заслуг«Завода \"Салют\"»– значимый вклад в укрепление национальной экономики, в создание благоприятных условий для развития современного, эффективного бизнеса и формирования делового климата, в совершенствование профильного законодательства. Вы многое делаете для защиты интересов российских производителей, продвижения их товаров и услуг на глобальные рынки, укрепления взаимодействия с зарубежными коллегами, выступаете надёжным партнёром государства в решении важных социальных задач. Желаю вам успехов и всего самого доброго.Заводу \"Салют\".Заводу \"Салют\", артисту театра и кино, актёруЗаводе \"Салют\", народному артисту России УважаемыйЗавод \"Салют\"! Примите мои поздравления с-летием и самые добрые пожелания. Ваша творческая биография неразрывно связана со знаменитым театром«Заводу \"Салют\"», на сцене которого Вы сыграли десятки запоминающихся ролей, а работа в кинематографе принесла Вам не только широкую зрительскую любовь, но и искреннюю любовь зрителей. Вас уважают коллеги и многочисленные ученики. Вас уважают и как замечательного педагога, воспитавшего не только как замечательного артиста, но и как выдающегося артиста, воспитавшего не одно поколение молодых актёров. Вас также знают как талантливого артиста и кинорежиссёра. Вас знают как талантливого педагога, обладающего большим талантом и продолжателя творческих традиций знаменитой вахтанговской школы. Вас ценят и как талантливого организатора, передающего свои знания и опыт участия в творческих проектах. Вас ценят и как замечательного педагога, воспитавшего не одно поколение молодых актёров. Здоровья Вам, благополучия и хорошего настроения. Вас ценят и как талантливого организатора, которые помогают Вам создавать новые образы. Вас также как талантливого педагога, много сил и как талантливого организатора, передающего свои знания и богатый опыт. Здоровья Вам и как талантливого руководителя, который стремится внести свой богатый опыт и знания в развитие сценической школы. Здоровья Вам, благополучия и творческого вдохновения. К моим поздравлениям присоединяется супруга.Заводу \"Салют\".Заводу \"Салют\".Заводу \"Салют\".Завод \"Салют\", сохранение отечественного культурного наследия. Вас ценят и как талантливого педагога, сохранения отечественного культурного наследия. Вас ценят и как талантливого педагога, много сил и как талантливого организатора, много сил и мастерства'"
      ]
     },
     "execution_count": 61,
     "metadata": {},
     "output_type": "execute_result"
    }
   ],
   "source": [
    "generate_congrat('Завод \"Салют\"')"
   ]
  },
  {
   "cell_type": "code",
   "execution_count": 62,
   "id": "177c1962-1fd2-4cb1-8946-a2ca63075e6e",
   "metadata": {},
   "outputs": [
    {
     "name": "stderr",
     "output_type": "stream",
     "text": [
      "Setting `pad_token_id` to `eos_token_id`:50256 for open-end generation.\n"
     ]
    },
    {
     "data": {
      "text/plain": [
       "'Компания\" Звезда\"– современная, динамично развивающаяся структура, применяющая самые современные технологии, учитывающие запросы граждан, участников экономической жизни. Лучших сотрудников службы отличают высокийпрофессионализм и компетентность, ответственный подход к делу и безупречныеличные качества. Отмечу, что от вашей грамотной, слаженной работы во многомзависит обеспечение устойчивого финансового потока в казну государства и бюджеты регионов, эффективное решение востребованных социальных проблем и в целом укрепление экономической безопасности страны, улучшение делового, инвестиционного климата. Уверен, что вы и впредь будете честно трудиться, достойно решатьзадачи, стоящие перед сферой торговли. Желаю вам успехов и всего самого доброго.Компании \"Звезда\".Компании \"Звезда\", директоруКомпании \"Звезда\", академикуКомпании \"Звезда\"! Примите мои поздравления с-летием и самые добрые пожелания. В день Вашего-летия примите мои поздравления и самые добрые пожелания. В России и за рубежом Вы известны как талантливый учёный, автор открытий в области эффективного использования природных ресурсов. Ваши научные труды оказали большое влияние на развитие геоинформатики и геоэкономики и геоэкономики и сегодня широко известны как автора целого ряда ключевыхработ.них работ, а Ваши практические наработки в области геоэкономики стали существенным вкладом в развитие российских регионов. Желаю Вам здоровья и всего наилучшего. Сегодня важно уделять особое внимание укреплению науки и эффективно использовать современные технологии, применять современные знания, применять их на практике, добиваться реальных, ощутимых улучшения качества жизни людей. Это особенно важно сейчас, когда наша страна, опираясь на мощныйинвестиции, необходимо существенно снизить себестоимость возводимого жилья. Уверен, дорог, дорог, дорог, дорог, инфраструктуры, улучшение качества жизни людей. Рассчитываю, внедрять современныеуправленческих решений. Рассчитываю, в том числе в решении задач. Желаю Вам здоровья и всего наилучшего.Компании \"Звезда\".Компании \"Звезда\".Компании \"Звезда\".Компания \"Звезда\", организаторский подход к решению поставленных задач. Особое внимание необходимо уделить формированию благоприятного предпринимательского климата, созданию современных рабочих мест, внедрению инновационных, повышению качества жизни людей. Уверен, что Ваши исследования помогут выявлению новых интересных проектов, созданию новых современных рабочих мест, повышению качества жизни людей. Желаю Вам и всего наилучшего.Компании \"Звезда\".Компании \"Звезда\".Компании \"Звезда\".Компании \"Звезда\".Компании \"Звезда\"'"
      ]
     },
     "execution_count": 62,
     "metadata": {},
     "output_type": "execute_result"
    }
   ],
   "source": [
    "generate_congrat('Компания \"Звезда\"')"
   ]
  },
  {
   "cell_type": "code",
   "execution_count": 63,
   "id": "3031e283-790a-4036-ba71-84a213530cda",
   "metadata": {},
   "outputs": [
    {
     "name": "stderr",
     "output_type": "stream",
     "text": [
      "Setting `pad_token_id` to `eos_token_id`:50256 for open-end generation.\n"
     ]
    },
    {
     "data": {
      "text/plain": [
       "'Компания\" Звезда\"– современная, динамично развивающаяся структура, применяющая самые современные технологии, учитывающие запросы граждан, участников экономической жизни. Лучших сотрудников службы отличают высокийпрофессионализм и компетентность, ответственный подход к делу и безупречныеличные качества. Отмечу, что от вашей грамотной, слаженной работы во многомзависит обеспечение устойчивого финансового потока в казну государства и бюджеты регионов, эффективное решение востребованных социальных проблем и в целом укрепление экономической безопасности страны, улучшение делового, инвестиционного климата. Уверен, что вы и впредь будете честно трудиться, достойно решатьзадачи, стоящие перед сферой торговли. Желаю вам успехов и всего самого доброго.Компании \"Звезда\".Компании \"Звезда\", директоруКомпании \"Звезда\", академикуКомпании \"Звезда\"! Примите мои поздравления с-летием и самые добрые пожелания. В день Вашего-летия примите мои поздравления и самые добрые пожелания. В России и за рубежом Вы известны как талантливый учёный, автор открытий в области эффективного использования природных ресурсов. Ваши научные труды оказали большое влияние на развитие геоинформатики и геоэкономики и геоэкономики и сегодня широко известны как автора целого ряда ключевыхработ.них работ, а Ваши практические наработки в области геоэкономики стали существенным вкладом в развитие российских регионов. Желаю Вам здоровья и всего наилучшего. Сегодня важно уделять особое внимание укреплению науки и эффективно использовать современные технологии, применять современные знания, применять их на практике, добиваться реальных, ощутимых улучшения качества жизни людей. Это особенно важно сейчас, когда наша страна, опираясь на мощныйинвестиции, необходимо существенно снизить себестоимость возводимого жилья. Уверен, дорог, дорог, дорог, дорог, инфраструктуры, улучшение качества жизни людей. Рассчитываю, внедрять современныеуправленческих решений. Рассчитываю, в том числе в решении задач. Желаю Вам здоровья и всего наилучшего.Компании \"Звезда\".Компании \"Звезда\".Компании \"Звезда\".Компания \"Звезда\", организаторский подход к решению поставленных задач. Особое внимание необходимо уделить формированию благоприятного предпринимательского климата, созданию современных рабочих мест, внедрению инновационных, повышению качества жизни людей. Уверен, что Ваши исследования помогут выявлению новых интересных проектов, созданию новых современных рабочих мест, повышению качества жизни людей. Желаю Вам и всего наилучшего.Компании \"Звезда\".Компании \"Звезда\".Компании \"Звезда\".Компании \"Звезда\".Компании \"Звезда\"'"
      ]
     },
     "execution_count": 63,
     "metadata": {},
     "output_type": "execute_result"
    }
   ],
   "source": [
    "generate_congrat('Компания \"Звезда\"')"
   ]
  },
  {
   "cell_type": "code",
   "execution_count": 64,
   "id": "31b9da1c-db39-4e57-ad99-cf44b0935a2b",
   "metadata": {},
   "outputs": [
    {
     "name": "stderr",
     "output_type": "stream",
     "text": [
      "Setting `pad_token_id` to `eos_token_id`:50256 for open-end generation.\n"
     ]
    },
    {
     "data": {
      "text/plain": [
       "'Сообщество\" Вымпел\" гордится многими поколениями своих поклонников, верными и преданными друзьями. И конечно, отмечу многогранную, востребованную деятельность«Сообщество \"Вымпел\"», направленную на поддержание в нашей стране межнационального, межрелигиозного мира и согласия, развитиемежрелигиозного и межнационального диалога. Желаю вам успехов и всего наилучшего.Сообществу \"Вымпел\".Сообществу \"Вымпел\", эстрадной певице, композитору, эстрадному режиссёру, продюсеру, актрисе, телеведущей, народной артистке СССРСообществу \"Вымпел\" удовольствием присоединяюсь к многочисленным поздравлениям, звучащим сегодня в Ваш адрес. Многие годы Вы преданно служите искусству, подаёте пример вдохновенного творческого труда. Ваши работы в театре и кинематографе всегда интересны и талантливы, они пользуются профессиональным признанием и искренней любовью слушателей. Ваше творчество, замечательные, всегда востребованные песни, в том числе–« Лезгинка»,«Сообщество \"Вымпел\"» и другие, уже многие годы звучат в исполнении известных исполнителей. Ваше творчество стало яркой страницей в судьбе каждого, стало яркой страницей отечественной культуры. Желаю Вам здоровья, благополучия и вдохновения.Сообществу \"Вымпел\".Сообществе \"Вымпел\", композитору, дирижёру, дирижёру, ете любимым делом, руководите знаменитойСообщества \"Вымпел\". Ваши выступления отличает артистичность, мелодичное звучание и узнаваемыйисполнительское мастерство, вдохновенное творчество. Желаю Вам здоровья и Вашего отца и исполнителя всегда сопровождают успех и в театре. Вас по праву считают одним из лучших.Сообщество \"Вымпел\" начинающих артистов, воплощаете в жизнь интересные мелодии. Всегда рад, которые пользуются популярностью у миллионов людей на протяжении многих лет. Желаю Вам и Вашего коллектива.Сообществу \"Вымпел\".Сообщество \"Вымпел\", балетмейстеру, етами, aster, aster, профессиональное признание и безупречное чувство стиля, умение точно понять замысел и безупречный художественный вкус, умение точно понять замысел и безупречный художественный вкус. Ваши выступления, вдохновенное творчество и по праву пользуются популярностью у миллионов поклонников уникальными тореабилитационных традиций русского фольклора. Всегда рад общаться с Вами.Сообществу \"Вымпел\" по праву считают своим призёров.Сообществу \"Вымпел\" радушием, глубокое знание мировой культуры.Сообщество \"Вымпел\" безупречное владение искусством перевоплощения и безупречное владение искусством перевоплощения, глубокое знание мировой культуры, уважение к своим слушателей.'"
      ]
     },
     "execution_count": 64,
     "metadata": {},
     "output_type": "execute_result"
    }
   ],
   "source": [
    "generate_congrat('Сообщество \"Вымпел\"')"
   ]
  },
  {
   "cell_type": "code",
   "execution_count": 65,
   "id": "472a9a0f-1a96-43df-9e68-8b32eff2690e",
   "metadata": {},
   "outputs": [
    {
     "name": "stderr",
     "output_type": "stream",
     "text": [
      "Setting `pad_token_id` to `eos_token_id`:50256 for open-end generation.\n"
     ]
    },
    {
     "data": {
      "text/plain": [
       "'Сообщество\" Вымпел\" гордится многими поколениями своих поклонников, верными и преданными друзьями. И конечно, отмечу многогранную, востребованную деятельность«Сообщество \"Вымпел\"», направленную на поддержание в нашей стране межнационального, межрелигиозного мира и согласия, развитиемежрелигиозного и межнационального диалога. Желаю вам успехов и всего наилучшего.Сообществу \"Вымпел\".Сообществу \"Вымпел\", эстрадной певице, композитору, эстрадному режиссёру, продюсеру, актрисе, телеведущей, народной артистке СССРСообществу \"Вымпел\" удовольствием присоединяюсь к многочисленным поздравлениям, звучащим сегодня в Ваш адрес. Многие годы Вы преданно служите искусству, подаёте пример вдохновенного творческого труда. Ваши работы в театре и кинематографе всегда интересны и талантливы, они пользуются профессиональным признанием и искренней любовью слушателей. Ваше творчество, замечательные, всегда востребованные песни, в том числе–« Лезгинка»,«Сообщество \"Вымпел\"» и другие, уже многие годы звучат в исполнении известных исполнителей. Ваше творчество стало яркой страницей в судьбе каждого, стало яркой страницей отечественной культуры. Желаю Вам здоровья, благополучия и вдохновения.Сообществу \"Вымпел\".Сообществе \"Вымпел\", композитору, дирижёру, дирижёру, ете любимым делом, руководите знаменитойСообщества \"Вымпел\". Ваши выступления отличает артистичность, мелодичное звучание и узнаваемыйисполнительское мастерство, вдохновенное творчество. Желаю Вам здоровья и Вашего отца и исполнителя всегда сопровождают успех и в театре. Вас по праву считают одним из лучших.Сообщество \"Вымпел\" начинающих артистов, воплощаете в жизнь интересные мелодии. Всегда рад, которые пользуются популярностью у миллионов людей на протяжении многих лет. Желаю Вам и Вашего коллектива.Сообществу \"Вымпел\".Сообщество \"Вымпел\", балетмейстеру, етами, aster, aster, профессиональное признание и безупречное чувство стиля, умение точно понять замысел и безупречный художественный вкус, умение точно понять замысел и безупречный художественный вкус. Ваши выступления, вдохновенное творчество и по праву пользуются популярностью у миллионов поклонников уникальными тореабилитационных традиций русского фольклора. Всегда рад общаться с Вами.Сообществу \"Вымпел\" по праву считают своим призёров.Сообществу \"Вымпел\" радушием, глубокое знание мировой культуры.Сообщество \"Вымпел\" безупречное владение искусством перевоплощения и безупречное владение искусством перевоплощения, глубокое знание мировой культуры, уважение к своим слушателей.'"
      ]
     },
     "execution_count": 65,
     "metadata": {},
     "output_type": "execute_result"
    }
   ],
   "source": [
    "generate_congrat('Сообщество \"Вымпел\"')"
   ]
  },
  {
   "cell_type": "code",
   "execution_count": 66,
   "id": "473709ac-e55e-4c7c-9778-22443f96ff62",
   "metadata": {},
   "outputs": [
    {
     "name": "stderr",
     "output_type": "stream",
     "text": [
      "Setting `pad_token_id` to `eos_token_id`:50256 for open-end generation.\n"
     ]
    },
    {
     "data": {
      "text/plain": [
       "'Мудрейший утконосный стиль, бережно сохраняят традиции бескомпромиссного служения избранному делу, стремятся внести свой вклад в благополучие родного города, Чувашской Республики и всей России. Искренне желаю, чтобы вашим делам и начинаниям всегдасопутствовали успех и удача.Мудрейшему Утконосу.Мудрейшем Утконосе, победителю чемпионата мира по водным видам спорта годав Кванджу( Республика Корея) в соревнованиях по плаванию на дистанции метров на спине УважаемыйМудрейшем Утконосе Вас с блестящим выступлением. Спортивный, по- настоящему чемпионский характер, отличная подготовка и твёрдый настрой на победу помогли Вам обойти именитых соперников, показать великолепный результат и установитьпаралимпийский рекорд в южнокорейском Кванджу. И конечно, это заметное достижение стало ещё одним Вашим личным достижением и достойным вкладом в развитие спорта в наступившем году, выразить искреннее восхищениеМудрейшего Утконоса и сборной России по плаванию на дистанции метров. Уверен, этот успех, вдохновит Вас на новые спортивные достижения. Уверен, что Ваша победа станет ещё одним важным вкладом в укрепление победных традиций отечественной школы плавания. И конечно, это заметноесобытие в общественной, спортивной жизни страны, в укрепление позиций России как одной из ведущих странотечественной школы плавания. Желаю Вам успехов и всего самого доброго.Мудрейшему Утконосу.Мудрейшему Утконосу.Мудрейшего Утконоса, победных традиций отечественной школы плавания. Желаю Вам удачи и всего самого доброго.Мудрейшему Утконосу.Мудрейшему Утконосу.Мудрейшему Утконосу, победителю Паралимпийских летних игр в Токио в соревнованиях по плаванию на дистанции метров. И конечно, особые слова признания, характера и мирового рекордов. Желаю Вам здоровья и всего самого доброго.Мудрейшему Утконосу.Мудрейшему Утконосу, победителю Паралимпийских летних игр в Токио в Токио в соревнованиях по плаванию на дистанции метров.Мудрейшему Утконосу,Мудрейшему Утконосу,Мудрейшему Утконосу,Мудрейшему Утконосу,Мудрейшему Утконосу,Мудрейшему Утконосу,Мудрейшему Утконосу,Мудрейшему Утконосу,Мудрейшему Утконосу,Мудрейшему Утконосу,Мудрейшему Утконосу,Мудрейшему Утконосу,Мудрейшему Утконосу,Мудрейшему Утконосу,Мудрейшему Утконосу,Мудрейшему Утконосу,Мудрейшему Утконосу,Мудрейшему Утконосу,Мудрейшему Утконосу,Мудрейшему Утконосу,Мудрейшему Утконосу,Мудрейшему Утконосу,Мудрейшему Утконосу,'"
      ]
     },
     "execution_count": 66,
     "metadata": {},
     "output_type": "execute_result"
    }
   ],
   "source": [
    "generate_congrat('Мудрейший утконос')"
   ]
  },
  {
   "cell_type": "code",
   "execution_count": 67,
   "id": "417f8ffa-4b57-414a-951c-3e317c6eefc3",
   "metadata": {},
   "outputs": [
    {
     "name": "stderr",
     "output_type": "stream",
     "text": [
      "Setting `pad_token_id` to `eos_token_id`:50256 for open-end generation.\n"
     ]
    },
    {
     "data": {
      "text/plain": [
       "'Мудрейший утконосный стиль, бережно сохраняят традиции бескомпромиссного служения избранному делу, стремятся внести свой вклад в благополучие родного города, Чувашской Республики и всей России. Искренне желаю, чтобы вашим делам и начинаниям всегдасопутствовали успех и удача.Мудрейшему Утконосу.Мудрейшем Утконосе, победителю чемпионата мира по водным видам спорта годав Кванджу( Республика Корея) в соревнованиях по плаванию на дистанции метров на спине УважаемыйМудрейшем Утконосе Вас с блестящим выступлением. Спортивный, по- настоящему чемпионский характер, отличная подготовка и твёрдый настрой на победу помогли Вам обойти именитых соперников, показать великолепный результат и установитьпаралимпийский рекорд в южнокорейском Кванджу. И конечно, это заметное достижение стало ещё одним Вашим личным достижением и достойным вкладом в развитие спорта в наступившем году, выразить искреннее восхищениеМудрейшего Утконоса и сборной России по плаванию на дистанции метров. Уверен, этот успех, вдохновит Вас на новые спортивные достижения. Уверен, что Ваша победа станет ещё одним важным вкладом в укрепление победных традиций отечественной школы плавания. И конечно, это заметноесобытие в общественной, спортивной жизни страны, в укрепление позиций России как одной из ведущих странотечественной школы плавания. Желаю Вам успехов и всего самого доброго.Мудрейшему Утконосу.Мудрейшему Утконосу.Мудрейшего Утконоса, победных традиций отечественной школы плавания. Желаю Вам удачи и всего самого доброго.Мудрейшему Утконосу.Мудрейшему Утконосу.Мудрейшему Утконосу, победителю Паралимпийских летних игр в Токио в соревнованиях по плаванию на дистанции метров. И конечно, особые слова признания, характера и мирового рекордов. Желаю Вам здоровья и всего самого доброго.Мудрейшему Утконосу.Мудрейшему Утконосу, победителю Паралимпийских летних игр в Токио в Токио в соревнованиях по плаванию на дистанции метров.Мудрейшему Утконосу,Мудрейшему Утконосу,Мудрейшему Утконосу,Мудрейшему Утконосу,Мудрейшему Утконосу,Мудрейшему Утконосу,Мудрейшему Утконосу,Мудрейшему Утконосу,Мудрейшему Утконосу,Мудрейшему Утконосу,Мудрейшему Утконосу,Мудрейшему Утконосу,Мудрейшему Утконосу,Мудрейшему Утконосу,Мудрейшему Утконосу,Мудрейшему Утконосу,Мудрейшему Утконосу,Мудрейшему Утконосу,Мудрейшему Утконосу,Мудрейшему Утконосу,Мудрейшему Утконосу,Мудрейшему Утконосу,Мудрейшему Утконосу,'"
      ]
     },
     "execution_count": 67,
     "metadata": {},
     "output_type": "execute_result"
    }
   ],
   "source": [
    "generate_congrat('Мудрейший утконос')"
   ]
  },
  {
   "cell_type": "code",
   "execution_count": 68,
   "id": "556e5c94-0003-43ad-b31c-9eb457b34d1a",
   "metadata": {},
   "outputs": [
    {
     "name": "stderr",
     "output_type": "stream",
     "text": [
      "Setting `pad_token_id` to `eos_token_id`:50256 for open-end generation.\n"
     ]
    },
    {
     "data": {
      "text/plain": [
       "'Заморские гнилые двери, закладывал и развивал замечательные традиции отечественного музыкального искусства. От души желаю Вам, уважаемыйЗаморские Гнилые, здоровья, благополучия и всего наилучшего. С уважением,Заморским Гнилым. КоллективуЗаморским Гнилымдрузья!Поздравляю вас с-летием созданияЗаморских Гнилых в году, ваш театр объединил на своей сценической площадке яркие творческие силы, сталкрупным культурным, просветительским центром Сибири. Здесь всегда царитатмосфера духовности и вдохновения, бережно хранятся и передаются из поколенияв поколение традиции подвижнического служения искусству. Отрадно, что вы бережно храните и продолжаете подвижнические традиции предшественников, достойно продолжаете подвижнические традиции беззаветного служения искусству, заложенные предками, подвижнического служения искусству. Сегодня театр ведёт активную гастрольную деятельность, участвует в крупных международных фестивалях, открыт для смелых, новаторских режиссёрских решений и ярких художественных экспериментов, получил высокие оценки коллег и зрителей. Его постановки, отличающиеся смелыми драматургов, режиссёров, композиторов, художников. Отрадно, что вы бережно храните и продолжаете подвижнические традиции любимому делу, заложенные предками, радуете публику интересными постановками, ведёте активную концертнымипроекты, ведёте большую просветительскую деятельность, радуете публику интересными премьерами, ведёте большую просветительскими, познавательными программами, ведёте большую просветительскими программами, грандиозными фестивалями. Желаю вам новых интересных проектов. Желаю вам и всего самого доброго.Заморским Гнилым. КоллективуЗаморским Гнилымдрузья!Поздравляю вас с юбилеемЗаморским Гнилым всего самого доброго. Впервые упомянутыйЗаморским Гнилым, которые отличаются высоким профессиональными, содержательными просветительскими, художественными событиями, ведёте активную концертными программами, ведёте активную концертными программами, ведёте большую просветительскими программами, ведёте большую просветительскими программами. Такая многогранную общественную деятельность, активная концертную деятельность, активная концертную деятельность, активное участие в жизни театра. Желаю вам и, конечно, здоровья и всего самого доброго.Заморским Гнилым. КоллективуЗаморским Гнилымдрузья!Поздравляю вас с-летиемЗаморским Гнилым. Сегодня, как и прежде, большая, многогранную просветительскими'"
      ]
     },
     "execution_count": 68,
     "metadata": {},
     "output_type": "execute_result"
    }
   ],
   "source": [
    "generate_congrat('Заморские гнилые')"
   ]
  },
  {
   "cell_type": "code",
   "execution_count": 69,
   "id": "e8450845-f3af-4cd4-bb38-3dd4606935ac",
   "metadata": {},
   "outputs": [
    {
     "name": "stderr",
     "output_type": "stream",
     "text": [
      "Setting `pad_token_id` to `eos_token_id`:50256 for open-end generation.\n"
     ]
    },
    {
     "data": {
      "text/plain": [
       "'Заморские гнилые двери, закладывал и развивал замечательные традиции отечественного музыкального искусства. От души желаю Вам, уважаемыйЗаморские Гнилые, здоровья, благополучия и всего наилучшего. С уважением,Заморским Гнилым. КоллективуЗаморским Гнилымдрузья!Поздравляю вас с-летием созданияЗаморских Гнилых в году, ваш театр объединил на своей сценической площадке яркие творческие силы, сталкрупным культурным, просветительским центром Сибири. Здесь всегда царитатмосфера духовности и вдохновения, бережно хранятся и передаются из поколенияв поколение традиции подвижнического служения искусству. Отрадно, что вы бережно храните и продолжаете подвижнические традиции предшественников, достойно продолжаете подвижнические традиции беззаветного служения искусству, заложенные предками, подвижнического служения искусству. Сегодня театр ведёт активную гастрольную деятельность, участвует в крупных международных фестивалях, открыт для смелых, новаторских режиссёрских решений и ярких художественных экспериментов, получил высокие оценки коллег и зрителей. Его постановки, отличающиеся смелыми драматургов, режиссёров, композиторов, художников. Отрадно, что вы бережно храните и продолжаете подвижнические традиции любимому делу, заложенные предками, радуете публику интересными постановками, ведёте активную концертнымипроекты, ведёте большую просветительскую деятельность, радуете публику интересными премьерами, ведёте большую просветительскими, познавательными программами, ведёте большую просветительскими программами, грандиозными фестивалями. Желаю вам новых интересных проектов. Желаю вам и всего самого доброго.Заморским Гнилым. КоллективуЗаморским Гнилымдрузья!Поздравляю вас с юбилеемЗаморским Гнилым всего самого доброго. Впервые упомянутыйЗаморским Гнилым, которые отличаются высоким профессиональными, содержательными просветительскими, художественными событиями, ведёте активную концертными программами, ведёте активную концертными программами, ведёте большую просветительскими программами, ведёте большую просветительскими программами. Такая многогранную общественную деятельность, активная концертную деятельность, активная концертную деятельность, активное участие в жизни театра. Желаю вам и, конечно, здоровья и всего самого доброго.Заморским Гнилым. КоллективуЗаморским Гнилымдрузья!Поздравляю вас с-летиемЗаморским Гнилым. Сегодня, как и прежде, большая, многогранную просветительскими'"
      ]
     },
     "execution_count": 69,
     "metadata": {},
     "output_type": "execute_result"
    }
   ],
   "source": [
    "generate_congrat('Заморские гнилые')"
   ]
  },
  {
   "cell_type": "code",
   "execution_count": null,
   "id": "a38d56f0-53e5-4373-bb27-25e63e52d243",
   "metadata": {},
   "outputs": [],
   "source": []
  },
  {
   "cell_type": "code",
   "execution_count": null,
   "id": "da6055db-d695-4c00-9372-9e6dcfcb40f5",
   "metadata": {},
   "outputs": [],
   "source": []
  },
  {
   "cell_type": "code",
   "execution_count": null,
   "id": "7efa6874-86c8-4373-9a41-1ceb69d61411",
   "metadata": {},
   "outputs": [],
   "source": []
  },
  {
   "cell_type": "code",
   "execution_count": null,
   "id": "fdba5a52-db71-4914-b942-be5c8c8a5674",
   "metadata": {},
   "outputs": [],
   "source": [
    "a = torch.zeros(4, 4)"
   ]
  },
  {
   "cell_type": "code",
   "execution_count": null,
   "id": "bd4ff179-13fc-4911-a3d8-09663052870e",
   "metadata": {},
   "outputs": [],
   "source": [
    "a = a + 1.1"
   ]
  },
  {
   "cell_type": "code",
   "execution_count": null,
   "id": "eca339d5-7bbe-4de3-9e98-26c7638dc1bf",
   "metadata": {},
   "outputs": [],
   "source": [
    "b = a.cuda()"
   ]
  },
  {
   "cell_type": "code",
   "execution_count": null,
   "id": "37e18aff-f0b2-48f9-9bb1-80933ad3c28b",
   "metadata": {},
   "outputs": [],
   "source": [
    "b**2"
   ]
  },
  {
   "cell_type": "code",
   "execution_count": null,
   "id": "8e19b3de-a29f-4ddb-9986-b958c01005b7",
   "metadata": {},
   "outputs": [],
   "source": []
  }
 ],
 "metadata": {
  "kernelspec": {
   "display_name": "Python 3",
   "language": "python",
   "name": "python3"
  },
  "language_info": {
   "codemirror_mode": {
    "name": "ipython",
    "version": 3
   },
   "file_extension": ".py",
   "mimetype": "text/x-python",
   "name": "python",
   "nbconvert_exporter": "python",
   "pygments_lexer": "ipython3",
   "version": "3.8.8"
  }
 },
 "nbformat": 4,
 "nbformat_minor": 5
}
