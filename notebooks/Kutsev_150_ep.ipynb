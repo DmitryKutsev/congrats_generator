{
 "cells": [
  {
   "cell_type": "code",
   "execution_count": 9,
   "id": "8894e5b0-44ab-4658-8ac2-32d3e5458472",
   "metadata": {},
   "outputs": [
    {
     "name": "stdout",
     "output_type": "stream",
     "text": [
      "Requirement already satisfied: transformers in /opt/conda/lib/python3.8/site-packages (4.8.2)\n",
      "Collecting transformers\n",
      "  Downloading transformers-4.15.0-py3-none-any.whl (3.4 MB)\n",
      "\u001b[K     |████████████████████████████████| 3.4 MB 1.6 MB/s eta 0:00:01\n",
      "\u001b[?25hRequirement already satisfied: requests in /opt/conda/lib/python3.8/site-packages (from transformers) (2.25.1)\n",
      "Requirement already satisfied: numpy>=1.17 in /opt/conda/lib/python3.8/site-packages (from transformers) (1.21.0)\n",
      "Requirement already satisfied: packaging>=20.0 in /opt/conda/lib/python3.8/site-packages (from transformers) (21.0)\n",
      "Requirement already satisfied: regex!=2019.12.17 in /opt/conda/lib/python3.8/site-packages (from transformers) (2021.7.1)\n",
      "Requirement already satisfied: sacremoses in /opt/conda/lib/python3.8/site-packages (from transformers) (0.0.45)\n",
      "Requirement already satisfied: tokenizers<0.11,>=0.10.1 in /opt/conda/lib/python3.8/site-packages (from transformers) (0.10.3)\n",
      "Requirement already satisfied: tqdm>=4.27 in /opt/conda/lib/python3.8/site-packages (from transformers) (4.61.1)\n",
      "Requirement already satisfied: filelock in /opt/conda/lib/python3.8/site-packages (from transformers) (3.0.12)\n",
      "Collecting huggingface-hub<1.0,>=0.1.0\n",
      "  Downloading huggingface_hub-0.2.1-py3-none-any.whl (61 kB)\n",
      "\u001b[K     |████████████████████████████████| 61 kB 995 kB/s  eta 0:00:01\n",
      "\u001b[?25hRequirement already satisfied: pyyaml>=5.1 in /opt/conda/lib/python3.8/site-packages (from transformers) (5.4.1)\n",
      "Requirement already satisfied: typing-extensions>=3.7.4.3 in /opt/conda/lib/python3.8/site-packages (from huggingface-hub<1.0,>=0.1.0->transformers) (3.10.0.0)\n",
      "Requirement already satisfied: pyparsing>=2.0.2 in /opt/conda/lib/python3.8/site-packages (from packaging>=20.0->transformers) (2.4.7)\n",
      "Requirement already satisfied: idna<3,>=2.5 in /opt/conda/lib/python3.8/site-packages (from requests->transformers) (2.10)\n",
      "Requirement already satisfied: urllib3<1.27,>=1.21.1 in /opt/conda/lib/python3.8/site-packages (from requests->transformers) (1.26.6)\n",
      "Requirement already satisfied: chardet<5,>=3.0.2 in /opt/conda/lib/python3.8/site-packages (from requests->transformers) (4.0.0)\n",
      "Requirement already satisfied: certifi>=2017.4.17 in /opt/conda/lib/python3.8/site-packages (from requests->transformers) (2021.5.30)\n",
      "Requirement already satisfied: six in /opt/conda/lib/python3.8/site-packages (from sacremoses->transformers) (1.16.0)\n",
      "Requirement already satisfied: joblib in /opt/conda/lib/python3.8/site-packages (from sacremoses->transformers) (1.0.1)\n",
      "Requirement already satisfied: click in /opt/conda/lib/python3.8/site-packages (from sacremoses->transformers) (8.0.1)\n",
      "Installing collected packages: huggingface-hub, transformers\n",
      "  Attempting uninstall: huggingface-hub\n",
      "    Found existing installation: huggingface-hub 0.0.12\n",
      "    Uninstalling huggingface-hub-0.0.12:\n",
      "      Successfully uninstalled huggingface-hub-0.0.12\n",
      "  Attempting uninstall: transformers\n",
      "    Found existing installation: transformers 4.8.2\n",
      "    Uninstalling transformers-4.8.2:\n",
      "      Successfully uninstalled transformers-4.8.2\n",
      "\u001b[31mERROR: pip's dependency resolver does not currently take into account all the packages that are installed. This behaviour is the source of the following dependency conflicts.\n",
      "datasets 1.8.0 requires huggingface-hub<0.1.0, but you have huggingface-hub 0.2.1 which is incompatible.\n",
      "datasets 1.8.0 requires pyarrow<4.0.0,>=1.0.0, but you have pyarrow 4.0.1 which is incompatible.\n",
      "datasets 1.8.0 requires tqdm<4.50.0,>=4.27, but you have tqdm 4.61.1 which is incompatible.\u001b[0m\n",
      "Successfully installed huggingface-hub-0.2.1 transformers-4.15.0\n",
      "\u001b[33mWARNING: You are using pip version 21.1.3; however, version 21.3.1 is available.\n",
      "You should consider upgrading via the '/opt/conda/bin/python -m pip install --upgrade pip' command.\u001b[0m\n"
     ]
    }
   ],
   "source": [
    "!pip install transformers -U"
   ]
  },
  {
   "cell_type": "code",
   "execution_count": 228,
   "id": "7b6684ba-0543-489b-b4fb-060aa0fc3f07",
   "metadata": {},
   "outputs": [
    {
     "name": "stdout",
     "output_type": "stream",
     "text": [
      "Requirement already satisfied: spacy in /opt/conda/lib/python3.8/site-packages (3.2.1)\n",
      "Requirement already satisfied: cymem<2.1.0,>=2.0.2 in /opt/conda/lib/python3.8/site-packages (from spacy) (2.0.6)\n",
      "Requirement already satisfied: wasabi<1.1.0,>=0.8.1 in /opt/conda/lib/python3.8/site-packages (from spacy) (0.9.0)\n",
      "Requirement already satisfied: typer<0.5.0,>=0.3.0 in /opt/conda/lib/python3.8/site-packages (from spacy) (0.4.0)\n",
      "Requirement already satisfied: spacy-legacy<3.1.0,>=3.0.8 in /opt/conda/lib/python3.8/site-packages (from spacy) (3.0.8)\n",
      "Requirement already satisfied: preshed<3.1.0,>=3.0.2 in /opt/conda/lib/python3.8/site-packages (from spacy) (3.0.6)\n",
      "Requirement already satisfied: murmurhash<1.1.0,>=0.28.0 in /opt/conda/lib/python3.8/site-packages (from spacy) (1.0.6)\n",
      "Requirement already satisfied: jinja2 in /opt/conda/lib/python3.8/site-packages (from spacy) (3.0.1)\n",
      "Requirement already satisfied: pathy>=0.3.5 in /opt/conda/lib/python3.8/site-packages (from spacy) (0.6.1)\n",
      "Requirement already satisfied: setuptools in /opt/conda/lib/python3.8/site-packages (from spacy) (57.1.0)\n",
      "Requirement already satisfied: requests<3.0.0,>=2.13.0 in /opt/conda/lib/python3.8/site-packages (from spacy) (2.25.1)\n",
      "Requirement already satisfied: thinc<8.1.0,>=8.0.12 in /opt/conda/lib/python3.8/site-packages (from spacy) (8.0.13)\n",
      "Requirement already satisfied: pydantic!=1.8,!=1.8.1,<1.9.0,>=1.7.4 in /opt/conda/lib/python3.8/site-packages (from spacy) (1.8.2)\n",
      "Requirement already satisfied: blis<0.8.0,>=0.4.0 in /opt/conda/lib/python3.8/site-packages (from spacy) (0.7.5)\n",
      "Requirement already satisfied: spacy-loggers<2.0.0,>=1.0.0 in /opt/conda/lib/python3.8/site-packages (from spacy) (1.0.1)\n",
      "Requirement already satisfied: tqdm<5.0.0,>=4.38.0 in /opt/conda/lib/python3.8/site-packages (from spacy) (4.61.1)\n",
      "Requirement already satisfied: langcodes<4.0.0,>=3.2.0 in /opt/conda/lib/python3.8/site-packages (from spacy) (3.3.0)\n",
      "Requirement already satisfied: srsly<3.0.0,>=2.4.1 in /opt/conda/lib/python3.8/site-packages (from spacy) (2.4.2)\n",
      "Requirement already satisfied: catalogue<2.1.0,>=2.0.6 in /opt/conda/lib/python3.8/site-packages (from spacy) (2.0.6)\n",
      "Requirement already satisfied: numpy>=1.15.0 in /opt/conda/lib/python3.8/site-packages (from spacy) (1.21.0)\n",
      "Requirement already satisfied: packaging>=20.0 in /opt/conda/lib/python3.8/site-packages (from spacy) (21.0)\n",
      "Requirement already satisfied: pyparsing>=2.0.2 in /opt/conda/lib/python3.8/site-packages (from packaging>=20.0->spacy) (2.4.7)\n",
      "Requirement already satisfied: smart-open<6.0.0,>=5.0.0 in /opt/conda/lib/python3.8/site-packages (from pathy>=0.3.5->spacy) (5.2.1)\n",
      "Requirement already satisfied: typing-extensions>=3.7.4.3 in /opt/conda/lib/python3.8/site-packages (from pydantic!=1.8,!=1.8.1,<1.9.0,>=1.7.4->spacy) (3.10.0.0)\n",
      "Requirement already satisfied: certifi>=2017.4.17 in /opt/conda/lib/python3.8/site-packages (from requests<3.0.0,>=2.13.0->spacy) (2021.5.30)\n",
      "Requirement already satisfied: urllib3<1.27,>=1.21.1 in /opt/conda/lib/python3.8/site-packages (from requests<3.0.0,>=2.13.0->spacy) (1.26.6)\n",
      "Requirement already satisfied: chardet<5,>=3.0.2 in /opt/conda/lib/python3.8/site-packages (from requests<3.0.0,>=2.13.0->spacy) (4.0.0)\n",
      "Requirement already satisfied: idna<3,>=2.5 in /opt/conda/lib/python3.8/site-packages (from requests<3.0.0,>=2.13.0->spacy) (2.10)\n",
      "Requirement already satisfied: click<9.0.0,>=7.1.1 in /opt/conda/lib/python3.8/site-packages (from typer<0.5.0,>=0.3.0->spacy) (8.0.1)\n",
      "Requirement already satisfied: MarkupSafe>=2.0 in /opt/conda/lib/python3.8/site-packages (from jinja2->spacy) (2.0.1)\n",
      "\u001b[33mWARNING: You are using pip version 21.1.3; however, version 21.3.1 is available.\n",
      "You should consider upgrading via the '/opt/conda/bin/python -m pip install --upgrade pip' command.\u001b[0m\n",
      "Note: you may need to restart the kernel to use updated packages.\n"
     ]
    }
   ],
   "source": [
    "pip install spacy"
   ]
  },
  {
   "cell_type": "code",
   "execution_count": 232,
   "id": "2c7ed061-010d-4b5e-891a-e9b00ba26fe0",
   "metadata": {},
   "outputs": [
    {
     "name": "stdout",
     "output_type": "stream",
     "text": [
      "Collecting ru-core-news-sm==3.2.0\n",
      "  Downloading https://github.com/explosion/spacy-models/releases/download/ru_core_news_sm-3.2.0/ru_core_news_sm-3.2.0-py3-none-any.whl (16.4 MB)\n",
      "\u001b[K     |████████████████████████████████| 16.4 MB 1.6 MB/s eta 0:00:01\n",
      "\u001b[?25hRequirement already satisfied: spacy<3.3.0,>=3.2.0 in /opt/conda/lib/python3.8/site-packages (from ru-core-news-sm==3.2.0) (3.2.1)\n",
      "Requirement already satisfied: pymorphy2>=0.9 in /opt/conda/lib/python3.8/site-packages (from ru-core-news-sm==3.2.0) (0.9.1)\n",
      "Requirement already satisfied: dawg-python>=0.7.1 in /opt/conda/lib/python3.8/site-packages (from pymorphy2>=0.9->ru-core-news-sm==3.2.0) (0.7.2)\n",
      "Requirement already satisfied: pymorphy2-dicts-ru<3.0,>=2.4 in /opt/conda/lib/python3.8/site-packages (from pymorphy2>=0.9->ru-core-news-sm==3.2.0) (2.4.417127.4579844)\n",
      "Requirement already satisfied: docopt>=0.6 in /opt/conda/lib/python3.8/site-packages (from pymorphy2>=0.9->ru-core-news-sm==3.2.0) (0.6.2)\n",
      "Requirement already satisfied: packaging>=20.0 in /opt/conda/lib/python3.8/site-packages (from spacy<3.3.0,>=3.2.0->ru-core-news-sm==3.2.0) (21.0)\n",
      "Requirement already satisfied: spacy-loggers<2.0.0,>=1.0.0 in /opt/conda/lib/python3.8/site-packages (from spacy<3.3.0,>=3.2.0->ru-core-news-sm==3.2.0) (1.0.1)\n",
      "Requirement already satisfied: cymem<2.1.0,>=2.0.2 in /opt/conda/lib/python3.8/site-packages (from spacy<3.3.0,>=3.2.0->ru-core-news-sm==3.2.0) (2.0.6)\n",
      "Requirement already satisfied: langcodes<4.0.0,>=3.2.0 in /opt/conda/lib/python3.8/site-packages (from spacy<3.3.0,>=3.2.0->ru-core-news-sm==3.2.0) (3.3.0)\n",
      "Requirement already satisfied: numpy>=1.15.0 in /opt/conda/lib/python3.8/site-packages (from spacy<3.3.0,>=3.2.0->ru-core-news-sm==3.2.0) (1.21.0)\n",
      "Requirement already satisfied: thinc<8.1.0,>=8.0.12 in /opt/conda/lib/python3.8/site-packages (from spacy<3.3.0,>=3.2.0->ru-core-news-sm==3.2.0) (8.0.13)\n",
      "Requirement already satisfied: jinja2 in /opt/conda/lib/python3.8/site-packages (from spacy<3.3.0,>=3.2.0->ru-core-news-sm==3.2.0) (3.0.1)\n",
      "Requirement already satisfied: blis<0.8.0,>=0.4.0 in /opt/conda/lib/python3.8/site-packages (from spacy<3.3.0,>=3.2.0->ru-core-news-sm==3.2.0) (0.7.5)\n",
      "Requirement already satisfied: spacy-legacy<3.1.0,>=3.0.8 in /opt/conda/lib/python3.8/site-packages (from spacy<3.3.0,>=3.2.0->ru-core-news-sm==3.2.0) (3.0.8)\n",
      "Requirement already satisfied: tqdm<5.0.0,>=4.38.0 in /opt/conda/lib/python3.8/site-packages (from spacy<3.3.0,>=3.2.0->ru-core-news-sm==3.2.0) (4.61.1)\n",
      "Requirement already satisfied: preshed<3.1.0,>=3.0.2 in /opt/conda/lib/python3.8/site-packages (from spacy<3.3.0,>=3.2.0->ru-core-news-sm==3.2.0) (3.0.6)\n",
      "Requirement already satisfied: pathy>=0.3.5 in /opt/conda/lib/python3.8/site-packages (from spacy<3.3.0,>=3.2.0->ru-core-news-sm==3.2.0) (0.6.1)\n",
      "Requirement already satisfied: requests<3.0.0,>=2.13.0 in /opt/conda/lib/python3.8/site-packages (from spacy<3.3.0,>=3.2.0->ru-core-news-sm==3.2.0) (2.25.1)\n",
      "Requirement already satisfied: srsly<3.0.0,>=2.4.1 in /opt/conda/lib/python3.8/site-packages (from spacy<3.3.0,>=3.2.0->ru-core-news-sm==3.2.0) (2.4.2)\n",
      "Requirement already satisfied: pydantic!=1.8,!=1.8.1,<1.9.0,>=1.7.4 in /opt/conda/lib/python3.8/site-packages (from spacy<3.3.0,>=3.2.0->ru-core-news-sm==3.2.0) (1.8.2)\n",
      "Requirement already satisfied: murmurhash<1.1.0,>=0.28.0 in /opt/conda/lib/python3.8/site-packages (from spacy<3.3.0,>=3.2.0->ru-core-news-sm==3.2.0) (1.0.6)\n",
      "Requirement already satisfied: typer<0.5.0,>=0.3.0 in /opt/conda/lib/python3.8/site-packages (from spacy<3.3.0,>=3.2.0->ru-core-news-sm==3.2.0) (0.4.0)\n",
      "Requirement already satisfied: wasabi<1.1.0,>=0.8.1 in /opt/conda/lib/python3.8/site-packages (from spacy<3.3.0,>=3.2.0->ru-core-news-sm==3.2.0) (0.9.0)\n",
      "Requirement already satisfied: catalogue<2.1.0,>=2.0.6 in /opt/conda/lib/python3.8/site-packages (from spacy<3.3.0,>=3.2.0->ru-core-news-sm==3.2.0) (2.0.6)\n",
      "Requirement already satisfied: setuptools in /opt/conda/lib/python3.8/site-packages (from spacy<3.3.0,>=3.2.0->ru-core-news-sm==3.2.0) (57.1.0)\n",
      "Requirement already satisfied: pyparsing>=2.0.2 in /opt/conda/lib/python3.8/site-packages (from packaging>=20.0->spacy<3.3.0,>=3.2.0->ru-core-news-sm==3.2.0) (2.4.7)\n",
      "Requirement already satisfied: smart-open<6.0.0,>=5.0.0 in /opt/conda/lib/python3.8/site-packages (from pathy>=0.3.5->spacy<3.3.0,>=3.2.0->ru-core-news-sm==3.2.0) (5.2.1)\n",
      "Requirement already satisfied: typing-extensions>=3.7.4.3 in /opt/conda/lib/python3.8/site-packages (from pydantic!=1.8,!=1.8.1,<1.9.0,>=1.7.4->spacy<3.3.0,>=3.2.0->ru-core-news-sm==3.2.0) (3.10.0.0)\n",
      "Requirement already satisfied: urllib3<1.27,>=1.21.1 in /opt/conda/lib/python3.8/site-packages (from requests<3.0.0,>=2.13.0->spacy<3.3.0,>=3.2.0->ru-core-news-sm==3.2.0) (1.26.6)\n",
      "Requirement already satisfied: idna<3,>=2.5 in /opt/conda/lib/python3.8/site-packages (from requests<3.0.0,>=2.13.0->spacy<3.3.0,>=3.2.0->ru-core-news-sm==3.2.0) (2.10)\n",
      "Requirement already satisfied: chardet<5,>=3.0.2 in /opt/conda/lib/python3.8/site-packages (from requests<3.0.0,>=2.13.0->spacy<3.3.0,>=3.2.0->ru-core-news-sm==3.2.0) (4.0.0)\n",
      "Requirement already satisfied: certifi>=2017.4.17 in /opt/conda/lib/python3.8/site-packages (from requests<3.0.0,>=2.13.0->spacy<3.3.0,>=3.2.0->ru-core-news-sm==3.2.0) (2021.5.30)\n",
      "Requirement already satisfied: click<9.0.0,>=7.1.1 in /opt/conda/lib/python3.8/site-packages (from typer<0.5.0,>=0.3.0->spacy<3.3.0,>=3.2.0->ru-core-news-sm==3.2.0) (8.0.1)\n",
      "Requirement already satisfied: MarkupSafe>=2.0 in /opt/conda/lib/python3.8/site-packages (from jinja2->spacy<3.3.0,>=3.2.0->ru-core-news-sm==3.2.0) (2.0.1)\n",
      "Installing collected packages: ru-core-news-sm\n",
      "Successfully installed ru-core-news-sm-3.2.0\n",
      "\u001b[33mWARNING: You are using pip version 21.1.3; however, version 21.3.1 is available.\n",
      "You should consider upgrading via the '/opt/conda/bin/python -m pip install --upgrade pip' command.\u001b[0m\n",
      "\u001b[38;5;2m✔ Download and installation successful\u001b[0m\n",
      "You can now load the package via spacy.load('ru_core_news_sm')\n"
     ]
    }
   ],
   "source": [
    "!python -m spacy download ru_core_news_sm"
   ]
  },
  {
   "cell_type": "code",
   "execution_count": 130,
   "id": "cf7be341-c91f-47d2-884a-55ee12413f21",
   "metadata": {},
   "outputs": [
    {
     "name": "stdout",
     "output_type": "stream",
     "text": [
      "Requirement already satisfied: pymorphy2[fast] in /opt/conda/lib/python3.8/site-packages (0.9.1)\n",
      "Requirement already satisfied: docopt>=0.6 in /opt/conda/lib/python3.8/site-packages (from pymorphy2[fast]) (0.6.2)\n",
      "Requirement already satisfied: dawg-python>=0.7.1 in /opt/conda/lib/python3.8/site-packages (from pymorphy2[fast]) (0.7.2)\n",
      "Requirement already satisfied: pymorphy2-dicts-ru<3.0,>=2.4 in /opt/conda/lib/python3.8/site-packages (from pymorphy2[fast]) (2.4.417127.4579844)\n",
      "Collecting DAWG>=0.8\n",
      "  Downloading DAWG-0.8.0.tar.gz (371 kB)\n",
      "\u001b[K     |████████████████████████████████| 371 kB 1.7 MB/s eta 0:00:01\n",
      "\u001b[?25hBuilding wheels for collected packages: DAWG\n",
      "  Building wheel for DAWG (setup.py) ... \u001b[?25ldone\n",
      "\u001b[?25h  Created wheel for DAWG: filename=DAWG-0.8.0-cp38-cp38-linux_x86_64.whl size=1331883 sha256=b0af43c59afd9ea24ae6acee2ff383ca2ca3259bba6d73af27b41feae181ece1\n",
      "  Stored in directory: /home/mdurinov/.cache/pip/wheels/1c/e6/8f/313a7ccc57b29a7affb7205664277a1d5ebe73bf600a69a615\n",
      "Successfully built DAWG\n",
      "Installing collected packages: DAWG\n",
      "Successfully installed DAWG-0.8.0\n",
      "\u001b[33mWARNING: You are using pip version 21.1.3; however, version 21.3.1 is available.\n",
      "You should consider upgrading via the '/opt/conda/bin/python -m pip install --upgrade pip' command.\u001b[0m\n"
     ]
    }
   ],
   "source": [
    "!pip install pymorphy2[fast]"
   ]
  },
  {
   "cell_type": "code",
   "execution_count": 31,
   "id": "6b3049da-96b6-4b92-9410-110a0bb42005",
   "metadata": {},
   "outputs": [
    {
     "name": "stdout",
     "output_type": "stream",
     "text": [
      "Cloning into 'ru-gpts'...\n",
      "remote: Enumerating objects: 683, done.\u001b[K\n",
      "remote: Counting objects: 100% (178/178), done.\u001b[K\n",
      "remote: Compressing objects: 100% (94/94), done.\u001b[K\n",
      "remote: Total 683 (delta 110), reused 141 (delta 83), pack-reused 505\u001b[K\n",
      "Receiving objects: 100% (683/683), 413.81 KiB | 3.09 MiB/s, done.\n",
      "Resolving deltas: 100% (410/410), done.\n"
     ]
    }
   ],
   "source": [
    "!git clone  https://github.com/sberbank-ai/ru-gpts"
   ]
  },
  {
   "cell_type": "code",
   "execution_count": 10,
   "id": "ae3dbd22-95b6-4512-aa6e-db3d8c2183df",
   "metadata": {},
   "outputs": [
    {
     "name": "stdout",
     "output_type": "stream",
     "text": [
      "Cloning into 'transformers'...\n",
      "remote: Enumerating objects: 94997, done.\u001b[K\n",
      "remote: Counting objects: 100% (8/8), done.\u001b[K\n",
      "remote: Compressing objects: 100% (7/7), done.\u001b[K\n",
      "remote: Total 94997 (delta 0), reused 1 (delta 0), pack-reused 94989\u001b[K\n",
      "Receiving objects: 100% (94997/94997), 80.13 MiB | 23.25 MiB/s, done.\n",
      "Resolving deltas: 100% (68962/68962), done.\n"
     ]
    }
   ],
   "source": [
    "!git clone https://github.com/huggingface/transformers.git"
   ]
  },
  {
   "cell_type": "code",
   "execution_count": 11,
   "id": "a480625b-a43e-4000-9ea2-0773e0f32ca2",
   "metadata": {},
   "outputs": [
    {
     "name": "stdout",
     "output_type": "stream",
     "text": [
      "Collecting natasha\n",
      "  Downloading natasha-1.4.0-py3-none-any.whl (34.4 MB)\n",
      "\u001b[K     |████████████████████████████████| 34.4 MB 1.6 MB/s eta 0:00:01\n",
      "\u001b[?25hCollecting razdel>=0.5.0\n",
      "  Downloading razdel-0.5.0-py3-none-any.whl (21 kB)\n",
      "Collecting yargy>=0.14.0\n",
      "  Downloading yargy-0.15.0-py3-none-any.whl (41 kB)\n",
      "\u001b[K     |████████████████████████████████| 41 kB 237 kB/s  eta 0:00:01\n",
      "\u001b[?25hCollecting ipymarkup>=0.8.0\n",
      "  Downloading ipymarkup-0.9.0-py3-none-any.whl (14 kB)\n",
      "Collecting pymorphy2\n",
      "  Downloading pymorphy2-0.9.1-py3-none-any.whl (55 kB)\n",
      "\u001b[K     |████████████████████████████████| 55 kB 6.9 MB/s  eta 0:00:01\n",
      "\u001b[?25hCollecting navec>=0.9.0\n",
      "  Downloading navec-0.10.0-py3-none-any.whl (23 kB)\n",
      "Collecting slovnet>=0.3.0\n",
      "  Downloading slovnet-0.5.0-py3-none-any.whl (49 kB)\n",
      "\u001b[K     |████████████████████████████████| 49 kB 9.8 MB/s  eta 0:00:01\n",
      "\u001b[?25hCollecting intervaltree>=3\n",
      "  Downloading intervaltree-3.1.0.tar.gz (32 kB)\n",
      "Collecting sortedcontainers<3.0,>=2.0\n",
      "  Downloading sortedcontainers-2.4.0-py2.py3-none-any.whl (29 kB)\n",
      "Requirement already satisfied: numpy in /opt/conda/lib/python3.8/site-packages (from navec>=0.9.0->natasha) (1.21.0)\n",
      "Collecting docopt>=0.6\n",
      "  Downloading docopt-0.6.2.tar.gz (25 kB)\n",
      "Collecting pymorphy2-dicts-ru<3.0,>=2.4\n",
      "  Downloading pymorphy2_dicts_ru-2.4.417127.4579844-py2.py3-none-any.whl (8.2 MB)\n",
      "\u001b[K     |████████████████████████████████| 8.2 MB 37.1 MB/s eta 0:00:01\n",
      "\u001b[?25hCollecting dawg-python>=0.7.1\n",
      "  Downloading DAWG_Python-0.7.2-py2.py3-none-any.whl (11 kB)\n",
      "Building wheels for collected packages: intervaltree, docopt\n",
      "  Building wheel for intervaltree (setup.py) ... \u001b[?25ldone\n",
      "\u001b[?25h  Created wheel for intervaltree: filename=intervaltree-3.1.0-py2.py3-none-any.whl size=26119 sha256=77784b81602c462c719f158d9a1d1267e21d1a19c7f98b26f46969f1107464f7\n",
      "  Stored in directory: /home/mdurinov/.cache/pip/wheels/45/23/de/5789a92962483fd33cb06674792b9697c1b3766d7c7742830e\n",
      "  Building wheel for docopt (setup.py) ... \u001b[?25ldone\n",
      "\u001b[?25h  Created wheel for docopt: filename=docopt-0.6.2-py2.py3-none-any.whl size=13723 sha256=1cb21b46e719c7ed8cba24c154b2df10732d2175433439b6af999940737a748c\n",
      "  Stored in directory: /home/mdurinov/.cache/pip/wheels/56/ea/58/ead137b087d9e326852a851351d1debf4ada529b6ac0ec4e8c\n",
      "Successfully built intervaltree docopt\n",
      "Installing collected packages: sortedcontainers, pymorphy2-dicts-ru, docopt, dawg-python, razdel, pymorphy2, navec, intervaltree, yargy, slovnet, ipymarkup, natasha\n",
      "Successfully installed dawg-python-0.7.2 docopt-0.6.2 intervaltree-3.1.0 ipymarkup-0.9.0 natasha-1.4.0 navec-0.10.0 pymorphy2-0.9.1 pymorphy2-dicts-ru-2.4.417127.4579844 razdel-0.5.0 slovnet-0.5.0 sortedcontainers-2.4.0 yargy-0.15.0\n",
      "\u001b[33mWARNING: You are using pip version 21.1.3; however, version 21.3.1 is available.\n",
      "You should consider upgrading via the '/opt/conda/bin/python -m pip install --upgrade pip' command.\u001b[0m\n"
     ]
    }
   ],
   "source": [
    "!pip install natasha"
   ]
  },
  {
   "cell_type": "code",
   "execution_count": 12,
   "id": "76c8ced6-26a6-48d8-a5a4-8b2cb6bf89da",
   "metadata": {},
   "outputs": [],
   "source": [
    "from natasha import (   \n",
    "    MorphVocab,\n",
    "    NewsNERTagger,\n",
    "    NamesExtractor,\n",
    "    MorphVocab,\n",
    "    Segmenter, \n",
    "    NewsEmbedding,\n",
    "    PER,\n",
    "    Doc,\n",
    "    ORG\n",
    ")"
   ]
  },
  {
   "cell_type": "code",
   "execution_count": 101,
   "id": "23138a22-1702-461d-8c14-1004c65257b3",
   "metadata": {},
   "outputs": [],
   "source": [
    "from transformers import (GPT2LMHeadModel, GPT2Tokenizer,\n",
    "                          TextDataset, DataCollatorForLanguageModeling,\n",
    "                          Trainer, TrainingArguments, AutoModelWithLMHead, pipeline)"
   ]
  },
  {
   "cell_type": "code",
   "execution_count": 32,
   "id": "7b74e012-3b06-40a5-a137-e2837e1b4fb6",
   "metadata": {},
   "outputs": [],
   "source": [
    "from datasets import load_dataset\n",
    "from sklearn.model_selection import train_test_split\n",
    "import re"
   ]
  },
  {
   "cell_type": "code",
   "execution_count": 8,
   "id": "da86a891-7fb4-41ab-a30c-a9c8e12ee11d",
   "metadata": {},
   "outputs": [],
   "source": [
    "import torch\n",
    "import pandas as pd"
   ]
  },
  {
   "cell_type": "code",
   "execution_count": 36,
   "id": "12e07810-efa0-4c7e-946e-5e21d4906bca",
   "metadata": {},
   "outputs": [],
   "source": [
    "import numpy as np"
   ]
  },
  {
   "cell_type": "code",
   "execution_count": 129,
   "id": "84cd6173-4ac2-4eab-801e-beb14e3ed4db",
   "metadata": {},
   "outputs": [],
   "source": [
    "import pymorphy2"
   ]
  },
  {
   "cell_type": "code",
   "execution_count": 567,
   "id": "4132de40-18f9-45af-94bf-2fc303debc2a",
   "metadata": {},
   "outputs": [],
   "source": [
    "import spacy"
   ]
  },
  {
   "cell_type": "markdown",
   "id": "bcaabe5a-abf2-465a-86c6-f20c97542eb0",
   "metadata": {},
   "source": [
    "**Открываем файл с текстами, которые скачал скрапер. Размер файла не большой, что позволяет считать все в одну переменную.**"
   ]
  },
  {
   "cell_type": "code",
   "execution_count": 148,
   "id": "59d0c6e7-68b5-44b0-84f3-3d369bbf10ad",
   "metadata": {},
   "outputs": [
    {
     "data": {
      "text/plain": [
       "'\\nTITLE\\nЭдварду Радзинскому, писателю, драматургу, сценаристу\\nCONTENT\\n Уважаемый Эдвард Станиславович!Примите поздравления с\\xa085-летием.Человек многогранного дарования и\\xa0большой созидательной энергии, Вы по\\xa0праву входите в\\xa0число признанных\\nдраматургов, мастеров современного театрального искусства. И\\xa0конечно, Вас\\nхорошо знают и\\xa0любят как автора целого ряда просветительских проектов, чьё\\nтворчество завоевало сердца самой широкой аудитории, в\\xa0том числе молодёжи.Желаю доброго здоровья, благополучия и\\xa0бодрости\\nдуха. Владимир Путин     Статус материала Опубликован в\\xa0разделе: Телеграммы  Ссылка на материал: kremlin.ru/d/66751   Текстовая версия      \\nEND\\n\\nTITLE\\nКоллективу радиостанции «Орфей»\\nCONTENT\\n Дорогие друзья!Поздравляю вас со\\xa0знаменательным юбилеем\\xa0– 30-летием радиостанции «Орфей».Все эти годы ваш коллектив объединяет настоящих единомышленников, профессионалов, преданных высокому искусству, стремящихся внести свой вклад в\\xa0сбережение лучших традиций отечественной культуры. Вы сформировал'"
      ]
     },
     "execution_count": 148,
     "metadata": {},
     "output_type": "execute_result"
    }
   ],
   "source": [
    "with open('curr_congrats.txt') as handler:\n",
    "    full_text = handler.read()\n",
    "full_text[:1000]"
   ]
  },
  {
   "cell_type": "raw",
   "id": "0021b489-d012-4ea4-8c72-0944d2d98d20",
   "metadata": {},
   "source": []
  },
  {
   "cell_type": "markdown",
   "id": "92d2c01a-5d28-40dc-8c9d-be9ff1faf34d",
   "metadata": {},
   "source": [
    "**Поздравления разделены разметкой на заголовки и сами поздравления. Заголовок содержит адресат (кого поздравляют) и выделен разметкой \"TITLE\". Разметка \"CONTENT\" отделяет содержание поздравления.**\n",
    "*(Это не использовалось при обучении, но теоретически можно было, поэтому разделение осталось.)*\n",
    "\n",
    "**Аннотация \"END\" обозначает конец целого поздравления (\"TITLE\" + \"CONTENT\").**"
   ]
  },
  {
   "cell_type": "code",
   "execution_count": 149,
   "id": "803efabd-823a-456d-83d0-23dbf9db796e",
   "metadata": {},
   "outputs": [
    {
     "name": "stdout",
     "output_type": "stream",
     "text": [
      "Сопоставим адресат и поздравление:\n",
      "\n",
      "['Эдварду Радзинскому, писателю, драматургу, сценаристу']\n",
      "[' Уважаемый Эдвард Станиславович!Примите поздравления с\\xa085-летием.Человек многогранного дарования и\\xa0большой созидательной энергии, Вы по\\xa0праву входите в\\xa0число признанныхдраматургов, мастеров современного театрального искусства. И\\xa0конечно, Васхорошо знают и\\xa0любят как автора целого ряда просветительских проектов, чьётворчество завоевало сердца самой широкой аудитории, в\\xa0том числе молодёжи.Желаю доброго здоровья, благополучия и\\xa0бодростидуха. Владимир Путин     Статус материала Опубликован в\\xa0разделе: Телеграммы  Ссылка на материал: kremlin.ru/d/66751   Текстовая версия      ']\n",
      "\n",
      "Проверка количества адресатов 888\n",
      "Проверка количества поздравлений 888\n"
     ]
    }
   ],
   "source": [
    "titles_list = []\n",
    "congrats_list = []\n",
    "\n",
    "for letter in full_text.split('END'):\n",
    "    letter = letter.replace('\\n', '').replace('TITLE', '')\n",
    "\n",
    "    if len(letter.split('CONTENT')) > 1:\n",
    "        titles_list.append(letter.split('CONTENT')[0])\n",
    "        congrats_list.append(letter.split('CONTENT')[1])\n",
    "\n",
    "print(\"Сопоставим адресат и поздравление:\\n\")\n",
    "print(titles_list[:1])\n",
    "print(congrats_list[:1])\n",
    "print(\"\\nПроверка количества адресатов\", len(titles_list))\n",
    "print(\"Проверка количества поздравлений\", len(congrats_list))"
   ]
  },
  {
   "cell_type": "raw",
   "id": "f55dee22-4b1f-438a-bef5-1588377bd845",
   "metadata": {},
   "source": []
  },
  {
   "cell_type": "markdown",
   "id": "8b03f992-9392-46da-a686-a96526a15091",
   "metadata": {},
   "source": [
    "**Сделаем датасет и добавим в него колонку с суммарными данными:**"
   ]
  },
  {
   "cell_type": "code",
   "execution_count": 172,
   "id": "80db04bd-21ed-4dc4-8923-bc6201697b59",
   "metadata": {},
   "outputs": [
    {
     "data": {
      "text/html": [
       "<div>\n",
       "<style scoped>\n",
       "    .dataframe tbody tr th:only-of-type {\n",
       "        vertical-align: middle;\n",
       "    }\n",
       "\n",
       "    .dataframe tbody tr th {\n",
       "        vertical-align: top;\n",
       "    }\n",
       "\n",
       "    .dataframe thead th {\n",
       "        text-align: right;\n",
       "    }\n",
       "</style>\n",
       "<table border=\"1\" class=\"dataframe\">\n",
       "  <thead>\n",
       "    <tr style=\"text-align: right;\">\n",
       "      <th></th>\n",
       "      <th>Title</th>\n",
       "      <th>Content</th>\n",
       "      <th>Sum</th>\n",
       "    </tr>\n",
       "  </thead>\n",
       "  <tbody>\n",
       "    <tr>\n",
       "      <th>0</th>\n",
       "      <td>Эдварду Радзинскому, писателю, драматургу, сце...</td>\n",
       "      <td>Уважаемый Эдвард Станиславович!Примите поздра...</td>\n",
       "      <td>Эдварду Радзинскому, писателю, драматургу, сце...</td>\n",
       "    </tr>\n",
       "    <tr>\n",
       "      <th>1</th>\n",
       "      <td>Коллективу радиостанции «Орфей»</td>\n",
       "      <td>Дорогие друзья!Поздравляю вас со знаменательн...</td>\n",
       "      <td>Коллективу радиостанции «Орфей» Дорогие друзья...</td>\n",
       "    </tr>\n",
       "    <tr>\n",
       "      <th>2</th>\n",
       "      <td>Михаилу Ковальчуку, президенту НИЦ «Курчатовск...</td>\n",
       "      <td>Уважаемый Михаил Валентинович!Примите мои поз...</td>\n",
       "      <td>Михаилу Ковальчуку, президенту НИЦ «Курчатовск...</td>\n",
       "    </tr>\n",
       "    <tr>\n",
       "      <th>3</th>\n",
       "      <td>Ирине Андреевой и Ивану Штылю, победителям чем...</td>\n",
       "      <td>Уважаемые Ирина Александровна и Иван Александ...</td>\n",
       "      <td>Ирине Андреевой и Ивану Штылю, победителям чем...</td>\n",
       "    </tr>\n",
       "    <tr>\n",
       "      <th>4</th>\n",
       "      <td>Работникам и ветеранам оборонно-промышленного ...</td>\n",
       "      <td>Уважаемые друзья!Поздравляю вас с Днём оружей...</td>\n",
       "      <td>Работникам и ветеранам оборонно-промышленного ...</td>\n",
       "    </tr>\n",
       "    <tr>\n",
       "      <th>...</th>\n",
       "      <td>...</td>\n",
       "      <td>...</td>\n",
       "      <td>...</td>\n",
       "    </tr>\n",
       "    <tr>\n",
       "      <th>883</th>\n",
       "      <td>Жителям Республики Мордовия</td>\n",
       "      <td>Дорогие друзья!Поздравляю вас с юбилеем – 75-...</td>\n",
       "      <td>Жителям Республики Мордовия Дорогие друзья!Поз...</td>\n",
       "    </tr>\n",
       "    <tr>\n",
       "      <th>884</th>\n",
       "      <td>Коллективу Института физических проблем им.П.Л...</td>\n",
       "      <td>Поздравляю коллектив института с 70-летием со...</td>\n",
       "      <td>Коллективу Института физических проблем им.П.Л...</td>\n",
       "    </tr>\n",
       "    <tr>\n",
       "      <th>885</th>\n",
       "      <td>Жителям Красноярского края</td>\n",
       "      <td>Уважаемые друзья!Поздравляю вас с 70-летием с...</td>\n",
       "      <td>Жителям Красноярского края Уважаемые друзья!По...</td>\n",
       "    </tr>\n",
       "    <tr>\n",
       "      <th>886</th>\n",
       "      <td>В.А.ЛОГИНОВУ</td>\n",
       "      <td>Уважаемый Владимир Александрович!Поздравляю В...</td>\n",
       "      <td>В.А.ЛОГИНОВУ Уважаемый Владимир Александрович!...</td>\n",
       "    </tr>\n",
       "    <tr>\n",
       "      <th>887</th>\n",
       "      <td>Патриарху Московскому и всея Руси Алексию II</td>\n",
       "      <td>Ваше Святейшество!От всего сердца поздравляю ...</td>\n",
       "      <td>Патриарху Московскому и всея Руси Алексию II В...</td>\n",
       "    </tr>\n",
       "  </tbody>\n",
       "</table>\n",
       "<p>888 rows × 3 columns</p>\n",
       "</div>"
      ],
      "text/plain": [
       "                                                 Title  \\\n",
       "0    Эдварду Радзинскому, писателю, драматургу, сце...   \n",
       "1                      Коллективу радиостанции «Орфей»   \n",
       "2    Михаилу Ковальчуку, президенту НИЦ «Курчатовск...   \n",
       "3    Ирине Андреевой и Ивану Штылю, победителям чем...   \n",
       "4    Работникам и ветеранам оборонно-промышленного ...   \n",
       "..                                                 ...   \n",
       "883                        Жителям Республики Мордовия   \n",
       "884  Коллективу Института физических проблем им.П.Л...   \n",
       "885                         Жителям Красноярского края   \n",
       "886                                       В.А.ЛОГИНОВУ   \n",
       "887       Патриарху Московскому и всея Руси Алексию II   \n",
       "\n",
       "                                               Content  \\\n",
       "0     Уважаемый Эдвард Станиславович!Примите поздра...   \n",
       "1     Дорогие друзья!Поздравляю вас со знаменательн...   \n",
       "2     Уважаемый Михаил Валентинович!Примите мои поз...   \n",
       "3     Уважаемые Ирина Александровна и Иван Александ...   \n",
       "4     Уважаемые друзья!Поздравляю вас с Днём оружей...   \n",
       "..                                                 ...   \n",
       "883   Дорогие друзья!Поздравляю вас с юбилеем – 75-...   \n",
       "884   Поздравляю коллектив института с 70-летием со...   \n",
       "885   Уважаемые друзья!Поздравляю вас с 70-летием с...   \n",
       "886   Уважаемый Владимир Александрович!Поздравляю В...   \n",
       "887   Ваше Святейшество!От всего сердца поздравляю ...   \n",
       "\n",
       "                                                   Sum  \n",
       "0    Эдварду Радзинскому, писателю, драматургу, сце...  \n",
       "1    Коллективу радиостанции «Орфей» Дорогие друзья...  \n",
       "2    Михаилу Ковальчуку, президенту НИЦ «Курчатовск...  \n",
       "3    Ирине Андреевой и Ивану Штылю, победителям чем...  \n",
       "4    Работникам и ветеранам оборонно-промышленного ...  \n",
       "..                                                 ...  \n",
       "883  Жителям Республики Мордовия Дорогие друзья!Поз...  \n",
       "884  Коллективу Института физических проблем им.П.Л...  \n",
       "885  Жителям Красноярского края Уважаемые друзья!По...  \n",
       "886  В.А.ЛОГИНОВУ Уважаемый Владимир Александрович!...  \n",
       "887  Патриарху Московскому и всея Руси Алексию II В...  \n",
       "\n",
       "[888 rows x 3 columns]"
      ]
     },
     "execution_count": 172,
     "metadata": {},
     "output_type": "execute_result"
    }
   ],
   "source": [
    "data = {'Title': titles_list,\n",
    "        'Content': congrats_list}\n",
    "\n",
    "my_df = pd.DataFrame(data)\n",
    "my_df['Sum'] = [my_df['Title'].tolist()[i] + my_df['Content'].tolist()[i]\n",
    "                for i in range(len(my_df))]\n",
    "my_df"
   ]
  },
  {
   "cell_type": "markdown",
   "id": "37f9aa5a-21db-4cff-bb9e-868248380a18",
   "metadata": {},
   "source": [
    "**Очистим суммарную колонку от лишних символов**"
   ]
  },
  {
   "cell_type": "code",
   "execution_count": 173,
   "id": "b8cd1fd7-fcd6-4516-9524-be7cf287e842",
   "metadata": {},
   "outputs": [],
   "source": [
    "new_sum = []\n",
    "\n",
    "for summary in my_df[\"Sum\"]:\n",
    "    # print(summary)\n",
    "    summary = str(summary).strip()\n",
    "    summary = re.sub(r\"\\s\", \" \", summary)\n",
    "    summary = re.sub(r\"\\n\", \"\", summary)\n",
    "    summary = re.sub(r\"Статус материала Опубликован в разделе: Телеграммы\", \"\", summary)\n",
    "    summary = re.sub(r\"Ссылка на материал:\", \"\", summary)\n",
    "    summary = re.sub(r\"Текстовая версия:\", \"\", summary)\n",
    "    summary = re.sub(r\"Ссылка на материал:\", \"\", summary)\n",
    "    summary = re.sub(r\"([a-zA-Z]+)\", \"\", summary)\n",
    "    summary = re.sub(r\"([/*#@+]+)\", \"\", summary)\n",
    "    summary = re.sub(r\"Текстовая версия\", \"\", summary)\n",
    "\n",
    "    new_sum.append(summary)\n",
    "\n",
    "my_df[\"Sum\"] = new_sum"
   ]
  },
  {
   "cell_type": "markdown",
   "id": "f874cc6f-6ca0-48a8-a117-3cebf2b2ee32",
   "metadata": {},
   "source": [
    "**Маскируем полное поздравление вместе с адресатом, возьмем имена и организации. Сначала у меня была идея вместе с символом MASK вставлять падеж, чтобы модель обучилась на конкретных падежах, и потом можно было просто заменить разметку MASK с соответствующим падежом на именованную сущность в этом падеже (типа MASKnomn - значит падеж будет именительный).**\n",
    "\n",
    "**Из этой идеи ничего не вышло, я подозреваю, что это из-за посимвольной токенизации внутри токенизатора библиотеки Transformers. Однако, реализацию я решил оставить.**"
   ]
  },
  {
   "cell_type": "code",
   "execution_count": 174,
   "id": "29595afc-4cf5-49d8-a6a5-18632054431d",
   "metadata": {},
   "outputs": [
    {
     "name": "stdout",
     "output_type": "stream",
     "text": [
      "Parse(word='владимира', tag=OpencorporaTag('NOUN,anim,masc,Name sing,gent'), normal_form='владимир', score=0.682926, methods_stack=((DictionaryAnalyzer(), 'владимира', 27, 1),))\n"
     ]
    },
    {
     "data": {
      "text/plain": [
       "'gent'"
      ]
     },
     "execution_count": 174,
     "metadata": {},
     "output_type": "execute_result"
    }
   ],
   "source": [
    "morph = pymorphy2.MorphAnalyzer()\n",
    "nname = morph.parse('Владимира')[0]\n",
    "print(nname)\n",
    "str(nname[1]).split(',')[-1]"
   ]
  },
  {
   "cell_type": "code",
   "execution_count": 175,
   "id": "6207c68b-3a05-4df0-b8f2-4a41a912f6df",
   "metadata": {},
   "outputs": [],
   "source": [
    "emb = NewsEmbedding()\n",
    "morph_vocab = MorphVocab()\n",
    "names_extractor = NamesExtractor(morph_vocab)\n",
    "ner_tagger = NewsNERTagger(emb)\n",
    "segmenter = Segmenter()"
   ]
  },
  {
   "cell_type": "code",
   "execution_count": 384,
   "id": "a3e64a93-378a-456e-8c5f-77586461dfcb",
   "metadata": {},
   "outputs": [
    {
     "data": {
      "text/html": [
       "<div>\n",
       "<style scoped>\n",
       "    .dataframe tbody tr th:only-of-type {\n",
       "        vertical-align: middle;\n",
       "    }\n",
       "\n",
       "    .dataframe tbody tr th {\n",
       "        vertical-align: top;\n",
       "    }\n",
       "\n",
       "    .dataframe thead th {\n",
       "        text-align: right;\n",
       "    }\n",
       "</style>\n",
       "<table border=\"1\" class=\"dataframe\">\n",
       "  <thead>\n",
       "    <tr style=\"text-align: right;\">\n",
       "      <th></th>\n",
       "      <th>Title</th>\n",
       "      <th>Content</th>\n",
       "      <th>Sum</th>\n",
       "      <th>Masked_sum</th>\n",
       "    </tr>\n",
       "  </thead>\n",
       "  <tbody>\n",
       "    <tr>\n",
       "      <th>0</th>\n",
       "      <td>Эдварду Радзинскому, писателю, драматургу, сце...</td>\n",
       "      <td>Уважаемый Эдвард Станиславович!Примите поздра...</td>\n",
       "      <td>Эдварду Радзинскому, писателю, драматургу, сце...</td>\n",
       "      <td>MASKdatv, писателю, драматургу, сценаристу MAS...</td>\n",
       "    </tr>\n",
       "    <tr>\n",
       "      <th>1</th>\n",
       "      <td>Коллективу радиостанции «Орфей»</td>\n",
       "      <td>Дорогие друзья!Поздравляю вас со знаменательн...</td>\n",
       "      <td>Коллективу радиостанции «Орфей» Дорогие друзья...</td>\n",
       "      <td>Коллективу радиостанции «MASKnomn» Дорогие дру...</td>\n",
       "    </tr>\n",
       "    <tr>\n",
       "      <th>2</th>\n",
       "      <td>Михаилу Ковальчуку, президенту НИЦ «Курчатовск...</td>\n",
       "      <td>Уважаемый Михаил Валентинович!Примите мои поз...</td>\n",
       "      <td>Михаилу Ковальчуку, президенту НИЦ «Курчатовск...</td>\n",
       "      <td>MASKdatv, президенту MASKUNKN MASKnomn!Примите...</td>\n",
       "    </tr>\n",
       "    <tr>\n",
       "      <th>3</th>\n",
       "      <td>Ирине Андреевой и Ивану Штылю, победителям чем...</td>\n",
       "      <td>Уважаемые Ирина Александровна и Иван Александ...</td>\n",
       "      <td>Ирине Андреевой и Ивану Штылю, победителям чем...</td>\n",
       "      <td>MASKgent и MASKdatv, победителям чемпионата ми...</td>\n",
       "    </tr>\n",
       "    <tr>\n",
       "      <th>4</th>\n",
       "      <td>Работникам и ветеранам оборонно-промышленного ...</td>\n",
       "      <td>Уважаемые друзья!Поздравляю вас с Днём оружей...</td>\n",
       "      <td>Работникам и ветеранам оборонно-промышленного ...</td>\n",
       "      <td>Работникам и ветеранам оборонно-промышленного ...</td>\n",
       "    </tr>\n",
       "    <tr>\n",
       "      <th>...</th>\n",
       "      <td>...</td>\n",
       "      <td>...</td>\n",
       "      <td>...</td>\n",
       "      <td>...</td>\n",
       "    </tr>\n",
       "    <tr>\n",
       "      <th>883</th>\n",
       "      <td>Жителям Республики Мордовия</td>\n",
       "      <td>Дорогие друзья!Поздравляю вас с юбилеем – 75-...</td>\n",
       "      <td>Жителям Республики Мордовия Дорогие друзья!Поз...</td>\n",
       "      <td>Жителям Республики Мордовия Дорогие друзья!Поз...</td>\n",
       "    </tr>\n",
       "    <tr>\n",
       "      <th>884</th>\n",
       "      <td>Коллективу Института физических проблем им.П.Л...</td>\n",
       "      <td>Поздравляю коллектив института с 70-летием со...</td>\n",
       "      <td>Коллективу Института физических проблем им.П.Л...</td>\n",
       "      <td>Коллективу MASKindc коллектив института с 70-л...</td>\n",
       "    </tr>\n",
       "    <tr>\n",
       "      <th>885</th>\n",
       "      <td>Жителям Красноярского края</td>\n",
       "      <td>Уважаемые друзья!Поздравляю вас с 70-летием с...</td>\n",
       "      <td>Жителям Красноярского края Уважаемые друзья!По...</td>\n",
       "      <td>Жителям Красноярского края Уважаемые друзья!По...</td>\n",
       "    </tr>\n",
       "    <tr>\n",
       "      <th>886</th>\n",
       "      <td>В.А.ЛОГИНОВУ</td>\n",
       "      <td>Уважаемый Владимир Александрович!Поздравляю В...</td>\n",
       "      <td>В.А.ЛОГИНОВУ Уважаемый Владимир Александрович!...</td>\n",
       "      <td>MASKnomn!Поздравляю Вас с официальным вступлен...</td>\n",
       "    </tr>\n",
       "    <tr>\n",
       "      <th>887</th>\n",
       "      <td>Патриарху Московскому и всея Руси Алексию II</td>\n",
       "      <td>Ваше Святейшество!От всего сердца поздравляю ...</td>\n",
       "      <td>Патриарху Московскому и всея Руси Алексию  Ваш...</td>\n",
       "      <td>Патриарху Московскому и всея Руси Алексию  Ваш...</td>\n",
       "    </tr>\n",
       "  </tbody>\n",
       "</table>\n",
       "<p>888 rows × 4 columns</p>\n",
       "</div>"
      ],
      "text/plain": [
       "                                                 Title  \\\n",
       "0    Эдварду Радзинскому, писателю, драматургу, сце...   \n",
       "1                      Коллективу радиостанции «Орфей»   \n",
       "2    Михаилу Ковальчуку, президенту НИЦ «Курчатовск...   \n",
       "3    Ирине Андреевой и Ивану Штылю, победителям чем...   \n",
       "4    Работникам и ветеранам оборонно-промышленного ...   \n",
       "..                                                 ...   \n",
       "883                        Жителям Республики Мордовия   \n",
       "884  Коллективу Института физических проблем им.П.Л...   \n",
       "885                         Жителям Красноярского края   \n",
       "886                                       В.А.ЛОГИНОВУ   \n",
       "887       Патриарху Московскому и всея Руси Алексию II   \n",
       "\n",
       "                                               Content  \\\n",
       "0     Уважаемый Эдвард Станиславович!Примите поздра...   \n",
       "1     Дорогие друзья!Поздравляю вас со знаменательн...   \n",
       "2     Уважаемый Михаил Валентинович!Примите мои поз...   \n",
       "3     Уважаемые Ирина Александровна и Иван Александ...   \n",
       "4     Уважаемые друзья!Поздравляю вас с Днём оружей...   \n",
       "..                                                 ...   \n",
       "883   Дорогие друзья!Поздравляю вас с юбилеем – 75-...   \n",
       "884   Поздравляю коллектив института с 70-летием со...   \n",
       "885   Уважаемые друзья!Поздравляю вас с 70-летием с...   \n",
       "886   Уважаемый Владимир Александрович!Поздравляю В...   \n",
       "887   Ваше Святейшество!От всего сердца поздравляю ...   \n",
       "\n",
       "                                                   Sum  \\\n",
       "0    Эдварду Радзинскому, писателю, драматургу, сце...   \n",
       "1    Коллективу радиостанции «Орфей» Дорогие друзья...   \n",
       "2    Михаилу Ковальчуку, президенту НИЦ «Курчатовск...   \n",
       "3    Ирине Андреевой и Ивану Штылю, победителям чем...   \n",
       "4    Работникам и ветеранам оборонно-промышленного ...   \n",
       "..                                                 ...   \n",
       "883  Жителям Республики Мордовия Дорогие друзья!Поз...   \n",
       "884  Коллективу Института физических проблем им.П.Л...   \n",
       "885  Жителям Красноярского края Уважаемые друзья!По...   \n",
       "886  В.А.ЛОГИНОВУ Уважаемый Владимир Александрович!...   \n",
       "887  Патриарху Московскому и всея Руси Алексию  Ваш...   \n",
       "\n",
       "                                            Masked_sum  \n",
       "0    MASKdatv, писателю, драматургу, сценаристу MAS...  \n",
       "1    Коллективу радиостанции «MASKnomn» Дорогие дру...  \n",
       "2    MASKdatv, президенту MASKUNKN MASKnomn!Примите...  \n",
       "3    MASKgent и MASKdatv, победителям чемпионата ми...  \n",
       "4    Работникам и ветеранам оборонно-промышленного ...  \n",
       "..                                                 ...  \n",
       "883  Жителям Республики Мордовия Дорогие друзья!Поз...  \n",
       "884  Коллективу MASKindc коллектив института с 70-л...  \n",
       "885  Жителям Красноярского края Уважаемые друзья!По...  \n",
       "886  MASKnomn!Поздравляю Вас с официальным вступлен...  \n",
       "887  Патриарху Московскому и всея Руси Алексию  Ваш...  \n",
       "\n",
       "[888 rows x 4 columns]"
      ]
     },
     "execution_count": 384,
     "metadata": {},
     "output_type": "execute_result"
    }
   ],
   "source": [
    "masked_content = []\n",
    "morph = pymorphy2.MorphAnalyzer()\n",
    "\n",
    "for sent in my_df['Sum']:\n",
    "    doc = Doc(sent)\n",
    "    doc.segment(segmenter)\n",
    "    doc.tag_ner(ner_tagger)\n",
    "\n",
    "    for span in doc.spans:\n",
    "        if span.type == PER or span.type == ORG:\n",
    "            morph_name = morph.parse(span.text)[0]\n",
    "            morph_case = str(morph_name[1]).split(',')[-1]\n",
    "            sent = sent.replace(span.text, f'MASK{morph_case}')\n",
    "\n",
    "    masked_content.append(sent)\n",
    "\n",
    "my_df['Masked_sum'] = masked_content\n",
    "my_df"
   ]
  },
  {
   "cell_type": "markdown",
   "id": "8628da1b-9c3c-49df-82c6-256b4385e709",
   "metadata": {},
   "source": [
    "**Разобьем датасет на наборы**"
   ]
  },
  {
   "cell_type": "code",
   "execution_count": 385,
   "id": "b1b44872-52f7-45fc-96be-01c17baf2cd1",
   "metadata": {},
   "outputs": [],
   "source": [
    "train_df, validate_df = np.split(\n",
    "    my_df.sample(frac=1, random_state=42),\n",
    "    [int(.8*len(my_df))])"
   ]
  },
  {
   "cell_type": "code",
   "execution_count": 386,
   "id": "b4b57e6c-8df3-479d-9bf2-04ba71b0836b",
   "metadata": {},
   "outputs": [
    {
     "data": {
      "text/plain": [
       "(710, 178)"
      ]
     },
     "execution_count": 386,
     "metadata": {},
     "output_type": "execute_result"
    }
   ],
   "source": [
    "len(train_df), len(validate_df)"
   ]
  },
  {
   "cell_type": "markdown",
   "id": "fe339a3f-c970-4290-bbd3-968e7c7aaa0b",
   "metadata": {},
   "source": [
    "**Сделаем текстовые файлы для обучения модели**"
   ]
  },
  {
   "cell_type": "code",
   "execution_count": 387,
   "id": "060c0a7f-1cad-4add-89e3-6a8adc360bb9",
   "metadata": {},
   "outputs": [],
   "source": [
    "!rm train.txt valid.txt"
   ]
  },
  {
   "cell_type": "code",
   "execution_count": 388,
   "id": "dab2c59a-47b9-49d7-8f2a-c5a918418624",
   "metadata": {},
   "outputs": [],
   "source": [
    "def make_file_from_series(filename, series):\n",
    "    with open(filename, 'w') as f:\n",
    "        for entry in series:\n",
    "            f.write(entry)"
   ]
  },
  {
   "cell_type": "code",
   "execution_count": 389,
   "id": "0f6213bd-f59e-41ec-bd2e-c6252487c3fa",
   "metadata": {},
   "outputs": [],
   "source": [
    "make_file_from_series('train.txt', train_df['Masked_sum'])\n",
    "make_file_from_series('valid.txt', validate_df['Masked_sum'])"
   ]
  },
  {
   "cell_type": "code",
   "execution_count": 390,
   "id": "db0f9585-10dc-40a5-996e-ff13274b7ab3",
   "metadata": {},
   "outputs": [
    {
     "name": "stdout",
     "output_type": "stream",
     "text": [
      "Kutsev.ipynb\t\t\t\t    curr_congrats.txt\n",
      "Untitled.ipynb\t\t\t\t    gpt-letters\n",
      "cached_lm_GPT2Tokenizer_128_test.txt\t    ru-gpts\n",
      "cached_lm_GPT2Tokenizer_128_test.txt.lock   train.txt\n",
      "cached_lm_GPT2Tokenizer_128_train.txt\t    transformers\n",
      "cached_lm_GPT2Tokenizer_128_train.txt.lock  valid.txt\n",
      "cached_lm_GPT2Tokenizer_128_valid.txt\t    work\n",
      "cached_lm_GPT2Tokenizer_128_valid.txt.lock\n"
     ]
    }
   ],
   "source": [
    "!ls "
   ]
  },
  {
   "cell_type": "code",
   "execution_count": 391,
   "id": "6eb33850-5089-4442-8cad-dc404f8e51ec",
   "metadata": {},
   "outputs": [
    {
     "data": {
      "text/plain": [
       "'MASKloct, победительнице чемпионата мира по лёгкой атлетике 2019 года в Дохе (Катар) в прыжках в высоту Уважаемая MASKnomn!Поздравляю Вас с триумфальным выступлением в Дохе.Вы вновь ярко продемонстрировали впечатляющий спортивный, победный потенциал, мастерство и сильный характер. Покорив заданную высоту, по праву стали обладательницей золотой медали, реализовали заветную мечту – заслужили звание трёхкратной чемпионки мира. И, конечно, Ваш успех – это отличный подарок для нашей сборной, тренеров и наставников, многочисленных болельщиков.От души желаю Вам новых свершений и всего самого доброго. MASKnomn        .61696   Коллективу «MASKgent» Дорогие друзья!Поздравляю вас со знаменательной датой – 25-летиемсоздания «MASKgent».За прошедшие годы газета стала одним из ведущихпериодических изданий страны, завоевала уважение большой читательской аудиториии авторитет в отечественном медиасообществе. Её ценят за информационнуюнаполненность, глубокий подход к освещению важнейших тем и событий, за взвешенность и основательность оценок. Отрадно, что все эти годы ваш коллективвысоко держит планку качества работы, сохраняет приверженность лучшим традициямжурналистики, расширяет линейку информационных продуктов – от публикациигосударственных документов до новостей, репортажей и серьёзной аналитики.Уверен, что вы и впредь будете добросовестнотрудиться, воплощать в жизнь востребованные творческие проекты, добиватьсяуспеха в профессиональной деятельности.Желаю вам всего наилучшего. MASKnomn     Темы  MASKnomn           .50661   MASKdatv, директору MASKnomn, академику MASKgent Уважаемый MASKnomn!Сердечно поздравляю Вас с 70-летним юбилеем.Вас по праву считают выдающимся учёным, достойным продолжателем великих подвижнических традиций отечественной школы микробиологии и эпидемиологии. Вы много и увлечённо трудитесь, объединяете коллектив знаменитого MASKnomn вокруг важных, востребованных задач, заряжаете коллег своей поистине неиссякаемой энергией. Результаты Ваших фундаментальных исследований и инновационных разработок имеют большое научное и практическое значение. И конечно, самого глубокого признания заслуживает Ваш уникальный личный вклад в создание первой в мире зарегистрированной вакцины для профилактики коронавирусной инфекции, которая за прошедшее время убедительно доказала свою эффективность.Желаю Вам успехов, здоровья,благополучия. MASKnomn        .67086   MASKnomn, олимпийскому чемпиону, победителю Игр  Олимпиады 2016 года в Рио‑де-Жанейро (Бразилия) в соревнованиях по боксу в весовой категории до 91 кг УважаемыйЕвгений Андреевич! Поздравляю Вас с триумфом в Рио‑де-Жанейро. Вы убедительно доказали, чтообладаете настоящим чемпионским характером и высоким уровнем мастерства. Этикачества, уверенность в своих силах стали слагаемыми Вашего яркогоолимпийского успеха. Желаю удачи, новых побед и всегосамого доброго. MASKnomn     Темы  Спорт           .52719   MASKdatv, олимпийскому чемпиону, победителю Олимпийских игр 2012 года в Лондоне в соревнованиях по дзюдо в '"
      ]
     },
     "execution_count": 391,
     "metadata": {},
     "output_type": "execute_result"
    }
   ],
   "source": [
    "with open('train.txt') as handler:\n",
    "    full_text = handler.read()\n",
    "full_text[:3000]"
   ]
  },
  {
   "cell_type": "markdown",
   "id": "50f7041d-f79b-428a-8e0b-da3f5b3d4f3d",
   "metadata": {},
   "source": [
    "**Приведем данные в подходящий для обучения модели вид**"
   ]
  },
  {
   "cell_type": "code",
   "execution_count": 392,
   "id": "fe89588a-0c00-4fdb-8580-a7f63babe215",
   "metadata": {},
   "outputs": [
    {
     "name": "stderr",
     "output_type": "stream",
     "text": [
      "loading file https://huggingface.co/sberbank-ai/rugpt3small_based_on_gpt2/resolve/main/vocab.json from cache at /home/mdurinov/.cache/huggingface/transformers/1b36eeb1fd7b3a6ec11bf46bde2c38e7e68f71ec774694b9e886c86001aab35d.c483bc3440d25937fdac74506b73b76ee6e67f778a804756214363fc2a1a66ef\n",
      "loading file https://huggingface.co/sberbank-ai/rugpt3small_based_on_gpt2/resolve/main/merges.txt from cache at /home/mdurinov/.cache/huggingface/transformers/479aa59074c4dcd4c36106252da033d03bc92e3010947ce1d3714de224c2af1f.7362c0dbb32f750eeea5a5b93bbd0c6876eac41453369265d5a49df1c9142b6f\n",
      "loading file https://huggingface.co/sberbank-ai/rugpt3small_based_on_gpt2/resolve/main/added_tokens.json from cache at None\n",
      "loading file https://huggingface.co/sberbank-ai/rugpt3small_based_on_gpt2/resolve/main/special_tokens_map.json from cache at None\n",
      "loading file https://huggingface.co/sberbank-ai/rugpt3small_based_on_gpt2/resolve/main/tokenizer_config.json from cache at None\n",
      "loading file https://huggingface.co/sberbank-ai/rugpt3small_based_on_gpt2/resolve/main/tokenizer.json from cache at None\n",
      "loading configuration file https://huggingface.co/sberbank-ai/rugpt3small_based_on_gpt2/resolve/main/config.json from cache at /home/mdurinov/.cache/huggingface/transformers/06f48b6b3173390d047e15d691fda67ae4ea7733a5eea4b6e0115f5099c4e700.b5cdfa39c63384f94159c36bc9042660c747cea5cf520b43d543bd2c68b3164d\n",
      "Model config GPT2Config {\n",
      "  \"_name_or_path\": \"sberbank-ai/rugpt3small_based_on_gpt2\",\n",
      "  \"activation_function\": \"gelu_new\",\n",
      "  \"architectures\": [\n",
      "    \"GPT2LMHeadModel\"\n",
      "  ],\n",
      "  \"attn_pdrop\": 0.1,\n",
      "  \"bos_token_id\": 50256,\n",
      "  \"embd_pdrop\": 0.1,\n",
      "  \"eos_token_id\": 50256,\n",
      "  \"gradient_checkpointing\": false,\n",
      "  \"initializer_range\": 0.02,\n",
      "  \"layer_norm_epsilon\": 1e-05,\n",
      "  \"model_type\": \"gpt2\",\n",
      "  \"n_ctx\": 2048,\n",
      "  \"n_embd\": 768,\n",
      "  \"n_head\": 12,\n",
      "  \"n_inner\": null,\n",
      "  \"n_layer\": 12,\n",
      "  \"n_positions\": 2048,\n",
      "  \"reorder_and_upcast_attn\": false,\n",
      "  \"resid_pdrop\": 0.1,\n",
      "  \"scale_attn_by_inverse_layer_idx\": false,\n",
      "  \"scale_attn_weights\": true,\n",
      "  \"summary_activation\": null,\n",
      "  \"summary_first_dropout\": 0.1,\n",
      "  \"summary_proj_to_labels\": true,\n",
      "  \"summary_type\": \"cls_index\",\n",
      "  \"summary_use_proj\": true,\n",
      "  \"transformers_version\": \"4.15.0\",\n",
      "  \"use_cache\": true,\n",
      "  \"vocab_size\": 50264\n",
      "}\n",
      "\n"
     ]
    }
   ],
   "source": [
    "tokenizer = GPT2Tokenizer.from_pretrained(\"sberbank-ai/rugpt3small_based_on_gpt2\")\n",
    "train_path = 'train.txt'\n",
    "valid_path = 'valid.txt'"
   ]
  },
  {
   "cell_type": "code",
   "execution_count": 393,
   "id": "35c0f54b-bc42-4f62-a98a-d791ba0f15f2",
   "metadata": {},
   "outputs": [
    {
     "name": "stderr",
     "output_type": "stream",
     "text": [
      "/opt/conda/lib/python3.8/site-packages/transformers/data/datasets/language_modeling.py:54: FutureWarning: This dataset will be removed from the library soon, preprocessing should be handled with the 🤗 Datasets library. You can have a look at this example script for pointers: https://github.com/huggingface/transformers/blob/master/examples/pytorch/language-modeling/run_mlm.py\n",
      "  warnings.warn(\n",
      "Loading features from cached file cached_lm_GPT2Tokenizer_128_train.txt [took 0.007 s]\n",
      "Loading features from cached file cached_lm_GPT2Tokenizer_128_valid.txt [took 0.011 s]\n"
     ]
    }
   ],
   "source": [
    "def load_dataset(train_path, valid_path, tokenizer):\n",
    "\n",
    "    test_dataset = TextDataset(\n",
    "          tokenizer=tokenizer,\n",
    "          file_path=train_path,\n",
    "          block_size=128)\n",
    "    \n",
    "    valid_dataset = TextDataset(\n",
    "      tokenizer=tokenizer,\n",
    "      file_path=valid_path,\n",
    "      block_size=128)\n",
    "    \n",
    "    data_collator = DataCollatorForLanguageModeling(\n",
    "        tokenizer=tokenizer, mlm=False,\n",
    "    )\n",
    "    return train_dataset, valid_dataset, data_collator\n",
    "\n",
    "train_dataset, valid_dataset, data_collator = load_dataset(train_path, valid_path, tokenizer)"
   ]
  },
  {
   "cell_type": "markdown",
   "id": "a125b706-93ee-4542-ab1d-97995b647ee0",
   "metadata": {},
   "source": [
    "**Параметры обучения модели**"
   ]
  },
  {
   "cell_type": "code",
   "execution_count": 603,
   "id": "10d62daf-a92e-4b55-8ba3-312aaee2f015",
   "metadata": {},
   "outputs": [
    {
     "name": "stderr",
     "output_type": "stream",
     "text": [
      "loading configuration file https://huggingface.co/sberbank-ai/rugpt3small_based_on_gpt2/resolve/main/config.json from cache at /home/mdurinov/.cache/huggingface/transformers/06f48b6b3173390d047e15d691fda67ae4ea7733a5eea4b6e0115f5099c4e700.b5cdfa39c63384f94159c36bc9042660c747cea5cf520b43d543bd2c68b3164d\n",
      "Model config GPT2Config {\n",
      "  \"activation_function\": \"gelu_new\",\n",
      "  \"architectures\": [\n",
      "    \"GPT2LMHeadModel\"\n",
      "  ],\n",
      "  \"attn_pdrop\": 0.1,\n",
      "  \"bos_token_id\": 50256,\n",
      "  \"embd_pdrop\": 0.1,\n",
      "  \"eos_token_id\": 50256,\n",
      "  \"gradient_checkpointing\": false,\n",
      "  \"initializer_range\": 0.02,\n",
      "  \"layer_norm_epsilon\": 1e-05,\n",
      "  \"model_type\": \"gpt2\",\n",
      "  \"n_ctx\": 2048,\n",
      "  \"n_embd\": 768,\n",
      "  \"n_head\": 12,\n",
      "  \"n_inner\": null,\n",
      "  \"n_layer\": 12,\n",
      "  \"n_positions\": 2048,\n",
      "  \"reorder_and_upcast_attn\": false,\n",
      "  \"resid_pdrop\": 0.1,\n",
      "  \"scale_attn_by_inverse_layer_idx\": false,\n",
      "  \"scale_attn_weights\": true,\n",
      "  \"summary_activation\": null,\n",
      "  \"summary_first_dropout\": 0.1,\n",
      "  \"summary_proj_to_labels\": true,\n",
      "  \"summary_type\": \"cls_index\",\n",
      "  \"summary_use_proj\": true,\n",
      "  \"transformers_version\": \"4.15.0\",\n",
      "  \"use_cache\": true,\n",
      "  \"vocab_size\": 50264\n",
      "}\n",
      "\n",
      "loading weights file https://huggingface.co/sberbank-ai/rugpt3small_based_on_gpt2/resolve/main/pytorch_model.bin from cache at /home/mdurinov/.cache/huggingface/transformers/df2b64a4c86a349ba84354d85b7117b106f2b87085c9bb54cde70d3751907c45.4e3da19dd8adaa6d6a9804bfd45d2dcf17ba544de445847443ef1816bfa3d693\n",
      "All model checkpoint weights were used when initializing GPT2LMHeadModel.\n",
      "\n",
      "All the weights of GPT2LMHeadModel were initialized from the model checkpoint at sberbank-ai/rugpt3small_based_on_gpt2.\n",
      "If your task is similar to the task the model of the checkpoint was trained on, you can already use GPT2LMHeadModel for predictions without further training.\n",
      "PyTorch: setting up devices\n",
      "The default value for the training argument `--report_to` will change in v5 (from all installed integrations to none). In v5, you will need to use `--report_to all` to get the same behavior as now. You should start updating your code and make this info disappear :-).\n"
     ]
    }
   ],
   "source": [
    "model = GPT2LMHeadModel.from_pretrained(\"sberbank-ai/rugpt3small_based_on_gpt2\")\n",
    "\n",
    "\n",
    "training_args = TrainingArguments(\n",
    "    output_dir=\"./gpt-letters\",\n",
    "    overwrite_output_dir=True,\n",
    "    num_train_epochs=150,\n",
    "    per_device_train_batch_size=32,\n",
    "    per_device_eval_batch_size=64,\n",
    "    eval_steps=400,\n",
    "    save_steps=150,\n",
    "    warmup_steps=500,\n",
    "    prediction_loss_only=True,\n",
    "    )\n",
    "\n",
    "\n",
    "trainer = Trainer(\n",
    "    model=model,\n",
    "    args=training_args,\n",
    "    data_collator=data_collator,\n",
    "    train_dataset=train_dataset,\n",
    "    eval_dataset=valid_dataset,\n",
    ")"
   ]
  },
  {
   "cell_type": "markdown",
   "id": "e1d347b9-658f-4138-b955-7d43a9401ea0",
   "metadata": {},
   "source": [
    "На всякий случай удалю папку с предыдущей моделью."
   ]
  },
  {
   "cell_type": "code",
   "execution_count": 604,
   "id": "643674e6-d7b6-4aba-9538-b545e7dfedd0",
   "metadata": {},
   "outputs": [],
   "source": [
    "!rm -rf gpt-letters"
   ]
  },
  {
   "cell_type": "code",
   "execution_count": 606,
   "id": "53af3426-8e16-42a4-84a8-6178f82f276a",
   "metadata": {},
   "outputs": [
    {
     "name": "stderr",
     "output_type": "stream",
     "text": [
      "***** Running training *****\n",
      "  Num examples = 1048\n",
      "  Num Epochs = 150\n",
      "  Instantaneous batch size per device = 32\n",
      "  Total train batch size (w. parallel, distributed & accumulation) = 32\n",
      "  Gradient Accumulation steps = 1\n",
      "  Total optimization steps = 4950\n"
     ]
    },
    {
     "data": {
      "text/html": [
       "\n",
       "    <div>\n",
       "      \n",
       "      <progress value='4950' max='4950' style='width:300px; height:20px; vertical-align: middle;'></progress>\n",
       "      [4950/4950 12:24, Epoch 150/150]\n",
       "    </div>\n",
       "    <table border=\"1\" class=\"dataframe\">\n",
       "  <thead>\n",
       "    <tr style=\"text-align: left;\">\n",
       "      <th>Step</th>\n",
       "      <th>Training Loss</th>\n",
       "    </tr>\n",
       "  </thead>\n",
       "  <tbody>\n",
       "    <tr>\n",
       "      <td>500</td>\n",
       "      <td>0.021400</td>\n",
       "    </tr>\n",
       "    <tr>\n",
       "      <td>1000</td>\n",
       "      <td>0.021300</td>\n",
       "    </tr>\n",
       "    <tr>\n",
       "      <td>1500</td>\n",
       "      <td>0.021400</td>\n",
       "    </tr>\n",
       "    <tr>\n",
       "      <td>2000</td>\n",
       "      <td>0.021300</td>\n",
       "    </tr>\n",
       "    <tr>\n",
       "      <td>2500</td>\n",
       "      <td>0.021300</td>\n",
       "    </tr>\n",
       "    <tr>\n",
       "      <td>3000</td>\n",
       "      <td>0.021400</td>\n",
       "    </tr>\n",
       "    <tr>\n",
       "      <td>3500</td>\n",
       "      <td>0.021500</td>\n",
       "    </tr>\n",
       "    <tr>\n",
       "      <td>4000</td>\n",
       "      <td>0.021400</td>\n",
       "    </tr>\n",
       "    <tr>\n",
       "      <td>4500</td>\n",
       "      <td>0.021500</td>\n",
       "    </tr>\n",
       "  </tbody>\n",
       "</table><p>"
      ],
      "text/plain": [
       "<IPython.core.display.HTML object>"
      ]
     },
     "metadata": {},
     "output_type": "display_data"
    },
    {
     "name": "stderr",
     "output_type": "stream",
     "text": [
      "Saving model checkpoint to ./gpt-letters/checkpoint-150\n",
      "Configuration saved in ./gpt-letters/checkpoint-150/config.json\n",
      "Model weights saved in ./gpt-letters/checkpoint-150/pytorch_model.bin\n",
      "Saving model checkpoint to ./gpt-letters/checkpoint-300\n",
      "Configuration saved in ./gpt-letters/checkpoint-300/config.json\n",
      "Model weights saved in ./gpt-letters/checkpoint-300/pytorch_model.bin\n",
      "Saving model checkpoint to ./gpt-letters/checkpoint-450\n",
      "Configuration saved in ./gpt-letters/checkpoint-450/config.json\n",
      "Model weights saved in ./gpt-letters/checkpoint-450/pytorch_model.bin\n",
      "Saving model checkpoint to ./gpt-letters/checkpoint-600\n",
      "Configuration saved in ./gpt-letters/checkpoint-600/config.json\n",
      "Model weights saved in ./gpt-letters/checkpoint-600/pytorch_model.bin\n",
      "Saving model checkpoint to ./gpt-letters/checkpoint-750\n",
      "Configuration saved in ./gpt-letters/checkpoint-750/config.json\n",
      "Model weights saved in ./gpt-letters/checkpoint-750/pytorch_model.bin\n",
      "Saving model checkpoint to ./gpt-letters/checkpoint-900\n",
      "Configuration saved in ./gpt-letters/checkpoint-900/config.json\n",
      "Model weights saved in ./gpt-letters/checkpoint-900/pytorch_model.bin\n",
      "Saving model checkpoint to ./gpt-letters/checkpoint-1050\n",
      "Configuration saved in ./gpt-letters/checkpoint-1050/config.json\n",
      "Model weights saved in ./gpt-letters/checkpoint-1050/pytorch_model.bin\n",
      "Saving model checkpoint to ./gpt-letters/checkpoint-1200\n",
      "Configuration saved in ./gpt-letters/checkpoint-1200/config.json\n",
      "Model weights saved in ./gpt-letters/checkpoint-1200/pytorch_model.bin\n",
      "Saving model checkpoint to ./gpt-letters/checkpoint-1350\n",
      "Configuration saved in ./gpt-letters/checkpoint-1350/config.json\n",
      "Model weights saved in ./gpt-letters/checkpoint-1350/pytorch_model.bin\n",
      "Saving model checkpoint to ./gpt-letters/checkpoint-1500\n",
      "Configuration saved in ./gpt-letters/checkpoint-1500/config.json\n",
      "Model weights saved in ./gpt-letters/checkpoint-1500/pytorch_model.bin\n",
      "Saving model checkpoint to ./gpt-letters/checkpoint-1650\n",
      "Configuration saved in ./gpt-letters/checkpoint-1650/config.json\n",
      "Model weights saved in ./gpt-letters/checkpoint-1650/pytorch_model.bin\n",
      "Saving model checkpoint to ./gpt-letters/checkpoint-1800\n",
      "Configuration saved in ./gpt-letters/checkpoint-1800/config.json\n",
      "Model weights saved in ./gpt-letters/checkpoint-1800/pytorch_model.bin\n",
      "Saving model checkpoint to ./gpt-letters/checkpoint-1950\n",
      "Configuration saved in ./gpt-letters/checkpoint-1950/config.json\n",
      "Model weights saved in ./gpt-letters/checkpoint-1950/pytorch_model.bin\n",
      "Saving model checkpoint to ./gpt-letters/checkpoint-2100\n",
      "Configuration saved in ./gpt-letters/checkpoint-2100/config.json\n",
      "Model weights saved in ./gpt-letters/checkpoint-2100/pytorch_model.bin\n",
      "Saving model checkpoint to ./gpt-letters/checkpoint-2250\n",
      "Configuration saved in ./gpt-letters/checkpoint-2250/config.json\n",
      "Model weights saved in ./gpt-letters/checkpoint-2250/pytorch_model.bin\n",
      "Saving model checkpoint to ./gpt-letters/checkpoint-2400\n",
      "Configuration saved in ./gpt-letters/checkpoint-2400/config.json\n",
      "Model weights saved in ./gpt-letters/checkpoint-2400/pytorch_model.bin\n",
      "Saving model checkpoint to ./gpt-letters/checkpoint-2550\n",
      "Configuration saved in ./gpt-letters/checkpoint-2550/config.json\n",
      "Model weights saved in ./gpt-letters/checkpoint-2550/pytorch_model.bin\n",
      "Saving model checkpoint to ./gpt-letters/checkpoint-2700\n",
      "Configuration saved in ./gpt-letters/checkpoint-2700/config.json\n",
      "Model weights saved in ./gpt-letters/checkpoint-2700/pytorch_model.bin\n",
      "Saving model checkpoint to ./gpt-letters/checkpoint-2850\n",
      "Configuration saved in ./gpt-letters/checkpoint-2850/config.json\n",
      "Model weights saved in ./gpt-letters/checkpoint-2850/pytorch_model.bin\n",
      "Saving model checkpoint to ./gpt-letters/checkpoint-3000\n",
      "Configuration saved in ./gpt-letters/checkpoint-3000/config.json\n",
      "Model weights saved in ./gpt-letters/checkpoint-3000/pytorch_model.bin\n",
      "Saving model checkpoint to ./gpt-letters/checkpoint-3150\n",
      "Configuration saved in ./gpt-letters/checkpoint-3150/config.json\n",
      "Model weights saved in ./gpt-letters/checkpoint-3150/pytorch_model.bin\n",
      "Saving model checkpoint to ./gpt-letters/checkpoint-3300\n",
      "Configuration saved in ./gpt-letters/checkpoint-3300/config.json\n",
      "Model weights saved in ./gpt-letters/checkpoint-3300/pytorch_model.bin\n",
      "Saving model checkpoint to ./gpt-letters/checkpoint-3450\n",
      "Configuration saved in ./gpt-letters/checkpoint-3450/config.json\n",
      "Model weights saved in ./gpt-letters/checkpoint-3450/pytorch_model.bin\n",
      "Saving model checkpoint to ./gpt-letters/checkpoint-3600\n",
      "Configuration saved in ./gpt-letters/checkpoint-3600/config.json\n",
      "Model weights saved in ./gpt-letters/checkpoint-3600/pytorch_model.bin\n",
      "Saving model checkpoint to ./gpt-letters/checkpoint-3750\n",
      "Configuration saved in ./gpt-letters/checkpoint-3750/config.json\n",
      "Model weights saved in ./gpt-letters/checkpoint-3750/pytorch_model.bin\n",
      "Saving model checkpoint to ./gpt-letters/checkpoint-3900\n",
      "Configuration saved in ./gpt-letters/checkpoint-3900/config.json\n",
      "Model weights saved in ./gpt-letters/checkpoint-3900/pytorch_model.bin\n",
      "Saving model checkpoint to ./gpt-letters/checkpoint-4050\n",
      "Configuration saved in ./gpt-letters/checkpoint-4050/config.json\n",
      "Model weights saved in ./gpt-letters/checkpoint-4050/pytorch_model.bin\n",
      "Saving model checkpoint to ./gpt-letters/checkpoint-4200\n",
      "Configuration saved in ./gpt-letters/checkpoint-4200/config.json\n",
      "Model weights saved in ./gpt-letters/checkpoint-4200/pytorch_model.bin\n",
      "Saving model checkpoint to ./gpt-letters/checkpoint-4350\n",
      "Configuration saved in ./gpt-letters/checkpoint-4350/config.json\n",
      "Model weights saved in ./gpt-letters/checkpoint-4350/pytorch_model.bin\n",
      "Saving model checkpoint to ./gpt-letters/checkpoint-4500\n",
      "Configuration saved in ./gpt-letters/checkpoint-4500/config.json\n",
      "Model weights saved in ./gpt-letters/checkpoint-4500/pytorch_model.bin\n",
      "Saving model checkpoint to ./gpt-letters/checkpoint-4650\n",
      "Configuration saved in ./gpt-letters/checkpoint-4650/config.json\n",
      "Model weights saved in ./gpt-letters/checkpoint-4650/pytorch_model.bin\n",
      "Saving model checkpoint to ./gpt-letters/checkpoint-4800\n",
      "Configuration saved in ./gpt-letters/checkpoint-4800/config.json\n",
      "Model weights saved in ./gpt-letters/checkpoint-4800/pytorch_model.bin\n",
      "Saving model checkpoint to ./gpt-letters/checkpoint-4950\n",
      "Configuration saved in ./gpt-letters/checkpoint-4950/config.json\n",
      "Model weights saved in ./gpt-letters/checkpoint-4950/pytorch_model.bin\n",
      "\n",
      "\n",
      "Training completed. Do not forget to share your model on huggingface.co/models =)\n",
      "\n",
      "\n"
     ]
    },
    {
     "data": {
      "text/plain": [
       "TrainOutput(global_step=4950, training_loss=0.02140022894348761, metrics={'train_runtime': 744.224, 'train_samples_per_second': 211.227, 'train_steps_per_second': 6.651, 'total_flos': 1.02687768576e+16, 'train_loss': 0.02140022894348761, 'epoch': 150.0})"
      ]
     },
     "execution_count": 606,
     "metadata": {},
     "output_type": "execute_result"
    }
   ],
   "source": [
    "trainer.train()"
   ]
  },
  {
   "cell_type": "code",
   "execution_count": 607,
   "id": "56fd6c42-05bc-4004-bdc6-fffb2e8ff824",
   "metadata": {},
   "outputs": [
    {
     "name": "stderr",
     "output_type": "stream",
     "text": [
      "Saving model checkpoint to ./gpt-letters\n",
      "Configuration saved in ./gpt-letters/config.json\n",
      "Model weights saved in ./gpt-letters/pytorch_model.bin\n"
     ]
    }
   ],
   "source": [
    "trainer.save_model()"
   ]
  },
  {
   "cell_type": "markdown",
   "id": "1e046d19-8dfb-4be8-a077-fb1a0f8afbee",
   "metadata": {},
   "source": [
    "**Генерация текстов. Выберем пайплайн с моделью для генерации. Для удобства я ограничиваю максимальную длину, но на первый вариантах генерации она была конечна, по крайней мере на нескольких генерациях (я сверял длины как строк, так и количества слов, они различались).**"
   ]
  },
  {
   "cell_type": "code",
   "execution_count": 608,
   "id": "567a2419-3333-4cf9-8e55-da1cbab471b1",
   "metadata": {},
   "outputs": [
    {
     "name": "stderr",
     "output_type": "stream",
     "text": [
      "loading configuration file ./gpt-letters/config.json\n",
      "Model config GPT2Config {\n",
      "  \"_name_or_path\": \"./gpt-letters\",\n",
      "  \"activation_function\": \"gelu_new\",\n",
      "  \"architectures\": [\n",
      "    \"GPT2LMHeadModel\"\n",
      "  ],\n",
      "  \"attn_pdrop\": 0.1,\n",
      "  \"bos_token_id\": 50256,\n",
      "  \"embd_pdrop\": 0.1,\n",
      "  \"eos_token_id\": 50256,\n",
      "  \"gradient_checkpointing\": false,\n",
      "  \"initializer_range\": 0.02,\n",
      "  \"layer_norm_epsilon\": 1e-05,\n",
      "  \"model_type\": \"gpt2\",\n",
      "  \"n_ctx\": 2048,\n",
      "  \"n_embd\": 768,\n",
      "  \"n_head\": 12,\n",
      "  \"n_inner\": null,\n",
      "  \"n_layer\": 12,\n",
      "  \"n_positions\": 2048,\n",
      "  \"reorder_and_upcast_attn\": false,\n",
      "  \"resid_pdrop\": 0.1,\n",
      "  \"scale_attn_by_inverse_layer_idx\": false,\n",
      "  \"scale_attn_weights\": true,\n",
      "  \"summary_activation\": null,\n",
      "  \"summary_first_dropout\": 0.1,\n",
      "  \"summary_proj_to_labels\": true,\n",
      "  \"summary_type\": \"cls_index\",\n",
      "  \"summary_use_proj\": true,\n",
      "  \"torch_dtype\": \"float32\",\n",
      "  \"transformers_version\": \"4.15.0\",\n",
      "  \"use_cache\": true,\n",
      "  \"vocab_size\": 50264\n",
      "}\n",
      "\n",
      "loading configuration file ./gpt-letters/config.json\n",
      "Model config GPT2Config {\n",
      "  \"_name_or_path\": \"./gpt-letters\",\n",
      "  \"activation_function\": \"gelu_new\",\n",
      "  \"architectures\": [\n",
      "    \"GPT2LMHeadModel\"\n",
      "  ],\n",
      "  \"attn_pdrop\": 0.1,\n",
      "  \"bos_token_id\": 50256,\n",
      "  \"embd_pdrop\": 0.1,\n",
      "  \"eos_token_id\": 50256,\n",
      "  \"gradient_checkpointing\": false,\n",
      "  \"initializer_range\": 0.02,\n",
      "  \"layer_norm_epsilon\": 1e-05,\n",
      "  \"model_type\": \"gpt2\",\n",
      "  \"n_ctx\": 2048,\n",
      "  \"n_embd\": 768,\n",
      "  \"n_head\": 12,\n",
      "  \"n_inner\": null,\n",
      "  \"n_layer\": 12,\n",
      "  \"n_positions\": 2048,\n",
      "  \"reorder_and_upcast_attn\": false,\n",
      "  \"resid_pdrop\": 0.1,\n",
      "  \"scale_attn_by_inverse_layer_idx\": false,\n",
      "  \"scale_attn_weights\": true,\n",
      "  \"summary_activation\": null,\n",
      "  \"summary_first_dropout\": 0.1,\n",
      "  \"summary_proj_to_labels\": true,\n",
      "  \"summary_type\": \"cls_index\",\n",
      "  \"summary_use_proj\": true,\n",
      "  \"torch_dtype\": \"float32\",\n",
      "  \"transformers_version\": \"4.15.0\",\n",
      "  \"use_cache\": true,\n",
      "  \"vocab_size\": 50264\n",
      "}\n",
      "\n",
      "loading weights file ./gpt-letters/pytorch_model.bin\n",
      "All model checkpoint weights were used when initializing GPT2LMHeadModel.\n",
      "\n",
      "All the weights of GPT2LMHeadModel were initialized from the model checkpoint at ./gpt-letters.\n",
      "If your task is similar to the task the model of the checkpoint was trained on, you can already use GPT2LMHeadModel for predictions without further training.\n"
     ]
    }
   ],
   "source": [
    "local_generator = pipeline('text-generation', model='./gpt-letters',\n",
    "                           tokenizer=tokenizer, max_length=500)"
   ]
  },
  {
   "cell_type": "markdown",
   "id": "56bdb738-1d2b-4101-89a1-7c1687cf1b93",
   "metadata": {},
   "source": [
    "**Для замены разметки MASK на соответствующий падеж я использовал сочетание библиотек Spacy и Pymorphy (можно бы, наверное, было все сделать на spacy, но я не нашел, как там преобразовать сущность к требуемому падежу).**\n",
    "\n",
    "**Однако, с помощью синтаксического парсера Spacy можно сравнительно удобно извлекать главное слово/зависимые слова, и ориентироваться на их падеж, чтобы проставить паджеж при замене токена MASK.**\n",
    "**Вот пример такого извлечения:**"
   ]
  },
  {
   "cell_type": "code",
   "execution_count": 609,
   "id": "5af68aef-17a6-43d5-9e01-ea829352df23",
   "metadata": {},
   "outputs": [
    {
     "name": "stdout",
     "output_type": "stream",
     "text": [
      "MASK, учёному в области молекулярной генетики, академику MASK!\n",
      "          Примите мои поздравления с -летием и наилучшие пожелания.\n",
      "          MASKпосвятили себя науке и посвятили себя воспитанию молодёжи.\n",
      "          Ваши исследования и разработки в области молекулярной генетики стали\n",
      "          настоящим прорывом в науке и медицине.\n",
      "          Здоровья Вам, благополучия и всего самого доброго\n",
      "          Президенту Республики Беларусь Уважаемый MASK\n",
      "MASK ['Dat', 'Dat'] None []\n",
      "MASK [] Dat [академику, MASK]\n",
      "MASKпосвятили ['Acc', 'Dat'] None []\n",
      "MASK ['Nom'] None []\n"
     ]
    }
   ],
   "source": [
    "nlp = spacy.load(\"ru_core_news_sm\")\n",
    "\n",
    "text = \"\"\"MASK, учёному в области молекулярной генетики, академику MASK MASK!\n",
    "          Примите мои поздравления с -летием и наилучшие пожелания.\n",
    "          MASK посвятили себя науке и посвятили себя воспитанию молодёжи.\n",
    "          Ваши исследования и разработки в области молекулярной генетики стали\n",
    "          настоящим прорывом в науке и медицине.\n",
    "          Здоровья Вам, благополучия и всего самого доброго\n",
    "          Президенту Республики Беларусь Уважаемый MASK\"\"\"\n",
    "\n",
    "text = re.sub(\"(MASK ?)+\", 'MASK', text)\n",
    "doc = nlp(text)\n",
    "\n",
    "print(doc.text)\n",
    "for token in doc:\n",
    "    if 'MASK' in token.text:\n",
    "        print(token.text,\n",
    "              [child.morph.to_dict().get('Case') for child in token.children\n",
    "               if child.morph.to_dict().get('Case')],\n",
    "              token.head.morph.to_dict().get('Case'),\n",
    "              [i for i in token.ancestors])"
   ]
  },
  {
   "cell_type": "markdown",
   "id": "704b3a9f-212b-4c87-82ff-385d98a1ddf8",
   "metadata": {},
   "source": [
    "**Функция для преобразования падежа с помощью Pymorphy. Принимает на вход полное имя и наименование падежа в аннотации для Pymorphy. Возвращает имя в требуемом падеже.**"
   ]
  },
  {
   "cell_type": "code",
   "execution_count": 610,
   "id": "cf920135-6fb2-4d78-8c79-7bc08c37f187",
   "metadata": {},
   "outputs": [],
   "source": [
    "def case_name(full_name, case):\n",
    "    morph = pymorphy2.MorphAnalyzer()\n",
    "    new_name = ''\n",
    "    for part in full_name.split():\n",
    "        morph_part = morph.parse(part)[0]\n",
    "        new_part = (morph_part.inflect({case})[0].capitalize() if morph_part\n",
    "                    .inflect({case}) else part)\n",
    "        new_name += f' {new_part}'\n",
    "    return new_name.strip()"
   ]
  },
  {
   "cell_type": "code",
   "execution_count": 611,
   "id": "24793b52-fae7-423c-84f4-3cf9c7d95205",
   "metadata": {},
   "outputs": [
    {
     "name": "stdout",
     "output_type": "stream",
     "text": [
      "Дмитрия Сергеевича genetive\n",
      "Дмитрий Сергеевич nominative\n",
      "Дмитрию Сергеевичу dative\n",
      "Дмитрия Сергеевича accusative\n"
     ]
    }
   ],
   "source": [
    "print(case_name('Дмитрий Сергеевич', 'gent'), 'genetive')\n",
    "print(case_name('Дмитрия Сергеевича', 'nomn'), 'nominative')\n",
    "print(case_name('Дмитрий Сергеевич', 'datv'), 'dative')\n",
    "print(case_name('Дмитрий Сергеевич', 'accs'), 'accusative')"
   ]
  },
  {
   "cell_type": "markdown",
   "id": "d8679276-3137-478e-b443-5ca12c7aec97",
   "metadata": {},
   "source": [
    "**У Spacy и Pymorphy разная разметка падежей, самым быстрым решением показалось сделать маппинг.**"
   ]
  },
  {
   "cell_type": "code",
   "execution_count": 612,
   "id": "e191c40a-36ef-425f-93e0-8c5e7cf70c11",
   "metadata": {},
   "outputs": [],
   "source": [
    "case_mapping = {'Nom': 'nomn',\n",
    "                'Gen': 'gent',\n",
    "                'Dat': 'datv',\n",
    "                'Acc': 'accs',\n",
    "                'Abl': 'ablt',\n",
    "                'Loc': 'loct',\n",
    "               }"
   ]
  },
  {
   "cell_type": "markdown",
   "id": "74ae3cb6-cbc5-484f-afb0-f7290d26e135",
   "metadata": {},
   "source": [
    "**Функция для поиска падежа с помощью Pymorphy. Принимает на вход объект токена Spacy и словарь с маппингом Spacy-Pymorphy. В синтаксическом дереве предложения ищется либо главное слово, либо ближайшее зависимое к аннотации MASK. Возвращает падеж главного слова, либо ближайшего потомка, либо, если вдруг их нет, дательный падеж.**"
   ]
  },
  {
   "cell_type": "code",
   "execution_count": 613,
   "id": "9be9d636-79c2-4b38-8216-e1646e381ef4",
   "metadata": {},
   "outputs": [],
   "source": [
    "def find_case(token, case_mapping):\n",
    "    childs_cases = [child.morph.to_dict().get('Case') for child in\n",
    "                    token.children if child.morph.to_dict().get('Case')]\n",
    "    case = ''\n",
    "    if token.head.morph.to_dict().get('Case'):\n",
    "        case = token.head.morph.to_dict().get('Case')\n",
    "    elif len(childs_cases) > 0:\n",
    "        case = childs_cases[-1]\n",
    "        \n",
    "    if case_mapping.get(case):\n",
    "        case = case_mapping.get(case)\n",
    "    else:\n",
    "        case = 'datv'\n",
    "    return case"
   ]
  },
  {
   "cell_type": "markdown",
   "id": "61fe1931-b8ee-4e18-a45e-9da99c131815",
   "metadata": {},
   "source": [
    "**Затем идет перебор всего текста, очистка от двойных токенов MASK, множественных пробелов, и замена токенов MASK на именованную сущность в соответствующем падеже.**"
   ]
  },
  {
   "cell_type": "code",
   "execution_count": 614,
   "id": "6deefd7f-ba46-4bb7-bfba-4756cb8610e4",
   "metadata": {},
   "outputs": [],
   "source": [
    "def change_masks(full_name, text, case_mapping):\n",
    "    new_text = ''\n",
    "    text = re.sub(\"(MASK ?)+\", 'MASK', text)\n",
    "    text = re.sub(\" +\", ' ', text)\n",
    "    doc = nlp(text)\n",
    "    for token in doc:\n",
    "        if 'MASK' in token.text:\n",
    "            my_case = find_case(token, case_mapping)\n",
    "            new_token = case_name(full_name, my_case)\n",
    "        else:\n",
    "            new_token = token.text\n",
    "        new_token = f' {new_token}' if new_token.isalpha() else new_token\n",
    "        new_text += new_token\n",
    "    return new_text.strip()"
   ]
  },
  {
   "cell_type": "markdown",
   "id": "c526b1ae-6ca9-4893-8dbb-1b1c90870a27",
   "metadata": {},
   "source": [
    "**Все собирается в функцию для генерации текста**"
   ]
  },
  {
   "cell_type": "code",
   "execution_count": 615,
   "id": "e798662c-1d0c-47a9-b4b3-47dc205a97d5",
   "metadata": {},
   "outputs": [],
   "source": [
    "def generate_congrat(full_name):\n",
    "    text = local_generator(full_name)[0]['generated_text']\n",
    "    final_text = change_masks(full_name, text, case_mapping)\n",
    "    return final_text"
   ]
  },
  {
   "cell_type": "code",
   "execution_count": null,
   "id": "0509b794-69d8-43f4-b066-c9a1607df89f",
   "metadata": {},
   "outputs": [],
   "source": []
  },
  {
   "cell_type": "code",
   "execution_count": 616,
   "id": "d4a5ede3-d54c-4760-a516-36e4f8bd1aff",
   "metadata": {},
   "outputs": [
    {
     "name": "stderr",
     "output_type": "stream",
     "text": [
      "Setting `pad_token_id` to `eos_token_id`:50256 for open-end generation.\n"
     ]
    },
    {
     "data": {
      "text/plain": [
       "'Александру Александровичу Моисееву, генеральному директору художественно- производственного предприятия« Александра» Уважаемый Александр! Примите мои поздравления с-летием и самые добрые пожелания. На протяжении многих лет Вы руководите художественно- производственным предприятием« Александру» и вносите большой вклад в сохранение национальных культурных и духовных традиций, возрождение церковных ремёсел. Сегодня изделия Вашей знаменитой творческой мастерской– золотое и серебряное шитьё, иконопись, ювелирные работы и литьё, печатные изделия– широко известны не только в России, но и далеко за её пределами. Глубокого уважения заслуживает и Ваша благотворительная деятельность, направленная на сохранение исторической памяти о Великой Отечественной войне, воспитание молодёжи на высоких примерах патриотизма и гражданственности. Желаю Вам здоровья, благополучия и всего самого доброго. Александру. Коллективу и ветеранам Александру Уважаемые друзья! Поздравляю вас со знаменательной датой–-летием создания предприятия. Созданное в-е годы, оно объединило целую плеяду талантливых конструкторов и инженеров. Их разработки существенно повысили боеспособность нашей армии во время Великой Отечественной войны. Сегодня на посту генерального директора предприятия– Александра, который является одним из крупнейших в мире производителей вооружений. Среди его сотрудников– известные учёные, конструкторы, инженеры, специалисты, рабочие, служащие многочисленных профильных предприятий. Здесь трудятся настоящие профессионалы, которые активно внедряют современные технологии, ставят перед собой амбициозные цели и добиваются успеха. Убеждён, что коллектив предприятия будет и впредь достойно решать поставленные задачи. Здоровья вам и благополучия. Александра всего самого доброго. Александру. Коллективу и ветеранам Александру Уважаемые друзья! Поздравляю вас с-летием создания завода. На протяжении многих лет на его площадках создаются самые современные образцы вооружения и военной техники, такие как многофункциональный фронтовой истребительМиГ-, противотанковый истребитель- перехватчикМиГ- с гиперзвуковой ракетой« Кинжал», разрабатываются авиационные комплексы нового поколения. Эти вооружения защищают морские и воздушные рубежи страны, вносят весомый вклад в укрепление обороноспособности России, в укрепление потенциала национальной экономики. Убеждён, что коллектив предприятия будет и впредь достойно решать поставленные задачи, вносить весомый вклад в укрепление потенциала ракетно- космического и оборонно- промышленного комплексов. Желаю вам успехов и всего самого доброго. Александру'"
      ]
     },
     "execution_count": 616,
     "metadata": {},
     "output_type": "execute_result"
    }
   ],
   "source": [
    "generate_congrat('Александру')"
   ]
  },
  {
   "cell_type": "code",
   "execution_count": 617,
   "id": "8f7845cc-7f6b-48bc-966f-3ba01aaff44d",
   "metadata": {},
   "outputs": [
    {
     "name": "stderr",
     "output_type": "stream",
     "text": [
      "Setting `pad_token_id` to `eos_token_id`:50256 for open-end generation.\n"
     ]
    },
    {
     "data": {
      "text/plain": [
       "'Александру Александровичу Моисееву, генеральному директору художественно- производственного предприятия« Александра» Уважаемый Александр! Примите мои поздравления с-летием и самые добрые пожелания. На протяжении многих лет Вы руководите художественно- производственным предприятием« Александру» и вносите большой вклад в сохранение национальных культурных и духовных традиций, возрождение церковных ремёсел. Сегодня изделия Вашей знаменитой творческой мастерской– золотое и серебряное шитьё, иконопись, ювелирные работы и литьё, печатные изделия– широко известны не только в России, но и далеко за её пределами. Глубокого уважения заслуживает и Ваша благотворительная деятельность, направленная на сохранение исторической памяти о Великой Отечественной войне, воспитание молодёжи на высоких примерах патриотизма и гражданственности. Желаю Вам здоровья, благополучия и всего самого доброго. Александру. Коллективу и ветеранам Александру Уважаемые друзья! Поздравляю вас со знаменательной датой–-летием создания предприятия. Созданное в-е годы, оно объединило целую плеяду талантливых конструкторов и инженеров. Их разработки существенно повысили боеспособность нашей армии во время Великой Отечественной войны. Сегодня на посту генерального директора предприятия– Александра, который является одним из крупнейших в мире производителей вооружений. Среди его сотрудников– известные учёные, конструкторы, инженеры, специалисты, рабочие, служащие многочисленных профильных предприятий. Здесь трудятся настоящие профессионалы, которые активно внедряют современные технологии, ставят перед собой амбициозные цели и добиваются успеха. Убеждён, что коллектив предприятия будет и впредь достойно решать поставленные задачи. Здоровья вам и благополучия. Александра всего самого доброго. Александру. Коллективу и ветеранам Александру Уважаемые друзья! Поздравляю вас с-летием создания завода. На протяжении многих лет на его площадках создаются самые современные образцы вооружения и военной техники, такие как многофункциональный фронтовой истребительМиГ-, противотанковый истребитель- перехватчикМиГ- с гиперзвуковой ракетой« Кинжал», разрабатываются авиационные комплексы нового поколения. Эти вооружения защищают морские и воздушные рубежи страны, вносят весомый вклад в укрепление обороноспособности России, в укрепление потенциала национальной экономики. Убеждён, что коллектив предприятия будет и впредь достойно решать поставленные задачи, вносить весомый вклад в укрепление потенциала ракетно- космического и оборонно- промышленного комплексов. Желаю вам успехов и всего самого доброго. Александру'"
      ]
     },
     "execution_count": 617,
     "metadata": {},
     "output_type": "execute_result"
    }
   ],
   "source": [
    "generate_congrat('Александру')"
   ]
  },
  {
   "cell_type": "code",
   "execution_count": 618,
   "id": "3ff4c445-d0ee-4489-b9ac-5c16affbf0e6",
   "metadata": {},
   "outputs": [
    {
     "name": "stderr",
     "output_type": "stream",
     "text": [
      "Setting `pad_token_id` to `eos_token_id`:50256 for open-end generation.\n"
     ]
    },
    {
     "data": {
      "text/plain": [
       "'Сергею Сергею, Сердечно поздравляю Вас с-летним юбилеем. Вас по праву считают выдающимся тренером и организатором, человеком, наделённым огромным запасом творческой, созидательной энергии. Вы всегда настойчиво шли к поставленной цели, добились впечатляющих успехов, стали пятикратным олимпийским чемпионом. Ваши достижения и сегодня остаются достойным примером для молодого поколения спортсменов. Желаю Вам здоровья, благополучия и всего самого доброго. Сергею. Сергея, президенту Сергею мои поздравления с-летием. Человек многогранного дарования и большой созидательной энергии, Вы добились впечатляющих успехов в разных видов спорта, в том числе в греко- римской борьбе. Ваши достижения и сегодня остаются достойным примером для молодых спортсменов. Желаю Вам здоровья, благополучия и всего самого доброго. Сергею. Сергея, президенту Сергею Сергею мои поздравления с-летием. Сердечно поздравляю Вас с-летием. Вы по праву входите в число исследователей, чьи фундаментальные труды и практические наработки способствовали созданию в России перспективных направлений науки и прорывных технологий, заслужили мировое признание как крупный специалист по физической, информационной и информационной безопасности. И сегодня Ваши исследования, многочисленные изобретения и разработки служат решению проблем обеспечения безопасности государственных информационных систем. Убеждён, что Ваши разработки будут и впредь способствовать развитию национальной безопасности, повышению качества жизни людей. Желаю Вам здоровья, благополучия и всего самого доброго. Сергею. Сергея, президенту Сергею Сергею мои поздравления с-летием. Человек многогранного дарования и большой созидательной энергии, Вы успешно совмещаете исследовательского и организаторского подходов к решению существующих проблем. Возглавляя Сергею, содействуете укреплению авторитета России как ведущей космической державы, развитию перспективных направлений науки и техники. Желаю Вам здоровья, благополучия и всего самого доброго. Сергею. Сергей, президенту Сергею» Уважаемыедрузья!Поздравляю вас с-летием Сергею». Российский и армянский народы на протяжении веков связывают искренняя дружба и симпатия. Традиции добрососедства и тесного сотрудничества передаются из поколения в поколение. А взаимопонимание между людьми, установившимися в семье, объединяет нас вокруг важных, востребованных задач, в том числе в делах просвещения и воспитания.'"
      ]
     },
     "execution_count": 618,
     "metadata": {},
     "output_type": "execute_result"
    }
   ],
   "source": [
    "generate_congrat('Сергею')"
   ]
  },
  {
   "cell_type": "code",
   "execution_count": 619,
   "id": "776e1d9b-bfb1-422f-8ab8-087060977a5c",
   "metadata": {},
   "outputs": [
    {
     "name": "stderr",
     "output_type": "stream",
     "text": [
      "Setting `pad_token_id` to `eos_token_id`:50256 for open-end generation.\n"
     ]
    },
    {
     "data": {
      "text/plain": [
       "'Сергею Сергею, Сердечно поздравляю Вас с-летним юбилеем. Вас по праву считают выдающимся тренером и организатором, человеком, наделённым огромным запасом творческой, созидательной энергии. Вы всегда настойчиво шли к поставленной цели, добились впечатляющих успехов, стали пятикратным олимпийским чемпионом. Ваши достижения и сегодня остаются достойным примером для молодого поколения спортсменов. Желаю Вам здоровья, благополучия и всего самого доброго. Сергею. Сергея, президенту Сергею мои поздравления с-летием. Человек многогранного дарования и большой созидательной энергии, Вы добились впечатляющих успехов в разных видов спорта, в том числе в греко- римской борьбе. Ваши достижения и сегодня остаются достойным примером для молодых спортсменов. Желаю Вам здоровья, благополучия и всего самого доброго. Сергею. Сергея, президенту Сергею Сергею мои поздравления с-летием. Сердечно поздравляю Вас с-летием. Вы по праву входите в число исследователей, чьи фундаментальные труды и практические наработки способствовали созданию в России перспективных направлений науки и прорывных технологий, заслужили мировое признание как крупный специалист по физической, информационной и информационной безопасности. И сегодня Ваши исследования, многочисленные изобретения и разработки служат решению проблем обеспечения безопасности государственных информационных систем. Убеждён, что Ваши разработки будут и впредь способствовать развитию национальной безопасности, повышению качества жизни людей. Желаю Вам здоровья, благополучия и всего самого доброго. Сергею. Сергея, президенту Сергею Сергею мои поздравления с-летием. Человек многогранного дарования и большой созидательной энергии, Вы успешно совмещаете исследовательского и организаторского подходов к решению существующих проблем. Возглавляя Сергею, содействуете укреплению авторитета России как ведущей космической державы, развитию перспективных направлений науки и техники. Желаю Вам здоровья, благополучия и всего самого доброго. Сергею. Сергей, президенту Сергею» Уважаемыедрузья!Поздравляю вас с-летием Сергею». Российский и армянский народы на протяжении веков связывают искренняя дружба и симпатия. Традиции добрососедства и тесного сотрудничества передаются из поколения в поколение. А взаимопонимание между людьми, установившимися в семье, объединяет нас вокруг важных, востребованных задач, в том числе в делах просвещения и воспитания.'"
      ]
     },
     "execution_count": 619,
     "metadata": {},
     "output_type": "execute_result"
    }
   ],
   "source": [
    "generate_congrat('Сергею')"
   ]
  },
  {
   "cell_type": "code",
   "execution_count": 620,
   "id": "0ccc28a2-42c6-4c12-bccb-31103d49afd6",
   "metadata": {},
   "outputs": [
    {
     "name": "stderr",
     "output_type": "stream",
     "text": [
      "Setting `pad_token_id` to `eos_token_id`:50256 for open-end generation.\n"
     ]
    },
    {
     "data": {
      "text/plain": [
       "'Алексею Александровичу Моисееву Уважаемый Алексею поздравления с-летним юбилеем. Посвятив свою жизнь неустанному творческому поиску, Вы подарили любителям настоящего искусства уникальную коллекцию музыкальных произведений. Созданные в самых разных жанрах, стилях и направлениях, они в полной мере отражают Ваш яркий, многогранный талант, самобытность художественных идей и замыслов. От души желаю Вам доброго здоровья и неиссякаемого вдохновения. Алексею. Президенту Республики Беларусь Алексею Алексею, примите сердечные поздравления по случаю Дня рождения. За годы работы на президентском посту Алексее заслуженное уважение соотечественников и высокий авторитет за рубежом как мудрый и дальновидный политик, настоящий патриот своей родины. Под Вашим руководством Республика Беларусь уверенно движется по пути социально- экономического развития, активно участвует в решении актуальных международных вопросов. Трудно переоценить Ваш личный вклад в укрепление дружественных отношений между нашими странами, в ускорение взаимовыгодных интеграционных процессов на постсоветском пространстве. Хотел бы подтвердить готовность к совместной работе по актуальным вопросам двусторонней и региональной повестки дня. Уверен, это в полной мере отвечает интересам братских народов наших стран. Хотел бы подтвердить готовность к совместной работе по актуальным вопросам двусторонней и региональной повестки дня. Уверен, это в полной мере отвечает интересам народов России и Беларуси. Желаю Вам крепкого здоровья и успехов, а всем Вашим соотечественникам благополучия и процветания. С уважением, Алексею. Алексею, Президенту Республики Беларусь Уважаемый Алексей, примите сердечные поздравления по случаю Дня рождения. За годы работы на посту главы государства Алексея заслуженное уважение соотечественников и высокий авторитет за рубежом как ответственный и дальновидный политик, настоящий патриот своей родины. Уверен, что совместными усилиями мы будем и впредь наращивать практическое сотрудничество в различных областях. Уверен, что совместными усилиями будет обеспечено дальнейшее укрепление взаимовыгодного двустороннего сотрудничества в различных областях. Это, несомненно, отвечает коренным интересам наших народов. От всей души желаю Вам крепкого здоровья и успехов, а всем Вашим соотечественникам благополучия и всего самого доброго. С уважением, Алексею. Алексею, Президенту Республики Беларусь Уважаемый Алексей, примите сердечные поздравления по случаю Дня рождения. За годы работы на посту главы государства Алексея заслуженное уважение соотечественников и высокий авторитет за рубежом как ответственный и дальновидный руководитель. Уверен, что'"
      ]
     },
     "execution_count": 620,
     "metadata": {},
     "output_type": "execute_result"
    }
   ],
   "source": [
    "generate_congrat('Алексею')"
   ]
  },
  {
   "cell_type": "code",
   "execution_count": 621,
   "id": "edd27637-4a0b-414f-a717-72d83f107f7f",
   "metadata": {},
   "outputs": [
    {
     "name": "stderr",
     "output_type": "stream",
     "text": [
      "Setting `pad_token_id` to `eos_token_id`:50256 for open-end generation.\n"
     ]
    },
    {
     "data": {
      "text/plain": [
       "'Алексею Александровичу Моисееву Уважаемый Алексею поздравления с-летним юбилеем. Посвятив свою жизнь неустанному творческому поиску, Вы подарили любителям настоящего искусства уникальную коллекцию музыкальных произведений. Созданные в самых разных жанрах, стилях и направлениях, они в полной мере отражают Ваш яркий, многогранный талант, самобытность художественных идей и замыслов. От души желаю Вам доброго здоровья и неиссякаемого вдохновения. Алексею. Президенту Республики Беларусь Алексею Алексею, примите сердечные поздравления по случаю Дня рождения. За годы работы на президентском посту Алексее заслуженное уважение соотечественников и высокий авторитет за рубежом как мудрый и дальновидный политик, настоящий патриот своей родины. Под Вашим руководством Республика Беларусь уверенно движется по пути социально- экономического развития, активно участвует в решении актуальных международных вопросов. Трудно переоценить Ваш личный вклад в укрепление дружественных отношений между нашими странами, в ускорение взаимовыгодных интеграционных процессов на постсоветском пространстве. Хотел бы подтвердить готовность к совместной работе по актуальным вопросам двусторонней и региональной повестки дня. Уверен, это в полной мере отвечает интересам братских народов наших стран. Хотел бы подтвердить готовность к совместной работе по актуальным вопросам двусторонней и региональной повестки дня. Уверен, это в полной мере отвечает интересам народов России и Беларуси. Желаю Вам крепкого здоровья и успехов, а всем Вашим соотечественникам благополучия и процветания. С уважением, Алексею. Алексею, Президенту Республики Беларусь Уважаемый Алексей, примите сердечные поздравления по случаю Дня рождения. За годы работы на посту главы государства Алексея заслуженное уважение соотечественников и высокий авторитет за рубежом как ответственный и дальновидный политик, настоящий патриот своей родины. Уверен, что совместными усилиями мы будем и впредь наращивать практическое сотрудничество в различных областях. Уверен, что совместными усилиями будет обеспечено дальнейшее укрепление взаимовыгодного двустороннего сотрудничества в различных областях. Это, несомненно, отвечает коренным интересам наших народов. От всей души желаю Вам крепкого здоровья и успехов, а всем Вашим соотечественникам благополучия и всего самого доброго. С уважением, Алексею. Алексею, Президенту Республики Беларусь Уважаемый Алексей, примите сердечные поздравления по случаю Дня рождения. За годы работы на посту главы государства Алексея заслуженное уважение соотечественников и высокий авторитет за рубежом как ответственный и дальновидный руководитель. Уверен, что'"
      ]
     },
     "execution_count": 621,
     "metadata": {},
     "output_type": "execute_result"
    }
   ],
   "source": [
    "generate_congrat('Алексею')"
   ]
  },
  {
   "cell_type": "code",
   "execution_count": 622,
   "id": "dc7bde8a-3fc3-4598-b54b-0478a1a5b478",
   "metadata": {},
   "outputs": [
    {
     "name": "stderr",
     "output_type": "stream",
     "text": [
      "Setting `pad_token_id` to `eos_token_id`:50256 for open-end generation.\n"
     ]
    },
    {
     "data": {
      "text/plain": [
       "'Виктор Владимирович, добрыйдень!Поздравляю Вас с-летним юбилеем. Фундаментальные труды и крупные открытия в области физической химии принесли Вам заслуженное признание и высокий авторитет в научном сообществе. Ваши разработки служат научно- техническому прогрессу, они востребованы в самых разных отраслях отечественной промышленности. Отрадно, что плодотворную исследовательскую деятельность Вы успешно совмещаете с активной организационной и педагогической работой, щедро делитесь своими знаниями и опытом с талантливой молодежью. Здоровья Вам, благополучия и новых успехов. Виктору. Коллективу Виктору Уважаемыедрузья!Поздравляю вас с-летием Виктору дерматовенерологии и косметологии. С удовольствием присоединяюсь к поздравлениям, звучащим сегодня в Ваш адрес. Народы России и Украины вместе прошли большой, насыщенный значимыми событиями и любят Вас за искренность и обаяние, за верность своему призванию, родному Виктору. Тысячи пациентов искренне признательны Вам за поддержку, доброе и внимательное отношение к своим близким. Успехов Вам, благополучия и всего самого доброго. Виктору. Коллективу радиостанции« Виктора» Дорогиедрузья!Поздравляю вас со знаменательной датой–-летием радиостанции« Виктора. Все эти годы ваш коллектив объединяет настоящих единомышленников, профессионалов, преданных высокому искусству, стремящихся внести свой вклад в сбережение лучших традиций отечественной культуры. Вы сформировали обширный фонд просветительских, познавательных программ, завоевали признание людей самого разного возраста, слушателей в России и за рубежом. И конечно,« Виктору» всегда поможет вам в реализации востребованных творческих, общественных, просветительских проектов, в воспитании подрастающего поколения. Желаю вам успехов, вдохновения и всего самого доброго. Виктору» всегда служило верным спутником и настоящим другом для миллионов людей в России и за рубежом, а работа в« Виктор» всегда считалась одной из ключевых, ключевых задач государства. Важно, что вы стремитесь сохранить преемственность поколений, органично сочетаете консервативную профессиональную и личную аудиторию, стремление сохранить преемственность поколений, органично соединить самые разные музыкальные стили, подходы. Желаю вам успехов, здоровья и всего самого доброго. Виктору. Коллективу радиостанции« Виктора» Дорогиедрузья!Поздравляю вас с-летием радиостанции« Виктора. Все эти'"
      ]
     },
     "execution_count": 622,
     "metadata": {},
     "output_type": "execute_result"
    }
   ],
   "source": [
    "generate_congrat('Виктор')"
   ]
  },
  {
   "cell_type": "code",
   "execution_count": 623,
   "id": "43a0a283-ff50-4001-8d8c-75f26b6e376e",
   "metadata": {},
   "outputs": [
    {
     "name": "stderr",
     "output_type": "stream",
     "text": [
      "Setting `pad_token_id` to `eos_token_id`:50256 for open-end generation.\n"
     ]
    },
    {
     "data": {
      "text/plain": [
       "'Виктор Владимирович, добрыйдень!Поздравляю Вас с-летним юбилеем. Фундаментальные труды и крупные открытия в области физической химии принесли Вам заслуженное признание и высокий авторитет в научном сообществе. Ваши разработки служат научно- техническому прогрессу, они востребованы в самых разных отраслях отечественной промышленности. Отрадно, что плодотворную исследовательскую деятельность Вы успешно совмещаете с активной организационной и педагогической работой, щедро делитесь своими знаниями и опытом с талантливой молодежью. Здоровья Вам, благополучия и новых успехов. Виктору. Коллективу Виктору Уважаемыедрузья!Поздравляю вас с-летием Виктору дерматовенерологии и косметологии. С удовольствием присоединяюсь к поздравлениям, звучащим сегодня в Ваш адрес. Народы России и Украины вместе прошли большой, насыщенный значимыми событиями и любят Вас за искренность и обаяние, за верность своему призванию, родному Виктору. Тысячи пациентов искренне признательны Вам за поддержку, доброе и внимательное отношение к своим близким. Успехов Вам, благополучия и всего самого доброго. Виктору. Коллективу радиостанции« Виктора» Дорогиедрузья!Поздравляю вас со знаменательной датой–-летием радиостанции« Виктора. Все эти годы ваш коллектив объединяет настоящих единомышленников, профессионалов, преданных высокому искусству, стремящихся внести свой вклад в сбережение лучших традиций отечественной культуры. Вы сформировали обширный фонд просветительских, познавательных программ, завоевали признание людей самого разного возраста, слушателей в России и за рубежом. И конечно,« Виктору» всегда поможет вам в реализации востребованных творческих, общественных, просветительских проектов, в воспитании подрастающего поколения. Желаю вам успехов, вдохновения и всего самого доброго. Виктору» всегда служило верным спутником и настоящим другом для миллионов людей в России и за рубежом, а работа в« Виктор» всегда считалась одной из ключевых, ключевых задач государства. Важно, что вы стремитесь сохранить преемственность поколений, органично сочетаете консервативную профессиональную и личную аудиторию, стремление сохранить преемственность поколений, органично соединить самые разные музыкальные стили, подходы. Желаю вам успехов, здоровья и всего самого доброго. Виктору. Коллективу радиостанции« Виктора» Дорогиедрузья!Поздравляю вас с-летием радиостанции« Виктора. Все эти'"
      ]
     },
     "execution_count": 623,
     "metadata": {},
     "output_type": "execute_result"
    }
   ],
   "source": [
    "generate_congrat('Виктор')"
   ]
  },
  {
   "cell_type": "code",
   "execution_count": 624,
   "id": "7e0c1d6a-9779-4100-823a-5476903acdb7",
   "metadata": {},
   "outputs": [
    {
     "name": "stderr",
     "output_type": "stream",
     "text": [
      "Setting `pad_token_id` to `eos_token_id`:50256 for open-end generation.\n"
     ]
    },
    {
     "data": {
      "text/plain": [
       "'Егору Егору Егору поздравления с-летним юбилеем. Вас по праву считают выдающимся хоккеистом и талантливым тренером, волевым, целеустремлённым и очень деятельным человеком. Ваши блестящие достижения и выдающиеся выступления имеют большое значение для развития отечественного спорта, укрепления его международного престижа. И конечно, они имеют значение для воспитания молодёжи. От души желаю Вам здоровья, благополучия и всего самого доброго. Егору. Егора, кинорежиссёру, сценаристу, народному артисту России Егору поздравления с-летним юбилеем. Вас по праву считают выдающимся режиссёром и сценаристом, одним из ярких представителей отечественного кинотворчества, достойным продолжателем творческих традиций знаменитой вахтанговской школы. Ваши фильмы, созданные в самых разных жанрах, стилях и направлениях, пользуются популярностью у зрителей разных поколений. И конечно, они всегда интересны зрителям разных поколений. От души желаю Вам доброго здоровья, благополучия и вдохновения. Егору. Егору, президенту Егору поздравления с-летним юбилеем. Вас по праву считают выдающимся режиссёром и сценаристом, достойным продолжателем творческих традиций знаменитой вахтанговской школы. Ваши фильмы, созданные в самых разных жанрах, стилях и направлениях, пользуются популярностью у зрителей разных поколений. И конечно, они всегда интересны зрителям разных поколений. От души желаю Вам доброго здоровья, благополучия и вдохновения. От души желаю Вам доброго здоровья, благополучия и всего самого доброго. Талантливый режиссёр, поэт и драматург, Вы создали немало замечательных фильмов, которые пользуются популярностью у зрителей разных поколений. И конечно, они всегда интересны самому широкому кругу зрителей. От души желаю Вам доброго здоровья, благополучия и вдохновения. Талантливый режиссёр и поэт, Вы создали немало замечательных фильмов, которые пользуются популярностью у зрителей разных поколений. И сегодня они продолжают лучшие традиции знаменитой вахтанговской школы. От души желаю Вам доброго здоровья, благополучия и вдохновения. Талантливый режиссёр, Вы многое сделали для развития отечественного киноискусства. От души желаю Вам доброго здоровья и благополучия. Талантливый режиссёр, Вы многое сделали для сохранения и популяризации традиций знаменитой вахтанговской школы. От души желаю Вам доброго здоровья, благополучия и всего самого доброго. От души желаю Вам доброго здоровья, благополучия и всего самого доброго. Егору. Егору, академику Егору Егору'"
      ]
     },
     "execution_count": 624,
     "metadata": {},
     "output_type": "execute_result"
    }
   ],
   "source": [
    "generate_congrat('Егору')"
   ]
  },
  {
   "cell_type": "code",
   "execution_count": 625,
   "id": "af4e332c-eeb4-479d-8427-3b442ef03596",
   "metadata": {},
   "outputs": [
    {
     "name": "stderr",
     "output_type": "stream",
     "text": [
      "Setting `pad_token_id` to `eos_token_id`:50256 for open-end generation.\n"
     ]
    },
    {
     "data": {
      "text/plain": [
       "'Егору Егору Егору поздравления с-летним юбилеем. Вас по праву считают выдающимся хоккеистом и талантливым тренером, волевым, целеустремлённым и очень деятельным человеком. Ваши блестящие достижения и выдающиеся выступления имеют большое значение для развития отечественного спорта, укрепления его международного престижа. И конечно, они имеют значение для воспитания молодёжи. От души желаю Вам здоровья, благополучия и всего самого доброго. Егору. Егора, кинорежиссёру, сценаристу, народному артисту России Егору поздравления с-летним юбилеем. Вас по праву считают выдающимся режиссёром и сценаристом, одним из ярких представителей отечественного кинотворчества, достойным продолжателем творческих традиций знаменитой вахтанговской школы. Ваши фильмы, созданные в самых разных жанрах, стилях и направлениях, пользуются популярностью у зрителей разных поколений. И конечно, они всегда интересны зрителям разных поколений. От души желаю Вам доброго здоровья, благополучия и вдохновения. Егору. Егору, президенту Егору поздравления с-летним юбилеем. Вас по праву считают выдающимся режиссёром и сценаристом, достойным продолжателем творческих традиций знаменитой вахтанговской школы. Ваши фильмы, созданные в самых разных жанрах, стилях и направлениях, пользуются популярностью у зрителей разных поколений. И конечно, они всегда интересны зрителям разных поколений. От души желаю Вам доброго здоровья, благополучия и вдохновения. От души желаю Вам доброго здоровья, благополучия и всего самого доброго. Талантливый режиссёр, поэт и драматург, Вы создали немало замечательных фильмов, которые пользуются популярностью у зрителей разных поколений. И конечно, они всегда интересны самому широкому кругу зрителей. От души желаю Вам доброго здоровья, благополучия и вдохновения. Талантливый режиссёр и поэт, Вы создали немало замечательных фильмов, которые пользуются популярностью у зрителей разных поколений. И сегодня они продолжают лучшие традиции знаменитой вахтанговской школы. От души желаю Вам доброго здоровья, благополучия и вдохновения. Талантливый режиссёр, Вы многое сделали для развития отечественного киноискусства. От души желаю Вам доброго здоровья и благополучия. Талантливый режиссёр, Вы многое сделали для сохранения и популяризации традиций знаменитой вахтанговской школы. От души желаю Вам доброго здоровья, благополучия и всего самого доброго. От души желаю Вам доброго здоровья, благополучия и всего самого доброго. Егору. Егору, академику Егору Егору'"
      ]
     },
     "execution_count": 625,
     "metadata": {},
     "output_type": "execute_result"
    }
   ],
   "source": [
    "generate_congrat('Егору')"
   ]
  },
  {
   "cell_type": "code",
   "execution_count": 640,
   "id": "104376bc-d10c-4f6a-830a-ae75ba1be4d4",
   "metadata": {},
   "outputs": [
    {
     "name": "stderr",
     "output_type": "stream",
     "text": [
      "Setting `pad_token_id` to `eos_token_id`:50256 for open-end generation.\n"
     ]
    },
    {
     "data": {
      "text/plain": [
       "'Семен Семеныча»– это яркое, неординарное творчество, которое объединяет настоящих единомышленников, профессионалов разных поколений, которые бережно хранят и развивают традиции классической школы хореографии, уделяют неустанное внимание наставничеству, воспитанию молодых артистов. И конечно,« Семёну» всегда востребован, как яркий, востребованный проект. Уверен, что его творческая группа, все эти годы будет и впредь привлекать к своей деятельности ведущие российские и зарубежные театры. Желаю вам успехов и всего самого доброго. Семёну. Жителям Республики Ингушетия Дорогиедрузья!Поздравляю вас с юбилейной датой–-летием Республики Ингушетия. Многие поколения жителей республики внесли большой, поистине уникальный вклад в укрепление промышленного потенциала региона, развитие промышленного, оборонного потенциала, укрепление экономического потенциала. Ваша страна по праву считается одним из наиболее стабильных и экономически развитых субъектов Российской Федерации. Здесь сосредоточены крупные предприятия деревообрабатывающего, горнорудного, топливно- энергетического комплексов, совершенствуется социальная, транспортная инфраструктура. Большое внимание уделяется становлению современного этнографического и экологического туризма. Убеждён, что вы и впредь будете высоко держать планку качества жизни, активно участвовать в решении востребованных общественных, просветительских, благотворительных проектов. Желаю вам успехов в реализации намеченных планов, здоровья и всего самого доброго. Семёну. Семёну. Семёна, актрисе Семёну, заслуженной артистке РСФСР Уважаемая Семёну мои поздравления с юбилейным Днём рождения. Ваша биография неразрывно связана со знаменитым театром« Семёну», на сцене которого Вы сыграли десятки ярких разноплановых ролей, а работа в кинематографе принесла Вам не только широкую зрительскую известность, но и искреннюю любовь зрителей. Желаю Вам здоровья, благополучия и всего самого доброго. Семёну. Семёна, специалисту в области земледелия, экономики и организации сельскохозяйственного производства, директору Семёну, академику Семёну мои поздравления с юбилейным Днём рождения. Вы внесли большой вклад в развитие отечественного сельского хозяйства, укрепление промышленного потенциала региона. Ваши исследования, научные эксперименты по земледелию стали существенным вкладом в развитие отечественной школы хореографии. А Ваши практические наработки в сфере аграрной политики стали существенным вкладом в укрепление авторитета России как спортивной державы'"
      ]
     },
     "execution_count": 640,
     "metadata": {},
     "output_type": "execute_result"
    }
   ],
   "source": [
    "generate_congrat('Семен')"
   ]
  },
  {
   "cell_type": "code",
   "execution_count": 641,
   "id": "04f3f343-8a1c-4ee7-9dbc-5e08de6b9713",
   "metadata": {},
   "outputs": [
    {
     "name": "stderr",
     "output_type": "stream",
     "text": [
      "Setting `pad_token_id` to `eos_token_id`:50256 for open-end generation.\n"
     ]
    },
    {
     "data": {
      "text/plain": [
       "'Семен Семеныча»– это яркое, неординарное творчество, которое объединяет настоящих единомышленников, профессионалов разных поколений, которые бережно хранят и развивают традиции классической школы хореографии, уделяют неустанное внимание наставничеству, воспитанию молодых артистов. И конечно,« Семёну» всегда востребован, как яркий, востребованный проект. Уверен, что его творческая группа, все эти годы будет и впредь привлекать к своей деятельности ведущие российские и зарубежные театры. Желаю вам успехов и всего самого доброго. Семёну. Жителям Республики Ингушетия Дорогиедрузья!Поздравляю вас с юбилейной датой–-летием Республики Ингушетия. Многие поколения жителей республики внесли большой, поистине уникальный вклад в укрепление промышленного потенциала региона, развитие промышленного, оборонного потенциала, укрепление экономического потенциала. Ваша страна по праву считается одним из наиболее стабильных и экономически развитых субъектов Российской Федерации. Здесь сосредоточены крупные предприятия деревообрабатывающего, горнорудного, топливно- энергетического комплексов, совершенствуется социальная, транспортная инфраструктура. Большое внимание уделяется становлению современного этнографического и экологического туризма. Убеждён, что вы и впредь будете высоко держать планку качества жизни, активно участвовать в решении востребованных общественных, просветительских, благотворительных проектов. Желаю вам успехов в реализации намеченных планов, здоровья и всего самого доброго. Семёну. Семёну. Семёна, актрисе Семёну, заслуженной артистке РСФСР Уважаемая Семёну мои поздравления с юбилейным Днём рождения. Ваша биография неразрывно связана со знаменитым театром« Семёну», на сцене которого Вы сыграли десятки ярких разноплановых ролей, а работа в кинематографе принесла Вам не только широкую зрительскую известность, но и искреннюю любовь зрителей. Желаю Вам здоровья, благополучия и всего самого доброго. Семёну. Семёна, специалисту в области земледелия, экономики и организации сельскохозяйственного производства, директору Семёну, академику Семёну мои поздравления с юбилейным Днём рождения. Вы внесли большой вклад в развитие отечественного сельского хозяйства, укрепление промышленного потенциала региона. Ваши исследования, научные эксперименты по земледелию стали существенным вкладом в развитие отечественной школы хореографии. А Ваши практические наработки в сфере аграрной политики стали существенным вкладом в укрепление авторитета России как спортивной державы'"
      ]
     },
     "execution_count": 641,
     "metadata": {},
     "output_type": "execute_result"
    }
   ],
   "source": [
    "generate_congrat('Семен')"
   ]
  },
  {
   "cell_type": "code",
   "execution_count": 628,
   "id": "f0b266b1-c07f-4168-9b0c-2bb2f14e4c0f",
   "metadata": {},
   "outputs": [
    {
     "name": "stderr",
     "output_type": "stream",
     "text": [
      "Setting `pad_token_id` to `eos_token_id`:50256 for open-end generation.\n"
     ]
    },
    {
     "data": {
      "text/plain": [
       "'Александревичевых, ансамбль по праву считается ярким, неординарнымявлением в отечественной и мировой культуре, нашим подлинным национальнымдостоянием. Для Александру был не только любимым детищем, но делом и смыслом всей жизни. Благодаря его подвижническому, вдохновенному труду и созидательной энергии, а также таланту и безупречному мастерству артистов Александра высочайшеепрофессиональное признание, покорил миллионы зрителей как в нашей стране, так и далеко за её пределами. Важно, что вы бережно храните бесценное творческое, духовное наследие Мастера и сложившиеся в коллективе традиции. И потому вашимконцертникам всегда сопутствует успех. Желаю вам новых творческих удач, вдохновения и всего наилучшего. Александру. Коллективу Александру вас со знаменательнойдатой–-летием создания Александра, что свой юбилей консерватория встречаетвпечатляющими успехами и достижениями. Сегодня, как и всегда, в еёисторических стенах царит атмосфера свободы, созидания и уважения. Воспитатели, преподаватели, воспитанники искренне заботятся о продолжении легендарных традиций музыкально- исполнительского искусства, которыми по праву славится наша страна. Уверен, что коллектив будет и впредь радовать своихвоспитанников и продолжателей новыми интереснымипроизведениями, радовать своих поклонников интересными творческими находками и замечательными, содержательными постановками, замечательными, замечательными традицияминашего прославленного коллектива. И конечно, консерватория гордится многими поколениями своих предшественников, которые посвятили себя любимому делу, внесли неоценимый вклад в развитиеотечественной культуры. И конечно, одной из жемчужин вашего богатаинского наследия является блистательная плеяда ярких, талантливыхмузыкантов, дирижёров, вдохновенно трудиться, вдохновенно трудиться, чтобывесомочить славу родного вуза и вековые традиции его выпускников. Желаю вам успехов, вдохновения и всего самого доброго. Александру. Александру Александру. Александру» Дорогиедрузья!Поздравляю вас со знаменательнойдатой–-летием создания Александра. История вашего легендарного предприятиянеразрывно связана с выдающимися отечественными учёными, учёными, организаторами вуза, которые стремилисьзаглянуть за горизонт. Их трудом и талантом была начата разработка уникальных проектов в области созданиявоздушно'"
      ]
     },
     "execution_count": 628,
     "metadata": {},
     "output_type": "execute_result"
    }
   ],
   "source": [
    "generate_congrat('Александре')"
   ]
  },
  {
   "cell_type": "code",
   "execution_count": 629,
   "id": "100bb82f-2957-4c3b-9cc9-10d4eca5f0ac",
   "metadata": {},
   "outputs": [
    {
     "name": "stderr",
     "output_type": "stream",
     "text": [
      "Setting `pad_token_id` to `eos_token_id`:50256 for open-end generation.\n"
     ]
    },
    {
     "data": {
      "text/plain": [
       "'Александревичевых, ансамбль по праву считается ярким, неординарнымявлением в отечественной и мировой культуре, нашим подлинным национальнымдостоянием. Для Александру был не только любимым детищем, но делом и смыслом всей жизни. Благодаря его подвижническому, вдохновенному труду и созидательной энергии, а также таланту и безупречному мастерству артистов Александра высочайшеепрофессиональное признание, покорил миллионы зрителей как в нашей стране, так и далеко за её пределами. Важно, что вы бережно храните бесценное творческое, духовное наследие Мастера и сложившиеся в коллективе традиции. И потому вашимконцертникам всегда сопутствует успех. Желаю вам новых творческих удач, вдохновения и всего наилучшего. Александру. Коллективу Александру вас со знаменательнойдатой–-летием создания Александра, что свой юбилей консерватория встречаетвпечатляющими успехами и достижениями. Сегодня, как и всегда, в еёисторических стенах царит атмосфера свободы, созидания и уважения. Воспитатели, преподаватели, воспитанники искренне заботятся о продолжении легендарных традиций музыкально- исполнительского искусства, которыми по праву славится наша страна. Уверен, что коллектив будет и впредь радовать своихвоспитанников и продолжателей новыми интереснымипроизведениями, радовать своих поклонников интересными творческими находками и замечательными, содержательными постановками, замечательными, замечательными традицияминашего прославленного коллектива. И конечно, консерватория гордится многими поколениями своих предшественников, которые посвятили себя любимому делу, внесли неоценимый вклад в развитиеотечественной культуры. И конечно, одной из жемчужин вашего богатаинского наследия является блистательная плеяда ярких, талантливыхмузыкантов, дирижёров, вдохновенно трудиться, вдохновенно трудиться, чтобывесомочить славу родного вуза и вековые традиции его выпускников. Желаю вам успехов, вдохновения и всего самого доброго. Александру. Александру Александру. Александру» Дорогиедрузья!Поздравляю вас со знаменательнойдатой–-летием создания Александра. История вашего легендарного предприятиянеразрывно связана с выдающимися отечественными учёными, учёными, организаторами вуза, которые стремилисьзаглянуть за горизонт. Их трудом и талантом была начата разработка уникальных проектов в области созданиявоздушно'"
      ]
     },
     "execution_count": 629,
     "metadata": {},
     "output_type": "execute_result"
    }
   ],
   "source": [
    "generate_congrat('Александре')"
   ]
  },
  {
   "cell_type": "code",
   "execution_count": 630,
   "id": "f75348eb-752d-430a-aea7-3d94e96507b2",
   "metadata": {},
   "outputs": [
    {
     "name": "stderr",
     "output_type": "stream",
     "text": [
      "Setting `pad_token_id` to `eos_token_id`:50256 for open-end generation.\n"
     ]
    },
    {
     "data": {
      "text/plain": [
       "'Завод\" Салют\" Уважаемыедрузья!Поздравляю вас с-летием создания завода«Салют». За прошедшие годы завод вырос в крупный научно- производственный комплекс с мощной, современной инфраструктурой, замечательными трудовыми традициями, которые передаются из поколения в поколение. Большая заслуга« Салюта»– выпуск востребованной наукоёмкой продукции, соблюдение высоких стандартов безопасности, за счёт внедрения передовых технологий, за счёт создания новых рабочих мест. Уверен, что вы и впредь будете добиваться поставленных целей, работать честно, на совесть. Желаю вам успехов и всего самого доброго.Заводу \"Салют\".Завод \"Салют\", художнику- живописцу, народному художнику РоссииЗаводу \"Салют\" самые тёплые поздравления с-летием и самые добрые пожелания. Многие годы Вы сохраняете верностьсвоему призванию, успешно осуществляете яркие, неординарные, интересныепроекты, которые связаны с сохранением и популяризацией искусства в нашей стране, развитием современного, экологичного, эффективного бизнеса. Ваше творчество всегда востребованно и любимо. От души желаю Вам здоровья, неиссякаемого вдохновения и всего самого доброго.Заводу \"Салют\".Завод \"Салют\", композитору, народному артисту РоссииЗаводу \"Салют\" самые тёплые поздравления с-летием. Человек многогранного таланта и большой творческой энергии, Вы по праву входите в число признанных профессионалов в отечественном и мировом искусстве, успешно осуществляете интересные творческие проекты. Ваше творчество всегда востребованно и любимо. Отрадно, что Вы всегда бережно храните и передаёте свои идеи и самые добрые чувства. Творческое сотрудничество с Вами стало настоящей удачей для многих известных исполнителей, режиссёров, композиторов, художников. И конечно, самого доброго. Желаю Вам здоровья и успехов, здоровья и вдохновения.Заводу \"Салют\".Завод \"Салют\", композитору, народному артисту РоссииЗаводу \"Салют\" самые тёплые поздравления с-летием. Человек многогранного таланта и большой творческой энергии, Вы всегда открыты для новых творческих идей и задумок, искренне заботитесь о продолжении традиций своего служения искусству. Всегда болеете душой за Отечество, стремитесь приносить пользу Отечеству. Желаю Вам здоровья и всего самого доброго. Здоровья Вам и успехов, здоровья и всего самого доброго.Заводу \"Салют\".Заводу \"Салют\", композитору, народному артисту РоссииЗаводу \"Салют\"'"
      ]
     },
     "execution_count": 630,
     "metadata": {},
     "output_type": "execute_result"
    }
   ],
   "source": [
    "generate_congrat('Завод \"Салют\"')"
   ]
  },
  {
   "cell_type": "code",
   "execution_count": 631,
   "id": "0c880681-ccb5-42f1-96a6-50f4dfce0cfb",
   "metadata": {},
   "outputs": [
    {
     "name": "stderr",
     "output_type": "stream",
     "text": [
      "Setting `pad_token_id` to `eos_token_id`:50256 for open-end generation.\n"
     ]
    },
    {
     "data": {
      "text/plain": [
       "'Завод\" Салют\" Уважаемыедрузья!Поздравляю вас с-летием создания завода«Салют». За прошедшие годы завод вырос в крупный научно- производственный комплекс с мощной, современной инфраструктурой, замечательными трудовыми традициями, которые передаются из поколения в поколение. Большая заслуга« Салюта»– выпуск востребованной наукоёмкой продукции, соблюдение высоких стандартов безопасности, за счёт внедрения передовых технологий, за счёт создания новых рабочих мест. Уверен, что вы и впредь будете добиваться поставленных целей, работать честно, на совесть. Желаю вам успехов и всего самого доброго.Заводу \"Салют\".Завод \"Салют\", художнику- живописцу, народному художнику РоссииЗаводу \"Салют\" самые тёплые поздравления с-летием и самые добрые пожелания. Многие годы Вы сохраняете верностьсвоему призванию, успешно осуществляете яркие, неординарные, интересныепроекты, которые связаны с сохранением и популяризацией искусства в нашей стране, развитием современного, экологичного, эффективного бизнеса. Ваше творчество всегда востребованно и любимо. От души желаю Вам здоровья, неиссякаемого вдохновения и всего самого доброго.Заводу \"Салют\".Завод \"Салют\", композитору, народному артисту РоссииЗаводу \"Салют\" самые тёплые поздравления с-летием. Человек многогранного таланта и большой творческой энергии, Вы по праву входите в число признанных профессионалов в отечественном и мировом искусстве, успешно осуществляете интересные творческие проекты. Ваше творчество всегда востребованно и любимо. Отрадно, что Вы всегда бережно храните и передаёте свои идеи и самые добрые чувства. Творческое сотрудничество с Вами стало настоящей удачей для многих известных исполнителей, режиссёров, композиторов, художников. И конечно, самого доброго. Желаю Вам здоровья и успехов, здоровья и вдохновения.Заводу \"Салют\".Завод \"Салют\", композитору, народному артисту РоссииЗаводу \"Салют\" самые тёплые поздравления с-летием. Человек многогранного таланта и большой творческой энергии, Вы всегда открыты для новых творческих идей и задумок, искренне заботитесь о продолжении традиций своего служения искусству. Всегда болеете душой за Отечество, стремитесь приносить пользу Отечеству. Желаю Вам здоровья и всего самого доброго. Здоровья Вам и успехов, здоровья и всего самого доброго.Заводу \"Салют\".Заводу \"Салют\", композитору, народному артисту РоссииЗаводу \"Салют\"'"
      ]
     },
     "execution_count": 631,
     "metadata": {},
     "output_type": "execute_result"
    }
   ],
   "source": [
    "generate_congrat('Завод \"Салют\"')"
   ]
  },
  {
   "cell_type": "code",
   "execution_count": 632,
   "id": "177c1962-1fd2-4cb1-8946-a2ca63075e6e",
   "metadata": {},
   "outputs": [
    {
     "name": "stderr",
     "output_type": "stream",
     "text": [
      "Setting `pad_token_id` to `eos_token_id`:50256 for open-end generation.\n"
     ]
    },
    {
     "data": {
      "text/plain": [
       "'Компания\" Звезда\"– современная, динамично развивающаяся структура, применяющая самые современные технологии, учитывающие запросы граждан, участников экономической жизни. Лучших сотрудников службы отличают высокийпрофессионализм и компетентность, ответственный подход к делу и безупречныеличные качества. Отмечу, что от вашей грамотной, слаженной работы во многомзависит обеспечение устойчивого финансового потока в казну государства и бюджеты регионов, эффективное решение востребованных социальных проблем и в целом укрепление экономической безопасности страны, улучшение делового, инвестиционного климата. Уверен, что вы и впредь будете честно трудиться, достойно решатьзадачи, стоящие перед сферой холдинга. Желаю вам успехов и всего самого доброго.Компании \"Звезда\".Компания \"Звезда\", актёру театра и кино, народному артисту России Уважаемый ОлегАндреевич!Примите поздравления с-летним юбилеем. Самобытный, многогранный ипо‑настоящему талантливый артист, за годы творческой работыКомпания \"Звезда\" замечательные, незабываемые роли в кино, реализовали своё дарование на эстраде, телевидении и радио, вписали незабываемые страницы в историю отечественной мультипликации и по праву заслужили высокое профессиональное признание и искреннюю, непреходящую любовь зрителей. ЖелаюКомпании \"Звезда\" всего самого доброго.Компании \"Звезда\". Сотрудникам и ветеранам органов прокуратуры Российской Федерации Уважаемыетоварищи!Поздравляю вас с профессиональным праздником– Днём работника прокуратуры Российской Федерации. На протяжении многих летКомпанию \"Звезда\" ключевую роль в укреплении российской государственности, в развитии общества, в защите прав и законных интересов граждан страны. И потому именно от вас, вашей компетентности, настойчивости и безупречных личных качествна протяжении многих лет прямо зависит обеспечение единства правового пространства страны. Россия по праву гордится вами как представительницей отечественнойправоохранительной системы, силачом и волевым характером, как уникальной творческой командой, существующей на отточенных профессиональных традициях, сплочённой командой единомышленников, которые всегда и во все времена славились своей самоотдачей, инициативностью и подвижничеством, преданностью избранному делу. Желаю вам успехов, крепкого здоровья и всего самого доброго. Желаю вам успехов, благополучия и всего самого доброго.Компании \"Звезда\". Сотрудникам и ветеранам органов прокуратуры Российской Федерации Уважаемыетоварищи!Поздравляю вас с профессиональным праздником– Днём работника прокуратуры. На протяжении многих летКомпании \"Звезда\" ключевую роль в укреплении правопорядка, в решении задач'"
      ]
     },
     "execution_count": 632,
     "metadata": {},
     "output_type": "execute_result"
    }
   ],
   "source": [
    "generate_congrat('Компания \"Звезда\"')"
   ]
  },
  {
   "cell_type": "code",
   "execution_count": 633,
   "id": "3031e283-790a-4036-ba71-84a213530cda",
   "metadata": {},
   "outputs": [
    {
     "name": "stderr",
     "output_type": "stream",
     "text": [
      "Setting `pad_token_id` to `eos_token_id`:50256 for open-end generation.\n"
     ]
    },
    {
     "data": {
      "text/plain": [
       "'Компания\" Звезда\"– современная, динамично развивающаяся структура, применяющая самые современные технологии, учитывающие запросы граждан, участников экономической жизни. Лучших сотрудников службы отличают высокийпрофессионализм и компетентность, ответственный подход к делу и безупречныеличные качества. Отмечу, что от вашей грамотной, слаженной работы во многомзависит обеспечение устойчивого финансового потока в казну государства и бюджеты регионов, эффективное решение востребованных социальных проблем и в целом укрепление экономической безопасности страны, улучшение делового, инвестиционного климата. Уверен, что вы и впредь будете честно трудиться, достойно решатьзадачи, стоящие перед сферой холдинга. Желаю вам успехов и всего самого доброго.Компании \"Звезда\".Компания \"Звезда\", актёру театра и кино, народному артисту России Уважаемый ОлегАндреевич!Примите поздравления с-летним юбилеем. Самобытный, многогранный ипо‑настоящему талантливый артист, за годы творческой работыКомпания \"Звезда\" замечательные, незабываемые роли в кино, реализовали своё дарование на эстраде, телевидении и радио, вписали незабываемые страницы в историю отечественной мультипликации и по праву заслужили высокое профессиональное признание и искреннюю, непреходящую любовь зрителей. ЖелаюКомпании \"Звезда\" всего самого доброго.Компании \"Звезда\". Сотрудникам и ветеранам органов прокуратуры Российской Федерации Уважаемыетоварищи!Поздравляю вас с профессиональным праздником– Днём работника прокуратуры Российской Федерации. На протяжении многих летКомпанию \"Звезда\" ключевую роль в укреплении российской государственности, в развитии общества, в защите прав и законных интересов граждан страны. И потому именно от вас, вашей компетентности, настойчивости и безупречных личных качествна протяжении многих лет прямо зависит обеспечение единства правового пространства страны. Россия по праву гордится вами как представительницей отечественнойправоохранительной системы, силачом и волевым характером, как уникальной творческой командой, существующей на отточенных профессиональных традициях, сплочённой командой единомышленников, которые всегда и во все времена славились своей самоотдачей, инициативностью и подвижничеством, преданностью избранному делу. Желаю вам успехов, крепкого здоровья и всего самого доброго. Желаю вам успехов, благополучия и всего самого доброго.Компании \"Звезда\". Сотрудникам и ветеранам органов прокуратуры Российской Федерации Уважаемыетоварищи!Поздравляю вас с профессиональным праздником– Днём работника прокуратуры. На протяжении многих летКомпании \"Звезда\" ключевую роль в укреплении правопорядка, в решении задач'"
      ]
     },
     "execution_count": 633,
     "metadata": {},
     "output_type": "execute_result"
    }
   ],
   "source": [
    "generate_congrat('Компания \"Звезда\"')"
   ]
  },
  {
   "cell_type": "code",
   "execution_count": 634,
   "id": "31b9da1c-db39-4e57-ad99-cf44b0935a2b",
   "metadata": {},
   "outputs": [
    {
     "name": "stderr",
     "output_type": "stream",
     "text": [
      "Setting `pad_token_id` to `eos_token_id`:50256 for open-end generation.\n"
     ]
    },
    {
     "data": {
      "text/plain": [
       "'Сообщество\"Вымпел\"союза конструкторов, инженеров и специалистов, соработников оборонно- промышленного комплекса России. Объединив своими высокими, благородными целями ветеранов Великой Отечественной войны и боевых действий,Сообществу \"Вымпел\" ветерановСообщества \"Вымпел\", поздравляю вас со знаменательнымюбилеем. Созданный в году, с первых же дней он стал ярким явлением в культурной и общественной жизни страны, обогатил отечественнуюэстраду, театр и кинематограф. Все эти годы ваш театр и кинематографсохраняет верность замечательным традициям предшественников, уверенно держит планку одного из признанных лидеров в мировомискусстве. Желаю вам успехов, вдохновения и всего наилучшего.Сообществу \"Вымпел\".Сообществу \"Вымпел\" читателям газеты«Сообщества \"Вымпел\"» Дорогиедрузья!Поздравляю вас со знаменательнымюбилеем газеты«Сообщества \"Вымпел\". Прошедшие годыстали временем для выхода в свет первого номера– радостный, увлекательныйжурнал, который стал настоящим праздником, настоящим праздником, одним из символовгероизма и мужества наших дней. И конечно, отмечу многогранную, востребованную деятельность« Вымпела», его замечательныхтрадиций. Важно, что вы нашли особый, доверительный и всегдауникальный формат общения с журналистами, нашли особый, доверительный и всегдауникальный подход к решению поставленных задач. Убеждён, что вы и впредьбудете с полной отдачей трудиться на благо России и её граждан. Желаю вам интересных, содержательных творческих экспериментов, зрителей, интересных аналитических материалов и очерков, ярких художественных идей и задумок. Желаю вам успехов, здоровья и всего наилучшего.Сообществу \"Вымпел\".Сообществу \"Вымпел\"» Уважаемыедрузья!Поздравляю вас со знаменательной датой–-летием созданияСообщества \"Вымпел\". Прошедшие годыстали для выхода в свет первого номера– радостный, увлекательныйжурнал, который стал настоящим праздником, обогатил отечественнуюэстраду, театр и кинематограф. И конечно, отмечу многогранную, востребованную деятельность« Вымпела». Все эти годы ваш коллективспециально участвует в реализации востребованных фестивальных, просветительских инициатив, в реализации востребованных патриотических, благотворительных проектов, в реализации востребованных инициатив в сфере культуры и просветительства. Такая многогранная деятельность достойна глубокого, искреннего уважения. И конечно, отмечу вашу большую'"
      ]
     },
     "execution_count": 634,
     "metadata": {},
     "output_type": "execute_result"
    }
   ],
   "source": [
    "generate_congrat('Сообщество \"Вымпел\"')"
   ]
  },
  {
   "cell_type": "code",
   "execution_count": 635,
   "id": "472a9a0f-1a96-43df-9e68-8b32eff2690e",
   "metadata": {},
   "outputs": [
    {
     "name": "stderr",
     "output_type": "stream",
     "text": [
      "Setting `pad_token_id` to `eos_token_id`:50256 for open-end generation.\n"
     ]
    },
    {
     "data": {
      "text/plain": [
       "'Сообщество\"Вымпел\"союза конструкторов, инженеров и специалистов, соработников оборонно- промышленного комплекса России. Объединив своими высокими, благородными целями ветеранов Великой Отечественной войны и боевых действий,Сообществу \"Вымпел\" ветерановСообщества \"Вымпел\", поздравляю вас со знаменательнымюбилеем. Созданный в году, с первых же дней он стал ярким явлением в культурной и общественной жизни страны, обогатил отечественнуюэстраду, театр и кинематограф. Все эти годы ваш театр и кинематографсохраняет верность замечательным традициям предшественников, уверенно держит планку одного из признанных лидеров в мировомискусстве. Желаю вам успехов, вдохновения и всего наилучшего.Сообществу \"Вымпел\".Сообществу \"Вымпел\" читателям газеты«Сообщества \"Вымпел\"» Дорогиедрузья!Поздравляю вас со знаменательнымюбилеем газеты«Сообщества \"Вымпел\". Прошедшие годыстали временем для выхода в свет первого номера– радостный, увлекательныйжурнал, который стал настоящим праздником, настоящим праздником, одним из символовгероизма и мужества наших дней. И конечно, отмечу многогранную, востребованную деятельность« Вымпела», его замечательныхтрадиций. Важно, что вы нашли особый, доверительный и всегдауникальный формат общения с журналистами, нашли особый, доверительный и всегдауникальный подход к решению поставленных задач. Убеждён, что вы и впредьбудете с полной отдачей трудиться на благо России и её граждан. Желаю вам интересных, содержательных творческих экспериментов, зрителей, интересных аналитических материалов и очерков, ярких художественных идей и задумок. Желаю вам успехов, здоровья и всего наилучшего.Сообществу \"Вымпел\".Сообществу \"Вымпел\"» Уважаемыедрузья!Поздравляю вас со знаменательной датой–-летием созданияСообщества \"Вымпел\". Прошедшие годыстали для выхода в свет первого номера– радостный, увлекательныйжурнал, который стал настоящим праздником, обогатил отечественнуюэстраду, театр и кинематограф. И конечно, отмечу многогранную, востребованную деятельность« Вымпела». Все эти годы ваш коллективспециально участвует в реализации востребованных фестивальных, просветительских инициатив, в реализации востребованных патриотических, благотворительных проектов, в реализации востребованных инициатив в сфере культуры и просветительства. Такая многогранная деятельность достойна глубокого, искреннего уважения. И конечно, отмечу вашу большую'"
      ]
     },
     "execution_count": 635,
     "metadata": {},
     "output_type": "execute_result"
    }
   ],
   "source": [
    "generate_congrat('Сообщество \"Вымпел\"')"
   ]
  },
  {
   "cell_type": "code",
   "execution_count": 636,
   "id": "473709ac-e55e-4c7c-9778-22443f96ff62",
   "metadata": {},
   "outputs": [
    {
     "name": "stderr",
     "output_type": "stream",
     "text": [
      "Setting `pad_token_id` to `eos_token_id`:50256 for open-end generation.\n"
     ]
    },
    {
     "data": {
      "text/plain": [
       "'Мудрейший утконоситель отечественной культуры и общественной мысли, человек, наделённый поистине неиссякаемой созидательной энергией, Своим многогранным творчеством Вы обогащаете культурную, общественную жизнь страны, способствуете сохранению и популяризации богатейшего исторического, духовного, творческого наследия нашего народа. Желаю Вам здоровья, успехов и всего самого доброго.Мудрейшему Утконосу. Сборной России по хоккею с мячом Уважаемыедрузья!Поздравляю вас с триумфом на чемпионате мира по хоккею с мячом. Вы достойно провели все матчи первенства, неизменно демонстрировали великолепное мастерство, волю, командный настрой и в решающем поединке с блеском обыграли своих принципиальных соперников– сборную Швеции.Молодцы!На чемпионате мира в Болгарии вы продемонстрироваливысочайший класс мастерства и по- настоящему чемпионский характер, уверенновышли в лидеры соревнований.Молодцы!Желаю вам новых успехов и всего наилучшего.Мудрейшего Утконоса Темы Спорт. Православным христианам, всем гражданам России, отмечающим Светлое Христово Воскресение Поздравляю вас с этим великим праздником. Праздник Пасхи, олицетворяющий торжество жизни, добраи справедливости, имеет огромное нравственное значение. Он пробуждает веру, надежду, стремление к гармонии и чистоте помыслов, обращает верующих к духовным истокам и нравственным истокам этой древнейрелигии, объединяетнас вокруг идеалов добра, справедливости и справедливости. Благодаряразвитию православия в нашей стране создана целая палитра самобытных, самобытных традиций, которые отличаются глубиной и проникновенностью, чемпионским характером. Важно, что православная церковь, другие христианские конфессии уделяют неустанноевнимание вопросам нравственного здоровья общества, укрепления института семьи, воспитания подрастающего поколения, искренне заботятся о поддержаниимежнационального и межрелигиозного диалога. Эта большая, многогранная работа имеет большое значение для воспитания подрастающего поколения, беременного поколения, упрочения института семьи, упрочения института семьи. И конечно, важно, что сегодня, опираясь на замечательные традиции, университетскаябесконечность, замечательные традиции, университетскаябесконечность продолжает лучшие традиции своего существования, способствует развитию отечественного образования, воспитания молодёжи, популяризации лучших традиций духовного общения, сохранения и развития традиций национальной культуры. Желаю вам успехов, здоровья и всего самого доброго.Мудрейшему Утконосу.Мудрейшему Утконосу, актрисе театра и кино, народной артистке СССР'"
      ]
     },
     "execution_count": 636,
     "metadata": {},
     "output_type": "execute_result"
    }
   ],
   "source": [
    "generate_congrat('Мудрейший утконос')"
   ]
  },
  {
   "cell_type": "code",
   "execution_count": 637,
   "id": "417f8ffa-4b57-414a-951c-3e317c6eefc3",
   "metadata": {},
   "outputs": [
    {
     "name": "stderr",
     "output_type": "stream",
     "text": [
      "Setting `pad_token_id` to `eos_token_id`:50256 for open-end generation.\n"
     ]
    },
    {
     "data": {
      "text/plain": [
       "'Мудрейший утконоситель отечественной культуры и общественной мысли, человек, наделённый поистине неиссякаемой созидательной энергией, Своим многогранным творчеством Вы обогащаете культурную, общественную жизнь страны, способствуете сохранению и популяризации богатейшего исторического, духовного, творческого наследия нашего народа. Желаю Вам здоровья, успехов и всего самого доброго.Мудрейшему Утконосу. Сборной России по хоккею с мячом Уважаемыедрузья!Поздравляю вас с триумфом на чемпионате мира по хоккею с мячом. Вы достойно провели все матчи первенства, неизменно демонстрировали великолепное мастерство, волю, командный настрой и в решающем поединке с блеском обыграли своих принципиальных соперников– сборную Швеции.Молодцы!На чемпионате мира в Болгарии вы продемонстрироваливысочайший класс мастерства и по- настоящему чемпионский характер, уверенновышли в лидеры соревнований.Молодцы!Желаю вам новых успехов и всего наилучшего.Мудрейшего Утконоса Темы Спорт. Православным христианам, всем гражданам России, отмечающим Светлое Христово Воскресение Поздравляю вас с этим великим праздником. Праздник Пасхи, олицетворяющий торжество жизни, добраи справедливости, имеет огромное нравственное значение. Он пробуждает веру, надежду, стремление к гармонии и чистоте помыслов, обращает верующих к духовным истокам и нравственным истокам этой древнейрелигии, объединяетнас вокруг идеалов добра, справедливости и справедливости. Благодаряразвитию православия в нашей стране создана целая палитра самобытных, самобытных традиций, которые отличаются глубиной и проникновенностью, чемпионским характером. Важно, что православная церковь, другие христианские конфессии уделяют неустанноевнимание вопросам нравственного здоровья общества, укрепления института семьи, воспитания подрастающего поколения, искренне заботятся о поддержаниимежнационального и межрелигиозного диалога. Эта большая, многогранная работа имеет большое значение для воспитания подрастающего поколения, беременного поколения, упрочения института семьи, упрочения института семьи. И конечно, важно, что сегодня, опираясь на замечательные традиции, университетскаябесконечность, замечательные традиции, университетскаябесконечность продолжает лучшие традиции своего существования, способствует развитию отечественного образования, воспитания молодёжи, популяризации лучших традиций духовного общения, сохранения и развития традиций национальной культуры. Желаю вам успехов, здоровья и всего самого доброго.Мудрейшему Утконосу.Мудрейшему Утконосу, актрисе театра и кино, народной артистке СССР'"
      ]
     },
     "execution_count": 637,
     "metadata": {},
     "output_type": "execute_result"
    }
   ],
   "source": [
    "generate_congrat('Мудрейший утконос')"
   ]
  },
  {
   "cell_type": "code",
   "execution_count": 638,
   "id": "556e5c94-0003-43ad-b31c-9eb457b34d1a",
   "metadata": {},
   "outputs": [
    {
     "name": "stderr",
     "output_type": "stream",
     "text": [
      "Setting `pad_token_id` to `eos_token_id`:50256 for open-end generation.\n"
     ]
    },
    {
     "data": {
      "text/plain": [
       "'Заморские гнилые слова» УважаемаяЗаморские Гнилые Вас с юбилейной датой–-летием со дня рождения. Своим вдохновенным творчеством Вы вписали яркие страницы в историю отечественного музыкального искусства, обогатили замечательные традицииэстрадной, джазовой исполнительских школ. На престижных мировых сценическихплощадках, в гастрольных поездках по стране Вам всегда сопутствует большой, настоящий успех. Такая профессиональная востребованность– заслуженная наградаза Ваш щедрый талант и безграничную преданность своему призванию. Желаю Вам здоровья, благополучия и всего самого доброго.Заморским Гнилым. КоллективуЗаморским Гнилым» Дорогиедрузья!Поздравляю вас с-летием еженедельника«Заморских Гнилых. Прошедшие годыстали для издания временем активного творческого поиска и развития. ИЗаморским Гнилым» по праву считается одним из лидеров отечественногомедиарынка, авторитетным источником новостей и актуальной информации в сфереполитики и экономики, культуры и науки, образования и спорта. Уверен, главныйсекрет непреходящей популярности газеты– профессионализм сотрудников, умениесочетать лучшие традиции отечественной журналистики с новаторскими идеями и подходами. И конечно, важно, что вы нашли особый, доверительный и всегдауважительный подход к освещению важнейших тем и событий, подходом, который объединяет настоящих профессионалов, авторитетных специалистов в сфереполитики и экономики, науки и культуры, представителей других специальностей. Уверен, главныйсекрет непреходящей популярности– профессионализм сотрудников, умениесочетать лучшие традиции газеты с новаторскими идеями и подходами. И конечно, важно, что вы нашли особый, доверительный и всегдауважительный подход к освещению важнейших тем и событий, подходом к постановке личных, семейных, межнациональных и международных проблем. Желаю вам успехов и всего самого доброго.Заморским Гнилым. КоллективуЗаморским Гнилым» Дорогиедрузья!Поздравляю вас с-летием еженедельника«Заморских Гнилых. За эти годы вашеиздание выросло в одно из крупнейших и авторитетных предприятий медийной отрасли с замечательными трудовыми традициями, замечательными, востребованными традициями коллектива. И конечно, важно, что вы нашли особый, доверительный и всегдауважительный подход к формированиюглавного информационного поля издания. Уверен, главныйсекрет непреходящей популярности– профессионализм сотрудников, умение поддерживать постоянныйконструктивный'"
      ]
     },
     "execution_count": 638,
     "metadata": {},
     "output_type": "execute_result"
    }
   ],
   "source": [
    "generate_congrat('Заморские гнилые')"
   ]
  },
  {
   "cell_type": "code",
   "execution_count": 639,
   "id": "e8450845-f3af-4cd4-bb38-3dd4606935ac",
   "metadata": {},
   "outputs": [
    {
     "name": "stderr",
     "output_type": "stream",
     "text": [
      "Setting `pad_token_id` to `eos_token_id`:50256 for open-end generation.\n"
     ]
    },
    {
     "data": {
      "text/plain": [
       "'Заморские гнилые слова» УважаемаяЗаморские Гнилые Вас с юбилейной датой–-летием со дня рождения. Своим вдохновенным творчеством Вы вписали яркие страницы в историю отечественного музыкального искусства, обогатили замечательные традицииэстрадной, джазовой исполнительских школ. На престижных мировых сценическихплощадках, в гастрольных поездках по стране Вам всегда сопутствует большой, настоящий успех. Такая профессиональная востребованность– заслуженная наградаза Ваш щедрый талант и безграничную преданность своему призванию. Желаю Вам здоровья, благополучия и всего самого доброго.Заморским Гнилым. КоллективуЗаморским Гнилым» Дорогиедрузья!Поздравляю вас с-летием еженедельника«Заморских Гнилых. Прошедшие годыстали для издания временем активного творческого поиска и развития. ИЗаморским Гнилым» по праву считается одним из лидеров отечественногомедиарынка, авторитетным источником новостей и актуальной информации в сфереполитики и экономики, культуры и науки, образования и спорта. Уверен, главныйсекрет непреходящей популярности газеты– профессионализм сотрудников, умениесочетать лучшие традиции отечественной журналистики с новаторскими идеями и подходами. И конечно, важно, что вы нашли особый, доверительный и всегдауважительный подход к освещению важнейших тем и событий, подходом, который объединяет настоящих профессионалов, авторитетных специалистов в сфереполитики и экономики, науки и культуры, представителей других специальностей. Уверен, главныйсекрет непреходящей популярности– профессионализм сотрудников, умениесочетать лучшие традиции газеты с новаторскими идеями и подходами. И конечно, важно, что вы нашли особый, доверительный и всегдауважительный подход к освещению важнейших тем и событий, подходом к постановке личных, семейных, межнациональных и международных проблем. Желаю вам успехов и всего самого доброго.Заморским Гнилым. КоллективуЗаморским Гнилым» Дорогиедрузья!Поздравляю вас с-летием еженедельника«Заморских Гнилых. За эти годы вашеиздание выросло в одно из крупнейших и авторитетных предприятий медийной отрасли с замечательными трудовыми традициями, замечательными, востребованными традициями коллектива. И конечно, важно, что вы нашли особый, доверительный и всегдауважительный подход к формированиюглавного информационного поля издания. Уверен, главныйсекрет непреходящей популярности– профессионализм сотрудников, умение поддерживать постоянныйконструктивный'"
      ]
     },
     "execution_count": 639,
     "metadata": {},
     "output_type": "execute_result"
    }
   ],
   "source": [
    "generate_congrat('Заморские гнилые')"
   ]
  },
  {
   "cell_type": "code",
   "execution_count": null,
   "id": "a38d56f0-53e5-4373-bb27-25e63e52d243",
   "metadata": {},
   "outputs": [],
   "source": []
  },
  {
   "cell_type": "code",
   "execution_count": null,
   "id": "da6055db-d695-4c00-9372-9e6dcfcb40f5",
   "metadata": {},
   "outputs": [],
   "source": []
  },
  {
   "cell_type": "code",
   "execution_count": null,
   "id": "7efa6874-86c8-4373-9a41-1ceb69d61411",
   "metadata": {},
   "outputs": [],
   "source": []
  },
  {
   "cell_type": "code",
   "execution_count": 2,
   "id": "fdba5a52-db71-4914-b942-be5c8c8a5674",
   "metadata": {},
   "outputs": [],
   "source": [
    "a = torch.zeros(4, 4)"
   ]
  },
  {
   "cell_type": "code",
   "execution_count": 3,
   "id": "bd4ff179-13fc-4911-a3d8-09663052870e",
   "metadata": {},
   "outputs": [],
   "source": [
    "a = a + 1.1"
   ]
  },
  {
   "cell_type": "code",
   "execution_count": 4,
   "id": "eca339d5-7bbe-4de3-9e98-26c7638dc1bf",
   "metadata": {},
   "outputs": [],
   "source": [
    "b = a.cuda()"
   ]
  },
  {
   "cell_type": "code",
   "execution_count": 5,
   "id": "37e18aff-f0b2-48f9-9bb1-80933ad3c28b",
   "metadata": {},
   "outputs": [
    {
     "data": {
      "text/plain": [
       "tensor([[1.2100, 1.2100, 1.2100, 1.2100],\n",
       "        [1.2100, 1.2100, 1.2100, 1.2100],\n",
       "        [1.2100, 1.2100, 1.2100, 1.2100],\n",
       "        [1.2100, 1.2100, 1.2100, 1.2100]], device='cuda:0')"
      ]
     },
     "execution_count": 5,
     "metadata": {},
     "output_type": "execute_result"
    }
   ],
   "source": [
    "b**2"
   ]
  },
  {
   "cell_type": "code",
   "execution_count": null,
   "id": "8e19b3de-a29f-4ddb-9986-b958c01005b7",
   "metadata": {},
   "outputs": [],
   "source": []
  }
 ],
 "metadata": {
  "kernelspec": {
   "display_name": "Python 3",
   "language": "python",
   "name": "python3"
  },
  "language_info": {
   "codemirror_mode": {
    "name": "ipython",
    "version": 3
   },
   "file_extension": ".py",
   "mimetype": "text/x-python",
   "name": "python",
   "nbconvert_exporter": "python",
   "pygments_lexer": "ipython3",
   "version": "3.8.8"
  }
 },
 "nbformat": 4,
 "nbformat_minor": 5
}
