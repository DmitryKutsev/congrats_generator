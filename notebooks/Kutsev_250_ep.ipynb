{
 "cells": [
  {
   "cell_type": "code",
   "execution_count": 1,
   "id": "8894e5b0-44ab-4658-8ac2-32d3e5458472",
   "metadata": {},
   "outputs": [
    {
     "name": "stdout",
     "output_type": "stream",
     "text": [
      "Requirement already satisfied: transformers in /opt/conda/lib/python3.8/site-packages (4.15.0)\n",
      "Requirement already satisfied: sacremoses in /opt/conda/lib/python3.8/site-packages (from transformers) (0.0.45)\n",
      "Requirement already satisfied: regex!=2019.12.17 in /opt/conda/lib/python3.8/site-packages (from transformers) (2021.7.1)\n",
      "Requirement already satisfied: numpy>=1.17 in /opt/conda/lib/python3.8/site-packages (from transformers) (1.21.0)\n",
      "Requirement already satisfied: huggingface-hub<1.0,>=0.1.0 in /opt/conda/lib/python3.8/site-packages (from transformers) (0.2.1)\n",
      "Requirement already satisfied: packaging>=20.0 in /opt/conda/lib/python3.8/site-packages (from transformers) (21.0)\n",
      "Requirement already satisfied: tokenizers<0.11,>=0.10.1 in /opt/conda/lib/python3.8/site-packages (from transformers) (0.10.3)\n",
      "Requirement already satisfied: requests in /opt/conda/lib/python3.8/site-packages (from transformers) (2.25.1)\n",
      "Requirement already satisfied: pyyaml>=5.1 in /opt/conda/lib/python3.8/site-packages (from transformers) (5.4.1)\n",
      "Requirement already satisfied: filelock in /opt/conda/lib/python3.8/site-packages (from transformers) (3.0.12)\n",
      "Requirement already satisfied: tqdm>=4.27 in /opt/conda/lib/python3.8/site-packages (from transformers) (4.61.1)\n",
      "Requirement already satisfied: typing-extensions>=3.7.4.3 in /opt/conda/lib/python3.8/site-packages (from huggingface-hub<1.0,>=0.1.0->transformers) (3.10.0.0)\n",
      "Requirement already satisfied: pyparsing>=2.0.2 in /opt/conda/lib/python3.8/site-packages (from packaging>=20.0->transformers) (2.4.7)\n",
      "Requirement already satisfied: idna<3,>=2.5 in /opt/conda/lib/python3.8/site-packages (from requests->transformers) (2.10)\n",
      "Requirement already satisfied: certifi>=2017.4.17 in /opt/conda/lib/python3.8/site-packages (from requests->transformers) (2021.5.30)\n",
      "Requirement already satisfied: chardet<5,>=3.0.2 in /opt/conda/lib/python3.8/site-packages (from requests->transformers) (4.0.0)\n",
      "Requirement already satisfied: urllib3<1.27,>=1.21.1 in /opt/conda/lib/python3.8/site-packages (from requests->transformers) (1.26.6)\n",
      "Requirement already satisfied: joblib in /opt/conda/lib/python3.8/site-packages (from sacremoses->transformers) (1.0.1)\n",
      "Requirement already satisfied: six in /opt/conda/lib/python3.8/site-packages (from sacremoses->transformers) (1.16.0)\n",
      "Requirement already satisfied: click in /opt/conda/lib/python3.8/site-packages (from sacremoses->transformers) (8.0.1)\n",
      "\u001b[33mWARNING: You are using pip version 21.1.3; however, version 21.3.1 is available.\n",
      "You should consider upgrading via the '/opt/conda/bin/python -m pip install --upgrade pip' command.\u001b[0m\n"
     ]
    }
   ],
   "source": [
    "!pip install transformers -U"
   ]
  },
  {
   "cell_type": "code",
   "execution_count": 2,
   "id": "7b6684ba-0543-489b-b4fb-060aa0fc3f07",
   "metadata": {},
   "outputs": [
    {
     "name": "stdout",
     "output_type": "stream",
     "text": [
      "Requirement already satisfied: spacy in /opt/conda/lib/python3.8/site-packages (3.2.1)\n",
      "Requirement already satisfied: srsly<3.0.0,>=2.4.1 in /opt/conda/lib/python3.8/site-packages (from spacy) (2.4.2)\n",
      "Requirement already satisfied: thinc<8.1.0,>=8.0.12 in /opt/conda/lib/python3.8/site-packages (from spacy) (8.0.13)\n",
      "Requirement already satisfied: langcodes<4.0.0,>=3.2.0 in /opt/conda/lib/python3.8/site-packages (from spacy) (3.3.0)\n",
      "Requirement already satisfied: typer<0.5.0,>=0.3.0 in /opt/conda/lib/python3.8/site-packages (from spacy) (0.4.0)\n",
      "Requirement already satisfied: cymem<2.1.0,>=2.0.2 in /opt/conda/lib/python3.8/site-packages (from spacy) (2.0.6)\n",
      "Requirement already satisfied: catalogue<2.1.0,>=2.0.6 in /opt/conda/lib/python3.8/site-packages (from spacy) (2.0.6)\n",
      "Requirement already satisfied: tqdm<5.0.0,>=4.38.0 in /opt/conda/lib/python3.8/site-packages (from spacy) (4.61.1)\n",
      "Requirement already satisfied: jinja2 in /opt/conda/lib/python3.8/site-packages (from spacy) (3.0.1)\n",
      "Requirement already satisfied: pydantic!=1.8,!=1.8.1,<1.9.0,>=1.7.4 in /opt/conda/lib/python3.8/site-packages (from spacy) (1.8.2)\n",
      "Requirement already satisfied: murmurhash<1.1.0,>=0.28.0 in /opt/conda/lib/python3.8/site-packages (from spacy) (1.0.6)\n",
      "Requirement already satisfied: blis<0.8.0,>=0.4.0 in /opt/conda/lib/python3.8/site-packages (from spacy) (0.7.5)\n",
      "Requirement already satisfied: preshed<3.1.0,>=3.0.2 in /opt/conda/lib/python3.8/site-packages (from spacy) (3.0.6)\n",
      "Requirement already satisfied: packaging>=20.0 in /opt/conda/lib/python3.8/site-packages (from spacy) (21.0)\n",
      "Requirement already satisfied: numpy>=1.15.0 in /opt/conda/lib/python3.8/site-packages (from spacy) (1.21.0)\n",
      "Requirement already satisfied: spacy-legacy<3.1.0,>=3.0.8 in /opt/conda/lib/python3.8/site-packages (from spacy) (3.0.8)\n",
      "Requirement already satisfied: requests<3.0.0,>=2.13.0 in /opt/conda/lib/python3.8/site-packages (from spacy) (2.25.1)\n",
      "Requirement already satisfied: spacy-loggers<2.0.0,>=1.0.0 in /opt/conda/lib/python3.8/site-packages (from spacy) (1.0.1)\n",
      "Requirement already satisfied: wasabi<1.1.0,>=0.8.1 in /opt/conda/lib/python3.8/site-packages (from spacy) (0.9.0)\n",
      "Requirement already satisfied: pathy>=0.3.5 in /opt/conda/lib/python3.8/site-packages (from spacy) (0.6.1)\n",
      "Requirement already satisfied: setuptools in /opt/conda/lib/python3.8/site-packages (from spacy) (57.1.0)\n",
      "Requirement already satisfied: pyparsing>=2.0.2 in /opt/conda/lib/python3.8/site-packages (from packaging>=20.0->spacy) (2.4.7)\n",
      "Requirement already satisfied: smart-open<6.0.0,>=5.0.0 in /opt/conda/lib/python3.8/site-packages (from pathy>=0.3.5->spacy) (5.2.1)\n",
      "Requirement already satisfied: typing-extensions>=3.7.4.3 in /opt/conda/lib/python3.8/site-packages (from pydantic!=1.8,!=1.8.1,<1.9.0,>=1.7.4->spacy) (3.10.0.0)\n",
      "Requirement already satisfied: idna<3,>=2.5 in /opt/conda/lib/python3.8/site-packages (from requests<3.0.0,>=2.13.0->spacy) (2.10)\n",
      "Requirement already satisfied: certifi>=2017.4.17 in /opt/conda/lib/python3.8/site-packages (from requests<3.0.0,>=2.13.0->spacy) (2021.5.30)\n",
      "Requirement already satisfied: chardet<5,>=3.0.2 in /opt/conda/lib/python3.8/site-packages (from requests<3.0.0,>=2.13.0->spacy) (4.0.0)\n",
      "Requirement already satisfied: urllib3<1.27,>=1.21.1 in /opt/conda/lib/python3.8/site-packages (from requests<3.0.0,>=2.13.0->spacy) (1.26.6)\n",
      "Requirement already satisfied: click<9.0.0,>=7.1.1 in /opt/conda/lib/python3.8/site-packages (from typer<0.5.0,>=0.3.0->spacy) (8.0.1)\n",
      "Requirement already satisfied: MarkupSafe>=2.0 in /opt/conda/lib/python3.8/site-packages (from jinja2->spacy) (2.0.1)\n",
      "\u001b[33mWARNING: You are using pip version 21.1.3; however, version 21.3.1 is available.\n",
      "You should consider upgrading via the '/opt/conda/bin/python -m pip install --upgrade pip' command.\u001b[0m\n",
      "Note: you may need to restart the kernel to use updated packages.\n"
     ]
    }
   ],
   "source": [
    "pip install spacy"
   ]
  },
  {
   "cell_type": "code",
   "execution_count": 3,
   "id": "2c7ed061-010d-4b5e-891a-e9b00ba26fe0",
   "metadata": {},
   "outputs": [
    {
     "name": "stdout",
     "output_type": "stream",
     "text": [
      "Collecting ru-core-news-sm==3.2.0\n",
      "  Downloading https://github.com/explosion/spacy-models/releases/download/ru_core_news_sm-3.2.0/ru_core_news_sm-3.2.0-py3-none-any.whl (16.4 MB)\n",
      "\u001b[K     |████████████████████████████████| 16.4 MB 1.7 MB/s eta 0:00:01\n",
      "\u001b[?25hRequirement already satisfied: pymorphy2>=0.9 in /opt/conda/lib/python3.8/site-packages (from ru-core-news-sm==3.2.0) (0.9.1)\n",
      "Requirement already satisfied: spacy<3.3.0,>=3.2.0 in /opt/conda/lib/python3.8/site-packages (from ru-core-news-sm==3.2.0) (3.2.1)\n",
      "Requirement already satisfied: dawg-python>=0.7.1 in /opt/conda/lib/python3.8/site-packages (from pymorphy2>=0.9->ru-core-news-sm==3.2.0) (0.7.2)\n",
      "Requirement already satisfied: pymorphy2-dicts-ru<3.0,>=2.4 in /opt/conda/lib/python3.8/site-packages (from pymorphy2>=0.9->ru-core-news-sm==3.2.0) (2.4.417127.4579844)\n",
      "Requirement already satisfied: docopt>=0.6 in /opt/conda/lib/python3.8/site-packages (from pymorphy2>=0.9->ru-core-news-sm==3.2.0) (0.6.2)\n",
      "Requirement already satisfied: packaging>=20.0 in /opt/conda/lib/python3.8/site-packages (from spacy<3.3.0,>=3.2.0->ru-core-news-sm==3.2.0) (21.0)\n",
      "Requirement already satisfied: thinc<8.1.0,>=8.0.12 in /opt/conda/lib/python3.8/site-packages (from spacy<3.3.0,>=3.2.0->ru-core-news-sm==3.2.0) (8.0.13)\n",
      "Requirement already satisfied: murmurhash<1.1.0,>=0.28.0 in /opt/conda/lib/python3.8/site-packages (from spacy<3.3.0,>=3.2.0->ru-core-news-sm==3.2.0) (1.0.6)\n",
      "Requirement already satisfied: langcodes<4.0.0,>=3.2.0 in /opt/conda/lib/python3.8/site-packages (from spacy<3.3.0,>=3.2.0->ru-core-news-sm==3.2.0) (3.3.0)\n",
      "Requirement already satisfied: wasabi<1.1.0,>=0.8.1 in /opt/conda/lib/python3.8/site-packages (from spacy<3.3.0,>=3.2.0->ru-core-news-sm==3.2.0) (0.9.0)\n",
      "Requirement already satisfied: requests<3.0.0,>=2.13.0 in /opt/conda/lib/python3.8/site-packages (from spacy<3.3.0,>=3.2.0->ru-core-news-sm==3.2.0) (2.25.1)\n",
      "Requirement already satisfied: pathy>=0.3.5 in /opt/conda/lib/python3.8/site-packages (from spacy<3.3.0,>=3.2.0->ru-core-news-sm==3.2.0) (0.6.1)\n",
      "Requirement already satisfied: typer<0.5.0,>=0.3.0 in /opt/conda/lib/python3.8/site-packages (from spacy<3.3.0,>=3.2.0->ru-core-news-sm==3.2.0) (0.4.0)\n",
      "Requirement already satisfied: cymem<2.1.0,>=2.0.2 in /opt/conda/lib/python3.8/site-packages (from spacy<3.3.0,>=3.2.0->ru-core-news-sm==3.2.0) (2.0.6)\n",
      "Requirement already satisfied: jinja2 in /opt/conda/lib/python3.8/site-packages (from spacy<3.3.0,>=3.2.0->ru-core-news-sm==3.2.0) (3.0.1)\n",
      "Requirement already satisfied: catalogue<2.1.0,>=2.0.6 in /opt/conda/lib/python3.8/site-packages (from spacy<3.3.0,>=3.2.0->ru-core-news-sm==3.2.0) (2.0.6)\n",
      "Requirement already satisfied: spacy-loggers<2.0.0,>=1.0.0 in /opt/conda/lib/python3.8/site-packages (from spacy<3.3.0,>=3.2.0->ru-core-news-sm==3.2.0) (1.0.1)\n",
      "Requirement already satisfied: preshed<3.1.0,>=3.0.2 in /opt/conda/lib/python3.8/site-packages (from spacy<3.3.0,>=3.2.0->ru-core-news-sm==3.2.0) (3.0.6)\n",
      "Requirement already satisfied: blis<0.8.0,>=0.4.0 in /opt/conda/lib/python3.8/site-packages (from spacy<3.3.0,>=3.2.0->ru-core-news-sm==3.2.0) (0.7.5)\n",
      "Requirement already satisfied: spacy-legacy<3.1.0,>=3.0.8 in /opt/conda/lib/python3.8/site-packages (from spacy<3.3.0,>=3.2.0->ru-core-news-sm==3.2.0) (3.0.8)\n",
      "Requirement already satisfied: pydantic!=1.8,!=1.8.1,<1.9.0,>=1.7.4 in /opt/conda/lib/python3.8/site-packages (from spacy<3.3.0,>=3.2.0->ru-core-news-sm==3.2.0) (1.8.2)\n",
      "Requirement already satisfied: tqdm<5.0.0,>=4.38.0 in /opt/conda/lib/python3.8/site-packages (from spacy<3.3.0,>=3.2.0->ru-core-news-sm==3.2.0) (4.61.1)\n",
      "Requirement already satisfied: setuptools in /opt/conda/lib/python3.8/site-packages (from spacy<3.3.0,>=3.2.0->ru-core-news-sm==3.2.0) (57.1.0)\n",
      "Requirement already satisfied: numpy>=1.15.0 in /opt/conda/lib/python3.8/site-packages (from spacy<3.3.0,>=3.2.0->ru-core-news-sm==3.2.0) (1.21.0)\n",
      "Requirement already satisfied: srsly<3.0.0,>=2.4.1 in /opt/conda/lib/python3.8/site-packages (from spacy<3.3.0,>=3.2.0->ru-core-news-sm==3.2.0) (2.4.2)\n",
      "Requirement already satisfied: pyparsing>=2.0.2 in /opt/conda/lib/python3.8/site-packages (from packaging>=20.0->spacy<3.3.0,>=3.2.0->ru-core-news-sm==3.2.0) (2.4.7)\n",
      "Requirement already satisfied: smart-open<6.0.0,>=5.0.0 in /opt/conda/lib/python3.8/site-packages (from pathy>=0.3.5->spacy<3.3.0,>=3.2.0->ru-core-news-sm==3.2.0) (5.2.1)\n",
      "Requirement already satisfied: typing-extensions>=3.7.4.3 in /opt/conda/lib/python3.8/site-packages (from pydantic!=1.8,!=1.8.1,<1.9.0,>=1.7.4->spacy<3.3.0,>=3.2.0->ru-core-news-sm==3.2.0) (3.10.0.0)\n",
      "Requirement already satisfied: chardet<5,>=3.0.2 in /opt/conda/lib/python3.8/site-packages (from requests<3.0.0,>=2.13.0->spacy<3.3.0,>=3.2.0->ru-core-news-sm==3.2.0) (4.0.0)\n",
      "Requirement already satisfied: idna<3,>=2.5 in /opt/conda/lib/python3.8/site-packages (from requests<3.0.0,>=2.13.0->spacy<3.3.0,>=3.2.0->ru-core-news-sm==3.2.0) (2.10)\n",
      "Requirement already satisfied: urllib3<1.27,>=1.21.1 in /opt/conda/lib/python3.8/site-packages (from requests<3.0.0,>=2.13.0->spacy<3.3.0,>=3.2.0->ru-core-news-sm==3.2.0) (1.26.6)\n",
      "Requirement already satisfied: certifi>=2017.4.17 in /opt/conda/lib/python3.8/site-packages (from requests<3.0.0,>=2.13.0->spacy<3.3.0,>=3.2.0->ru-core-news-sm==3.2.0) (2021.5.30)\n",
      "Requirement already satisfied: click<9.0.0,>=7.1.1 in /opt/conda/lib/python3.8/site-packages (from typer<0.5.0,>=0.3.0->spacy<3.3.0,>=3.2.0->ru-core-news-sm==3.2.0) (8.0.1)\n",
      "Requirement already satisfied: MarkupSafe>=2.0 in /opt/conda/lib/python3.8/site-packages (from jinja2->spacy<3.3.0,>=3.2.0->ru-core-news-sm==3.2.0) (2.0.1)\n",
      "\u001b[33mWARNING: You are using pip version 21.1.3; however, version 21.3.1 is available.\n",
      "You should consider upgrading via the '/opt/conda/bin/python -m pip install --upgrade pip' command.\u001b[0m\n",
      "\u001b[38;5;2m✔ Download and installation successful\u001b[0m\n",
      "You can now load the package via spacy.load('ru_core_news_sm')\n"
     ]
    }
   ],
   "source": [
    "!python -m spacy download ru_core_news_sm"
   ]
  },
  {
   "cell_type": "code",
   "execution_count": 4,
   "id": "cf7be341-c91f-47d2-884a-55ee12413f21",
   "metadata": {},
   "outputs": [
    {
     "name": "stdout",
     "output_type": "stream",
     "text": [
      "Requirement already satisfied: pymorphy2[fast] in /opt/conda/lib/python3.8/site-packages (0.9.1)\n",
      "Requirement already satisfied: pymorphy2-dicts-ru<3.0,>=2.4 in /opt/conda/lib/python3.8/site-packages (from pymorphy2[fast]) (2.4.417127.4579844)\n",
      "Requirement already satisfied: docopt>=0.6 in /opt/conda/lib/python3.8/site-packages (from pymorphy2[fast]) (0.6.2)\n",
      "Requirement already satisfied: dawg-python>=0.7.1 in /opt/conda/lib/python3.8/site-packages (from pymorphy2[fast]) (0.7.2)\n",
      "Requirement already satisfied: DAWG>=0.8 in /opt/conda/lib/python3.8/site-packages (from pymorphy2[fast]) (0.8.0)\n",
      "\u001b[33mWARNING: You are using pip version 21.1.3; however, version 21.3.1 is available.\n",
      "You should consider upgrading via the '/opt/conda/bin/python -m pip install --upgrade pip' command.\u001b[0m\n"
     ]
    }
   ],
   "source": [
    "!pip install pymorphy2[fast]"
   ]
  },
  {
   "cell_type": "code",
   "execution_count": 5,
   "id": "6b3049da-96b6-4b92-9410-110a0bb42005",
   "metadata": {},
   "outputs": [
    {
     "name": "stdout",
     "output_type": "stream",
     "text": [
      "fatal: destination path 'ru-gpts' already exists and is not an empty directory.\n"
     ]
    }
   ],
   "source": [
    "!git clone  https://github.com/sberbank-ai/ru-gpts"
   ]
  },
  {
   "cell_type": "code",
   "execution_count": 6,
   "id": "ae3dbd22-95b6-4512-aa6e-db3d8c2183df",
   "metadata": {},
   "outputs": [
    {
     "name": "stdout",
     "output_type": "stream",
     "text": [
      "fatal: destination path 'transformers' already exists and is not an empty directory.\n"
     ]
    }
   ],
   "source": [
    "!git clone https://github.com/huggingface/transformers.git"
   ]
  },
  {
   "cell_type": "code",
   "execution_count": 7,
   "id": "a480625b-a43e-4000-9ea2-0773e0f32ca2",
   "metadata": {},
   "outputs": [
    {
     "name": "stdout",
     "output_type": "stream",
     "text": [
      "Requirement already satisfied: natasha in /opt/conda/lib/python3.8/site-packages (1.4.0)\n",
      "Requirement already satisfied: slovnet>=0.3.0 in /opt/conda/lib/python3.8/site-packages (from natasha) (0.5.0)\n",
      "Requirement already satisfied: pymorphy2 in /opt/conda/lib/python3.8/site-packages (from natasha) (0.9.1)\n",
      "Requirement already satisfied: navec>=0.9.0 in /opt/conda/lib/python3.8/site-packages (from natasha) (0.10.0)\n",
      "Requirement already satisfied: razdel>=0.5.0 in /opt/conda/lib/python3.8/site-packages (from natasha) (0.5.0)\n",
      "Requirement already satisfied: ipymarkup>=0.8.0 in /opt/conda/lib/python3.8/site-packages (from natasha) (0.9.0)\n",
      "Requirement already satisfied: yargy>=0.14.0 in /opt/conda/lib/python3.8/site-packages (from natasha) (0.15.0)\n",
      "Requirement already satisfied: intervaltree>=3 in /opt/conda/lib/python3.8/site-packages (from ipymarkup>=0.8.0->natasha) (3.1.0)\n",
      "Requirement already satisfied: sortedcontainers<3.0,>=2.0 in /opt/conda/lib/python3.8/site-packages (from intervaltree>=3->ipymarkup>=0.8.0->natasha) (2.4.0)\n",
      "Requirement already satisfied: numpy in /opt/conda/lib/python3.8/site-packages (from navec>=0.9.0->natasha) (1.21.0)\n",
      "Requirement already satisfied: docopt>=0.6 in /opt/conda/lib/python3.8/site-packages (from pymorphy2->natasha) (0.6.2)\n",
      "Requirement already satisfied: dawg-python>=0.7.1 in /opt/conda/lib/python3.8/site-packages (from pymorphy2->natasha) (0.7.2)\n",
      "Requirement already satisfied: pymorphy2-dicts-ru<3.0,>=2.4 in /opt/conda/lib/python3.8/site-packages (from pymorphy2->natasha) (2.4.417127.4579844)\n",
      "\u001b[33mWARNING: You are using pip version 21.1.3; however, version 21.3.1 is available.\n",
      "You should consider upgrading via the '/opt/conda/bin/python -m pip install --upgrade pip' command.\u001b[0m\n"
     ]
    }
   ],
   "source": [
    "!pip install natasha"
   ]
  },
  {
   "cell_type": "code",
   "execution_count": 8,
   "id": "76c8ced6-26a6-48d8-a5a4-8b2cb6bf89da",
   "metadata": {},
   "outputs": [],
   "source": [
    "from natasha import (   \n",
    "    MorphVocab,\n",
    "    NewsNERTagger,\n",
    "    NamesExtractor,\n",
    "    MorphVocab,\n",
    "    Segmenter, \n",
    "    NewsEmbedding,\n",
    "    PER,\n",
    "    Doc,\n",
    "    ORG\n",
    ")"
   ]
  },
  {
   "cell_type": "code",
   "execution_count": 9,
   "id": "23138a22-1702-461d-8c14-1004c65257b3",
   "metadata": {},
   "outputs": [],
   "source": [
    "from transformers import (GPT2LMHeadModel, GPT2Tokenizer,\n",
    "                          TextDataset, DataCollatorForLanguageModeling,\n",
    "                          Trainer, TrainingArguments, AutoModelWithLMHead, pipeline)"
   ]
  },
  {
   "cell_type": "code",
   "execution_count": 10,
   "id": "7b74e012-3b06-40a5-a137-e2837e1b4fb6",
   "metadata": {},
   "outputs": [],
   "source": [
    "from datasets import load_dataset\n",
    "from sklearn.model_selection import train_test_split\n",
    "import re"
   ]
  },
  {
   "cell_type": "code",
   "execution_count": 11,
   "id": "da86a891-7fb4-41ab-a30c-a9c8e12ee11d",
   "metadata": {},
   "outputs": [],
   "source": [
    "import torch\n",
    "import pandas as pd"
   ]
  },
  {
   "cell_type": "code",
   "execution_count": 12,
   "id": "12e07810-efa0-4c7e-946e-5e21d4906bca",
   "metadata": {},
   "outputs": [],
   "source": [
    "import numpy as np"
   ]
  },
  {
   "cell_type": "code",
   "execution_count": 13,
   "id": "84cd6173-4ac2-4eab-801e-beb14e3ed4db",
   "metadata": {},
   "outputs": [],
   "source": [
    "import pymorphy2"
   ]
  },
  {
   "cell_type": "code",
   "execution_count": 14,
   "id": "4132de40-18f9-45af-94bf-2fc303debc2a",
   "metadata": {},
   "outputs": [],
   "source": [
    "import spacy"
   ]
  },
  {
   "cell_type": "markdown",
   "id": "bcaabe5a-abf2-465a-86c6-f20c97542eb0",
   "metadata": {},
   "source": [
    "**Открываем файл с текстами, которые скачал скрапер. Размер файла не большой, что позволяет считать все в одну переменную.**"
   ]
  },
  {
   "cell_type": "code",
   "execution_count": 15,
   "id": "59d0c6e7-68b5-44b0-84f3-3d369bbf10ad",
   "metadata": {},
   "outputs": [
    {
     "data": {
      "text/plain": [
       "'\\nTITLE\\nЭдварду Радзинскому, писателю, драматургу, сценаристу\\nCONTENT\\n Уважаемый Эдвард Станиславович!Примите поздравления с\\xa085-летием.Человек многогранного дарования и\\xa0большой созидательной энергии, Вы по\\xa0праву входите в\\xa0число признанных\\nдраматургов, мастеров современного театрального искусства. И\\xa0конечно, Вас\\nхорошо знают и\\xa0любят как автора целого ряда просветительских проектов, чьё\\nтворчество завоевало сердца самой широкой аудитории, в\\xa0том числе молодёжи.Желаю доброго здоровья, благополучия и\\xa0бодрости\\nдуха. Владимир Путин     Статус материала Опубликован в\\xa0разделе: Телеграммы  Ссылка на материал: kremlin.ru/d/66751   Текстовая версия      \\nEND\\n\\nTITLE\\nКоллективу радиостанции «Орфей»\\nCONTENT\\n Дорогие друзья!Поздравляю вас со\\xa0знаменательным юбилеем\\xa0– 30-летием радиостанции «Орфей».Все эти годы ваш коллектив объединяет настоящих единомышленников, профессионалов, преданных высокому искусству, стремящихся внести свой вклад в\\xa0сбережение лучших традиций отечественной культуры. Вы сформировал'"
      ]
     },
     "execution_count": 15,
     "metadata": {},
     "output_type": "execute_result"
    }
   ],
   "source": [
    "with open('curr_congrats.txt') as handler:\n",
    "    full_text = handler.read()\n",
    "full_text[:1000]"
   ]
  },
  {
   "cell_type": "raw",
   "id": "0021b489-d012-4ea4-8c72-0944d2d98d20",
   "metadata": {},
   "source": []
  },
  {
   "cell_type": "markdown",
   "id": "92d2c01a-5d28-40dc-8c9d-be9ff1faf34d",
   "metadata": {},
   "source": [
    "**Поздравления разделены разметкой на заголовки и сами поздравления. Заголовок содержит адресат (кого поздравляют) и выделен разметкой \"TITLE\". Разметка \"CONTENT\" отделяет содержание поздравления.**\n",
    "*(Это не использовалось при обучении, но теоретически можно было, поэтому разделение осталось.)*\n",
    "\n",
    "**Аннотация \"END\" обозначает конец целого поздравления (\"TITLE\" + \"CONTENT\").**"
   ]
  },
  {
   "cell_type": "code",
   "execution_count": 16,
   "id": "803efabd-823a-456d-83d0-23dbf9db796e",
   "metadata": {},
   "outputs": [
    {
     "name": "stdout",
     "output_type": "stream",
     "text": [
      "Сопоставим адресат и поздравление:\n",
      "\n",
      "['Эдварду Радзинскому, писателю, драматургу, сценаристу']\n",
      "[' Уважаемый Эдвард Станиславович!Примите поздравления с\\xa085-летием.Человек многогранного дарования и\\xa0большой созидательной энергии, Вы по\\xa0праву входите в\\xa0число признанныхдраматургов, мастеров современного театрального искусства. И\\xa0конечно, Васхорошо знают и\\xa0любят как автора целого ряда просветительских проектов, чьётворчество завоевало сердца самой широкой аудитории, в\\xa0том числе молодёжи.Желаю доброго здоровья, благополучия и\\xa0бодростидуха. Владимир Путин     Статус материала Опубликован в\\xa0разделе: Телеграммы  Ссылка на материал: kremlin.ru/d/66751   Текстовая версия      ']\n",
      "\n",
      "Проверка количества адресатов 888\n",
      "Проверка количества поздравлений 888\n"
     ]
    }
   ],
   "source": [
    "titles_list = []\n",
    "congrats_list = []\n",
    "\n",
    "for letter in full_text.split('END'):\n",
    "    letter = letter.replace('\\n', '').replace('TITLE', '')\n",
    "\n",
    "    if len(letter.split('CONTENT')) > 1:\n",
    "        titles_list.append(letter.split('CONTENT')[0])\n",
    "        congrats_list.append(letter.split('CONTENT')[1])\n",
    "\n",
    "print(\"Сопоставим адресат и поздравление:\\n\")\n",
    "print(titles_list[:1])\n",
    "print(congrats_list[:1])\n",
    "print(\"\\nПроверка количества адресатов\", len(titles_list))\n",
    "print(\"Проверка количества поздравлений\", len(congrats_list))"
   ]
  },
  {
   "cell_type": "raw",
   "id": "f55dee22-4b1f-438a-bef5-1588377bd845",
   "metadata": {},
   "source": []
  },
  {
   "cell_type": "markdown",
   "id": "8b03f992-9392-46da-a686-a96526a15091",
   "metadata": {},
   "source": [
    "**Сделаем датасет и добавим в него колонку с суммарными данными:**"
   ]
  },
  {
   "cell_type": "code",
   "execution_count": 17,
   "id": "80db04bd-21ed-4dc4-8923-bc6201697b59",
   "metadata": {},
   "outputs": [
    {
     "data": {
      "text/html": [
       "<div>\n",
       "<style scoped>\n",
       "    .dataframe tbody tr th:only-of-type {\n",
       "        vertical-align: middle;\n",
       "    }\n",
       "\n",
       "    .dataframe tbody tr th {\n",
       "        vertical-align: top;\n",
       "    }\n",
       "\n",
       "    .dataframe thead th {\n",
       "        text-align: right;\n",
       "    }\n",
       "</style>\n",
       "<table border=\"1\" class=\"dataframe\">\n",
       "  <thead>\n",
       "    <tr style=\"text-align: right;\">\n",
       "      <th></th>\n",
       "      <th>Title</th>\n",
       "      <th>Content</th>\n",
       "      <th>Sum</th>\n",
       "    </tr>\n",
       "  </thead>\n",
       "  <tbody>\n",
       "    <tr>\n",
       "      <th>0</th>\n",
       "      <td>Эдварду Радзинскому, писателю, драматургу, сце...</td>\n",
       "      <td>Уважаемый Эдвард Станиславович!Примите поздра...</td>\n",
       "      <td>Эдварду Радзинскому, писателю, драматургу, сце...</td>\n",
       "    </tr>\n",
       "    <tr>\n",
       "      <th>1</th>\n",
       "      <td>Коллективу радиостанции «Орфей»</td>\n",
       "      <td>Дорогие друзья!Поздравляю вас со знаменательн...</td>\n",
       "      <td>Коллективу радиостанции «Орфей» Дорогие друзья...</td>\n",
       "    </tr>\n",
       "    <tr>\n",
       "      <th>2</th>\n",
       "      <td>Михаилу Ковальчуку, президенту НИЦ «Курчатовск...</td>\n",
       "      <td>Уважаемый Михаил Валентинович!Примите мои поз...</td>\n",
       "      <td>Михаилу Ковальчуку, президенту НИЦ «Курчатовск...</td>\n",
       "    </tr>\n",
       "    <tr>\n",
       "      <th>3</th>\n",
       "      <td>Ирине Андреевой и Ивану Штылю, победителям чем...</td>\n",
       "      <td>Уважаемые Ирина Александровна и Иван Александ...</td>\n",
       "      <td>Ирине Андреевой и Ивану Штылю, победителям чем...</td>\n",
       "    </tr>\n",
       "    <tr>\n",
       "      <th>4</th>\n",
       "      <td>Работникам и ветеранам оборонно-промышленного ...</td>\n",
       "      <td>Уважаемые друзья!Поздравляю вас с Днём оружей...</td>\n",
       "      <td>Работникам и ветеранам оборонно-промышленного ...</td>\n",
       "    </tr>\n",
       "    <tr>\n",
       "      <th>...</th>\n",
       "      <td>...</td>\n",
       "      <td>...</td>\n",
       "      <td>...</td>\n",
       "    </tr>\n",
       "    <tr>\n",
       "      <th>883</th>\n",
       "      <td>Жителям Республики Мордовия</td>\n",
       "      <td>Дорогие друзья!Поздравляю вас с юбилеем – 75-...</td>\n",
       "      <td>Жителям Республики Мордовия Дорогие друзья!Поз...</td>\n",
       "    </tr>\n",
       "    <tr>\n",
       "      <th>884</th>\n",
       "      <td>Коллективу Института физических проблем им.П.Л...</td>\n",
       "      <td>Поздравляю коллектив института с 70-летием со...</td>\n",
       "      <td>Коллективу Института физических проблем им.П.Л...</td>\n",
       "    </tr>\n",
       "    <tr>\n",
       "      <th>885</th>\n",
       "      <td>Жителям Красноярского края</td>\n",
       "      <td>Уважаемые друзья!Поздравляю вас с 70-летием с...</td>\n",
       "      <td>Жителям Красноярского края Уважаемые друзья!По...</td>\n",
       "    </tr>\n",
       "    <tr>\n",
       "      <th>886</th>\n",
       "      <td>В.А.ЛОГИНОВУ</td>\n",
       "      <td>Уважаемый Владимир Александрович!Поздравляю В...</td>\n",
       "      <td>В.А.ЛОГИНОВУ Уважаемый Владимир Александрович!...</td>\n",
       "    </tr>\n",
       "    <tr>\n",
       "      <th>887</th>\n",
       "      <td>Патриарху Московскому и всея Руси Алексию II</td>\n",
       "      <td>Ваше Святейшество!От всего сердца поздравляю ...</td>\n",
       "      <td>Патриарху Московскому и всея Руси Алексию II В...</td>\n",
       "    </tr>\n",
       "  </tbody>\n",
       "</table>\n",
       "<p>888 rows × 3 columns</p>\n",
       "</div>"
      ],
      "text/plain": [
       "                                                 Title  \\\n",
       "0    Эдварду Радзинскому, писателю, драматургу, сце...   \n",
       "1                      Коллективу радиостанции «Орфей»   \n",
       "2    Михаилу Ковальчуку, президенту НИЦ «Курчатовск...   \n",
       "3    Ирине Андреевой и Ивану Штылю, победителям чем...   \n",
       "4    Работникам и ветеранам оборонно-промышленного ...   \n",
       "..                                                 ...   \n",
       "883                        Жителям Республики Мордовия   \n",
       "884  Коллективу Института физических проблем им.П.Л...   \n",
       "885                         Жителям Красноярского края   \n",
       "886                                       В.А.ЛОГИНОВУ   \n",
       "887       Патриарху Московскому и всея Руси Алексию II   \n",
       "\n",
       "                                               Content  \\\n",
       "0     Уважаемый Эдвард Станиславович!Примите поздра...   \n",
       "1     Дорогие друзья!Поздравляю вас со знаменательн...   \n",
       "2     Уважаемый Михаил Валентинович!Примите мои поз...   \n",
       "3     Уважаемые Ирина Александровна и Иван Александ...   \n",
       "4     Уважаемые друзья!Поздравляю вас с Днём оружей...   \n",
       "..                                                 ...   \n",
       "883   Дорогие друзья!Поздравляю вас с юбилеем – 75-...   \n",
       "884   Поздравляю коллектив института с 70-летием со...   \n",
       "885   Уважаемые друзья!Поздравляю вас с 70-летием с...   \n",
       "886   Уважаемый Владимир Александрович!Поздравляю В...   \n",
       "887   Ваше Святейшество!От всего сердца поздравляю ...   \n",
       "\n",
       "                                                   Sum  \n",
       "0    Эдварду Радзинскому, писателю, драматургу, сце...  \n",
       "1    Коллективу радиостанции «Орфей» Дорогие друзья...  \n",
       "2    Михаилу Ковальчуку, президенту НИЦ «Курчатовск...  \n",
       "3    Ирине Андреевой и Ивану Штылю, победителям чем...  \n",
       "4    Работникам и ветеранам оборонно-промышленного ...  \n",
       "..                                                 ...  \n",
       "883  Жителям Республики Мордовия Дорогие друзья!Поз...  \n",
       "884  Коллективу Института физических проблем им.П.Л...  \n",
       "885  Жителям Красноярского края Уважаемые друзья!По...  \n",
       "886  В.А.ЛОГИНОВУ Уважаемый Владимир Александрович!...  \n",
       "887  Патриарху Московскому и всея Руси Алексию II В...  \n",
       "\n",
       "[888 rows x 3 columns]"
      ]
     },
     "execution_count": 17,
     "metadata": {},
     "output_type": "execute_result"
    }
   ],
   "source": [
    "data = {'Title': titles_list,\n",
    "        'Content': congrats_list}\n",
    "\n",
    "my_df = pd.DataFrame(data)\n",
    "my_df['Sum'] = [my_df['Title'].tolist()[i] + my_df['Content'].tolist()[i]\n",
    "                for i in range(len(my_df))]\n",
    "my_df"
   ]
  },
  {
   "cell_type": "markdown",
   "id": "37f9aa5a-21db-4cff-bb9e-868248380a18",
   "metadata": {},
   "source": [
    "**Очистим суммарную колонку от лишних символов**"
   ]
  },
  {
   "cell_type": "code",
   "execution_count": 18,
   "id": "b8cd1fd7-fcd6-4516-9524-be7cf287e842",
   "metadata": {},
   "outputs": [],
   "source": [
    "new_sum = []\n",
    "\n",
    "for summary in my_df[\"Sum\"]:\n",
    "    # print(summary)\n",
    "    summary = str(summary).strip()\n",
    "    summary = re.sub(r\"\\s\", \" \", summary)\n",
    "    summary = re.sub(r\"\\n\", \"\", summary)\n",
    "    summary = re.sub(r\"Статус материала Опубликован в разделе: Телеграммы\", \"\", summary)\n",
    "    summary = re.sub(r\"Ссылка на материал:\", \"\", summary)\n",
    "    summary = re.sub(r\"Текстовая версия:\", \"\", summary)\n",
    "    summary = re.sub(r\"Ссылка на материал:\", \"\", summary)\n",
    "    summary = re.sub(r\"([a-zA-Z]+)\", \"\", summary)\n",
    "    summary = re.sub(r\"([/*#@+]+)\", \"\", summary)\n",
    "    summary = re.sub(r\"Текстовая версия\", \"\", summary)\n",
    "\n",
    "    new_sum.append(summary)\n",
    "\n",
    "my_df[\"Sum\"] = new_sum"
   ]
  },
  {
   "cell_type": "markdown",
   "id": "f874cc6f-6ca0-48a8-a117-3cebf2b2ee32",
   "metadata": {},
   "source": [
    "**Маскируем полное поздравление вместе с адресатом, возьмем имена и организации. Сначала у меня была идея вместе с символом MASK вставлять падеж, чтобы модель обучилась на конкретных падежах, и потом можно было просто заменить разметку MASK с соответствующим падежом на именованную сущность в этом падеже (типа MASKnomn - значит падеж будет именительный).**\n",
    "\n",
    "**Из этой идеи ничего не вышло, я подозреваю, что это из-за посимвольной токенизации внутри токенизатора библиотеки Transformers. Однако, реализацию я решил оставить.**"
   ]
  },
  {
   "cell_type": "code",
   "execution_count": 19,
   "id": "29595afc-4cf5-49d8-a6a5-18632054431d",
   "metadata": {},
   "outputs": [
    {
     "name": "stdout",
     "output_type": "stream",
     "text": [
      "Parse(word='владимира', tag=OpencorporaTag('NOUN,anim,masc,Name sing,gent'), normal_form='владимир', score=0.682926, methods_stack=((DictionaryAnalyzer(), 'владимира', 27, 1),))\n"
     ]
    },
    {
     "data": {
      "text/plain": [
       "'gent'"
      ]
     },
     "execution_count": 19,
     "metadata": {},
     "output_type": "execute_result"
    }
   ],
   "source": [
    "morph = pymorphy2.MorphAnalyzer()\n",
    "nname = morph.parse('Владимира')[0]\n",
    "print(nname)\n",
    "str(nname[1]).split(',')[-1]"
   ]
  },
  {
   "cell_type": "code",
   "execution_count": 20,
   "id": "6207c68b-3a05-4df0-b8f2-4a41a912f6df",
   "metadata": {},
   "outputs": [],
   "source": [
    "emb = NewsEmbedding()\n",
    "morph_vocab = MorphVocab()\n",
    "names_extractor = NamesExtractor(morph_vocab)\n",
    "ner_tagger = NewsNERTagger(emb)\n",
    "segmenter = Segmenter()"
   ]
  },
  {
   "cell_type": "code",
   "execution_count": 21,
   "id": "a3e64a93-378a-456e-8c5f-77586461dfcb",
   "metadata": {},
   "outputs": [
    {
     "data": {
      "text/html": [
       "<div>\n",
       "<style scoped>\n",
       "    .dataframe tbody tr th:only-of-type {\n",
       "        vertical-align: middle;\n",
       "    }\n",
       "\n",
       "    .dataframe tbody tr th {\n",
       "        vertical-align: top;\n",
       "    }\n",
       "\n",
       "    .dataframe thead th {\n",
       "        text-align: right;\n",
       "    }\n",
       "</style>\n",
       "<table border=\"1\" class=\"dataframe\">\n",
       "  <thead>\n",
       "    <tr style=\"text-align: right;\">\n",
       "      <th></th>\n",
       "      <th>Title</th>\n",
       "      <th>Content</th>\n",
       "      <th>Sum</th>\n",
       "      <th>Masked_sum</th>\n",
       "    </tr>\n",
       "  </thead>\n",
       "  <tbody>\n",
       "    <tr>\n",
       "      <th>0</th>\n",
       "      <td>Эдварду Радзинскому, писателю, драматургу, сце...</td>\n",
       "      <td>Уважаемый Эдвард Станиславович!Примите поздра...</td>\n",
       "      <td>Эдварду Радзинскому, писателю, драматургу, сце...</td>\n",
       "      <td>MASKdatv, писателю, драматургу, сценаристу MAS...</td>\n",
       "    </tr>\n",
       "    <tr>\n",
       "      <th>1</th>\n",
       "      <td>Коллективу радиостанции «Орфей»</td>\n",
       "      <td>Дорогие друзья!Поздравляю вас со знаменательн...</td>\n",
       "      <td>Коллективу радиостанции «Орфей» Дорогие друзья...</td>\n",
       "      <td>Коллективу радиостанции «MASKnomn» Дорогие дру...</td>\n",
       "    </tr>\n",
       "    <tr>\n",
       "      <th>2</th>\n",
       "      <td>Михаилу Ковальчуку, президенту НИЦ «Курчатовск...</td>\n",
       "      <td>Уважаемый Михаил Валентинович!Примите мои поз...</td>\n",
       "      <td>Михаилу Ковальчуку, президенту НИЦ «Курчатовск...</td>\n",
       "      <td>MASKdatv, президенту MASKUNKN MASKnomn!Примите...</td>\n",
       "    </tr>\n",
       "    <tr>\n",
       "      <th>3</th>\n",
       "      <td>Ирине Андреевой и Ивану Штылю, победителям чем...</td>\n",
       "      <td>Уважаемые Ирина Александровна и Иван Александ...</td>\n",
       "      <td>Ирине Андреевой и Ивану Штылю, победителям чем...</td>\n",
       "      <td>MASKgent и MASKdatv, победителям чемпионата ми...</td>\n",
       "    </tr>\n",
       "    <tr>\n",
       "      <th>4</th>\n",
       "      <td>Работникам и ветеранам оборонно-промышленного ...</td>\n",
       "      <td>Уважаемые друзья!Поздравляю вас с Днём оружей...</td>\n",
       "      <td>Работникам и ветеранам оборонно-промышленного ...</td>\n",
       "      <td>Работникам и ветеранам оборонно-промышленного ...</td>\n",
       "    </tr>\n",
       "    <tr>\n",
       "      <th>...</th>\n",
       "      <td>...</td>\n",
       "      <td>...</td>\n",
       "      <td>...</td>\n",
       "      <td>...</td>\n",
       "    </tr>\n",
       "    <tr>\n",
       "      <th>883</th>\n",
       "      <td>Жителям Республики Мордовия</td>\n",
       "      <td>Дорогие друзья!Поздравляю вас с юбилеем – 75-...</td>\n",
       "      <td>Жителям Республики Мордовия Дорогие друзья!Поз...</td>\n",
       "      <td>Жителям Республики Мордовия Дорогие друзья!Поз...</td>\n",
       "    </tr>\n",
       "    <tr>\n",
       "      <th>884</th>\n",
       "      <td>Коллективу Института физических проблем им.П.Л...</td>\n",
       "      <td>Поздравляю коллектив института с 70-летием со...</td>\n",
       "      <td>Коллективу Института физических проблем им.П.Л...</td>\n",
       "      <td>Коллективу MASKindc коллектив института с 70-л...</td>\n",
       "    </tr>\n",
       "    <tr>\n",
       "      <th>885</th>\n",
       "      <td>Жителям Красноярского края</td>\n",
       "      <td>Уважаемые друзья!Поздравляю вас с 70-летием с...</td>\n",
       "      <td>Жителям Красноярского края Уважаемые друзья!По...</td>\n",
       "      <td>Жителям Красноярского края Уважаемые друзья!По...</td>\n",
       "    </tr>\n",
       "    <tr>\n",
       "      <th>886</th>\n",
       "      <td>В.А.ЛОГИНОВУ</td>\n",
       "      <td>Уважаемый Владимир Александрович!Поздравляю В...</td>\n",
       "      <td>В.А.ЛОГИНОВУ Уважаемый Владимир Александрович!...</td>\n",
       "      <td>MASKnomn!Поздравляю Вас с официальным вступлен...</td>\n",
       "    </tr>\n",
       "    <tr>\n",
       "      <th>887</th>\n",
       "      <td>Патриарху Московскому и всея Руси Алексию II</td>\n",
       "      <td>Ваше Святейшество!От всего сердца поздравляю ...</td>\n",
       "      <td>Патриарху Московскому и всея Руси Алексию  Ваш...</td>\n",
       "      <td>Патриарху Московскому и всея Руси Алексию  Ваш...</td>\n",
       "    </tr>\n",
       "  </tbody>\n",
       "</table>\n",
       "<p>888 rows × 4 columns</p>\n",
       "</div>"
      ],
      "text/plain": [
       "                                                 Title  \\\n",
       "0    Эдварду Радзинскому, писателю, драматургу, сце...   \n",
       "1                      Коллективу радиостанции «Орфей»   \n",
       "2    Михаилу Ковальчуку, президенту НИЦ «Курчатовск...   \n",
       "3    Ирине Андреевой и Ивану Штылю, победителям чем...   \n",
       "4    Работникам и ветеранам оборонно-промышленного ...   \n",
       "..                                                 ...   \n",
       "883                        Жителям Республики Мордовия   \n",
       "884  Коллективу Института физических проблем им.П.Л...   \n",
       "885                         Жителям Красноярского края   \n",
       "886                                       В.А.ЛОГИНОВУ   \n",
       "887       Патриарху Московскому и всея Руси Алексию II   \n",
       "\n",
       "                                               Content  \\\n",
       "0     Уважаемый Эдвард Станиславович!Примите поздра...   \n",
       "1     Дорогие друзья!Поздравляю вас со знаменательн...   \n",
       "2     Уважаемый Михаил Валентинович!Примите мои поз...   \n",
       "3     Уважаемые Ирина Александровна и Иван Александ...   \n",
       "4     Уважаемые друзья!Поздравляю вас с Днём оружей...   \n",
       "..                                                 ...   \n",
       "883   Дорогие друзья!Поздравляю вас с юбилеем – 75-...   \n",
       "884   Поздравляю коллектив института с 70-летием со...   \n",
       "885   Уважаемые друзья!Поздравляю вас с 70-летием с...   \n",
       "886   Уважаемый Владимир Александрович!Поздравляю В...   \n",
       "887   Ваше Святейшество!От всего сердца поздравляю ...   \n",
       "\n",
       "                                                   Sum  \\\n",
       "0    Эдварду Радзинскому, писателю, драматургу, сце...   \n",
       "1    Коллективу радиостанции «Орфей» Дорогие друзья...   \n",
       "2    Михаилу Ковальчуку, президенту НИЦ «Курчатовск...   \n",
       "3    Ирине Андреевой и Ивану Штылю, победителям чем...   \n",
       "4    Работникам и ветеранам оборонно-промышленного ...   \n",
       "..                                                 ...   \n",
       "883  Жителям Республики Мордовия Дорогие друзья!Поз...   \n",
       "884  Коллективу Института физических проблем им.П.Л...   \n",
       "885  Жителям Красноярского края Уважаемые друзья!По...   \n",
       "886  В.А.ЛОГИНОВУ Уважаемый Владимир Александрович!...   \n",
       "887  Патриарху Московскому и всея Руси Алексию  Ваш...   \n",
       "\n",
       "                                            Masked_sum  \n",
       "0    MASKdatv, писателю, драматургу, сценаристу MAS...  \n",
       "1    Коллективу радиостанции «MASKnomn» Дорогие дру...  \n",
       "2    MASKdatv, президенту MASKUNKN MASKnomn!Примите...  \n",
       "3    MASKgent и MASKdatv, победителям чемпионата ми...  \n",
       "4    Работникам и ветеранам оборонно-промышленного ...  \n",
       "..                                                 ...  \n",
       "883  Жителям Республики Мордовия Дорогие друзья!Поз...  \n",
       "884  Коллективу MASKindc коллектив института с 70-л...  \n",
       "885  Жителям Красноярского края Уважаемые друзья!По...  \n",
       "886  MASKnomn!Поздравляю Вас с официальным вступлен...  \n",
       "887  Патриарху Московскому и всея Руси Алексию  Ваш...  \n",
       "\n",
       "[888 rows x 4 columns]"
      ]
     },
     "execution_count": 21,
     "metadata": {},
     "output_type": "execute_result"
    }
   ],
   "source": [
    "masked_content = []\n",
    "morph = pymorphy2.MorphAnalyzer()\n",
    "\n",
    "for sent in my_df['Sum']:\n",
    "    doc = Doc(sent)\n",
    "    doc.segment(segmenter)\n",
    "    doc.tag_ner(ner_tagger)\n",
    "\n",
    "    for span in doc.spans:\n",
    "        if span.type == PER or span.type == ORG:\n",
    "            morph_name = morph.parse(span.text)[0]\n",
    "            morph_case = str(morph_name[1]).split(',')[-1]\n",
    "            sent = sent.replace(span.text, f'MASK{morph_case}')\n",
    "\n",
    "    masked_content.append(sent)\n",
    "\n",
    "my_df['Masked_sum'] = masked_content\n",
    "my_df"
   ]
  },
  {
   "cell_type": "markdown",
   "id": "8628da1b-9c3c-49df-82c6-256b4385e709",
   "metadata": {},
   "source": [
    "**Разобьем датасет на наборы**"
   ]
  },
  {
   "cell_type": "code",
   "execution_count": 22,
   "id": "b1b44872-52f7-45fc-96be-01c17baf2cd1",
   "metadata": {},
   "outputs": [],
   "source": [
    "train_df, validate_df = np.split(\n",
    "    my_df.sample(frac=1, random_state=42),\n",
    "    [int(.8*len(my_df))])"
   ]
  },
  {
   "cell_type": "code",
   "execution_count": 23,
   "id": "b4b57e6c-8df3-479d-9bf2-04ba71b0836b",
   "metadata": {},
   "outputs": [
    {
     "data": {
      "text/plain": [
       "(710, 178)"
      ]
     },
     "execution_count": 23,
     "metadata": {},
     "output_type": "execute_result"
    }
   ],
   "source": [
    "len(train_df), len(validate_df)"
   ]
  },
  {
   "cell_type": "markdown",
   "id": "fe339a3f-c970-4290-bbd3-968e7c7aaa0b",
   "metadata": {},
   "source": [
    "**Сделаем текстовые файлы для обучения модели**"
   ]
  },
  {
   "cell_type": "code",
   "execution_count": 24,
   "id": "060c0a7f-1cad-4add-89e3-6a8adc360bb9",
   "metadata": {},
   "outputs": [],
   "source": [
    "!rm train.txt valid.txt"
   ]
  },
  {
   "cell_type": "code",
   "execution_count": 25,
   "id": "dab2c59a-47b9-49d7-8f2a-c5a918418624",
   "metadata": {},
   "outputs": [],
   "source": [
    "def make_file_from_series(filename, series):\n",
    "    with open(filename, 'w') as f:\n",
    "        for entry in series:\n",
    "            f.write(entry)"
   ]
  },
  {
   "cell_type": "code",
   "execution_count": 26,
   "id": "0f6213bd-f59e-41ec-bd2e-c6252487c3fa",
   "metadata": {},
   "outputs": [],
   "source": [
    "make_file_from_series('train.txt', train_df['Masked_sum'])\n",
    "make_file_from_series('valid.txt', validate_df['Masked_sum'])"
   ]
  },
  {
   "cell_type": "code",
   "execution_count": 27,
   "id": "db0f9585-10dc-40a5-996e-ff13274b7ab3",
   "metadata": {},
   "outputs": [
    {
     "name": "stdout",
     "output_type": "stream",
     "text": [
      "Kutsev.ipynb\t\t\t\t    curr_congrats.txt\n",
      "Untitled.ipynb\t\t\t\t    gpt-letters\n",
      "cached_lm_GPT2Tokenizer_128_test.txt\t    ru-gpts\n",
      "cached_lm_GPT2Tokenizer_128_test.txt.lock   train.txt\n",
      "cached_lm_GPT2Tokenizer_128_train.txt\t    transformers\n",
      "cached_lm_GPT2Tokenizer_128_train.txt.lock  valid.txt\n",
      "cached_lm_GPT2Tokenizer_128_valid.txt\t    work\n",
      "cached_lm_GPT2Tokenizer_128_valid.txt.lock\n"
     ]
    }
   ],
   "source": [
    "!ls "
   ]
  },
  {
   "cell_type": "code",
   "execution_count": 28,
   "id": "6eb33850-5089-4442-8cad-dc404f8e51ec",
   "metadata": {},
   "outputs": [
    {
     "data": {
      "text/plain": [
       "'MASKloct, победительнице чемпионата мира по лёгкой атлетике 2019 года в Дохе (Катар) в прыжках в высоту Уважаемая MASKnomn!Поздравляю Вас с триумфальным выступлением в Дохе.Вы вновь ярко продемонстрировали впечатляющий спортивный, победный потенциал, мастерство и сильный характер. Покорив заданную высоту, по праву стали обладательницей золотой медали, реализовали заветную мечту – заслужили звание трёхкратной чемпионки мира. И, конечно, Ваш успех – это отличный подарок для нашей сборной, тренеров и наставников, многочисленных болельщиков.От души желаю Вам новых свершений и всего самого доброго. MASKnomn        .61696   Коллективу «MASKgent» Дорогие друзья!Поздравляю вас со знаменательной датой – 25-летиемсоздания «MASKgent».За прошедшие годы газета стала одним из ведущихпериодических изданий страны, завоевала уважение большой читательской аудиториии авторитет в отечественном медиасообществе. Её ценят за информационнуюнаполненность, глубокий подход к освещению важнейших тем и событий, за взвешенность и основательность оценок. Отрадно, что все эти годы ваш коллективвысоко держит планку качества работы, сохраняет приверженность лучшим традициямжурналистики, расширяет линейку информационных продуктов – от публикациигосударственных документов до новостей, репортажей и серьёзной аналитики.Уверен, что вы и впредь будете добросовестнотрудиться, воплощать в жизнь востребованные творческие проекты, добиватьсяуспеха в профессиональной деятельности.Желаю вам всего наилучшего. MASKnomn     Темы  MASKnomn           .50661   MASKdatv, директору MASKnomn, академику MASKgent Уважаемый MASKnomn!Сердечно поздравляю Вас с 70-летним юбилеем.Вас по праву считают выдающимся учёным, достойным продолжателем великих подвижнических традиций отечественной школы микробиологии и эпидемиологии. Вы много и увлечённо трудитесь, объединяете коллектив знаменитого MASKnomn вокруг важных, востребованных задач, заряжаете коллег своей поистине неиссякаемой энергией. Результаты Ваших фундаментальных исследований и инновационных разработок имеют большое научное и практическое значение. И конечно, самого глубокого признания заслуживает Ваш уникальный личный вклад в создание первой в мире зарегистрированной вакцины для профилактики коронавирусной инфекции, которая за прошедшее время убедительно доказала свою эффективность.Желаю Вам успехов, здоровья,благополучия. MASKnomn        .67086   MASKnomn, олимпийскому чемпиону, победителю Игр  Олимпиады 2016 года в Рио‑де-Жанейро (Бразилия) в соревнованиях по боксу в весовой категории до 91 кг УважаемыйЕвгений Андреевич! Поздравляю Вас с триумфом в Рио‑де-Жанейро. Вы убедительно доказали, чтообладаете настоящим чемпионским характером и высоким уровнем мастерства. Этикачества, уверенность в своих силах стали слагаемыми Вашего яркогоолимпийского успеха. Желаю удачи, новых побед и всегосамого доброго. MASKnomn     Темы  Спорт           .52719   MASKdatv, олимпийскому чемпиону, победителю Олимпийских игр 2012 года в Лондоне в соревнованиях по дзюдо в '"
      ]
     },
     "execution_count": 28,
     "metadata": {},
     "output_type": "execute_result"
    }
   ],
   "source": [
    "with open('train.txt') as handler:\n",
    "    full_text = handler.read()\n",
    "full_text[:3000]"
   ]
  },
  {
   "cell_type": "markdown",
   "id": "50f7041d-f79b-428a-8e0b-da3f5b3d4f3d",
   "metadata": {},
   "source": [
    "**Приведем данные в подходящий для обучения модели вид**"
   ]
  },
  {
   "cell_type": "code",
   "execution_count": 29,
   "id": "fe89588a-0c00-4fdb-8580-a7f63babe215",
   "metadata": {},
   "outputs": [],
   "source": [
    "tokenizer = GPT2Tokenizer.from_pretrained(\"sberbank-ai/rugpt3small_based_on_gpt2\")\n",
    "train_path = 'train.txt'\n",
    "valid_path = 'valid.txt'"
   ]
  },
  {
   "cell_type": "code",
   "execution_count": 32,
   "id": "35c0f54b-bc42-4f62-a98a-d791ba0f15f2",
   "metadata": {},
   "outputs": [],
   "source": [
    "def load_dataset(train_path, valid_path, tokenizer):\n",
    "\n",
    "    train_dataset = TextDataset(\n",
    "          tokenizer=tokenizer,\n",
    "          file_path=train_path,\n",
    "          block_size=128)\n",
    "    \n",
    "    valid_dataset = TextDataset(\n",
    "      tokenizer=tokenizer,\n",
    "      file_path=valid_path,\n",
    "      block_size=128)\n",
    "    \n",
    "    data_collator = DataCollatorForLanguageModeling(\n",
    "        tokenizer=tokenizer, mlm=False,\n",
    "    )\n",
    "    return train_dataset, valid_dataset, data_collator\n",
    "\n",
    "train_dataset, valid_dataset, data_collator = load_dataset(train_path, valid_path, tokenizer)"
   ]
  },
  {
   "cell_type": "markdown",
   "id": "a125b706-93ee-4542-ab1d-97995b647ee0",
   "metadata": {},
   "source": [
    "**Параметры обучения модели**"
   ]
  },
  {
   "cell_type": "code",
   "execution_count": 33,
   "id": "10d62daf-a92e-4b55-8ba3-312aaee2f015",
   "metadata": {},
   "outputs": [],
   "source": [
    "model = GPT2LMHeadModel.from_pretrained(\"sberbank-ai/rugpt3small_based_on_gpt2\")\n",
    "\n",
    "\n",
    "training_args = TrainingArguments(\n",
    "    output_dir=\"./gpt-letters\",\n",
    "    overwrite_output_dir=True,\n",
    "    num_train_epochs=250,\n",
    "    per_device_train_batch_size=32,\n",
    "    per_device_eval_batch_size=64,\n",
    "    eval_steps=400,\n",
    "    save_steps=150,\n",
    "    warmup_steps=500,\n",
    "    prediction_loss_only=True,\n",
    "    )\n",
    "\n",
    "\n",
    "trainer = Trainer(\n",
    "    model=model,\n",
    "    args=training_args,\n",
    "    data_collator=data_collator,\n",
    "    train_dataset=train_dataset,\n",
    "    eval_dataset=valid_dataset,\n",
    ")"
   ]
  },
  {
   "cell_type": "markdown",
   "id": "e1d347b9-658f-4138-b955-7d43a9401ea0",
   "metadata": {},
   "source": [
    "На всякий случай удалю папку с предыдущей моделью."
   ]
  },
  {
   "cell_type": "code",
   "execution_count": 34,
   "id": "643674e6-d7b6-4aba-9538-b545e7dfedd0",
   "metadata": {},
   "outputs": [],
   "source": [
    "!rm -rf gpt-letters"
   ]
  },
  {
   "cell_type": "code",
   "execution_count": 35,
   "id": "53af3426-8e16-42a4-84a8-6178f82f276a",
   "metadata": {},
   "outputs": [
    {
     "name": "stderr",
     "output_type": "stream",
     "text": [
      "***** Running training *****\n",
      "  Num examples = 1048\n",
      "  Num Epochs = 250\n",
      "  Instantaneous batch size per device = 32\n",
      "  Total train batch size (w. parallel, distributed & accumulation) = 32\n",
      "  Gradient Accumulation steps = 1\n",
      "  Total optimization steps = 8250\n"
     ]
    },
    {
     "data": {
      "text/html": [
       "\n",
       "    <div>\n",
       "      \n",
       "      <progress value='8250' max='8250' style='width:300px; height:20px; vertical-align: middle;'></progress>\n",
       "      [8250/8250 17:21, Epoch 250/250]\n",
       "    </div>\n",
       "    <table border=\"1\" class=\"dataframe\">\n",
       "  <thead>\n",
       "    <tr style=\"text-align: left;\">\n",
       "      <th>Step</th>\n",
       "      <th>Training Loss</th>\n",
       "    </tr>\n",
       "  </thead>\n",
       "  <tbody>\n",
       "    <tr>\n",
       "      <td>500</td>\n",
       "      <td>1.898700</td>\n",
       "    </tr>\n",
       "    <tr>\n",
       "      <td>1000</td>\n",
       "      <td>0.632100</td>\n",
       "    </tr>\n",
       "    <tr>\n",
       "      <td>1500</td>\n",
       "      <td>0.206100</td>\n",
       "    </tr>\n",
       "    <tr>\n",
       "      <td>2000</td>\n",
       "      <td>0.083500</td>\n",
       "    </tr>\n",
       "    <tr>\n",
       "      <td>2500</td>\n",
       "      <td>0.048100</td>\n",
       "    </tr>\n",
       "    <tr>\n",
       "      <td>3000</td>\n",
       "      <td>0.035000</td>\n",
       "    </tr>\n",
       "    <tr>\n",
       "      <td>3500</td>\n",
       "      <td>0.028500</td>\n",
       "    </tr>\n",
       "    <tr>\n",
       "      <td>4000</td>\n",
       "      <td>0.024200</td>\n",
       "    </tr>\n",
       "    <tr>\n",
       "      <td>4500</td>\n",
       "      <td>0.021300</td>\n",
       "    </tr>\n",
       "    <tr>\n",
       "      <td>5000</td>\n",
       "      <td>0.019400</td>\n",
       "    </tr>\n",
       "    <tr>\n",
       "      <td>5500</td>\n",
       "      <td>0.018000</td>\n",
       "    </tr>\n",
       "    <tr>\n",
       "      <td>6000</td>\n",
       "      <td>0.016600</td>\n",
       "    </tr>\n",
       "    <tr>\n",
       "      <td>6500</td>\n",
       "      <td>0.015500</td>\n",
       "    </tr>\n",
       "    <tr>\n",
       "      <td>7000</td>\n",
       "      <td>0.014700</td>\n",
       "    </tr>\n",
       "    <tr>\n",
       "      <td>7500</td>\n",
       "      <td>0.014100</td>\n",
       "    </tr>\n",
       "    <tr>\n",
       "      <td>8000</td>\n",
       "      <td>0.013600</td>\n",
       "    </tr>\n",
       "  </tbody>\n",
       "</table><p>"
      ],
      "text/plain": [
       "<IPython.core.display.HTML object>"
      ]
     },
     "metadata": {},
     "output_type": "display_data"
    },
    {
     "name": "stderr",
     "output_type": "stream",
     "text": [
      "Saving model checkpoint to ./gpt-letters/checkpoint-150\n",
      "Configuration saved in ./gpt-letters/checkpoint-150/config.json\n",
      "Model weights saved in ./gpt-letters/checkpoint-150/pytorch_model.bin\n",
      "Saving model checkpoint to ./gpt-letters/checkpoint-300\n",
      "Configuration saved in ./gpt-letters/checkpoint-300/config.json\n",
      "Model weights saved in ./gpt-letters/checkpoint-300/pytorch_model.bin\n",
      "Saving model checkpoint to ./gpt-letters/checkpoint-450\n",
      "Configuration saved in ./gpt-letters/checkpoint-450/config.json\n",
      "Model weights saved in ./gpt-letters/checkpoint-450/pytorch_model.bin\n",
      "Saving model checkpoint to ./gpt-letters/checkpoint-600\n",
      "Configuration saved in ./gpt-letters/checkpoint-600/config.json\n",
      "Model weights saved in ./gpt-letters/checkpoint-600/pytorch_model.bin\n",
      "Saving model checkpoint to ./gpt-letters/checkpoint-750\n",
      "Configuration saved in ./gpt-letters/checkpoint-750/config.json\n",
      "Model weights saved in ./gpt-letters/checkpoint-750/pytorch_model.bin\n",
      "Saving model checkpoint to ./gpt-letters/checkpoint-900\n",
      "Configuration saved in ./gpt-letters/checkpoint-900/config.json\n",
      "Model weights saved in ./gpt-letters/checkpoint-900/pytorch_model.bin\n",
      "Saving model checkpoint to ./gpt-letters/checkpoint-1050\n",
      "Configuration saved in ./gpt-letters/checkpoint-1050/config.json\n",
      "Model weights saved in ./gpt-letters/checkpoint-1050/pytorch_model.bin\n",
      "Saving model checkpoint to ./gpt-letters/checkpoint-1200\n",
      "Configuration saved in ./gpt-letters/checkpoint-1200/config.json\n",
      "Model weights saved in ./gpt-letters/checkpoint-1200/pytorch_model.bin\n",
      "Saving model checkpoint to ./gpt-letters/checkpoint-1350\n",
      "Configuration saved in ./gpt-letters/checkpoint-1350/config.json\n",
      "Model weights saved in ./gpt-letters/checkpoint-1350/pytorch_model.bin\n",
      "Saving model checkpoint to ./gpt-letters/checkpoint-1500\n",
      "Configuration saved in ./gpt-letters/checkpoint-1500/config.json\n",
      "Model weights saved in ./gpt-letters/checkpoint-1500/pytorch_model.bin\n",
      "Saving model checkpoint to ./gpt-letters/checkpoint-1650\n",
      "Configuration saved in ./gpt-letters/checkpoint-1650/config.json\n",
      "Model weights saved in ./gpt-letters/checkpoint-1650/pytorch_model.bin\n",
      "Saving model checkpoint to ./gpt-letters/checkpoint-1800\n",
      "Configuration saved in ./gpt-letters/checkpoint-1800/config.json\n",
      "Model weights saved in ./gpt-letters/checkpoint-1800/pytorch_model.bin\n",
      "Saving model checkpoint to ./gpt-letters/checkpoint-1950\n",
      "Configuration saved in ./gpt-letters/checkpoint-1950/config.json\n",
      "Model weights saved in ./gpt-letters/checkpoint-1950/pytorch_model.bin\n",
      "Saving model checkpoint to ./gpt-letters/checkpoint-2100\n",
      "Configuration saved in ./gpt-letters/checkpoint-2100/config.json\n",
      "Model weights saved in ./gpt-letters/checkpoint-2100/pytorch_model.bin\n",
      "Saving model checkpoint to ./gpt-letters/checkpoint-2250\n",
      "Configuration saved in ./gpt-letters/checkpoint-2250/config.json\n",
      "Model weights saved in ./gpt-letters/checkpoint-2250/pytorch_model.bin\n",
      "Saving model checkpoint to ./gpt-letters/checkpoint-2400\n",
      "Configuration saved in ./gpt-letters/checkpoint-2400/config.json\n",
      "Model weights saved in ./gpt-letters/checkpoint-2400/pytorch_model.bin\n",
      "Saving model checkpoint to ./gpt-letters/checkpoint-2550\n",
      "Configuration saved in ./gpt-letters/checkpoint-2550/config.json\n",
      "Model weights saved in ./gpt-letters/checkpoint-2550/pytorch_model.bin\n",
      "Saving model checkpoint to ./gpt-letters/checkpoint-2700\n",
      "Configuration saved in ./gpt-letters/checkpoint-2700/config.json\n",
      "Model weights saved in ./gpt-letters/checkpoint-2700/pytorch_model.bin\n",
      "Saving model checkpoint to ./gpt-letters/checkpoint-2850\n",
      "Configuration saved in ./gpt-letters/checkpoint-2850/config.json\n",
      "Model weights saved in ./gpt-letters/checkpoint-2850/pytorch_model.bin\n",
      "Saving model checkpoint to ./gpt-letters/checkpoint-3000\n",
      "Configuration saved in ./gpt-letters/checkpoint-3000/config.json\n",
      "Model weights saved in ./gpt-letters/checkpoint-3000/pytorch_model.bin\n",
      "Saving model checkpoint to ./gpt-letters/checkpoint-3150\n",
      "Configuration saved in ./gpt-letters/checkpoint-3150/config.json\n",
      "Model weights saved in ./gpt-letters/checkpoint-3150/pytorch_model.bin\n",
      "Saving model checkpoint to ./gpt-letters/checkpoint-3300\n",
      "Configuration saved in ./gpt-letters/checkpoint-3300/config.json\n",
      "Model weights saved in ./gpt-letters/checkpoint-3300/pytorch_model.bin\n",
      "Saving model checkpoint to ./gpt-letters/checkpoint-3450\n",
      "Configuration saved in ./gpt-letters/checkpoint-3450/config.json\n",
      "Model weights saved in ./gpt-letters/checkpoint-3450/pytorch_model.bin\n",
      "Saving model checkpoint to ./gpt-letters/checkpoint-3600\n",
      "Configuration saved in ./gpt-letters/checkpoint-3600/config.json\n",
      "Model weights saved in ./gpt-letters/checkpoint-3600/pytorch_model.bin\n",
      "Saving model checkpoint to ./gpt-letters/checkpoint-3750\n",
      "Configuration saved in ./gpt-letters/checkpoint-3750/config.json\n",
      "Model weights saved in ./gpt-letters/checkpoint-3750/pytorch_model.bin\n",
      "Saving model checkpoint to ./gpt-letters/checkpoint-3900\n",
      "Configuration saved in ./gpt-letters/checkpoint-3900/config.json\n",
      "Model weights saved in ./gpt-letters/checkpoint-3900/pytorch_model.bin\n",
      "Saving model checkpoint to ./gpt-letters/checkpoint-4050\n",
      "Configuration saved in ./gpt-letters/checkpoint-4050/config.json\n",
      "Model weights saved in ./gpt-letters/checkpoint-4050/pytorch_model.bin\n",
      "Saving model checkpoint to ./gpt-letters/checkpoint-4200\n",
      "Configuration saved in ./gpt-letters/checkpoint-4200/config.json\n",
      "Model weights saved in ./gpt-letters/checkpoint-4200/pytorch_model.bin\n",
      "Saving model checkpoint to ./gpt-letters/checkpoint-4350\n",
      "Configuration saved in ./gpt-letters/checkpoint-4350/config.json\n",
      "Model weights saved in ./gpt-letters/checkpoint-4350/pytorch_model.bin\n",
      "Saving model checkpoint to ./gpt-letters/checkpoint-4500\n",
      "Configuration saved in ./gpt-letters/checkpoint-4500/config.json\n",
      "Model weights saved in ./gpt-letters/checkpoint-4500/pytorch_model.bin\n",
      "Saving model checkpoint to ./gpt-letters/checkpoint-4650\n",
      "Configuration saved in ./gpt-letters/checkpoint-4650/config.json\n",
      "Model weights saved in ./gpt-letters/checkpoint-4650/pytorch_model.bin\n",
      "Saving model checkpoint to ./gpt-letters/checkpoint-4800\n",
      "Configuration saved in ./gpt-letters/checkpoint-4800/config.json\n",
      "Model weights saved in ./gpt-letters/checkpoint-4800/pytorch_model.bin\n",
      "Saving model checkpoint to ./gpt-letters/checkpoint-4950\n",
      "Configuration saved in ./gpt-letters/checkpoint-4950/config.json\n",
      "Model weights saved in ./gpt-letters/checkpoint-4950/pytorch_model.bin\n",
      "Saving model checkpoint to ./gpt-letters/checkpoint-5100\n",
      "Configuration saved in ./gpt-letters/checkpoint-5100/config.json\n",
      "Model weights saved in ./gpt-letters/checkpoint-5100/pytorch_model.bin\n",
      "Saving model checkpoint to ./gpt-letters/checkpoint-5250\n",
      "Configuration saved in ./gpt-letters/checkpoint-5250/config.json\n",
      "Model weights saved in ./gpt-letters/checkpoint-5250/pytorch_model.bin\n",
      "Saving model checkpoint to ./gpt-letters/checkpoint-5400\n",
      "Configuration saved in ./gpt-letters/checkpoint-5400/config.json\n",
      "Model weights saved in ./gpt-letters/checkpoint-5400/pytorch_model.bin\n",
      "Saving model checkpoint to ./gpt-letters/checkpoint-5550\n",
      "Configuration saved in ./gpt-letters/checkpoint-5550/config.json\n",
      "Model weights saved in ./gpt-letters/checkpoint-5550/pytorch_model.bin\n",
      "Saving model checkpoint to ./gpt-letters/checkpoint-5700\n",
      "Configuration saved in ./gpt-letters/checkpoint-5700/config.json\n",
      "Model weights saved in ./gpt-letters/checkpoint-5700/pytorch_model.bin\n",
      "Saving model checkpoint to ./gpt-letters/checkpoint-5850\n",
      "Configuration saved in ./gpt-letters/checkpoint-5850/config.json\n",
      "Model weights saved in ./gpt-letters/checkpoint-5850/pytorch_model.bin\n",
      "Saving model checkpoint to ./gpt-letters/checkpoint-6000\n",
      "Configuration saved in ./gpt-letters/checkpoint-6000/config.json\n",
      "Model weights saved in ./gpt-letters/checkpoint-6000/pytorch_model.bin\n",
      "Saving model checkpoint to ./gpt-letters/checkpoint-6150\n",
      "Configuration saved in ./gpt-letters/checkpoint-6150/config.json\n",
      "Model weights saved in ./gpt-letters/checkpoint-6150/pytorch_model.bin\n",
      "Saving model checkpoint to ./gpt-letters/checkpoint-6300\n",
      "Configuration saved in ./gpt-letters/checkpoint-6300/config.json\n",
      "Model weights saved in ./gpt-letters/checkpoint-6300/pytorch_model.bin\n",
      "Saving model checkpoint to ./gpt-letters/checkpoint-6450\n",
      "Configuration saved in ./gpt-letters/checkpoint-6450/config.json\n",
      "Model weights saved in ./gpt-letters/checkpoint-6450/pytorch_model.bin\n",
      "Saving model checkpoint to ./gpt-letters/checkpoint-6600\n",
      "Configuration saved in ./gpt-letters/checkpoint-6600/config.json\n",
      "Model weights saved in ./gpt-letters/checkpoint-6600/pytorch_model.bin\n",
      "Saving model checkpoint to ./gpt-letters/checkpoint-6750\n",
      "Configuration saved in ./gpt-letters/checkpoint-6750/config.json\n",
      "Model weights saved in ./gpt-letters/checkpoint-6750/pytorch_model.bin\n",
      "Saving model checkpoint to ./gpt-letters/checkpoint-6900\n",
      "Configuration saved in ./gpt-letters/checkpoint-6900/config.json\n",
      "Model weights saved in ./gpt-letters/checkpoint-6900/pytorch_model.bin\n",
      "Saving model checkpoint to ./gpt-letters/checkpoint-7050\n",
      "Configuration saved in ./gpt-letters/checkpoint-7050/config.json\n",
      "Model weights saved in ./gpt-letters/checkpoint-7050/pytorch_model.bin\n",
      "Saving model checkpoint to ./gpt-letters/checkpoint-7200\n",
      "Configuration saved in ./gpt-letters/checkpoint-7200/config.json\n",
      "Model weights saved in ./gpt-letters/checkpoint-7200/pytorch_model.bin\n",
      "Saving model checkpoint to ./gpt-letters/checkpoint-7350\n",
      "Configuration saved in ./gpt-letters/checkpoint-7350/config.json\n",
      "Model weights saved in ./gpt-letters/checkpoint-7350/pytorch_model.bin\n",
      "Saving model checkpoint to ./gpt-letters/checkpoint-7500\n",
      "Configuration saved in ./gpt-letters/checkpoint-7500/config.json\n",
      "Model weights saved in ./gpt-letters/checkpoint-7500/pytorch_model.bin\n",
      "Saving model checkpoint to ./gpt-letters/checkpoint-7650\n",
      "Configuration saved in ./gpt-letters/checkpoint-7650/config.json\n",
      "Model weights saved in ./gpt-letters/checkpoint-7650/pytorch_model.bin\n",
      "Saving model checkpoint to ./gpt-letters/checkpoint-7800\n",
      "Configuration saved in ./gpt-letters/checkpoint-7800/config.json\n",
      "Model weights saved in ./gpt-letters/checkpoint-7800/pytorch_model.bin\n",
      "Saving model checkpoint to ./gpt-letters/checkpoint-7950\n",
      "Configuration saved in ./gpt-letters/checkpoint-7950/config.json\n",
      "Model weights saved in ./gpt-letters/checkpoint-7950/pytorch_model.bin\n",
      "Saving model checkpoint to ./gpt-letters/checkpoint-8100\n",
      "Configuration saved in ./gpt-letters/checkpoint-8100/config.json\n",
      "Model weights saved in ./gpt-letters/checkpoint-8100/pytorch_model.bin\n",
      "Saving model checkpoint to ./gpt-letters/checkpoint-8250\n",
      "Configuration saved in ./gpt-letters/checkpoint-8250/config.json\n",
      "Model weights saved in ./gpt-letters/checkpoint-8250/pytorch_model.bin\n",
      "\n",
      "\n",
      "Training completed. Do not forget to share your model on huggingface.co/models =)\n",
      "\n",
      "\n"
     ]
    },
    {
     "data": {
      "text/plain": [
       "TrainOutput(global_step=8250, training_loss=0.18763843657753684, metrics={'train_runtime': 1042.604, 'train_samples_per_second': 251.294, 'train_steps_per_second': 7.913, 'total_flos': 1.7114628096e+16, 'train_loss': 0.18763843657753684, 'epoch': 250.0})"
      ]
     },
     "execution_count": 35,
     "metadata": {},
     "output_type": "execute_result"
    }
   ],
   "source": [
    "trainer.train()"
   ]
  },
  {
   "cell_type": "code",
   "execution_count": 36,
   "id": "56fd6c42-05bc-4004-bdc6-fffb2e8ff824",
   "metadata": {},
   "outputs": [
    {
     "name": "stderr",
     "output_type": "stream",
     "text": [
      "Saving model checkpoint to ./gpt-letters\n",
      "Configuration saved in ./gpt-letters/config.json\n",
      "Model weights saved in ./gpt-letters/pytorch_model.bin\n"
     ]
    }
   ],
   "source": [
    "trainer.save_model()"
   ]
  },
  {
   "cell_type": "markdown",
   "id": "1e046d19-8dfb-4be8-a077-fb1a0f8afbee",
   "metadata": {},
   "source": [
    "**Генерация текстов. Выберем пайплайн с моделью для генерации. Для удобства я ограничиваю максимальную длину, но на первый вариантах генерации она была конечна, по крайней мере на нескольких генерациях (я сверял длины как строк, так и количества слов, они различались).**"
   ]
  },
  {
   "cell_type": "code",
   "execution_count": 37,
   "id": "567a2419-3333-4cf9-8e55-da1cbab471b1",
   "metadata": {},
   "outputs": [
    {
     "name": "stderr",
     "output_type": "stream",
     "text": [
      "loading configuration file ./gpt-letters/config.json\n",
      "Model config GPT2Config {\n",
      "  \"_name_or_path\": \"./gpt-letters\",\n",
      "  \"activation_function\": \"gelu_new\",\n",
      "  \"architectures\": [\n",
      "    \"GPT2LMHeadModel\"\n",
      "  ],\n",
      "  \"attn_pdrop\": 0.1,\n",
      "  \"bos_token_id\": 50256,\n",
      "  \"embd_pdrop\": 0.1,\n",
      "  \"eos_token_id\": 50256,\n",
      "  \"gradient_checkpointing\": false,\n",
      "  \"initializer_range\": 0.02,\n",
      "  \"layer_norm_epsilon\": 1e-05,\n",
      "  \"model_type\": \"gpt2\",\n",
      "  \"n_ctx\": 2048,\n",
      "  \"n_embd\": 768,\n",
      "  \"n_head\": 12,\n",
      "  \"n_inner\": null,\n",
      "  \"n_layer\": 12,\n",
      "  \"n_positions\": 2048,\n",
      "  \"reorder_and_upcast_attn\": false,\n",
      "  \"resid_pdrop\": 0.1,\n",
      "  \"scale_attn_by_inverse_layer_idx\": false,\n",
      "  \"scale_attn_weights\": true,\n",
      "  \"summary_activation\": null,\n",
      "  \"summary_first_dropout\": 0.1,\n",
      "  \"summary_proj_to_labels\": true,\n",
      "  \"summary_type\": \"cls_index\",\n",
      "  \"summary_use_proj\": true,\n",
      "  \"torch_dtype\": \"float32\",\n",
      "  \"transformers_version\": \"4.15.0\",\n",
      "  \"use_cache\": true,\n",
      "  \"vocab_size\": 50264\n",
      "}\n",
      "\n",
      "loading configuration file ./gpt-letters/config.json\n",
      "Model config GPT2Config {\n",
      "  \"_name_or_path\": \"./gpt-letters\",\n",
      "  \"activation_function\": \"gelu_new\",\n",
      "  \"architectures\": [\n",
      "    \"GPT2LMHeadModel\"\n",
      "  ],\n",
      "  \"attn_pdrop\": 0.1,\n",
      "  \"bos_token_id\": 50256,\n",
      "  \"embd_pdrop\": 0.1,\n",
      "  \"eos_token_id\": 50256,\n",
      "  \"gradient_checkpointing\": false,\n",
      "  \"initializer_range\": 0.02,\n",
      "  \"layer_norm_epsilon\": 1e-05,\n",
      "  \"model_type\": \"gpt2\",\n",
      "  \"n_ctx\": 2048,\n",
      "  \"n_embd\": 768,\n",
      "  \"n_head\": 12,\n",
      "  \"n_inner\": null,\n",
      "  \"n_layer\": 12,\n",
      "  \"n_positions\": 2048,\n",
      "  \"reorder_and_upcast_attn\": false,\n",
      "  \"resid_pdrop\": 0.1,\n",
      "  \"scale_attn_by_inverse_layer_idx\": false,\n",
      "  \"scale_attn_weights\": true,\n",
      "  \"summary_activation\": null,\n",
      "  \"summary_first_dropout\": 0.1,\n",
      "  \"summary_proj_to_labels\": true,\n",
      "  \"summary_type\": \"cls_index\",\n",
      "  \"summary_use_proj\": true,\n",
      "  \"torch_dtype\": \"float32\",\n",
      "  \"transformers_version\": \"4.15.0\",\n",
      "  \"use_cache\": true,\n",
      "  \"vocab_size\": 50264\n",
      "}\n",
      "\n",
      "loading weights file ./gpt-letters/pytorch_model.bin\n",
      "All model checkpoint weights were used when initializing GPT2LMHeadModel.\n",
      "\n",
      "All the weights of GPT2LMHeadModel were initialized from the model checkpoint at ./gpt-letters.\n",
      "If your task is similar to the task the model of the checkpoint was trained on, you can already use GPT2LMHeadModel for predictions without further training.\n"
     ]
    }
   ],
   "source": [
    "local_generator = pipeline('text-generation', model='./gpt-letters',\n",
    "                           tokenizer=tokenizer, max_length=500)"
   ]
  },
  {
   "cell_type": "markdown",
   "id": "56bdb738-1d2b-4101-89a1-7c1687cf1b93",
   "metadata": {},
   "source": [
    "**Для замены разметки MASK на соответствующий падеж я использовал сочетание библиотек Spacy и Pymorphy (можно бы, наверное, было все сделать на spacy, но я не нашел, как там преобразовать сущность к требуемому падежу).**\n",
    "\n",
    "**Однако, с помощью синтаксического парсера Spacy можно сравнительно удобно извлекать главное слово/зависимые слова, и ориентироваться на их падеж, чтобы проставить паджеж при замене токена MASK.**\n",
    "**Вот пример такого извлечения:**"
   ]
  },
  {
   "cell_type": "code",
   "execution_count": 38,
   "id": "5af68aef-17a6-43d5-9e01-ea829352df23",
   "metadata": {},
   "outputs": [
    {
     "name": "stdout",
     "output_type": "stream",
     "text": [
      "MASK, учёному в области молекулярной генетики, академику MASK!\n",
      "          Примите мои поздравления с -летием и наилучшие пожелания.\n",
      "          MASKпосвятили себя науке и посвятили себя воспитанию молодёжи.\n",
      "          Ваши исследования и разработки в области молекулярной генетики стали\n",
      "          настоящим прорывом в науке и медицине.\n",
      "          Здоровья Вам, благополучия и всего самого доброго\n",
      "          Президенту Республики Беларусь Уважаемый MASK\n",
      "MASK ['Dat', 'Dat'] None []\n",
      "MASK [] Dat [академику, MASK]\n",
      "MASKпосвятили ['Acc', 'Dat'] None []\n",
      "MASK ['Nom'] None []\n"
     ]
    }
   ],
   "source": [
    "nlp = spacy.load(\"ru_core_news_sm\")\n",
    "\n",
    "text = \"\"\"MASK, учёному в области молекулярной генетики, академику MASK MASK!\n",
    "          Примите мои поздравления с -летием и наилучшие пожелания.\n",
    "          MASK посвятили себя науке и посвятили себя воспитанию молодёжи.\n",
    "          Ваши исследования и разработки в области молекулярной генетики стали\n",
    "          настоящим прорывом в науке и медицине.\n",
    "          Здоровья Вам, благополучия и всего самого доброго\n",
    "          Президенту Республики Беларусь Уважаемый MASK\"\"\"\n",
    "\n",
    "text = re.sub(\"(MASK ?)+\", 'MASK', text)\n",
    "doc = nlp(text)\n",
    "\n",
    "print(doc.text)\n",
    "for token in doc:\n",
    "    if 'MASK' in token.text:\n",
    "        print(token.text,\n",
    "              [child.morph.to_dict().get('Case') for child in token.children\n",
    "               if child.morph.to_dict().get('Case')],\n",
    "              token.head.morph.to_dict().get('Case'),\n",
    "              [i for i in token.ancestors])"
   ]
  },
  {
   "cell_type": "markdown",
   "id": "704b3a9f-212b-4c87-82ff-385d98a1ddf8",
   "metadata": {},
   "source": [
    "**Функция для преобразования падежа с помощью Pymorphy. Принимает на вход полное имя и наименование падежа в аннотации для Pymorphy. Возвращает имя в требуемом падеже.**"
   ]
  },
  {
   "cell_type": "code",
   "execution_count": 39,
   "id": "cf920135-6fb2-4d78-8c79-7bc08c37f187",
   "metadata": {},
   "outputs": [],
   "source": [
    "def case_name(full_name, case):\n",
    "    morph = pymorphy2.MorphAnalyzer()\n",
    "    new_name = ''\n",
    "    for part in full_name.split():\n",
    "        morph_part = morph.parse(part)[0]\n",
    "        new_part = (morph_part.inflect({case})[0].capitalize() if morph_part\n",
    "                    .inflect({case}) else part)\n",
    "        new_name += f' {new_part}'\n",
    "    return new_name.strip()"
   ]
  },
  {
   "cell_type": "code",
   "execution_count": 40,
   "id": "24793b52-fae7-423c-84f4-3cf9c7d95205",
   "metadata": {},
   "outputs": [
    {
     "name": "stdout",
     "output_type": "stream",
     "text": [
      "Дмитрия Сергеевича genetive\n",
      "Дмитрий Сергеевич nominative\n",
      "Дмитрию Сергеевичу dative\n",
      "Дмитрия Сергеевича accusative\n"
     ]
    }
   ],
   "source": [
    "print(case_name('Дмитрий Сергеевич', 'gent'), 'genetive')\n",
    "print(case_name('Дмитрия Сергеевича', 'nomn'), 'nominative')\n",
    "print(case_name('Дмитрий Сергеевич', 'datv'), 'dative')\n",
    "print(case_name('Дмитрий Сергеевич', 'accs'), 'accusative')"
   ]
  },
  {
   "cell_type": "markdown",
   "id": "d8679276-3137-478e-b443-5ca12c7aec97",
   "metadata": {},
   "source": [
    "**У Spacy и Pymorphy разная разметка падежей, самым быстрым решением показалось сделать маппинг.**"
   ]
  },
  {
   "cell_type": "code",
   "execution_count": 41,
   "id": "e191c40a-36ef-425f-93e0-8c5e7cf70c11",
   "metadata": {},
   "outputs": [],
   "source": [
    "case_mapping = {'Nom': 'nomn',\n",
    "                'Gen': 'gent',\n",
    "                'Dat': 'datv',\n",
    "                'Acc': 'accs',\n",
    "                'Abl': 'ablt',\n",
    "                'Loc': 'loct',\n",
    "               }"
   ]
  },
  {
   "cell_type": "markdown",
   "id": "74ae3cb6-cbc5-484f-afb0-f7290d26e135",
   "metadata": {},
   "source": [
    "**Функция для поиска падежа с помощью Pymorphy. Принимает на вход объект токена Spacy и словарь с маппингом Spacy-Pymorphy. В синтаксическом дереве предложения ищется либо главное слово, либо ближайшее зависимое к аннотации MASK. Возвращает падеж главного слова, либо ближайшего потомка, либо, если вдруг их нет, дательный падеж.**"
   ]
  },
  {
   "cell_type": "code",
   "execution_count": 42,
   "id": "9be9d636-79c2-4b38-8216-e1646e381ef4",
   "metadata": {},
   "outputs": [],
   "source": [
    "def find_case(token, case_mapping):\n",
    "    childs_cases = [child.morph.to_dict().get('Case') for child in\n",
    "                    token.children if child.morph.to_dict().get('Case')]\n",
    "    case = ''\n",
    "    if token.head.morph.to_dict().get('Case'):\n",
    "        case = token.head.morph.to_dict().get('Case')\n",
    "    elif len(childs_cases) > 0:\n",
    "        case = childs_cases[-1]\n",
    "        \n",
    "    if case_mapping.get(case):\n",
    "        case = case_mapping.get(case)\n",
    "    else:\n",
    "        case = 'datv'\n",
    "    return case"
   ]
  },
  {
   "cell_type": "markdown",
   "id": "61fe1931-b8ee-4e18-a45e-9da99c131815",
   "metadata": {},
   "source": [
    "**Затем идет перебор всего текста, очистка от двойных токенов MASK, множественных пробелов, и замена токенов MASK на именованную сущность в соответствующем падеже.**"
   ]
  },
  {
   "cell_type": "code",
   "execution_count": 43,
   "id": "6deefd7f-ba46-4bb7-bfba-4756cb8610e4",
   "metadata": {},
   "outputs": [],
   "source": [
    "def change_masks(full_name, text, case_mapping):\n",
    "    new_text = ''\n",
    "    text = re.sub(\"(MASK ?)+\", 'MASK', text)\n",
    "    text = re.sub(\" +\", ' ', text)\n",
    "    doc = nlp(text)\n",
    "    for token in doc:\n",
    "        if 'MASK' in token.text:\n",
    "            my_case = find_case(token, case_mapping)\n",
    "            new_token = case_name(full_name, my_case)\n",
    "        else:\n",
    "            new_token = token.text\n",
    "        new_token = f' {new_token}' if new_token.isalpha() else new_token\n",
    "        new_text += new_token\n",
    "    return new_text.strip()"
   ]
  },
  {
   "cell_type": "markdown",
   "id": "c526b1ae-6ca9-4893-8dbb-1b1c90870a27",
   "metadata": {},
   "source": [
    "**Все собирается в функцию для генерации текста**"
   ]
  },
  {
   "cell_type": "code",
   "execution_count": 44,
   "id": "e798662c-1d0c-47a9-b4b3-47dc205a97d5",
   "metadata": {},
   "outputs": [],
   "source": [
    "def generate_congrat(full_name):\n",
    "    text = local_generator(full_name)[0]['generated_text']\n",
    "    final_text = change_masks(full_name, text, case_mapping)\n",
    "    return final_text"
   ]
  },
  {
   "cell_type": "code",
   "execution_count": null,
   "id": "0509b794-69d8-43f4-b066-c9a1607df89f",
   "metadata": {},
   "outputs": [],
   "source": []
  },
  {
   "cell_type": "code",
   "execution_count": 45,
   "id": "d4a5ede3-d54c-4760-a516-36e4f8bd1aff",
   "metadata": {},
   "outputs": [
    {
     "name": "stderr",
     "output_type": "stream",
     "text": [
      "Setting `pad_token_id` to `eos_token_id`:50256 for open-end generation.\n"
     ]
    },
    {
     "data": {
      "text/plain": [
       "'Александру Александровичу Моисееву, генеральному директору Александру, академику Александру Александру поздравляю Вас с-летним юбилеем. Вас по праву считают выдающимся учёным, достойным продолжателем великих подвижнических традиций отечественной школы микробиологии и эпидемиологии. Вы много и увлечённо трудитесь, объединяете коллектив знаменитого Александра важных, востребованных задач, заряжаете коллег своей поистине неиссякаемой энергией. Результаты Ваших фундаментальных исследований и инновационных разработок имеют большое научное и практическое значение. И конечно, самого глубокого признания заслуживает Ваш уникальный личный вклад в развитие отечественной системы здравоохранения, в укрепление эпидемиологического контроля, а значит, на укрепление потенциала отечественной медицины. Желаю Вам здоровья, успехов и всего самого доброго. Александру. Александру, президенту Александру поздравляю Вас с-летием. Вы пользуетесь высоким уважением как автор многочисленных научных трудов, большой творческой энергией, увлечённости и профессионального признания. Тысячи пациентов искренне благодарны Вам не только за высококвалифицированную медицинскую помощь, но и за доброе, внимательное отношение. Желаю Вам успехов в работе, здоровья и благополучия. Александру. Александру, президенту Александру поздравляю Вас с-летием. Вы пользуетесь высоким уважением как автор многочисленных научных трудов, большой творческой энергией, увлечённостью и профессиональным успехом. Тысячи пациентов искренне благодарны Вам за поддержку и доброе, внимательное отношение. Тысячи пациентов искренне благодарны Вам за поддержку и доброе, внимательное отношение. Тысячи пациентов искренне благодарны Вам за поддержку и доброе, внимательное отношение. Желаю Вам здоровья, благополучия и успехов. Александру. Александру, президенту Александру поздравляю Вас с-летием. Вы пользуетесь высоким уважением как автор многочисленных научных трудов, большой творческой энергией, увлечённостью и профессионализмом. Тысячи пациентов искренне благодарны Вам за поддержку и доброе, внимательное отношение. Тысячи пациентов искренне благодарны Вам за поддержку и доброе, внимательное отношение. Тысячи пациентов искренне благодарны Вам за поддержку и доброе, внимательное отношение. Желаю Вам здоровья, благополучия и удачи. Желаю Вам здоровья, здоровья и благополучия. Здоровья Вам, успехов и здоровья. Александру. Александру, президенту Александру'"
      ]
     },
     "execution_count": 45,
     "metadata": {},
     "output_type": "execute_result"
    }
   ],
   "source": [
    "generate_congrat('Александру')"
   ]
  },
  {
   "cell_type": "code",
   "execution_count": 46,
   "id": "8f7845cc-7f6b-48bc-966f-3ba01aaff44d",
   "metadata": {},
   "outputs": [
    {
     "name": "stderr",
     "output_type": "stream",
     "text": [
      "Setting `pad_token_id` to `eos_token_id`:50256 for open-end generation.\n"
     ]
    },
    {
     "data": {
      "text/plain": [
       "'Александру Александровичу Моисееву, генеральному директору Александру, академику Александру Александру поздравляю Вас с-летним юбилеем. Вас по праву считают выдающимся учёным, достойным продолжателем великих подвижнических традиций отечественной школы микробиологии и эпидемиологии. Вы много и увлечённо трудитесь, объединяете коллектив знаменитого Александра важных, востребованных задач, заряжаете коллег своей поистине неиссякаемой энергией. Результаты Ваших фундаментальных исследований и инновационных разработок имеют большое научное и практическое значение. И конечно, самого глубокого признания заслуживает Ваш уникальный личный вклад в развитие отечественной системы здравоохранения, в укрепление эпидемиологического контроля, а значит, на укрепление потенциала отечественной медицины. Желаю Вам здоровья, успехов и всего самого доброго. Александру. Александру, президенту Александру поздравляю Вас с-летием. Вы пользуетесь высоким уважением как автор многочисленных научных трудов, большой творческой энергией, увлечённости и профессионального признания. Тысячи пациентов искренне благодарны Вам не только за высококвалифицированную медицинскую помощь, но и за доброе, внимательное отношение. Желаю Вам успехов в работе, здоровья и благополучия. Александру. Александру, президенту Александру поздравляю Вас с-летием. Вы пользуетесь высоким уважением как автор многочисленных научных трудов, большой творческой энергией, увлечённостью и профессиональным успехом. Тысячи пациентов искренне благодарны Вам за поддержку и доброе, внимательное отношение. Тысячи пациентов искренне благодарны Вам за поддержку и доброе, внимательное отношение. Тысячи пациентов искренне благодарны Вам за поддержку и доброе, внимательное отношение. Желаю Вам здоровья, благополучия и успехов. Александру. Александру, президенту Александру поздравляю Вас с-летием. Вы пользуетесь высоким уважением как автор многочисленных научных трудов, большой творческой энергией, увлечённостью и профессионализмом. Тысячи пациентов искренне благодарны Вам за поддержку и доброе, внимательное отношение. Тысячи пациентов искренне благодарны Вам за поддержку и доброе, внимательное отношение. Тысячи пациентов искренне благодарны Вам за поддержку и доброе, внимательное отношение. Желаю Вам здоровья, благополучия и удачи. Желаю Вам здоровья, здоровья и благополучия. Здоровья Вам, успехов и здоровья. Александру. Александру, президенту Александру'"
      ]
     },
     "execution_count": 46,
     "metadata": {},
     "output_type": "execute_result"
    }
   ],
   "source": [
    "generate_congrat('Александру')"
   ]
  },
  {
   "cell_type": "code",
   "execution_count": 47,
   "id": "3ff4c445-d0ee-4489-b9ac-5c16affbf0e6",
   "metadata": {},
   "outputs": [
    {
     "name": "stderr",
     "output_type": "stream",
     "text": [
      "Setting `pad_token_id` to `eos_token_id`:50256 for open-end generation.\n"
     ]
    },
    {
     "data": {
      "text/plain": [
       "'Сергею Сергею» Сердечно поздравляю Вас с-летием. Вы осуществили свою мечту– состоялись в сложной, многогранной профессии, внесли значимый вклад в развитие отечественной культуры, отечественного общества. Богатый профессиональный опыт и неизменная приверженность традициям знаменитой вахтанговской школы на протяжении долгих лет помогают Вам руководить музыкальной частью знаменитого Сергею, добиваться значимых творческих успехов на самых престижных государственных должностях. Желаю Вам здоровья, успехов и всего самого доброго. Сергею. Сергея, Сергею, Сергею, Сергею, мужской сборной России, победившей на Всемирной летней универсиаде года в Тайбэе в соревнованиях по синхронному плаванию в группе Уважаемые Сергее, Сергею, Сергею, Сергею, Сергею, Сергею вас с большим, заслуженным успехом. Вы блестяще выступили на самых престижных международных соревнованиях, продемонстрировали незаурядное мастерство, собранность и волю к победе. Завоёванное вами« золото»– заслуженная награда за Ваш талант, целеустремлённость, годы напряжённых тренировок. И конечно, это яркое подтверждение высокого уровня мастерства российских спортсменов. Желаю вам новых спортивных достижений и всего самого доброго. Сергею. Сергею, победительнице Всемирной летней универсиады по синхронному плаванию Уважаемая Сергею Вас с победой на Всемирной летней универсиаде. Вы блестяще выступили на самых престижных международных соревнованиях, завоевали вторую золотую медаль, стали первой в синхронном плавании наших соперников. Ваше выступление стало ещё одним ярким свидетельством высокого мастерства и подготовки российских спортсменов. Желаю Вам новых достижений и всего самого доброго. Сергею. Сергею, победительнице Всемирной летней универсиады по синхронному плаванию Уважаемая Сергею Вас с победой на Всемирной летней универсиаде. Вы блестяще выступили на самых престижных международных соревнованиях, завоевали вторую золотую медаль, стали первой в синхронном плавании и, конечно, самой престижной спортивной победой на этих престижных международных состязаниях. Ваше выступление стало ещё одним ярким свидетельством высокого мастерства и подготовки наших соперников. И конечно, это хороший подарок для наших болельщиков. Желаю Вам здоровья, удачи и всего самого доброго. Сергею. Сергею, M'"
      ]
     },
     "execution_count": 47,
     "metadata": {},
     "output_type": "execute_result"
    }
   ],
   "source": [
    "generate_congrat('Сергею')"
   ]
  },
  {
   "cell_type": "code",
   "execution_count": 48,
   "id": "776e1d9b-bfb1-422f-8ab8-087060977a5c",
   "metadata": {},
   "outputs": [
    {
     "name": "stderr",
     "output_type": "stream",
     "text": [
      "Setting `pad_token_id` to `eos_token_id`:50256 for open-end generation.\n"
     ]
    },
    {
     "data": {
      "text/plain": [
       "'Сергею Сергею» Сердечно поздравляю Вас с-летием. Вы осуществили свою мечту– состоялись в сложной, многогранной профессии, внесли значимый вклад в развитие отечественной культуры, отечественного общества. Богатый профессиональный опыт и неизменная приверженность традициям знаменитой вахтанговской школы на протяжении долгих лет помогают Вам руководить музыкальной частью знаменитого Сергею, добиваться значимых творческих успехов на самых престижных государственных должностях. Желаю Вам здоровья, успехов и всего самого доброго. Сергею. Сергея, Сергею, Сергею, Сергею, мужской сборной России, победившей на Всемирной летней универсиаде года в Тайбэе в соревнованиях по синхронному плаванию в группе Уважаемые Сергее, Сергею, Сергею, Сергею, Сергею, Сергею вас с большим, заслуженным успехом. Вы блестяще выступили на самых престижных международных соревнованиях, продемонстрировали незаурядное мастерство, собранность и волю к победе. Завоёванное вами« золото»– заслуженная награда за Ваш талант, целеустремлённость, годы напряжённых тренировок. И конечно, это яркое подтверждение высокого уровня мастерства российских спортсменов. Желаю вам новых спортивных достижений и всего самого доброго. Сергею. Сергею, победительнице Всемирной летней универсиады по синхронному плаванию Уважаемая Сергею Вас с победой на Всемирной летней универсиаде. Вы блестяще выступили на самых престижных международных соревнованиях, завоевали вторую золотую медаль, стали первой в синхронном плавании наших соперников. Ваше выступление стало ещё одним ярким свидетельством высокого мастерства и подготовки российских спортсменов. Желаю Вам новых достижений и всего самого доброго. Сергею. Сергею, победительнице Всемирной летней универсиады по синхронному плаванию Уважаемая Сергею Вас с победой на Всемирной летней универсиаде. Вы блестяще выступили на самых престижных международных соревнованиях, завоевали вторую золотую медаль, стали первой в синхронном плавании и, конечно, самой престижной спортивной победой на этих престижных международных состязаниях. Ваше выступление стало ещё одним ярким свидетельством высокого мастерства и подготовки наших соперников. И конечно, это хороший подарок для наших болельщиков. Желаю Вам здоровья, удачи и всего самого доброго. Сергею. Сергею, M'"
      ]
     },
     "execution_count": 48,
     "metadata": {},
     "output_type": "execute_result"
    }
   ],
   "source": [
    "generate_congrat('Сергею')"
   ]
  },
  {
   "cell_type": "code",
   "execution_count": 49,
   "id": "0ccc28a2-42c6-4c12-bccb-31103d49afd6",
   "metadata": {},
   "outputs": [
    {
     "name": "stderr",
     "output_type": "stream",
     "text": [
      "Setting `pad_token_id` to `eos_token_id`:50256 for open-end generation.\n"
     ]
    },
    {
     "data": {
      "text/plain": [
       "'Алексею Моисеевичу Моисееву, народному артисту России Уважаемый Алексею поздравления с-летним юбилеем. Вас по праву считают выдающимся тренером и настоящим Алексею, обогатившим отечественный и мировой спортивный талант. За годытриумфальной карьеры Вы одержали немало ярких, незабываемых побед на самых престижныхмеждународных соревнованиях, дважды становились олимпийским чемпионом. Желаю Вам здоровья, благополучия и всего наилучшего. Алексею. Алексею, актрисе театра и кино, народной артистке СССР Алексею поздравления с-летним юбилеем. Вас по праву считают одной из ярких, блистательных актрис современного кинематографа, одной из яркихпредставительниц отечественной драматической школы. Ваш щедрый талант, удивительная искренность и обаяние снискали Вам любовь миллионов зрителей, многие из которых искренне любят Вас за искренность и обаяние, за верность профессии, которой посвятили жизнь. Желаю Вам доброго здоровья, вдохновения и всего наилучшего. Алексею. Алексея, заслуженной артистке России Уважаемая Алексея поздравления с Днём рождения. Вас по праву считают одной из ярких, блистательныхпредставительниц отечественной драматической школы. Ваш щедрый талант, удивительная искренность и обаяние снискали Вам любовь миллионов зрителей, многие из которых искренне любят Вас за искренность и обаяние, за верность профессии, которой посвятили жизнь. Желаю Вам доброго здоровья, благополучия и вдохновения. Желаю доброго здоровья, успехов и всего наилучшего. Алексею. Алексею, заслуженному мастеру спорта СССР, олимпийскому чемпиону, олимпийскому чемпиону, победителю Олимпийских игр года в Лондоне в соревнованиях по гребле на байдарках и каноэ года в Копенгагене. Желаю Вам доброго здоровья, благополучия и удачи. Талант, упорство и целеустремлённость помогли Вам достичь высот мастерства, победить на престижныхмеждународных состязаниях, в том числе– завоевать почётный титул олимпийского чемпиона. А предложенные Алексей качества– уверенность в своих силах, целеустремлённость и твёрдый настрой на победу помогли Вам добиться успеха на самых престижныхсоревнованиях, в том числе– завоевать олимпийское«золото». Желаю Вам удачи и всего наилучшего. Алексею. Алексею, олимпийскому чемпиону,'"
      ]
     },
     "execution_count": 49,
     "metadata": {},
     "output_type": "execute_result"
    }
   ],
   "source": [
    "generate_congrat('Алексею')"
   ]
  },
  {
   "cell_type": "code",
   "execution_count": 50,
   "id": "edd27637-4a0b-414f-a717-72d83f107f7f",
   "metadata": {},
   "outputs": [
    {
     "name": "stderr",
     "output_type": "stream",
     "text": [
      "Setting `pad_token_id` to `eos_token_id`:50256 for open-end generation.\n"
     ]
    },
    {
     "data": {
      "text/plain": [
       "'Алексею Моисеевичу Моисееву, народному артисту России Уважаемый Алексею поздравления с-летним юбилеем. Вас по праву считают выдающимся тренером и настоящим Алексею, обогатившим отечественный и мировой спортивный талант. За годытриумфальной карьеры Вы одержали немало ярких, незабываемых побед на самых престижныхмеждународных соревнованиях, дважды становились олимпийским чемпионом. Желаю Вам здоровья, благополучия и всего наилучшего. Алексею. Алексею, актрисе театра и кино, народной артистке СССР Алексею поздравления с-летним юбилеем. Вас по праву считают одной из ярких, блистательных актрис современного кинематографа, одной из яркихпредставительниц отечественной драматической школы. Ваш щедрый талант, удивительная искренность и обаяние снискали Вам любовь миллионов зрителей, многие из которых искренне любят Вас за искренность и обаяние, за верность профессии, которой посвятили жизнь. Желаю Вам доброго здоровья, вдохновения и всего наилучшего. Алексею. Алексея, заслуженной артистке России Уважаемая Алексея поздравления с Днём рождения. Вас по праву считают одной из ярких, блистательныхпредставительниц отечественной драматической школы. Ваш щедрый талант, удивительная искренность и обаяние снискали Вам любовь миллионов зрителей, многие из которых искренне любят Вас за искренность и обаяние, за верность профессии, которой посвятили жизнь. Желаю Вам доброго здоровья, благополучия и вдохновения. Желаю доброго здоровья, успехов и всего наилучшего. Алексею. Алексею, заслуженному мастеру спорта СССР, олимпийскому чемпиону, олимпийскому чемпиону, победителю Олимпийских игр года в Лондоне в соревнованиях по гребле на байдарках и каноэ года в Копенгагене. Желаю Вам доброго здоровья, благополучия и удачи. Талант, упорство и целеустремлённость помогли Вам достичь высот мастерства, победить на престижныхмеждународных состязаниях, в том числе– завоевать почётный титул олимпийского чемпиона. А предложенные Алексей качества– уверенность в своих силах, целеустремлённость и твёрдый настрой на победу помогли Вам добиться успеха на самых престижныхсоревнованиях, в том числе– завоевать олимпийское«золото». Желаю Вам удачи и всего наилучшего. Алексею. Алексею, олимпийскому чемпиону,'"
      ]
     },
     "execution_count": 50,
     "metadata": {},
     "output_type": "execute_result"
    }
   ],
   "source": [
    "generate_congrat('Алексею')"
   ]
  },
  {
   "cell_type": "code",
   "execution_count": 51,
   "id": "dc7bde8a-3fc3-4598-b54b-0478a1a5b478",
   "metadata": {},
   "outputs": [
    {
     "name": "stderr",
     "output_type": "stream",
     "text": [
      "Setting `pad_token_id` to `eos_token_id`:50256 for open-end generation.\n"
     ]
    },
    {
     "data": {
      "text/plain": [
       "'ВикторАлександрович!Поздравляю Вас с-летним юбилеем. Фундаментальные труды и крупные открытия в области физической химии принесли Вам заслуженное признание и высокий авторитет в научном сообществе. Ваши разработки служат научно- техническому прогрессу, они востребованы в самых разных отраслях отечественной промышленности. Отрадно, что плодотворную исследовательскую деятельность Вы успешно совмещаете с активной организационной и педагогической работой, щедро делитесь своими знаниями и опытом с талантливой молодежью. Здоровья Вам, благополучия и новых успехов. Виктору. Коллективу Виктору Уважаемыедрузья!Поздравляю вас с-летием Виктора дерматовенерологии и пульмонологии. За прошедшие годы ваш институт вырос в крупный, авторитетный научный и образовательный центр, а многие поколения учёных, врачей, специалистов приумножили благородные традиции милосердия и подвижничества, которыми во все времена славились представители отечественногомедицинского сообщества. Здесь трудятся настоящие профессионалы, безгранично преданные своему делу. Здесь трудится большой педагогический коллектив, внедряются инновационные методики и технологиилечения, применяются самые современные, высокотехнологичные методылечения. Люди, которым вы помогли сохранить здоровье, искренне благодарны вамза поддержку, доброе и внимательное отношение. Уверен, что коллектив Виктор и впредь способствовать укреплению медицинского и врачебного сообщества, воспитанию квалифицированных специалистов, развитию системы здравоохранения в России. Желаю вам успехов и всего самого доброго. Виктору. Коллективу Виктору и ветеранов Виктора и ветеранов Виктору и ценят вас за большой, подвижнический и очень востребованный вклад в развитие системы здравоохранения, популяризацию здравоохранения, сохранение нашего уникального исторического, культурного, духовного наследия, возрождение милосердия и подвижничества, которыми по праву славится наша страна. Желаю вам дальнейших успехов, здоровья и всего наилучшего. Виктору. Коллективу Виктору и ветеранов Виктора вас с-летием Виктору дерматовенерологии и пульмонологии Виктора. На протяжении многих лет вы проводите уникальные исследования, которые связаны с профилактикой и лечением внутренних болезней, лечением пульмонологических заболеваний, разработкой уникальных медицинских технологий и оборудования, эффективных методов лечения. Убеждён, что ваши знания, опыт и тон'"
      ]
     },
     "execution_count": 51,
     "metadata": {},
     "output_type": "execute_result"
    }
   ],
   "source": [
    "generate_congrat('Виктор')"
   ]
  },
  {
   "cell_type": "code",
   "execution_count": 52,
   "id": "43a0a283-ff50-4001-8d8c-75f26b6e376e",
   "metadata": {},
   "outputs": [
    {
     "name": "stderr",
     "output_type": "stream",
     "text": [
      "Setting `pad_token_id` to `eos_token_id`:50256 for open-end generation.\n"
     ]
    },
    {
     "data": {
      "text/plain": [
       "'ВикторАлександрович!Поздравляю Вас с-летним юбилеем. Фундаментальные труды и крупные открытия в области физической химии принесли Вам заслуженное признание и высокий авторитет в научном сообществе. Ваши разработки служат научно- техническому прогрессу, они востребованы в самых разных отраслях отечественной промышленности. Отрадно, что плодотворную исследовательскую деятельность Вы успешно совмещаете с активной организационной и педагогической работой, щедро делитесь своими знаниями и опытом с талантливой молодежью. Здоровья Вам, благополучия и новых успехов. Виктору. Коллективу Виктору Уважаемыедрузья!Поздравляю вас с-летием Виктора дерматовенерологии и пульмонологии. За прошедшие годы ваш институт вырос в крупный, авторитетный научный и образовательный центр, а многие поколения учёных, врачей, специалистов приумножили благородные традиции милосердия и подвижничества, которыми во все времена славились представители отечественногомедицинского сообщества. Здесь трудятся настоящие профессионалы, безгранично преданные своему делу. Здесь трудится большой педагогический коллектив, внедряются инновационные методики и технологиилечения, применяются самые современные, высокотехнологичные методылечения. Люди, которым вы помогли сохранить здоровье, искренне благодарны вамза поддержку, доброе и внимательное отношение. Уверен, что коллектив Виктор и впредь способствовать укреплению медицинского и врачебного сообщества, воспитанию квалифицированных специалистов, развитию системы здравоохранения в России. Желаю вам успехов и всего самого доброго. Виктору. Коллективу Виктору и ветеранов Виктора и ветеранов Виктору и ценят вас за большой, подвижнический и очень востребованный вклад в развитие системы здравоохранения, популяризацию здравоохранения, сохранение нашего уникального исторического, культурного, духовного наследия, возрождение милосердия и подвижничества, которыми по праву славится наша страна. Желаю вам дальнейших успехов, здоровья и всего наилучшего. Виктору. Коллективу Виктору и ветеранов Виктора вас с-летием Виктору дерматовенерологии и пульмонологии Виктора. На протяжении многих лет вы проводите уникальные исследования, которые связаны с профилактикой и лечением внутренних болезней, лечением пульмонологических заболеваний, разработкой уникальных медицинских технологий и оборудования, эффективных методов лечения. Убеждён, что ваши знания, опыт и тон'"
      ]
     },
     "execution_count": 52,
     "metadata": {},
     "output_type": "execute_result"
    }
   ],
   "source": [
    "generate_congrat('Виктор')"
   ]
  },
  {
   "cell_type": "code",
   "execution_count": 53,
   "id": "7e0c1d6a-9779-4100-823a-5476903acdb7",
   "metadata": {},
   "outputs": [
    {
     "name": "stderr",
     "output_type": "stream",
     "text": [
      "Setting `pad_token_id` to `eos_token_id`:50256 for open-end generation.\n"
     ]
    },
    {
     "data": {
      "text/plain": [
       "'Егору цирка» Уважаемый Егору Вас с-летием. Своим вдохновенным творчеством Вы вписали яркие страницы в историю отечественного циркового искусства, обогатили замечательные традицииэстрадной, джазовой исполнительских школ. На престижных мировых сценическихплощадках, в гастрольных поездках по стране Вам всегда сопутствует большой, настоящий успех. Такая профессиональная востребованность– заслуженная наградаза Ваш щедрый талант и безграничную преданность своему призванию. Желаю Вам здоровья, благополучия и всего самого доброго. Егору. Егора, художественному руководителю Егору», народной артистке России Уважаемая Егору поздравления с юбилейным Днём рождения. Вас по праву считают замечательной актрисой и режиссёром, одной из яркихпредставительниц отечественнойшколы иллюзиониста, одной из яркихпредставительниц отечественнойшколы иллюзиониста, одной из яркихпредставительниц отечественнойшколы иллюзиониста, одной из ярких, блистательных звёздсовременного циркового искусства. И конечно, особо отмечу Ваше многогранное служение родному театруимени Егора, воспитавшего многих замечательных артистов и режиссёров. Глубокого уважения заслуживает и Ваша активная общественная, организаторская деятельность, направленная на сохранениеохраны и популяризацию богатейшего исторического, культурного, духовногонаследия вашего выдающегося коллектива, развитие традицийэстрадной, джазовой исполнительской школы. И конечно, неоценим Ваш вклад в развитие отечественного музыкального искусства, замечательного педагога и наставника, замечательного педагога и организатора, замечательного педагога и наставника, искреннего, удивительно искреннего человека, искреннего, удивительно искреннего Егора Вам доброго здоровья, благополучия и вдохновения. Егору. Коллективу и воспитанников знаменитого Егора», участникам и гостям торжественного мероприятия, посвящённого-летию создания музеяВахтангова Дорогиедрузья!Поздравляю вас со знаменательной датой–-летием создания музеяВахтангова. Отрадно, что свой юбилей консерватория встречаетвпечатляющими успехами и достижениями. За прошедшие годы она укрепила свой творческий, общественного деятеля, многое делает для развитияотечественной культуры, сохранения и популяризации богатейшего литературного, духовного наследия вашего прославленного коллектива. И конечно, одной из жемчужин вашего огромного музея стал и остаётся его экспозиция, рассказывающая о его судьбеи'"
      ]
     },
     "execution_count": 53,
     "metadata": {},
     "output_type": "execute_result"
    }
   ],
   "source": [
    "generate_congrat('Егору')"
   ]
  },
  {
   "cell_type": "code",
   "execution_count": 54,
   "id": "af4e332c-eeb4-479d-8427-3b442ef03596",
   "metadata": {},
   "outputs": [
    {
     "name": "stderr",
     "output_type": "stream",
     "text": [
      "Setting `pad_token_id` to `eos_token_id`:50256 for open-end generation.\n"
     ]
    },
    {
     "data": {
      "text/plain": [
       "'Егору цирка» Уважаемый Егору Вас с-летием. Своим вдохновенным творчеством Вы вписали яркие страницы в историю отечественного циркового искусства, обогатили замечательные традицииэстрадной, джазовой исполнительских школ. На престижных мировых сценическихплощадках, в гастрольных поездках по стране Вам всегда сопутствует большой, настоящий успех. Такая профессиональная востребованность– заслуженная наградаза Ваш щедрый талант и безграничную преданность своему призванию. Желаю Вам здоровья, благополучия и всего самого доброго. Егору. Егора, художественному руководителю Егору», народной артистке России Уважаемая Егору поздравления с юбилейным Днём рождения. Вас по праву считают замечательной актрисой и режиссёром, одной из яркихпредставительниц отечественнойшколы иллюзиониста, одной из яркихпредставительниц отечественнойшколы иллюзиониста, одной из яркихпредставительниц отечественнойшколы иллюзиониста, одной из ярких, блистательных звёздсовременного циркового искусства. И конечно, особо отмечу Ваше многогранное служение родному театруимени Егора, воспитавшего многих замечательных артистов и режиссёров. Глубокого уважения заслуживает и Ваша активная общественная, организаторская деятельность, направленная на сохранениеохраны и популяризацию богатейшего исторического, культурного, духовногонаследия вашего выдающегося коллектива, развитие традицийэстрадной, джазовой исполнительской школы. И конечно, неоценим Ваш вклад в развитие отечественного музыкального искусства, замечательного педагога и наставника, замечательного педагога и организатора, замечательного педагога и наставника, искреннего, удивительно искреннего человека, искреннего, удивительно искреннего Егора Вам доброго здоровья, благополучия и вдохновения. Егору. Коллективу и воспитанников знаменитого Егора», участникам и гостям торжественного мероприятия, посвящённого-летию создания музеяВахтангова Дорогиедрузья!Поздравляю вас со знаменательной датой–-летием создания музеяВахтангова. Отрадно, что свой юбилей консерватория встречаетвпечатляющими успехами и достижениями. За прошедшие годы она укрепила свой творческий, общественного деятеля, многое делает для развитияотечественной культуры, сохранения и популяризации богатейшего литературного, духовного наследия вашего прославленного коллектива. И конечно, одной из жемчужин вашего огромного музея стал и остаётся его экспозиция, рассказывающая о его судьбеи'"
      ]
     },
     "execution_count": 54,
     "metadata": {},
     "output_type": "execute_result"
    }
   ],
   "source": [
    "generate_congrat('Егору')"
   ]
  },
  {
   "cell_type": "code",
   "execution_count": 55,
   "id": "104376bc-d10c-4f6a-830a-ae75ba1be4d4",
   "metadata": {},
   "outputs": [
    {
     "name": "stderr",
     "output_type": "stream",
     "text": [
      "Setting `pad_token_id` to `eos_token_id`:50256 for open-end generation.\n"
     ]
    },
    {
     "data": {
      "text/plain": [
       "'Семен Семеныча»– это яркое, неординарное творчество, которое объединяет настоящих единомышленников вокругнепреходящих гуманистических идеалов и ценностей, которые играют особую роль в истории России, служат опорой нашего общества. Важно, что вы бережно храните и продолжаете творческую, духовную связь времён, проводите конструктивный, миролюбивыйвнешнеполитический курс. Такая большая, созидательная работа заслуживает самого глубокого уважения. Желаю вам успехов и всего наилучшего. Семёну. Коллективу Семёна вас с-летием создания« Семёна. За прошедшие годы газета стала одним из ведущихпериодических изданий страны, завоевала уважение большой читательской аудиториии авторитет в отечественном медиасообществе. Её ценят за информационнуюнаполненность, глубокий подход к освещению важнейших тем и событий, за взвешенность и основательность оценок, за взвешенность и основательность оценок. Отрадно, что все эти годы ваш коллективвысоко держит планку качества работы, сохраняет приверженность таким непреходящим ценностям, какдобрососедство, доверие и взаимопонимание. И конечно, благодаря этому коллективу, его многочисленнымрузьям активно участвует в жизни страны, вносит значимый личный вклад в развитие общественной, спортивной, культурной жизни страны. Уверен, что благодаря высокому профессионализму коллектива, его энергии и опыту« Семёну» будет и впредь пользоваться большой популярностью, служить верным спутником и настоящим другом для миллионов людей в нашей стране и за еёпределами. Желаю вам успехов и всего наилучшего. Семёну. Семёну», объединяет настоящих единомышленников, как профессионализм, основательность и основано на уважении к людям, их проблемам. Рассчитываю, что ваш коллектив будет и впредь способствовать упрочению межнационального, межрелигиозного диалога, сохранению культурного многообразия, утверждению в обществе семейных ценностей, воспитании подрастающего поколения. Желаю вам успехов и всего наилучшего. Семёну. Семёну. Семён», телеведущему, заслуженному артисту России, заслуженному артисту России Семёну», заслуженному артисту России Семёну, заслуженному артисту России Семёну, заслуженному тренеру России Семёну, заслуженному тренеру России Семёну, искренней любви к своему делу, сохранениюуважения к'"
      ]
     },
     "execution_count": 55,
     "metadata": {},
     "output_type": "execute_result"
    }
   ],
   "source": [
    "generate_congrat('Семен')"
   ]
  },
  {
   "cell_type": "code",
   "execution_count": 56,
   "id": "04f3f343-8a1c-4ee7-9dbc-5e08de6b9713",
   "metadata": {},
   "outputs": [
    {
     "name": "stderr",
     "output_type": "stream",
     "text": [
      "Setting `pad_token_id` to `eos_token_id`:50256 for open-end generation.\n"
     ]
    },
    {
     "data": {
      "text/plain": [
       "'Семен Семеныча»– это яркое, неординарное творчество, которое объединяет настоящих единомышленников вокругнепреходящих гуманистических идеалов и ценностей, которые играют особую роль в истории России, служат опорой нашего общества. Важно, что вы бережно храните и продолжаете творческую, духовную связь времён, проводите конструктивный, миролюбивыйвнешнеполитический курс. Такая большая, созидательная работа заслуживает самого глубокого уважения. Желаю вам успехов и всего наилучшего. Семёну. Коллективу Семёна вас с-летием создания« Семёна. За прошедшие годы газета стала одним из ведущихпериодических изданий страны, завоевала уважение большой читательской аудиториии авторитет в отечественном медиасообществе. Её ценят за информационнуюнаполненность, глубокий подход к освещению важнейших тем и событий, за взвешенность и основательность оценок, за взвешенность и основательность оценок. Отрадно, что все эти годы ваш коллективвысоко держит планку качества работы, сохраняет приверженность таким непреходящим ценностям, какдобрососедство, доверие и взаимопонимание. И конечно, благодаря этому коллективу, его многочисленнымрузьям активно участвует в жизни страны, вносит значимый личный вклад в развитие общественной, спортивной, культурной жизни страны. Уверен, что благодаря высокому профессионализму коллектива, его энергии и опыту« Семёну» будет и впредь пользоваться большой популярностью, служить верным спутником и настоящим другом для миллионов людей в нашей стране и за еёпределами. Желаю вам успехов и всего наилучшего. Семёну. Семёну», объединяет настоящих единомышленников, как профессионализм, основательность и основано на уважении к людям, их проблемам. Рассчитываю, что ваш коллектив будет и впредь способствовать упрочению межнационального, межрелигиозного диалога, сохранению культурного многообразия, утверждению в обществе семейных ценностей, воспитании подрастающего поколения. Желаю вам успехов и всего наилучшего. Семёну. Семёну. Семён», телеведущему, заслуженному артисту России, заслуженному артисту России Семёну», заслуженному артисту России Семёну, заслуженному артисту России Семёну, заслуженному тренеру России Семёну, заслуженному тренеру России Семёну, искренней любви к своему делу, сохранениюуважения к'"
      ]
     },
     "execution_count": 56,
     "metadata": {},
     "output_type": "execute_result"
    }
   ],
   "source": [
    "generate_congrat('Семен')"
   ]
  },
  {
   "cell_type": "code",
   "execution_count": 57,
   "id": "f0b266b1-c07f-4168-9b0c-2bb2f14e4c0f",
   "metadata": {},
   "outputs": [
    {
     "name": "stderr",
     "output_type": "stream",
     "text": [
      "Setting `pad_token_id` to `eos_token_id`:50256 for open-end generation.\n"
     ]
    },
    {
     "data": {
      "text/plain": [
       "'Александре Моисеевиче Моисееве, писателю, драматургу, сценаристу Александру поздравления с-летием. Человек многогранного дарования и большой созидательной энергии, Вы по праву входите в число признанныхдраматургов, мастеров современного театрального искусства. И конечно, Александру и любят как автора целого ряда просветительских проектов, чьётворчество завоевало сердца самой широкой аудитории, в том числе молодёжи. Желаю доброго здоровья, благополучия и бодростидуха. Александру. Коллективу радиостанции« Александра» Дорогиедрузья!Поздравляю вас со знаменательной датой–-летием радиостанции« Александра. Все эти годы ваш коллектив объединяет настоящих единомышленников, профессионалов, преданных высокому искусству, стремящихся внести свой вклад в сбережение лучших традиций отечественной культуры. Вы сформировали обширный фонд просветительских, познавательных программ, завоевали признание людей самого разного возраста, слушателей в России и за рубежом. Особо отмечу ваши уникальные медиапроекты, которые открывают широкий доступ к онлайн- трансляциям концертов и спектаклей, способствуют изучению и сохранению творческого наследия выдающихся русских композиторов, воссозданию ранее утерянных музыкальных произведений и нотных записей. Такая многогранная деятельность достойна глубокого уважения. Такая многогранная работа заслуживает самого глубокого признания. Желаю вам успехов, вдохновения и всего самого доброго. Александру. Коллективу радиостанции« Александра» Дорогиедрузья!Поздравляю вас с-летием. Все эти годы радиостанция« Александр» прочно удерживает лидерские позиции в эфире, ежедневно на вашу волну настраивается целый ряд пользователей интернета и социальных сетей, вовлекает в них интересующихся историей и культурой России, формируют аудиторию, которая интересуется историей и культурой отечественной культуры. Такая многогранная работа заслуживает самого глубокого уважения. Желаю вам успехов, удачи и всего наилучшего. Александру. Коллективу радиостанции« Александра» Дорогиедрузья!Поздравляю вас с-летием создания« Александра. Все эти годы радиостанция« Александр» прочно удерживает лидерские позиции в эфире, ежедневно на вашу волну настраивается целый ряд региональных и муниципальных служб. Это особенно важно сегодня, когда необходимо оперативно обсудить самые важные события в культурной жизни Ханты- Мансийского автономного округа, обсудить итоги уходящего года, современными и перспективными социальными проектами. Увер'"
      ]
     },
     "execution_count": 57,
     "metadata": {},
     "output_type": "execute_result"
    }
   ],
   "source": [
    "generate_congrat('Александре')"
   ]
  },
  {
   "cell_type": "code",
   "execution_count": 58,
   "id": "100bb82f-2957-4c3b-9cc9-10d4eca5f0ac",
   "metadata": {},
   "outputs": [
    {
     "name": "stderr",
     "output_type": "stream",
     "text": [
      "Setting `pad_token_id` to `eos_token_id`:50256 for open-end generation.\n"
     ]
    },
    {
     "data": {
      "text/plain": [
       "'Александре Моисеевиче Моисееве, писателю, драматургу, сценаристу Александру поздравления с-летием. Человек многогранного дарования и большой созидательной энергии, Вы по праву входите в число признанныхдраматургов, мастеров современного театрального искусства. И конечно, Александру и любят как автора целого ряда просветительских проектов, чьётворчество завоевало сердца самой широкой аудитории, в том числе молодёжи. Желаю доброго здоровья, благополучия и бодростидуха. Александру. Коллективу радиостанции« Александра» Дорогиедрузья!Поздравляю вас со знаменательной датой–-летием радиостанции« Александра. Все эти годы ваш коллектив объединяет настоящих единомышленников, профессионалов, преданных высокому искусству, стремящихся внести свой вклад в сбережение лучших традиций отечественной культуры. Вы сформировали обширный фонд просветительских, познавательных программ, завоевали признание людей самого разного возраста, слушателей в России и за рубежом. Особо отмечу ваши уникальные медиапроекты, которые открывают широкий доступ к онлайн- трансляциям концертов и спектаклей, способствуют изучению и сохранению творческого наследия выдающихся русских композиторов, воссозданию ранее утерянных музыкальных произведений и нотных записей. Такая многогранная деятельность достойна глубокого уважения. Такая многогранная работа заслуживает самого глубокого признания. Желаю вам успехов, вдохновения и всего самого доброго. Александру. Коллективу радиостанции« Александра» Дорогиедрузья!Поздравляю вас с-летием. Все эти годы радиостанция« Александр» прочно удерживает лидерские позиции в эфире, ежедневно на вашу волну настраивается целый ряд пользователей интернета и социальных сетей, вовлекает в них интересующихся историей и культурой России, формируют аудиторию, которая интересуется историей и культурой отечественной культуры. Такая многогранная работа заслуживает самого глубокого уважения. Желаю вам успехов, удачи и всего наилучшего. Александру. Коллективу радиостанции« Александра» Дорогиедрузья!Поздравляю вас с-летием создания« Александра. Все эти годы радиостанция« Александр» прочно удерживает лидерские позиции в эфире, ежедневно на вашу волну настраивается целый ряд региональных и муниципальных служб. Это особенно важно сегодня, когда необходимо оперативно обсудить самые важные события в культурной жизни Ханты- Мансийского автономного округа, обсудить итоги уходящего года, современными и перспективными социальными проектами. Увер'"
      ]
     },
     "execution_count": 58,
     "metadata": {},
     "output_type": "execute_result"
    }
   ],
   "source": [
    "generate_congrat('Александре')"
   ]
  },
  {
   "cell_type": "code",
   "execution_count": 59,
   "id": "f75348eb-752d-430a-aea7-3d94e96507b2",
   "metadata": {},
   "outputs": [
    {
     "name": "stderr",
     "output_type": "stream",
     "text": [
      "Setting `pad_token_id` to `eos_token_id`:50256 for open-end generation.\n"
     ]
    },
    {
     "data": {
      "text/plain": [
       "'Завод\" Салют\" Уважаемыедрузья!Поздравляю вас с-летием создания предприятия. За прошедшие годы завод вырос в крупный научно- производственный комплекс с мощной, современной инфраструктурой, замечательными трудовыми традициями, которые передаются из поколения в поколение. Большая заслуга« Салюта»– выпуск востребованной наукоёмкой продукции, которая востребована в самых разных отраслях отечественной экономики, а также разработка уникальных образцов вооружения и военной техники. Уверен, что вы и впредь будете беречь и приумножать замечательные традиции многих поколений своих предшественников, достойно решать поставленные задачи на благо России. Желаю вам успехов и всего самого доброго.Заводу \"Салют\".Завод \"Салют\", художнику- живописцу, народному художнику РоссииЗаводу \"Салют\" самые тёплые поздравления с-летием. Многие годы Вы заняты любимым делом, много и плодотворно трудитесь, руководите знаменитой«Завода \"Салют\"», успешно воплощаете в жизнь интересные творческие проекты. Ваше творчество заслуженно пользуется высоким признанием коллег и многочисленных зрителей за рубежом. Желаю Вам здоровья, здоровья и всего самого доброго.Заводу \"Салют\".Завод \"Салют\", актёру театра и кино, народному артисту РСФСРЗаводу \"Салют\" самые тёплые поздравления с-летием. Многие годы Вы успешно работаете в кино, успешно исполняете сложнейшие роли в классических фильмах, успешно воплощаете в жизнь интересные идеи и задумки. Ваше мастерство способствовало зрительскому успеху, зрительскому успеху многих известных режиссёров и актёров. Вас знают и любят как замечательного кинорежиссёров, а моноспектакли неизменно становятся событием в культурной жизни страны. Такая многогранная и многогранная деятельность заслуживает самого глубокого уважения. Желаю Вам здоровья и всего самого доброго.Заводу \"Салют\".Завод \"Салют\", художнику- живописцу, народному артисту РСФСРЗаводу \"Салют\" мои поздравления с-летием. Благодаря таланту, мастерству и постоянному творческому поиску Вы нашли собственный неповторимый стиль. Ваши яркие и оригинальные моноспектакли по достоинству оценены и профессионалами, и зрителями, а моноспектакли по достоинству ценят и как подарок для коллег, которые давно и искренне любят Вас за душевную щедрость и обаяние. Желаю Вам доброго.Заводу \"Салют\".Заводу \"Салют\", художнику- живописцу, народному артисту'"
      ]
     },
     "execution_count": 59,
     "metadata": {},
     "output_type": "execute_result"
    }
   ],
   "source": [
    "generate_congrat('Завод \"Салют\"')"
   ]
  },
  {
   "cell_type": "code",
   "execution_count": 60,
   "id": "0c880681-ccb5-42f1-96a6-50f4dfce0cfb",
   "metadata": {},
   "outputs": [
    {
     "name": "stderr",
     "output_type": "stream",
     "text": [
      "Setting `pad_token_id` to `eos_token_id`:50256 for open-end generation.\n"
     ]
    },
    {
     "data": {
      "text/plain": [
       "'Завод\" Салют\" Уважаемыедрузья!Поздравляю вас с-летием создания предприятия. За прошедшие годы завод вырос в крупный научно- производственный комплекс с мощной, современной инфраструктурой, замечательными трудовыми традициями, которые передаются из поколения в поколение. Большая заслуга« Салюта»– выпуск востребованной наукоёмкой продукции, которая востребована в самых разных отраслях отечественной экономики, а также разработка уникальных образцов вооружения и военной техники. Уверен, что вы и впредь будете беречь и приумножать замечательные традиции многих поколений своих предшественников, достойно решать поставленные задачи на благо России. Желаю вам успехов и всего самого доброго.Заводу \"Салют\".Завод \"Салют\", художнику- живописцу, народному художнику РоссииЗаводу \"Салют\" самые тёплые поздравления с-летием. Многие годы Вы заняты любимым делом, много и плодотворно трудитесь, руководите знаменитой«Завода \"Салют\"», успешно воплощаете в жизнь интересные творческие проекты. Ваше творчество заслуженно пользуется высоким признанием коллег и многочисленных зрителей за рубежом. Желаю Вам здоровья, здоровья и всего самого доброго.Заводу \"Салют\".Завод \"Салют\", актёру театра и кино, народному артисту РСФСРЗаводу \"Салют\" самые тёплые поздравления с-летием. Многие годы Вы успешно работаете в кино, успешно исполняете сложнейшие роли в классических фильмах, успешно воплощаете в жизнь интересные идеи и задумки. Ваше мастерство способствовало зрительскому успеху, зрительскому успеху многих известных режиссёров и актёров. Вас знают и любят как замечательного кинорежиссёров, а моноспектакли неизменно становятся событием в культурной жизни страны. Такая многогранная и многогранная деятельность заслуживает самого глубокого уважения. Желаю Вам здоровья и всего самого доброго.Заводу \"Салют\".Завод \"Салют\", художнику- живописцу, народному артисту РСФСРЗаводу \"Салют\" мои поздравления с-летием. Благодаря таланту, мастерству и постоянному творческому поиску Вы нашли собственный неповторимый стиль. Ваши яркие и оригинальные моноспектакли по достоинству оценены и профессионалами, и зрителями, а моноспектакли по достоинству ценят и как подарок для коллег, которые давно и искренне любят Вас за душевную щедрость и обаяние. Желаю Вам доброго.Заводу \"Салют\".Заводу \"Салют\", художнику- живописцу, народному артисту'"
      ]
     },
     "execution_count": 60,
     "metadata": {},
     "output_type": "execute_result"
    }
   ],
   "source": [
    "generate_congrat('Завод \"Салют\"')"
   ]
  },
  {
   "cell_type": "code",
   "execution_count": 61,
   "id": "177c1962-1fd2-4cb1-8946-a2ca63075e6e",
   "metadata": {},
   "outputs": [
    {
     "name": "stderr",
     "output_type": "stream",
     "text": [
      "Setting `pad_token_id` to `eos_token_id`:50256 for open-end generation.\n"
     ]
    },
    {
     "data": {
      "text/plain": [
       "'Компания\" Звезда\"– современная, динамично развивающаяся структура, применяющая самые современные технологии, учитывающие запросы граждан, участников экономической жизни. Лучших сотрудников службы отличают высокийпрофессионализм и компетентность, ответственный подход к делу и безупречныеличные качества. Отмечу, что от вашей грамотной, слаженной работы во многомзависит обеспечение устойчивого финансового потока в казну государства и бюджеты регионов, эффективное решение востребованных социальных проблем и в целом укрепление экономической безопасности страны, улучшение делового, инвестиционного климата. Уверен, что вы и впредь будете честно трудиться, достойно решатьзадачи, стоящие передКомпания \"Звезда\" вам успехов и всего самого доброго.Компании \"Звезда\".Компания \"Звезда\", актёру театра и кино, народному артисту России Уважаемый ОлегАндреевич!Примите поздравления с-летием. Самобытный, многогранный и по- настоящему талантливый артист, за годы творческой работыКомпания \"Звезда\" замечательные, незабываемые роли в кино, реализовали своё дарование на эстраде, телевидении и радио, вписали незабываемые страницы в историю отечественной мультипликации и по праву заслужили высокое профессиональное признание и искреннюю, непреходящую любовь зрителей. ЖелаюКомпании \"Звезда\" всего самого доброго.Компании \"Звезда\". Сотрудникам и ветеранам органов прокуратуры Российской Федерации Уважаемыетоварищи!Поздравляю вас с профессиональным праздником– Днём работника прокуратуры Российской Федерации. На протяжении многих летКомпанию \"Звезда\" ключевую роль в укреплении российской государственности, в развитии общества, в защите прав и законных интересов граждан, в укреплении российской государственности и демократическихинститутов, в развитии отечественной культуры. И конечно,Компании \"Звезда\" ключевую роль в укреплении института семьи, воспитании молодёжи, в развитии отечественнойкультуры. Важно, что и сегодня прокуратура является важнейшим, ключевым звеном системы прокуратуры, является важнейшим, ключевым звеном отечественнойправоохранительной системы. И потому именно от вас, вашей компетентности, вашей компетентности, настойчивости и безупречных личных качеств, безупречного профессионализманашей страны во многом зависит обеспечение безопасности работы судебной системы, обеспечение единства правового пространства страны. И конечно, от вас, вашей компетентности, вашей личной ответственности, вашей самоотдачи, вашей профессиональной подготовки сотрудников. Неустанного внимания требуют вопросы, связанные с пресечением любых проявлений терроризма, экстремизма, транснациональной преступности, проявлений ксенофобии и экстремизма, защиты прав и'"
      ]
     },
     "execution_count": 61,
     "metadata": {},
     "output_type": "execute_result"
    }
   ],
   "source": [
    "generate_congrat('Компания \"Звезда\"')"
   ]
  },
  {
   "cell_type": "code",
   "execution_count": 62,
   "id": "3031e283-790a-4036-ba71-84a213530cda",
   "metadata": {},
   "outputs": [
    {
     "name": "stderr",
     "output_type": "stream",
     "text": [
      "Setting `pad_token_id` to `eos_token_id`:50256 for open-end generation.\n"
     ]
    },
    {
     "data": {
      "text/plain": [
       "'Компания\" Звезда\"– современная, динамично развивающаяся структура, применяющая самые современные технологии, учитывающие запросы граждан, участников экономической жизни. Лучших сотрудников службы отличают высокийпрофессионализм и компетентность, ответственный подход к делу и безупречныеличные качества. Отмечу, что от вашей грамотной, слаженной работы во многомзависит обеспечение устойчивого финансового потока в казну государства и бюджеты регионов, эффективное решение востребованных социальных проблем и в целом укрепление экономической безопасности страны, улучшение делового, инвестиционного климата. Уверен, что вы и впредь будете честно трудиться, достойно решатьзадачи, стоящие передКомпания \"Звезда\" вам успехов и всего самого доброго.Компании \"Звезда\".Компания \"Звезда\", актёру театра и кино, народному артисту России Уважаемый ОлегАндреевич!Примите поздравления с-летием. Самобытный, многогранный и по- настоящему талантливый артист, за годы творческой работыКомпания \"Звезда\" замечательные, незабываемые роли в кино, реализовали своё дарование на эстраде, телевидении и радио, вписали незабываемые страницы в историю отечественной мультипликации и по праву заслужили высокое профессиональное признание и искреннюю, непреходящую любовь зрителей. ЖелаюКомпании \"Звезда\" всего самого доброго.Компании \"Звезда\". Сотрудникам и ветеранам органов прокуратуры Российской Федерации Уважаемыетоварищи!Поздравляю вас с профессиональным праздником– Днём работника прокуратуры Российской Федерации. На протяжении многих летКомпанию \"Звезда\" ключевую роль в укреплении российской государственности, в развитии общества, в защите прав и законных интересов граждан, в укреплении российской государственности и демократическихинститутов, в развитии отечественной культуры. И конечно,Компании \"Звезда\" ключевую роль в укреплении института семьи, воспитании молодёжи, в развитии отечественнойкультуры. Важно, что и сегодня прокуратура является важнейшим, ключевым звеном системы прокуратуры, является важнейшим, ключевым звеном отечественнойправоохранительной системы. И потому именно от вас, вашей компетентности, вашей компетентности, настойчивости и безупречных личных качеств, безупречного профессионализманашей страны во многом зависит обеспечение безопасности работы судебной системы, обеспечение единства правового пространства страны. И конечно, от вас, вашей компетентности, вашей личной ответственности, вашей самоотдачи, вашей профессиональной подготовки сотрудников. Неустанного внимания требуют вопросы, связанные с пресечением любых проявлений терроризма, экстремизма, транснациональной преступности, проявлений ксенофобии и экстремизма, защиты прав и'"
      ]
     },
     "execution_count": 62,
     "metadata": {},
     "output_type": "execute_result"
    }
   ],
   "source": [
    "generate_congrat('Компания \"Звезда\"')"
   ]
  },
  {
   "cell_type": "code",
   "execution_count": 63,
   "id": "31b9da1c-db39-4e57-ad99-cf44b0935a2b",
   "metadata": {},
   "outputs": [
    {
     "name": "stderr",
     "output_type": "stream",
     "text": [
      "Setting `pad_token_id` to `eos_token_id`:50256 for open-end generation.\n"
     ]
    },
    {
     "data": {
      "text/plain": [
       "'Сообщество\"Вымпел\"союза конструкторов, инженеров, рабочих, специалистов, их ответственному отношению к своим обязанностям. Объединяя своими высокими, благородными целями ветеранов Великой Отечественной войны и боевых действий,Сообщества \"Вымпел\" правоохранительных органов,Сообщество \"Вымпел\" значимый вклад в укрепление гражданского согласия в стране, развитие конструктивного международного диалога, конструктивного взаимодействия с государственными и общественными организациями в целях решения актуальных задач развитияСообщества \"Вымпел\", укрепления единства отечественной военнойавиации и космонавтики. Желаю вам успехов и всего наилучшего.Сообществу \"Вымпел\".Сообщество \"Вымпел\", актрисе театра и кино, народной артистке России УважаемаяСообщество \"Вымпел\" поздравления с юбилейным Днём рождения. Вас, замечательную актрису, знают по глубоким, многогранным театральным работам и по ярким, запоминающимся, поистине знаковым ролям в кинематографе. Ваш щедрый талант, удивительная искренность и обаяние снискали Вам любовь зрителейстраны и уважение коллег. Вас знают и любят как замечательную актрису, замечательного, необычайно талантливую и по- настоящему талантливую актрису, воплотившую в жизнь яркие, интересные, пользующиеся неизменным вниманием публики роли. Желаю Вам здоровья, благополучия и вдохновения.Сообществу \"Вымпел\". Сотрудникам и ветеранам органов прокуратуры Российской Федерации Уважаемыетоварищи!Поздравляю вас с Днём работника прокуратуры Российской Федерации. На протяжении многих лет Вы служите благородному и важному долгу, уделяете неустанное внимание защите законных прав и интересов граждан, укреплению доверия к своей профессии. И конечно, Вас ценят как замечательную актрису, наделённую ярким, самобытным дарованием, неиссякаемой творческой энергией, искренностью и обаянием. Желаю Вам доброго здоровья, успехов и всего самого доброго.Сообществу \"Вымпел\". Сотрудникам и ветеранам органов прокуратуры Российской Федерации Уважаемыетоварищи!Поздравляю вас с профессиональным праздником– Днём работника прокуратуры. На протяжении многих летСообщество \"Вымпел\" важную, ключевую роль в укреплении правопорядка, укреплении единства правового пространства страны. И потому именно от вас, вашей компетентности, вашей личной ответственности, от вашего профессионализма, безукоризненных личных качеств, умения поддерживать постоянныйконструктивный диалог с гражданами. Неустанное внимание уделяется неустанное внимание сотрудников и ветеранов. И конечно, важно, что Вы неустанно уделяете большое внимание поддержанию межпоколения сотрудников. И'"
      ]
     },
     "execution_count": 63,
     "metadata": {},
     "output_type": "execute_result"
    }
   ],
   "source": [
    "generate_congrat('Сообщество \"Вымпел\"')"
   ]
  },
  {
   "cell_type": "code",
   "execution_count": 64,
   "id": "472a9a0f-1a96-43df-9e68-8b32eff2690e",
   "metadata": {},
   "outputs": [
    {
     "name": "stderr",
     "output_type": "stream",
     "text": [
      "Setting `pad_token_id` to `eos_token_id`:50256 for open-end generation.\n"
     ]
    },
    {
     "data": {
      "text/plain": [
       "'Сообщество\"Вымпел\"союза конструкторов, инженеров, рабочих, специалистов, их ответственному отношению к своим обязанностям. Объединяя своими высокими, благородными целями ветеранов Великой Отечественной войны и боевых действий,Сообщества \"Вымпел\" правоохранительных органов,Сообщество \"Вымпел\" значимый вклад в укрепление гражданского согласия в стране, развитие конструктивного международного диалога, конструктивного взаимодействия с государственными и общественными организациями в целях решения актуальных задач развитияСообщества \"Вымпел\", укрепления единства отечественной военнойавиации и космонавтики. Желаю вам успехов и всего наилучшего.Сообществу \"Вымпел\".Сообщество \"Вымпел\", актрисе театра и кино, народной артистке России УважаемаяСообщество \"Вымпел\" поздравления с юбилейным Днём рождения. Вас, замечательную актрису, знают по глубоким, многогранным театральным работам и по ярким, запоминающимся, поистине знаковым ролям в кинематографе. Ваш щедрый талант, удивительная искренность и обаяние снискали Вам любовь зрителейстраны и уважение коллег. Вас знают и любят как замечательную актрису, замечательного, необычайно талантливую и по- настоящему талантливую актрису, воплотившую в жизнь яркие, интересные, пользующиеся неизменным вниманием публики роли. Желаю Вам здоровья, благополучия и вдохновения.Сообществу \"Вымпел\". Сотрудникам и ветеранам органов прокуратуры Российской Федерации Уважаемыетоварищи!Поздравляю вас с Днём работника прокуратуры Российской Федерации. На протяжении многих лет Вы служите благородному и важному долгу, уделяете неустанное внимание защите законных прав и интересов граждан, укреплению доверия к своей профессии. И конечно, Вас ценят как замечательную актрису, наделённую ярким, самобытным дарованием, неиссякаемой творческой энергией, искренностью и обаянием. Желаю Вам доброго здоровья, успехов и всего самого доброго.Сообществу \"Вымпел\". Сотрудникам и ветеранам органов прокуратуры Российской Федерации Уважаемыетоварищи!Поздравляю вас с профессиональным праздником– Днём работника прокуратуры. На протяжении многих летСообщество \"Вымпел\" важную, ключевую роль в укреплении правопорядка, укреплении единства правового пространства страны. И потому именно от вас, вашей компетентности, вашей личной ответственности, от вашего профессионализма, безукоризненных личных качеств, умения поддерживать постоянныйконструктивный диалог с гражданами. Неустанное внимание уделяется неустанное внимание сотрудников и ветеранов. И конечно, важно, что Вы неустанно уделяете большое внимание поддержанию межпоколения сотрудников. И'"
      ]
     },
     "execution_count": 64,
     "metadata": {},
     "output_type": "execute_result"
    }
   ],
   "source": [
    "generate_congrat('Сообщество \"Вымпел\"')"
   ]
  },
  {
   "cell_type": "code",
   "execution_count": 65,
   "id": "473709ac-e55e-4c7c-9778-22443f96ff62",
   "metadata": {},
   "outputs": [
    {
     "name": "stderr",
     "output_type": "stream",
     "text": [
      "Setting `pad_token_id` to `eos_token_id`:50256 for open-end generation.\n"
     ]
    },
    {
     "data": {
      "text/plain": [
       "'Мудрейший утконоситель»– современная, динамично развивающаяся структура, применяющая самые современные технологии, учитывающие запросы граждан, участников экономической жизни. Лучших сотрудников службы отличают высокийпрофессионализм и компетентность, ответственный подход к делу и безупречныеличные качества. Отмечу, что от вашей грамотной, слаженной работы во многомзависит обеспечение устойчивого финансового потока в казну государства и бюджеты регионов, эффективное решение востребованных социальных проблем и в целом укрепление экономической безопасности страны, улучшение делового, инвестиционного климата. Уверен, что вы и впредь будете честно трудиться, достойно решатьзадачи, стоящие передМудрейший Утконос вам успехов и всего самого доброго.Мудрейшему Утконосу. Коллективу и ветеранамМудрейший Утконос вас со знаменательной датой–-летием созданияМудрейшего Утконоса прошедшие годы ваш коллектив вырос в одно из крупнейших и авторитетных профильныхМудрейшего Утконоса, обеспечило качественную модернизациюведомственных служб, повышение их эффективной работы, укрепление взаимодействия с государственными и общественными организациями в целях сохранения высокого уровня жизни людей. Отмечу, что вы достойнопродолжаете замечательные традиции своих предшественников, ведёте большую просветительскую работу, принимаете деятельное участие в патриотическом воспитании подрастающего поколения, меняете мир к лучшему. Рассчитываю, что вы и впредь будете беречь и развивать традиции преданного, доброго, внимательного отношения к избранному делу, подвижнического служения избранному делу. И конечно, вас по праву считают одним из лучших представителей отечественного медицинского сообщества, достойным представителем отечественной системы здравоохранения. Желаю вам успехов и всего самого доброго.Мудрейшему Утконосу. Коллективу и ветеранамМудрейшему Утконосу вас со знаменательной датой–-летием созданияМудрейшего Утконоса прошедшие годы ваш коллектив вырос в одно из крупнейших и авторитетных профильныхМудрейшего Утконоса, обеспечило качественную модернизациюведомственных служб, повышать профессионализм, добиваться серьёзных профессиональных успехов на благо области и всей России. Убеждён, что вы и впредь будете добросовестно трудиться, успешно решатьпоставленных задач, вносить весомый вклад в решение ключевых общенациональной задачи. Убеждён, что вы и впредь будете беречь и развивать традиции, заложенные предшественниками, достойно решатьзадачи, стоящие перед областью, добиваться поставленных целей. Желаю вам успехов и всего самого доброго. Увер'"
      ]
     },
     "execution_count": 65,
     "metadata": {},
     "output_type": "execute_result"
    }
   ],
   "source": [
    "generate_congrat('Мудрейший утконос')"
   ]
  },
  {
   "cell_type": "code",
   "execution_count": 66,
   "id": "417f8ffa-4b57-414a-951c-3e317c6eefc3",
   "metadata": {},
   "outputs": [
    {
     "name": "stderr",
     "output_type": "stream",
     "text": [
      "Setting `pad_token_id` to `eos_token_id`:50256 for open-end generation.\n"
     ]
    },
    {
     "data": {
      "text/plain": [
       "'Мудрейший утконоситель»– современная, динамично развивающаяся структура, применяющая самые современные технологии, учитывающие запросы граждан, участников экономической жизни. Лучших сотрудников службы отличают высокийпрофессионализм и компетентность, ответственный подход к делу и безупречныеличные качества. Отмечу, что от вашей грамотной, слаженной работы во многомзависит обеспечение устойчивого финансового потока в казну государства и бюджеты регионов, эффективное решение востребованных социальных проблем и в целом укрепление экономической безопасности страны, улучшение делового, инвестиционного климата. Уверен, что вы и впредь будете честно трудиться, достойно решатьзадачи, стоящие передМудрейший Утконос вам успехов и всего самого доброго.Мудрейшему Утконосу. Коллективу и ветеранамМудрейший Утконос вас со знаменательной датой–-летием созданияМудрейшего Утконоса прошедшие годы ваш коллектив вырос в одно из крупнейших и авторитетных профильныхМудрейшего Утконоса, обеспечило качественную модернизациюведомственных служб, повышение их эффективной работы, укрепление взаимодействия с государственными и общественными организациями в целях сохранения высокого уровня жизни людей. Отмечу, что вы достойнопродолжаете замечательные традиции своих предшественников, ведёте большую просветительскую работу, принимаете деятельное участие в патриотическом воспитании подрастающего поколения, меняете мир к лучшему. Рассчитываю, что вы и впредь будете беречь и развивать традиции преданного, доброго, внимательного отношения к избранному делу, подвижнического служения избранному делу. И конечно, вас по праву считают одним из лучших представителей отечественного медицинского сообщества, достойным представителем отечественной системы здравоохранения. Желаю вам успехов и всего самого доброго.Мудрейшему Утконосу. Коллективу и ветеранамМудрейшему Утконосу вас со знаменательной датой–-летием созданияМудрейшего Утконоса прошедшие годы ваш коллектив вырос в одно из крупнейших и авторитетных профильныхМудрейшего Утконоса, обеспечило качественную модернизациюведомственных служб, повышать профессионализм, добиваться серьёзных профессиональных успехов на благо области и всей России. Убеждён, что вы и впредь будете добросовестно трудиться, успешно решатьпоставленных задач, вносить весомый вклад в решение ключевых общенациональной задачи. Убеждён, что вы и впредь будете беречь и развивать традиции, заложенные предшественниками, достойно решатьзадачи, стоящие перед областью, добиваться поставленных целей. Желаю вам успехов и всего самого доброго. Увер'"
      ]
     },
     "execution_count": 66,
     "metadata": {},
     "output_type": "execute_result"
    }
   ],
   "source": [
    "generate_congrat('Мудрейший утконос')"
   ]
  },
  {
   "cell_type": "code",
   "execution_count": 67,
   "id": "556e5c94-0003-43ad-b31c-9eb457b34d1a",
   "metadata": {},
   "outputs": [
    {
     "name": "stderr",
     "output_type": "stream",
     "text": [
      "Setting `pad_token_id` to `eos_token_id`:50256 for open-end generation.\n"
     ]
    },
    {
     "data": {
      "text/plain": [
       "'Заморские гнилые дороги, прочные отношения между регионом и республикой, обеспечение продовольственной безопасности страны. Замечательные, востребованные временем традиции, напряжённый, самоотверженный труд многих поколений работников отрасли, в условиях Крайнего Севера, укрепления внешнеполитических позиций России, успешного развития регионов являются надежной основой для повышения качества жизни людей, повышения уровня жизни их граждан. Желаю вам успехов, благополучия и всего самого доброго.Заморским Гнилым. КоллективуЗаморским Гнилымдрузья!Поздравляю вас с-летием созданияЗаморских Гнилых прошедшие годыЗаморским Гнилым высокий авторитет и доверие у представителей отечественного бизнеса и зарубежных деловых кругов, в том числе в США и государствах Евросоюза. В числе неоспоримых заслугЗаморских Гнилых– значимый вклад в укрепление дружественных связей между бизнес- структурами, в продвижение взаимовыгодных интеграционных процессов на евразийском пространстве. И конечно, важно, что его сотрудники не останавливаются на достигнутом, много и плодотворно трудятся в интересах родной республики и её граждан. Сегодня перед коллективомЗаморским Гнилым задачи по повышению конкурентоспособности и эффективноститранспортной отрасли, созданию в России международного аэропорта, развитию европейской системы перевозок. Реализация этого масштабного, важного проекта послужила ярким примером эффективной и результативной работы российской дипломатии. Желаю вам успехов, здоровья и всего самого доброго.Заморским Гнилым. КоллективуЗаморским Гнилымдрузья!Поздравляю вас с-летием созданияЗаморских Гнилых прошедшие годыЗаморским Гнилым высокий авторитет и доверие у представителей отечественного бизнеса и зарубежных деловых кругов, в том числе в США и государствах Евросоюза. Рассчитываю, что деятельностьЗаморские Гнилые, его сотрудников, способствующая экономическому и социальному развитию наших регионов. Рассчитываю, что деятельностьЗаморские Гнилые и впредь способствовать налаживанию надёжного, бесперебойной транспортировки энергоресурсов из России в Европу. Желаю вам успехов, благополучия и всего самого доброго.Заморским Гнилым. КоллективуЗаморским Гнилым» Уважаемыедрузья!Поздравляю вас с-летием созданияЗаморских Гнилых. За прошедшие годыЗаморских Гнилые высокий авторитет и доверие у представителей деловых кругов, в том числе в США и государствах Евросоюза. Рассчитываю, что деятельностьЗаморские Гнилые и впредь способствовать развитию дружественных связей между народами России и Латвии, продвижению взаимовыгодных интеграционных процессов на евразийском пространстве. Рассчитываю, что деятельностьЗаморские Гнилые'"
      ]
     },
     "execution_count": 67,
     "metadata": {},
     "output_type": "execute_result"
    }
   ],
   "source": [
    "generate_congrat('Заморские гнилые')"
   ]
  },
  {
   "cell_type": "code",
   "execution_count": 68,
   "id": "e8450845-f3af-4cd4-bb38-3dd4606935ac",
   "metadata": {},
   "outputs": [
    {
     "name": "stderr",
     "output_type": "stream",
     "text": [
      "Setting `pad_token_id` to `eos_token_id`:50256 for open-end generation.\n"
     ]
    },
    {
     "data": {
      "text/plain": [
       "'Заморские гнилые дороги, прочные отношения между регионом и республикой, обеспечение продовольственной безопасности страны. Замечательные, востребованные временем традиции, напряжённый, самоотверженный труд многих поколений работников отрасли, в условиях Крайнего Севера, укрепления внешнеполитических позиций России, успешного развития регионов являются надежной основой для повышения качества жизни людей, повышения уровня жизни их граждан. Желаю вам успехов, благополучия и всего самого доброго.Заморским Гнилым. КоллективуЗаморским Гнилымдрузья!Поздравляю вас с-летием созданияЗаморских Гнилых прошедшие годыЗаморским Гнилым высокий авторитет и доверие у представителей отечественного бизнеса и зарубежных деловых кругов, в том числе в США и государствах Евросоюза. В числе неоспоримых заслугЗаморских Гнилых– значимый вклад в укрепление дружественных связей между бизнес- структурами, в продвижение взаимовыгодных интеграционных процессов на евразийском пространстве. И конечно, важно, что его сотрудники не останавливаются на достигнутом, много и плодотворно трудятся в интересах родной республики и её граждан. Сегодня перед коллективомЗаморским Гнилым задачи по повышению конкурентоспособности и эффективноститранспортной отрасли, созданию в России международного аэропорта, развитию европейской системы перевозок. Реализация этого масштабного, важного проекта послужила ярким примером эффективной и результативной работы российской дипломатии. Желаю вам успехов, здоровья и всего самого доброго.Заморским Гнилым. КоллективуЗаморским Гнилымдрузья!Поздравляю вас с-летием созданияЗаморских Гнилых прошедшие годыЗаморским Гнилым высокий авторитет и доверие у представителей отечественного бизнеса и зарубежных деловых кругов, в том числе в США и государствах Евросоюза. Рассчитываю, что деятельностьЗаморские Гнилые, его сотрудников, способствующая экономическому и социальному развитию наших регионов. Рассчитываю, что деятельностьЗаморские Гнилые и впредь способствовать налаживанию надёжного, бесперебойной транспортировки энергоресурсов из России в Европу. Желаю вам успехов, благополучия и всего самого доброго.Заморским Гнилым. КоллективуЗаморским Гнилым» Уважаемыедрузья!Поздравляю вас с-летием созданияЗаморских Гнилых. За прошедшие годыЗаморских Гнилые высокий авторитет и доверие у представителей деловых кругов, в том числе в США и государствах Евросоюза. Рассчитываю, что деятельностьЗаморские Гнилые и впредь способствовать развитию дружественных связей между народами России и Латвии, продвижению взаимовыгодных интеграционных процессов на евразийском пространстве. Рассчитываю, что деятельностьЗаморские Гнилые'"
      ]
     },
     "execution_count": 68,
     "metadata": {},
     "output_type": "execute_result"
    }
   ],
   "source": [
    "generate_congrat('Заморские гнилые')"
   ]
  },
  {
   "cell_type": "code",
   "execution_count": null,
   "id": "a38d56f0-53e5-4373-bb27-25e63e52d243",
   "metadata": {},
   "outputs": [],
   "source": []
  },
  {
   "cell_type": "code",
   "execution_count": null,
   "id": "da6055db-d695-4c00-9372-9e6dcfcb40f5",
   "metadata": {},
   "outputs": [],
   "source": []
  },
  {
   "cell_type": "code",
   "execution_count": null,
   "id": "7efa6874-86c8-4373-9a41-1ceb69d61411",
   "metadata": {},
   "outputs": [],
   "source": []
  },
  {
   "cell_type": "code",
   "execution_count": null,
   "id": "fdba5a52-db71-4914-b942-be5c8c8a5674",
   "metadata": {},
   "outputs": [],
   "source": [
    "a = torch.zeros(4, 4)"
   ]
  },
  {
   "cell_type": "code",
   "execution_count": null,
   "id": "bd4ff179-13fc-4911-a3d8-09663052870e",
   "metadata": {},
   "outputs": [],
   "source": [
    "a = a + 1.1"
   ]
  },
  {
   "cell_type": "code",
   "execution_count": null,
   "id": "eca339d5-7bbe-4de3-9e98-26c7638dc1bf",
   "metadata": {},
   "outputs": [],
   "source": [
    "b = a.cuda()"
   ]
  },
  {
   "cell_type": "code",
   "execution_count": null,
   "id": "37e18aff-f0b2-48f9-9bb1-80933ad3c28b",
   "metadata": {},
   "outputs": [],
   "source": [
    "b**2"
   ]
  },
  {
   "cell_type": "code",
   "execution_count": null,
   "id": "8e19b3de-a29f-4ddb-9986-b958c01005b7",
   "metadata": {},
   "outputs": [],
   "source": []
  }
 ],
 "metadata": {
  "kernelspec": {
   "display_name": "Python 3",
   "language": "python",
   "name": "python3"
  },
  "language_info": {
   "codemirror_mode": {
    "name": "ipython",
    "version": 3
   },
   "file_extension": ".py",
   "mimetype": "text/x-python",
   "name": "python",
   "nbconvert_exporter": "python",
   "pygments_lexer": "ipython3",
   "version": "3.8.8"
  }
 },
 "nbformat": 4,
 "nbformat_minor": 5
}
