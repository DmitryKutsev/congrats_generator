{
 "cells": [
  {
   "cell_type": "markdown",
   "metadata": {
    "id": "MeNPO4kQhEh5"
   },
   "source": [
    "https://colab.research.google.com/github/sberbank-ai/ru-gpts/blob/master/examples/Finetune_RuGPTs_with_HF.ipynb#scrollTo=aZ-4Kav28cH0\n",
    "\n",
    "\n"
   ]
  },
  {
   "cell_type": "markdown",
   "metadata": {
    "id": "JPATuJNXNibP"
   },
   "source": [
    "# **IMPORT**"
   ]
  },
  {
   "cell_type": "code",
   "execution_count": 1,
   "metadata": {},
   "outputs": [
    {
     "name": "stdout",
     "output_type": "stream",
     "text": [
      "Hit:1 http://archive.ubuntu.com/ubuntu bionic InRelease\n",
      "Get:2 http://security.ubuntu.com/ubuntu bionic-security InRelease [88.7 kB]\n",
      "Get:3 http://archive.ubuntu.com/ubuntu bionic-updates InRelease [88.7 kB]      \n",
      "Get:4 http://archive.ubuntu.com/ubuntu bionic-backports InRelease [74.6 kB]    \n",
      "Get:5 http://security.ubuntu.com/ubuntu bionic-security/main amd64 Packages [2461 kB]\n",
      "Get:6 http://archive.ubuntu.com/ubuntu bionic-updates/main amd64 Packages [2898 kB]\n",
      "Get:7 http://security.ubuntu.com/ubuntu bionic-security/universe amd64 Packages [1452 kB]\n",
      "Get:8 http://archive.ubuntu.com/ubuntu bionic-updates/universe amd64 Packages [2230 kB]\n",
      "Fetched 9293 kB in 2s (4440 kB/s)                     \n",
      "Reading package lists... Done\n"
     ]
    }
   ],
   "source": [
    "!apt-get update"
   ]
  },
  {
   "cell_type": "code",
   "execution_count": 2,
   "metadata": {},
   "outputs": [
    {
     "name": "stdout",
     "output_type": "stream",
     "text": [
      "Reading package lists... Done\n",
      "Building dependency tree       \n",
      "Reading state information... Done\n",
      "The following additional packages will be installed:\n",
      "  libpsl5 publicsuffix\n",
      "The following NEW packages will be installed:\n",
      "  libpsl5 publicsuffix wget\n",
      "0 upgraded, 3 newly installed, 0 to remove and 4 not upgraded.\n",
      "Need to get 455 kB of archives.\n",
      "After this operation, 1320 kB of additional disk space will be used.\n",
      "Get:1 http://archive.ubuntu.com/ubuntu bionic/main amd64 libpsl5 amd64 0.19.1-5build1 [41.8 kB]\n",
      "Get:2 http://archive.ubuntu.com/ubuntu bionic/main amd64 publicsuffix all 20180223.1310-1 [97.6 kB]\n",
      "Get:3 http://archive.ubuntu.com/ubuntu bionic-updates/main amd64 wget amd64 1.19.4-1ubuntu2.2 [316 kB]\n",
      "Fetched 455 kB in 1s (564 kB/s)\n",
      "debconf: delaying package configuration, since apt-utils is not installed\n",
      "Selecting previously unselected package libpsl5:amd64.\n",
      "(Reading database ... 6779 files and directories currently installed.)\n",
      "Preparing to unpack .../libpsl5_0.19.1-5build1_amd64.deb ...\n",
      "Unpacking libpsl5:amd64 (0.19.1-5build1) ...\n",
      "Selecting previously unselected package publicsuffix.\n",
      "Preparing to unpack .../publicsuffix_20180223.1310-1_all.deb ...\n",
      "Unpacking publicsuffix (20180223.1310-1) ...\n",
      "Selecting previously unselected package wget.\n",
      "Preparing to unpack .../wget_1.19.4-1ubuntu2.2_amd64.deb ...\n",
      "Unpacking wget (1.19.4-1ubuntu2.2) ...\n",
      "Setting up libpsl5:amd64 (0.19.1-5build1) ...\n",
      "Setting up publicsuffix (20180223.1310-1) ...\n",
      "Setting up wget (1.19.4-1ubuntu2.2) ...\n",
      "Processing triggers for libc-bin (2.27-3ubuntu1.4) ...\n"
     ]
    }
   ],
   "source": [
    "!apt-get -y install wget"
   ]
  },
  {
   "cell_type": "code",
   "execution_count": 3,
   "metadata": {},
   "outputs": [
    {
     "name": "stdout",
     "output_type": "stream",
     "text": [
      "Reading package lists... Done\n",
      "Building dependency tree       \n",
      "Reading state information... Done\n",
      "The following additional packages will be installed:\n",
      "  git-man libasn1-8-heimdal libcurl3-gnutls liberror-perl libexpat1\n",
      "  libgdbm-compat4 libgdbm5 libgssapi3-heimdal libhcrypto4-heimdal\n",
      "  libheimbase1-heimdal libheimntlm0-heimdal libhx509-5-heimdal\n",
      "  libkrb5-26-heimdal libldap-2.4-2 libldap-common libnghttp2-14 libperl5.26\n",
      "  libroken18-heimdal librtmp1 libsasl2-2 libsasl2-modules libsasl2-modules-db\n",
      "  libsqlite3-0 libwind0-heimdal netbase patch perl perl-modules-5.26\n",
      "Suggested packages:\n",
      "  gettext-base git-daemon-run | git-daemon-sysvinit git-doc git-el git-email\n",
      "  git-gui gitk gitweb git-cvs git-mediawiki git-svn gdbm-l10n\n",
      "  libsasl2-modules-gssapi-mit | libsasl2-modules-gssapi-heimdal\n",
      "  libsasl2-modules-ldap libsasl2-modules-otp libsasl2-modules-sql ed\n",
      "  diffutils-doc perl-doc libterm-readline-gnu-perl\n",
      "  | libterm-readline-perl-perl make\n",
      "The following NEW packages will be installed:\n",
      "  git git-man libasn1-8-heimdal libcurl3-gnutls liberror-perl libexpat1\n",
      "  libgdbm-compat4 libgdbm5 libgssapi3-heimdal libhcrypto4-heimdal\n",
      "  libheimbase1-heimdal libheimntlm0-heimdal libhx509-5-heimdal\n",
      "  libkrb5-26-heimdal libldap-2.4-2 libldap-common libnghttp2-14 libperl5.26\n",
      "  libroken18-heimdal librtmp1 libsasl2-2 libsasl2-modules libsasl2-modules-db\n",
      "  libsqlite3-0 libwind0-heimdal netbase patch perl perl-modules-5.26\n",
      "0 upgraded, 29 newly installed, 0 to remove and 4 not upgraded.\n",
      "Need to get 13.4 MB of archives.\n",
      "After this operation, 82.5 MB of additional disk space will be used.\n",
      "Get:1 http://archive.ubuntu.com/ubuntu bionic-updates/main amd64 perl-modules-5.26 all 5.26.1-6ubuntu0.5 [2762 kB]\n",
      "Get:2 http://archive.ubuntu.com/ubuntu bionic/main amd64 libgdbm5 amd64 1.14.1-6 [26.0 kB]\n",
      "Get:3 http://archive.ubuntu.com/ubuntu bionic/main amd64 libgdbm-compat4 amd64 1.14.1-6 [6084 B]\n",
      "Get:4 http://archive.ubuntu.com/ubuntu bionic-updates/main amd64 libperl5.26 amd64 5.26.1-6ubuntu0.5 [3534 kB]\n",
      "Get:5 http://archive.ubuntu.com/ubuntu bionic-updates/main amd64 perl amd64 5.26.1-6ubuntu0.5 [201 kB]\n",
      "Get:6 http://archive.ubuntu.com/ubuntu bionic-updates/main amd64 libexpat1 amd64 2.2.5-3ubuntu0.2 [80.5 kB]\n",
      "Get:7 http://archive.ubuntu.com/ubuntu bionic-updates/main amd64 libsqlite3-0 amd64 3.22.0-1ubuntu0.4 [499 kB]\n",
      "Get:8 http://archive.ubuntu.com/ubuntu bionic/main amd64 netbase all 5.4 [12.7 kB]\n",
      "Get:9 http://archive.ubuntu.com/ubuntu bionic/main amd64 libroken18-heimdal amd64 7.5.0+dfsg-1 [41.3 kB]\n",
      "Get:10 http://archive.ubuntu.com/ubuntu bionic/main amd64 libasn1-8-heimdal amd64 7.5.0+dfsg-1 [175 kB]\n",
      "Get:11 http://archive.ubuntu.com/ubuntu bionic/main amd64 libheimbase1-heimdal amd64 7.5.0+dfsg-1 [29.3 kB]\n",
      "Get:12 http://archive.ubuntu.com/ubuntu bionic/main amd64 libhcrypto4-heimdal amd64 7.5.0+dfsg-1 [85.9 kB]\n",
      "Get:13 http://archive.ubuntu.com/ubuntu bionic/main amd64 libwind0-heimdal amd64 7.5.0+dfsg-1 [47.8 kB]\n",
      "Get:14 http://archive.ubuntu.com/ubuntu bionic/main amd64 libhx509-5-heimdal amd64 7.5.0+dfsg-1 [107 kB]\n",
      "Get:15 http://archive.ubuntu.com/ubuntu bionic/main amd64 libkrb5-26-heimdal amd64 7.5.0+dfsg-1 [206 kB]\n",
      "Get:16 http://archive.ubuntu.com/ubuntu bionic/main amd64 libheimntlm0-heimdal amd64 7.5.0+dfsg-1 [14.8 kB]\n",
      "Get:17 http://archive.ubuntu.com/ubuntu bionic/main amd64 libgssapi3-heimdal amd64 7.5.0+dfsg-1 [96.5 kB]\n",
      "Get:18 http://archive.ubuntu.com/ubuntu bionic-updates/main amd64 libsasl2-modules-db amd64 2.1.27~101-g0780600+dfsg-3ubuntu2.3 [15.0 kB]\n",
      "Get:19 http://archive.ubuntu.com/ubuntu bionic-updates/main amd64 libsasl2-2 amd64 2.1.27~101-g0780600+dfsg-3ubuntu2.3 [49.2 kB]\n",
      "Get:20 http://archive.ubuntu.com/ubuntu bionic-updates/main amd64 libldap-common all 2.4.45+dfsg-1ubuntu1.10 [15.8 kB]\n",
      "Get:21 http://archive.ubuntu.com/ubuntu bionic-updates/main amd64 libldap-2.4-2 amd64 2.4.45+dfsg-1ubuntu1.10 [154 kB]\n",
      "Get:22 http://archive.ubuntu.com/ubuntu bionic/main amd64 libnghttp2-14 amd64 1.30.0-1ubuntu1 [77.8 kB]\n",
      "Get:23 http://archive.ubuntu.com/ubuntu bionic/main amd64 librtmp1 amd64 2.4+20151223.gitfa8646d.1-1 [54.2 kB]\n",
      "Get:24 http://archive.ubuntu.com/ubuntu bionic-updates/main amd64 libcurl3-gnutls amd64 7.58.0-2ubuntu3.16 [218 kB]\n",
      "Get:25 http://archive.ubuntu.com/ubuntu bionic/main amd64 liberror-perl all 0.17025-1 [22.8 kB]\n",
      "Get:26 http://archive.ubuntu.com/ubuntu bionic-updates/main amd64 git-man all 1:2.17.1-1ubuntu0.9 [803 kB]\n",
      "Get:27 http://archive.ubuntu.com/ubuntu bionic-updates/main amd64 git amd64 1:2.17.1-1ubuntu0.9 [3923 kB]\n",
      "Get:28 http://archive.ubuntu.com/ubuntu bionic-updates/main amd64 libsasl2-modules amd64 2.1.27~101-g0780600+dfsg-3ubuntu2.3 [48.9 kB]\n",
      "Get:29 http://archive.ubuntu.com/ubuntu bionic-updates/main amd64 patch amd64 2.7.6-2ubuntu1.1 [102 kB]\n",
      "Fetched 13.4 MB in 2s (7307 kB/s)\n",
      "debconf: delaying package configuration, since apt-utils is not installed\n",
      "Selecting previously unselected package perl-modules-5.26.\n",
      "(Reading database ... 6805 files and directories currently installed.)\n",
      "Preparing to unpack .../00-perl-modules-5.26_5.26.1-6ubuntu0.5_all.deb ...\n",
      "Unpacking perl-modules-5.26 (5.26.1-6ubuntu0.5) ...\n",
      "Selecting previously unselected package libgdbm5:amd64.\n",
      "Preparing to unpack .../01-libgdbm5_1.14.1-6_amd64.deb ...\n",
      "Unpacking libgdbm5:amd64 (1.14.1-6) ...\n",
      "Selecting previously unselected package libgdbm-compat4:amd64.\n",
      "Preparing to unpack .../02-libgdbm-compat4_1.14.1-6_amd64.deb ...\n",
      "Unpacking libgdbm-compat4:amd64 (1.14.1-6) ...\n",
      "Selecting previously unselected package libperl5.26:amd64.\n",
      "Preparing to unpack .../03-libperl5.26_5.26.1-6ubuntu0.5_amd64.deb ...\n",
      "Unpacking libperl5.26:amd64 (5.26.1-6ubuntu0.5) ...\n",
      "Selecting previously unselected package perl.\n",
      "Preparing to unpack .../04-perl_5.26.1-6ubuntu0.5_amd64.deb ...\n",
      "Unpacking perl (5.26.1-6ubuntu0.5) ...\n",
      "Selecting previously unselected package libexpat1:amd64.\n",
      "Preparing to unpack .../05-libexpat1_2.2.5-3ubuntu0.2_amd64.deb ...\n",
      "Unpacking libexpat1:amd64 (2.2.5-3ubuntu0.2) ...\n",
      "Selecting previously unselected package libsqlite3-0:amd64.\n",
      "Preparing to unpack .../06-libsqlite3-0_3.22.0-1ubuntu0.4_amd64.deb ...\n",
      "Unpacking libsqlite3-0:amd64 (3.22.0-1ubuntu0.4) ...\n",
      "Selecting previously unselected package netbase.\n",
      "Preparing to unpack .../07-netbase_5.4_all.deb ...\n",
      "Unpacking netbase (5.4) ...\n",
      "Selecting previously unselected package libroken18-heimdal:amd64.\n",
      "Preparing to unpack .../08-libroken18-heimdal_7.5.0+dfsg-1_amd64.deb ...\n",
      "Unpacking libroken18-heimdal:amd64 (7.5.0+dfsg-1) ...\n",
      "Selecting previously unselected package libasn1-8-heimdal:amd64.\n",
      "Preparing to unpack .../09-libasn1-8-heimdal_7.5.0+dfsg-1_amd64.deb ...\n",
      "Unpacking libasn1-8-heimdal:amd64 (7.5.0+dfsg-1) ...\n",
      "Selecting previously unselected package libheimbase1-heimdal:amd64.\n",
      "Preparing to unpack .../10-libheimbase1-heimdal_7.5.0+dfsg-1_amd64.deb ...\n",
      "Unpacking libheimbase1-heimdal:amd64 (7.5.0+dfsg-1) ...\n",
      "Selecting previously unselected package libhcrypto4-heimdal:amd64.\n",
      "Preparing to unpack .../11-libhcrypto4-heimdal_7.5.0+dfsg-1_amd64.deb ...\n",
      "Unpacking libhcrypto4-heimdal:amd64 (7.5.0+dfsg-1) ...\n",
      "Selecting previously unselected package libwind0-heimdal:amd64.\n",
      "Preparing to unpack .../12-libwind0-heimdal_7.5.0+dfsg-1_amd64.deb ...\n",
      "Unpacking libwind0-heimdal:amd64 (7.5.0+dfsg-1) ...\n",
      "Selecting previously unselected package libhx509-5-heimdal:amd64.\n",
      "Preparing to unpack .../13-libhx509-5-heimdal_7.5.0+dfsg-1_amd64.deb ...\n",
      "Unpacking libhx509-5-heimdal:amd64 (7.5.0+dfsg-1) ...\n",
      "Selecting previously unselected package libkrb5-26-heimdal:amd64.\n",
      "Preparing to unpack .../14-libkrb5-26-heimdal_7.5.0+dfsg-1_amd64.deb ...\n",
      "Unpacking libkrb5-26-heimdal:amd64 (7.5.0+dfsg-1) ...\n",
      "Selecting previously unselected package libheimntlm0-heimdal:amd64.\n",
      "Preparing to unpack .../15-libheimntlm0-heimdal_7.5.0+dfsg-1_amd64.deb ...\n",
      "Unpacking libheimntlm0-heimdal:amd64 (7.5.0+dfsg-1) ...\n",
      "Selecting previously unselected package libgssapi3-heimdal:amd64.\n",
      "Preparing to unpack .../16-libgssapi3-heimdal_7.5.0+dfsg-1_amd64.deb ...\n",
      "Unpacking libgssapi3-heimdal:amd64 (7.5.0+dfsg-1) ...\n",
      "Selecting previously unselected package libsasl2-modules-db:amd64.\n",
      "Preparing to unpack .../17-libsasl2-modules-db_2.1.27~101-g0780600+dfsg-3ubuntu2.3_amd64.deb ...\n",
      "Unpacking libsasl2-modules-db:amd64 (2.1.27~101-g0780600+dfsg-3ubuntu2.3) ...\n",
      "Selecting previously unselected package libsasl2-2:amd64.\n",
      "Preparing to unpack .../18-libsasl2-2_2.1.27~101-g0780600+dfsg-3ubuntu2.3_amd64.deb ...\n",
      "Unpacking libsasl2-2:amd64 (2.1.27~101-g0780600+dfsg-3ubuntu2.3) ...\n",
      "Selecting previously unselected package libldap-common.\n",
      "Preparing to unpack .../19-libldap-common_2.4.45+dfsg-1ubuntu1.10_all.deb ...\n",
      "Unpacking libldap-common (2.4.45+dfsg-1ubuntu1.10) ...\n",
      "Selecting previously unselected package libldap-2.4-2:amd64.\n",
      "Preparing to unpack .../20-libldap-2.4-2_2.4.45+dfsg-1ubuntu1.10_amd64.deb ...\n",
      "Unpacking libldap-2.4-2:amd64 (2.4.45+dfsg-1ubuntu1.10) ...\n",
      "Selecting previously unselected package libnghttp2-14:amd64.\n",
      "Preparing to unpack .../21-libnghttp2-14_1.30.0-1ubuntu1_amd64.deb ...\n",
      "Unpacking libnghttp2-14:amd64 (1.30.0-1ubuntu1) ...\n",
      "Selecting previously unselected package librtmp1:amd64.\n",
      "Preparing to unpack .../22-librtmp1_2.4+20151223.gitfa8646d.1-1_amd64.deb ...\n",
      "Unpacking librtmp1:amd64 (2.4+20151223.gitfa8646d.1-1) ...\n",
      "Selecting previously unselected package libcurl3-gnutls:amd64.\n",
      "Preparing to unpack .../23-libcurl3-gnutls_7.58.0-2ubuntu3.16_amd64.deb ...\n",
      "Unpacking libcurl3-gnutls:amd64 (7.58.0-2ubuntu3.16) ...\n",
      "Selecting previously unselected package liberror-perl.\n",
      "Preparing to unpack .../24-liberror-perl_0.17025-1_all.deb ...\n",
      "Unpacking liberror-perl (0.17025-1) ...\n",
      "Selecting previously unselected package git-man.\n",
      "Preparing to unpack .../25-git-man_1%3a2.17.1-1ubuntu0.9_all.deb ...\n",
      "Unpacking git-man (1:2.17.1-1ubuntu0.9) ...\n",
      "Selecting previously unselected package git.\n",
      "Preparing to unpack .../26-git_1%3a2.17.1-1ubuntu0.9_amd64.deb ...\n",
      "Unpacking git (1:2.17.1-1ubuntu0.9) ...\n",
      "Selecting previously unselected package libsasl2-modules:amd64.\n",
      "Preparing to unpack .../27-libsasl2-modules_2.1.27~101-g0780600+dfsg-3ubuntu2.3_amd64.deb ...\n",
      "Unpacking libsasl2-modules:amd64 (2.1.27~101-g0780600+dfsg-3ubuntu2.3) ...\n",
      "Selecting previously unselected package patch.\n",
      "Preparing to unpack .../28-patch_2.7.6-2ubuntu1.1_amd64.deb ...\n",
      "Unpacking patch (2.7.6-2ubuntu1.1) ...\n",
      "Setting up git-man (1:2.17.1-1ubuntu0.9) ...\n",
      "Setting up libexpat1:amd64 (2.2.5-3ubuntu0.2) ...\n",
      "Setting up libnghttp2-14:amd64 (1.30.0-1ubuntu1) ...\n",
      "Setting up libldap-common (2.4.45+dfsg-1ubuntu1.10) ...\n",
      "Setting up libsasl2-modules-db:amd64 (2.1.27~101-g0780600+dfsg-3ubuntu2.3) ...\n",
      "Setting up libsasl2-2:amd64 (2.1.27~101-g0780600+dfsg-3ubuntu2.3) ...\n",
      "Setting up libroken18-heimdal:amd64 (7.5.0+dfsg-1) ...\n",
      "Setting up librtmp1:amd64 (2.4+20151223.gitfa8646d.1-1) ...\n",
      "Setting up perl-modules-5.26 (5.26.1-6ubuntu0.5) ...\n",
      "Setting up libgdbm5:amd64 (1.14.1-6) ...\n",
      "Setting up patch (2.7.6-2ubuntu1.1) ...\n",
      "Setting up libheimbase1-heimdal:amd64 (7.5.0+dfsg-1) ...\n",
      "Setting up libsqlite3-0:amd64 (3.22.0-1ubuntu0.4) ...\n",
      "Setting up libgdbm-compat4:amd64 (1.14.1-6) ...\n",
      "Setting up libsasl2-modules:amd64 (2.1.27~101-g0780600+dfsg-3ubuntu2.3) ...\n",
      "Setting up netbase (5.4) ...\n",
      "Setting up libwind0-heimdal:amd64 (7.5.0+dfsg-1) ...\n",
      "Setting up libasn1-8-heimdal:amd64 (7.5.0+dfsg-1) ...\n",
      "Setting up libhcrypto4-heimdal:amd64 (7.5.0+dfsg-1) ...\n",
      "Setting up libhx509-5-heimdal:amd64 (7.5.0+dfsg-1) ...\n",
      "Setting up libperl5.26:amd64 (5.26.1-6ubuntu0.5) ...\n",
      "Setting up libkrb5-26-heimdal:amd64 (7.5.0+dfsg-1) ...\n",
      "Setting up libheimntlm0-heimdal:amd64 (7.5.0+dfsg-1) ...\n",
      "Setting up perl (5.26.1-6ubuntu0.5) ...\n",
      "Setting up libgssapi3-heimdal:amd64 (7.5.0+dfsg-1) ...\n",
      "Setting up liberror-perl (0.17025-1) ...\n",
      "Setting up libldap-2.4-2:amd64 (2.4.45+dfsg-1ubuntu1.10) ...\n",
      "Setting up libcurl3-gnutls:amd64 (7.58.0-2ubuntu3.16) ...\n",
      "Setting up git (1:2.17.1-1ubuntu0.9) ...\n",
      "Processing triggers for libc-bin (2.27-3ubuntu1.4) ...\n"
     ]
    }
   ],
   "source": [
    "!apt-get -y install git"
   ]
  },
  {
   "cell_type": "code",
   "execution_count": 4,
   "metadata": {},
   "outputs": [
    {
     "name": "stdout",
     "output_type": "stream",
     "text": [
      "Collecting pandas\n",
      "  Downloading pandas-1.3.5-cp37-cp37m-manylinux_2_17_x86_64.manylinux2014_x86_64.whl (11.3 MB)\n",
      "\u001b[K     |████████████████████████████████| 11.3 MB 2.9 MB/s eta 0:00:01\n",
      "\u001b[?25hRequirement already satisfied: python-dateutil>=2.7.3 in /opt/conda/lib/python3.7/site-packages (from pandas) (2.8.2)\n",
      "Requirement already satisfied: numpy>=1.17.3 in /opt/conda/lib/python3.7/site-packages (from pandas) (1.21.2)\n",
      "Requirement already satisfied: pytz>=2017.3 in /opt/conda/lib/python3.7/site-packages (from pandas) (2021.3)\n",
      "Requirement already satisfied: six>=1.5 in /opt/conda/lib/python3.7/site-packages (from python-dateutil>=2.7.3->pandas) (1.16.0)\n",
      "Installing collected packages: pandas\n",
      "Successfully installed pandas-1.3.5\n"
     ]
    }
   ],
   "source": [
    "!pip install pandas"
   ]
  },
  {
   "cell_type": "code",
   "execution_count": 5,
   "metadata": {},
   "outputs": [
    {
     "name": "stdout",
     "output_type": "stream",
     "text": [
      "Collecting sklearn\n",
      "  Downloading sklearn-0.0.tar.gz (1.1 kB)\n",
      "Collecting scikit-learn\n",
      "  Downloading scikit_learn-1.0.1-cp37-cp37m-manylinux_2_12_x86_64.manylinux2010_x86_64.whl (23.2 MB)\n",
      "\u001b[K     |████████████████████████████████| 23.2 MB 3.4 MB/s eta 0:00:01\n",
      "\u001b[?25hCollecting threadpoolctl>=2.0.0\n",
      "  Downloading threadpoolctl-3.0.0-py3-none-any.whl (14 kB)\n",
      "Collecting joblib>=0.11\n",
      "  Downloading joblib-1.1.0-py2.py3-none-any.whl (306 kB)\n",
      "\u001b[K     |████████████████████████████████| 306 kB 30.7 MB/s eta 0:00:01\n",
      "\u001b[?25hCollecting scipy>=1.1.0\n",
      "  Downloading scipy-1.7.3-cp37-cp37m-manylinux_2_12_x86_64.manylinux2010_x86_64.whl (38.1 MB)\n",
      "\u001b[K     |████████████████████████████████| 38.1 MB 26.8 MB/s eta 0:00:01\n",
      "\u001b[?25hRequirement already satisfied: numpy>=1.14.6 in /opt/conda/lib/python3.7/site-packages (from scikit-learn->sklearn) (1.21.2)\n",
      "Building wheels for collected packages: sklearn\n",
      "  Building wheel for sklearn (setup.py) ... \u001b[?25ldone\n",
      "\u001b[?25h  Created wheel for sklearn: filename=sklearn-0.0-py2.py3-none-any.whl size=1309 sha256=0d6e027c6f345425465a6715a89825886a5eeff849a657f3a8839f2b18dfcbd8\n",
      "  Stored in directory: /root/.cache/pip/wheels/46/ef/c3/157e41f5ee1372d1be90b09f74f82b10e391eaacca8f22d33e\n",
      "Successfully built sklearn\n",
      "Installing collected packages: threadpoolctl, scipy, joblib, scikit-learn, sklearn\n",
      "Successfully installed joblib-1.1.0 scikit-learn-1.0.1 scipy-1.7.3 sklearn-0.0 threadpoolctl-3.0.0\n"
     ]
    }
   ],
   "source": [
    "!pip install sklearn"
   ]
  },
  {
   "cell_type": "code",
   "execution_count": 6,
   "metadata": {},
   "outputs": [
    {
     "name": "stdout",
     "output_type": "stream",
     "text": [
      "Requirement already satisfied: pandas in /opt/conda/lib/python3.7/site-packages (1.3.5)\n",
      "Requirement already satisfied: pytz>=2017.3 in /opt/conda/lib/python3.7/site-packages (from pandas) (2021.3)\n",
      "Requirement already satisfied: numpy>=1.17.3 in /opt/conda/lib/python3.7/site-packages (from pandas) (1.21.2)\n",
      "Requirement already satisfied: python-dateutil>=2.7.3 in /opt/conda/lib/python3.7/site-packages (from pandas) (2.8.2)\n",
      "Requirement already satisfied: six>=1.5 in /opt/conda/lib/python3.7/site-packages (from python-dateutil>=2.7.3->pandas) (1.16.0)\n"
     ]
    }
   ],
   "source": [
    "!pip install pandas"
   ]
  },
  {
   "cell_type": "code",
   "execution_count": 7,
   "metadata": {
    "id": "nCxbSiVTNlN8"
   },
   "outputs": [],
   "source": [
    "import pandas as pd"
   ]
  },
  {
   "cell_type": "code",
   "execution_count": 8,
   "metadata": {
    "colab": {
     "base_uri": "https://localhost:8080/"
    },
    "id": "SVqsMoIU6J0X",
    "outputId": "a7534ca5-1a8a-4c3a-a9bb-6d0ff3441412"
   },
   "outputs": [
    {
     "name": "stdout",
     "output_type": "stream",
     "text": [
      "Collecting transformers\n",
      "  Downloading transformers-4.15.0-py3-none-any.whl (3.4 MB)\n",
      "\u001b[K     |████████████████████████████████| 3.4 MB 3.2 MB/s eta 0:00:01\n",
      "\u001b[?25hRequirement already satisfied: packaging>=20.0 in /opt/conda/lib/python3.7/site-packages (from transformers) (21.3)\n",
      "Collecting sacremoses\n",
      "  Downloading sacremoses-0.0.46-py3-none-any.whl (895 kB)\n",
      "\u001b[K     |████████████████████████████████| 895 kB 20.3 MB/s eta 0:00:01\n",
      "\u001b[?25hRequirement already satisfied: tqdm>=4.27 in /opt/conda/lib/python3.7/site-packages (from transformers) (4.61.2)\n",
      "Collecting tokenizers<0.11,>=0.10.1\n",
      "  Downloading tokenizers-0.10.3-cp37-cp37m-manylinux_2_5_x86_64.manylinux1_x86_64.manylinux_2_12_x86_64.manylinux2010_x86_64.whl (3.3 MB)\n",
      "\u001b[K     |████████████████████████████████| 3.3 MB 25.9 MB/s eta 0:00:01\n",
      "\u001b[?25hCollecting regex!=2019.12.17\n",
      "  Downloading regex-2021.11.10-cp37-cp37m-manylinux_2_17_x86_64.manylinux2014_x86_64.whl (749 kB)\n",
      "\u001b[K     |████████████████████████████████| 749 kB 21.8 MB/s eta 0:00:01\n",
      "\u001b[?25hRequirement already satisfied: numpy>=1.17 in /opt/conda/lib/python3.7/site-packages (from transformers) (1.21.2)\n",
      "Requirement already satisfied: requests in /opt/conda/lib/python3.7/site-packages (from transformers) (2.25.1)\n",
      "Requirement already satisfied: filelock in /opt/conda/lib/python3.7/site-packages (from transformers) (3.0.12)\n",
      "Requirement already satisfied: importlib-metadata in /opt/conda/lib/python3.7/site-packages (from transformers) (4.8.2)\n",
      "Requirement already satisfied: pyyaml>=5.1 in /opt/conda/lib/python3.7/site-packages (from transformers) (5.4.1)\n",
      "Collecting huggingface-hub<1.0,>=0.1.0\n",
      "  Downloading huggingface_hub-0.2.1-py3-none-any.whl (61 kB)\n",
      "\u001b[K     |████████████████████████████████| 61 kB 251 kB/s  eta 0:00:01\n",
      "\u001b[?25hRequirement already satisfied: typing-extensions>=3.7.4.3 in /opt/conda/lib/python3.7/site-packages (from huggingface-hub<1.0,>=0.1.0->transformers) (3.10.0.2)\n",
      "Requirement already satisfied: pyparsing!=3.0.5,>=2.0.2 in /opt/conda/lib/python3.7/site-packages (from packaging>=20.0->transformers) (3.0.6)\n",
      "Requirement already satisfied: zipp>=0.5 in /opt/conda/lib/python3.7/site-packages (from importlib-metadata->transformers) (3.6.0)\n",
      "Requirement already satisfied: urllib3<1.27,>=1.21.1 in /opt/conda/lib/python3.7/site-packages (from requests->transformers) (1.26.6)\n",
      "Requirement already satisfied: chardet<5,>=3.0.2 in /opt/conda/lib/python3.7/site-packages (from requests->transformers) (4.0.0)\n",
      "Requirement already satisfied: certifi>=2017.4.17 in /opt/conda/lib/python3.7/site-packages (from requests->transformers) (2021.10.8)\n",
      "Requirement already satisfied: idna<3,>=2.5 in /opt/conda/lib/python3.7/site-packages (from requests->transformers) (2.10)\n",
      "Requirement already satisfied: six in /opt/conda/lib/python3.7/site-packages (from sacremoses->transformers) (1.16.0)\n",
      "Collecting click\n",
      "  Downloading click-8.0.3-py3-none-any.whl (97 kB)\n",
      "\u001b[K     |████████████████████████████████| 97 kB 4.5 MB/s  eta 0:00:01\n",
      "\u001b[?25hRequirement already satisfied: joblib in /opt/conda/lib/python3.7/site-packages (from sacremoses->transformers) (1.1.0)\n",
      "Installing collected packages: regex, click, tokenizers, sacremoses, huggingface-hub, transformers\n",
      "Successfully installed click-8.0.3 huggingface-hub-0.2.1 regex-2021.11.10 sacremoses-0.0.46 tokenizers-0.10.3 transformers-4.15.0\n"
     ]
    }
   ],
   "source": [
    "!pip install transformers -U"
   ]
  },
  {
   "cell_type": "code",
   "execution_count": 9,
   "metadata": {
    "colab": {
     "base_uri": "https://localhost:8080/"
    },
    "id": "qoNm9cNk9kIY",
    "outputId": "25eb16a5-fbfe-4435-d0b1-abe7a6e34a7d"
   },
   "outputs": [
    {
     "name": "stdout",
     "output_type": "stream",
     "text": [
      "Collecting sentencepiece\n",
      "  Downloading sentencepiece-0.1.96-cp37-cp37m-manylinux_2_17_x86_64.manylinux2014_x86_64.whl (1.2 MB)\n",
      "\u001b[K     |████████████████████████████████| 1.2 MB 2.3 MB/s eta 0:00:01\n",
      "\u001b[?25hInstalling collected packages: sentencepiece\n",
      "Successfully installed sentencepiece-0.1.96\n"
     ]
    }
   ],
   "source": [
    "!pip install sentencepiece"
   ]
  },
  {
   "cell_type": "code",
   "execution_count": 31,
   "metadata": {
    "colab": {
     "base_uri": "https://localhost:8080/"
    },
    "id": "NcU-kExe99IX",
    "outputId": "1fb9e326-310c-41e3-dc5d-ddf07be815a6"
   },
   "outputs": [
    {
     "name": "stdout",
     "output_type": "stream",
     "text": [
      "Requirement already satisfied: tqdm in /opt/conda/lib/python3.7/site-packages (4.62.3)\n",
      "Requirement already satisfied: boto3 in /opt/conda/lib/python3.7/site-packages (1.20.26)\n",
      "Requirement already satisfied: requests in /opt/conda/lib/python3.7/site-packages (2.25.1)\n",
      "Requirement already satisfied: regex in /opt/conda/lib/python3.7/site-packages (2021.11.10)\n",
      "Requirement already satisfied: sacremoses in /opt/conda/lib/python3.7/site-packages (0.0.46)\n",
      "Requirement already satisfied: s3transfer<0.6.0,>=0.5.0 in /opt/conda/lib/python3.7/site-packages (from boto3) (0.5.0)\n",
      "Requirement already satisfied: botocore<1.24.0,>=1.23.26 in /opt/conda/lib/python3.7/site-packages (from boto3) (1.23.26)\n",
      "Requirement already satisfied: jmespath<1.0.0,>=0.7.1 in /opt/conda/lib/python3.7/site-packages (from boto3) (0.10.0)\n",
      "Requirement already satisfied: urllib3<1.27,>=1.25.4 in /opt/conda/lib/python3.7/site-packages (from botocore<1.24.0,>=1.23.26->boto3) (1.26.6)\n",
      "Requirement already satisfied: python-dateutil<3.0.0,>=2.1 in /opt/conda/lib/python3.7/site-packages (from botocore<1.24.0,>=1.23.26->boto3) (2.8.2)\n",
      "Requirement already satisfied: six>=1.5 in /opt/conda/lib/python3.7/site-packages (from python-dateutil<3.0.0,>=2.1->botocore<1.24.0,>=1.23.26->boto3) (1.16.0)\n",
      "Requirement already satisfied: chardet<5,>=3.0.2 in /opt/conda/lib/python3.7/site-packages (from requests) (4.0.0)\n",
      "Requirement already satisfied: certifi>=2017.4.17 in /opt/conda/lib/python3.7/site-packages (from requests) (2021.10.8)\n",
      "Requirement already satisfied: idna<3,>=2.5 in /opt/conda/lib/python3.7/site-packages (from requests) (2.10)\n",
      "Requirement already satisfied: joblib in /opt/conda/lib/python3.7/site-packages (from sacremoses) (1.1.0)\n",
      "Requirement already satisfied: click in /opt/conda/lib/python3.7/site-packages (from sacremoses) (8.0.3)\n",
      "Requirement already satisfied: importlib-metadata in /opt/conda/lib/python3.7/site-packages (from click->sacremoses) (4.8.2)\n",
      "Requirement already satisfied: zipp>=0.5 in /opt/conda/lib/python3.7/site-packages (from importlib-metadata->click->sacremoses) (3.6.0)\n",
      "Requirement already satisfied: typing-extensions>=3.6.4 in /opt/conda/lib/python3.7/site-packages (from importlib-metadata->click->sacremoses) (3.10.0.2)\n"
     ]
    }
   ],
   "source": [
    "!pip install tqdm boto3 requests regex sacremoses"
   ]
  },
  {
   "cell_type": "code",
   "execution_count": 33,
   "metadata": {
    "id": "1ri4axMy9p7S"
   },
   "outputs": [],
   "source": [
    "import torch\n",
    "from transformers import AutoModel, AutoTokenizer, AutoConfig"
   ]
  },
  {
   "cell_type": "code",
   "execution_count": 35,
   "metadata": {
    "id": "J5q0xqDA6Bug"
   },
   "outputs": [],
   "source": [
    "# model = torch.hub.load('huggingface/transformers', 'modelForCausalLM', 'gpt2')   \n",
    "#  # Download model and configuration from huggingface.co and cache.\n",
    "# # model = torch.hub.load('huggingface/transformers', 'modelForCausalLM', './test/saved_model/')  \n",
    "# # E.g. model was saved using `save_pretrained('./test/saved_model/')`\n",
    "# model = torch.hub.load('huggingface/transformers', 'modelForCausalLM', 'gpt2', output_attentions=True)  \n",
    "# # Update configuration during loading\n",
    "# assert model.config.output_attentions == True\n",
    "# # Loading from a TF checkpoint file instead of a PyTorch model (slower)\n",
    "# config = AutoConfig.from_pretrained('bert-base-uncased')\n",
    "# # AutoConfig.from_pretrained('bert-base-uncased')\n",
    "# # model = torch.hub.load('huggingface/transformers', 'modelForCausalLM', \n",
    "# #                        './tf_model/gpt_tf_checkpoint.ckpt.index', from_tf=True, config=config)"
   ]
  },
  {
   "cell_type": "code",
   "execution_count": 37,
   "metadata": {
    "colab": {
     "base_uri": "https://localhost:8080/"
    },
    "id": "SyvHuVMUJMN8",
    "outputId": "09167b58-e298-4e57-91c2-29fbf0fb6f63"
   },
   "outputs": [
    {
     "name": "stdout",
     "output_type": "stream",
     "text": [
      "fatal: destination path 'transformers' already exists and is not an empty directory.\r\n"
     ]
    }
   ],
   "source": [
    "!git clone https://github.com/huggingface/transformers.git"
   ]
  },
  {
   "cell_type": "code",
   "execution_count": 39,
   "metadata": {
    "colab": {
     "base_uri": "https://localhost:8080/"
    },
    "id": "6f550SIVJaTo",
    "outputId": "aa42583a-d84f-4373-f4a4-f8eb015a7cbb"
   },
   "outputs": [
    {
     "name": "stdout",
     "output_type": "stream",
     "text": [
      "Requirement already satisfied: tensorboard in /opt/conda/lib/python3.7/site-packages (2.7.0)\n",
      "Requirement already satisfied: markdown>=2.6.8 in /opt/conda/lib/python3.7/site-packages (from tensorboard) (3.3.6)\n",
      "Requirement already satisfied: google-auth-oauthlib<0.5,>=0.4.1 in /opt/conda/lib/python3.7/site-packages (from tensorboard) (0.4.6)\n",
      "Requirement already satisfied: setuptools>=41.0.0 in /opt/conda/lib/python3.7/site-packages (from tensorboard) (58.0.4)\n",
      "Requirement already satisfied: google-auth<3,>=1.6.3 in /opt/conda/lib/python3.7/site-packages (from tensorboard) (2.3.3)\n",
      "Requirement already satisfied: grpcio>=1.24.3 in /opt/conda/lib/python3.7/site-packages (from tensorboard) (1.43.0)\n",
      "Requirement already satisfied: absl-py>=0.4 in /opt/conda/lib/python3.7/site-packages (from tensorboard) (1.0.0)\n",
      "Requirement already satisfied: wheel>=0.26 in /opt/conda/lib/python3.7/site-packages (from tensorboard) (0.36.2)\n",
      "Requirement already satisfied: werkzeug>=0.11.15 in /opt/conda/lib/python3.7/site-packages (from tensorboard) (2.0.2)\n",
      "Requirement already satisfied: protobuf>=3.6.0 in /opt/conda/lib/python3.7/site-packages (from tensorboard) (3.19.1)\n",
      "Requirement already satisfied: tensorboard-data-server<0.7.0,>=0.6.0 in /opt/conda/lib/python3.7/site-packages (from tensorboard) (0.6.1)\n",
      "Requirement already satisfied: tensorboard-plugin-wit>=1.6.0 in /opt/conda/lib/python3.7/site-packages (from tensorboard) (1.8.0)\n",
      "Requirement already satisfied: numpy>=1.12.0 in /opt/conda/lib/python3.7/site-packages (from tensorboard) (1.21.2)\n",
      "Requirement already satisfied: requests<3,>=2.21.0 in /opt/conda/lib/python3.7/site-packages (from tensorboard) (2.25.1)\n",
      "Requirement already satisfied: six in /opt/conda/lib/python3.7/site-packages (from absl-py>=0.4->tensorboard) (1.16.0)\n",
      "Requirement already satisfied: cachetools<5.0,>=2.0.0 in /opt/conda/lib/python3.7/site-packages (from google-auth<3,>=1.6.3->tensorboard) (4.2.4)\n",
      "Requirement already satisfied: pyasn1-modules>=0.2.1 in /opt/conda/lib/python3.7/site-packages (from google-auth<3,>=1.6.3->tensorboard) (0.2.8)\n",
      "Requirement already satisfied: rsa<5,>=3.1.4 in /opt/conda/lib/python3.7/site-packages (from google-auth<3,>=1.6.3->tensorboard) (4.7.2)\n",
      "Requirement already satisfied: requests-oauthlib>=0.7.0 in /opt/conda/lib/python3.7/site-packages (from google-auth-oauthlib<0.5,>=0.4.1->tensorboard) (1.3.0)\n",
      "Requirement already satisfied: importlib-metadata>=4.4 in /opt/conda/lib/python3.7/site-packages (from markdown>=2.6.8->tensorboard) (4.8.2)\n",
      "Requirement already satisfied: zipp>=0.5 in /opt/conda/lib/python3.7/site-packages (from importlib-metadata>=4.4->markdown>=2.6.8->tensorboard) (3.6.0)\n",
      "Requirement already satisfied: typing-extensions>=3.6.4 in /opt/conda/lib/python3.7/site-packages (from importlib-metadata>=4.4->markdown>=2.6.8->tensorboard) (3.10.0.2)\n",
      "Requirement already satisfied: pyasn1<0.5.0,>=0.4.6 in /opt/conda/lib/python3.7/site-packages (from pyasn1-modules>=0.2.1->google-auth<3,>=1.6.3->tensorboard) (0.4.8)\n",
      "Requirement already satisfied: chardet<5,>=3.0.2 in /opt/conda/lib/python3.7/site-packages (from requests<3,>=2.21.0->tensorboard) (4.0.0)\n",
      "Requirement already satisfied: urllib3<1.27,>=1.21.1 in /opt/conda/lib/python3.7/site-packages (from requests<3,>=2.21.0->tensorboard) (1.26.6)\n",
      "Requirement already satisfied: certifi>=2017.4.17 in /opt/conda/lib/python3.7/site-packages (from requests<3,>=2.21.0->tensorboard) (2021.10.8)\n",
      "Requirement already satisfied: idna<3,>=2.5 in /opt/conda/lib/python3.7/site-packages (from requests<3,>=2.21.0->tensorboard) (2.10)\n",
      "Requirement already satisfied: oauthlib>=3.0.0 in /opt/conda/lib/python3.7/site-packages (from requests-oauthlib>=0.7.0->google-auth-oauthlib<0.5,>=0.4.1->tensorboard) (3.1.1)\n"
     ]
    }
   ],
   "source": [
    "!pip install tensorboard\n",
    "# !pip install wandb; wandb login"
   ]
  },
  {
   "cell_type": "code",
   "execution_count": 41,
   "metadata": {
    "colab": {
     "base_uri": "https://localhost:8080/"
    },
    "id": "DnSiQTAInNf3",
    "outputId": "424447e9-517e-4038-c033-9710d364ad22"
   },
   "outputs": [
    {
     "name": "stdout",
     "output_type": "stream",
     "text": [
      "Requirement already satisfied: natasha in /opt/conda/lib/python3.7/site-packages (1.4.0)\r\n",
      "Requirement already satisfied: pymorphy2 in /opt/conda/lib/python3.7/site-packages (from natasha) (0.9.1)\r\n",
      "Requirement already satisfied: slovnet>=0.3.0 in /opt/conda/lib/python3.7/site-packages (from natasha) (0.5.0)\r\n",
      "Requirement already satisfied: yargy>=0.14.0 in /opt/conda/lib/python3.7/site-packages (from natasha) (0.15.0)\r\n",
      "Requirement already satisfied: razdel>=0.5.0 in /opt/conda/lib/python3.7/site-packages (from natasha) (0.5.0)\r\n",
      "Requirement already satisfied: navec>=0.9.0 in /opt/conda/lib/python3.7/site-packages (from natasha) (0.10.0)\r\n",
      "Requirement already satisfied: ipymarkup>=0.8.0 in /opt/conda/lib/python3.7/site-packages (from natasha) (0.9.0)\r\n",
      "Requirement already satisfied: intervaltree>=3 in /opt/conda/lib/python3.7/site-packages (from ipymarkup>=0.8.0->natasha) (3.1.0)\r\n",
      "Requirement already satisfied: sortedcontainers<3.0,>=2.0 in /opt/conda/lib/python3.7/site-packages (from intervaltree>=3->ipymarkup>=0.8.0->natasha) (2.4.0)\r\n",
      "Requirement already satisfied: numpy in /opt/conda/lib/python3.7/site-packages (from navec>=0.9.0->natasha) (1.21.2)\r\n",
      "Requirement already satisfied: pymorphy2-dicts-ru<3.0,>=2.4 in /opt/conda/lib/python3.7/site-packages (from pymorphy2->natasha) (2.4.417127.4579844)\r\n",
      "Requirement already satisfied: docopt>=0.6 in /opt/conda/lib/python3.7/site-packages (from pymorphy2->natasha) (0.6.2)\r\n",
      "Requirement already satisfied: dawg-python>=0.7.1 in /opt/conda/lib/python3.7/site-packages (from pymorphy2->natasha) (0.7.2)\r\n"
     ]
    }
   ],
   "source": [
    "!pip install natasha"
   ]
  },
  {
   "cell_type": "code",
   "execution_count": 43,
   "metadata": {
    "id": "xEJhcTFMJ8m-"
   },
   "outputs": [],
   "source": [
    "from natasha import (   \n",
    "    MorphVocab,\n",
    "    NewsNERTagger,\n",
    "    NamesExtractor,\n",
    "    MorphVocab,\n",
    "    Segmenter, \n",
    "    NewsEmbedding,\n",
    "    PER,\n",
    "    Doc,\n",
    "    ORG\n",
    ")"
   ]
  },
  {
   "cell_type": "code",
   "execution_count": 45,
   "metadata": {
    "id": "D7pZJGte7t5j"
   },
   "outputs": [],
   "source": [
    "from transformers import GPT2LMHeadModel, GPT2Tokenizer"
   ]
  },
  {
   "cell_type": "markdown",
   "metadata": {
    "id": "ICdrPvdDNbEd"
   },
   "source": [
    "# **PREPARE DATA SET**"
   ]
  },
  {
   "cell_type": "code",
   "execution_count": 47,
   "metadata": {
    "colab": {
     "base_uri": "https://localhost:8080/"
    },
    "id": "jbc_qWXLNgjt",
    "outputId": "200ca431-2c34-4433-ab7f-f3aacb1e082e"
   },
   "outputs": [
    {
     "name": "stdout",
     "output_type": "stream",
     "text": [
      "--2021-12-24 20:16:25--  https://raw.githubusercontent.com/DmitryKutsev/congrats_generator/main/crawler/curr_congrats.txt\n",
      "Resolving raw.githubusercontent.com (raw.githubusercontent.com)... 185.199.108.133, 185.199.109.133, 185.199.110.133, ...\n",
      "Connecting to raw.githubusercontent.com (raw.githubusercontent.com)|185.199.108.133|:443... connected.\n",
      "HTTP request sent, awaiting response... 200 OK\n",
      "Length: 1471875 (1.4M) [text/plain]\n",
      "Saving to: ‘curr_congrats.txt.1’\n",
      "\n",
      "curr_congrats.txt.1 100%[===================>]   1.40M  8.66MB/s    in 0.2s    \n",
      "\n",
      "2021-12-24 20:16:25 (8.66 MB/s) - ‘curr_congrats.txt.1’ saved [1471875/1471875]\n",
      "\n"
     ]
    }
   ],
   "source": [
    "!wget https://raw.githubusercontent.com/DmitryKutsev/congrats_generator/main/crawler/curr_congrats.txt"
   ]
  },
  {
   "cell_type": "code",
   "execution_count": 48,
   "metadata": {
    "colab": {
     "base_uri": "https://localhost:8080/",
     "height": 181
    },
    "id": "tjTgJgTvN0mH",
    "outputId": "097f8817-1a7a-492e-9c31-4cb0a673a036"
   },
   "outputs": [
    {
     "data": {
      "text/plain": [
       "'\\nTITLE\\nЭдварду Радзинскому, писателю, драматургу, сценаристу\\nCONTENT\\n Уважаемый Эдвард Станиславович!Примите поздравления с\\xa085-летием.Человек многогранного дарования и\\xa0большой созидательной энергии, Вы по\\xa0праву входите в\\xa0число признанных\\nдраматургов, мастеров современного театрального искусства. И\\xa0конечно, Вас\\nхорошо знают и\\xa0любят как автора целого ряда просветительских проектов, чьё\\nтворчество завоевало сердца самой широкой аудитории, в\\xa0том числе молодёжи.Желаю доброго здоровья, благополучия и\\xa0бодрости\\nдуха. Владимир Путин     Статус материала Опубликован в\\xa0разделе: Телеграммы  Ссылка на материал: kremlin.ru/d/66751   Текстовая версия      \\nEND\\n\\nTITLE\\nКоллективу радиостанции «Орфей»\\nCONTENT\\n Дорогие друзья!Поздравляю вас со\\xa0знаменательным юбилеем\\xa0– 30-летием радиостанции «Орфей».Все эти годы ваш коллектив объединяет настоящих единомышленников, профессионалов, преданных высокому искусству, стремящихся внести свой вклад в\\xa0сбережение лучших традиций отечественной культуры. Вы сформировали обширный фонд просветительских, познавательных программ, завоевали признание людей самого разного возраста, слушателей в\\xa0России и\\xa0за\\xa0рубежом.Особо отмечу ваши уникальные медиапроекты, которые открывают широкий доступ к\\xa0онлайн-трансляциям концертов и\\xa0спектаклей, способствуют изучению и\\xa0сохранению творческого наследия выдающихся русских композиторов, воссозданию ранее утерянных музыкальных произведений и\\xa0нотных записей. Такая многогранная созидательная работа достойна глубокого уважения.Желаю новых успехов, благополучия и\\xa0всего наилучшего. Владимир Путин     Статус материала Опубликован в\\xa0разделе: Телеграммы  Ссылка на материал: kremlin.ru/d/66743   Текстовая версия      \\nEND\\n\\nTITLE\\nМихаилу Ковальчуку, президенту НИЦ «Курчатовский институт»\\nCONTENT\\n Уважаемый Михаил Валентинович!Примите мои поздравления по\\xa0случаю 75-летнего юбилея.Вы по\\xa0праву входите в\\xa0число исследователей, чьи фундаментальные труды и\\xa0практические наработки способствовали созданию в\\xa0России перспективных направлений науки и\\xa0прорывных технологий, заложили основу для их эффективного развития на\\xa0годы вперёд. И\\xa0конечно, Вас ценят как талантливого педагога и\\xa0организатора, человека, наделённого большой творческой энергией, который вносит значимый личный вклад в\\xa0решение задач, стоящих перед знаменитым Курчатовским институтом, много сил и\\xa0времени уделяет просветительской, общественной деятельности.Желаю Вам здоровья, успехов и\\xa0реализации намеченных планов. Владимир Путин     Статус материала Опубликован в\\xa0разделе: Телеграммы  Ссылка на материал: kremlin.ru/d/66739   Текстовая версия      \\nEND\\n\\nTITLE\\nИрине Андреевой и\\xa0Ивану Штылю, победителям чемпионата мира по\\xa0гребле на\\xa0байдарках и\\xa0каноэ 2021\\xa0года в\\xa0Копенгагене в\\xa0каноэ-двойке в\\xa0миксте на\\xa0дистанции 200 метров\\nCONTENT\\n Уважаемые Ирина Александровна и\\xa0Иван Александрович!Поздравляю вас с\\xa0успешным выступлением на\\xa0чемпионате мира в\\xa0Копенгагене.Благодаря таланту, волевому характеру и\\xa0настрою на\\xa0победу вы обошли сильных и\\xa0именитых соперников, продемонстрировали наст'"
      ]
     },
     "execution_count": 48,
     "metadata": {},
     "output_type": "execute_result"
    }
   ],
   "source": [
    "with open('curr_congrats.txt') as handler:\n",
    "  full_text = handler.read()\n",
    "full_text[:3000]"
   ]
  },
  {
   "cell_type": "code",
   "execution_count": 49,
   "metadata": {
    "colab": {
     "base_uri": "https://localhost:8080/"
    },
    "id": "QU9TBsuAOSrZ",
    "outputId": "7a556093-385f-4259-cb5a-4a8652e4af0b"
   },
   "outputs": [
    {
     "data": {
      "text/plain": [
       "['TITLEЭдварду Радзинскому, писателю, драматургу, сценаристу',\n",
       " ' Уважаемый Эдвард Станиславович!Примите поздравления с\\xa085-летием.Человек многогранного дарования и\\xa0большой созидательной энергии, Вы по\\xa0праву входите в\\xa0число признанныхдраматургов, мастеров современного театрального искусства. И\\xa0конечно, Васхорошо знают и\\xa0любят как автора целого ряда просветительских проектов, чьётворчество завоевало сердца самой широкой аудитории, в\\xa0том числе молодёжи.Желаю доброго здоровья, благополучия и\\xa0бодростидуха. Владимир Путин     Статус материала Опубликован в\\xa0разделе: Телеграммы  Ссылка на материал: kremlin.ru/d/66751   Текстовая версия      ']"
      ]
     },
     "execution_count": 49,
     "metadata": {},
     "output_type": "execute_result"
    }
   ],
   "source": [
    "full_text.split('END')[:3][0].replace('\\n', '').split('CONTENT')"
   ]
  },
  {
   "cell_type": "code",
   "execution_count": 50,
   "metadata": {
    "colab": {
     "base_uri": "https://localhost:8080/"
    },
    "id": "GfgJgy0hOU3S",
    "outputId": "20315dcf-3676-4def-ddcc-013627b1e4cd"
   },
   "outputs": [
    {
     "name": "stdout",
     "output_type": "stream",
     "text": [
      "['Эдварду Радзинскому, писателю, драматургу, сценаристу', 'Коллективу радиостанции «Орфей»', 'Михаилу Ковальчуку, президенту НИЦ «Курчатовский институт»']\n",
      "[' Уважаемый Эдвард Станиславович!Примите поздравления с\\xa085-летием.Человек многогранного дарования и\\xa0большой созидательной энергии, Вы по\\xa0праву входите в\\xa0число признанныхдраматургов, мастеров современного театрального искусства. И\\xa0конечно, Васхорошо знают и\\xa0любят как автора целого ряда просветительских проектов, чьётворчество завоевало сердца самой широкой аудитории, в\\xa0том числе молодёжи.Желаю доброго здоровья, благополучия и\\xa0бодростидуха. Владимир Путин     Статус материала Опубликован в\\xa0разделе: Телеграммы  Ссылка на материал: kremlin.ru/d/66751   Текстовая версия      ', ' Дорогие друзья!Поздравляю вас со\\xa0знаменательным юбилеем\\xa0– 30-летием радиостанции «Орфей».Все эти годы ваш коллектив объединяет настоящих единомышленников, профессионалов, преданных высокому искусству, стремящихся внести свой вклад в\\xa0сбережение лучших традиций отечественной культуры. Вы сформировали обширный фонд просветительских, познавательных программ, завоевали признание людей самого разного возраста, слушателей в\\xa0России и\\xa0за\\xa0рубежом.Особо отмечу ваши уникальные медиапроекты, которые открывают широкий доступ к\\xa0онлайн-трансляциям концертов и\\xa0спектаклей, способствуют изучению и\\xa0сохранению творческого наследия выдающихся русских композиторов, воссозданию ранее утерянных музыкальных произведений и\\xa0нотных записей. Такая многогранная созидательная работа достойна глубокого уважения.Желаю новых успехов, благополучия и\\xa0всего наилучшего. Владимир Путин     Статус материала Опубликован в\\xa0разделе: Телеграммы  Ссылка на материал: kremlin.ru/d/66743   Текстовая версия      ', ' Уважаемый Михаил Валентинович!Примите мои поздравления по\\xa0случаю 75-летнего юбилея.Вы по\\xa0праву входите в\\xa0число исследователей, чьи фундаментальные труды и\\xa0практические наработки способствовали созданию в\\xa0России перспективных направлений науки и\\xa0прорывных технологий, заложили основу для их эффективного развития на\\xa0годы вперёд. И\\xa0конечно, Вас ценят как талантливого педагога и\\xa0организатора, человека, наделённого большой творческой энергией, который вносит значимый личный вклад в\\xa0решение задач, стоящих перед знаменитым Курчатовским институтом, много сил и\\xa0времени уделяет просветительской, общественной деятельности.Желаю Вам здоровья, успехов и\\xa0реализации намеченных планов. Владимир Путин     Статус материала Опубликован в\\xa0разделе: Телеграммы  Ссылка на материал: kremlin.ru/d/66739   Текстовая версия      ']\n",
      "888\n",
      "888\n"
     ]
    }
   ],
   "source": [
    "titles_list = []\n",
    "congrats_list = []\n",
    "\n",
    "for letter in full_text.split('END'):\n",
    "  letter = letter.replace('\\n', '').replace('TITLE', '')\n",
    "\n",
    "  if len(letter.split('CONTENT')) > 1:\n",
    "    titles_list.append(letter.split('CONTENT')[0])\n",
    "    congrats_list.append(letter.split('CONTENT')[1])\n",
    "\n",
    "print(titles_list[:3])\n",
    "print(congrats_list[:3])\n",
    "print(len(titles_list))\n",
    "print(len(congrats_list))"
   ]
  },
  {
   "cell_type": "code",
   "execution_count": 51,
   "metadata": {
    "colab": {
     "base_uri": "https://localhost:8080/",
     "height": 422
    },
    "id": "D4S_hWq2QK7k",
    "outputId": "7371d70e-9e3c-408a-edbf-c858875e3bac"
   },
   "outputs": [
    {
     "data": {
      "text/html": [
       "<div>\n",
       "<style scoped>\n",
       "    .dataframe tbody tr th:only-of-type {\n",
       "        vertical-align: middle;\n",
       "    }\n",
       "\n",
       "    .dataframe tbody tr th {\n",
       "        vertical-align: top;\n",
       "    }\n",
       "\n",
       "    .dataframe thead th {\n",
       "        text-align: right;\n",
       "    }\n",
       "</style>\n",
       "<table border=\"1\" class=\"dataframe\">\n",
       "  <thead>\n",
       "    <tr style=\"text-align: right;\">\n",
       "      <th></th>\n",
       "      <th>Title</th>\n",
       "      <th>Content</th>\n",
       "    </tr>\n",
       "  </thead>\n",
       "  <tbody>\n",
       "    <tr>\n",
       "      <th>0</th>\n",
       "      <td>Эдварду Радзинскому, писателю, драматургу, сце...</td>\n",
       "      <td>Уважаемый Эдвард Станиславович!Примите поздра...</td>\n",
       "    </tr>\n",
       "    <tr>\n",
       "      <th>1</th>\n",
       "      <td>Коллективу радиостанции «Орфей»</td>\n",
       "      <td>Дорогие друзья!Поздравляю вас со знаменательн...</td>\n",
       "    </tr>\n",
       "    <tr>\n",
       "      <th>2</th>\n",
       "      <td>Михаилу Ковальчуку, президенту НИЦ «Курчатовск...</td>\n",
       "      <td>Уважаемый Михаил Валентинович!Примите мои поз...</td>\n",
       "    </tr>\n",
       "    <tr>\n",
       "      <th>3</th>\n",
       "      <td>Ирине Андреевой и Ивану Штылю, победителям чем...</td>\n",
       "      <td>Уважаемые Ирина Александровна и Иван Александ...</td>\n",
       "    </tr>\n",
       "    <tr>\n",
       "      <th>4</th>\n",
       "      <td>Работникам и ветеранам оборонно-промышленного ...</td>\n",
       "      <td>Уважаемые друзья!Поздравляю вас с Днём оружей...</td>\n",
       "    </tr>\n",
       "    <tr>\n",
       "      <th>...</th>\n",
       "      <td>...</td>\n",
       "      <td>...</td>\n",
       "    </tr>\n",
       "    <tr>\n",
       "      <th>883</th>\n",
       "      <td>Жителям Республики Мордовия</td>\n",
       "      <td>Дорогие друзья!Поздравляю вас с юбилеем – 75-...</td>\n",
       "    </tr>\n",
       "    <tr>\n",
       "      <th>884</th>\n",
       "      <td>Коллективу Института физических проблем им.П.Л...</td>\n",
       "      <td>Поздравляю коллектив института с 70-летием со...</td>\n",
       "    </tr>\n",
       "    <tr>\n",
       "      <th>885</th>\n",
       "      <td>Жителям Красноярского края</td>\n",
       "      <td>Уважаемые друзья!Поздравляю вас с 70-летием с...</td>\n",
       "    </tr>\n",
       "    <tr>\n",
       "      <th>886</th>\n",
       "      <td>В.А.ЛОГИНОВУ</td>\n",
       "      <td>Уважаемый Владимир Александрович!Поздравляю В...</td>\n",
       "    </tr>\n",
       "    <tr>\n",
       "      <th>887</th>\n",
       "      <td>Патриарху Московскому и всея Руси Алексию II</td>\n",
       "      <td>Ваше Святейшество!От всего сердца поздравляю ...</td>\n",
       "    </tr>\n",
       "  </tbody>\n",
       "</table>\n",
       "<p>888 rows × 2 columns</p>\n",
       "</div>"
      ],
      "text/plain": [
       "                                                 Title  \\\n",
       "0    Эдварду Радзинскому, писателю, драматургу, сце...   \n",
       "1                      Коллективу радиостанции «Орфей»   \n",
       "2    Михаилу Ковальчуку, президенту НИЦ «Курчатовск...   \n",
       "3    Ирине Андреевой и Ивану Штылю, победителям чем...   \n",
       "4    Работникам и ветеранам оборонно-промышленного ...   \n",
       "..                                                 ...   \n",
       "883                        Жителям Республики Мордовия   \n",
       "884  Коллективу Института физических проблем им.П.Л...   \n",
       "885                         Жителям Красноярского края   \n",
       "886                                       В.А.ЛОГИНОВУ   \n",
       "887       Патриарху Московскому и всея Руси Алексию II   \n",
       "\n",
       "                                               Content  \n",
       "0     Уважаемый Эдвард Станиславович!Примите поздра...  \n",
       "1     Дорогие друзья!Поздравляю вас со знаменательн...  \n",
       "2     Уважаемый Михаил Валентинович!Примите мои поз...  \n",
       "3     Уважаемые Ирина Александровна и Иван Александ...  \n",
       "4     Уважаемые друзья!Поздравляю вас с Днём оружей...  \n",
       "..                                                 ...  \n",
       "883   Дорогие друзья!Поздравляю вас с юбилеем – 75-...  \n",
       "884   Поздравляю коллектив института с 70-летием со...  \n",
       "885   Уважаемые друзья!Поздравляю вас с 70-летием с...  \n",
       "886   Уважаемый Владимир Александрович!Поздравляю В...  \n",
       "887   Ваше Святейшество!От всего сердца поздравляю ...  \n",
       "\n",
       "[888 rows x 2 columns]"
      ]
     },
     "execution_count": 51,
     "metadata": {},
     "output_type": "execute_result"
    }
   ],
   "source": [
    "data = {'Title': titles_list,\n",
    "        'Content': congrats_list}\n",
    "\n",
    "my_df = pd.DataFrame(data)\n",
    "my_df"
   ]
  },
  {
   "cell_type": "code",
   "execution_count": 52,
   "metadata": {
    "colab": {
     "base_uri": "https://localhost:8080/"
    },
    "id": "FPNGyp4Gq8gX",
    "outputId": "495eeba0-9053-4af9-9066-3a5045d0d050"
   },
   "outputs": [
    {
     "name": "stdout",
     "output_type": "stream",
     "text": [
      "Requirement already satisfied: datasets in /opt/conda/lib/python3.7/site-packages (1.17.0)\n",
      "Requirement already satisfied: transformers in /opt/conda/lib/python3.7/site-packages (4.15.0)\n",
      "Requirement already satisfied: tqdm>=4.62.1 in /opt/conda/lib/python3.7/site-packages (from datasets) (4.62.3)\n",
      "Requirement already satisfied: aiohttp in /opt/conda/lib/python3.7/site-packages (from datasets) (3.8.1)\n",
      "Requirement already satisfied: requests>=2.19.0 in /opt/conda/lib/python3.7/site-packages (from datasets) (2.25.1)\n",
      "Requirement already satisfied: huggingface-hub<1.0.0,>=0.1.0 in /opt/conda/lib/python3.7/site-packages (from datasets) (0.2.1)\n",
      "Requirement already satisfied: dill in /opt/conda/lib/python3.7/site-packages (from datasets) (0.3.4)\n",
      "Requirement already satisfied: packaging in /opt/conda/lib/python3.7/site-packages (from datasets) (21.3)\n",
      "Requirement already satisfied: numpy>=1.17 in /opt/conda/lib/python3.7/site-packages (from datasets) (1.21.2)\n",
      "Requirement already satisfied: pyarrow!=4.0.0,>=3.0.0 in /opt/conda/lib/python3.7/site-packages (from datasets) (6.0.1)\n",
      "Requirement already satisfied: importlib-metadata in /opt/conda/lib/python3.7/site-packages (from datasets) (4.8.2)\n",
      "Requirement already satisfied: multiprocess in /opt/conda/lib/python3.7/site-packages (from datasets) (0.70.12.2)\n",
      "Requirement already satisfied: xxhash in /opt/conda/lib/python3.7/site-packages (from datasets) (2.0.2)\n",
      "Requirement already satisfied: fsspec[http]>=2021.05.0 in /opt/conda/lib/python3.7/site-packages (from datasets) (2021.11.1)\n",
      "Requirement already satisfied: pandas in /opt/conda/lib/python3.7/site-packages (from datasets) (1.3.5)\n",
      "Requirement already satisfied: pyyaml in /opt/conda/lib/python3.7/site-packages (from huggingface-hub<1.0.0,>=0.1.0->datasets) (5.4.1)\n",
      "Requirement already satisfied: filelock in /opt/conda/lib/python3.7/site-packages (from huggingface-hub<1.0.0,>=0.1.0->datasets) (3.0.12)\n",
      "Requirement already satisfied: typing-extensions>=3.7.4.3 in /opt/conda/lib/python3.7/site-packages (from huggingface-hub<1.0.0,>=0.1.0->datasets) (3.10.0.2)\n",
      "Requirement already satisfied: pyparsing!=3.0.5,>=2.0.2 in /opt/conda/lib/python3.7/site-packages (from packaging->datasets) (3.0.6)\n",
      "Requirement already satisfied: chardet<5,>=3.0.2 in /opt/conda/lib/python3.7/site-packages (from requests>=2.19.0->datasets) (4.0.0)\n",
      "Requirement already satisfied: certifi>=2017.4.17 in /opt/conda/lib/python3.7/site-packages (from requests>=2.19.0->datasets) (2021.10.8)\n",
      "Requirement already satisfied: idna<3,>=2.5 in /opt/conda/lib/python3.7/site-packages (from requests>=2.19.0->datasets) (2.10)\n",
      "Requirement already satisfied: urllib3<1.27,>=1.21.1 in /opt/conda/lib/python3.7/site-packages (from requests>=2.19.0->datasets) (1.26.6)\n",
      "Requirement already satisfied: tokenizers<0.11,>=0.10.1 in /opt/conda/lib/python3.7/site-packages (from transformers) (0.10.3)\n",
      "Requirement already satisfied: sacremoses in /opt/conda/lib/python3.7/site-packages (from transformers) (0.0.46)\n",
      "Requirement already satisfied: regex!=2019.12.17 in /opt/conda/lib/python3.7/site-packages (from transformers) (2021.11.10)\n",
      "Requirement already satisfied: frozenlist>=1.1.1 in /opt/conda/lib/python3.7/site-packages (from aiohttp->datasets) (1.2.0)\n",
      "Requirement already satisfied: asynctest==0.13.0 in /opt/conda/lib/python3.7/site-packages (from aiohttp->datasets) (0.13.0)\n",
      "Requirement already satisfied: yarl<2.0,>=1.0 in /opt/conda/lib/python3.7/site-packages (from aiohttp->datasets) (1.7.2)\n",
      "Requirement already satisfied: charset-normalizer<3.0,>=2.0 in /opt/conda/lib/python3.7/site-packages (from aiohttp->datasets) (2.0.9)\n",
      "Requirement already satisfied: aiosignal>=1.1.2 in /opt/conda/lib/python3.7/site-packages (from aiohttp->datasets) (1.2.0)\n",
      "Requirement already satisfied: async-timeout<5.0,>=4.0.0a3 in /opt/conda/lib/python3.7/site-packages (from aiohttp->datasets) (4.0.2)\n",
      "Requirement already satisfied: attrs>=17.3.0 in /opt/conda/lib/python3.7/site-packages (from aiohttp->datasets) (21.2.0)\n",
      "Requirement already satisfied: multidict<7.0,>=4.5 in /opt/conda/lib/python3.7/site-packages (from aiohttp->datasets) (5.2.0)\n",
      "Requirement already satisfied: zipp>=0.5 in /opt/conda/lib/python3.7/site-packages (from importlib-metadata->datasets) (3.6.0)\n",
      "Requirement already satisfied: pytz>=2017.3 in /opt/conda/lib/python3.7/site-packages (from pandas->datasets) (2021.3)\n",
      "Requirement already satisfied: python-dateutil>=2.7.3 in /opt/conda/lib/python3.7/site-packages (from pandas->datasets) (2.8.2)\n",
      "Requirement already satisfied: six>=1.5 in /opt/conda/lib/python3.7/site-packages (from python-dateutil>=2.7.3->pandas->datasets) (1.16.0)\n",
      "Requirement already satisfied: joblib in /opt/conda/lib/python3.7/site-packages (from sacremoses->transformers) (1.1.0)\n",
      "Requirement already satisfied: click in /opt/conda/lib/python3.7/site-packages (from sacremoses->transformers) (8.0.3)\n"
     ]
    }
   ],
   "source": [
    "!pip install datasets transformers"
   ]
  },
  {
   "cell_type": "code",
   "execution_count": 53,
   "metadata": {
    "colab": {
     "base_uri": "https://localhost:8080/"
    },
    "id": "chdG-tIs8EKM",
    "outputId": "3399dfa3-6557-4d7f-e299-8eab6b6f8eea"
   },
   "outputs": [
    {
     "name": "stdout",
     "output_type": "stream",
     "text": [
      "fatal: destination path 'ru-gpts' already exists and is not an empty directory.\r\n"
     ]
    }
   ],
   "source": [
    "!git clone  https://github.com/sberbank-ai/ru-gpts"
   ]
  },
  {
   "cell_type": "markdown",
   "metadata": {
    "id": "RkrhtY9UlHL6"
   },
   "source": []
  },
  {
   "cell_type": "code",
   "execution_count": 54,
   "metadata": {
    "id": "kj1K38Ihq2KM"
   },
   "outputs": [],
   "source": [
    "from datasets import load_dataset\n",
    "from sklearn.model_selection import train_test_split\n",
    "import re\n"
   ]
  },
  {
   "cell_type": "code",
   "execution_count": 55,
   "metadata": {
    "colab": {
     "base_uri": "https://localhost:8080/",
     "height": 639
    },
    "id": "cCSD2s7mNIFa",
    "outputId": "fbfd160e-ab05-41fc-e4f5-a753919aa563"
   },
   "outputs": [
    {
     "data": {
      "text/html": [
       "<div>\n",
       "<style scoped>\n",
       "    .dataframe tbody tr th:only-of-type {\n",
       "        vertical-align: middle;\n",
       "    }\n",
       "\n",
       "    .dataframe tbody tr th {\n",
       "        vertical-align: top;\n",
       "    }\n",
       "\n",
       "    .dataframe thead th {\n",
       "        text-align: right;\n",
       "    }\n",
       "</style>\n",
       "<table border=\"1\" class=\"dataframe\">\n",
       "  <thead>\n",
       "    <tr style=\"text-align: right;\">\n",
       "      <th></th>\n",
       "      <th>Title</th>\n",
       "      <th>Content</th>\n",
       "      <th>Sum</th>\n",
       "    </tr>\n",
       "  </thead>\n",
       "  <tbody>\n",
       "    <tr>\n",
       "      <th>0</th>\n",
       "      <td>Эдварду Радзинскому, писателю, драматургу, сце...</td>\n",
       "      <td>Уважаемый Эдвард Станиславович!Примите поздра...</td>\n",
       "      <td>Эдварду Радзинскому, писателю, драматургу, сце...</td>\n",
       "    </tr>\n",
       "    <tr>\n",
       "      <th>1</th>\n",
       "      <td>Коллективу радиостанции «Орфей»</td>\n",
       "      <td>Дорогие друзья!Поздравляю вас со знаменательн...</td>\n",
       "      <td>Коллективу радиостанции «Орфей» Дорогие друзья...</td>\n",
       "    </tr>\n",
       "    <tr>\n",
       "      <th>2</th>\n",
       "      <td>Михаилу Ковальчуку, президенту НИЦ «Курчатовск...</td>\n",
       "      <td>Уважаемый Михаил Валентинович!Примите мои поз...</td>\n",
       "      <td>Михаилу Ковальчуку, президенту НИЦ «Курчатовск...</td>\n",
       "    </tr>\n",
       "    <tr>\n",
       "      <th>3</th>\n",
       "      <td>Ирине Андреевой и Ивану Штылю, победителям чем...</td>\n",
       "      <td>Уважаемые Ирина Александровна и Иван Александ...</td>\n",
       "      <td>Ирине Андреевой и Ивану Штылю, победителям чем...</td>\n",
       "    </tr>\n",
       "    <tr>\n",
       "      <th>4</th>\n",
       "      <td>Работникам и ветеранам оборонно-промышленного ...</td>\n",
       "      <td>Уважаемые друзья!Поздравляю вас с Днём оружей...</td>\n",
       "      <td>Работникам и ветеранам оборонно-промышленного ...</td>\n",
       "    </tr>\n",
       "    <tr>\n",
       "      <th>...</th>\n",
       "      <td>...</td>\n",
       "      <td>...</td>\n",
       "      <td>...</td>\n",
       "    </tr>\n",
       "    <tr>\n",
       "      <th>883</th>\n",
       "      <td>Жителям Республики Мордовия</td>\n",
       "      <td>Дорогие друзья!Поздравляю вас с юбилеем – 75-...</td>\n",
       "      <td>Жителям Республики Мордовия Дорогие друзья!Поз...</td>\n",
       "    </tr>\n",
       "    <tr>\n",
       "      <th>884</th>\n",
       "      <td>Коллективу Института физических проблем им.П.Л...</td>\n",
       "      <td>Поздравляю коллектив института с 70-летием со...</td>\n",
       "      <td>Коллективу Института физических проблем им.П.Л...</td>\n",
       "    </tr>\n",
       "    <tr>\n",
       "      <th>885</th>\n",
       "      <td>Жителям Красноярского края</td>\n",
       "      <td>Уважаемые друзья!Поздравляю вас с 70-летием с...</td>\n",
       "      <td>Жителям Красноярского края Уважаемые друзья!По...</td>\n",
       "    </tr>\n",
       "    <tr>\n",
       "      <th>886</th>\n",
       "      <td>В.А.ЛОГИНОВУ</td>\n",
       "      <td>Уважаемый Владимир Александрович!Поздравляю В...</td>\n",
       "      <td>В.А.ЛОГИНОВУ Уважаемый Владимир Александрович!...</td>\n",
       "    </tr>\n",
       "    <tr>\n",
       "      <th>887</th>\n",
       "      <td>Патриарху Московскому и всея Руси Алексию II</td>\n",
       "      <td>Ваше Святейшество!От всего сердца поздравляю ...</td>\n",
       "      <td>Патриарху Московскому и всея Руси Алексию II В...</td>\n",
       "    </tr>\n",
       "  </tbody>\n",
       "</table>\n",
       "<p>888 rows × 3 columns</p>\n",
       "</div>"
      ],
      "text/plain": [
       "                                                 Title  \\\n",
       "0    Эдварду Радзинскому, писателю, драматургу, сце...   \n",
       "1                      Коллективу радиостанции «Орфей»   \n",
       "2    Михаилу Ковальчуку, президенту НИЦ «Курчатовск...   \n",
       "3    Ирине Андреевой и Ивану Штылю, победителям чем...   \n",
       "4    Работникам и ветеранам оборонно-промышленного ...   \n",
       "..                                                 ...   \n",
       "883                        Жителям Республики Мордовия   \n",
       "884  Коллективу Института физических проблем им.П.Л...   \n",
       "885                         Жителям Красноярского края   \n",
       "886                                       В.А.ЛОГИНОВУ   \n",
       "887       Патриарху Московскому и всея Руси Алексию II   \n",
       "\n",
       "                                               Content  \\\n",
       "0     Уважаемый Эдвард Станиславович!Примите поздра...   \n",
       "1     Дорогие друзья!Поздравляю вас со знаменательн...   \n",
       "2     Уважаемый Михаил Валентинович!Примите мои поз...   \n",
       "3     Уважаемые Ирина Александровна и Иван Александ...   \n",
       "4     Уважаемые друзья!Поздравляю вас с Днём оружей...   \n",
       "..                                                 ...   \n",
       "883   Дорогие друзья!Поздравляю вас с юбилеем – 75-...   \n",
       "884   Поздравляю коллектив института с 70-летием со...   \n",
       "885   Уважаемые друзья!Поздравляю вас с 70-летием с...   \n",
       "886   Уважаемый Владимир Александрович!Поздравляю В...   \n",
       "887   Ваше Святейшество!От всего сердца поздравляю ...   \n",
       "\n",
       "                                                   Sum  \n",
       "0    Эдварду Радзинскому, писателю, драматургу, сце...  \n",
       "1    Коллективу радиостанции «Орфей» Дорогие друзья...  \n",
       "2    Михаилу Ковальчуку, президенту НИЦ «Курчатовск...  \n",
       "3    Ирине Андреевой и Ивану Штылю, победителям чем...  \n",
       "4    Работникам и ветеранам оборонно-промышленного ...  \n",
       "..                                                 ...  \n",
       "883  Жителям Республики Мордовия Дорогие друзья!Поз...  \n",
       "884  Коллективу Института физических проблем им.П.Л...  \n",
       "885  Жителям Красноярского края Уважаемые друзья!По...  \n",
       "886  В.А.ЛОГИНОВУ Уважаемый Владимир Александрович!...  \n",
       "887  Патриарху Московскому и всея Руси Алексию II В...  \n",
       "\n",
       "[888 rows x 3 columns]"
      ]
     },
     "execution_count": 55,
     "metadata": {},
     "output_type": "execute_result"
    }
   ],
   "source": [
    "my_df['Sum'] = [my_df['Title'].tolist()[i] + my_df['Content'].tolist()[i] for i in range(len(my_df))]\n",
    "my_df"
   ]
  },
  {
   "cell_type": "markdown",
   "metadata": {
    "id": "m53Lv-DbnJEn"
   },
   "source": [
    "# **NER**"
   ]
  },
  {
   "cell_type": "code",
   "execution_count": 56,
   "metadata": {
    "id": "9F3jlCThnNp1"
   },
   "outputs": [],
   "source": [
    "emb = NewsEmbedding()\n",
    "morph_vocab = MorphVocab()\n",
    "\n",
    "names_extractor = NamesExtractor(morph_vocab)\n",
    "ner_tagger = NewsNERTagger(emb)"
   ]
  },
  {
   "cell_type": "code",
   "execution_count": 57,
   "metadata": {
    "id": "QMJbsuybnNs1"
   },
   "outputs": [],
   "source": [
    "text = \"Эдварду Радзинскому, писателю, драматургу, сценаристуКоллективу радиостанции «Орфей», Михаилу Ковальчуку, президенту НИЦ «Курчатовский институт»\"\n",
    "doc = Doc(text)"
   ]
  },
  {
   "cell_type": "code",
   "execution_count": 58,
   "metadata": {
    "colab": {
     "base_uri": "https://localhost:8080/"
    },
    "id": "UTrrMCYvwqar",
    "outputId": "e0aa4de5-6714-4c5e-9aaa-f008cd16225d"
   },
   "outputs": [
    {
     "data": {
      "text/plain": [
       "Doc(text='Эдварду Радзинскому, писателю, драматургу, сценар...)"
      ]
     },
     "execution_count": 58,
     "metadata": {},
     "output_type": "execute_result"
    }
   ],
   "source": [
    "doc"
   ]
  },
  {
   "cell_type": "code",
   "execution_count": 59,
   "metadata": {
    "id": "cXzvWpYWr4AV"
   },
   "outputs": [],
   "source": [
    "segmenter = Segmenter()\n",
    "doc.segment(segmenter)"
   ]
  },
  {
   "cell_type": "code",
   "execution_count": 60,
   "metadata": {
    "id": "w3A51rS6qhIs"
   },
   "outputs": [],
   "source": [
    "doc.tag_ner(ner_tagger)"
   ]
  },
  {
   "cell_type": "code",
   "execution_count": 61,
   "metadata": {
    "colab": {
     "base_uri": "https://localhost:8080/"
    },
    "id": "T9G9UrUxsXbQ",
    "outputId": "44472759-d429-4c38-abc0-f2c1bce9248a"
   },
   "outputs": [
    {
     "name": "stdout",
     "output_type": "stream",
     "text": [
      "DocSpan(stop=19, type='PER', text='Эдварду Радзинскому', tokens=[...])\n",
      "DocSpan(start=78, stop=83, type='ORG', text='Орфей', tokens=[...])\n",
      "DocSpan(start=86, stop=104, type='PER', text='Михаилу Ковальчуку', tokens=[...])\n",
      "DocSpan(start=117, stop=144, type='ORG', text='НИЦ «Курчатовский институт»', tokens=[...])\n"
     ]
    }
   ],
   "source": [
    "for span in doc.spans:\n",
    "    print(span)\n",
    "    # if span.type == PER:\n",
    "    #   print(span)\n"
   ]
  },
  {
   "cell_type": "markdown",
   "metadata": {
    "id": "T2Y-UJd-xr0d"
   },
   "source": [
    "***Можно маскировать как имена, так и оргинизации. Попробую для начала и то, и другое вместе.***"
   ]
  },
  {
   "cell_type": "code",
   "execution_count": 62,
   "metadata": {
    "id": "ezABk3pCxquU"
   },
   "outputs": [],
   "source": [
    "masked_content = []\n",
    "\n",
    "for sent in my_df['Content']:\n",
    "  doc = Doc(sent)\n",
    "  doc.segment(segmenter)\n",
    "  doc.tag_ner(ner_tagger)\n",
    "\n",
    "  for span in doc.spans:\n",
    "      if span.type == PER or span.type == ORG:\n",
    "          sent = sent.replace(span.text, 'MASK')\n",
    "\n",
    "  masked_content.append(sent)\n"
   ]
  },
  {
   "cell_type": "markdown",
   "metadata": {
    "id": "Zdvi0lZd0ulN"
   },
   "source": [
    "***Title оставляем прежним, маскируем контент. Модели будет скармливаться колонка с конкатенированным текстом.***"
   ]
  },
  {
   "cell_type": "code",
   "execution_count": 63,
   "metadata": {
    "colab": {
     "base_uri": "https://localhost:8080/"
    },
    "id": "xgDlr_n0xcqX",
    "outputId": "18502dba-a4e0-4bd6-9aa5-3198c5f2e8a1"
   },
   "outputs": [
    {
     "data": {
      "text/plain": [
       "['Эдварду Радзинскому, писателю, драматургу, сценаристу Уважаемый MASK!Примите поздравления с\\xa085-летием.Человек многогранного дарования и\\xa0большой созидательной энергии, Вы по\\xa0праву входите в\\xa0число признанныхдраматургов, мастеров современного театрального искусства. И\\xa0конечно, MASK знают и\\xa0любят как автора целого ряда просветительских проектов, чьётворчество завоевало сердца самой широкой аудитории, в\\xa0том числе молодёжи.Желаю доброго здоровья, благополучия и\\xa0бодростидуха. MASK     Статус материала Опубликован в\\xa0разделе: Телеграммы  Ссылка на материал: kremlin.ru/d/66751   Текстовая версия      ',\n",
       " 'Коллективу радиостанции «Орфей» Дорогие друзья!Поздравляю вас со\\xa0знаменательным юбилеем\\xa0– 30-летием радиостанции «MASK».Все эти годы ваш коллектив объединяет настоящих единомышленников, профессионалов, преданных высокому искусству, стремящихся внести свой вклад в\\xa0сбережение лучших традиций отечественной культуры. Вы сформировали обширный фонд просветительских, познавательных программ, завоевали признание людей самого разного возраста, слушателей в\\xa0России и\\xa0за\\xa0рубежом.Особо отмечу ваши уникальные медиапроекты, которые открывают широкий доступ к\\xa0онлайн-трансляциям концертов и\\xa0спектаклей, способствуют изучению и\\xa0сохранению творческого наследия выдающихся русских композиторов, воссозданию ранее утерянных музыкальных произведений и\\xa0нотных записей. Такая многогранная созидательная работа достойна глубокого уважения.Желаю новых успехов, благополучия и\\xa0всего наилучшего. MASK     Статус материала Опубликован в\\xa0разделе: Телеграммы  Ссылка на материал: kremlin.ru/d/66743   Текстовая версия      ',\n",
       " 'Михаилу Ковальчуку, президенту НИЦ «Курчатовский институт» Уважаемый MASK!Примите мои поздравления по\\xa0случаю 75-летнего юбилея.Вы по\\xa0праву входите в\\xa0число исследователей, чьи фундаментальные труды и\\xa0практические наработки способствовали созданию в\\xa0России перспективных направлений науки и\\xa0прорывных технологий, заложили основу для их эффективного развития на\\xa0годы вперёд. И\\xa0конечно, Вас ценят как талантливого педагога и\\xa0организатора, человека, наделённого большой творческой энергией, который вносит значимый личный вклад в\\xa0решение задач, стоящих перед знаменитым MASK, много сил и\\xa0времени уделяет просветительской, общественной деятельности.Желаю Вам здоровья, успехов и\\xa0реализации намеченных планов. MASK     Статус материала Опубликован в\\xa0разделе: Телеграммы  Ссылка на материал: kremlin.ru/d/66739   Текстовая версия      ']"
      ]
     },
     "execution_count": 63,
     "metadata": {},
     "output_type": "execute_result"
    }
   ],
   "source": [
    "my_df['Masked_content'] = masked_content\n",
    "my_df['Sum'] = [my_df['Title'].tolist()[i] + my_df['Masked_content'].tolist()[i] for i in range(len(my_df))]\n",
    "my_df['Sum'].to_list()[:3]"
   ]
  },
  {
   "cell_type": "markdown",
   "metadata": {
    "id": "qte3-RBYnOV3"
   },
   "source": [
    "# **PREPARE DATA FOR TRAINING**"
   ]
  },
  {
   "cell_type": "code",
   "execution_count": 65,
   "metadata": {
    "id": "COHxJSC5q2MV"
   },
   "outputs": [],
   "source": [
    "train_test_ratio = 0.9\n",
    "df_train, df_test = train_test_split(my_df, train_size = train_test_ratio, random_state = 1)\n",
    "# train_valid_ratio = 7/9\n",
    "# df_train, df_valid = train_test_split(df_full_train, train_size = train_valid_ratio, random_state = 1)"
   ]
  },
  {
   "cell_type": "markdown",
   "metadata": {
    "id": "UNZb1Jm92fAi"
   },
   "source": [
    "***Первичная очистка данных от мусора типа \"Ссылка на метериал\"***"
   ]
  },
  {
   "cell_type": "code",
   "execution_count": 66,
   "metadata": {
    "id": "NsLD1R-jq2Ow"
   },
   "outputs": [],
   "source": [
    "def build_dataset(df, dest_path):\n",
    "    f = open(dest_path, 'w')\n",
    "    data = ''\n",
    "    summaries = df['Sum'].tolist()\n",
    "\n",
    "    for summary in summaries:\n",
    "        summary = str(summary).strip()\n",
    "        summary = re.sub(r\"\\s\", \" \", summary)\n",
    "        summary = re.sub(r\"\\n\", \"\", summary)\n",
    "        summary = re.sub(r\"Статус материала Опубликован в разделе: Телеграммы\", \"\", summary)\n",
    "        summary = re.sub(r\"Ссылка на материал:\", \"\", summary)\n",
    "        summary = re.sub(r\"Текстовая версия:\", \"\", summary)\n",
    "        summary = re.sub(r\"Ссылка на материал:\", \"\", summary)\n",
    "        summary = re.sub(r\"MASK\", \"МАСК\", summary)\n",
    "        summary = re.sub(r\"([a-zA-Z]+)\", \"\", summary)\n",
    "        summary = re.sub(r\"МАСК\", \"MASK\", summary)\n",
    "        summary = re.sub(r\"([0-9/*#@+]+)\", \"\", summary)\n",
    "        data += summary\n",
    "\n",
    "    f.write(data)"
   ]
  },
  {
   "cell_type": "code",
   "execution_count": 67,
   "metadata": {
    "colab": {
     "base_uri": "https://localhost:8080/"
    },
    "id": "kgP-mpMENZsn",
    "outputId": "2f044142-3c70-4b4c-c9a7-f1a61d89c6e6"
   },
   "outputs": [
    {
     "name": "stdout",
     "output_type": "stream",
     "text": [
      " curr_congrats.txt     gpt2\t\t   onstart.log\t ru-gpts\n",
      " curr_congrats.txt.1  'my_gpt (1).ipynb'   onstart.sh\t transformers\n",
      "rm: cannot remove 'train.txt': No such file or directory\n",
      "rm: cannot remove 'test.txt': No such file or directory\n",
      " curr_congrats.txt     gpt2\t\t   onstart.log\t ru-gpts\n",
      " curr_congrats.txt.1  'my_gpt (1).ipynb'   onstart.sh\t transformers\n"
     ]
    }
   ],
   "source": [
    "!ls\n",
    "!rm 'train.txt' 'test.txt'\n",
    "!ls"
   ]
  },
  {
   "cell_type": "code",
   "execution_count": 68,
   "metadata": {
    "id": "ZVgfc00jqmkb"
   },
   "outputs": [],
   "source": [
    "build_dataset(df_train, 'train.txt')\n",
    "build_dataset(df_test, 'test.txt')\n",
    "# build_dataset(df_valid, 'valid.txt')"
   ]
  },
  {
   "cell_type": "markdown",
   "metadata": {
    "id": "V_KJAJMlWqjs"
   },
   "source": [
    "***Проверка тескста на наличие MASK***"
   ]
  },
  {
   "cell_type": "code",
   "execution_count": 69,
   "metadata": {
    "colab": {
     "base_uri": "https://localhost:8080/",
     "height": 181
    },
    "id": "r6MWV-v0V4a1",
    "outputId": "9d2a8b4a-6d41-4335-eb2c-4241f5e0c3e1"
   },
   "outputs": [
    {
     "data": {
      "text/plain": [
       "'Коллективу «Российской газеты» Дорогие друзья!Поздравляю вас со знаменательной датой – -летиемсоздания «MASK».За прошедшие годы газета стала одним из ведущихпериодических изданий страны, завоевала уважение большой читательской аудиториии авторитет в отечественном медиасообществе. Её ценят за информационнуюнаполненность, глубокий подход к освещению важнейших тем и событий, за взвешенность и основательность оценок. Отрадно, что все эти годы ваш коллективвысоко держит планку качества работы, сохраняет приверженность лучшим традициямжурналистики, расширяет линейку информационных продуктов – от публикациигосударственных документов до новостей, репортажей и серьёзной аналитики.Уверен, что вы и впредь будете добросовестнотрудиться, воплощать в жизнь востребованные творческие проекты, добиватьсяуспеха в профессиональной деятельности.Желаю вам всего наилучшего. MASK     Темы  MASK           .   Текстовая версияРаботникам и ветеранам автомобильного и городского пассажирского транспорта России Уважаемые др'"
      ]
     },
     "execution_count": 69,
     "metadata": {},
     "output_type": "execute_result"
    }
   ],
   "source": [
    "with open('train.txt') as handler:\n",
    "  readed = handler.read()\n",
    "readed[:1010]\n"
   ]
  },
  {
   "cell_type": "code",
   "execution_count": 70,
   "metadata": {
    "id": "Dt-01MWwg9q6"
   },
   "outputs": [
    {
     "data": {
      "application/vnd.jupyter.widget-view+json": {
       "model_id": "b9597b6128304235958ca865ee84559b",
       "version_major": 2,
       "version_minor": 0
      },
      "text/plain": [
       "Downloading:   0%|          | 0.00/1.63M [00:00<?, ?B/s]"
      ]
     },
     "metadata": {},
     "output_type": "display_data"
    },
    {
     "data": {
      "application/vnd.jupyter.widget-view+json": {
       "model_id": "b2ca26833b674645ac5055ff85a98646",
       "version_major": 2,
       "version_minor": 0
      },
      "text/plain": [
       "Downloading:   0%|          | 0.00/1.21M [00:00<?, ?B/s]"
      ]
     },
     "metadata": {},
     "output_type": "display_data"
    },
    {
     "data": {
      "application/vnd.jupyter.widget-view+json": {
       "model_id": "d348526e87cb4b2a930c264da260d1b2",
       "version_major": 2,
       "version_minor": 0
      },
      "text/plain": [
       "Downloading:   0%|          | 0.00/608 [00:00<?, ?B/s]"
      ]
     },
     "metadata": {},
     "output_type": "display_data"
    }
   ],
   "source": [
    "# tokenizer = AutoTokenizer.from_pretrained(\"anonymous-german-nlp/german-gpt2\")\n",
    "tokenizer = GPT2Tokenizer.from_pretrained(\"sberbank-ai/rugpt3small_based_on_gpt2\")\n",
    " \n",
    "train_path = 'train.txt'\n",
    "test_path = 'test.txt'"
   ]
  },
  {
   "cell_type": "code",
   "execution_count": 71,
   "metadata": {
    "colab": {
     "base_uri": "https://localhost:8080/"
    },
    "id": "IQNJ3ZUeUlS1",
    "outputId": "727dd7c6-7c56-4c09-a1ca-dcba7d4fd344"
   },
   "outputs": [
    {
     "name": "stdout",
     "output_type": "stream",
     "text": [
      "rm: cannot remove './gpt-letters': No such file or directory\r\n"
     ]
    }
   ],
   "source": [
    "!rm ./gpt-letters"
   ]
  },
  {
   "cell_type": "code",
   "execution_count": 72,
   "metadata": {
    "colab": {
     "base_uri": "https://localhost:8080/"
    },
    "id": "KMuzZ8pbkcLE",
    "outputId": "9ccb336f-b7ae-462e-eaee-5a2b666e314e"
   },
   "outputs": [
    {
     "name": "stderr",
     "output_type": "stream",
     "text": [
      "/opt/conda/lib/python3.7/site-packages/transformers/data/datasets/language_modeling.py:58: FutureWarning: This dataset will be removed from the library soon, preprocessing should be handled with the 🤗 Datasets library. You can have a look at this example script for pointers: https://github.com/huggingface/transformers/blob/master/examples/pytorch/language-modeling/run_mlm.py\n",
      "  FutureWarning,\n"
     ]
    }
   ],
   "source": [
    "from transformers import TextDataset, DataCollatorForLanguageModeling\n",
    "\n",
    "def load_dataset(train_path,test_path,tokenizer):\n",
    "    train_dataset = TextDataset(\n",
    "          tokenizer=tokenizer,\n",
    "          file_path=train_path,\n",
    "          block_size=128)\n",
    "     \n",
    "    test_dataset = TextDataset(\n",
    "          tokenizer=tokenizer,\n",
    "          file_path=test_path,\n",
    "          block_size=128)   \n",
    "    \n",
    "    data_collator = DataCollatorForLanguageModeling(\n",
    "        tokenizer=tokenizer, mlm=False,\n",
    "    )\n",
    "    return train_dataset, test_dataset, data_collator\n",
    "\n",
    "train_dataset, test_dataset, data_collator = load_dataset(train_path, test_path, tokenizer)"
   ]
  },
  {
   "cell_type": "markdown",
   "metadata": {
    "id": "kX8ez-MZMTKA"
   },
   "source": [
    "## **TRAIN MODEL**"
   ]
  },
  {
   "cell_type": "code",
   "execution_count": 73,
   "metadata": {
    "id": "BJsgeivCkkKa"
   },
   "outputs": [
    {
     "data": {
      "application/vnd.jupyter.widget-view+json": {
       "model_id": "be327999d1694f97a32221a5bb65bcc2",
       "version_major": 2,
       "version_minor": 0
      },
      "text/plain": [
       "Downloading:   0%|          | 0.00/526M [00:00<?, ?B/s]"
      ]
     },
     "metadata": {},
     "output_type": "display_data"
    },
    {
     "name": "stderr",
     "output_type": "stream",
     "text": [
      "/opt/conda/lib/python3.7/site-packages/torch/cuda/__init__.py:80: UserWarning: CUDA initialization: CUDA driver initialization failed, you might not have a CUDA gpu. (Triggered internally at  /opt/conda/conda-bld/pytorch_1634272168290/work/c10/cuda/CUDAFunctions.cpp:112.)\n",
      "  return torch._C._cuda_getDeviceCount() > 0\n"
     ]
    }
   ],
   "source": [
    "from transformers import Trainer, TrainingArguments, AutoModelWithLMHead\n",
    "\n",
    "model = GPT2LMHeadModel.from_pretrained(\"sberbank-ai/rugpt3small_based_on_gpt2\")\n",
    "\n",
    "\n",
    "training_args = TrainingArguments(\n",
    "    output_dir=\"./gpt-letters\", #The output directory\n",
    "    overwrite_output_dir=True, #overwrite the content of the output directory\n",
    "    # num_train_epochs=3, # number of training epochs\n",
    "    # per_device_train_batch_size=32, # batch size for training\n",
    "    # per_device_eval_batch_size=64,  # batch size for evaluation\n",
    "    num_train_epochs=6, # number of training epochs\n",
    "    per_device_train_batch_size=32, # batch size for training\n",
    "    per_device_eval_batch_size=16,  # batch size for evaluation\n",
    "    eval_steps = 400, # Number of update steps between two evaluations.\n",
    "    save_steps=150, # after # steps model is saved \n",
    "    warmup_steps=500,# number of warmup steps for learning rate scheduler\n",
    "    prediction_loss_only=True,\n",
    "    )\n",
    "\n",
    "\n",
    "trainer = Trainer(\n",
    "    model=model,\n",
    "    args=training_args,\n",
    "    data_collator=data_collator,\n",
    "    train_dataset=train_dataset,\n",
    "    eval_dataset=test_dataset,\n",
    ")"
   ]
  },
  {
   "cell_type": "code",
   "execution_count": 74,
   "metadata": {
    "colab": {
     "base_uri": "https://localhost:8080/",
     "height": 203
    },
    "id": "LYVx4OsGk3DP",
    "outputId": "cc879143-1083-48f6-9988-bd6ac3f07cc9"
   },
   "outputs": [
    {
     "name": "stderr",
     "output_type": "stream",
     "text": [
      "***** Running training *****\n",
      "  Num examples = 989\n",
      "  Num Epochs = 6\n",
      "  Instantaneous batch size per device = 32\n",
      "  Total train batch size (w. parallel, distributed & accumulation) = 32\n",
      "  Gradient Accumulation steps = 1\n",
      "  Total optimization steps = 186\n"
     ]
    },
    {
     "data": {
      "text/html": [
       "\n",
       "    <div>\n",
       "      \n",
       "      <progress value='186' max='186' style='width:300px; height:20px; vertical-align: middle;'></progress>\n",
       "      [186/186 1:06:05, Epoch 6/6]\n",
       "    </div>\n",
       "    <table border=\"1\" class=\"dataframe\">\n",
       "  <thead>\n",
       "    <tr style=\"text-align: left;\">\n",
       "      <th>Step</th>\n",
       "      <th>Training Loss</th>\n",
       "    </tr>\n",
       "  </thead>\n",
       "  <tbody>\n",
       "  </tbody>\n",
       "</table><p>"
      ],
      "text/plain": [
       "<IPython.core.display.HTML object>"
      ]
     },
     "metadata": {},
     "output_type": "display_data"
    },
    {
     "name": "stderr",
     "output_type": "stream",
     "text": [
      "Saving model checkpoint to ./gpt-letters/checkpoint-150\n",
      "Configuration saved in ./gpt-letters/checkpoint-150/config.json\n",
      "Model weights saved in ./gpt-letters/checkpoint-150/pytorch_model.bin\n",
      "\n",
      "\n",
      "Training completed. Do not forget to share your model on huggingface.co/models =)\n",
      "\n",
      "\n"
     ]
    },
    {
     "data": {
      "text/plain": [
       "TrainOutput(global_step=186, training_loss=2.572518789640037, metrics={'train_runtime': 3987.6936, 'train_samples_per_second': 1.488, 'train_steps_per_second': 0.047, 'total_flos': 387626729472000.0, 'train_loss': 2.572518789640037, 'epoch': 6.0})"
      ]
     },
     "execution_count": 74,
     "metadata": {},
     "output_type": "execute_result"
    }
   ],
   "source": [
    "trainer.train()"
   ]
  },
  {
   "cell_type": "code",
   "execution_count": 75,
   "metadata": {
    "id": "h_hdlyW_k61Z"
   },
   "outputs": [
    {
     "name": "stderr",
     "output_type": "stream",
     "text": [
      "Saving model checkpoint to ./gpt-letters\n",
      "Configuration saved in ./gpt-letters/config.json\n",
      "Model weights saved in ./gpt-letters/pytorch_model.bin\n"
     ]
    }
   ],
   "source": [
    "trainer.save_model()"
   ]
  },
  {
   "cell_type": "code",
   "execution_count": 76,
   "metadata": {
    "id": "0BQfswfh3XXc"
   },
   "outputs": [
    {
     "name": "stderr",
     "output_type": "stream",
     "text": [
      "loading configuration file ./gpt-letters/config.json\n",
      "Model config GPT2Config {\n",
      "  \"_name_or_path\": \"./gpt-letters\",\n",
      "  \"activation_function\": \"gelu_new\",\n",
      "  \"architectures\": [\n",
      "    \"GPT2LMHeadModel\"\n",
      "  ],\n",
      "  \"attn_pdrop\": 0.1,\n",
      "  \"bos_token_id\": 50256,\n",
      "  \"embd_pdrop\": 0.1,\n",
      "  \"eos_token_id\": 50256,\n",
      "  \"gradient_checkpointing\": false,\n",
      "  \"initializer_range\": 0.02,\n",
      "  \"layer_norm_epsilon\": 1e-05,\n",
      "  \"model_type\": \"gpt2\",\n",
      "  \"n_ctx\": 2048,\n",
      "  \"n_embd\": 768,\n",
      "  \"n_head\": 12,\n",
      "  \"n_inner\": null,\n",
      "  \"n_layer\": 12,\n",
      "  \"n_positions\": 2048,\n",
      "  \"reorder_and_upcast_attn\": false,\n",
      "  \"resid_pdrop\": 0.1,\n",
      "  \"scale_attn_by_inverse_layer_idx\": false,\n",
      "  \"scale_attn_weights\": true,\n",
      "  \"summary_activation\": null,\n",
      "  \"summary_first_dropout\": 0.1,\n",
      "  \"summary_proj_to_labels\": true,\n",
      "  \"summary_type\": \"cls_index\",\n",
      "  \"summary_use_proj\": true,\n",
      "  \"torch_dtype\": \"float32\",\n",
      "  \"transformers_version\": \"4.15.0\",\n",
      "  \"use_cache\": true,\n",
      "  \"vocab_size\": 50264\n",
      "}\n",
      "\n",
      "loading configuration file ./gpt-letters/config.json\n",
      "Model config GPT2Config {\n",
      "  \"_name_or_path\": \"./gpt-letters\",\n",
      "  \"activation_function\": \"gelu_new\",\n",
      "  \"architectures\": [\n",
      "    \"GPT2LMHeadModel\"\n",
      "  ],\n",
      "  \"attn_pdrop\": 0.1,\n",
      "  \"bos_token_id\": 50256,\n",
      "  \"embd_pdrop\": 0.1,\n",
      "  \"eos_token_id\": 50256,\n",
      "  \"gradient_checkpointing\": false,\n",
      "  \"initializer_range\": 0.02,\n",
      "  \"layer_norm_epsilon\": 1e-05,\n",
      "  \"model_type\": \"gpt2\",\n",
      "  \"n_ctx\": 2048,\n",
      "  \"n_embd\": 768,\n",
      "  \"n_head\": 12,\n",
      "  \"n_inner\": null,\n",
      "  \"n_layer\": 12,\n",
      "  \"n_positions\": 2048,\n",
      "  \"reorder_and_upcast_attn\": false,\n",
      "  \"resid_pdrop\": 0.1,\n",
      "  \"scale_attn_by_inverse_layer_idx\": false,\n",
      "  \"scale_attn_weights\": true,\n",
      "  \"summary_activation\": null,\n",
      "  \"summary_first_dropout\": 0.1,\n",
      "  \"summary_proj_to_labels\": true,\n",
      "  \"summary_type\": \"cls_index\",\n",
      "  \"summary_use_proj\": true,\n",
      "  \"torch_dtype\": \"float32\",\n",
      "  \"transformers_version\": \"4.15.0\",\n",
      "  \"use_cache\": true,\n",
      "  \"vocab_size\": 50264\n",
      "}\n",
      "\n",
      "loading weights file ./gpt-letters/pytorch_model.bin\n",
      "All model checkpoint weights were used when initializing GPT2LMHeadModel.\n",
      "\n",
      "All the weights of GPT2LMHeadModel were initialized from the model checkpoint at ./gpt-letters.\n",
      "If your task is similar to the task the model of the checkpoint was trained on, you can already use GPT2LMHeadModel for predictions without further training.\n"
     ]
    }
   ],
   "source": [
    "# my_model = torch.load('./gpt-letters/pytorch_model.bin')\n",
    "from transformers import pipeline\n",
    "\n",
    "pu = pipeline('text-generation',model='./gpt-letters', tokenizer=tokenizer, max_length=500)"
   ]
  },
  {
   "cell_type": "code",
   "execution_count": 77,
   "metadata": {
    "id": "U1npn-k-5olF"
   },
   "outputs": [
    {
     "name": "stderr",
     "output_type": "stream",
     "text": [
      "Setting `pad_token_id` to `eos_token_id`:50256 for open-end generation.\n"
     ]
    },
    {
     "data": {
      "text/plain": [
       "'Александру Сергеевичу Пушкину, народному артисту России Уважаемый MASK!Примите поздравления с -летием.Вы по праву принадлежите к числу выдающихся представителей отечественной культуры, чьи произведения пользуются неизменным успехом и по праву считаются классикой отечественной литературы.Уверен, что и впредь Вы будете радовать своих почитателей интересными, востребованными произведениями.Желаю Вам здоровья, благополучия и всего самого доброго. MASK       .   Текстовая версияАлександру Пушкину, народному артисту России Уважаемый MASK!Примите поздравления с -летием.Вы по праву принадлежите к числу выдающихся представителей отечественной культуры, чьи произведения пользуются неизменным успехом и по праву считаются классикой отечественной литературы.Желаю Вам здоровья, благополучия и всего самого доброго. MASK       .   Текстовая версияАлександру Пушкину, народному артисту России Уважаемый MASK!Примите поздравления с -летием.Вы по праву принадлежите к числу выдающихся представителей отечественной культуры, чьи произведения пользуются неизменным успехом и по праву считаются классикой отечественной литературы.Уверен, что и впредь Вы будете радовать своих почитателей интересными, востребованными произведениями.Желаю Вам здоровья, благополучия и всего самого доброго. MASK       .   Текстовая версияАлександру Пушкину, народному артисту России Уважаемый MASK!Примите поздравления с -летием.Вы по праву принадлежите к числу выдающихся представителей отечественной культуры, чьи произведения пользуются неизменным успехом и по праву считаются классикой отечественной литературы.Уверен, что и впредь Вы будете радовать своих почитателей интересными, востребованными произведениями.Желаю Вам здоровья, благополучия и всего самого доброго. MASK       .   Текстовая версияАлександру Пушкину, народному артисту России Уважаемый MASK!Примите поздравления с -летием.Вы по праву принадлежите к числу выдающихся представителей отечественной культуры, чьи произведения пользуются неизменным успехом и по праву считаются классикой отечественной литературы.MASK       .   Текстовая версияАлександру Пушкину, народному артисту России Уважаемый MASK!Примите поздравления с -летием.Вы по праву принадлежите к числу выдающихся представителей отечественной культуры, чьи произведения пользуются неизменным успехом и по праву считаются классикой отечественной литературы.Уверен, что и впредь Вы будете радовать своих почитателей интересными, востребованными произведениями.MASK       .   Текстовая версияАлександру Пуш'"
      ]
     },
     "execution_count": 77,
     "metadata": {},
     "output_type": "execute_result"
    }
   ],
   "source": [
    "pu(\"Александру Сергеевичу Пушкину\")[0]['generated_text']"
   ]
  },
  {
   "cell_type": "code",
   "execution_count": 78,
   "metadata": {
    "id": "mUizYI4HlGHb"
   },
   "outputs": [
    {
     "name": "stderr",
     "output_type": "stream",
     "text": [
      "Setting `pad_token_id` to `eos_token_id`:50256 for open-end generation.\n"
     ]
    },
    {
     "data": {
      "text/plain": [
       "'Кровавым убийцам детей и молодёжи Уважаемые друзья!Поздравляю вас с -летием создания MASK.За прошедшие годы коллективу MASK удалось добиться выдающихся успехов в различных сферах деятельности, в том числе в сфере образования, культуры, спорта, в сфере культуры и искусства.Уверен, что и впредь вы будете достойно нести вахту на благо Отечества.Желаю вам новых успехов и всего самого доброго. MASK       .   Текстовая версияКоллективу и ветеранам Государственного музея-заповедника «Куликово поле» Дорогие друзья!Поздравляю вас с -летием создания MASK.За прошедшие годы коллективу и ветеранам MASK удалось добиться выдающихся успехов в различных сферах деятельности, в том числе в сфере образования, культуры, спорта, в сфере культуры и искусства.Уверен, что и впредь вы будете достойно нести вахту на благо Отечества.Желаю вам новых успехов и всего самого доброго. MASK       .   Текстовая версияКоллективу и ветеранам Государственного музея-заповедника «Куликово поле» Дорогие друзья!Поздравляю вас с -летием создания MASK.За прошедшие годы коллективу и ветеранам MASK удалось добиться выдающихся успехов в различных сферах деятельности, в том числе в сфере образования, культуры, спорта, в сфере культуры и искусства.Желаю вам новых успехов и всего самого доброго.MASK       .   Текстовая версияКоллективу и ветеранам Государственного музея-заповедника «Куликово поле» Дорогие друзья!Поздравляю вас с -летием создания MASK.За прошедшие годы коллективу и ветеранам MASK удалось добиться выдающихся успехов в различных сферах деятельности, в том числе в сфере образования, культуры, спорта, в сфере культуры и искусства.Уверен, что и впредь вы будете достойно нести вахту на благо Отечества.MASK       .   Текстовая версияКоллективу и ветеранам Государственного музея-заповедника «Куликово поле» Дорогие друзья!Поздравляю вас с -летием создания MASK.За прошедшие годы коллективу и ветеранам MASK удалось добиться выдающихся успехов в различных сферах деятельности, в том числе в сфере образования, культуры, спорта, в сфере культуры и искусства.Уверен, что и впредь вы будете достойно нести вахту на благо Отечества.MASK       .   Текстовая версияКоллектив'"
      ]
     },
     "execution_count": 78,
     "metadata": {},
     "output_type": "execute_result"
    }
   ],
   "source": [
    "pu(\"Кровавым убийцам детей\")[0]['generated_text']"
   ]
  },
  {
   "cell_type": "code",
   "execution_count": 79,
   "metadata": {
    "id": "Lk-tHC1939g-"
   },
   "outputs": [
    {
     "name": "stderr",
     "output_type": "stream",
     "text": [
      "Setting `pad_token_id` to `eos_token_id`:50256 for open-end generation.\n"
     ]
    },
    {
     "data": {
      "text/plain": [
       "'Уважаемые осквернители святынь и насильники!Поздравляю вас с -летием создания MASK.Вы по праву принадлежите к числу выдающихся деятелей отечественной культуры, которые внесли значимый вклад в развитие отечественной культуры, внесли значимый вклад в укрепление межнационального мира и согласия, в укрепление межрелигиозного согласия.Уверен, что и впредь вы будете достойно нести свой гражданский, патриотический, просветительский, просветительский, просветительский, просветительский, просветительский, просветительский, просветительский, просветительский, просветительский, просветительский, просветительский, просветительский, просветительский, просветительский, просветительский, просветительский, просветительский, просветительский, просветительский, просветительский, просветительский, просветительский, просветительский, просветительский, просветительский, просветительский, просветительский, просветительский, просветительский, просветительский, просветительский, просветительский, просветительский, просветительский, просветительский, просветительский, просветительский, просветительский, просветительский, просветительский, просветительский, просветительский, просветительский, просветительский, просветительский, просветительский, просветительский, просветительский, просветительский, просветительский, просветительский, просветительский, просветительский, просветительский, просветительский, просветительский, просветительский, просветительский, просветительский, просветительский, просветительский, просветительский, просветительский, просветительский, просветительский, просветительский, просветительский, просветительский, просветительский, просветительский, просветительский, просветительский, просветительский, просветительский, просветительский, просветительский, просветительский, просветительский, просветительский, просветительский, просветительский, просветительский, просветительский, просветительский, просветительский, просветительский, просветительский, просветительский, просветительский, просветительский, просветительский, просветительский, просветительский, просветительский, просветительский, просветительский, просветительский, просветительский, просветительский, просветительский, просветительский, просветительский, просветительский, просветительский, просвет'"
      ]
     },
     "execution_count": 79,
     "metadata": {},
     "output_type": "execute_result"
    }
   ],
   "source": [
    "pu(\"Уважаемые осквернители святынь и насильники\")[0]['generated_text']"
   ]
  },
  {
   "cell_type": "code",
   "execution_count": 80,
   "metadata": {
    "id": "KHJyOCWrpwuO"
   },
   "outputs": [
    {
     "name": "stderr",
     "output_type": "stream",
     "text": [
      "Setting `pad_token_id` to `eos_token_id`:50256 for open-end generation.\n"
     ]
    },
    {
     "data": {
      "text/plain": [
       "'Хочу сказать этому Обэме, что вы по праву принадлежите к числу тех, кто по праву гордится своими корнями и традициями, которые легли в основу создания MASK. И конечно, в нашей стране, в нашей стране, в мире, в мире, в нашей стране всегда ценились и будут цениться такие качества, как верность избранному делу, преданность идеалам справедливости и справедливости, преданность своему народу, преданность своему народу. И конечно, в нашей стране, в нашей стране всегда ценились и будут цениться такие качества, как верность избранному делу, преданность своему народу, преданность своему народу, преданность своему народу.Желаю вам успехов и всего наилучшего. MASK       .   Текстовая версияКоллективу и ветеранам Государственного академического театра имени А.П.Чехова Дорогие друзья!Поздравляю вас с -летием создания MASK.За прошедшие годы театр стал одним из крупнейших в России и за рубежом, стал настоящим символом высокого профессионализма и творческого потенциала, подлинного мастерства и мастерства. И конечно, в юбилейный год MASK отмечает свой юбилей.Желаю вам новых творческих успехов, здоровья и всего самого доброго. MASK       .   Текстовая версияКоллективу и ветеранам Государственного академического театра имени А.П.Чехова Дорогие друзья!Поздравляю вас с -летием создания MASK.За прошедшие годы театр стал одним из крупнейших в России и за рубежом, стал настоящим символом высокого профессионализма и творческого потенциала, подлинного мастерства и мастерства. И конечно, в юбилейный год MASK отмечает свой юбилей.Желаю вам новых творческих успехов, здоровья и всего самого доброго. MASK       .   Текстовая версияКоллективу и ветеранам Государственного академического театра имени А.П.Чехова Дорогие друзья!Поздравляю вас с -летием создания MASK.За прошедшие годы театр стал одним из крупнейших в России и за рубежом, стал настоящим символом высокого профессионализма и творческого потенциала, подлинного мастерства и мастерства.Желаю вам новых творческих успехов, здоровья и всего самого доброго. MASK       .   Текстовая версияКоллективу и ветеранам Государственного академического театра имени А.П.Чехова Дорогие друзья!Поздравляю вас с -летием создания MASK.За прошедшие годы театр стал одним из крупнейших в России и за рубежом, стал настоящим символом высокого профессионализма и творческого потенциала'"
      ]
     },
     "execution_count": 80,
     "metadata": {},
     "output_type": "execute_result"
    }
   ],
   "source": [
    "pu(\"Хочу сказать этому Обэме\")[0]['generated_text']"
   ]
  },
  {
   "cell_type": "code",
   "execution_count": 81,
   "metadata": {
    "id": "gNRcJwBw3WFP"
   },
   "outputs": [
    {
     "name": "stderr",
     "output_type": "stream",
     "text": [
      "Setting `pad_token_id` to `eos_token_id`:50256 for open-end generation.\n"
     ]
    },
    {
     "data": {
      "text/plain": [
       "'Куцеву Диме, победителю  Всемирной летней Универсиады  года в Казани в соревнованиях по греко-римской борьбе в весовой категории  кг Уважаемый MASK!Поздравляю Вас с триумфом.Вы блестяще выступили на  Всемирной летней Универсиаде в Казани.Уверен, что и впредь Вы будете достойно представлять Россию на  Всемирной летней Универсиаде.Желаю Вам новых успехов и всего наилучшего. MASK       .   Текстовая версияКоллективу и ветеранам АО «MASK» Дорогие друзья!Поздравляю вас с -летием создания АО «MASK».За прошедшие годы АО «MASK» накопило большой опыт в решении задач, стоящих перед компанией, в решении задач, стоящих перед её филиалами.За прошедшие годы АО «MASK» накопило большой опыт в решении задач, стоящих перед компанией, в решении задач, стоящих перед её филиалами.За прошедшие годы АО «MASK» накопило большой опыт в решении задач, стоящих перед компанией, в решении задач, стоящих перед её филиалами.За прошедшие годы АО «MASK» накопило большой опыт в решении задач, стоящих перед компанией, в решении задач, стоящих перед её филиалами.Желаю Вам крепкого здоровья, благополучия и всего наилучшего. MASK       .   Текстовая версияКоллективу и ветеранам АО «MASK» Дорогие друзья!Поздравляю вас с -летием создания АО «MASK».За прошедшие годы АО «MASK» накопило большой опыт в решении задач, стоящих перед компанией, в решении задач, стоящих перед её филиалами.За прошедшие годы АО «MASK» накопило большой опыт в решении задач, стоящих перед компанией, в решении задач, стоящих перед её филиалами.Желаю Вам крепкого здоровья, благополучия и всего наилучшего.Желаю Вам крепкого здоровья, благополучия и всего наилучшего. MASK       .   Текстовая версияКоллективу и ветеранам АО «MASK» Дорогие друзья!Поздравляю вас с -летием создания АО «MASK».За прошедшие годы АО «MASK» накопило большой опыт в решении задач, стоящих перед компанией, в решении задач, стоящих перед ее филиалами.За прошедшие годы АО «MASK» накопило большой опыт в решении задач, стоящих перед компанией, в решении задач, стоящих перед ее'"
      ]
     },
     "execution_count": 81,
     "metadata": {},
     "output_type": "execute_result"
    }
   ],
   "source": [
    "pu(\"Куцеву Диме\")[0]['generated_text']"
   ]
  },
  {
   "cell_type": "code",
   "execution_count": 82,
   "metadata": {
    "id": "2w_8w7Vh3ujp"
   },
   "outputs": [
    {
     "name": "stderr",
     "output_type": "stream",
     "text": [
      "Setting `pad_token_id` to `eos_token_id`:50256 for open-end generation.\n"
     ]
    },
    {
     "data": {
      "text/plain": [
       "'Мычалкин, заслуженный мастер спорта СССР, заслуженный мастер спорта СССР, заслуженный мастер спорта СССР, заслуженный мастер спорта СССР, заслуженный мастер спорта СССР, заслуженный мастер спорта СССР, заслуженный мастер спорта СССР, заслуженный мастер спорта СССР, заслуженный мастер спорта СССР, заслуженный мастер спорта СССР, заслуженный мастер спорта СССР, заслуженный мастер спорта СССР, заслуженный мастер спорта СССР, заслуженный мастер спорта СССР, заслуженный мастер спорта СССР, заслуженный мастер спорта СССР, заслуженный мастер спорта СССР, заслуженный мастер спорта СССР, заслуженный мастер спорта СССР, заслуженный мастер спорта СССР, заслуженный мастер спорта СССР, заслуженный мастер спорта СССР, заслуженный мастер спорта СССР, заслуженный мастер спорта СССР, заслуженный мастер спорта СССР, заслуженный мастер спорта СССР, заслуженный мастер спорта СССР, заслуженный мастер спорта СССР, заслуженный мастер спорта СССР, заслуженный мастер спорта СССР, заслуженный мастер спорта СССР, заслуженный мастер спорта СССР, заслуженный мастер спорта СССР, заслуженный мастер спорта СССР, заслуженный мастер спорта СССР, заслуженный мастер спорта СССР, заслуженный мастер спорта СССР, заслуженный мастер спорта СССР, заслуженный мастер спорта СССР, заслуженный мастер спорта СССР, заслуженный мастер спорта СССР, заслуженный мастер спорта СССР, заслуженный мастер спорта СССР, заслуженный мастер спорта СССР, заслуженный мастер спорта СССР, заслуженный мастер спорта СССР, заслуженный мастер спорта СССР, заслуженный мастер спорта СССР, заслуженный мастер спорта СССР, заслуженный мастер спорта СССР, заслуженный мастер спорта СССР, заслуженный мастер спорта СССР, заслуженный мастер спорта СССР, заслуженный мастер спорта СССР, заслуженный мастер спорта СССР, заслуженный мастер спорта СССР, заслуженный мастер спорта СССР, заслуженный мастер спорта СССР, заслуженный мастер спорта СССР, заслуженный мастер спорта СССР, заслуженный мастер спорта СССР, заслуженный мастер спорта СССР, заслуженный мастер спорта СССР, заслуженный мастер спорта СССР, заслуженный мастер спорта СССР, заслуженный мастер спорта СССР, заслуженный мастер спорта СССР, заслуженный мастер спорта СССР, заслуженный мастер спорта СССР, заслуженный мастер спорта СССР, заслуженный мастер спорта СССР, заслуженный мастер спорта СССР, заслуженный мастер спорта СССР, заслуженный мастер спорта СССР, заслуженный мастер спорта СССР, заслуженный мастер спорта СССР, заслуженный мастер спорта СССР, заслуженный мастер спорта СССР, заслуженный мастер спорта СССР, заслуженный мастер спорта СССР, заслуженный мастер спорта СССР, заслуженный мастер спорта СССР, заслуженный мастер спорта СССР, заслуженный мастер спорта СССР, заслуженный мастер спорта СССР, заслуженный мастер спорта СССР, заслуженный мастер спорта СССР, заслуженный мастер спорта СССР, заслуженный мастер спорта СССР, заслуженный мастер спорта СССР, заслуженный мастер спорта СССР, заслуженный мастер спорта СССР, заслуженный мастер спорта СССР, заслуженный мастер спорта СССР, заслуженный мастер спорта СССР, заслуженный мастер спорта СССР, заслуженный мастер спорта СССР, заслуженный мастер спорта СССР, заслуженный мастер спорта СССР, заслуженный'"
      ]
     },
     "execution_count": 82,
     "metadata": {},
     "output_type": "execute_result"
    }
   ],
   "source": [
    "pu(\"Мычалкин\")[0]['generated_text']"
   ]
  },
  {
   "cell_type": "code",
   "execution_count": 83,
   "metadata": {
    "id": "rVVyNqyngcNM"
   },
   "outputs": [
    {
     "name": "stderr",
     "output_type": "stream",
     "text": [
      "Setting `pad_token_id` to `eos_token_id`:50256 for open-end generation.\n"
     ]
    },
    {
     "data": {
      "text/plain": [
       "'Куцев Дима, победитель  Всемирной летней Универсиады  года в Казани в соревнованиях по лёгкой атлетике в дисциплине бег на  метров Уважаемый MASK!Поздравляю Вас с триумфом.Вы блестяще выступили на  Всемирной летней Универсиаде в Казани.Уверен, что и впредь Вы будете достойно представлять нашу страну на  Всемирной летней Универсиаде.Желаю Вам новых успехов и всего наилучшего. MASK       .   Текстовая версияКоллективу и ветеранам АО «MASK» Дорогие друзья!Поздравляю вас с -летием со дня образования АО «MASK».За прошедшие годы АО «MASK» накопило большой опыт в решении задач, стоящих перед компанией, в решении задач, стоящих перед её филиалами.За прошедшие годы АО «MASK» накопило большой опыт в решении задач, стоящих перед компанией, в решении задач, стоящих перед её филиалами.За прошедшие годы АО «MASK» накопило большой опыт в решении задач, стоящих перед компанией, в решении задач, стоящих перед её филиалами.За прошедшие годы АО «MASK» накопило большой опыт в решении задач, стоящих перед компанией, в решении задач, стоящих перед её филиалами.Желаю Вам крепкого здоровья, благополучия и всего наилучшего. MASK       .   Текстовая версияКоллективу и ветеранам АО «MASK» Дорогие друзья!Поздравляю вас с -летием со дня образования АО «MASK».За прошедшие годы АО «MASK» накопило большой опыт в решении задач, стоящих перед компанией, в решении задач, стоящих перед её филиалами.За прошедшие годы АО «MASK» накопило большой опыт в решении задач, стоящих перед компанией, в решении задач, стоящих перед её филиалами.Желаю Вам крепкого здоровья, благополучия и всего наилучшего.Желаю Вам крепкого здоровья, благополучия и всего наилучшего. MASK       .   Текстовая версияКоллективу и ветеранам АО «MASK» Дорогие друзья!Поздравляю вас с -летием со дня образования АО «MASK».За прошедшие годы АО «MASK» накопило большой опыт в решении задач, стоящих перед компанией, в решении задач, стоящих перед ее филиалами.За прошедшие годы АО «MASK» накопило большой опыт в решении задач, стоящих перед компанией, в решении задач,'"
      ]
     },
     "execution_count": 83,
     "metadata": {},
     "output_type": "execute_result"
    }
   ],
   "source": [
    "pu(\"Куцев Дима\")[0]['generated_text']"
   ]
  },
  {
   "cell_type": "code",
   "execution_count": null,
   "metadata": {},
   "outputs": [
    {
     "name": "stderr",
     "output_type": "stream",
     "text": [
      "Setting `pad_token_id` to `eos_token_id`:50256 for open-end generation.\n"
     ]
    }
   ],
   "source": [
    "pu(\"Дмитрий\")[0]['generated_text']"
   ]
  },
  {
   "cell_type": "code",
   "execution_count": null,
   "metadata": {},
   "outputs": [],
   "source": [
    "pu(\"Дмитрию\")[0]['generated_text']"
   ]
  },
  {
   "cell_type": "code",
   "execution_count": null,
   "metadata": {},
   "outputs": [],
   "source": []
  }
 ],
 "metadata": {
  "colab": {
   "collapsed_sections": [
    "JPATuJNXNibP"
   ],
   "name": "Copy of Untitled67.ipynb",
   "provenance": []
  },
  "kernelspec": {
   "display_name": "Python 3 (ipykernel)",
   "language": "python",
   "name": "python3"
  },
  "language_info": {
   "codemirror_mode": {
    "name": "ipython",
    "version": 3
   },
   "file_extension": ".py",
   "mimetype": "text/x-python",
   "name": "python",
   "nbconvert_exporter": "python",
   "pygments_lexer": "ipython3",
   "version": "3.7.11"
  }
 },
 "nbformat": 4,
 "nbformat_minor": 1
}
