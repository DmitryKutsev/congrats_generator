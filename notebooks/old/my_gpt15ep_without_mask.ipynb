{
 "cells": [
  {
   "cell_type": "markdown",
   "metadata": {
    "id": "MeNPO4kQhEh5"
   },
   "source": [
    "https://colab.research.google.com/github/sberbank-ai/ru-gpts/blob/master/examples/Finetune_RuGPTs_with_HF.ipynb#scrollTo=aZ-4Kav28cH0\n",
    "\n",
    "\n"
   ]
  },
  {
   "cell_type": "markdown",
   "metadata": {
    "id": "JPATuJNXNibP"
   },
   "source": [
    "# **IMPORT**"
   ]
  },
  {
   "cell_type": "code",
   "execution_count": 1,
   "metadata": {},
   "outputs": [
    {
     "name": "stdout",
     "output_type": "stream",
     "text": [
      "Hit:1 http://archive.ubuntu.com/ubuntu bionic InRelease\n",
      "Hit:2 http://archive.ubuntu.com/ubuntu bionic-updates InRelease                \n",
      "Hit:3 http://security.ubuntu.com/ubuntu bionic-security InRelease              \n",
      "Hit:4 http://archive.ubuntu.com/ubuntu bionic-backports InRelease\n",
      "Reading package lists... Done                     \n"
     ]
    }
   ],
   "source": [
    "!apt-get update"
   ]
  },
  {
   "cell_type": "code",
   "execution_count": 2,
   "metadata": {},
   "outputs": [
    {
     "name": "stdout",
     "output_type": "stream",
     "text": [
      "Reading package lists... Done\n",
      "Building dependency tree       \n",
      "Reading state information... Done\n",
      "wget is already the newest version (1.19.4-1ubuntu2.2).\n",
      "0 upgraded, 0 newly installed, 0 to remove and 4 not upgraded.\n"
     ]
    }
   ],
   "source": [
    "!apt-get -y install wget"
   ]
  },
  {
   "cell_type": "code",
   "execution_count": 3,
   "metadata": {},
   "outputs": [
    {
     "name": "stdout",
     "output_type": "stream",
     "text": [
      "Reading package lists... Done\n",
      "Building dependency tree       \n",
      "Reading state information... Done\n",
      "git is already the newest version (1:2.17.1-1ubuntu0.9).\n",
      "0 upgraded, 0 newly installed, 0 to remove and 4 not upgraded.\n"
     ]
    }
   ],
   "source": [
    "!apt-get -y install git"
   ]
  },
  {
   "cell_type": "code",
   "execution_count": 4,
   "metadata": {},
   "outputs": [
    {
     "name": "stdout",
     "output_type": "stream",
     "text": [
      "Requirement already satisfied: pandas in /opt/conda/lib/python3.7/site-packages (1.3.5)\r\n",
      "Requirement already satisfied: numpy>=1.17.3 in /opt/conda/lib/python3.7/site-packages (from pandas) (1.21.2)\r\n",
      "Requirement already satisfied: pytz>=2017.3 in /opt/conda/lib/python3.7/site-packages (from pandas) (2021.3)\r\n",
      "Requirement already satisfied: python-dateutil>=2.7.3 in /opt/conda/lib/python3.7/site-packages (from pandas) (2.8.2)\r\n",
      "Requirement already satisfied: six>=1.5 in /opt/conda/lib/python3.7/site-packages (from python-dateutil>=2.7.3->pandas) (1.16.0)\r\n"
     ]
    }
   ],
   "source": [
    "!pip install pandas"
   ]
  },
  {
   "cell_type": "code",
   "execution_count": 5,
   "metadata": {},
   "outputs": [
    {
     "name": "stdout",
     "output_type": "stream",
     "text": [
      "Requirement already satisfied: sklearn in /opt/conda/lib/python3.7/site-packages (0.0)\r\n",
      "Requirement already satisfied: scikit-learn in /opt/conda/lib/python3.7/site-packages (from sklearn) (1.0.1)\r\n",
      "Requirement already satisfied: numpy>=1.14.6 in /opt/conda/lib/python3.7/site-packages (from scikit-learn->sklearn) (1.21.2)\r\n",
      "Requirement already satisfied: scipy>=1.1.0 in /opt/conda/lib/python3.7/site-packages (from scikit-learn->sklearn) (1.7.3)\r\n",
      "Requirement already satisfied: threadpoolctl>=2.0.0 in /opt/conda/lib/python3.7/site-packages (from scikit-learn->sklearn) (3.0.0)\r\n",
      "Requirement already satisfied: joblib>=0.11 in /opt/conda/lib/python3.7/site-packages (from scikit-learn->sklearn) (1.1.0)\r\n"
     ]
    }
   ],
   "source": [
    "!pip install sklearn"
   ]
  },
  {
   "cell_type": "code",
   "execution_count": 6,
   "metadata": {},
   "outputs": [
    {
     "name": "stdout",
     "output_type": "stream",
     "text": [
      "Requirement already satisfied: pandas in /opt/conda/lib/python3.7/site-packages (1.3.5)\r\n",
      "Requirement already satisfied: python-dateutil>=2.7.3 in /opt/conda/lib/python3.7/site-packages (from pandas) (2.8.2)\r\n",
      "Requirement already satisfied: numpy>=1.17.3 in /opt/conda/lib/python3.7/site-packages (from pandas) (1.21.2)\r\n",
      "Requirement already satisfied: pytz>=2017.3 in /opt/conda/lib/python3.7/site-packages (from pandas) (2021.3)\r\n",
      "Requirement already satisfied: six>=1.5 in /opt/conda/lib/python3.7/site-packages (from python-dateutil>=2.7.3->pandas) (1.16.0)\r\n"
     ]
    }
   ],
   "source": [
    "!pip install pandas"
   ]
  },
  {
   "cell_type": "code",
   "execution_count": 7,
   "metadata": {
    "id": "nCxbSiVTNlN8"
   },
   "outputs": [],
   "source": [
    "import pandas as pd"
   ]
  },
  {
   "cell_type": "code",
   "execution_count": 8,
   "metadata": {
    "colab": {
     "base_uri": "https://localhost:8080/"
    },
    "id": "SVqsMoIU6J0X",
    "outputId": "a7534ca5-1a8a-4c3a-a9bb-6d0ff3441412"
   },
   "outputs": [
    {
     "name": "stdout",
     "output_type": "stream",
     "text": [
      "Requirement already satisfied: transformers in /opt/conda/lib/python3.7/site-packages (4.15.0)\n",
      "Requirement already satisfied: packaging>=20.0 in /opt/conda/lib/python3.7/site-packages (from transformers) (21.3)\n",
      "Requirement already satisfied: requests in /opt/conda/lib/python3.7/site-packages (from transformers) (2.25.1)\n",
      "Requirement already satisfied: sacremoses in /opt/conda/lib/python3.7/site-packages (from transformers) (0.0.46)\n",
      "Requirement already satisfied: regex!=2019.12.17 in /opt/conda/lib/python3.7/site-packages (from transformers) (2021.11.10)\n",
      "Requirement already satisfied: tqdm>=4.27 in /opt/conda/lib/python3.7/site-packages (from transformers) (4.62.3)\n",
      "Requirement already satisfied: huggingface-hub<1.0,>=0.1.0 in /opt/conda/lib/python3.7/site-packages (from transformers) (0.2.1)\n",
      "Requirement already satisfied: tokenizers<0.11,>=0.10.1 in /opt/conda/lib/python3.7/site-packages (from transformers) (0.10.3)\n",
      "Requirement already satisfied: filelock in /opt/conda/lib/python3.7/site-packages (from transformers) (3.0.12)\n",
      "Requirement already satisfied: importlib-metadata in /opt/conda/lib/python3.7/site-packages (from transformers) (4.8.2)\n",
      "Requirement already satisfied: numpy>=1.17 in /opt/conda/lib/python3.7/site-packages (from transformers) (1.21.2)\n",
      "Requirement already satisfied: pyyaml>=5.1 in /opt/conda/lib/python3.7/site-packages (from transformers) (5.4.1)\n",
      "Requirement already satisfied: typing-extensions>=3.7.4.3 in /opt/conda/lib/python3.7/site-packages (from huggingface-hub<1.0,>=0.1.0->transformers) (3.10.0.2)\n",
      "Requirement already satisfied: pyparsing!=3.0.5,>=2.0.2 in /opt/conda/lib/python3.7/site-packages (from packaging>=20.0->transformers) (3.0.6)\n",
      "Requirement already satisfied: zipp>=0.5 in /opt/conda/lib/python3.7/site-packages (from importlib-metadata->transformers) (3.6.0)\n",
      "Requirement already satisfied: idna<3,>=2.5 in /opt/conda/lib/python3.7/site-packages (from requests->transformers) (2.10)\n",
      "Requirement already satisfied: chardet<5,>=3.0.2 in /opt/conda/lib/python3.7/site-packages (from requests->transformers) (4.0.0)\n",
      "Requirement already satisfied: certifi>=2017.4.17 in /opt/conda/lib/python3.7/site-packages (from requests->transformers) (2021.10.8)\n",
      "Requirement already satisfied: urllib3<1.27,>=1.21.1 in /opt/conda/lib/python3.7/site-packages (from requests->transformers) (1.26.6)\n",
      "Requirement already satisfied: six in /opt/conda/lib/python3.7/site-packages (from sacremoses->transformers) (1.16.0)\n",
      "Requirement already satisfied: click in /opt/conda/lib/python3.7/site-packages (from sacremoses->transformers) (8.0.3)\n",
      "Requirement already satisfied: joblib in /opt/conda/lib/python3.7/site-packages (from sacremoses->transformers) (1.1.0)\n"
     ]
    }
   ],
   "source": [
    "!pip install transformers -U"
   ]
  },
  {
   "cell_type": "code",
   "execution_count": 9,
   "metadata": {
    "colab": {
     "base_uri": "https://localhost:8080/"
    },
    "id": "qoNm9cNk9kIY",
    "outputId": "25eb16a5-fbfe-4435-d0b1-abe7a6e34a7d"
   },
   "outputs": [
    {
     "name": "stdout",
     "output_type": "stream",
     "text": [
      "Requirement already satisfied: sentencepiece in /opt/conda/lib/python3.7/site-packages (0.1.96)\r\n"
     ]
    }
   ],
   "source": [
    "!pip install sentencepiece"
   ]
  },
  {
   "cell_type": "code",
   "execution_count": 10,
   "metadata": {
    "colab": {
     "base_uri": "https://localhost:8080/"
    },
    "id": "NcU-kExe99IX",
    "outputId": "1fb9e326-310c-41e3-dc5d-ddf07be815a6"
   },
   "outputs": [
    {
     "name": "stdout",
     "output_type": "stream",
     "text": [
      "Requirement already satisfied: tqdm in /opt/conda/lib/python3.7/site-packages (4.62.3)\n",
      "Requirement already satisfied: boto3 in /opt/conda/lib/python3.7/site-packages (1.20.26)\n",
      "Requirement already satisfied: requests in /opt/conda/lib/python3.7/site-packages (2.25.1)\n",
      "Requirement already satisfied: regex in /opt/conda/lib/python3.7/site-packages (2021.11.10)\n",
      "Requirement already satisfied: sacremoses in /opt/conda/lib/python3.7/site-packages (0.0.46)\n",
      "Requirement already satisfied: botocore<1.24.0,>=1.23.26 in /opt/conda/lib/python3.7/site-packages (from boto3) (1.23.26)\n",
      "Requirement already satisfied: s3transfer<0.6.0,>=0.5.0 in /opt/conda/lib/python3.7/site-packages (from boto3) (0.5.0)\n",
      "Requirement already satisfied: jmespath<1.0.0,>=0.7.1 in /opt/conda/lib/python3.7/site-packages (from boto3) (0.10.0)\n",
      "Requirement already satisfied: python-dateutil<3.0.0,>=2.1 in /opt/conda/lib/python3.7/site-packages (from botocore<1.24.0,>=1.23.26->boto3) (2.8.2)\n",
      "Requirement already satisfied: urllib3<1.27,>=1.25.4 in /opt/conda/lib/python3.7/site-packages (from botocore<1.24.0,>=1.23.26->boto3) (1.26.6)\n",
      "Requirement already satisfied: six>=1.5 in /opt/conda/lib/python3.7/site-packages (from python-dateutil<3.0.0,>=2.1->botocore<1.24.0,>=1.23.26->boto3) (1.16.0)\n",
      "Requirement already satisfied: chardet<5,>=3.0.2 in /opt/conda/lib/python3.7/site-packages (from requests) (4.0.0)\n",
      "Requirement already satisfied: idna<3,>=2.5 in /opt/conda/lib/python3.7/site-packages (from requests) (2.10)\n",
      "Requirement already satisfied: certifi>=2017.4.17 in /opt/conda/lib/python3.7/site-packages (from requests) (2021.10.8)\n",
      "Requirement already satisfied: joblib in /opt/conda/lib/python3.7/site-packages (from sacremoses) (1.1.0)\n",
      "Requirement already satisfied: click in /opt/conda/lib/python3.7/site-packages (from sacremoses) (8.0.3)\n",
      "Requirement already satisfied: importlib-metadata in /opt/conda/lib/python3.7/site-packages (from click->sacremoses) (4.8.2)\n",
      "Requirement already satisfied: typing-extensions>=3.6.4 in /opt/conda/lib/python3.7/site-packages (from importlib-metadata->click->sacremoses) (3.10.0.2)\n",
      "Requirement already satisfied: zipp>=0.5 in /opt/conda/lib/python3.7/site-packages (from importlib-metadata->click->sacremoses) (3.6.0)\n"
     ]
    }
   ],
   "source": [
    "!pip install tqdm boto3 requests regex sacremoses"
   ]
  },
  {
   "cell_type": "code",
   "execution_count": 11,
   "metadata": {
    "id": "1ri4axMy9p7S"
   },
   "outputs": [],
   "source": [
    "import torch\n",
    "from transformers import AutoModel, AutoTokenizer, AutoConfig"
   ]
  },
  {
   "cell_type": "code",
   "execution_count": 12,
   "metadata": {
    "id": "J5q0xqDA6Bug"
   },
   "outputs": [],
   "source": [
    "# model = torch.hub.load('huggingface/transformers', 'modelForCausalLM', 'gpt2')   \n",
    "#  # Download model and configuration from huggingface.co and cache.\n",
    "# # model = torch.hub.load('huggingface/transformers', 'modelForCausalLM', './test/saved_model/')  \n",
    "# # E.g. model was saved using `save_pretrained('./test/saved_model/')`\n",
    "# model = torch.hub.load('huggingface/transformers', 'modelForCausalLM', 'gpt2', output_attentions=True)  \n",
    "# # Update configuration during loading\n",
    "# assert model.config.output_attentions == True\n",
    "# # Loading from a TF checkpoint file instead of a PyTorch model (slower)\n",
    "# config = AutoConfig.from_pretrained('bert-base-uncased')\n",
    "# # AutoConfig.from_pretrained('bert-base-uncased')\n",
    "# # model = torch.hub.load('huggingface/transformers', 'modelForCausalLM', \n",
    "# #                        './tf_model/gpt_tf_checkpoint.ckpt.index', from_tf=True, config=config)"
   ]
  },
  {
   "cell_type": "code",
   "execution_count": 13,
   "metadata": {
    "colab": {
     "base_uri": "https://localhost:8080/"
    },
    "id": "SyvHuVMUJMN8",
    "outputId": "09167b58-e298-4e57-91c2-29fbf0fb6f63"
   },
   "outputs": [
    {
     "name": "stdout",
     "output_type": "stream",
     "text": [
      "Cloning into 'transformers'...\n",
      "remote: Enumerating objects: 93484, done.\u001b[K\n",
      "remote: Total 93484 (delta 0), reused 0 (delta 0), pack-reused 93484\u001b[K\n",
      "Receiving objects: 100% (93484/93484), 78.66 MiB | 32.89 MiB/s, done.\n",
      "Resolving deltas: 100% (67661/67661), done.\n"
     ]
    }
   ],
   "source": [
    "!git clone https://github.com/huggingface/transformers.git"
   ]
  },
  {
   "cell_type": "code",
   "execution_count": 15,
   "metadata": {
    "colab": {
     "base_uri": "https://localhost:8080/"
    },
    "id": "DnSiQTAInNf3",
    "outputId": "424447e9-517e-4038-c033-9710d364ad22"
   },
   "outputs": [
    {
     "name": "stdout",
     "output_type": "stream",
     "text": [
      "Requirement already satisfied: natasha in /opt/conda/lib/python3.7/site-packages (1.4.0)\n",
      "Requirement already satisfied: navec>=0.9.0 in /opt/conda/lib/python3.7/site-packages (from natasha) (0.10.0)\n",
      "Requirement already satisfied: razdel>=0.5.0 in /opt/conda/lib/python3.7/site-packages (from natasha) (0.5.0)\n",
      "Requirement already satisfied: ipymarkup>=0.8.0 in /opt/conda/lib/python3.7/site-packages (from natasha) (0.9.0)\n",
      "Requirement already satisfied: yargy>=0.14.0 in /opt/conda/lib/python3.7/site-packages (from natasha) (0.15.0)\n",
      "Requirement already satisfied: pymorphy2 in /opt/conda/lib/python3.7/site-packages (from natasha) (0.9.1)\n",
      "Requirement already satisfied: slovnet>=0.3.0 in /opt/conda/lib/python3.7/site-packages (from natasha) (0.5.0)\n",
      "Requirement already satisfied: intervaltree>=3 in /opt/conda/lib/python3.7/site-packages (from ipymarkup>=0.8.0->natasha) (3.1.0)\n",
      "Requirement already satisfied: sortedcontainers<3.0,>=2.0 in /opt/conda/lib/python3.7/site-packages (from intervaltree>=3->ipymarkup>=0.8.0->natasha) (2.4.0)\n",
      "Requirement already satisfied: numpy in /opt/conda/lib/python3.7/site-packages (from navec>=0.9.0->natasha) (1.21.2)\n",
      "Requirement already satisfied: pymorphy2-dicts-ru<3.0,>=2.4 in /opt/conda/lib/python3.7/site-packages (from pymorphy2->natasha) (2.4.417127.4579844)\n",
      "Requirement already satisfied: dawg-python>=0.7.1 in /opt/conda/lib/python3.7/site-packages (from pymorphy2->natasha) (0.7.2)\n",
      "Requirement already satisfied: docopt>=0.6 in /opt/conda/lib/python3.7/site-packages (from pymorphy2->natasha) (0.6.2)\n"
     ]
    }
   ],
   "source": [
    "!pip install natasha"
   ]
  },
  {
   "cell_type": "code",
   "execution_count": 16,
   "metadata": {
    "id": "xEJhcTFMJ8m-"
   },
   "outputs": [],
   "source": [
    "from natasha import (   \n",
    "    MorphVocab,\n",
    "    NewsNERTagger,\n",
    "    NamesExtractor,\n",
    "    MorphVocab,\n",
    "    Segmenter, \n",
    "    NewsEmbedding,\n",
    "    PER,\n",
    "    Doc,\n",
    "    ORG\n",
    ")"
   ]
  },
  {
   "cell_type": "code",
   "execution_count": 17,
   "metadata": {
    "id": "D7pZJGte7t5j"
   },
   "outputs": [],
   "source": [
    "from transformers import GPT2LMHeadModel, GPT2Tokenizer"
   ]
  },
  {
   "cell_type": "markdown",
   "metadata": {
    "id": "ICdrPvdDNbEd"
   },
   "source": [
    "# **PREPARE DATA SET**"
   ]
  },
  {
   "cell_type": "code",
   "execution_count": 18,
   "metadata": {
    "colab": {
     "base_uri": "https://localhost:8080/"
    },
    "id": "jbc_qWXLNgjt",
    "outputId": "200ca431-2c34-4433-ab7f-f3aacb1e082e"
   },
   "outputs": [
    {
     "name": "stdout",
     "output_type": "stream",
     "text": [
      "--2021-12-25 10:04:25--  https://raw.githubusercontent.com/DmitryKutsev/congrats_generator/main/crawler/curr_congrats.txt\n",
      "Resolving raw.githubusercontent.com (raw.githubusercontent.com)... 185.199.108.133, 185.199.109.133, 185.199.110.133, ...\n",
      "Connecting to raw.githubusercontent.com (raw.githubusercontent.com)|185.199.108.133|:443... connected.\n",
      "HTTP request sent, awaiting response... 200 OK\n",
      "Length: 1471875 (1.4M) [text/plain]\n",
      "Saving to: ‘curr_congrats.txt’\n",
      "\n",
      "curr_congrats.txt   100%[===================>]   1.40M  --.-KB/s    in 0.1s    \n",
      "\n",
      "2021-12-25 10:04:26 (9.49 MB/s) - ‘curr_congrats.txt’ saved [1471875/1471875]\n",
      "\n"
     ]
    }
   ],
   "source": [
    "!wget https://raw.githubusercontent.com/DmitryKutsev/congrats_generator/main/crawler/curr_congrats.txt"
   ]
  },
  {
   "cell_type": "code",
   "execution_count": 19,
   "metadata": {
    "colab": {
     "base_uri": "https://localhost:8080/",
     "height": 181
    },
    "id": "tjTgJgTvN0mH",
    "outputId": "097f8817-1a7a-492e-9c31-4cb0a673a036"
   },
   "outputs": [
    {
     "data": {
      "text/plain": [
       "'\\nTITLE\\nЭдварду Радзинскому, писателю, драматургу, сценаристу\\nCONTENT\\n Уважаемый Эдвард Станиславович!Примите поздравления с\\xa085-летием.Человек многогранного дарования и\\xa0большой созидательной энергии, Вы по\\xa0праву входите в\\xa0число признанных\\nдраматургов, мастеров современного театрального искусства. И\\xa0конечно, Вас\\nхорошо знают и\\xa0любят как автора целого ряда просветительских проектов, чьё\\nтворчество завоевало сердца самой широкой аудитории, в\\xa0том числе молодёжи.Желаю доброго здоровья, благополучия и\\xa0бодрости\\nдуха. Владимир Путин     Статус материала Опубликован в\\xa0разделе: Телеграммы  Ссылка на материал: kremlin.ru/d/66751   Текстовая версия      \\nEND\\n\\nTITLE\\nКоллективу радиостанции «Орфей»\\nCONTENT\\n Дорогие друзья!Поздравляю вас со\\xa0знаменательным юбилеем\\xa0– 30-летием радиостанции «Орфей».Все эти годы ваш коллектив объединяет настоящих единомышленников, профессионалов, преданных высокому искусству, стремящихся внести свой вклад в\\xa0сбережение лучших традиций отечественной культуры. Вы сформировали обширный фонд просветительских, познавательных программ, завоевали признание людей самого разного возраста, слушателей в\\xa0России и\\xa0за\\xa0рубежом.Особо отмечу ваши уникальные медиапроекты, которые открывают широкий доступ к\\xa0онлайн-трансляциям концертов и\\xa0спектаклей, способствуют изучению и\\xa0сохранению творческого наследия выдающихся русских композиторов, воссозданию ранее утерянных музыкальных произведений и\\xa0нотных записей. Такая многогранная созидательная работа достойна глубокого уважения.Желаю новых успехов, благополучия и\\xa0всего наилучшего. Владимир Путин     Статус материала Опубликован в\\xa0разделе: Телеграммы  Ссылка на материал: kremlin.ru/d/66743   Текстовая версия      \\nEND\\n\\nTITLE\\nМихаилу Ковальчуку, президенту НИЦ «Курчатовский институт»\\nCONTENT\\n Уважаемый Михаил Валентинович!Примите мои поздравления по\\xa0случаю 75-летнего юбилея.Вы по\\xa0праву входите в\\xa0число исследователей, чьи фундаментальные труды и\\xa0практические наработки способствовали созданию в\\xa0России перспективных направлений науки и\\xa0прорывных технологий, заложили основу для их эффективного развития на\\xa0годы вперёд. И\\xa0конечно, Вас ценят как талантливого педагога и\\xa0организатора, человека, наделённого большой творческой энергией, который вносит значимый личный вклад в\\xa0решение задач, стоящих перед знаменитым Курчатовским институтом, много сил и\\xa0времени уделяет просветительской, общественной деятельности.Желаю Вам здоровья, успехов и\\xa0реализации намеченных планов. Владимир Путин     Статус материала Опубликован в\\xa0разделе: Телеграммы  Ссылка на материал: kremlin.ru/d/66739   Текстовая версия      \\nEND\\n\\nTITLE\\nИрине Андреевой и\\xa0Ивану Штылю, победителям чемпионата мира по\\xa0гребле на\\xa0байдарках и\\xa0каноэ 2021\\xa0года в\\xa0Копенгагене в\\xa0каноэ-двойке в\\xa0миксте на\\xa0дистанции 200 метров\\nCONTENT\\n Уважаемые Ирина Александровна и\\xa0Иван Александрович!Поздравляю вас с\\xa0успешным выступлением на\\xa0чемпионате мира в\\xa0Копенгагене.Благодаря таланту, волевому характеру и\\xa0настрою на\\xa0победу вы обошли сильных и\\xa0именитых соперников, продемонстрировали наст'"
      ]
     },
     "execution_count": 19,
     "metadata": {},
     "output_type": "execute_result"
    }
   ],
   "source": [
    "with open('curr_congrats.txt') as handler:\n",
    "  full_text = handler.read()\n",
    "full_text[:3000]"
   ]
  },
  {
   "cell_type": "code",
   "execution_count": 20,
   "metadata": {
    "colab": {
     "base_uri": "https://localhost:8080/"
    },
    "id": "QU9TBsuAOSrZ",
    "outputId": "7a556093-385f-4259-cb5a-4a8652e4af0b"
   },
   "outputs": [
    {
     "data": {
      "text/plain": [
       "['TITLEЭдварду Радзинскому, писателю, драматургу, сценаристу',\n",
       " ' Уважаемый Эдвард Станиславович!Примите поздравления с\\xa085-летием.Человек многогранного дарования и\\xa0большой созидательной энергии, Вы по\\xa0праву входите в\\xa0число признанныхдраматургов, мастеров современного театрального искусства. И\\xa0конечно, Васхорошо знают и\\xa0любят как автора целого ряда просветительских проектов, чьётворчество завоевало сердца самой широкой аудитории, в\\xa0том числе молодёжи.Желаю доброго здоровья, благополучия и\\xa0бодростидуха. Владимир Путин     Статус материала Опубликован в\\xa0разделе: Телеграммы  Ссылка на материал: kremlin.ru/d/66751   Текстовая версия      ']"
      ]
     },
     "execution_count": 20,
     "metadata": {},
     "output_type": "execute_result"
    }
   ],
   "source": [
    "full_text.split('END')[:3][0].replace('\\n', '').split('CONTENT')"
   ]
  },
  {
   "cell_type": "code",
   "execution_count": 21,
   "metadata": {
    "colab": {
     "base_uri": "https://localhost:8080/"
    },
    "id": "GfgJgy0hOU3S",
    "outputId": "20315dcf-3676-4def-ddcc-013627b1e4cd"
   },
   "outputs": [
    {
     "name": "stdout",
     "output_type": "stream",
     "text": [
      "['Эдварду Радзинскому, писателю, драматургу, сценаристу', 'Коллективу радиостанции «Орфей»', 'Михаилу Ковальчуку, президенту НИЦ «Курчатовский институт»']\n",
      "[' Уважаемый Эдвард Станиславович!Примите поздравления с\\xa085-летием.Человек многогранного дарования и\\xa0большой созидательной энергии, Вы по\\xa0праву входите в\\xa0число признанныхдраматургов, мастеров современного театрального искусства. И\\xa0конечно, Васхорошо знают и\\xa0любят как автора целого ряда просветительских проектов, чьётворчество завоевало сердца самой широкой аудитории, в\\xa0том числе молодёжи.Желаю доброго здоровья, благополучия и\\xa0бодростидуха. Владимир Путин     Статус материала Опубликован в\\xa0разделе: Телеграммы  Ссылка на материал: kremlin.ru/d/66751   Текстовая версия      ', ' Дорогие друзья!Поздравляю вас со\\xa0знаменательным юбилеем\\xa0– 30-летием радиостанции «Орфей».Все эти годы ваш коллектив объединяет настоящих единомышленников, профессионалов, преданных высокому искусству, стремящихся внести свой вклад в\\xa0сбережение лучших традиций отечественной культуры. Вы сформировали обширный фонд просветительских, познавательных программ, завоевали признание людей самого разного возраста, слушателей в\\xa0России и\\xa0за\\xa0рубежом.Особо отмечу ваши уникальные медиапроекты, которые открывают широкий доступ к\\xa0онлайн-трансляциям концертов и\\xa0спектаклей, способствуют изучению и\\xa0сохранению творческого наследия выдающихся русских композиторов, воссозданию ранее утерянных музыкальных произведений и\\xa0нотных записей. Такая многогранная созидательная работа достойна глубокого уважения.Желаю новых успехов, благополучия и\\xa0всего наилучшего. Владимир Путин     Статус материала Опубликован в\\xa0разделе: Телеграммы  Ссылка на материал: kremlin.ru/d/66743   Текстовая версия      ', ' Уважаемый Михаил Валентинович!Примите мои поздравления по\\xa0случаю 75-летнего юбилея.Вы по\\xa0праву входите в\\xa0число исследователей, чьи фундаментальные труды и\\xa0практические наработки способствовали созданию в\\xa0России перспективных направлений науки и\\xa0прорывных технологий, заложили основу для их эффективного развития на\\xa0годы вперёд. И\\xa0конечно, Вас ценят как талантливого педагога и\\xa0организатора, человека, наделённого большой творческой энергией, который вносит значимый личный вклад в\\xa0решение задач, стоящих перед знаменитым Курчатовским институтом, много сил и\\xa0времени уделяет просветительской, общественной деятельности.Желаю Вам здоровья, успехов и\\xa0реализации намеченных планов. Владимир Путин     Статус материала Опубликован в\\xa0разделе: Телеграммы  Ссылка на материал: kremlin.ru/d/66739   Текстовая версия      ']\n",
      "888\n",
      "888\n"
     ]
    }
   ],
   "source": [
    "titles_list = []\n",
    "congrats_list = []\n",
    "\n",
    "for letter in full_text.split('END'):\n",
    "  letter = letter.replace('\\n', '').replace('TITLE', '')\n",
    "\n",
    "  if len(letter.split('CONTENT')) > 1:\n",
    "    titles_list.append(letter.split('CONTENT')[0])\n",
    "    congrats_list.append(letter.split('CONTENT')[1])\n",
    "\n",
    "print(titles_list[:3])\n",
    "print(congrats_list[:3])\n",
    "print(len(titles_list))\n",
    "print(len(congrats_list))"
   ]
  },
  {
   "cell_type": "code",
   "execution_count": 22,
   "metadata": {
    "colab": {
     "base_uri": "https://localhost:8080/",
     "height": 422
    },
    "id": "D4S_hWq2QK7k",
    "outputId": "7371d70e-9e3c-408a-edbf-c858875e3bac"
   },
   "outputs": [
    {
     "data": {
      "text/html": [
       "<div>\n",
       "<style scoped>\n",
       "    .dataframe tbody tr th:only-of-type {\n",
       "        vertical-align: middle;\n",
       "    }\n",
       "\n",
       "    .dataframe tbody tr th {\n",
       "        vertical-align: top;\n",
       "    }\n",
       "\n",
       "    .dataframe thead th {\n",
       "        text-align: right;\n",
       "    }\n",
       "</style>\n",
       "<table border=\"1\" class=\"dataframe\">\n",
       "  <thead>\n",
       "    <tr style=\"text-align: right;\">\n",
       "      <th></th>\n",
       "      <th>Title</th>\n",
       "      <th>Content</th>\n",
       "    </tr>\n",
       "  </thead>\n",
       "  <tbody>\n",
       "    <tr>\n",
       "      <th>0</th>\n",
       "      <td>Эдварду Радзинскому, писателю, драматургу, сце...</td>\n",
       "      <td>Уважаемый Эдвард Станиславович!Примите поздра...</td>\n",
       "    </tr>\n",
       "    <tr>\n",
       "      <th>1</th>\n",
       "      <td>Коллективу радиостанции «Орфей»</td>\n",
       "      <td>Дорогие друзья!Поздравляю вас со знаменательн...</td>\n",
       "    </tr>\n",
       "    <tr>\n",
       "      <th>2</th>\n",
       "      <td>Михаилу Ковальчуку, президенту НИЦ «Курчатовск...</td>\n",
       "      <td>Уважаемый Михаил Валентинович!Примите мои поз...</td>\n",
       "    </tr>\n",
       "    <tr>\n",
       "      <th>3</th>\n",
       "      <td>Ирине Андреевой и Ивану Штылю, победителям чем...</td>\n",
       "      <td>Уважаемые Ирина Александровна и Иван Александ...</td>\n",
       "    </tr>\n",
       "    <tr>\n",
       "      <th>4</th>\n",
       "      <td>Работникам и ветеранам оборонно-промышленного ...</td>\n",
       "      <td>Уважаемые друзья!Поздравляю вас с Днём оружей...</td>\n",
       "    </tr>\n",
       "    <tr>\n",
       "      <th>...</th>\n",
       "      <td>...</td>\n",
       "      <td>...</td>\n",
       "    </tr>\n",
       "    <tr>\n",
       "      <th>883</th>\n",
       "      <td>Жителям Республики Мордовия</td>\n",
       "      <td>Дорогие друзья!Поздравляю вас с юбилеем – 75-...</td>\n",
       "    </tr>\n",
       "    <tr>\n",
       "      <th>884</th>\n",
       "      <td>Коллективу Института физических проблем им.П.Л...</td>\n",
       "      <td>Поздравляю коллектив института с 70-летием со...</td>\n",
       "    </tr>\n",
       "    <tr>\n",
       "      <th>885</th>\n",
       "      <td>Жителям Красноярского края</td>\n",
       "      <td>Уважаемые друзья!Поздравляю вас с 70-летием с...</td>\n",
       "    </tr>\n",
       "    <tr>\n",
       "      <th>886</th>\n",
       "      <td>В.А.ЛОГИНОВУ</td>\n",
       "      <td>Уважаемый Владимир Александрович!Поздравляю В...</td>\n",
       "    </tr>\n",
       "    <tr>\n",
       "      <th>887</th>\n",
       "      <td>Патриарху Московскому и всея Руси Алексию II</td>\n",
       "      <td>Ваше Святейшество!От всего сердца поздравляю ...</td>\n",
       "    </tr>\n",
       "  </tbody>\n",
       "</table>\n",
       "<p>888 rows × 2 columns</p>\n",
       "</div>"
      ],
      "text/plain": [
       "                                                 Title  \\\n",
       "0    Эдварду Радзинскому, писателю, драматургу, сце...   \n",
       "1                      Коллективу радиостанции «Орфей»   \n",
       "2    Михаилу Ковальчуку, президенту НИЦ «Курчатовск...   \n",
       "3    Ирине Андреевой и Ивану Штылю, победителям чем...   \n",
       "4    Работникам и ветеранам оборонно-промышленного ...   \n",
       "..                                                 ...   \n",
       "883                        Жителям Республики Мордовия   \n",
       "884  Коллективу Института физических проблем им.П.Л...   \n",
       "885                         Жителям Красноярского края   \n",
       "886                                       В.А.ЛОГИНОВУ   \n",
       "887       Патриарху Московскому и всея Руси Алексию II   \n",
       "\n",
       "                                               Content  \n",
       "0     Уважаемый Эдвард Станиславович!Примите поздра...  \n",
       "1     Дорогие друзья!Поздравляю вас со знаменательн...  \n",
       "2     Уважаемый Михаил Валентинович!Примите мои поз...  \n",
       "3     Уважаемые Ирина Александровна и Иван Александ...  \n",
       "4     Уважаемые друзья!Поздравляю вас с Днём оружей...  \n",
       "..                                                 ...  \n",
       "883   Дорогие друзья!Поздравляю вас с юбилеем – 75-...  \n",
       "884   Поздравляю коллектив института с 70-летием со...  \n",
       "885   Уважаемые друзья!Поздравляю вас с 70-летием с...  \n",
       "886   Уважаемый Владимир Александрович!Поздравляю В...  \n",
       "887   Ваше Святейшество!От всего сердца поздравляю ...  \n",
       "\n",
       "[888 rows x 2 columns]"
      ]
     },
     "execution_count": 22,
     "metadata": {},
     "output_type": "execute_result"
    }
   ],
   "source": [
    "data = {'Title': titles_list,\n",
    "        'Content': congrats_list}\n",
    "\n",
    "my_df = pd.DataFrame(data)\n",
    "my_df"
   ]
  },
  {
   "cell_type": "code",
   "execution_count": 23,
   "metadata": {
    "colab": {
     "base_uri": "https://localhost:8080/"
    },
    "id": "FPNGyp4Gq8gX",
    "outputId": "495eeba0-9053-4af9-9066-3a5045d0d050"
   },
   "outputs": [
    {
     "name": "stdout",
     "output_type": "stream",
     "text": [
      "Requirement already satisfied: datasets in /opt/conda/lib/python3.7/site-packages (1.17.0)\n",
      "Requirement already satisfied: transformers in /opt/conda/lib/python3.7/site-packages (4.15.0)\n",
      "Requirement already satisfied: requests>=2.19.0 in /opt/conda/lib/python3.7/site-packages (from datasets) (2.25.1)\n",
      "Requirement already satisfied: huggingface-hub<1.0.0,>=0.1.0 in /opt/conda/lib/python3.7/site-packages (from datasets) (0.2.1)\n",
      "Requirement already satisfied: numpy>=1.17 in /opt/conda/lib/python3.7/site-packages (from datasets) (1.21.2)\n",
      "Requirement already satisfied: xxhash in /opt/conda/lib/python3.7/site-packages (from datasets) (2.0.2)\n",
      "Requirement already satisfied: multiprocess in /opt/conda/lib/python3.7/site-packages (from datasets) (0.70.12.2)\n",
      "Requirement already satisfied: fsspec[http]>=2021.05.0 in /opt/conda/lib/python3.7/site-packages (from datasets) (2021.11.1)\n",
      "Requirement already satisfied: tqdm>=4.62.1 in /opt/conda/lib/python3.7/site-packages (from datasets) (4.62.3)\n",
      "Requirement already satisfied: packaging in /opt/conda/lib/python3.7/site-packages (from datasets) (21.3)\n",
      "Requirement already satisfied: dill in /opt/conda/lib/python3.7/site-packages (from datasets) (0.3.4)\n",
      "Requirement already satisfied: aiohttp in /opt/conda/lib/python3.7/site-packages (from datasets) (3.8.1)\n",
      "Requirement already satisfied: pyarrow!=4.0.0,>=3.0.0 in /opt/conda/lib/python3.7/site-packages (from datasets) (6.0.1)\n",
      "Requirement already satisfied: importlib-metadata in /opt/conda/lib/python3.7/site-packages (from datasets) (4.8.2)\n",
      "Requirement already satisfied: pandas in /opt/conda/lib/python3.7/site-packages (from datasets) (1.3.5)\n",
      "Requirement already satisfied: pyyaml in /opt/conda/lib/python3.7/site-packages (from huggingface-hub<1.0.0,>=0.1.0->datasets) (5.4.1)\n",
      "Requirement already satisfied: filelock in /opt/conda/lib/python3.7/site-packages (from huggingface-hub<1.0.0,>=0.1.0->datasets) (3.0.12)\n",
      "Requirement already satisfied: typing-extensions>=3.7.4.3 in /opt/conda/lib/python3.7/site-packages (from huggingface-hub<1.0.0,>=0.1.0->datasets) (3.10.0.2)\n",
      "Requirement already satisfied: pyparsing!=3.0.5,>=2.0.2 in /opt/conda/lib/python3.7/site-packages (from packaging->datasets) (3.0.6)\n",
      "Requirement already satisfied: chardet<5,>=3.0.2 in /opt/conda/lib/python3.7/site-packages (from requests>=2.19.0->datasets) (4.0.0)\n",
      "Requirement already satisfied: urllib3<1.27,>=1.21.1 in /opt/conda/lib/python3.7/site-packages (from requests>=2.19.0->datasets) (1.26.6)\n",
      "Requirement already satisfied: certifi>=2017.4.17 in /opt/conda/lib/python3.7/site-packages (from requests>=2.19.0->datasets) (2021.10.8)\n",
      "Requirement already satisfied: idna<3,>=2.5 in /opt/conda/lib/python3.7/site-packages (from requests>=2.19.0->datasets) (2.10)\n",
      "Requirement already satisfied: tokenizers<0.11,>=0.10.1 in /opt/conda/lib/python3.7/site-packages (from transformers) (0.10.3)\n",
      "Requirement already satisfied: regex!=2019.12.17 in /opt/conda/lib/python3.7/site-packages (from transformers) (2021.11.10)\n",
      "Requirement already satisfied: sacremoses in /opt/conda/lib/python3.7/site-packages (from transformers) (0.0.46)\n",
      "Requirement already satisfied: async-timeout<5.0,>=4.0.0a3 in /opt/conda/lib/python3.7/site-packages (from aiohttp->datasets) (4.0.2)\n",
      "Requirement already satisfied: charset-normalizer<3.0,>=2.0 in /opt/conda/lib/python3.7/site-packages (from aiohttp->datasets) (2.0.9)\n",
      "Requirement already satisfied: multidict<7.0,>=4.5 in /opt/conda/lib/python3.7/site-packages (from aiohttp->datasets) (5.2.0)\n",
      "Requirement already satisfied: frozenlist>=1.1.1 in /opt/conda/lib/python3.7/site-packages (from aiohttp->datasets) (1.2.0)\n",
      "Requirement already satisfied: aiosignal>=1.1.2 in /opt/conda/lib/python3.7/site-packages (from aiohttp->datasets) (1.2.0)\n",
      "Requirement already satisfied: yarl<2.0,>=1.0 in /opt/conda/lib/python3.7/site-packages (from aiohttp->datasets) (1.7.2)\n",
      "Requirement already satisfied: asynctest==0.13.0 in /opt/conda/lib/python3.7/site-packages (from aiohttp->datasets) (0.13.0)\n",
      "Requirement already satisfied: attrs>=17.3.0 in /opt/conda/lib/python3.7/site-packages (from aiohttp->datasets) (21.2.0)\n",
      "Requirement already satisfied: zipp>=0.5 in /opt/conda/lib/python3.7/site-packages (from importlib-metadata->datasets) (3.6.0)\n",
      "Requirement already satisfied: pytz>=2017.3 in /opt/conda/lib/python3.7/site-packages (from pandas->datasets) (2021.3)\n",
      "Requirement already satisfied: python-dateutil>=2.7.3 in /opt/conda/lib/python3.7/site-packages (from pandas->datasets) (2.8.2)\n",
      "Requirement already satisfied: six>=1.5 in /opt/conda/lib/python3.7/site-packages (from python-dateutil>=2.7.3->pandas->datasets) (1.16.0)\n",
      "Requirement already satisfied: joblib in /opt/conda/lib/python3.7/site-packages (from sacremoses->transformers) (1.1.0)\n",
      "Requirement already satisfied: click in /opt/conda/lib/python3.7/site-packages (from sacremoses->transformers) (8.0.3)\n"
     ]
    }
   ],
   "source": [
    "!pip install datasets transformers"
   ]
  },
  {
   "cell_type": "code",
   "execution_count": 24,
   "metadata": {
    "colab": {
     "base_uri": "https://localhost:8080/"
    },
    "id": "chdG-tIs8EKM",
    "outputId": "3399dfa3-6557-4d7f-e299-8eab6b6f8eea"
   },
   "outputs": [
    {
     "name": "stdout",
     "output_type": "stream",
     "text": [
      "Cloning into 'ru-gpts'...\n",
      "remote: Enumerating objects: 683, done.\u001b[K\n",
      "remote: Counting objects: 100% (178/178), done.\u001b[K\n",
      "remote: Compressing objects: 100% (94/94), done.\u001b[K\n",
      "remote: Total 683 (delta 110), reused 141 (delta 83), pack-reused 505\u001b[K\n",
      "Receiving objects: 100% (683/683), 413.81 KiB | 2.11 MiB/s, done.\n",
      "Resolving deltas: 100% (410/410), done.\n"
     ]
    }
   ],
   "source": [
    "!git clone  https://github.com/sberbank-ai/ru-gpts"
   ]
  },
  {
   "cell_type": "markdown",
   "metadata": {
    "id": "RkrhtY9UlHL6"
   },
   "source": []
  },
  {
   "cell_type": "code",
   "execution_count": 25,
   "metadata": {
    "id": "kj1K38Ihq2KM"
   },
   "outputs": [],
   "source": [
    "from datasets import load_dataset\n",
    "from sklearn.model_selection import train_test_split\n",
    "import re\n"
   ]
  },
  {
   "cell_type": "code",
   "execution_count": 26,
   "metadata": {
    "colab": {
     "base_uri": "https://localhost:8080/",
     "height": 639
    },
    "id": "cCSD2s7mNIFa",
    "outputId": "fbfd160e-ab05-41fc-e4f5-a753919aa563"
   },
   "outputs": [
    {
     "data": {
      "text/html": [
       "<div>\n",
       "<style scoped>\n",
       "    .dataframe tbody tr th:only-of-type {\n",
       "        vertical-align: middle;\n",
       "    }\n",
       "\n",
       "    .dataframe tbody tr th {\n",
       "        vertical-align: top;\n",
       "    }\n",
       "\n",
       "    .dataframe thead th {\n",
       "        text-align: right;\n",
       "    }\n",
       "</style>\n",
       "<table border=\"1\" class=\"dataframe\">\n",
       "  <thead>\n",
       "    <tr style=\"text-align: right;\">\n",
       "      <th></th>\n",
       "      <th>Title</th>\n",
       "      <th>Content</th>\n",
       "      <th>Sum</th>\n",
       "    </tr>\n",
       "  </thead>\n",
       "  <tbody>\n",
       "    <tr>\n",
       "      <th>0</th>\n",
       "      <td>Эдварду Радзинскому, писателю, драматургу, сце...</td>\n",
       "      <td>Уважаемый Эдвард Станиславович!Примите поздра...</td>\n",
       "      <td>Эдварду Радзинскому, писателю, драматургу, сце...</td>\n",
       "    </tr>\n",
       "    <tr>\n",
       "      <th>1</th>\n",
       "      <td>Коллективу радиостанции «Орфей»</td>\n",
       "      <td>Дорогие друзья!Поздравляю вас со знаменательн...</td>\n",
       "      <td>Коллективу радиостанции «Орфей» Дорогие друзья...</td>\n",
       "    </tr>\n",
       "    <tr>\n",
       "      <th>2</th>\n",
       "      <td>Михаилу Ковальчуку, президенту НИЦ «Курчатовск...</td>\n",
       "      <td>Уважаемый Михаил Валентинович!Примите мои поз...</td>\n",
       "      <td>Михаилу Ковальчуку, президенту НИЦ «Курчатовск...</td>\n",
       "    </tr>\n",
       "    <tr>\n",
       "      <th>3</th>\n",
       "      <td>Ирине Андреевой и Ивану Штылю, победителям чем...</td>\n",
       "      <td>Уважаемые Ирина Александровна и Иван Александ...</td>\n",
       "      <td>Ирине Андреевой и Ивану Штылю, победителям чем...</td>\n",
       "    </tr>\n",
       "    <tr>\n",
       "      <th>4</th>\n",
       "      <td>Работникам и ветеранам оборонно-промышленного ...</td>\n",
       "      <td>Уважаемые друзья!Поздравляю вас с Днём оружей...</td>\n",
       "      <td>Работникам и ветеранам оборонно-промышленного ...</td>\n",
       "    </tr>\n",
       "    <tr>\n",
       "      <th>...</th>\n",
       "      <td>...</td>\n",
       "      <td>...</td>\n",
       "      <td>...</td>\n",
       "    </tr>\n",
       "    <tr>\n",
       "      <th>883</th>\n",
       "      <td>Жителям Республики Мордовия</td>\n",
       "      <td>Дорогие друзья!Поздравляю вас с юбилеем – 75-...</td>\n",
       "      <td>Жителям Республики Мордовия Дорогие друзья!Поз...</td>\n",
       "    </tr>\n",
       "    <tr>\n",
       "      <th>884</th>\n",
       "      <td>Коллективу Института физических проблем им.П.Л...</td>\n",
       "      <td>Поздравляю коллектив института с 70-летием со...</td>\n",
       "      <td>Коллективу Института физических проблем им.П.Л...</td>\n",
       "    </tr>\n",
       "    <tr>\n",
       "      <th>885</th>\n",
       "      <td>Жителям Красноярского края</td>\n",
       "      <td>Уважаемые друзья!Поздравляю вас с 70-летием с...</td>\n",
       "      <td>Жителям Красноярского края Уважаемые друзья!По...</td>\n",
       "    </tr>\n",
       "    <tr>\n",
       "      <th>886</th>\n",
       "      <td>В.А.ЛОГИНОВУ</td>\n",
       "      <td>Уважаемый Владимир Александрович!Поздравляю В...</td>\n",
       "      <td>В.А.ЛОГИНОВУ Уважаемый Владимир Александрович!...</td>\n",
       "    </tr>\n",
       "    <tr>\n",
       "      <th>887</th>\n",
       "      <td>Патриарху Московскому и всея Руси Алексию II</td>\n",
       "      <td>Ваше Святейшество!От всего сердца поздравляю ...</td>\n",
       "      <td>Патриарху Московскому и всея Руси Алексию II В...</td>\n",
       "    </tr>\n",
       "  </tbody>\n",
       "</table>\n",
       "<p>888 rows × 3 columns</p>\n",
       "</div>"
      ],
      "text/plain": [
       "                                                 Title  \\\n",
       "0    Эдварду Радзинскому, писателю, драматургу, сце...   \n",
       "1                      Коллективу радиостанции «Орфей»   \n",
       "2    Михаилу Ковальчуку, президенту НИЦ «Курчатовск...   \n",
       "3    Ирине Андреевой и Ивану Штылю, победителям чем...   \n",
       "4    Работникам и ветеранам оборонно-промышленного ...   \n",
       "..                                                 ...   \n",
       "883                        Жителям Республики Мордовия   \n",
       "884  Коллективу Института физических проблем им.П.Л...   \n",
       "885                         Жителям Красноярского края   \n",
       "886                                       В.А.ЛОГИНОВУ   \n",
       "887       Патриарху Московскому и всея Руси Алексию II   \n",
       "\n",
       "                                               Content  \\\n",
       "0     Уважаемый Эдвард Станиславович!Примите поздра...   \n",
       "1     Дорогие друзья!Поздравляю вас со знаменательн...   \n",
       "2     Уважаемый Михаил Валентинович!Примите мои поз...   \n",
       "3     Уважаемые Ирина Александровна и Иван Александ...   \n",
       "4     Уважаемые друзья!Поздравляю вас с Днём оружей...   \n",
       "..                                                 ...   \n",
       "883   Дорогие друзья!Поздравляю вас с юбилеем – 75-...   \n",
       "884   Поздравляю коллектив института с 70-летием со...   \n",
       "885   Уважаемые друзья!Поздравляю вас с 70-летием с...   \n",
       "886   Уважаемый Владимир Александрович!Поздравляю В...   \n",
       "887   Ваше Святейшество!От всего сердца поздравляю ...   \n",
       "\n",
       "                                                   Sum  \n",
       "0    Эдварду Радзинскому, писателю, драматургу, сце...  \n",
       "1    Коллективу радиостанции «Орфей» Дорогие друзья...  \n",
       "2    Михаилу Ковальчуку, президенту НИЦ «Курчатовск...  \n",
       "3    Ирине Андреевой и Ивану Штылю, победителям чем...  \n",
       "4    Работникам и ветеранам оборонно-промышленного ...  \n",
       "..                                                 ...  \n",
       "883  Жителям Республики Мордовия Дорогие друзья!Поз...  \n",
       "884  Коллективу Института физических проблем им.П.Л...  \n",
       "885  Жителям Красноярского края Уважаемые друзья!По...  \n",
       "886  В.А.ЛОГИНОВУ Уважаемый Владимир Александрович!...  \n",
       "887  Патриарху Московскому и всея Руси Алексию II В...  \n",
       "\n",
       "[888 rows x 3 columns]"
      ]
     },
     "execution_count": 26,
     "metadata": {},
     "output_type": "execute_result"
    }
   ],
   "source": [
    "my_df['Sum'] = [my_df['Title'].tolist()[i] + my_df['Content'].tolist()[i] for i in range(len(my_df))]\n",
    "my_df"
   ]
  },
  {
   "cell_type": "markdown",
   "metadata": {
    "id": "m53Lv-DbnJEn"
   },
   "source": [
    "# **NER**"
   ]
  },
  {
   "cell_type": "code",
   "execution_count": 27,
   "metadata": {
    "id": "9F3jlCThnNp1"
   },
   "outputs": [],
   "source": [
    "emb = NewsEmbedding()\n",
    "morph_vocab = MorphVocab()\n",
    "\n",
    "names_extractor = NamesExtractor(morph_vocab)\n",
    "ner_tagger = NewsNERTagger(emb)"
   ]
  },
  {
   "cell_type": "code",
   "execution_count": 28,
   "metadata": {
    "id": "QMJbsuybnNs1"
   },
   "outputs": [],
   "source": [
    "text = \"Эдварду Радзинскому, писателю, драматургу, сценаристуКоллективу радиостанции «Орфей», Михаилу Ковальчуку, президенту НИЦ «Курчатовский институт»\"\n",
    "doc = Doc(text)"
   ]
  },
  {
   "cell_type": "code",
   "execution_count": 29,
   "metadata": {
    "colab": {
     "base_uri": "https://localhost:8080/"
    },
    "id": "UTrrMCYvwqar",
    "outputId": "e0aa4de5-6714-4c5e-9aaa-f008cd16225d"
   },
   "outputs": [
    {
     "data": {
      "text/plain": [
       "Doc(text='Эдварду Радзинскому, писателю, драматургу, сценар...)"
      ]
     },
     "execution_count": 29,
     "metadata": {},
     "output_type": "execute_result"
    }
   ],
   "source": [
    "doc"
   ]
  },
  {
   "cell_type": "code",
   "execution_count": 30,
   "metadata": {
    "id": "cXzvWpYWr4AV"
   },
   "outputs": [],
   "source": [
    "segmenter = Segmenter()\n",
    "doc.segment(segmenter)"
   ]
  },
  {
   "cell_type": "code",
   "execution_count": 31,
   "metadata": {
    "id": "w3A51rS6qhIs"
   },
   "outputs": [],
   "source": [
    "doc.tag_ner(ner_tagger)"
   ]
  },
  {
   "cell_type": "code",
   "execution_count": 32,
   "metadata": {
    "colab": {
     "base_uri": "https://localhost:8080/"
    },
    "id": "T9G9UrUxsXbQ",
    "outputId": "44472759-d429-4c38-abc0-f2c1bce9248a"
   },
   "outputs": [
    {
     "name": "stdout",
     "output_type": "stream",
     "text": [
      "DocSpan(stop=19, type='PER', text='Эдварду Радзинскому', tokens=[...])\n",
      "DocSpan(start=78, stop=83, type='ORG', text='Орфей', tokens=[...])\n",
      "DocSpan(start=86, stop=104, type='PER', text='Михаилу Ковальчуку', tokens=[...])\n",
      "DocSpan(start=117, stop=144, type='ORG', text='НИЦ «Курчатовский институт»', tokens=[...])\n"
     ]
    }
   ],
   "source": [
    "for span in doc.spans:\n",
    "    print(span)\n",
    "    # if span.type == PER:\n",
    "    #   print(span)\n"
   ]
  },
  {
   "cell_type": "markdown",
   "metadata": {
    "id": "T2Y-UJd-xr0d"
   },
   "source": [
    "***Можно маскировать как имена, так и оргинизации. Попробую для начала и то, и другое вместе.***"
   ]
  },
  {
   "cell_type": "code",
   "execution_count": 33,
   "metadata": {
    "id": "ezABk3pCxquU"
   },
   "outputs": [],
   "source": [
    "# masked_content = []\n",
    "\n",
    "# for sent in my_df['Content']:\n",
    "#   doc = Doc(sent)\n",
    "#   doc.segment(segmenter)\n",
    "#   doc.tag_ner(ner_tagger)\n",
    "\n",
    "#   for span in doc.spans:\n",
    "#       if span.type == PER or span.type == ORG:\n",
    "#           sent = sent.replace(span.text, 'MASK')\n",
    "\n",
    "#   masked_content.append(sent)\n"
   ]
  },
  {
   "cell_type": "markdown",
   "metadata": {
    "id": "Zdvi0lZd0ulN"
   },
   "source": [
    "***Title оставляем прежним, маскируем контент. Модели будет скармливаться колонка с конкатенированным текстом.***"
   ]
  },
  {
   "cell_type": "code",
   "execution_count": 34,
   "metadata": {
    "colab": {
     "base_uri": "https://localhost:8080/"
    },
    "id": "xgDlr_n0xcqX",
    "outputId": "18502dba-a4e0-4bd6-9aa5-3198c5f2e8a1"
   },
   "outputs": [
    {
     "data": {
      "text/plain": [
       "['Эдварду Радзинскому, писателю, драматургу, сценаристу Уважаемый Эдвард Станиславович!Примите поздравления с\\xa085-летием.Человек многогранного дарования и\\xa0большой созидательной энергии, Вы по\\xa0праву входите в\\xa0число признанныхдраматургов, мастеров современного театрального искусства. И\\xa0конечно, Васхорошо знают и\\xa0любят как автора целого ряда просветительских проектов, чьётворчество завоевало сердца самой широкой аудитории, в\\xa0том числе молодёжи.Желаю доброго здоровья, благополучия и\\xa0бодростидуха. Владимир Путин     Статус материала Опубликован в\\xa0разделе: Телеграммы  Ссылка на материал: kremlin.ru/d/66751   Текстовая версия      ',\n",
       " 'Коллективу радиостанции «Орфей» Дорогие друзья!Поздравляю вас со\\xa0знаменательным юбилеем\\xa0– 30-летием радиостанции «Орфей».Все эти годы ваш коллектив объединяет настоящих единомышленников, профессионалов, преданных высокому искусству, стремящихся внести свой вклад в\\xa0сбережение лучших традиций отечественной культуры. Вы сформировали обширный фонд просветительских, познавательных программ, завоевали признание людей самого разного возраста, слушателей в\\xa0России и\\xa0за\\xa0рубежом.Особо отмечу ваши уникальные медиапроекты, которые открывают широкий доступ к\\xa0онлайн-трансляциям концертов и\\xa0спектаклей, способствуют изучению и\\xa0сохранению творческого наследия выдающихся русских композиторов, воссозданию ранее утерянных музыкальных произведений и\\xa0нотных записей. Такая многогранная созидательная работа достойна глубокого уважения.Желаю новых успехов, благополучия и\\xa0всего наилучшего. Владимир Путин     Статус материала Опубликован в\\xa0разделе: Телеграммы  Ссылка на материал: kremlin.ru/d/66743   Текстовая версия      ',\n",
       " 'Михаилу Ковальчуку, президенту НИЦ «Курчатовский институт» Уважаемый Михаил Валентинович!Примите мои поздравления по\\xa0случаю 75-летнего юбилея.Вы по\\xa0праву входите в\\xa0число исследователей, чьи фундаментальные труды и\\xa0практические наработки способствовали созданию в\\xa0России перспективных направлений науки и\\xa0прорывных технологий, заложили основу для их эффективного развития на\\xa0годы вперёд. И\\xa0конечно, Вас ценят как талантливого педагога и\\xa0организатора, человека, наделённого большой творческой энергией, который вносит значимый личный вклад в\\xa0решение задач, стоящих перед знаменитым Курчатовским институтом, много сил и\\xa0времени уделяет просветительской, общественной деятельности.Желаю Вам здоровья, успехов и\\xa0реализации намеченных планов. Владимир Путин     Статус материала Опубликован в\\xa0разделе: Телеграммы  Ссылка на материал: kremlin.ru/d/66739   Текстовая версия      ']"
      ]
     },
     "execution_count": 34,
     "metadata": {},
     "output_type": "execute_result"
    }
   ],
   "source": [
    "# my_df['Masked_content'] = masked_content\n",
    "# my_df['Sum'] = [my_df['Title'].tolist()[i] + my_df['Masked_content'].tolist()[i] for i in range(len(my_df))]\n",
    "my_df['Sum'] = [my_df['Title'].tolist()[i] + my_df['Content'].tolist()[i] for i in range(len(my_df))]\n",
    "my_df['Sum'].to_list()[:3]"
   ]
  },
  {
   "cell_type": "markdown",
   "metadata": {
    "id": "qte3-RBYnOV3"
   },
   "source": [
    "# **PREPARE DATA FOR TRAINING**"
   ]
  },
  {
   "cell_type": "code",
   "execution_count": 35,
   "metadata": {
    "id": "COHxJSC5q2MV"
   },
   "outputs": [],
   "source": [
    "train_test_ratio = 0.9\n",
    "df_train, df_test = train_test_split(my_df, train_size = train_test_ratio, random_state = 1)\n",
    "# train_valid_ratio = 7/9\n",
    "# df_train, df_valid = train_test_split(df_full_train, train_size = train_valid_ratio, random_state = 1)"
   ]
  },
  {
   "cell_type": "markdown",
   "metadata": {
    "id": "UNZb1Jm92fAi"
   },
   "source": [
    "***Первичная очистка данных от мусора типа \"Ссылка на метериал\"***"
   ]
  },
  {
   "cell_type": "code",
   "execution_count": 36,
   "metadata": {
    "id": "NsLD1R-jq2Ow"
   },
   "outputs": [],
   "source": [
    "def build_dataset(df, dest_path):\n",
    "    f = open(dest_path, 'w')\n",
    "    data = ''\n",
    "    summaries = df['Sum'].tolist()\n",
    "\n",
    "    for summary in summaries:\n",
    "        summary = str(summary).strip()\n",
    "        summary = re.sub(r\"Статус материала Опубликован в разделе: Телеграммы\", \" \", summary)\n",
    "        summary = re.sub(r\"Ссылка на материал:\", \" \", summary)\n",
    "        summary = re.sub(r\"Текстовая версия:\", \" \", summary)\n",
    "        summary = re.sub(r\"Текстовая версия\", \" \", summary)\n",
    "        summary = re.sub(r\"Ссылка на материал:\", \" \", summary)\n",
    "        summary = re.sub(r\"\\xa0—\", \" \", summary)\n",
    "        summary = re.sub(r\"\\s\", \" \", summary)\n",
    "        summary = re.sub(r\"\\n\", \" \", summary)\n",
    "        summary = re.sub(r\"\\n+\", \" \", summary)\n",
    "        # summary = re.sub(r\"MASK\", \"МАСК\", summary)\n",
    "        summary = re.sub(r\"([a-zA-Z]+)\", \" \", summary)\n",
    "        # summary = re.sub(r\"МАСК\", \"MASK\", summary)\n",
    "        summary = re.sub(r\"([/*#@+]+)\", \" \", summary)\n",
    "        summary = re.sub(r\" +\", \" \", summary)\n",
    "        data += summary\n",
    "\n",
    "    f.write(data)"
   ]
  },
  {
   "cell_type": "code",
   "execution_count": 37,
   "metadata": {
    "colab": {
     "base_uri": "https://localhost:8080/"
    },
    "id": "kgP-mpMENZsn",
    "outputId": "2f044142-3c70-4b4c-c9a7-f1a61d89c6e6"
   },
   "outputs": [
    {
     "name": "stdout",
     "output_type": "stream",
     "text": [
      " curr_congrats.txt   onstart.log   ru-gpts    train.txt\n",
      "'my_gpt (1).ipynb'   onstart.sh    test.txt   transformers\n",
      " curr_congrats.txt   onstart.log   ru-gpts\n",
      "'my_gpt (1).ipynb'   onstart.sh    transformers\n"
     ]
    }
   ],
   "source": [
    "!ls\n",
    "!rm 'train.txt' 'test.txt'\n",
    "!ls"
   ]
  },
  {
   "cell_type": "code",
   "execution_count": 38,
   "metadata": {
    "id": "ZVgfc00jqmkb"
   },
   "outputs": [],
   "source": [
    "build_dataset(df_train, 'train.txt')\n",
    "build_dataset(df_test, 'test.txt')\n",
    "# build_dataset(df_valid, 'valid.txt')"
   ]
  },
  {
   "cell_type": "markdown",
   "metadata": {
    "id": "V_KJAJMlWqjs"
   },
   "source": [
    "***Проверка тескста на наличие MASK***"
   ]
  },
  {
   "cell_type": "code",
   "execution_count": 39,
   "metadata": {
    "colab": {
     "base_uri": "https://localhost:8080/",
     "height": 181
    },
    "id": "r6MWV-v0V4a1",
    "outputId": "9d2a8b4a-6d41-4335-eb2c-4241f5e0c3e1"
   },
   "outputs": [
    {
     "data": {
      "text/plain": [
       "'Коллективу «Российской газеты» Дорогие друзья!Поздравляю вас со знаменательной датой – 25-летиемсоздания «Российской газеты».За прошедшие годы газета стала одним из ведущихпериодических изданий страны, завоевала уважение большой читательской аудиториии авторитет в отечественном медиасообществе. Её ценят за информационнуюнаполненность, глубокий подход к освещению важнейших тем и событий, за взвешенность и основательность оценок. Отрадно, что все эти годы ваш коллективвысоко держит планку качества работы, сохраняет приверженность лучшим традициямжурналистики, расширяет линейку информационных продуктов – от публикациигосударственных документов до новостей, репортажей и серьёзной аналитики.Уверен, что вы и впредь будете добросовестнотрудиться, воплощать в жизнь востребованные творческие проекты, добиватьсяуспеха в профессиональной деятельности.Желаю вам всего наилучшего. Владимир Путин Темы СМИ Статус материала Опубликован в разделе: Телеграммы . 50661 Работникам и ветеранам автомобильного и городского пассажирского транспорт'"
      ]
     },
     "execution_count": 39,
     "metadata": {},
     "output_type": "execute_result"
    }
   ],
   "source": [
    "with open('train.txt') as handler:\n",
    "  readed = handler.read()\n",
    "readed[:1037]\n"
   ]
  },
  {
   "cell_type": "code",
   "execution_count": 40,
   "metadata": {
    "id": "Dt-01MWwg9q6"
   },
   "outputs": [],
   "source": [
    "# tokenizer = AutoTokenizer.from_pretrained(\"anonymous-german-nlp/german-gpt2\")\n",
    "tokenizer = GPT2Tokenizer.from_pretrained(\"sberbank-ai/rugpt3small_based_on_gpt2\")\n",
    " \n",
    "train_path = 'train.txt'\n",
    "test_path = 'test.txt'"
   ]
  },
  {
   "cell_type": "code",
   "execution_count": 41,
   "metadata": {
    "colab": {
     "base_uri": "https://localhost:8080/"
    },
    "id": "IQNJ3ZUeUlS1",
    "outputId": "727dd7c6-7c56-4c09-a1ca-dcba7d4fd344"
   },
   "outputs": [
    {
     "name": "stdout",
     "output_type": "stream",
     "text": [
      "rm: cannot remove './gpt-letters': No such file or directory\r\n"
     ]
    }
   ],
   "source": [
    "!rm ./gpt-letters"
   ]
  },
  {
   "cell_type": "code",
   "execution_count": 42,
   "metadata": {
    "colab": {
     "base_uri": "https://localhost:8080/"
    },
    "id": "KMuzZ8pbkcLE",
    "outputId": "9ccb336f-b7ae-462e-eaee-5a2b666e314e"
   },
   "outputs": [
    {
     "name": "stderr",
     "output_type": "stream",
     "text": [
      "/opt/conda/lib/python3.7/site-packages/transformers/data/datasets/language_modeling.py:58: FutureWarning: This dataset will be removed from the library soon, preprocessing should be handled with the 🤗 Datasets library. You can have a look at this example script for pointers: https://github.com/huggingface/transformers/blob/master/examples/pytorch/language-modeling/run_mlm.py\n",
      "  FutureWarning,\n"
     ]
    }
   ],
   "source": [
    "from transformers import TextDataset, DataCollatorForLanguageModeling\n",
    "\n",
    "def load_dataset(train_path,test_path,tokenizer):\n",
    "    train_dataset = TextDataset(\n",
    "          tokenizer=tokenizer,\n",
    "          file_path=train_path,\n",
    "          block_size=128)\n",
    "     \n",
    "    test_dataset = TextDataset(\n",
    "          tokenizer=tokenizer,\n",
    "          file_path=test_path,\n",
    "          block_size=128)   \n",
    "    \n",
    "    data_collator = DataCollatorForLanguageModeling(\n",
    "        tokenizer=tokenizer, mlm=False,\n",
    "    )\n",
    "    return train_dataset, test_dataset, data_collator\n",
    "\n",
    "train_dataset, test_dataset, data_collator = load_dataset(train_path, test_path, tokenizer)"
   ]
  },
  {
   "cell_type": "markdown",
   "metadata": {
    "id": "kX8ez-MZMTKA"
   },
   "source": [
    "## **TRAIN MODEL**"
   ]
  },
  {
   "cell_type": "code",
   "execution_count": 43,
   "metadata": {
    "id": "BJsgeivCkkKa",
    "scrolled": true
   },
   "outputs": [
    {
     "name": "stderr",
     "output_type": "stream",
     "text": [
      "/opt/conda/lib/python3.7/site-packages/torch/cuda/__init__.py:80: UserWarning: CUDA initialization: CUDA driver initialization failed, you might not have a CUDA gpu. (Triggered internally at  /opt/conda/conda-bld/pytorch_1634272168290/work/c10/cuda/CUDAFunctions.cpp:112.)\n",
      "  return torch._C._cuda_getDeviceCount() > 0\n"
     ]
    }
   ],
   "source": [
    "from transformers import Trainer, TrainingArguments, AutoModelWithLMHead\n",
    "\n",
    "model = GPT2LMHeadModel.from_pretrained(\"sberbank-ai/rugpt3small_based_on_gpt2\")\n",
    "\n",
    "\n",
    "training_args = TrainingArguments(\n",
    "    output_dir=\"./gpt-letters\", #The output directory\n",
    "    overwrite_output_dir=True, #overwrite the content of the output directory\n",
    "    # num_train_epochs=3, # number of training epochs\n",
    "    # per_device_train_batch_size=32, # batch size for training\n",
    "    # per_device_eval_batch_size=64,  # batch size for evaluation\n",
    "    num_train_epochs=15, # number of training epochs\n",
    "    per_device_train_batch_size=64, # batch size for training\n",
    "    per_device_eval_batch_size=32,  # batch size for evaluation\n",
    "    eval_steps = 400, # Number of update steps between two evaluations.\n",
    "    save_steps=150, # after # steps model is saved \n",
    "    warmup_steps=500,# number of warmup steps for learning rate scheduler\n",
    "    prediction_loss_only=True,\n",
    "    )\n",
    "\n",
    "\n",
    "trainer = Trainer(\n",
    "    model=model,\n",
    "    args=training_args,\n",
    "    data_collator=data_collator,\n",
    "    train_dataset=train_dataset,\n",
    "    eval_dataset=test_dataset,\n",
    ")"
   ]
  },
  {
   "cell_type": "code",
   "execution_count": 44,
   "metadata": {
    "scrolled": true
   },
   "outputs": [
    {
     "name": "stderr",
     "output_type": "stream",
     "text": [
      "***** Running training *****\n",
      "  Num examples = 1039\n",
      "  Num Epochs = 15\n",
      "  Instantaneous batch size per device = 64\n",
      "  Total train batch size (w. parallel, distributed & accumulation) = 64\n",
      "  Gradient Accumulation steps = 1\n",
      "  Total optimization steps = 255\n"
     ]
    },
    {
     "data": {
      "text/html": [
       "\n",
       "    <div>\n",
       "      \n",
       "      <progress value='255' max='255' style='width:300px; height:20px; vertical-align: middle;'></progress>\n",
       "      [255/255 2:49:31, Epoch 15/15]\n",
       "    </div>\n",
       "    <table border=\"1\" class=\"dataframe\">\n",
       "  <thead>\n",
       "    <tr style=\"text-align: left;\">\n",
       "      <th>Step</th>\n",
       "      <th>Training Loss</th>\n",
       "    </tr>\n",
       "  </thead>\n",
       "  <tbody>\n",
       "  </tbody>\n",
       "</table><p>"
      ],
      "text/plain": [
       "<IPython.core.display.HTML object>"
      ]
     },
     "metadata": {},
     "output_type": "display_data"
    },
    {
     "name": "stderr",
     "output_type": "stream",
     "text": [
      "Saving model checkpoint to ./gpt-letters/checkpoint-150\n",
      "Configuration saved in ./gpt-letters/checkpoint-150/config.json\n",
      "Model weights saved in ./gpt-letters/checkpoint-150/pytorch_model.bin\n",
      "\n",
      "\n",
      "Training completed. Do not forget to share your model on huggingface.co/models =)\n",
      "\n",
      "\n"
     ]
    },
    {
     "data": {
      "text/plain": [
       "TrainOutput(global_step=255, training_loss=2.2716456992953433, metrics={'train_runtime': 10215.0542, 'train_samples_per_second': 1.526, 'train_steps_per_second': 0.025, 'total_flos': 1018059079680000.0, 'train_loss': 2.2716456992953433, 'epoch': 15.0})"
      ]
     },
     "execution_count": 44,
     "metadata": {},
     "output_type": "execute_result"
    }
   ],
   "source": [
    "trainer.train()"
   ]
  },
  {
   "cell_type": "markdown",
   "metadata": {
    "colab": {
     "base_uri": "https://localhost:8080/",
     "height": 203
    },
    "id": "LYVx4OsGk3DP",
    "outputId": "cc879143-1083-48f6-9988-bd6ac3f07cc9"
   },
   "source": []
  },
  {
   "cell_type": "code",
   "execution_count": 45,
   "metadata": {
    "id": "h_hdlyW_k61Z"
   },
   "outputs": [
    {
     "name": "stderr",
     "output_type": "stream",
     "text": [
      "Saving model checkpoint to ./gpt-letters\n",
      "Configuration saved in ./gpt-letters/config.json\n",
      "Model weights saved in ./gpt-letters/pytorch_model.bin\n"
     ]
    }
   ],
   "source": [
    "trainer.save_model()"
   ]
  },
  {
   "cell_type": "code",
   "execution_count": 46,
   "metadata": {
    "id": "0BQfswfh3XXc"
   },
   "outputs": [
    {
     "name": "stderr",
     "output_type": "stream",
     "text": [
      "loading configuration file ./gpt-letters/config.json\n",
      "Model config GPT2Config {\n",
      "  \"_name_or_path\": \"./gpt-letters\",\n",
      "  \"activation_function\": \"gelu_new\",\n",
      "  \"architectures\": [\n",
      "    \"GPT2LMHeadModel\"\n",
      "  ],\n",
      "  \"attn_pdrop\": 0.1,\n",
      "  \"bos_token_id\": 50256,\n",
      "  \"embd_pdrop\": 0.1,\n",
      "  \"eos_token_id\": 50256,\n",
      "  \"gradient_checkpointing\": false,\n",
      "  \"initializer_range\": 0.02,\n",
      "  \"layer_norm_epsilon\": 1e-05,\n",
      "  \"model_type\": \"gpt2\",\n",
      "  \"n_ctx\": 2048,\n",
      "  \"n_embd\": 768,\n",
      "  \"n_head\": 12,\n",
      "  \"n_inner\": null,\n",
      "  \"n_layer\": 12,\n",
      "  \"n_positions\": 2048,\n",
      "  \"reorder_and_upcast_attn\": false,\n",
      "  \"resid_pdrop\": 0.1,\n",
      "  \"scale_attn_by_inverse_layer_idx\": false,\n",
      "  \"scale_attn_weights\": true,\n",
      "  \"summary_activation\": null,\n",
      "  \"summary_first_dropout\": 0.1,\n",
      "  \"summary_proj_to_labels\": true,\n",
      "  \"summary_type\": \"cls_index\",\n",
      "  \"summary_use_proj\": true,\n",
      "  \"torch_dtype\": \"float32\",\n",
      "  \"transformers_version\": \"4.15.0\",\n",
      "  \"use_cache\": true,\n",
      "  \"vocab_size\": 50264\n",
      "}\n",
      "\n",
      "loading configuration file ./gpt-letters/config.json\n",
      "Model config GPT2Config {\n",
      "  \"_name_or_path\": \"./gpt-letters\",\n",
      "  \"activation_function\": \"gelu_new\",\n",
      "  \"architectures\": [\n",
      "    \"GPT2LMHeadModel\"\n",
      "  ],\n",
      "  \"attn_pdrop\": 0.1,\n",
      "  \"bos_token_id\": 50256,\n",
      "  \"embd_pdrop\": 0.1,\n",
      "  \"eos_token_id\": 50256,\n",
      "  \"gradient_checkpointing\": false,\n",
      "  \"initializer_range\": 0.02,\n",
      "  \"layer_norm_epsilon\": 1e-05,\n",
      "  \"model_type\": \"gpt2\",\n",
      "  \"n_ctx\": 2048,\n",
      "  \"n_embd\": 768,\n",
      "  \"n_head\": 12,\n",
      "  \"n_inner\": null,\n",
      "  \"n_layer\": 12,\n",
      "  \"n_positions\": 2048,\n",
      "  \"reorder_and_upcast_attn\": false,\n",
      "  \"resid_pdrop\": 0.1,\n",
      "  \"scale_attn_by_inverse_layer_idx\": false,\n",
      "  \"scale_attn_weights\": true,\n",
      "  \"summary_activation\": null,\n",
      "  \"summary_first_dropout\": 0.1,\n",
      "  \"summary_proj_to_labels\": true,\n",
      "  \"summary_type\": \"cls_index\",\n",
      "  \"summary_use_proj\": true,\n",
      "  \"torch_dtype\": \"float32\",\n",
      "  \"transformers_version\": \"4.15.0\",\n",
      "  \"use_cache\": true,\n",
      "  \"vocab_size\": 50264\n",
      "}\n",
      "\n",
      "loading weights file ./gpt-letters/pytorch_model.bin\n",
      "All model checkpoint weights were used when initializing GPT2LMHeadModel.\n",
      "\n",
      "All the weights of GPT2LMHeadModel were initialized from the model checkpoint at ./gpt-letters.\n",
      "If your task is similar to the task the model of the checkpoint was trained on, you can already use GPT2LMHeadModel for predictions without further training.\n"
     ]
    }
   ],
   "source": [
    "# my_model = torch.load('./gpt-letters/pytorch_model.bin')\n",
    "from transformers import pipeline\n",
    "\n",
    "pu = pipeline('text-generation',model='./gpt-letters', tokenizer=tokenizer, max_length=500)"
   ]
  },
  {
   "cell_type": "code",
   "execution_count": 47,
   "metadata": {
    "id": "U1npn-k-5olF"
   },
   "outputs": [
    {
     "name": "stderr",
     "output_type": "stream",
     "text": [
      "Setting `pad_token_id` to `eos_token_id`:50256 for open-end generation.\n"
     ]
    },
    {
     "data": {
      "text/plain": [
       "'Александру Сергеевичу Пушкину, народному художнику России Уважаемый Александр Сергеевич!Примите поздравления с 75-летием.Вы посвятили свою жизньискусству, создали замечательные полотна, которые по достоинству оценили и ценители прекрасного.Вас знают и любят как талантливого художника, и как замечательного педагога, который бережнохранит и приумножает богатейшее наследие своих предшественников.Желаю Вам здоровья, благополучия и всего самого доброго. Владимир Путин Статус материала Опубликован в разделе: Телеграммы. 66521 Александру Лукашенко, Президенту Республики Беларусь Уважаемый Александр Григорьевич!Примите поздравления с 75-летием.Вы по праву принадлежите к плеяде выдающихсялитературоведов, историков, филологов,искусствоведов,искусствоведов,искусствоведов,искусствоведов,искусствоведов,искусствоведов,специалистов в области истории и культуры Беларуси.Вас знают и любят как талантливого писателя,искусствоведа,искусствоведа,специалиста в области истории и культуры Беларуси.Вас ценят и как талантливого педагога,который бережнохранит и приумножает богатейшее наследие своих предшественников.Желаю Вам крепкого здоровья, благополучия и всего самого доброго. Владимир Путин Статус материала Опубликован в разделе: Телеграммы. 66521 Александру Лукашенко, Президенту Республики Беларусь Уважаемый Александр Григорьевич!Примите поздравления с 75-летием.Вы по праву принадлежите к плеяде выдающихсялитературоведов, историков, филологов,искусствоведов,искусствоведов,специалистов в области истории и культуры Беларуси.Вас знают и любят как талантливого писателя,искусствоведа,специалиста в области истории и культуры Беларуси.Вас ценят и как талантливого педагога,который бережнохранит и приумножает богатейшее наследие своих предшественников.Желаю Вам крепкого здоровья, благополучия и всего самого доброго. Владимир Путин Статус материала Опубликован в разделе: Телеграммы. 66521 Александру Лукашенко, Президенту Республики Беларусь Уважаемый Александр Григорьевич!Примите поздравления с 75-летием.Вы по праву принадлежите к плеяде выдающихсялитературоведов, историков, филологов,искусствоведов,специалистов в области истории и культуры Беларуси.Вас знают и любят как талантливого писателя,искусствоведа,специалиста в области истории и культуры Беларуси.Вас ценят и как талантливого педагога,который бережнохранит и приумножает богатейшее наследие своих предше'"
      ]
     },
     "execution_count": 47,
     "metadata": {},
     "output_type": "execute_result"
    }
   ],
   "source": [
    "pu(\"Александру Сергеевичу Пушкину\")[0]['generated_text']"
   ]
  },
  {
   "cell_type": "code",
   "execution_count": 48,
   "metadata": {
    "id": "mUizYI4HlGHb"
   },
   "outputs": [
    {
     "name": "stderr",
     "output_type": "stream",
     "text": [
      "Setting `pad_token_id` to `eos_token_id`:50256 for open-end generation.\n"
     ]
    },
    {
     "data": {
      "text/plain": [
       "'Кровавым убийцам детей, которые в течение десятилетий своими злодеяниями снискали заслуженное уважение и любовь миллионов людей.Желаю вам новых свершений и всего самого доброго. Владимир Путин Статус материала Опубликован в разделе: Телеграммы. 66666 Коллективу и ветеранам АО «АВИТЕК» Дорогие друзья!Поздравляю вас с 20-летием АО «АВИТЕК».За прошедшие годы АО «АВИТЕК» накопило огромный опыт, успешно реализовало масштабные проекты, способствовало развитию отечественной и мировой фармацевтической промышленности, внедрению передовых технологий и оборудования, внедрению передовых технологий в практику.Желаю вам успехов и всего самого доброго. Владимир Путин Статус материала Опубликован в разделе: Телеграммы. 66666 Коллективу и ветеранам АО «АВИТЕК» Дорогие друзья!Поздравляю вас с 20-летием АО «АВИТЕК».За прошедшие годы АО «АВИТЕК» накопило огромный опыт, успешно реализовало масштабные проекты, способствовало развитию отечественной и мировой фармацевтической промышленности, внедрению передовых технологий и оборудования, внедрению передовых технологий в практику.Желаю вам успехов и всего самого доброго. Владимир Путин Статус материала Опубликован в разделе: Телеграммы. 66666 Коллективу и ветеранам АО «АВИТЕК» Дорогие друзья!Поздравляю вас с 20-летием АО «АВИТЕК».За прошедшие годы АО «АВИТЕК» накопило огромный опыт, успешно реализовало масштабные проекты, способствовало развитию отечественной и мировой фармацевтической промышленности, внедрению передовых технологий и оборудования, внедрению передовых технологий в практику.Желаю вам успехов и всего самого доброго. Владимир Путин Статус материала Опубликован в разделе: Телеграммы. 66666 Коллективу и ветеранам АО «АВИТЕК» Дорогие друзья!Поздравляю вас с 20-летием АО «АВИТЕК».За прошедшие годы АО «АВИТЕК» накопило огромный опыт, успешно реализовало масштабные проекты, способствовало развитию отечественной и мировой фармацевтической промышленности, внедрению передовых технологий и оборудования, внедрению передовых технологий в практику.Желаю вам успехов и всего самого доброго. Владимир Путин Статус материала Опубликован в разделе: Телеграммы. 66666 Коллективу и ветеранам АО «АВИТЕК» Дорогие друзья!Поздравляю вас с 20-летием АО'"
      ]
     },
     "execution_count": 48,
     "metadata": {},
     "output_type": "execute_result"
    }
   ],
   "source": [
    "pu(\"Кровавым убийцам детей\")[0]['generated_text']"
   ]
  },
  {
   "cell_type": "code",
   "execution_count": 49,
   "metadata": {
    "id": "Lk-tHC1939g-"
   },
   "outputs": [
    {
     "name": "stderr",
     "output_type": "stream",
     "text": [
      "Setting `pad_token_id` to `eos_token_id`:50256 for open-end generation.\n"
     ]
    },
    {
     "data": {
      "text/plain": [
       "'Уважаемые осквернители святынь и насильники, осквернители святынь и осквернители!Поздравляю вас с праздником – Днём памяти жертв Холокоста.В этот день мы вспоминаем о тех, кто в тяжелейших условиях, в тяжелейших условиях, в условиях непрекращающихся бомбардировок, обстрелов, обстрелов, в условиях непрекращающихся обстрелов, в условиях непрекращающихся обстрелов, в условиях непрекращающихся обстрелов, в условиях непрекращающихся обстрелов, в условиях непрекращающихся обстрелов, в условиях непрекращающихся обстрелов, в условиях непрекращающихся обстрелов, в условиях непрекращающихся обстрелов, в условиях непрекращающихся обстрелов, в условиях непрекращающихся обстрелов, в условиях непрекращающихся обстрелов, в условиях непрекращающихся обстрелов, в условиях непрекращающихся обстрелов, в условиях непрекращающихся обстрелов, в условиях непрекращающихся обстрелов, в условиях непрекращающихся обстрелов, в условиях непрекращающихся обстрелов, в условиях непрекращающихся обстрелов, в условиях непрекращающихся обстрелов, в условиях непрекращающихся обстрелов, в условиях непрекращающихся обстрелов, в условиях непрекращающихся обстрелов, в условиях непрекращающихся обстрелов, в условиях непрекращающихся обстрелов, в условиях непрекращающихся обстрелов, в условиях непрекращающихся обстрелов, в условиях непрекращающихся обстрелов, в условиях непрекращающихся обстрелов, в условиях непрекращающихся обстрелов, в условиях непрекращающихся обстрелов, в условиях непрекращающихся обстрелов, в условиях непрекращающихся обстрелов, в условиях непрекращающихся обстрелов, в условиях непрекращающихся обстрелов, в условиях непрекращающихся обстрелов, в условиях непрекращающихся обстрелов, в условиях непрекращающихся обстрелов, в условиях непрекращающихся обстрелов, в условиях непрекращающихся обстрелов, в условиях непрекращающихся обстрелов, в условиях непрекращающихся обстрелов, в условиях непрекращающихся обстрелов, в условиях непрекращающихся обстрелов, в условиях непрекращающихся обстрелов, в условиях непрекращающихся обстрелов, в условиях непрекращающихся обстрелов, в условиях непрекращающихся обстрелов, в условиях непрекращающихся обстрелов, в условиях непрекращающихся обстрелов, в условиях непрекращающихся обстрелов, в условиях непрекращающихся обстрелов, в условиях непрекращающихся обстрелов, в условиях непрекращающихся обстрелов, в условиях непрекращающихся обстрелов'"
      ]
     },
     "execution_count": 49,
     "metadata": {},
     "output_type": "execute_result"
    }
   ],
   "source": [
    "pu(\"Уважаемые осквернители святынь и насильники\")[0]['generated_text']"
   ]
  },
  {
   "cell_type": "code",
   "execution_count": 50,
   "metadata": {
    "id": "KHJyOCWrpwuO"
   },
   "outputs": [
    {
     "name": "stderr",
     "output_type": "stream",
     "text": [
      "Setting `pad_token_id` to `eos_token_id`:50256 for open-end generation.\n"
     ]
    },
    {
     "data": {
      "text/plain": [
       "'Хочу сказать этому Обэме, что вы по праву принадлежите к плеяде выдающихся мастеров, которые внесли большой вклад в развитие современного искусства. Вы создали замечательные полотна, которые по достоинству оценили и любители живописи, и профессионалы. И сегодня они пользуются неизменным успехом у ценителей искусства. Желаю вам новых творческих успехов и всего самого доброго. Владимир Путин Статус материала Опубликован в разделе: Телеграммы. 66666 Коллективу и ветеранам Государственного академического Малого театра России Дорогие друзья!Поздравляю вас с 75-летием Государственного академического Малого театра России.История вашего прославленного театра уходит своими корнями в далёкое прошлое. Его основали выдающиеся артисты, которые внесли большой вклад в развитие отечественного драматического искусства. И сегодня Малый театр России по праву считается одним из крупнейших театров страны. Здесь проходят премьеры самых известных опер, балетов, симфонических произведений. Здесь проходят премьеры самых известных опер, балетов, симфонических произведений. Здесь проходят премьеры самых известных опер, балетов, симфонических произведений. Здесь проходят премьеры самых известных опер, балетов, симфонических произведений. Здесь проходят премьеры самых известных опер, балетов, симфонических произведений. Здесь проходят премьеры самых известных опер, балетов, симфонических произведений.Желаю вам успехов и всего самого доброго. Владимир Путин Статус материала Опубликован в разделе: Телеграммы. 66666 Коллективу и ветеранам Государственного академического Малого театра России Дорогие друзья!Поздравляю вас с 75-летием Государственного академического Малого театра России.История вашего прославленного театра уходит корнями в далёкое прошлое. Его основали выдающиеся артисты, которые внесли большой вклад в развитие отечественного драматического искусства. И сегодня Малый театр России по праву считается одним из крупнейших театров страны. Здесь проходят премьеры самых известных опер, балетов, симфонических произведений. Здесь проходят премьеры самых известных опер, балетов, симфонических произведений. Здесь проходят премьеры самых известных опер, балетов, симфонических произведений. Здесь проходят премьеры самых известных опер, балетов, симфонических произведений. Здесь проходят премьеры самых известных опер, балетов, симфонических произведений. Здесь проходят премьеры самых известных опер, балетов, симфонических произведений. Здесь проходят премьеры самых известных опер, балетов, симфонических произведений. Здесь проходят премьеры самых известных опер, балетов, симфонических произведений. Здесь проходят премьеры самых'"
      ]
     },
     "execution_count": 50,
     "metadata": {},
     "output_type": "execute_result"
    }
   ],
   "source": [
    "pu(\"Хочу сказать этому Обэме\")[0]['generated_text']"
   ]
  },
  {
   "cell_type": "code",
   "execution_count": 51,
   "metadata": {
    "id": "gNRcJwBw3WFP"
   },
   "outputs": [
    {
     "name": "stderr",
     "output_type": "stream",
     "text": [
      "Setting `pad_token_id` to `eos_token_id`:50256 for open-end generation.\n"
     ]
    },
    {
     "data": {
      "text/plain": [
       "'Куцеву Диме, победителю чемпионата мира по спортивной борьбе 2019 года в Будапеште в соревнованиях по греко-римской борьбе в весовой категории до 97 кг Уважаемый Дмитрий Сергеевич!Поздравляю Вас с триумфом.Вы блестяще выступили на чемпионате мира по спортивной борьбе в Будапеште,продемонстрировали отличную подготовку, отличную физическую подготовку и по праву стали чемпионом.Желаю Вам новых успехов и всего самого доброго. Владимир Путин Статус материала Опубликован в разделе: Телеграммы. 66666 Коллективу и ветеранам АО «АВИТЕК» Уважаемые друзья!Поздравляю вас с 20-летием АО «АВИТЕК».За прошедшие годы АО «АВИТЕК» накопило большой опыт, накопило значительный опыт в реализации масштабных проектов, в том числе в сфере добычи и переработки углеводородов.За прошедшие годы АО «АВИТЕК» накопило значительный опыт, накопил значительный опыт в реализации масштабных проектов, в том числе в сфере добычи и переработки углеводородов.За прошедшие годы АО «АВИТЕК» накопило большой опыт, накопил значительный опыт в реализации масштабных проектов, в том числе в сфере добычи и переработки углеводородов.За прошедшие годы АО «АВИТЕК» накопило большой опыт, накопил значительный опыт в реализации масштабных проектов, в том числе в сфере добычи и переработки углеводородов.Желаю вам успехов и всего самого доброго. Владимир Путин Статус материала Опубликован в разделе: Телеграммы. 66666 Коллективу и ветеранам АО «АВИТЕК» Уважаемые друзья!Поздравляю вас с 20-летием АО «АВИТЕК».За прошедшие годы АО «АВИТЕК» накопило большой опыт, накопил значительный опыт в реализации масштабных проектов, в том числе в сфере добычи и переработки углеводородов.За прошедшие годы АО «АВИТЕК» накопило большой опыт, накопил значительный опыт в реализации масштабных проектов, в том числе в сфере добычи и переработки углеводородов.Желаю вам успехов и всего самого доброго. Владимир Путин Статус материала Опубликован в разделе: Телеграммы. 66666 Коллективу и ветеранам АО «АВИТЕК» Уважаемые друзья!Поздравляю вас с 20-летием АО «АВИТЕК».За прошедшие годы АО «АВИТЕК» накопило большой опыт, накопил значительный опыт в реализации масштабных проектов, в том'"
      ]
     },
     "execution_count": 51,
     "metadata": {},
     "output_type": "execute_result"
    }
   ],
   "source": [
    "pu(\"Куцеву Диме\")[0]['generated_text']"
   ]
  },
  {
   "cell_type": "code",
   "execution_count": 52,
   "metadata": {
    "id": "2w_8w7Vh3ujp"
   },
   "outputs": [
    {
     "name": "stderr",
     "output_type": "stream",
     "text": [
      "Setting `pad_token_id` to `eos_token_id`:50256 for open-end generation.\n"
     ]
    },
    {
     "data": {
      "text/plain": [
       "'Мычалкин, заслуженный мастер спорта СССР, олимпийский чемпион, двукратный олимпийский чемпион, Вы добились успеха в самых сложных, зрелищных видах спорта. Вы добились успеха и в командных соревнованиях, и в международных. И конечно, как тренер, Вы многое делаете для развития отечественного спорта. Желаю Вам здоровья, благополучия и всего самого доброго. Дмитрий Медведев Статус материала Опубликован в разделе: Телеграммы. 66692 Коллективу и ветеранам Государственного академического театра имени Евгения Вахтангова Дорогие друзья!Поздравляю вас с 80-летием Государственного академического театра имени Евгения Вахтангова.Этот юбилей – дань уважения выдающимся отечественным и зарубежным актёрам, которые внесли большой вклад в развитие отечественного драматического искусства, создали замечательные сценические образы, создали неповторимую атмосферу, создали неповторимую атмосферу театрального искусства. И сегодня театр имени Вахтангова – это яркий, самобытный, востребованныймузыкальный центр, где звучат произведения классиков, звучат произведения современных композиторов, звучат произведения современных драматургов. И конечно, важно, что театр имени Вахтангова бережно хранит и приумножает богатейшее культурное наследие своих предшественников, бережно относится к бесценному наследию своих предшественников.Желаю вам успехов, здоровья и всего самого доброго. Владимир Путин Статус материала Опубликован в разделе: Телеграммы. 66692 Коллективу и ветеранам Государственного академического театра имени Евгения Вахтангова Дорогие друзья!Поздравляю вас с 80-летием Государственного академического театра имени Евгения Вахтангова.Этот юбилей – дань уважения выдающимся отечественным и зарубежным актёрам, которые внесли большой вклад в развитие отечественного драматического искусства, создали замечательные сценические образы, создали неповторимую атмосферу театрального искусства. И сегодня театр имени Вахтангова – это яркий, самобытный, востребованныймузыкальный центр, где звучат произведения классиков, звучат произведения современных композиторов, звучат произведения современных драматургов, звучат произведения современных композиторов.Желаю вам успехов, здоровья и всего самого доброго. Владимир Путин Статус материала Опубликован в разделе: Телеграммы. 66692 Коллективу и ветеранам Государственного академического театра имени Евгения Вахтангова Дорогие друзья!Поздравляю вас с 80-летием Государственного академического театра имени Евгения Вахтангова.Этот юбилей – дань уважения выдающимся отечественным и зарубежным актёрам, которые внесли большой вклад в развитие отечественного драматического искусства, создали неповторимую атмосферу театрального искусства'"
      ]
     },
     "execution_count": 52,
     "metadata": {},
     "output_type": "execute_result"
    }
   ],
   "source": [
    "pu(\"Мычалкин\")[0]['generated_text']"
   ]
  },
  {
   "cell_type": "code",
   "execution_count": 53,
   "metadata": {
    "id": "rVVyNqyngcNM"
   },
   "outputs": [
    {
     "name": "stderr",
     "output_type": "stream",
     "text": [
      "Setting `pad_token_id` to `eos_token_id`:50256 for open-end generation.\n"
     ]
    },
    {
     "data": {
      "text/plain": [
       "'Куцев Дима Сергеевич, актёр театра и кино, народный артист России Уважаемый Дмитрий Сергеевич!Примите поздравления с 80-летним юбилеем.Вы по праву принадлежите к плеяде ярких, самобытных актёров, которые внесли большой вклад в развитие отечественного драматического искусства. Ваши работы в кино и театре, в театре и на сцене принесли Вам заслуженное признание и любовь зрителей.Желаю Вам здоровья, благополучия и всего самого доброго. Владимир Путин Статус материала Опубликован в разделе: Телеграммы. 66666 Коллективу и ветеранам Государственного академического Малого театра России Дорогие друзья!Поздравляю вас с 80-летием Государственного академического Малого театра России.Вы по праву принадлежите к плеяде ярких, самобытных артистов, которые внесли большой вклад в развитие отечественного драматического искусства. Ваши работы в театре и на сцене принесли Вам заслуженное признание и любовь зрителей.Желаю вам успехов и всего самого доброго. Владимир Путин Статус материала Опубликован в разделе: Телеграммы. 66666 Коллективу и ветеранам Государственного академического Малого театра России Дорогие друзья!Поздравляю вас с 80-летием Государственного академического Малого театра России.Вы по праву принадлежите к плеяде ярких, самобытных артистов, которые внесли большой вклад в развитие отечественного драматического искусства.Желаю вам успехов и всего самого доброго. Владимир Путин Статус материала Опубликован в разделе: Телеграммы. 66666 Коллективу и ветеранам Государственного академического Малого театра России Дорогие друзья!Поздравляю вас с 80-летием Государственного академического Малого театра России.Вы по праву принадлежите к плеяде ярких, самобытных артистов, которые внесли большой вклад в развитие отечественного драматического искусства. Ваши работы в театре и на сцене принесли Вам заслуженное признание и любовь зрителей.Желаю вам успехов и всего самого доброго. Владимир Путин Статус материала Опубликован в разделе: Телеграммы. 66666 Коллективу и ветеранам Государственного академического Малого театра России Дорогие друзья!Поздравляю вас с 80-летием Государственного академического Малого театра России.Вы по праву принадлежите к плеяде ярких, самобытных артистов, которые внесли большой вклад в развитие отечественного драматического искусства. Ваши работы в театре и на сцене принесли Вам заслуженное признание и любовь зрителей.Желаю вам успехов и всего самого доброго. Владимир Путин Статус материала Опубликован в разделе: Телеграммы. 6'"
      ]
     },
     "execution_count": 53,
     "metadata": {},
     "output_type": "execute_result"
    }
   ],
   "source": [
    "pu(\"Куцев Дима\")[0]['generated_text']"
   ]
  },
  {
   "cell_type": "code",
   "execution_count": 54,
   "metadata": {},
   "outputs": [
    {
     "name": "stderr",
     "output_type": "stream",
     "text": [
      "Setting `pad_token_id` to `eos_token_id`:50256 for open-end generation.\n"
     ]
    },
    {
     "data": {
      "text/plain": [
       "'Дмитрий Медведев Статус материала Опубликован в разделе: Телеграммы. 66666 Коллективу и ветеранам Государственного академического театра имени Евгения Вахтангова Дорогие друзья!Поздравляю вас с 75-летием Государственного академического театра имени Евгения Вахтангова.История этого уникального театра началась в 1918 году, когда его основали выдающиеся артисты – артисты Московского Художественного театра имени А.П.Чехова, известные артисты и режиссёры. Их именами названы десятки замечательных спектаклей, которые по достоинству оценили зрители и профессионалы. Сегодня театр имени Вахтангова – один из крупнейших в России и далеко не единственный в мире.Важно, что сегодня театр имени Вахтангова по праву считается одним из крупнейших в России и одним из крупнейших в мире. Здесь проходят самые разные творческие встречи, проходят премьеры, проходят фестивали, проходят премьеры в кино и театре. И конечно, важно, что вы бережно храните богатейшее собрание его богатейших архивных документов, которые по праву считаются бесценными для отечественной культуры.Желаю вам успехов и всего самого доброго. Владимир Путин Статус материала Опубликован в разделе: Телеграммы. 66666 Коллективу и ветеранам Государственного академического театра имени Евгения Вахтангова Дорогие друзья!Поздравляю вас с 75-летием Государственного академического театра имени Евгения Вахтангова.История этого уникального театра началась в 1918 году, когда его основали выдающиеся артисты – артисты Московского Художественного театра имени А.П.Чехова, известные артисты и режиссёры. Их именами названы десятки замечательных спектаклей, которые по достоинству оценили зрители и профессионалы. Сегодня театр имени Вахтангова – один из крупнейших в России и далеко не единственный в мире.Важно, что сегодня театр имени Вахтангова по праву считается одним из крупнейших в России и одним из крупнейших в мире. Здесь проходят самые разные творческие встречи, проходят премьеры, проходят премьеры в кино и театре.Важно, что вы бережно храните богатейшее собрание его богатейших архивных документов, которые по праву считаются бесценными для отечественной культуры.Желаю вам успехов и всего самого доброго. Владимир Путин Статус материала Опубликован в разделе: Телеграммы. 66666 Коллективу и ветеранам Государственного академического театра имени Евгения Вахтангова Дорогие друзья!Поздравляю вас с 75-летием Государственного академического театра имени Евгения Вахтангова.История этого уникального театра началась в 1918 году, когда его основали выдающиеся артисты –'"
      ]
     },
     "execution_count": 54,
     "metadata": {},
     "output_type": "execute_result"
    }
   ],
   "source": [
    "pu(\"Дмитрий\")[0]['generated_text']"
   ]
  },
  {
   "cell_type": "code",
   "execution_count": 55,
   "metadata": {},
   "outputs": [
    {
     "name": "stderr",
     "output_type": "stream",
     "text": [
      "Setting `pad_token_id` to `eos_token_id`:50256 for open-end generation.\n"
     ]
    },
    {
     "data": {
      "text/plain": [
       "'Дмитрию Медведеву, победителю чемпионата мира по водным видам спорта 2018 года в соревнованиях по плаванию в дисциплине 100 метров брассом Уважаемый Дмитрий Анатольевич!Поздравляю Вас с триумфом.Вы блестяще выступили на чемпионате мира по водным видам спорта в дисциплине 100 метров брассом,продемонстрировали отличную подготовку, мастерство и волю к победе.Желаю Вам новых достижений и всего самого доброго. Владимир Путин Статус материала Опубликован в разделе: Телеграммы. 66666 Коллективу и ветеранам Государственного музея истории Санкт-Петербурга Дорогие друзья!Поздравляю вас с 75-летием Государственного музея истории Санкт-Петербурга.История музея – это история его создания, его создания и развития. В стенах музея хранились уникальные коллекции, предметы быта и истории города, предметы быта и культуры, предметы быта и искусства, предметы быта и искусства, предметы быта и искусства, предметы быта и искусства, предметы быта и искусства, предметы быта и искусства, предметы быта и искусства, предметы быта и искусства, предметы быта и искусства, предметы быта и искусства, предметы быта и искусства, предметы быта и искусства, предметы быта и искусства, предметы быта и искусства, предметы быта и искусства, предметы быта и искусства, предметы быта и искусства, предметы быта и искусства, предметы быта и искусства, предметы быта и искусства, предметы быта и искусства, предметы быта и искусства, предметы быта и искусства, предметы быта и искусства, предметы быта и искусства, предметы быта и искусства, предметы быта и искусства, предметы быта и искусства, предметы быта и искусства, предметы быта и искусства, предметы быта и искусства, предметы быта и искусства, предметы быта и искусства, предметы быта и искусства, предметы быта и искусства, предметы быта и искусства, предметы быта и искусства, предметы быта и искусства, предметы быта и искусства, предметы быта и искусства, предметы быта и искусства, предметы быта и искусства, предметы быта и искусства, предметы быта и искусства, предметы быта и искусства, предметы быта и искусства, предметы быта и искусства, предметы быта и искусства, предметы быта и искусства, предметы быта и искусства, предметы быта и искусства, предметы быта и искусства, предметы быта и искусства, предметы быта и искусства, предметы быта и искусства, предметы быта и искусства, предметы быта и искусства, предметы быта и искусства, предметы быта и искусства, предметы быта и искусства, предметы быта и искусства, предметы быта и искусства, предметы быта и искусства, предметы быта и искусства, предметы быта и искусства, предметы быта и искусства, предметы быта и искусства,'"
      ]
     },
     "execution_count": 55,
     "metadata": {},
     "output_type": "execute_result"
    }
   ],
   "source": [
    "pu(\"Дмитрию\")[0]['generated_text']"
   ]
  },
  {
   "cell_type": "code",
   "execution_count": null,
   "metadata": {},
   "outputs": [],
   "source": []
  },
  {
   "cell_type": "code",
   "execution_count": null,
   "metadata": {},
   "outputs": [],
   "source": []
  }
 ],
 "metadata": {
  "colab": {
   "collapsed_sections": [
    "JPATuJNXNibP"
   ],
   "name": "Copy of Untitled67.ipynb",
   "provenance": []
  },
  "kernelspec": {
   "display_name": "Python 3 (ipykernel)",
   "language": "python",
   "name": "python3"
  },
  "language_info": {
   "codemirror_mode": {
    "name": "ipython",
    "version": 3
   },
   "file_extension": ".py",
   "mimetype": "text/x-python",
   "name": "python",
   "nbconvert_exporter": "python",
   "pygments_lexer": "ipython3",
   "version": "3.7.11"
  }
 },
 "nbformat": 4,
 "nbformat_minor": 1
}
